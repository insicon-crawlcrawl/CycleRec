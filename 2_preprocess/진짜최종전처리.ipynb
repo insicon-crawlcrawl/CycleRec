{
 "cells": [
  {
   "cell_type": "code",
   "execution_count": 1,
   "id": "4a69a57d",
   "metadata": {},
   "outputs": [],
   "source": [
    "import pandas as pd\n",
    "import numpy as np\n",
    "import matplotlib.pyplot as plt\n",
    "import seaborn as sns\n",
    "import datetime as dt"
   ]
  },
  {
   "cell_type": "code",
   "execution_count": 2,
   "id": "6873df10",
   "metadata": {},
   "outputs": [
    {
     "name": "stdout",
     "output_type": "stream",
     "text": [
      "<class 'pandas.core.frame.DataFrame'>\n",
      "RangeIndex: 812493 entries, 0 to 812492\n",
      "Data columns (total 13 columns):\n",
      " #   Column             Non-Null Count   Dtype  \n",
      "---  ------             --------------   -----  \n",
      " 0   ASIN               812493 non-null  object \n",
      " 1   Title              812237 non-null  object \n",
      " 2   Rating             808478 non-null  object \n",
      " 3   Rating Count       806005 non-null  float64\n",
      " 4   Bought Last Month  152710 non-null  object \n",
      " 5   Category 1         783590 non-null  object \n",
      " 6   Category 2         783590 non-null  object \n",
      " 7   Category 3         774353 non-null  object \n",
      " 8   Category 4         683405 non-null  object \n",
      " 9   Category 5         381661 non-null  object \n",
      " 10  Category 6         89433 non-null   object \n",
      " 11  Category 7         18784 non-null   object \n",
      " 12  Category 8         377 non-null     object \n",
      "dtypes: float64(1), object(12)\n",
      "memory usage: 80.6+ MB\n"
     ]
    }
   ],
   "source": [
    "product = pd.read_csv('amazon-web-category-ver4.csv')\n",
    "product.info()"
   ]
  },
  {
   "cell_type": "code",
   "execution_count": 3,
   "id": "976ee886",
   "metadata": {},
   "outputs": [],
   "source": [
    "product.drop('Bought Last Month', axis = 1, inplace = True)"
   ]
  },
  {
   "cell_type": "code",
   "execution_count": 4,
   "id": "d5714f28",
   "metadata": {},
   "outputs": [
    {
     "data": {
      "application/vnd.microsoft.datawrangler.viewer.v0+json": {
       "columns": [
        {
         "name": "index",
         "rawType": "int64",
         "type": "integer"
        },
        {
         "name": "ASIN",
         "rawType": "object",
         "type": "string"
        },
        {
         "name": "Title",
         "rawType": "object",
         "type": "string"
        },
        {
         "name": "Rating",
         "rawType": "object",
         "type": "string"
        },
        {
         "name": "Rating Count",
         "rawType": "float64",
         "type": "float"
        },
        {
         "name": "Category 1",
         "rawType": "object",
         "type": "unknown"
        },
        {
         "name": "Category 2",
         "rawType": "object",
         "type": "unknown"
        },
        {
         "name": "Category 3",
         "rawType": "object",
         "type": "unknown"
        },
        {
         "name": "Category 4",
         "rawType": "object",
         "type": "unknown"
        },
        {
         "name": "Category 5",
         "rawType": "object",
         "type": "unknown"
        },
        {
         "name": "Category 6",
         "rawType": "object",
         "type": "unknown"
        },
        {
         "name": "Category 7",
         "rawType": "object",
         "type": "unknown"
        },
        {
         "name": "Category 8",
         "rawType": "object",
         "type": "unknown"
        }
       ],
       "ref": "002b03d5-fe98-4dd5-a3ef-f3e679154b5e",
       "rows": [
        [
         "0",
         "000217653X",
         "THE DINAH'S CUPBOARD COOK BOOK: Recipes and Menus for Elegant Home Entertaining",
         "4.6",
         "3.0",
         null,
         null,
         null,
         null,
         null,
         null,
         null,
         null
        ],
        [
         "1",
         "0002727463",
         "The Steel Bonnets: The Story of the Anglo-Scottish Border Reivers",
         "4.5",
         "578.0",
         "Books",
         "History",
         "Europe",
         "Great Britain",
         "England",
         null,
         null,
         null
        ],
        [
         "2",
         "0005164885",
         "Christmas Eve and Other Stories",
         "4.7",
         "2676.0",
         "CDs & Vinyl",
         "Holiday & Wedding",
         "Christmas",
         null,
         null,
         null,
         null,
         null
        ],
        [
         "3",
         "000647988X",
         "A Game of Thrones: The bestselling classic epic fantasy series behind the award-winning HBO and Sky TV show and phenomenon GAME OF THRONES (A Song of Ice and Fire) (Book 1)",
         "4.6",
         "382.0",
         "Books",
         "Literature & Fiction",
         "Genre Fiction",
         "Horror",
         "Dark Fantasy",
         null,
         null,
         null
        ],
        [
         "4",
         "0006546064",
         "Fahrenheit 451",
         "4.6",
         "55737.0",
         "Books",
         "History",
         "Europe",
         "Great Britain",
         "England",
         null,
         null,
         null
        ]
       ],
       "shape": {
        "columns": 12,
        "rows": 5
       }
      },
      "text/html": [
       "<div>\n",
       "<style scoped>\n",
       "    .dataframe tbody tr th:only-of-type {\n",
       "        vertical-align: middle;\n",
       "    }\n",
       "\n",
       "    .dataframe tbody tr th {\n",
       "        vertical-align: top;\n",
       "    }\n",
       "\n",
       "    .dataframe thead th {\n",
       "        text-align: right;\n",
       "    }\n",
       "</style>\n",
       "<table border=\"1\" class=\"dataframe\">\n",
       "  <thead>\n",
       "    <tr style=\"text-align: right;\">\n",
       "      <th></th>\n",
       "      <th>ASIN</th>\n",
       "      <th>Title</th>\n",
       "      <th>Rating</th>\n",
       "      <th>Rating Count</th>\n",
       "      <th>Category 1</th>\n",
       "      <th>Category 2</th>\n",
       "      <th>Category 3</th>\n",
       "      <th>Category 4</th>\n",
       "      <th>Category 5</th>\n",
       "      <th>Category 6</th>\n",
       "      <th>Category 7</th>\n",
       "      <th>Category 8</th>\n",
       "    </tr>\n",
       "  </thead>\n",
       "  <tbody>\n",
       "    <tr>\n",
       "      <th>0</th>\n",
       "      <td>000217653X</td>\n",
       "      <td>THE DINAH'S CUPBOARD COOK BOOK: Recipes and Me...</td>\n",
       "      <td>4.6</td>\n",
       "      <td>3.0</td>\n",
       "      <td>NaN</td>\n",
       "      <td>NaN</td>\n",
       "      <td>NaN</td>\n",
       "      <td>NaN</td>\n",
       "      <td>NaN</td>\n",
       "      <td>NaN</td>\n",
       "      <td>NaN</td>\n",
       "      <td>NaN</td>\n",
       "    </tr>\n",
       "    <tr>\n",
       "      <th>1</th>\n",
       "      <td>0002727463</td>\n",
       "      <td>The Steel Bonnets: The Story of the Anglo-Scot...</td>\n",
       "      <td>4.5</td>\n",
       "      <td>578.0</td>\n",
       "      <td>Books</td>\n",
       "      <td>History</td>\n",
       "      <td>Europe</td>\n",
       "      <td>Great Britain</td>\n",
       "      <td>England</td>\n",
       "      <td>NaN</td>\n",
       "      <td>NaN</td>\n",
       "      <td>NaN</td>\n",
       "    </tr>\n",
       "    <tr>\n",
       "      <th>2</th>\n",
       "      <td>0005164885</td>\n",
       "      <td>Christmas Eve and Other Stories</td>\n",
       "      <td>4.7</td>\n",
       "      <td>2676.0</td>\n",
       "      <td>CDs &amp; Vinyl</td>\n",
       "      <td>Holiday &amp; Wedding</td>\n",
       "      <td>Christmas</td>\n",
       "      <td>NaN</td>\n",
       "      <td>NaN</td>\n",
       "      <td>NaN</td>\n",
       "      <td>NaN</td>\n",
       "      <td>NaN</td>\n",
       "    </tr>\n",
       "    <tr>\n",
       "      <th>3</th>\n",
       "      <td>000647988X</td>\n",
       "      <td>A Game of Thrones: The bestselling classic epi...</td>\n",
       "      <td>4.6</td>\n",
       "      <td>382.0</td>\n",
       "      <td>Books</td>\n",
       "      <td>Literature &amp; Fiction</td>\n",
       "      <td>Genre Fiction</td>\n",
       "      <td>Horror</td>\n",
       "      <td>Dark Fantasy</td>\n",
       "      <td>NaN</td>\n",
       "      <td>NaN</td>\n",
       "      <td>NaN</td>\n",
       "    </tr>\n",
       "    <tr>\n",
       "      <th>4</th>\n",
       "      <td>0006546064</td>\n",
       "      <td>Fahrenheit 451</td>\n",
       "      <td>4.6</td>\n",
       "      <td>55737.0</td>\n",
       "      <td>Books</td>\n",
       "      <td>History</td>\n",
       "      <td>Europe</td>\n",
       "      <td>Great Britain</td>\n",
       "      <td>England</td>\n",
       "      <td>NaN</td>\n",
       "      <td>NaN</td>\n",
       "      <td>NaN</td>\n",
       "    </tr>\n",
       "  </tbody>\n",
       "</table>\n",
       "</div>"
      ],
      "text/plain": [
       "         ASIN                                              Title Rating  \\\n",
       "0  000217653X  THE DINAH'S CUPBOARD COOK BOOK: Recipes and Me...    4.6   \n",
       "1  0002727463  The Steel Bonnets: The Story of the Anglo-Scot...    4.5   \n",
       "2  0005164885                    Christmas Eve and Other Stories    4.7   \n",
       "3  000647988X  A Game of Thrones: The bestselling classic epi...    4.6   \n",
       "4  0006546064                                     Fahrenheit 451    4.6   \n",
       "\n",
       "   Rating Count   Category 1            Category 2     Category 3  \\\n",
       "0           3.0          NaN                   NaN            NaN   \n",
       "1         578.0        Books               History         Europe   \n",
       "2        2676.0  CDs & Vinyl     Holiday & Wedding      Christmas   \n",
       "3         382.0        Books  Literature & Fiction  Genre Fiction   \n",
       "4       55737.0        Books               History         Europe   \n",
       "\n",
       "      Category 4    Category 5 Category 6 Category 7 Category 8  \n",
       "0            NaN           NaN        NaN        NaN        NaN  \n",
       "1  Great Britain       England        NaN        NaN        NaN  \n",
       "2            NaN           NaN        NaN        NaN        NaN  \n",
       "3         Horror  Dark Fantasy        NaN        NaN        NaN  \n",
       "4  Great Britain       England        NaN        NaN        NaN  "
      ]
     },
     "execution_count": 4,
     "metadata": {},
     "output_type": "execute_result"
    }
   ],
   "source": [
    "product.head()"
   ]
  },
  {
   "cell_type": "code",
   "execution_count": 5,
   "id": "7b62fd32",
   "metadata": {},
   "outputs": [
    {
     "name": "stdout",
     "output_type": "stream",
     "text": [
      "<class 'pandas.core.frame.DataFrame'>\n",
      "RangeIndex: 1850717 entries, 0 to 1850716\n",
      "Data columns (total 8 columns):\n",
      " #   Column                    Dtype  \n",
      "---  ------                    -----  \n",
      " 0   Order Date                object \n",
      " 1   Purchase Price Per Unit   float64\n",
      " 2   Quantity                  float64\n",
      " 3   Shipping Address State    object \n",
      " 4   Title                     object \n",
      " 5   ASIN/ISBN (Product Code)  object \n",
      " 6   Category                  object \n",
      " 7   Survey ResponseID         object \n",
      "dtypes: float64(2), object(6)\n",
      "memory usage: 113.0+ MB\n"
     ]
    }
   ],
   "source": [
    "purchase = pd.read_csv('amazon-purchases.csv')\n",
    "purchase.info()"
   ]
  },
  {
   "cell_type": "code",
   "execution_count": 6,
   "id": "fa0e4cf6",
   "metadata": {},
   "outputs": [
    {
     "data": {
      "application/vnd.microsoft.datawrangler.viewer.v0+json": {
       "columns": [
        {
         "name": "index",
         "rawType": "int64",
         "type": "integer"
        },
        {
         "name": "Order Date",
         "rawType": "object",
         "type": "string"
        },
        {
         "name": "Purchase Price Per Unit",
         "rawType": "float64",
         "type": "float"
        },
        {
         "name": "Quantity",
         "rawType": "float64",
         "type": "float"
        },
        {
         "name": "Shipping Address State",
         "rawType": "object",
         "type": "unknown"
        },
        {
         "name": "Title",
         "rawType": "object",
         "type": "unknown"
        },
        {
         "name": "ASIN/ISBN (Product Code)",
         "rawType": "object",
         "type": "unknown"
        },
        {
         "name": "Category",
         "rawType": "object",
         "type": "unknown"
        },
        {
         "name": "Survey ResponseID",
         "rawType": "object",
         "type": "string"
        }
       ],
       "ref": "2b49a59f-9a01-443c-bd39-93e223529bca",
       "rows": [
        [
         "0",
         "2018-12-04",
         "7.98",
         "1.0",
         "NJ",
         "SanDisk Ultra 16GB Class 10 SDHC UHS-I Memory Card up to 80MB/s (SDSDUNC-016G-GN6IN)",
         "B0143RTB1E",
         "FLASH_MEMORY",
         "R_01vNIayewjIIKMF"
        ],
        [
         "1",
         "2018-12-22",
         "13.99",
         "1.0",
         "NJ",
         "Betron BS10 Earphones Wired Headphones in Ear Noise Isolating Earbuds with Microphone and Volume Control Powerful Bass Driven Sound, 12mm Large Drivers, Ergonomic Design",
         "B01MA1MJ6H",
         "HEADPHONES",
         "R_01vNIayewjIIKMF"
        ],
        [
         "2",
         "2018-12-24",
         "8.99",
         "1.0",
         "NJ",
         null,
         "B078JZTFN3",
         null,
         "R_01vNIayewjIIKMF"
        ],
        [
         "3",
         "2018-12-25",
         "10.45",
         "1.0",
         "NJ",
         "Perfecto Stainless Steel Shaving Bowl. Durable Metal Mug For Shaving Soap & Cream. Perfect Addition To Your Wet Shaving Kit. Double Layer Smooth Shave Unbreakable Mug With Heat Insulation",
         "B06XWF9HML",
         "DISHWARE_BOWL",
         "R_01vNIayewjIIKMF"
        ],
        [
         "4",
         "2018-12-25",
         "10.0",
         "1.0",
         "NJ",
         "Proraso Shaving Cream for Men",
         "B00837ZOI0",
         "SHAVING_AGENT",
         "R_01vNIayewjIIKMF"
        ],
        [
         "5",
         "2019-02-18",
         "10.99",
         "1.0",
         "NJ",
         "Micro USB Cable Android Charger - Syncwire [2-Pack 6.6ft] Super-Durable Nylon Braided Fast Sync&Charging Cord for Samsung Galaxy S7 Edge/S7/S6, HTC, LG, Sony, Xbox One, PS4 - Space Grey",
         "B01GFB2E9M",
         "COMPUTER_PROCESSOR",
         "R_01vNIayewjIIKMF"
        ],
        [
         "6",
         "2019-02-18",
         "4.99",
         "1.0",
         "NJ",
         "Amazon Basics USB 2.0 Charger Cable - A-Male to Mini-B Cord - 3 Feet (0.9 Meters)",
         "B00NH13S44",
         "COMPUTER_ADD_ON",
         "R_01vNIayewjIIKMF"
        ],
        [
         "7",
         "2019-03-15",
         "124.99",
         "1.0",
         "NJ",
         "Fire HD 8 Tablet (8\" HD Display, 32 GB, without Special Offers) - Black (Previous Generation - 8th)",
         "B077H6L7T9",
         "AMAZON_TABLET",
         "R_01vNIayewjIIKMF"
        ],
        [
         "8",
         "2019-04-23",
         "12.99",
         "1.0",
         "NJ",
         "Men's Leather Belt, Ratchet Dress Belt with Automatic Buckle for Father's Day Gift by WERFORU",
         "B07L84ZZXC",
         "APPAREL_BELT",
         "R_01vNIayewjIIKMF"
        ],
        [
         "9",
         "2019-04-23",
         "24.69",
         "1.0",
         "NJ",
         null,
         "B06XKNWJN2",
         null,
         "R_01vNIayewjIIKMF"
        ],
        [
         "10",
         "2019-05-02",
         "9.99",
         "1.0",
         "NJ",
         "UGREEN Tablet Stand Holder Adjustable Portable Desktop Holder Dock Compatible for iPad 10.2 iPad Pro 11 Inch iPad 9.7 iPad Mini 5 4 3 2 iPad Air iPhone 13 12 Pro Max 11 XS XR Black",
         "B07CG71KQ1",
         "PORTABLE_ELECTRONIC_DEVICE_STAND",
         "R_01vNIayewjIIKMF"
        ],
        [
         "11",
         "2019-05-02",
         "12.79",
         "1.0",
         "NJ",
         "Betron B25 in-Ear Headphones Earphones with Microphone and Volume Controller, Noise Isolating Earbud Tips, 3.5mm Head Phone Jack",
         "B079GFF4HZ",
         "HEADPHONES",
         "R_01vNIayewjIIKMF"
        ],
        [
         "12",
         "2019-05-11",
         "9.14",
         "1.0",
         "NJ",
         "NEW Norpro Instant Immersion Heater Coffee/Tea/Soup Electric Water Portable Reheater",
         "B01M0Q84BR",
         "IMMERSION_HEATER",
         "R_01vNIayewjIIKMF"
        ],
        [
         "13",
         "2019-05-16",
         "9.99",
         "1.0",
         "NJ",
         "Betron BS10 Earphones Wired Headphones in Ear Noise Isolating Earbuds with Microphone and Volume Control Powerful Bass Driven Sound, 12mm Large Drivers, Ergonomic Design",
         "B01MA1MJ6H",
         "HEADPHONES",
         "R_01vNIayewjIIKMF"
        ],
        [
         "14",
         "2019-06-15",
         "19.99",
         "1.0",
         "NJ",
         "SanDisk 128GB Ultra MicroSDXC UHS-I Memory Card with Adapter - 100MB/s, C10, U1, Full HD, A1, Micro SD Card - SDSQUAR-128G-GN6MA",
         "B073JYC4XM",
         "FLASH_MEMORY",
         "R_01vNIayewjIIKMF"
        ],
        [
         "15",
         "2019-06-15",
         "14.72",
         "1.0",
         "NJ",
         "Slippery Stuff, 16 oz Gel, Clear, Pound , Unscented, 1 Count (LU031)",
         "B00I7DT454",
         "BODY_LUBRICANT",
         "R_01vNIayewjIIKMF"
        ],
        [
         "16",
         "2019-06-25",
         "9.99",
         "1.0",
         "NJ",
         "Betron BS10 Earphones Wired Headphones in Ear Noise Isolating Earbuds with Microphone and Volume Control Powerful Bass Driven Sound, 12mm Large Drivers, Ergonomic Design",
         "B01MA1MJ6H",
         "HEADPHONES",
         "R_01vNIayewjIIKMF"
        ],
        [
         "17",
         "2019-07-14",
         "26.77",
         "1.0",
         "NJ",
         "Logitech M570 Wireless Trackball Mouse – Ergonomic Design with Sculpted Right-Hand Shape, Compatible with Apple Mac / Microsoft, USB Unifying Receiver, Dark Gray (Discontinued by Manufacturer)",
         "B0043T7FXE",
         "INPUT_MOUSE",
         "R_01vNIayewjIIKMF"
        ],
        [
         "18",
         "2019-08-02",
         "12.99",
         "1.0",
         "NJ",
         "Betron BS10 Earphones Wired in Ear Earbud Headphones Strong Bass Noise Isolating Ear Buds 3.5mm Jack Tangle-Free Cord Compatible with Tablet Laptop iPhone iPad Smartphones",
         "B01M2V05RE",
         "HEADPHONES",
         "R_01vNIayewjIIKMF"
        ],
        [
         "19",
         "2019-08-10",
         "7.95",
         "1.0",
         "NJ",
         "TUDIA Motorola Moto G6 Case, Full-Matte Lightweight [Arch S] TPU Bumper Shock Absorption Cover for Motorola Moto G6 (Black)",
         "B07BCZMBNR",
         "CELLULAR_PHONE_CASE",
         "R_01vNIayewjIIKMF"
        ],
        [
         "20",
         "2019-09-06",
         "53.95",
         "1.0",
         "NJ",
         "WOWMAX Triangular Reading Pillow Large Bolster Headboard Backrest Positioning Support Wedge Pillow, Pillow for Day Bed Bunk Bed with Removable Cover Jean Blue 39x8x20inch",
         "B075CMYT43",
         "BODY_POSITIONER",
         "R_01vNIayewjIIKMF"
        ],
        [
         "21",
         "2019-09-09",
         "19.99",
         "1.0",
         "NJ",
         "KROSER Laptop Bag 15.6 Inch Briefcase Shoulder Bag Water Repellent Laptop Bag Satchel Tablet Bussiness Carrying Handbag Laptop Sleeve for Women and Men-Charcoal Black",
         "B01MZ956SX",
         "HANDBAG",
         "R_01vNIayewjIIKMF"
        ],
        [
         "22",
         "2019-09-09",
         "14.99",
         "1.0",
         "NJ",
         "Gildan Men's Boxer Briefs, Multipack",
         "B07JCJP1DK",
         "UNDERPANTS",
         "R_01vNIayewjIIKMF"
        ],
        [
         "23",
         "2019-09-13",
         "14.99",
         "1.0",
         "NJ",
         "Gildan Men's Boxer Briefs, Multipack",
         "B07JD5B8SP",
         "UNDERPANTS",
         "R_01vNIayewjIIKMF"
        ],
        [
         "24",
         "2019-09-13",
         "4.85",
         "1.0",
         "NJ",
         "Tape Measure for Body Measuring Tape for Body Measurements Tape Tailor Clothing",
         "B071XGLB1S",
         "TAPE_MEASURE",
         "R_01vNIayewjIIKMF"
        ],
        [
         "25",
         "2019-09-13",
         "8.95",
         "1.0",
         "NJ",
         "Poetic SlimFolio case for All-New Amazon Fire HD 8 Tablet (7th and 8th Generation, 2017 and 2018 Release) - Slim Leather Stand Folio Smart Cover Case with Auto Wake/Sleep - Black",
         "B071ZBV7DY",
         "AMAZON_TABLET_ACCESSORY",
         "R_01vNIayewjIIKMF"
        ],
        [
         "26",
         "2019-09-27",
         "139.99",
         "1.0",
         "NJ",
         "WD 8TB Elements Desktop External Hard Drive, USB 3.0 external hard drive for plug-and-play storage - WDBWLG0080HBK-NESN",
         "B07D5V2ZXD",
         "COMPUTER_DRIVE_OR_STORAGE",
         "R_01vNIayewjIIKMF"
        ],
        [
         "27",
         "2019-09-28",
         "7.92",
         "1.0",
         "NJ",
         "Colgate Cavity Protection Toothpaste with Fluoride, Great Regular Flavor, 6 Ounce Tube, 6 Pack",
         "B01BNEWDFQ",
         "TOOTH_CLEANING_AGENT",
         "R_01vNIayewjIIKMF"
        ],
        [
         "28",
         "2019-09-28",
         "19.99",
         "1.0",
         "NJ",
         "Scott 1000 Sheets Per Roll Toilet Paper, 27 Rolls, Bath Tissue",
         "B01NBYY28W",
         "TOILET_PAPER",
         "R_01vNIayewjIIKMF"
        ],
        [
         "29",
         "2019-09-28",
         "3.92",
         "1.0",
         "NJ",
         "Crest Scope Outlast Mouthwash, Long Lasting Peppermint, 1 L",
         "B019FGCOW6",
         "MOUTHWASH",
         "R_01vNIayewjIIKMF"
        ],
        [
         "30",
         "2019-10-02",
         "19.99",
         "1.0",
         "NJ",
         "Anker Powerline II USB-C to USB-C 3.1 Gen 2 Cable (3ft) with Power Delivery, for Apple MacBook, Huawei Matebook, iPad Pro 2020, Chromebook, Pixel, Switch, and More Type-C Devices/Laptops",
         "B072JYDQ7N",
         "ELECTRONIC_CABLE",
         "R_01vNIayewjIIKMF"
        ],
        [
         "31",
         "2019-10-02",
         "8.99",
         "1.0",
         "NJ",
         "Kingsdun 12Pcs Magnetic Torx Screwdriver Sets with T3 T4 T5 T6 T7 T8 T10 Star Screw drivers, Stainless Steel Tweezers & Philip Slotted Screwdrivers for Phone/Mac/Camera/Computer Repairing -Yellow",
         "B00MUJU33S",
         "SCREWDRIVER",
         "R_01vNIayewjIIKMF"
        ],
        [
         "32",
         "2019-10-05",
         "25.0",
         "1.0",
         null,
         "Best Buy Gift Cards - Email Delivery",
         "B07RTN4C77",
         "GIFT_CARD",
         "R_01vNIayewjIIKMF"
        ],
        [
         "33",
         "2019-10-06",
         "50.0",
         "1.0",
         null,
         "Best Buy Gift Cards - Email Delivery",
         "B07RTN4C77",
         "GIFT_CARD",
         "R_01vNIayewjIIKMF"
        ],
        [
         "34",
         "2019-10-06",
         "50.0",
         "1.0",
         null,
         "Best Buy Gift Cards - Email Delivery",
         "B07RTN4C77",
         "GIFT_CARD",
         "R_01vNIayewjIIKMF"
        ],
        [
         "35",
         "2019-10-07",
         "7.49",
         "1.0",
         "NJ",
         "BetterBody Foods Refined Avocado Oil, Non-GMO Cooking Oil, Kosher, Keto and Paleo Diet Friendly, for High-Heat Cooking, Frying, Baking, 100% Pure Avocado Oil, 500 mL, 16.9 Fl Oz",
         "B01IQ00B04",
         "EDIBLE_OIL_VEGETABLE",
         "R_01vNIayewjIIKMF"
        ],
        [
         "36",
         "2019-10-07",
         "11.94",
         "1.0",
         "NJ",
         null,
         "B07CZ6JCZS",
         null,
         "R_01vNIayewjIIKMF"
        ],
        [
         "37",
         "2019-10-07",
         "7.34",
         "1.0",
         "NJ",
         "Pompeian USDA Organic Robust Extra Virgin Olive Oil, First Cold Pressed, Full-Bodied Flavor, Perfect for Salad Dressings & Marinades, 24 FL. OZ.",
         "B017ALC6GW",
         "EDIBLE_OIL_VEGETABLE",
         "R_01vNIayewjIIKMF"
        ],
        [
         "38",
         "2019-10-12",
         "45.0",
         "1.0",
         "NJ",
         "$15/Month Mint Mobile Phone Plan | 4GB of 5G • 4G LTE Data + Unlimited Talk & Text for 3 Months (3-in-1 SIM Card)",
         "B0741FV7ZV",
         "SIM_CARD",
         "R_01vNIayewjIIKMF"
        ],
        [
         "39",
         "2019-10-16",
         "54.99",
         "1.0",
         "NJ",
         "ZINUS SmartBase Tool-Free Assembly Mattress Foundation / 14 Inch Metal Platform Bed Frame / No Box Spring Needed / Sturdy Steel Frame / Underbed Storage, Black, Twin, Regular",
         "B006MIPW70",
         "BED_FRAME",
         "R_01vNIayewjIIKMF"
        ],
        [
         "40",
         "2019-10-18",
         "4.2",
         "1.0",
         "NJ",
         "McCormick Black Peppercorn Grinder, 2.5 oz",
         "B01LZKYNIM",
         "HERB",
         "R_01vNIayewjIIKMF"
        ],
        [
         "41",
         "2019-10-18",
         "14.26",
         "1.0",
         "NJ",
         null,
         "B00KVM2SSO",
         null,
         "R_01vNIayewjIIKMF"
        ],
        [
         "42",
         "2019-10-31",
         "4.99",
         "1.0",
         "NJ",
         "Dietz & Watson deli Sliced Black Forest Smoked Ham, 0.5 lbs",
         "B00NC8QEKM",
         "MEAT",
         "R_01vNIayewjIIKMF"
        ],
        [
         "43",
         "2019-10-31",
         "3.79",
         "1.0",
         "NJ",
         "Kerrygold Pure Irish Butter, Salted, 8 oz",
         "B0011EKWBQ",
         "DAIRY_BASED_BUTTER",
         "R_01vNIayewjIIKMF"
        ],
        [
         "44",
         "2019-10-31",
         "4.99",
         "1.0",
         "NJ",
         "Dietz & Watson Sliced Mozzarella Cheese, 0.5 lbs",
         "B00NC882CA",
         "DAIRY_BASED_CHEESE",
         "R_01vNIayewjIIKMF"
        ],
        [
         "45",
         "2019-10-31",
         "10.98",
         "1.0",
         "NJ",
         "Jack Links Premium Cuts Beef Steak, Original, Strips -Great Protein Snack with 11g of Protein and 1g of Carbs Per Serving, Made with Beef, 1 Ounce (Pack of 12)",
         "B00B9GUZP4",
         "JERKY",
         "R_01vNIayewjIIKMF"
        ],
        [
         "46",
         "2019-11-25",
         "3.75",
         "1.0",
         "NJ",
         "Wet Naturals Beautifully Bare - 3.3 fl oz",
         "B000QD9C8M",
         "BODY_LUBRICANT",
         "R_01vNIayewjIIKMF"
        ],
        [
         "47",
         "2019-11-25",
         "17.69",
         "1.0",
         "NJ",
         "Tracy's Dog Male Masturbators Pocket Pussy Realistic Stroker Lifelike Vaginal Oral Sex Toys for Man Masturbation (Flesh)",
         "B01LZ5SB6U",
         "SEXUAL_STIMULATION_DEVICE",
         "R_01vNIayewjIIKMF"
        ],
        [
         "48",
         "2019-12-02",
         "27.99",
         "1.0",
         "NJ",
         "SAMSUNG (MB-ME256GA/AM) 256GB 100MB/s (U3) MicroSDXC EVO Select Memory Card with Full-Size Adapter",
         "B072HRDM55",
         "FLASH_MEMORY",
         "R_01vNIayewjIIKMF"
        ],
        [
         "49",
         "2019-12-02",
         "10.49",
         "1.0",
         "NJ",
         "LubeLife Water-Based Personal Lubricant, Lube for Men, Women and Couples, Non-Staining, 12 Fl Oz",
         "B07DGQ4QR3",
         "BODY_LUBRICANT",
         "R_01vNIayewjIIKMF"
        ]
       ],
       "shape": {
        "columns": 8,
        "rows": 1850717
       }
      },
      "text/html": [
       "<div>\n",
       "<style scoped>\n",
       "    .dataframe tbody tr th:only-of-type {\n",
       "        vertical-align: middle;\n",
       "    }\n",
       "\n",
       "    .dataframe tbody tr th {\n",
       "        vertical-align: top;\n",
       "    }\n",
       "\n",
       "    .dataframe thead th {\n",
       "        text-align: right;\n",
       "    }\n",
       "</style>\n",
       "<table border=\"1\" class=\"dataframe\">\n",
       "  <thead>\n",
       "    <tr style=\"text-align: right;\">\n",
       "      <th></th>\n",
       "      <th>Order Date</th>\n",
       "      <th>Purchase Price Per Unit</th>\n",
       "      <th>Quantity</th>\n",
       "      <th>Shipping Address State</th>\n",
       "      <th>Title</th>\n",
       "      <th>ASIN/ISBN (Product Code)</th>\n",
       "      <th>Category</th>\n",
       "      <th>Survey ResponseID</th>\n",
       "    </tr>\n",
       "  </thead>\n",
       "  <tbody>\n",
       "    <tr>\n",
       "      <th>0</th>\n",
       "      <td>2018-12-04</td>\n",
       "      <td>7.98</td>\n",
       "      <td>1.0</td>\n",
       "      <td>NJ</td>\n",
       "      <td>SanDisk Ultra 16GB Class 10 SDHC UHS-I Memory ...</td>\n",
       "      <td>B0143RTB1E</td>\n",
       "      <td>FLASH_MEMORY</td>\n",
       "      <td>R_01vNIayewjIIKMF</td>\n",
       "    </tr>\n",
       "    <tr>\n",
       "      <th>1</th>\n",
       "      <td>2018-12-22</td>\n",
       "      <td>13.99</td>\n",
       "      <td>1.0</td>\n",
       "      <td>NJ</td>\n",
       "      <td>Betron BS10 Earphones Wired Headphones in Ear ...</td>\n",
       "      <td>B01MA1MJ6H</td>\n",
       "      <td>HEADPHONES</td>\n",
       "      <td>R_01vNIayewjIIKMF</td>\n",
       "    </tr>\n",
       "    <tr>\n",
       "      <th>2</th>\n",
       "      <td>2018-12-24</td>\n",
       "      <td>8.99</td>\n",
       "      <td>1.0</td>\n",
       "      <td>NJ</td>\n",
       "      <td>NaN</td>\n",
       "      <td>B078JZTFN3</td>\n",
       "      <td>NaN</td>\n",
       "      <td>R_01vNIayewjIIKMF</td>\n",
       "    </tr>\n",
       "    <tr>\n",
       "      <th>3</th>\n",
       "      <td>2018-12-25</td>\n",
       "      <td>10.45</td>\n",
       "      <td>1.0</td>\n",
       "      <td>NJ</td>\n",
       "      <td>Perfecto Stainless Steel Shaving Bowl. Durable...</td>\n",
       "      <td>B06XWF9HML</td>\n",
       "      <td>DISHWARE_BOWL</td>\n",
       "      <td>R_01vNIayewjIIKMF</td>\n",
       "    </tr>\n",
       "    <tr>\n",
       "      <th>4</th>\n",
       "      <td>2018-12-25</td>\n",
       "      <td>10.00</td>\n",
       "      <td>1.0</td>\n",
       "      <td>NJ</td>\n",
       "      <td>Proraso Shaving Cream for Men</td>\n",
       "      <td>B00837ZOI0</td>\n",
       "      <td>SHAVING_AGENT</td>\n",
       "      <td>R_01vNIayewjIIKMF</td>\n",
       "    </tr>\n",
       "    <tr>\n",
       "      <th>...</th>\n",
       "      <td>...</td>\n",
       "      <td>...</td>\n",
       "      <td>...</td>\n",
       "      <td>...</td>\n",
       "      <td>...</td>\n",
       "      <td>...</td>\n",
       "      <td>...</td>\n",
       "      <td>...</td>\n",
       "    </tr>\n",
       "    <tr>\n",
       "      <th>1850712</th>\n",
       "      <td>2021-04-01</td>\n",
       "      <td>6.99</td>\n",
       "      <td>1.0</td>\n",
       "      <td>MA</td>\n",
       "      <td>Tanner's Tasty Paste Vanilla Bling - Anticavit...</td>\n",
       "      <td>B015ZRTHVA</td>\n",
       "      <td>TOOTH_CLEANING_AGENT</td>\n",
       "      <td>R_zfqnsBzlOAKibzb</td>\n",
       "    </tr>\n",
       "    <tr>\n",
       "      <th>1850713</th>\n",
       "      <td>2021-04-14</td>\n",
       "      <td>15.99</td>\n",
       "      <td>1.0</td>\n",
       "      <td>MA</td>\n",
       "      <td>Sinland Microfiber Cleaning Cloth Dish Cloth K...</td>\n",
       "      <td>B00QGCXPRG</td>\n",
       "      <td>TOWEL</td>\n",
       "      <td>R_zfqnsBzlOAKibzb</td>\n",
       "    </tr>\n",
       "    <tr>\n",
       "      <th>1850714</th>\n",
       "      <td>2021-05-22</td>\n",
       "      <td>6.99</td>\n",
       "      <td>4.0</td>\n",
       "      <td>MA</td>\n",
       "      <td>Tanner's Tasty Paste Vanilla Bling - Anticavit...</td>\n",
       "      <td>B015ZRTHVA</td>\n",
       "      <td>TOOTH_CLEANING_AGENT</td>\n",
       "      <td>R_zfqnsBzlOAKibzb</td>\n",
       "    </tr>\n",
       "    <tr>\n",
       "      <th>1850715</th>\n",
       "      <td>2021-12-01</td>\n",
       "      <td>6.99</td>\n",
       "      <td>4.0</td>\n",
       "      <td>MA</td>\n",
       "      <td>Tanner's Tasty Paste Vanilla Bling - Anticavit...</td>\n",
       "      <td>B015ZRTHVA</td>\n",
       "      <td>TOOTH_CLEANING_AGENT</td>\n",
       "      <td>R_zfqnsBzlOAKibzb</td>\n",
       "    </tr>\n",
       "    <tr>\n",
       "      <th>1850716</th>\n",
       "      <td>2022-09-19</td>\n",
       "      <td>19.99</td>\n",
       "      <td>1.0</td>\n",
       "      <td>NaN</td>\n",
       "      <td>Wild Mystic Oracle Card Deck: A 50-Card Deck a...</td>\n",
       "      <td>1441337652</td>\n",
       "      <td>ABIS_BOOK</td>\n",
       "      <td>R_zfqnsBzlOAKibzb</td>\n",
       "    </tr>\n",
       "  </tbody>\n",
       "</table>\n",
       "<p>1850717 rows × 8 columns</p>\n",
       "</div>"
      ],
      "text/plain": [
       "         Order Date  Purchase Price Per Unit  Quantity Shipping Address State  \\\n",
       "0        2018-12-04                     7.98       1.0                     NJ   \n",
       "1        2018-12-22                    13.99       1.0                     NJ   \n",
       "2        2018-12-24                     8.99       1.0                     NJ   \n",
       "3        2018-12-25                    10.45       1.0                     NJ   \n",
       "4        2018-12-25                    10.00       1.0                     NJ   \n",
       "...             ...                      ...       ...                    ...   \n",
       "1850712  2021-04-01                     6.99       1.0                     MA   \n",
       "1850713  2021-04-14                    15.99       1.0                     MA   \n",
       "1850714  2021-05-22                     6.99       4.0                     MA   \n",
       "1850715  2021-12-01                     6.99       4.0                     MA   \n",
       "1850716  2022-09-19                    19.99       1.0                    NaN   \n",
       "\n",
       "                                                     Title  \\\n",
       "0        SanDisk Ultra 16GB Class 10 SDHC UHS-I Memory ...   \n",
       "1        Betron BS10 Earphones Wired Headphones in Ear ...   \n",
       "2                                                      NaN   \n",
       "3        Perfecto Stainless Steel Shaving Bowl. Durable...   \n",
       "4                            Proraso Shaving Cream for Men   \n",
       "...                                                    ...   \n",
       "1850712  Tanner's Tasty Paste Vanilla Bling - Anticavit...   \n",
       "1850713  Sinland Microfiber Cleaning Cloth Dish Cloth K...   \n",
       "1850714  Tanner's Tasty Paste Vanilla Bling - Anticavit...   \n",
       "1850715  Tanner's Tasty Paste Vanilla Bling - Anticavit...   \n",
       "1850716  Wild Mystic Oracle Card Deck: A 50-Card Deck a...   \n",
       "\n",
       "        ASIN/ISBN (Product Code)              Category  Survey ResponseID  \n",
       "0                     B0143RTB1E          FLASH_MEMORY  R_01vNIayewjIIKMF  \n",
       "1                     B01MA1MJ6H            HEADPHONES  R_01vNIayewjIIKMF  \n",
       "2                     B078JZTFN3                   NaN  R_01vNIayewjIIKMF  \n",
       "3                     B06XWF9HML         DISHWARE_BOWL  R_01vNIayewjIIKMF  \n",
       "4                     B00837ZOI0         SHAVING_AGENT  R_01vNIayewjIIKMF  \n",
       "...                          ...                   ...                ...  \n",
       "1850712               B015ZRTHVA  TOOTH_CLEANING_AGENT  R_zfqnsBzlOAKibzb  \n",
       "1850713               B00QGCXPRG                 TOWEL  R_zfqnsBzlOAKibzb  \n",
       "1850714               B015ZRTHVA  TOOTH_CLEANING_AGENT  R_zfqnsBzlOAKibzb  \n",
       "1850715               B015ZRTHVA  TOOTH_CLEANING_AGENT  R_zfqnsBzlOAKibzb  \n",
       "1850716               1441337652             ABIS_BOOK  R_zfqnsBzlOAKibzb  \n",
       "\n",
       "[1850717 rows x 8 columns]"
      ]
     },
     "execution_count": 6,
     "metadata": {},
     "output_type": "execute_result"
    }
   ],
   "source": [
    "purchase"
   ]
  },
  {
   "cell_type": "code",
   "execution_count": 7,
   "id": "4c915619",
   "metadata": {},
   "outputs": [
    {
     "data": {
      "application/vnd.microsoft.datawrangler.viewer.v0+json": {
       "columns": [
        {
         "name": "index",
         "rawType": "object",
         "type": "string"
        },
        {
         "name": "0",
         "rawType": "int64",
         "type": "integer"
        }
       ],
       "ref": "36ebf4e8-0ec6-4db6-8c34-7551c3a0d524",
       "rows": [
        [
         "Order Date",
         "0"
        ],
        [
         "Purchase Price Per Unit",
         "0"
        ],
        [
         "Quantity",
         "0"
        ],
        [
         "Shipping Address State",
         "87812"
        ],
        [
         "Title",
         "89740"
        ],
        [
         "ASIN/ISBN (Product Code)",
         "973"
        ],
        [
         "Category",
         "89458"
        ],
        [
         "Survey ResponseID",
         "0"
        ]
       ],
       "shape": {
        "columns": 1,
        "rows": 8
       }
      },
      "text/plain": [
       "Order Date                      0\n",
       "Purchase Price Per Unit         0\n",
       "Quantity                        0\n",
       "Shipping Address State      87812\n",
       "Title                       89740\n",
       "ASIN/ISBN (Product Code)      973\n",
       "Category                    89458\n",
       "Survey ResponseID               0\n",
       "dtype: int64"
      ]
     },
     "execution_count": 7,
     "metadata": {},
     "output_type": "execute_result"
    }
   ],
   "source": [
    "purchase.isnull().sum()"
   ]
  },
  {
   "cell_type": "code",
   "execution_count": 8,
   "id": "058fd974",
   "metadata": {},
   "outputs": [
    {
     "data": {
      "application/vnd.microsoft.datawrangler.viewer.v0+json": {
       "columns": [
        {
         "name": "index",
         "rawType": "int64",
         "type": "integer"
        },
        {
         "name": "Order Date",
         "rawType": "object",
         "type": "string"
        },
        {
         "name": "Purchase Price Per Unit",
         "rawType": "float64",
         "type": "float"
        },
        {
         "name": "Quantity",
         "rawType": "float64",
         "type": "float"
        },
        {
         "name": "Shipping Address State",
         "rawType": "object",
         "type": "string"
        },
        {
         "name": "Title",
         "rawType": "object",
         "type": "unknown"
        },
        {
         "name": "ASIN/ISBN (Product Code)",
         "rawType": "object",
         "type": "string"
        },
        {
         "name": "Category",
         "rawType": "object",
         "type": "unknown"
        },
        {
         "name": "Survey ResponseID",
         "rawType": "object",
         "type": "string"
        }
       ],
       "ref": "f1a5c4fb-a200-4686-89ce-5286a35356f5",
       "rows": [
        [
         "0",
         "2018-12-04",
         "7.98",
         "1.0",
         "NJ",
         "SanDisk Ultra 16GB Class 10 SDHC UHS-I Memory Card up to 80MB/s (SDSDUNC-016G-GN6IN)",
         "B0143RTB1E",
         "FLASH_MEMORY",
         "R_01vNIayewjIIKMF"
        ],
        [
         "1",
         "2018-12-22",
         "13.99",
         "1.0",
         "NJ",
         "Betron BS10 Earphones Wired Headphones in Ear Noise Isolating Earbuds with Microphone and Volume Control Powerful Bass Driven Sound, 12mm Large Drivers, Ergonomic Design",
         "B01MA1MJ6H",
         "HEADPHONES",
         "R_01vNIayewjIIKMF"
        ],
        [
         "2",
         "2018-12-24",
         "8.99",
         "1.0",
         "NJ",
         null,
         "B078JZTFN3",
         null,
         "R_01vNIayewjIIKMF"
        ],
        [
         "3",
         "2018-12-25",
         "10.45",
         "1.0",
         "NJ",
         "Perfecto Stainless Steel Shaving Bowl. Durable Metal Mug For Shaving Soap & Cream. Perfect Addition To Your Wet Shaving Kit. Double Layer Smooth Shave Unbreakable Mug With Heat Insulation",
         "B06XWF9HML",
         "DISHWARE_BOWL",
         "R_01vNIayewjIIKMF"
        ],
        [
         "4",
         "2018-12-25",
         "10.0",
         "1.0",
         "NJ",
         "Proraso Shaving Cream for Men",
         "B00837ZOI0",
         "SHAVING_AGENT",
         "R_01vNIayewjIIKMF"
        ]
       ],
       "shape": {
        "columns": 8,
        "rows": 5
       }
      },
      "text/html": [
       "<div>\n",
       "<style scoped>\n",
       "    .dataframe tbody tr th:only-of-type {\n",
       "        vertical-align: middle;\n",
       "    }\n",
       "\n",
       "    .dataframe tbody tr th {\n",
       "        vertical-align: top;\n",
       "    }\n",
       "\n",
       "    .dataframe thead th {\n",
       "        text-align: right;\n",
       "    }\n",
       "</style>\n",
       "<table border=\"1\" class=\"dataframe\">\n",
       "  <thead>\n",
       "    <tr style=\"text-align: right;\">\n",
       "      <th></th>\n",
       "      <th>Order Date</th>\n",
       "      <th>Purchase Price Per Unit</th>\n",
       "      <th>Quantity</th>\n",
       "      <th>Shipping Address State</th>\n",
       "      <th>Title</th>\n",
       "      <th>ASIN/ISBN (Product Code)</th>\n",
       "      <th>Category</th>\n",
       "      <th>Survey ResponseID</th>\n",
       "    </tr>\n",
       "  </thead>\n",
       "  <tbody>\n",
       "    <tr>\n",
       "      <th>0</th>\n",
       "      <td>2018-12-04</td>\n",
       "      <td>7.98</td>\n",
       "      <td>1.0</td>\n",
       "      <td>NJ</td>\n",
       "      <td>SanDisk Ultra 16GB Class 10 SDHC UHS-I Memory ...</td>\n",
       "      <td>B0143RTB1E</td>\n",
       "      <td>FLASH_MEMORY</td>\n",
       "      <td>R_01vNIayewjIIKMF</td>\n",
       "    </tr>\n",
       "    <tr>\n",
       "      <th>1</th>\n",
       "      <td>2018-12-22</td>\n",
       "      <td>13.99</td>\n",
       "      <td>1.0</td>\n",
       "      <td>NJ</td>\n",
       "      <td>Betron BS10 Earphones Wired Headphones in Ear ...</td>\n",
       "      <td>B01MA1MJ6H</td>\n",
       "      <td>HEADPHONES</td>\n",
       "      <td>R_01vNIayewjIIKMF</td>\n",
       "    </tr>\n",
       "    <tr>\n",
       "      <th>2</th>\n",
       "      <td>2018-12-24</td>\n",
       "      <td>8.99</td>\n",
       "      <td>1.0</td>\n",
       "      <td>NJ</td>\n",
       "      <td>NaN</td>\n",
       "      <td>B078JZTFN3</td>\n",
       "      <td>NaN</td>\n",
       "      <td>R_01vNIayewjIIKMF</td>\n",
       "    </tr>\n",
       "    <tr>\n",
       "      <th>3</th>\n",
       "      <td>2018-12-25</td>\n",
       "      <td>10.45</td>\n",
       "      <td>1.0</td>\n",
       "      <td>NJ</td>\n",
       "      <td>Perfecto Stainless Steel Shaving Bowl. Durable...</td>\n",
       "      <td>B06XWF9HML</td>\n",
       "      <td>DISHWARE_BOWL</td>\n",
       "      <td>R_01vNIayewjIIKMF</td>\n",
       "    </tr>\n",
       "    <tr>\n",
       "      <th>4</th>\n",
       "      <td>2018-12-25</td>\n",
       "      <td>10.00</td>\n",
       "      <td>1.0</td>\n",
       "      <td>NJ</td>\n",
       "      <td>Proraso Shaving Cream for Men</td>\n",
       "      <td>B00837ZOI0</td>\n",
       "      <td>SHAVING_AGENT</td>\n",
       "      <td>R_01vNIayewjIIKMF</td>\n",
       "    </tr>\n",
       "  </tbody>\n",
       "</table>\n",
       "</div>"
      ],
      "text/plain": [
       "   Order Date  Purchase Price Per Unit  Quantity Shipping Address State  \\\n",
       "0  2018-12-04                     7.98       1.0                     NJ   \n",
       "1  2018-12-22                    13.99       1.0                     NJ   \n",
       "2  2018-12-24                     8.99       1.0                     NJ   \n",
       "3  2018-12-25                    10.45       1.0                     NJ   \n",
       "4  2018-12-25                    10.00       1.0                     NJ   \n",
       "\n",
       "                                               Title ASIN/ISBN (Product Code)  \\\n",
       "0  SanDisk Ultra 16GB Class 10 SDHC UHS-I Memory ...               B0143RTB1E   \n",
       "1  Betron BS10 Earphones Wired Headphones in Ear ...               B01MA1MJ6H   \n",
       "2                                                NaN               B078JZTFN3   \n",
       "3  Perfecto Stainless Steel Shaving Bowl. Durable...               B06XWF9HML   \n",
       "4                      Proraso Shaving Cream for Men               B00837ZOI0   \n",
       "\n",
       "        Category  Survey ResponseID  \n",
       "0   FLASH_MEMORY  R_01vNIayewjIIKMF  \n",
       "1     HEADPHONES  R_01vNIayewjIIKMF  \n",
       "2            NaN  R_01vNIayewjIIKMF  \n",
       "3  DISHWARE_BOWL  R_01vNIayewjIIKMF  \n",
       "4  SHAVING_AGENT  R_01vNIayewjIIKMF  "
      ]
     },
     "execution_count": 8,
     "metadata": {},
     "output_type": "execute_result"
    }
   ],
   "source": [
    "purchase.head()"
   ]
  },
  {
   "cell_type": "code",
   "execution_count": 9,
   "id": "778d5eef",
   "metadata": {},
   "outputs": [],
   "source": [
    "purchase.drop(['Shipping Address State', 'Quantity'], axis = 1, inplace = True)"
   ]
  },
  {
   "cell_type": "code",
   "execution_count": 10,
   "id": "c1fcab7c",
   "metadata": {},
   "outputs": [
    {
     "data": {
      "text/plain": [
       "13167"
      ]
     },
     "execution_count": 10,
     "metadata": {},
     "output_type": "execute_result"
    }
   ],
   "source": [
    "purchase.duplicated().sum()"
   ]
  },
  {
   "cell_type": "code",
   "execution_count": 11,
   "id": "cbc520d3",
   "metadata": {},
   "outputs": [],
   "source": [
    "purchase = purchase.drop_duplicates() # 구매주기 계산할때 얘네는 간격이 0이 나와서 왜곡이 생기니까 drop이 맞을듯 (같은날 같은 상품 구매)"
   ]
  },
  {
   "cell_type": "code",
   "execution_count": 12,
   "id": "91e1cebb",
   "metadata": {},
   "outputs": [
    {
     "data": {
      "text/plain": [
       "0"
      ]
     },
     "execution_count": 12,
     "metadata": {},
     "output_type": "execute_result"
    }
   ],
   "source": [
    "purchase.duplicated().sum()"
   ]
  },
  {
   "cell_type": "code",
   "execution_count": 13,
   "id": "5f7ec80f",
   "metadata": {},
   "outputs": [
    {
     "name": "stderr",
     "output_type": "stream",
     "text": [
      "C:\\Users\\k\\AppData\\Local\\Temp\\ipykernel_16792\\3035970597.py:1: SettingWithCopyWarning: \n",
      "A value is trying to be set on a copy of a slice from a DataFrame\n",
      "\n",
      "See the caveats in the documentation: https://pandas.pydata.org/pandas-docs/stable/user_guide/indexing.html#returning-a-view-versus-a-copy\n",
      "  purchase.rename(columns={'ASIN/ISBN (Product Code)': 'ASIN'}, inplace=True)\n"
     ]
    }
   ],
   "source": [
    "purchase.rename(columns={'ASIN/ISBN (Product Code)': 'ASIN'}, inplace=True)"
   ]
  },
  {
   "cell_type": "code",
   "execution_count": 14,
   "id": "52d0a482",
   "metadata": {},
   "outputs": [
    {
     "data": {
      "application/vnd.microsoft.datawrangler.viewer.v0+json": {
       "columns": [
        {
         "name": "index",
         "rawType": "int64",
         "type": "integer"
        },
        {
         "name": "Order Date",
         "rawType": "object",
         "type": "string"
        },
        {
         "name": "Purchase Price Per Unit",
         "rawType": "float64",
         "type": "float"
        },
        {
         "name": "Title",
         "rawType": "object",
         "type": "unknown"
        },
        {
         "name": "ASIN",
         "rawType": "object",
         "type": "string"
        },
        {
         "name": "Category",
         "rawType": "object",
         "type": "unknown"
        },
        {
         "name": "Survey ResponseID",
         "rawType": "object",
         "type": "string"
        }
       ],
       "ref": "d8057c79-80a7-4444-bb58-05bab180de63",
       "rows": [
        [
         "0",
         "2018-12-04",
         "7.98",
         "SanDisk Ultra 16GB Class 10 SDHC UHS-I Memory Card up to 80MB/s (SDSDUNC-016G-GN6IN)",
         "B0143RTB1E",
         "FLASH_MEMORY",
         "R_01vNIayewjIIKMF"
        ],
        [
         "1",
         "2018-12-22",
         "13.99",
         "Betron BS10 Earphones Wired Headphones in Ear Noise Isolating Earbuds with Microphone and Volume Control Powerful Bass Driven Sound, 12mm Large Drivers, Ergonomic Design",
         "B01MA1MJ6H",
         "HEADPHONES",
         "R_01vNIayewjIIKMF"
        ],
        [
         "2",
         "2018-12-24",
         "8.99",
         null,
         "B078JZTFN3",
         null,
         "R_01vNIayewjIIKMF"
        ],
        [
         "3",
         "2018-12-25",
         "10.45",
         "Perfecto Stainless Steel Shaving Bowl. Durable Metal Mug For Shaving Soap & Cream. Perfect Addition To Your Wet Shaving Kit. Double Layer Smooth Shave Unbreakable Mug With Heat Insulation",
         "B06XWF9HML",
         "DISHWARE_BOWL",
         "R_01vNIayewjIIKMF"
        ],
        [
         "4",
         "2018-12-25",
         "10.0",
         "Proraso Shaving Cream for Men",
         "B00837ZOI0",
         "SHAVING_AGENT",
         "R_01vNIayewjIIKMF"
        ]
       ],
       "shape": {
        "columns": 6,
        "rows": 5
       }
      },
      "text/html": [
       "<div>\n",
       "<style scoped>\n",
       "    .dataframe tbody tr th:only-of-type {\n",
       "        vertical-align: middle;\n",
       "    }\n",
       "\n",
       "    .dataframe tbody tr th {\n",
       "        vertical-align: top;\n",
       "    }\n",
       "\n",
       "    .dataframe thead th {\n",
       "        text-align: right;\n",
       "    }\n",
       "</style>\n",
       "<table border=\"1\" class=\"dataframe\">\n",
       "  <thead>\n",
       "    <tr style=\"text-align: right;\">\n",
       "      <th></th>\n",
       "      <th>Order Date</th>\n",
       "      <th>Purchase Price Per Unit</th>\n",
       "      <th>Title</th>\n",
       "      <th>ASIN</th>\n",
       "      <th>Category</th>\n",
       "      <th>Survey ResponseID</th>\n",
       "    </tr>\n",
       "  </thead>\n",
       "  <tbody>\n",
       "    <tr>\n",
       "      <th>0</th>\n",
       "      <td>2018-12-04</td>\n",
       "      <td>7.98</td>\n",
       "      <td>SanDisk Ultra 16GB Class 10 SDHC UHS-I Memory ...</td>\n",
       "      <td>B0143RTB1E</td>\n",
       "      <td>FLASH_MEMORY</td>\n",
       "      <td>R_01vNIayewjIIKMF</td>\n",
       "    </tr>\n",
       "    <tr>\n",
       "      <th>1</th>\n",
       "      <td>2018-12-22</td>\n",
       "      <td>13.99</td>\n",
       "      <td>Betron BS10 Earphones Wired Headphones in Ear ...</td>\n",
       "      <td>B01MA1MJ6H</td>\n",
       "      <td>HEADPHONES</td>\n",
       "      <td>R_01vNIayewjIIKMF</td>\n",
       "    </tr>\n",
       "    <tr>\n",
       "      <th>2</th>\n",
       "      <td>2018-12-24</td>\n",
       "      <td>8.99</td>\n",
       "      <td>NaN</td>\n",
       "      <td>B078JZTFN3</td>\n",
       "      <td>NaN</td>\n",
       "      <td>R_01vNIayewjIIKMF</td>\n",
       "    </tr>\n",
       "    <tr>\n",
       "      <th>3</th>\n",
       "      <td>2018-12-25</td>\n",
       "      <td>10.45</td>\n",
       "      <td>Perfecto Stainless Steel Shaving Bowl. Durable...</td>\n",
       "      <td>B06XWF9HML</td>\n",
       "      <td>DISHWARE_BOWL</td>\n",
       "      <td>R_01vNIayewjIIKMF</td>\n",
       "    </tr>\n",
       "    <tr>\n",
       "      <th>4</th>\n",
       "      <td>2018-12-25</td>\n",
       "      <td>10.00</td>\n",
       "      <td>Proraso Shaving Cream for Men</td>\n",
       "      <td>B00837ZOI0</td>\n",
       "      <td>SHAVING_AGENT</td>\n",
       "      <td>R_01vNIayewjIIKMF</td>\n",
       "    </tr>\n",
       "  </tbody>\n",
       "</table>\n",
       "</div>"
      ],
      "text/plain": [
       "   Order Date  Purchase Price Per Unit  \\\n",
       "0  2018-12-04                     7.98   \n",
       "1  2018-12-22                    13.99   \n",
       "2  2018-12-24                     8.99   \n",
       "3  2018-12-25                    10.45   \n",
       "4  2018-12-25                    10.00   \n",
       "\n",
       "                                               Title        ASIN  \\\n",
       "0  SanDisk Ultra 16GB Class 10 SDHC UHS-I Memory ...  B0143RTB1E   \n",
       "1  Betron BS10 Earphones Wired Headphones in Ear ...  B01MA1MJ6H   \n",
       "2                                                NaN  B078JZTFN3   \n",
       "3  Perfecto Stainless Steel Shaving Bowl. Durable...  B06XWF9HML   \n",
       "4                      Proraso Shaving Cream for Men  B00837ZOI0   \n",
       "\n",
       "        Category  Survey ResponseID  \n",
       "0   FLASH_MEMORY  R_01vNIayewjIIKMF  \n",
       "1     HEADPHONES  R_01vNIayewjIIKMF  \n",
       "2            NaN  R_01vNIayewjIIKMF  \n",
       "3  DISHWARE_BOWL  R_01vNIayewjIIKMF  \n",
       "4  SHAVING_AGENT  R_01vNIayewjIIKMF  "
      ]
     },
     "execution_count": 14,
     "metadata": {},
     "output_type": "execute_result"
    }
   ],
   "source": [
    "purchase.head()"
   ]
  },
  {
   "cell_type": "code",
   "execution_count": 15,
   "id": "9fa06fba",
   "metadata": {},
   "outputs": [
    {
     "data": {
      "application/vnd.microsoft.datawrangler.viewer.v0+json": {
       "columns": [
        {
         "name": "index",
         "rawType": "object",
         "type": "string"
        },
        {
         "name": "0",
         "rawType": "int64",
         "type": "integer"
        }
       ],
       "ref": "1ad89a23-ff8b-4796-bf8b-ea694ec53e3a",
       "rows": [
        [
         "Order Date",
         "0"
        ],
        [
         "Purchase Price Per Unit",
         "0"
        ],
        [
         "Title",
         "89422"
        ],
        [
         "ASIN",
         "961"
        ],
        [
         "Category",
         "89144"
        ],
        [
         "Survey ResponseID",
         "0"
        ]
       ],
       "shape": {
        "columns": 1,
        "rows": 6
       }
      },
      "text/plain": [
       "Order Date                     0\n",
       "Purchase Price Per Unit        0\n",
       "Title                      89422\n",
       "ASIN                         961\n",
       "Category                   89144\n",
       "Survey ResponseID              0\n",
       "dtype: int64"
      ]
     },
     "execution_count": 15,
     "metadata": {},
     "output_type": "execute_result"
    }
   ],
   "source": [
    "purchase.isnull().sum()"
   ]
  },
  {
   "cell_type": "code",
   "execution_count": 16,
   "id": "adc00370",
   "metadata": {},
   "outputs": [
    {
     "data": {
      "application/vnd.microsoft.datawrangler.viewer.v0+json": {
       "columns": [
        {
         "name": "index",
         "rawType": "int64",
         "type": "integer"
        },
        {
         "name": "Order Date",
         "rawType": "object",
         "type": "string"
        },
        {
         "name": "Purchase Price Per Unit",
         "rawType": "float64",
         "type": "float"
        },
        {
         "name": "Title",
         "rawType": "object",
         "type": "unknown"
        },
        {
         "name": "ASIN",
         "rawType": "object",
         "type": "unknown"
        },
        {
         "name": "Category",
         "rawType": "object",
         "type": "unknown"
        },
        {
         "name": "Survey ResponseID",
         "rawType": "object",
         "type": "string"
        }
       ],
       "ref": "cc17e9c6-bb0a-47c1-bafc-898f67dc1176",
       "rows": [
        [
         "0",
         "2018-12-04",
         "7.98",
         "SanDisk Ultra 16GB Class 10 SDHC UHS-I Memory Card up to 80MB/s (SDSDUNC-016G-GN6IN)",
         "B0143RTB1E",
         "FLASH_MEMORY",
         "R_01vNIayewjIIKMF"
        ],
        [
         "1",
         "2018-12-22",
         "13.99",
         "Betron BS10 Earphones Wired Headphones in Ear Noise Isolating Earbuds with Microphone and Volume Control Powerful Bass Driven Sound, 12mm Large Drivers, Ergonomic Design",
         "B01MA1MJ6H",
         "HEADPHONES",
         "R_01vNIayewjIIKMF"
        ],
        [
         "2",
         "2018-12-24",
         "8.99",
         null,
         "B078JZTFN3",
         null,
         "R_01vNIayewjIIKMF"
        ],
        [
         "3",
         "2018-12-25",
         "10.45",
         "Perfecto Stainless Steel Shaving Bowl. Durable Metal Mug For Shaving Soap & Cream. Perfect Addition To Your Wet Shaving Kit. Double Layer Smooth Shave Unbreakable Mug With Heat Insulation",
         "B06XWF9HML",
         "DISHWARE_BOWL",
         "R_01vNIayewjIIKMF"
        ],
        [
         "4",
         "2018-12-25",
         "10.0",
         "Proraso Shaving Cream for Men",
         "B00837ZOI0",
         "SHAVING_AGENT",
         "R_01vNIayewjIIKMF"
        ],
        [
         "5",
         "2019-02-18",
         "10.99",
         "Micro USB Cable Android Charger - Syncwire [2-Pack 6.6ft] Super-Durable Nylon Braided Fast Sync&Charging Cord for Samsung Galaxy S7 Edge/S7/S6, HTC, LG, Sony, Xbox One, PS4 - Space Grey",
         "B01GFB2E9M",
         "COMPUTER_PROCESSOR",
         "R_01vNIayewjIIKMF"
        ],
        [
         "6",
         "2019-02-18",
         "4.99",
         "Amazon Basics USB 2.0 Charger Cable - A-Male to Mini-B Cord - 3 Feet (0.9 Meters)",
         "B00NH13S44",
         "COMPUTER_ADD_ON",
         "R_01vNIayewjIIKMF"
        ],
        [
         "7",
         "2019-03-15",
         "124.99",
         "Fire HD 8 Tablet (8\" HD Display, 32 GB, without Special Offers) - Black (Previous Generation - 8th)",
         "B077H6L7T9",
         "AMAZON_TABLET",
         "R_01vNIayewjIIKMF"
        ],
        [
         "8",
         "2019-04-23",
         "12.99",
         "Men's Leather Belt, Ratchet Dress Belt with Automatic Buckle for Father's Day Gift by WERFORU",
         "B07L84ZZXC",
         "APPAREL_BELT",
         "R_01vNIayewjIIKMF"
        ],
        [
         "9",
         "2019-04-23",
         "24.69",
         null,
         "B06XKNWJN2",
         null,
         "R_01vNIayewjIIKMF"
        ],
        [
         "10",
         "2019-05-02",
         "9.99",
         "UGREEN Tablet Stand Holder Adjustable Portable Desktop Holder Dock Compatible for iPad 10.2 iPad Pro 11 Inch iPad 9.7 iPad Mini 5 4 3 2 iPad Air iPhone 13 12 Pro Max 11 XS XR Black",
         "B07CG71KQ1",
         "PORTABLE_ELECTRONIC_DEVICE_STAND",
         "R_01vNIayewjIIKMF"
        ],
        [
         "11",
         "2019-05-02",
         "12.79",
         "Betron B25 in-Ear Headphones Earphones with Microphone and Volume Controller, Noise Isolating Earbud Tips, 3.5mm Head Phone Jack",
         "B079GFF4HZ",
         "HEADPHONES",
         "R_01vNIayewjIIKMF"
        ],
        [
         "12",
         "2019-05-11",
         "9.14",
         "NEW Norpro Instant Immersion Heater Coffee/Tea/Soup Electric Water Portable Reheater",
         "B01M0Q84BR",
         "IMMERSION_HEATER",
         "R_01vNIayewjIIKMF"
        ],
        [
         "13",
         "2019-05-16",
         "9.99",
         "Betron BS10 Earphones Wired Headphones in Ear Noise Isolating Earbuds with Microphone and Volume Control Powerful Bass Driven Sound, 12mm Large Drivers, Ergonomic Design",
         "B01MA1MJ6H",
         "HEADPHONES",
         "R_01vNIayewjIIKMF"
        ],
        [
         "14",
         "2019-06-15",
         "19.99",
         "SanDisk 128GB Ultra MicroSDXC UHS-I Memory Card with Adapter - 100MB/s, C10, U1, Full HD, A1, Micro SD Card - SDSQUAR-128G-GN6MA",
         "B073JYC4XM",
         "FLASH_MEMORY",
         "R_01vNIayewjIIKMF"
        ],
        [
         "15",
         "2019-06-15",
         "14.72",
         "Slippery Stuff, 16 oz Gel, Clear, Pound , Unscented, 1 Count (LU031)",
         "B00I7DT454",
         "BODY_LUBRICANT",
         "R_01vNIayewjIIKMF"
        ],
        [
         "16",
         "2019-06-25",
         "9.99",
         "Betron BS10 Earphones Wired Headphones in Ear Noise Isolating Earbuds with Microphone and Volume Control Powerful Bass Driven Sound, 12mm Large Drivers, Ergonomic Design",
         "B01MA1MJ6H",
         "HEADPHONES",
         "R_01vNIayewjIIKMF"
        ],
        [
         "17",
         "2019-07-14",
         "26.77",
         "Logitech M570 Wireless Trackball Mouse – Ergonomic Design with Sculpted Right-Hand Shape, Compatible with Apple Mac / Microsoft, USB Unifying Receiver, Dark Gray (Discontinued by Manufacturer)",
         "B0043T7FXE",
         "INPUT_MOUSE",
         "R_01vNIayewjIIKMF"
        ],
        [
         "18",
         "2019-08-02",
         "12.99",
         "Betron BS10 Earphones Wired in Ear Earbud Headphones Strong Bass Noise Isolating Ear Buds 3.5mm Jack Tangle-Free Cord Compatible with Tablet Laptop iPhone iPad Smartphones",
         "B01M2V05RE",
         "HEADPHONES",
         "R_01vNIayewjIIKMF"
        ],
        [
         "19",
         "2019-08-10",
         "7.95",
         "TUDIA Motorola Moto G6 Case, Full-Matte Lightweight [Arch S] TPU Bumper Shock Absorption Cover for Motorola Moto G6 (Black)",
         "B07BCZMBNR",
         "CELLULAR_PHONE_CASE",
         "R_01vNIayewjIIKMF"
        ],
        [
         "20",
         "2019-09-06",
         "53.95",
         "WOWMAX Triangular Reading Pillow Large Bolster Headboard Backrest Positioning Support Wedge Pillow, Pillow for Day Bed Bunk Bed with Removable Cover Jean Blue 39x8x20inch",
         "B075CMYT43",
         "BODY_POSITIONER",
         "R_01vNIayewjIIKMF"
        ],
        [
         "21",
         "2019-09-09",
         "19.99",
         "KROSER Laptop Bag 15.6 Inch Briefcase Shoulder Bag Water Repellent Laptop Bag Satchel Tablet Bussiness Carrying Handbag Laptop Sleeve for Women and Men-Charcoal Black",
         "B01MZ956SX",
         "HANDBAG",
         "R_01vNIayewjIIKMF"
        ],
        [
         "22",
         "2019-09-09",
         "14.99",
         "Gildan Men's Boxer Briefs, Multipack",
         "B07JCJP1DK",
         "UNDERPANTS",
         "R_01vNIayewjIIKMF"
        ],
        [
         "23",
         "2019-09-13",
         "14.99",
         "Gildan Men's Boxer Briefs, Multipack",
         "B07JD5B8SP",
         "UNDERPANTS",
         "R_01vNIayewjIIKMF"
        ],
        [
         "24",
         "2019-09-13",
         "4.85",
         "Tape Measure for Body Measuring Tape for Body Measurements Tape Tailor Clothing",
         "B071XGLB1S",
         "TAPE_MEASURE",
         "R_01vNIayewjIIKMF"
        ],
        [
         "25",
         "2019-09-13",
         "8.95",
         "Poetic SlimFolio case for All-New Amazon Fire HD 8 Tablet (7th and 8th Generation, 2017 and 2018 Release) - Slim Leather Stand Folio Smart Cover Case with Auto Wake/Sleep - Black",
         "B071ZBV7DY",
         "AMAZON_TABLET_ACCESSORY",
         "R_01vNIayewjIIKMF"
        ],
        [
         "26",
         "2019-09-27",
         "139.99",
         "WD 8TB Elements Desktop External Hard Drive, USB 3.0 external hard drive for plug-and-play storage - WDBWLG0080HBK-NESN",
         "B07D5V2ZXD",
         "COMPUTER_DRIVE_OR_STORAGE",
         "R_01vNIayewjIIKMF"
        ],
        [
         "27",
         "2019-09-28",
         "7.92",
         "Colgate Cavity Protection Toothpaste with Fluoride, Great Regular Flavor, 6 Ounce Tube, 6 Pack",
         "B01BNEWDFQ",
         "TOOTH_CLEANING_AGENT",
         "R_01vNIayewjIIKMF"
        ],
        [
         "28",
         "2019-09-28",
         "19.99",
         "Scott 1000 Sheets Per Roll Toilet Paper, 27 Rolls, Bath Tissue",
         "B01NBYY28W",
         "TOILET_PAPER",
         "R_01vNIayewjIIKMF"
        ],
        [
         "29",
         "2019-09-28",
         "3.92",
         "Crest Scope Outlast Mouthwash, Long Lasting Peppermint, 1 L",
         "B019FGCOW6",
         "MOUTHWASH",
         "R_01vNIayewjIIKMF"
        ],
        [
         "30",
         "2019-10-02",
         "19.99",
         "Anker Powerline II USB-C to USB-C 3.1 Gen 2 Cable (3ft) with Power Delivery, for Apple MacBook, Huawei Matebook, iPad Pro 2020, Chromebook, Pixel, Switch, and More Type-C Devices/Laptops",
         "B072JYDQ7N",
         "ELECTRONIC_CABLE",
         "R_01vNIayewjIIKMF"
        ],
        [
         "31",
         "2019-10-02",
         "8.99",
         "Kingsdun 12Pcs Magnetic Torx Screwdriver Sets with T3 T4 T5 T6 T7 T8 T10 Star Screw drivers, Stainless Steel Tweezers & Philip Slotted Screwdrivers for Phone/Mac/Camera/Computer Repairing -Yellow",
         "B00MUJU33S",
         "SCREWDRIVER",
         "R_01vNIayewjIIKMF"
        ],
        [
         "32",
         "2019-10-05",
         "25.0",
         "Best Buy Gift Cards - Email Delivery",
         "B07RTN4C77",
         "GIFT_CARD",
         "R_01vNIayewjIIKMF"
        ],
        [
         "33",
         "2019-10-06",
         "50.0",
         "Best Buy Gift Cards - Email Delivery",
         "B07RTN4C77",
         "GIFT_CARD",
         "R_01vNIayewjIIKMF"
        ],
        [
         "35",
         "2019-10-07",
         "7.49",
         "BetterBody Foods Refined Avocado Oil, Non-GMO Cooking Oil, Kosher, Keto and Paleo Diet Friendly, for High-Heat Cooking, Frying, Baking, 100% Pure Avocado Oil, 500 mL, 16.9 Fl Oz",
         "B01IQ00B04",
         "EDIBLE_OIL_VEGETABLE",
         "R_01vNIayewjIIKMF"
        ],
        [
         "36",
         "2019-10-07",
         "11.94",
         null,
         "B07CZ6JCZS",
         null,
         "R_01vNIayewjIIKMF"
        ],
        [
         "37",
         "2019-10-07",
         "7.34",
         "Pompeian USDA Organic Robust Extra Virgin Olive Oil, First Cold Pressed, Full-Bodied Flavor, Perfect for Salad Dressings & Marinades, 24 FL. OZ.",
         "B017ALC6GW",
         "EDIBLE_OIL_VEGETABLE",
         "R_01vNIayewjIIKMF"
        ],
        [
         "38",
         "2019-10-12",
         "45.0",
         "$15/Month Mint Mobile Phone Plan | 4GB of 5G • 4G LTE Data + Unlimited Talk & Text for 3 Months (3-in-1 SIM Card)",
         "B0741FV7ZV",
         "SIM_CARD",
         "R_01vNIayewjIIKMF"
        ],
        [
         "39",
         "2019-10-16",
         "54.99",
         "ZINUS SmartBase Tool-Free Assembly Mattress Foundation / 14 Inch Metal Platform Bed Frame / No Box Spring Needed / Sturdy Steel Frame / Underbed Storage, Black, Twin, Regular",
         "B006MIPW70",
         "BED_FRAME",
         "R_01vNIayewjIIKMF"
        ],
        [
         "40",
         "2019-10-18",
         "4.2",
         "McCormick Black Peppercorn Grinder, 2.5 oz",
         "B01LZKYNIM",
         "HERB",
         "R_01vNIayewjIIKMF"
        ],
        [
         "41",
         "2019-10-18",
         "14.26",
         null,
         "B00KVM2SSO",
         null,
         "R_01vNIayewjIIKMF"
        ],
        [
         "42",
         "2019-10-31",
         "4.99",
         "Dietz & Watson deli Sliced Black Forest Smoked Ham, 0.5 lbs",
         "B00NC8QEKM",
         "MEAT",
         "R_01vNIayewjIIKMF"
        ],
        [
         "43",
         "2019-10-31",
         "3.79",
         "Kerrygold Pure Irish Butter, Salted, 8 oz",
         "B0011EKWBQ",
         "DAIRY_BASED_BUTTER",
         "R_01vNIayewjIIKMF"
        ],
        [
         "44",
         "2019-10-31",
         "4.99",
         "Dietz & Watson Sliced Mozzarella Cheese, 0.5 lbs",
         "B00NC882CA",
         "DAIRY_BASED_CHEESE",
         "R_01vNIayewjIIKMF"
        ],
        [
         "45",
         "2019-10-31",
         "10.98",
         "Jack Links Premium Cuts Beef Steak, Original, Strips -Great Protein Snack with 11g of Protein and 1g of Carbs Per Serving, Made with Beef, 1 Ounce (Pack of 12)",
         "B00B9GUZP4",
         "JERKY",
         "R_01vNIayewjIIKMF"
        ],
        [
         "46",
         "2019-11-25",
         "3.75",
         "Wet Naturals Beautifully Bare - 3.3 fl oz",
         "B000QD9C8M",
         "BODY_LUBRICANT",
         "R_01vNIayewjIIKMF"
        ],
        [
         "47",
         "2019-11-25",
         "17.69",
         "Tracy's Dog Male Masturbators Pocket Pussy Realistic Stroker Lifelike Vaginal Oral Sex Toys for Man Masturbation (Flesh)",
         "B01LZ5SB6U",
         "SEXUAL_STIMULATION_DEVICE",
         "R_01vNIayewjIIKMF"
        ],
        [
         "48",
         "2019-12-02",
         "27.99",
         "SAMSUNG (MB-ME256GA/AM) 256GB 100MB/s (U3) MicroSDXC EVO Select Memory Card with Full-Size Adapter",
         "B072HRDM55",
         "FLASH_MEMORY",
         "R_01vNIayewjIIKMF"
        ],
        [
         "49",
         "2019-12-02",
         "10.49",
         "LubeLife Water-Based Personal Lubricant, Lube for Men, Women and Couples, Non-Staining, 12 Fl Oz",
         "B07DGQ4QR3",
         "BODY_LUBRICANT",
         "R_01vNIayewjIIKMF"
        ],
        [
         "50",
         "2019-12-13",
         "16.99",
         "SAMSUNG (MB-ME128GA/AM) 128GB 100MB/s (U3) MicroSDXC EVO Select Memory Card with Full-Size Adapter",
         "B06XWZWYVP",
         "FLASH_MEMORY",
         "R_01vNIayewjIIKMF"
        ]
       ],
       "shape": {
        "columns": 6,
        "rows": 1837550
       }
      },
      "text/html": [
       "<div>\n",
       "<style scoped>\n",
       "    .dataframe tbody tr th:only-of-type {\n",
       "        vertical-align: middle;\n",
       "    }\n",
       "\n",
       "    .dataframe tbody tr th {\n",
       "        vertical-align: top;\n",
       "    }\n",
       "\n",
       "    .dataframe thead th {\n",
       "        text-align: right;\n",
       "    }\n",
       "</style>\n",
       "<table border=\"1\" class=\"dataframe\">\n",
       "  <thead>\n",
       "    <tr style=\"text-align: right;\">\n",
       "      <th></th>\n",
       "      <th>Order Date</th>\n",
       "      <th>Purchase Price Per Unit</th>\n",
       "      <th>Title</th>\n",
       "      <th>ASIN</th>\n",
       "      <th>Category</th>\n",
       "      <th>Survey ResponseID</th>\n",
       "    </tr>\n",
       "  </thead>\n",
       "  <tbody>\n",
       "    <tr>\n",
       "      <th>0</th>\n",
       "      <td>2018-12-04</td>\n",
       "      <td>7.98</td>\n",
       "      <td>SanDisk Ultra 16GB Class 10 SDHC UHS-I Memory ...</td>\n",
       "      <td>B0143RTB1E</td>\n",
       "      <td>FLASH_MEMORY</td>\n",
       "      <td>R_01vNIayewjIIKMF</td>\n",
       "    </tr>\n",
       "    <tr>\n",
       "      <th>1</th>\n",
       "      <td>2018-12-22</td>\n",
       "      <td>13.99</td>\n",
       "      <td>Betron BS10 Earphones Wired Headphones in Ear ...</td>\n",
       "      <td>B01MA1MJ6H</td>\n",
       "      <td>HEADPHONES</td>\n",
       "      <td>R_01vNIayewjIIKMF</td>\n",
       "    </tr>\n",
       "    <tr>\n",
       "      <th>2</th>\n",
       "      <td>2018-12-24</td>\n",
       "      <td>8.99</td>\n",
       "      <td>NaN</td>\n",
       "      <td>B078JZTFN3</td>\n",
       "      <td>NaN</td>\n",
       "      <td>R_01vNIayewjIIKMF</td>\n",
       "    </tr>\n",
       "    <tr>\n",
       "      <th>3</th>\n",
       "      <td>2018-12-25</td>\n",
       "      <td>10.45</td>\n",
       "      <td>Perfecto Stainless Steel Shaving Bowl. Durable...</td>\n",
       "      <td>B06XWF9HML</td>\n",
       "      <td>DISHWARE_BOWL</td>\n",
       "      <td>R_01vNIayewjIIKMF</td>\n",
       "    </tr>\n",
       "    <tr>\n",
       "      <th>4</th>\n",
       "      <td>2018-12-25</td>\n",
       "      <td>10.00</td>\n",
       "      <td>Proraso Shaving Cream for Men</td>\n",
       "      <td>B00837ZOI0</td>\n",
       "      <td>SHAVING_AGENT</td>\n",
       "      <td>R_01vNIayewjIIKMF</td>\n",
       "    </tr>\n",
       "    <tr>\n",
       "      <th>...</th>\n",
       "      <td>...</td>\n",
       "      <td>...</td>\n",
       "      <td>...</td>\n",
       "      <td>...</td>\n",
       "      <td>...</td>\n",
       "      <td>...</td>\n",
       "    </tr>\n",
       "    <tr>\n",
       "      <th>1850712</th>\n",
       "      <td>2021-04-01</td>\n",
       "      <td>6.99</td>\n",
       "      <td>Tanner's Tasty Paste Vanilla Bling - Anticavit...</td>\n",
       "      <td>B015ZRTHVA</td>\n",
       "      <td>TOOTH_CLEANING_AGENT</td>\n",
       "      <td>R_zfqnsBzlOAKibzb</td>\n",
       "    </tr>\n",
       "    <tr>\n",
       "      <th>1850713</th>\n",
       "      <td>2021-04-14</td>\n",
       "      <td>15.99</td>\n",
       "      <td>Sinland Microfiber Cleaning Cloth Dish Cloth K...</td>\n",
       "      <td>B00QGCXPRG</td>\n",
       "      <td>TOWEL</td>\n",
       "      <td>R_zfqnsBzlOAKibzb</td>\n",
       "    </tr>\n",
       "    <tr>\n",
       "      <th>1850714</th>\n",
       "      <td>2021-05-22</td>\n",
       "      <td>6.99</td>\n",
       "      <td>Tanner's Tasty Paste Vanilla Bling - Anticavit...</td>\n",
       "      <td>B015ZRTHVA</td>\n",
       "      <td>TOOTH_CLEANING_AGENT</td>\n",
       "      <td>R_zfqnsBzlOAKibzb</td>\n",
       "    </tr>\n",
       "    <tr>\n",
       "      <th>1850715</th>\n",
       "      <td>2021-12-01</td>\n",
       "      <td>6.99</td>\n",
       "      <td>Tanner's Tasty Paste Vanilla Bling - Anticavit...</td>\n",
       "      <td>B015ZRTHVA</td>\n",
       "      <td>TOOTH_CLEANING_AGENT</td>\n",
       "      <td>R_zfqnsBzlOAKibzb</td>\n",
       "    </tr>\n",
       "    <tr>\n",
       "      <th>1850716</th>\n",
       "      <td>2022-09-19</td>\n",
       "      <td>19.99</td>\n",
       "      <td>Wild Mystic Oracle Card Deck: A 50-Card Deck a...</td>\n",
       "      <td>1441337652</td>\n",
       "      <td>ABIS_BOOK</td>\n",
       "      <td>R_zfqnsBzlOAKibzb</td>\n",
       "    </tr>\n",
       "  </tbody>\n",
       "</table>\n",
       "<p>1837550 rows × 6 columns</p>\n",
       "</div>"
      ],
      "text/plain": [
       "         Order Date  Purchase Price Per Unit  \\\n",
       "0        2018-12-04                     7.98   \n",
       "1        2018-12-22                    13.99   \n",
       "2        2018-12-24                     8.99   \n",
       "3        2018-12-25                    10.45   \n",
       "4        2018-12-25                    10.00   \n",
       "...             ...                      ...   \n",
       "1850712  2021-04-01                     6.99   \n",
       "1850713  2021-04-14                    15.99   \n",
       "1850714  2021-05-22                     6.99   \n",
       "1850715  2021-12-01                     6.99   \n",
       "1850716  2022-09-19                    19.99   \n",
       "\n",
       "                                                     Title        ASIN  \\\n",
       "0        SanDisk Ultra 16GB Class 10 SDHC UHS-I Memory ...  B0143RTB1E   \n",
       "1        Betron BS10 Earphones Wired Headphones in Ear ...  B01MA1MJ6H   \n",
       "2                                                      NaN  B078JZTFN3   \n",
       "3        Perfecto Stainless Steel Shaving Bowl. Durable...  B06XWF9HML   \n",
       "4                            Proraso Shaving Cream for Men  B00837ZOI0   \n",
       "...                                                    ...         ...   \n",
       "1850712  Tanner's Tasty Paste Vanilla Bling - Anticavit...  B015ZRTHVA   \n",
       "1850713  Sinland Microfiber Cleaning Cloth Dish Cloth K...  B00QGCXPRG   \n",
       "1850714  Tanner's Tasty Paste Vanilla Bling - Anticavit...  B015ZRTHVA   \n",
       "1850715  Tanner's Tasty Paste Vanilla Bling - Anticavit...  B015ZRTHVA   \n",
       "1850716  Wild Mystic Oracle Card Deck: A 50-Card Deck a...  1441337652   \n",
       "\n",
       "                     Category  Survey ResponseID  \n",
       "0                FLASH_MEMORY  R_01vNIayewjIIKMF  \n",
       "1                  HEADPHONES  R_01vNIayewjIIKMF  \n",
       "2                         NaN  R_01vNIayewjIIKMF  \n",
       "3               DISHWARE_BOWL  R_01vNIayewjIIKMF  \n",
       "4               SHAVING_AGENT  R_01vNIayewjIIKMF  \n",
       "...                       ...                ...  \n",
       "1850712  TOOTH_CLEANING_AGENT  R_zfqnsBzlOAKibzb  \n",
       "1850713                 TOWEL  R_zfqnsBzlOAKibzb  \n",
       "1850714  TOOTH_CLEANING_AGENT  R_zfqnsBzlOAKibzb  \n",
       "1850715  TOOTH_CLEANING_AGENT  R_zfqnsBzlOAKibzb  \n",
       "1850716             ABIS_BOOK  R_zfqnsBzlOAKibzb  \n",
       "\n",
       "[1837550 rows x 6 columns]"
      ]
     },
     "execution_count": 16,
     "metadata": {},
     "output_type": "execute_result"
    }
   ],
   "source": [
    "purchase"
   ]
  },
  {
   "cell_type": "code",
   "execution_count": 17,
   "id": "529b97a0",
   "metadata": {},
   "outputs": [
    {
     "data": {
      "application/vnd.microsoft.datawrangler.viewer.v0+json": {
       "columns": [
        {
         "name": "index",
         "rawType": "int64",
         "type": "integer"
        },
        {
         "name": "Order Date",
         "rawType": "object",
         "type": "string"
        },
        {
         "name": "Purchase Price Per Unit",
         "rawType": "float64",
         "type": "float"
        },
        {
         "name": "Title",
         "rawType": "object",
         "type": "unknown"
        },
        {
         "name": "ASIN",
         "rawType": "object",
         "type": "unknown"
        },
        {
         "name": "Category",
         "rawType": "object",
         "type": "unknown"
        },
        {
         "name": "Survey ResponseID",
         "rawType": "object",
         "type": "string"
        },
        {
         "name": "Rating",
         "rawType": "object",
         "type": "unknown"
        },
        {
         "name": "Rating Count",
         "rawType": "float64",
         "type": "float"
        },
        {
         "name": "Category 1",
         "rawType": "object",
         "type": "unknown"
        },
        {
         "name": "Category 2",
         "rawType": "object",
         "type": "unknown"
        },
        {
         "name": "Category 3",
         "rawType": "object",
         "type": "unknown"
        },
        {
         "name": "Category 4",
         "rawType": "object",
         "type": "unknown"
        },
        {
         "name": "Category 5",
         "rawType": "object",
         "type": "unknown"
        },
        {
         "name": "Category 6",
         "rawType": "object",
         "type": "unknown"
        },
        {
         "name": "Category 7",
         "rawType": "object",
         "type": "unknown"
        },
        {
         "name": "Category 8",
         "rawType": "object",
         "type": "unknown"
        }
       ],
       "ref": "ba1eb4b7-333b-4353-b676-c7a6f6c2b000",
       "rows": [
        [
         "0",
         "2018-12-04",
         "7.98",
         "SanDisk Ultra 16GB Class 10 SDHC UHS-I Memory Card up to 80MB/s (SDSDUNC-016G-GN6IN)",
         "B0143RTB1E",
         "FLASH_MEMORY",
         "R_01vNIayewjIIKMF",
         "4.7",
         "118698.0",
         "Electronics",
         "Computers & Accessories",
         "Computer Accessories & Peripherals",
         "Memory Cards",
         "SD Cards",
         null,
         null,
         null
        ],
        [
         "1",
         "2018-12-22",
         "13.99",
         "Betron BS10 Earphones Wired Headphones in Ear Noise Isolating Earbuds with Microphone and Volume Control Powerful Bass Driven Sound, 12mm Large Drivers, Ergonomic Design",
         "B01MA1MJ6H",
         "HEADPHONES",
         "R_01vNIayewjIIKMF",
         "4.2",
         "26525.0",
         "Electronics",
         "Headphones, Earbuds & Accessories",
         "Headphones & Earbuds",
         "Earbud Headphones",
         null,
         null,
         null,
         null
        ],
        [
         "2",
         "2018-12-24",
         "8.99",
         null,
         "B078JZTFN3",
         null,
         "R_01vNIayewjIIKMF",
         null,
         null,
         null,
         null,
         null,
         null,
         null,
         null,
         null,
         null
        ],
        [
         "3",
         "2018-12-25",
         "10.45",
         "Perfecto Stainless Steel Shaving Bowl. Durable Metal Mug For Shaving Soap & Cream. Perfect Addition To Your Wet Shaving Kit. Double Layer Smooth Shave Unbreakable Mug With Heat Insulation",
         "B06XWF9HML",
         "DISHWARE_BOWL",
         "R_01vNIayewjIIKMF",
         "4.6",
         "908.0",
         "Beauty & Personal Care",
         "Shave & Hair Removal",
         "Men's",
         "Shaving Accessories",
         "Shaving Soap Bowls",
         null,
         null,
         null
        ],
        [
         "4",
         "2018-12-25",
         "10.0",
         "Proraso Shaving Cream for Men",
         "B00837ZOI0",
         "SHAVING_AGENT",
         "R_01vNIayewjIIKMF",
         "4.7",
         "12344.0",
         "Beauty & Personal Care",
         "Shave & Hair Removal",
         "Men's",
         "Shaving Creams, Lotions & Gels",
         "Shaving Creams",
         null,
         null,
         null
        ],
        [
         "5",
         "2019-02-18",
         "10.99",
         "Micro USB Cable Android Charger - Syncwire [2-Pack 6.6ft] Super-Durable Nylon Braided Fast Sync&Charging Cord for Samsung Galaxy S7 Edge/S7/S6, HTC, LG, Sony, Xbox One, PS4 - Space Grey",
         "B01GFB2E9M",
         "COMPUTER_PROCESSOR",
         "R_01vNIayewjIIKMF",
         "4.5",
         "25562.0",
         "Electronics",
         "Computers & Accessories",
         "Computer Accessories & Peripherals",
         "Cables & Accessories",
         "Cables & Interconnects",
         "USB Cables",
         null,
         null
        ],
        [
         "6",
         "2019-02-18",
         "4.99",
         "Amazon Basics USB 2.0 Charger Cable - A-Male to Mini-B Cord - 3 Feet (0.9 Meters)",
         "B00NH13S44",
         "COMPUTER_ADD_ON",
         "R_01vNIayewjIIKMF",
         "4.6",
         "65376.0",
         "Electronics",
         "Computers & Accessories",
         "Computer Accessories & Peripherals",
         "Cables & Accessories",
         "Cables & Interconnects",
         "USB Cables",
         null,
         null
        ],
        [
         "7",
         "2019-03-15",
         "124.99",
         "Fire HD 8 Tablet (8\" HD Display, 32 GB, without Special Offers) - Black (Previous Generation - 8th)",
         "B077H6L7T9",
         "AMAZON_TABLET",
         "R_01vNIayewjIIKMF",
         "4.4",
         "93211.0",
         null,
         null,
         null,
         null,
         null,
         null,
         null,
         null
        ],
        [
         "8",
         "2019-04-23",
         "12.99",
         "Men's Leather Belt, Ratchet Dress Belt with Automatic Buckle for Father's Day Gift by WERFORU",
         "B07L84ZZXC",
         "APPAREL_BELT",
         "R_01vNIayewjIIKMF",
         "4.3",
         "148.0",
         "Clothing, Shoes & Jewelry",
         "Sport Specific Clothing",
         "Golf",
         "Men",
         "Accessories",
         "Belts",
         null,
         null
        ],
        [
         "9",
         "2019-04-23",
         "24.69",
         null,
         "B06XKNWJN2",
         null,
         "R_01vNIayewjIIKMF",
         null,
         null,
         null,
         null,
         null,
         null,
         null,
         null,
         null,
         null
        ],
        [
         "10",
         "2019-05-02",
         "9.99",
         "UGREEN Tablet Stand Holder Adjustable Portable Desktop Holder Dock Compatible for iPad 10.2 iPad Pro 11 Inch iPad 9.7 iPad Mini 5 4 3 2 iPad Air iPhone 13 12 Pro Max 11 XS XR Black",
         "B07CG71KQ1",
         "PORTABLE_ELECTRONIC_DEVICE_STAND",
         "R_01vNIayewjIIKMF",
         "4.5",
         "51012.0",
         "Electronics",
         "Computers & Accessories",
         "Tablet Accessories",
         "Stands",
         null,
         null,
         null,
         null
        ],
        [
         "11",
         "2019-05-02",
         "12.79",
         "Betron B25 in-Ear Headphones Earphones with Microphone and Volume Controller, Noise Isolating Earbud Tips, 3.5mm Head Phone Jack",
         "B079GFF4HZ",
         "HEADPHONES",
         "R_01vNIayewjIIKMF",
         "4.1",
         "5730.0",
         "Electronics",
         "Headphones, Earbuds & Accessories",
         "Headphones & Earbuds",
         "Earbud Headphones",
         null,
         null,
         null,
         null
        ],
        [
         "12",
         "2019-05-11",
         "9.14",
         "NEW Norpro Instant Immersion Heater Coffee/Tea/Soup Electric Water Portable Reheater",
         "B01M0Q84BR",
         "IMMERSION_HEATER",
         "R_01vNIayewjIIKMF",
         "4.1",
         "2718.0",
         "Home & Kitchen",
         "Kitchen & Dining",
         "Coffee, Tea & Espresso",
         "Kettles & Tea Machines",
         "Electric Kettles",
         null,
         null,
         null
        ],
        [
         "13",
         "2019-05-16",
         "9.99",
         "Betron BS10 Earphones Wired Headphones in Ear Noise Isolating Earbuds with Microphone and Volume Control Powerful Bass Driven Sound, 12mm Large Drivers, Ergonomic Design",
         "B01MA1MJ6H",
         "HEADPHONES",
         "R_01vNIayewjIIKMF",
         "4.2",
         "26525.0",
         "Electronics",
         "Headphones, Earbuds & Accessories",
         "Headphones & Earbuds",
         "Earbud Headphones",
         null,
         null,
         null,
         null
        ],
        [
         "14",
         "2019-06-15",
         "19.99",
         "SanDisk 128GB Ultra MicroSDXC UHS-I Memory Card with Adapter - 100MB/s, C10, U1, Full HD, A1, Micro SD Card - SDSQUAR-128G-GN6MA",
         "B073JYC4XM",
         "FLASH_MEMORY",
         "R_01vNIayewjIIKMF",
         "4.7",
         "219383.0",
         "Electronics",
         "Computers & Accessories",
         "Computer Accessories & Peripherals",
         "Memory Cards",
         "Micro SD Cards",
         null,
         null,
         null
        ],
        [
         "15",
         "2019-06-15",
         "14.72",
         "Slippery Stuff, 16 oz Gel, Clear, Pound , Unscented, 1 Count (LU031)",
         "B00I7DT454",
         "BODY_LUBRICANT",
         "R_01vNIayewjIIKMF",
         "4.6",
         "1716.0",
         "Health & Household",
         "Sexual Wellness",
         "Safer Sex",
         "Lubricants",
         null,
         null,
         null,
         null
        ],
        [
         "16",
         "2019-06-25",
         "9.99",
         "Betron BS10 Earphones Wired Headphones in Ear Noise Isolating Earbuds with Microphone and Volume Control Powerful Bass Driven Sound, 12mm Large Drivers, Ergonomic Design",
         "B01MA1MJ6H",
         "HEADPHONES",
         "R_01vNIayewjIIKMF",
         "4.2",
         "26525.0",
         "Electronics",
         "Headphones, Earbuds & Accessories",
         "Headphones & Earbuds",
         "Earbud Headphones",
         null,
         null,
         null,
         null
        ],
        [
         "17",
         "2019-07-14",
         "26.77",
         "Logitech M570 Wireless Trackball Mouse – Ergonomic Design with Sculpted Right-Hand Shape, Compatible with Apple Mac / Microsoft, USB Unifying Receiver, Dark Gray (Discontinued by Manufacturer)",
         "B0043T7FXE",
         "INPUT_MOUSE",
         "R_01vNIayewjIIKMF",
         "4.6",
         "45851.0",
         "Electronics",
         "Computers & Accessories",
         "Computer Accessories & Peripherals",
         "Keyboards, Mice & Accessories",
         "Mice",
         null,
         null,
         null
        ],
        [
         "18",
         "2019-08-02",
         "12.99",
         "Betron BS10 Earphones Wired in Ear Earbud Headphones Strong Bass Noise Isolating Ear Buds 3.5mm Jack Tangle-Free Cord Compatible with Tablet Laptop iPhone iPad Smartphones",
         "B01M2V05RE",
         "HEADPHONES",
         "R_01vNIayewjIIKMF",
         "4.2",
         "26525.0",
         "Electronics",
         "Headphones, Earbuds & Accessories",
         "Headphones & Earbuds",
         "Earbud Headphones",
         null,
         null,
         null,
         null
        ],
        [
         "19",
         "2019-08-10",
         "7.95",
         "TUDIA Motorola Moto G6 Case, Full-Matte Lightweight [Arch S] TPU Bumper Shock Absorption Cover for Motorola Moto G6 (Black)",
         "B07BCZMBNR",
         "CELLULAR_PHONE_CASE",
         "R_01vNIayewjIIKMF",
         "4.3",
         "113.0",
         "Cell Phones & Accessories",
         "Cases, Holsters & Sleeves",
         "Basic Cases",
         null,
         null,
         null,
         null,
         null
        ],
        [
         "20",
         "2019-09-06",
         "53.95",
         "WOWMAX Triangular Reading Pillow Large Bolster Headboard Backrest Positioning Support Wedge Pillow, Pillow for Day Bed Bunk Bed with Removable Cover Jean Blue 39x8x20inch",
         "B075CMYT43",
         "BODY_POSITIONER",
         "R_01vNIayewjIIKMF",
         null,
         null,
         null,
         null,
         null,
         null,
         null,
         null,
         null,
         null
        ],
        [
         "21",
         "2019-09-09",
         "19.99",
         "KROSER Laptop Bag 15.6 Inch Briefcase Shoulder Bag Water Repellent Laptop Bag Satchel Tablet Bussiness Carrying Handbag Laptop Sleeve for Women and Men-Charcoal Black",
         "B01MZ956SX",
         "HANDBAG",
         "R_01vNIayewjIIKMF",
         "4.6",
         "8153.0",
         "Electronics",
         "Computers & Accessories",
         "Laptop Accessories",
         "Bags, Cases & Sleeves",
         "Messenger & Shoulder Bags",
         null,
         null,
         null
        ],
        [
         "22",
         "2019-09-09",
         "14.99",
         "Gildan Men's Boxer Briefs, Multipack",
         "B07JCJP1DK",
         "UNDERPANTS",
         "R_01vNIayewjIIKMF",
         "4.6",
         "126192.0",
         "Clothing, Shoes & Jewelry",
         "Men",
         "Clothing",
         "Underwear",
         "Boxer Briefs",
         null,
         null,
         null
        ],
        [
         "23",
         "2019-09-13",
         "14.99",
         "Gildan Men's Boxer Briefs, Multipack",
         "B07JD5B8SP",
         "UNDERPANTS",
         "R_01vNIayewjIIKMF",
         "4.6",
         "126192.0",
         "Clothing, Shoes & Jewelry",
         "Men",
         "Clothing",
         "Underwear",
         "Boxer Briefs",
         null,
         null,
         null
        ],
        [
         "24",
         "2019-09-13",
         "4.85",
         "Tape Measure for Body Measuring Tape for Body Measurements Tape Tailor Clothing",
         "B071XGLB1S",
         "TAPE_MEASURE",
         "R_01vNIayewjIIKMF",
         "4.7",
         "16555.0",
         "Arts, Crafts & Sewing",
         "Sewing",
         "Sewing Notions & Supplies",
         "Sewing Tools",
         "Tape Measures & Rulers",
         "Tape Measures",
         null,
         null
        ],
        [
         "25",
         "2019-09-13",
         "8.95",
         "Poetic SlimFolio case for All-New Amazon Fire HD 8 Tablet (7th and 8th Generation, 2017 and 2018 Release) - Slim Leather Stand Folio Smart Cover Case with Auto Wake/Sleep - Black",
         "B071ZBV7DY",
         "AMAZON_TABLET_ACCESSORY",
         "R_01vNIayewjIIKMF",
         "4.3",
         "251.0",
         null,
         null,
         null,
         null,
         null,
         null,
         null,
         null
        ],
        [
         "26",
         "2019-09-27",
         "139.99",
         "WD 8TB Elements Desktop External Hard Drive, USB 3.0 external hard drive for plug-and-play storage - WDBWLG0080HBK-NESN",
         "B07D5V2ZXD",
         "COMPUTER_DRIVE_OR_STORAGE",
         "R_01vNIayewjIIKMF",
         "4.5",
         "23940.0",
         "Electronics",
         "Computers & Accessories",
         "Data Storage",
         "External Hard Drives",
         null,
         null,
         null,
         null
        ],
        [
         "27",
         "2019-09-28",
         "7.92",
         "Colgate Cavity Protection Toothpaste with Fluoride, Great Regular Flavor, 6 Ounce Tube, 6 Pack",
         "B01BNEWDFQ",
         "TOOTH_CLEANING_AGENT",
         "R_01vNIayewjIIKMF",
         "4.8",
         "63243.0",
         "Health & Household",
         "Oral Care",
         "Toothpaste",
         null,
         null,
         null,
         null,
         null
        ],
        [
         "28",
         "2019-09-28",
         "19.99",
         "Scott 1000 Sheets Per Roll Toilet Paper, 27 Rolls, Bath Tissue",
         "B01NBYY28W",
         "TOILET_PAPER",
         "R_01vNIayewjIIKMF",
         "4.6",
         "8570.0",
         "Health & Household",
         "Household Supplies",
         "Tissues, Toilet Paper & Sprays",
         "Toilet Paper",
         null,
         null,
         null,
         null
        ],
        [
         "29",
         "2019-09-28",
         "3.92",
         "Crest Scope Outlast Mouthwash, Long Lasting Peppermint, 1 L",
         "B019FGCOW6",
         "MOUTHWASH",
         "R_01vNIayewjIIKMF",
         "4.7",
         "10403.0",
         "Health & Household",
         "Oral Care",
         "Mouthwash",
         null,
         null,
         null,
         null,
         null
        ],
        [
         "30",
         "2019-10-02",
         "19.99",
         "Anker Powerline II USB-C to USB-C 3.1 Gen 2 Cable (3ft) with Power Delivery, for Apple MacBook, Huawei Matebook, iPad Pro 2020, Chromebook, Pixel, Switch, and More Type-C Devices/Laptops",
         "B072JYDQ7N",
         "ELECTRONIC_CABLE",
         "R_01vNIayewjIIKMF",
         "4.7",
         "4373.0",
         "Electronics",
         "Computers & Accessories",
         "Computer Accessories & Peripherals",
         "Cables & Accessories",
         "Cables & Interconnects",
         "USB Cables",
         null,
         null
        ],
        [
         "31",
         "2019-10-02",
         "8.99",
         "Kingsdun 12Pcs Magnetic Torx Screwdriver Sets with T3 T4 T5 T6 T7 T8 T10 Star Screw drivers, Stainless Steel Tweezers & Philip Slotted Screwdrivers for Phone/Mac/Camera/Computer Repairing -Yellow",
         "B00MUJU33S",
         "SCREWDRIVER",
         "R_01vNIayewjIIKMF",
         "4.4",
         "5534.0",
         "Tools & Home Improvement",
         "Power & Hand Tools",
         "Hand Tools",
         "Screwdrivers & Nut Drivers",
         "Screwdriver Sets",
         null,
         null,
         null
        ],
        [
         "32",
         "2019-10-05",
         "25.0",
         "Best Buy Gift Cards - Email Delivery",
         "B07RTN4C77",
         "GIFT_CARD",
         "R_01vNIayewjIIKMF",
         "4.7",
         "11369.0",
         "Gift Cards",
         "Gift Cards",
         null,
         null,
         null,
         null,
         null,
         null
        ],
        [
         "33",
         "2019-10-06",
         "50.0",
         "Best Buy Gift Cards - Email Delivery",
         "B07RTN4C77",
         "GIFT_CARD",
         "R_01vNIayewjIIKMF",
         "4.7",
         "11369.0",
         "Gift Cards",
         "Gift Cards",
         null,
         null,
         null,
         null,
         null,
         null
        ],
        [
         "34",
         "2019-10-07",
         "7.49",
         "BetterBody Foods Refined Avocado Oil, Non-GMO Cooking Oil, Kosher, Keto and Paleo Diet Friendly, for High-Heat Cooking, Frying, Baking, 100% Pure Avocado Oil, 500 mL, 16.9 Fl Oz",
         "B01IQ00B04",
         "EDIBLE_OIL_VEGETABLE",
         "R_01vNIayewjIIKMF",
         "4.8",
         "25550.0",
         "Grocery & Gourmet Food",
         "Pantry Staples",
         "Cooking & Baking",
         "Cooking Oils, Vinegars & Sprays",
         "Oils",
         "Avocado",
         null,
         null
        ],
        [
         "35",
         "2019-10-07",
         "11.94",
         null,
         "B07CZ6JCZS",
         null,
         "R_01vNIayewjIIKMF",
         null,
         null,
         null,
         null,
         null,
         null,
         null,
         null,
         null,
         null
        ],
        [
         "36",
         "2019-10-07",
         "7.34",
         "Pompeian USDA Organic Robust Extra Virgin Olive Oil, First Cold Pressed, Full-Bodied Flavor, Perfect for Salad Dressings & Marinades, 24 FL. OZ.",
         "B017ALC6GW",
         "EDIBLE_OIL_VEGETABLE",
         "R_01vNIayewjIIKMF",
         "4.7",
         "24304.0",
         "Grocery & Gourmet Food",
         "Pantry Staples",
         "Cooking & Baking",
         "Cooking Oils, Vinegars & Sprays",
         "Oils",
         "Olive",
         null,
         null
        ],
        [
         "37",
         "2019-10-12",
         "45.0",
         "$15/Month Mint Mobile Phone Plan | 4GB of 5G • 4G LTE Data + Unlimited Talk & Text for 3 Months (3-in-1 SIM Card)",
         "B0741FV7ZV",
         "SIM_CARD",
         "R_01vNIayewjIIKMF",
         "4.2",
         "18114.0",
         "Cell Phones & Accessories",
         "SIM Cards & Prepaid Minutes",
         "SIM Cards",
         null,
         null,
         null,
         null,
         null
        ],
        [
         "38",
         "2019-10-16",
         "54.99",
         "ZINUS SmartBase Tool-Free Assembly Mattress Foundation / 14 Inch Metal Platform Bed Frame / No Box Spring Needed / Sturdy Steel Frame / Underbed Storage, Black, Twin, Regular",
         "B006MIPW70",
         "BED_FRAME",
         "R_01vNIayewjIIKMF",
         "4.6",
         "104448.0",
         "Home & Kitchen",
         "Furniture",
         "Bedroom Furniture",
         "Beds, Frames & Bases",
         "Bed Frames",
         null,
         null,
         null
        ],
        [
         "39",
         "2019-10-18",
         "4.2",
         "McCormick Black Peppercorn Grinder, 2.5 oz",
         "B01LZKYNIM",
         "HERB",
         "R_01vNIayewjIIKMF",
         "4.8",
         "12909.0",
         "Grocery & Gourmet Food",
         "Pantry Staples",
         "Herbs, Spices & Seasonings",
         "Pepper & Peppercorns",
         "Peppercorns",
         null,
         null,
         null
        ],
        [
         "40",
         "2019-10-18",
         "14.26",
         null,
         "B00KVM2SSO",
         null,
         "R_01vNIayewjIIKMF",
         null,
         null,
         null,
         null,
         null,
         null,
         null,
         null,
         null,
         null
        ],
        [
         "41",
         "2019-10-31",
         "4.99",
         "Dietz & Watson deli Sliced Black Forest Smoked Ham, 0.5 lbs",
         "B00NC8QEKM",
         "MEAT",
         "R_01vNIayewjIIKMF",
         "4.4",
         "699.0",
         "Grocery & Gourmet Food",
         "Deli & Prepared Foods",
         "Deli Meats & Cheeses",
         "Prepackaged Deli Meats",
         "Ham",
         null,
         null,
         null
        ],
        [
         "42",
         "2019-10-31",
         "3.79",
         "Kerrygold Pure Irish Butter, Salted, 8 oz",
         "B0011EKWBQ",
         "DAIRY_BASED_BUTTER",
         "R_01vNIayewjIIKMF",
         "4.9",
         "19290.0",
         "Grocery & Gourmet Food",
         "Dairy, Eggs & Plant-Based Alternatives",
         "Butter, Margarine & Plant-Based Alternatives",
         "Butter",
         null,
         null,
         null,
         null
        ],
        [
         "43",
         "2019-10-31",
         "4.99",
         "Dietz & Watson Sliced Mozzarella Cheese, 0.5 lbs",
         "B00NC882CA",
         "DAIRY_BASED_CHEESE",
         "R_01vNIayewjIIKMF",
         "4.6",
         "291.0",
         "Grocery & Gourmet Food",
         "Dairy, Eggs & Plant-Based Alternatives",
         "Packaged Cheese",
         "Mozzarella",
         null,
         null,
         null,
         null
        ],
        [
         "44",
         "2019-10-31",
         "10.98",
         "Jack Links Premium Cuts Beef Steak, Original, Strips -Great Protein Snack with 11g of Protein and 1g of Carbs Per Serving, Made with Beef, 1 Ounce (Pack of 12)",
         "B00B9GUZP4",
         "JERKY",
         "R_01vNIayewjIIKMF",
         "4.6",
         "15033.0",
         "Grocery & Gourmet Food",
         "Snacks & Sweets",
         "Snack Foods",
         "Meat Snacks",
         "Jerky",
         null,
         null,
         null
        ],
        [
         "45",
         "2019-11-25",
         "3.75",
         "Wet Naturals Beautifully Bare - 3.3 fl oz",
         "B000QD9C8M",
         "BODY_LUBRICANT",
         "R_01vNIayewjIIKMF",
         "4.3",
         "264.0",
         "Health & Household",
         "Sexual Wellness",
         "Safer Sex",
         "Lubricants",
         null,
         null,
         null,
         null
        ],
        [
         "46",
         "2019-11-25",
         "17.69",
         "Tracy's Dog Male Masturbators Pocket Pussy Realistic Stroker Lifelike Vaginal Oral Sex Toys for Man Masturbation (Flesh)",
         "B01LZ5SB6U",
         "SEXUAL_STIMULATION_DEVICE",
         "R_01vNIayewjIIKMF",
         "4.0",
         "3415.0",
         "Health & Household",
         "Sexual Wellness",
         "Adult Toys & Games",
         "Sex Toys",
         "Male Masturbators",
         null,
         null,
         null
        ],
        [
         "47",
         "2019-12-02",
         "27.99",
         "SAMSUNG (MB-ME256GA/AM) 256GB 100MB/s (U3) MicroSDXC EVO Select Memory Card with Full-Size Adapter",
         "B072HRDM55",
         "FLASH_MEMORY",
         "R_01vNIayewjIIKMF",
         "4.7",
         "142718.0",
         "Electronics",
         "Computers & Accessories",
         "Computer Accessories & Peripherals",
         "Memory Cards",
         "Micro SD Cards",
         null,
         null,
         null
        ],
        [
         "48",
         "2019-12-02",
         "10.49",
         "LubeLife Water-Based Personal Lubricant, Lube for Men, Women and Couples, Non-Staining, 12 Fl Oz",
         "B07DGQ4QR3",
         "BODY_LUBRICANT",
         "R_01vNIayewjIIKMF",
         "4.5",
         "166209.0",
         "Health & Household",
         "Sexual Wellness",
         "Safer Sex",
         "Lubricants",
         null,
         null,
         null,
         null
        ],
        [
         "49",
         "2019-12-13",
         "16.99",
         "SAMSUNG (MB-ME128GA/AM) 128GB 100MB/s (U3) MicroSDXC EVO Select Memory Card with Full-Size Adapter",
         "B06XWZWYVP",
         "FLASH_MEMORY",
         "R_01vNIayewjIIKMF",
         "4.7",
         "142718.0",
         "Electronics",
         "Computers & Accessories",
         "Computer Accessories & Peripherals",
         "Memory Cards",
         "Micro SD Cards",
         null,
         null,
         null
        ]
       ],
       "shape": {
        "columns": 16,
        "rows": 1837550
       }
      },
      "text/html": [
       "<div>\n",
       "<style scoped>\n",
       "    .dataframe tbody tr th:only-of-type {\n",
       "        vertical-align: middle;\n",
       "    }\n",
       "\n",
       "    .dataframe tbody tr th {\n",
       "        vertical-align: top;\n",
       "    }\n",
       "\n",
       "    .dataframe thead th {\n",
       "        text-align: right;\n",
       "    }\n",
       "</style>\n",
       "<table border=\"1\" class=\"dataframe\">\n",
       "  <thead>\n",
       "    <tr style=\"text-align: right;\">\n",
       "      <th></th>\n",
       "      <th>Order Date</th>\n",
       "      <th>Purchase Price Per Unit</th>\n",
       "      <th>Title</th>\n",
       "      <th>ASIN</th>\n",
       "      <th>Category</th>\n",
       "      <th>Survey ResponseID</th>\n",
       "      <th>Rating</th>\n",
       "      <th>Rating Count</th>\n",
       "      <th>Category 1</th>\n",
       "      <th>Category 2</th>\n",
       "      <th>Category 3</th>\n",
       "      <th>Category 4</th>\n",
       "      <th>Category 5</th>\n",
       "      <th>Category 6</th>\n",
       "      <th>Category 7</th>\n",
       "      <th>Category 8</th>\n",
       "    </tr>\n",
       "  </thead>\n",
       "  <tbody>\n",
       "    <tr>\n",
       "      <th>0</th>\n",
       "      <td>2018-12-04</td>\n",
       "      <td>7.98</td>\n",
       "      <td>SanDisk Ultra 16GB Class 10 SDHC UHS-I Memory ...</td>\n",
       "      <td>B0143RTB1E</td>\n",
       "      <td>FLASH_MEMORY</td>\n",
       "      <td>R_01vNIayewjIIKMF</td>\n",
       "      <td>4.7</td>\n",
       "      <td>118698.0</td>\n",
       "      <td>Electronics</td>\n",
       "      <td>Computers &amp; Accessories</td>\n",
       "      <td>Computer Accessories &amp; Peripherals</td>\n",
       "      <td>Memory Cards</td>\n",
       "      <td>SD Cards</td>\n",
       "      <td>NaN</td>\n",
       "      <td>NaN</td>\n",
       "      <td>NaN</td>\n",
       "    </tr>\n",
       "    <tr>\n",
       "      <th>1</th>\n",
       "      <td>2018-12-22</td>\n",
       "      <td>13.99</td>\n",
       "      <td>Betron BS10 Earphones Wired Headphones in Ear ...</td>\n",
       "      <td>B01MA1MJ6H</td>\n",
       "      <td>HEADPHONES</td>\n",
       "      <td>R_01vNIayewjIIKMF</td>\n",
       "      <td>4.2</td>\n",
       "      <td>26525.0</td>\n",
       "      <td>Electronics</td>\n",
       "      <td>Headphones, Earbuds &amp; Accessories</td>\n",
       "      <td>Headphones &amp; Earbuds</td>\n",
       "      <td>Earbud Headphones</td>\n",
       "      <td>NaN</td>\n",
       "      <td>NaN</td>\n",
       "      <td>NaN</td>\n",
       "      <td>NaN</td>\n",
       "    </tr>\n",
       "    <tr>\n",
       "      <th>2</th>\n",
       "      <td>2018-12-24</td>\n",
       "      <td>8.99</td>\n",
       "      <td>NaN</td>\n",
       "      <td>B078JZTFN3</td>\n",
       "      <td>NaN</td>\n",
       "      <td>R_01vNIayewjIIKMF</td>\n",
       "      <td>NaN</td>\n",
       "      <td>NaN</td>\n",
       "      <td>NaN</td>\n",
       "      <td>NaN</td>\n",
       "      <td>NaN</td>\n",
       "      <td>NaN</td>\n",
       "      <td>NaN</td>\n",
       "      <td>NaN</td>\n",
       "      <td>NaN</td>\n",
       "      <td>NaN</td>\n",
       "    </tr>\n",
       "    <tr>\n",
       "      <th>3</th>\n",
       "      <td>2018-12-25</td>\n",
       "      <td>10.45</td>\n",
       "      <td>Perfecto Stainless Steel Shaving Bowl. Durable...</td>\n",
       "      <td>B06XWF9HML</td>\n",
       "      <td>DISHWARE_BOWL</td>\n",
       "      <td>R_01vNIayewjIIKMF</td>\n",
       "      <td>4.6</td>\n",
       "      <td>908.0</td>\n",
       "      <td>Beauty &amp; Personal Care</td>\n",
       "      <td>Shave &amp; Hair Removal</td>\n",
       "      <td>Men's</td>\n",
       "      <td>Shaving Accessories</td>\n",
       "      <td>Shaving Soap Bowls</td>\n",
       "      <td>NaN</td>\n",
       "      <td>NaN</td>\n",
       "      <td>NaN</td>\n",
       "    </tr>\n",
       "    <tr>\n",
       "      <th>4</th>\n",
       "      <td>2018-12-25</td>\n",
       "      <td>10.00</td>\n",
       "      <td>Proraso Shaving Cream for Men</td>\n",
       "      <td>B00837ZOI0</td>\n",
       "      <td>SHAVING_AGENT</td>\n",
       "      <td>R_01vNIayewjIIKMF</td>\n",
       "      <td>4.7</td>\n",
       "      <td>12344.0</td>\n",
       "      <td>Beauty &amp; Personal Care</td>\n",
       "      <td>Shave &amp; Hair Removal</td>\n",
       "      <td>Men's</td>\n",
       "      <td>Shaving Creams, Lotions &amp; Gels</td>\n",
       "      <td>Shaving Creams</td>\n",
       "      <td>NaN</td>\n",
       "      <td>NaN</td>\n",
       "      <td>NaN</td>\n",
       "    </tr>\n",
       "    <tr>\n",
       "      <th>...</th>\n",
       "      <td>...</td>\n",
       "      <td>...</td>\n",
       "      <td>...</td>\n",
       "      <td>...</td>\n",
       "      <td>...</td>\n",
       "      <td>...</td>\n",
       "      <td>...</td>\n",
       "      <td>...</td>\n",
       "      <td>...</td>\n",
       "      <td>...</td>\n",
       "      <td>...</td>\n",
       "      <td>...</td>\n",
       "      <td>...</td>\n",
       "      <td>...</td>\n",
       "      <td>...</td>\n",
       "      <td>...</td>\n",
       "    </tr>\n",
       "    <tr>\n",
       "      <th>1837545</th>\n",
       "      <td>2021-04-01</td>\n",
       "      <td>6.99</td>\n",
       "      <td>Tanner's Tasty Paste Vanilla Bling - Anticavit...</td>\n",
       "      <td>B015ZRTHVA</td>\n",
       "      <td>TOOTH_CLEANING_AGENT</td>\n",
       "      <td>R_zfqnsBzlOAKibzb</td>\n",
       "      <td>4.6</td>\n",
       "      <td>4304.0</td>\n",
       "      <td>Health &amp; Household</td>\n",
       "      <td>Oral Care</td>\n",
       "      <td>Baby &amp; Child Dental Care</td>\n",
       "      <td>Children's Dental Care</td>\n",
       "      <td>Toothpaste</td>\n",
       "      <td>NaN</td>\n",
       "      <td>NaN</td>\n",
       "      <td>NaN</td>\n",
       "    </tr>\n",
       "    <tr>\n",
       "      <th>1837546</th>\n",
       "      <td>2021-04-14</td>\n",
       "      <td>15.99</td>\n",
       "      <td>Sinland Microfiber Cleaning Cloth Dish Cloth K...</td>\n",
       "      <td>B00QGCXPRG</td>\n",
       "      <td>TOWEL</td>\n",
       "      <td>R_zfqnsBzlOAKibzb</td>\n",
       "      <td>4.6</td>\n",
       "      <td>2312.0</td>\n",
       "      <td>Health &amp; Household</td>\n",
       "      <td>Household Supplies</td>\n",
       "      <td>Cleaning Tools</td>\n",
       "      <td>Cleaning Cloths</td>\n",
       "      <td>NaN</td>\n",
       "      <td>NaN</td>\n",
       "      <td>NaN</td>\n",
       "      <td>NaN</td>\n",
       "    </tr>\n",
       "    <tr>\n",
       "      <th>1837547</th>\n",
       "      <td>2021-05-22</td>\n",
       "      <td>6.99</td>\n",
       "      <td>Tanner's Tasty Paste Vanilla Bling - Anticavit...</td>\n",
       "      <td>B015ZRTHVA</td>\n",
       "      <td>TOOTH_CLEANING_AGENT</td>\n",
       "      <td>R_zfqnsBzlOAKibzb</td>\n",
       "      <td>4.6</td>\n",
       "      <td>4304.0</td>\n",
       "      <td>Health &amp; Household</td>\n",
       "      <td>Oral Care</td>\n",
       "      <td>Baby &amp; Child Dental Care</td>\n",
       "      <td>Children's Dental Care</td>\n",
       "      <td>Toothpaste</td>\n",
       "      <td>NaN</td>\n",
       "      <td>NaN</td>\n",
       "      <td>NaN</td>\n",
       "    </tr>\n",
       "    <tr>\n",
       "      <th>1837548</th>\n",
       "      <td>2021-12-01</td>\n",
       "      <td>6.99</td>\n",
       "      <td>Tanner's Tasty Paste Vanilla Bling - Anticavit...</td>\n",
       "      <td>B015ZRTHVA</td>\n",
       "      <td>TOOTH_CLEANING_AGENT</td>\n",
       "      <td>R_zfqnsBzlOAKibzb</td>\n",
       "      <td>4.6</td>\n",
       "      <td>4304.0</td>\n",
       "      <td>Health &amp; Household</td>\n",
       "      <td>Oral Care</td>\n",
       "      <td>Baby &amp; Child Dental Care</td>\n",
       "      <td>Children's Dental Care</td>\n",
       "      <td>Toothpaste</td>\n",
       "      <td>NaN</td>\n",
       "      <td>NaN</td>\n",
       "      <td>NaN</td>\n",
       "    </tr>\n",
       "    <tr>\n",
       "      <th>1837549</th>\n",
       "      <td>2022-09-19</td>\n",
       "      <td>19.99</td>\n",
       "      <td>Wild Mystic Oracle Card Deck: A 50-Card Deck a...</td>\n",
       "      <td>1441337652</td>\n",
       "      <td>ABIS_BOOK</td>\n",
       "      <td>R_zfqnsBzlOAKibzb</td>\n",
       "      <td>4.8</td>\n",
       "      <td>753.0</td>\n",
       "      <td>Books</td>\n",
       "      <td>Religion &amp; Spirituality</td>\n",
       "      <td>New Age &amp; Spirituality</td>\n",
       "      <td>Divination</td>\n",
       "      <td>Tarot</td>\n",
       "      <td>NaN</td>\n",
       "      <td>NaN</td>\n",
       "      <td>NaN</td>\n",
       "    </tr>\n",
       "  </tbody>\n",
       "</table>\n",
       "<p>1837550 rows × 16 columns</p>\n",
       "</div>"
      ],
      "text/plain": [
       "         Order Date  Purchase Price Per Unit  \\\n",
       "0        2018-12-04                     7.98   \n",
       "1        2018-12-22                    13.99   \n",
       "2        2018-12-24                     8.99   \n",
       "3        2018-12-25                    10.45   \n",
       "4        2018-12-25                    10.00   \n",
       "...             ...                      ...   \n",
       "1837545  2021-04-01                     6.99   \n",
       "1837546  2021-04-14                    15.99   \n",
       "1837547  2021-05-22                     6.99   \n",
       "1837548  2021-12-01                     6.99   \n",
       "1837549  2022-09-19                    19.99   \n",
       "\n",
       "                                                     Title        ASIN  \\\n",
       "0        SanDisk Ultra 16GB Class 10 SDHC UHS-I Memory ...  B0143RTB1E   \n",
       "1        Betron BS10 Earphones Wired Headphones in Ear ...  B01MA1MJ6H   \n",
       "2                                                      NaN  B078JZTFN3   \n",
       "3        Perfecto Stainless Steel Shaving Bowl. Durable...  B06XWF9HML   \n",
       "4                            Proraso Shaving Cream for Men  B00837ZOI0   \n",
       "...                                                    ...         ...   \n",
       "1837545  Tanner's Tasty Paste Vanilla Bling - Anticavit...  B015ZRTHVA   \n",
       "1837546  Sinland Microfiber Cleaning Cloth Dish Cloth K...  B00QGCXPRG   \n",
       "1837547  Tanner's Tasty Paste Vanilla Bling - Anticavit...  B015ZRTHVA   \n",
       "1837548  Tanner's Tasty Paste Vanilla Bling - Anticavit...  B015ZRTHVA   \n",
       "1837549  Wild Mystic Oracle Card Deck: A 50-Card Deck a...  1441337652   \n",
       "\n",
       "                     Category  Survey ResponseID Rating  Rating Count  \\\n",
       "0                FLASH_MEMORY  R_01vNIayewjIIKMF    4.7      118698.0   \n",
       "1                  HEADPHONES  R_01vNIayewjIIKMF    4.2       26525.0   \n",
       "2                         NaN  R_01vNIayewjIIKMF    NaN           NaN   \n",
       "3               DISHWARE_BOWL  R_01vNIayewjIIKMF    4.6         908.0   \n",
       "4               SHAVING_AGENT  R_01vNIayewjIIKMF    4.7       12344.0   \n",
       "...                       ...                ...    ...           ...   \n",
       "1837545  TOOTH_CLEANING_AGENT  R_zfqnsBzlOAKibzb    4.6        4304.0   \n",
       "1837546                 TOWEL  R_zfqnsBzlOAKibzb    4.6        2312.0   \n",
       "1837547  TOOTH_CLEANING_AGENT  R_zfqnsBzlOAKibzb    4.6        4304.0   \n",
       "1837548  TOOTH_CLEANING_AGENT  R_zfqnsBzlOAKibzb    4.6        4304.0   \n",
       "1837549             ABIS_BOOK  R_zfqnsBzlOAKibzb    4.8         753.0   \n",
       "\n",
       "                     Category 1                         Category 2  \\\n",
       "0                   Electronics            Computers & Accessories   \n",
       "1                   Electronics  Headphones, Earbuds & Accessories   \n",
       "2                           NaN                                NaN   \n",
       "3        Beauty & Personal Care               Shave & Hair Removal   \n",
       "4        Beauty & Personal Care               Shave & Hair Removal   \n",
       "...                         ...                                ...   \n",
       "1837545      Health & Household                          Oral Care   \n",
       "1837546      Health & Household                 Household Supplies   \n",
       "1837547      Health & Household                          Oral Care   \n",
       "1837548      Health & Household                          Oral Care   \n",
       "1837549                   Books            Religion & Spirituality   \n",
       "\n",
       "                                 Category 3                      Category 4  \\\n",
       "0        Computer Accessories & Peripherals                    Memory Cards   \n",
       "1                      Headphones & Earbuds               Earbud Headphones   \n",
       "2                                       NaN                             NaN   \n",
       "3                                     Men's             Shaving Accessories   \n",
       "4                                     Men's  Shaving Creams, Lotions & Gels   \n",
       "...                                     ...                             ...   \n",
       "1837545            Baby & Child Dental Care          Children's Dental Care   \n",
       "1837546                      Cleaning Tools                 Cleaning Cloths   \n",
       "1837547            Baby & Child Dental Care          Children's Dental Care   \n",
       "1837548            Baby & Child Dental Care          Children's Dental Care   \n",
       "1837549              New Age & Spirituality                      Divination   \n",
       "\n",
       "                 Category 5 Category 6 Category 7 Category 8  \n",
       "0                  SD Cards        NaN        NaN        NaN  \n",
       "1                       NaN        NaN        NaN        NaN  \n",
       "2                       NaN        NaN        NaN        NaN  \n",
       "3        Shaving Soap Bowls        NaN        NaN        NaN  \n",
       "4            Shaving Creams        NaN        NaN        NaN  \n",
       "...                     ...        ...        ...        ...  \n",
       "1837545          Toothpaste        NaN        NaN        NaN  \n",
       "1837546                 NaN        NaN        NaN        NaN  \n",
       "1837547          Toothpaste        NaN        NaN        NaN  \n",
       "1837548          Toothpaste        NaN        NaN        NaN  \n",
       "1837549               Tarot        NaN        NaN        NaN  \n",
       "\n",
       "[1837550 rows x 16 columns]"
      ]
     },
     "execution_count": 17,
     "metadata": {},
     "output_type": "execute_result"
    }
   ],
   "source": [
    "transaction = pd.merge(purchase, product.drop('Title', axis = 1), on = 'ASIN', how = 'left')\n",
    "transaction"
   ]
  },
  {
   "cell_type": "code",
   "execution_count": 18,
   "id": "6595b129",
   "metadata": {},
   "outputs": [
    {
     "data": {
      "application/vnd.microsoft.datawrangler.viewer.v0+json": {
       "columns": [
        {
         "name": "index",
         "rawType": "int64",
         "type": "integer"
        },
        {
         "name": "Order Date",
         "rawType": "object",
         "type": "string"
        },
        {
         "name": "Purchase Price Per Unit",
         "rawType": "float64",
         "type": "float"
        },
        {
         "name": "Title",
         "rawType": "object",
         "type": "unknown"
        },
        {
         "name": "ASIN",
         "rawType": "object",
         "type": "unknown"
        },
        {
         "name": "Category",
         "rawType": "object",
         "type": "unknown"
        },
        {
         "name": "Survey ResponseID",
         "rawType": "object",
         "type": "string"
        },
        {
         "name": "Rating",
         "rawType": "object",
         "type": "unknown"
        },
        {
         "name": "Rating Count",
         "rawType": "float64",
         "type": "float"
        },
        {
         "name": "Category 1",
         "rawType": "object",
         "type": "unknown"
        },
        {
         "name": "Category 2",
         "rawType": "object",
         "type": "unknown"
        },
        {
         "name": "Category 3",
         "rawType": "object",
         "type": "unknown"
        },
        {
         "name": "Category 4",
         "rawType": "object",
         "type": "unknown"
        },
        {
         "name": "Category 5",
         "rawType": "object",
         "type": "unknown"
        },
        {
         "name": "Category 6",
         "rawType": "object",
         "type": "unknown"
        },
        {
         "name": "Category 7",
         "rawType": "object",
         "type": "unknown"
        },
        {
         "name": "Category 8",
         "rawType": "object",
         "type": "unknown"
        }
       ],
       "ref": "52df7ee9-6c89-473e-b00e-dfea305899ae",
       "rows": [
        [
         "93556",
         "2018-02-08",
         "100.0",
         "Amazon.com eGift Card",
         null,
         "GIFT_XXRD",
         "R_1FPtnyDUi83F045",
         null,
         null,
         null,
         null,
         null,
         null,
         null,
         null,
         null,
         null
        ],
        [
         "93557",
         "2020-12-01",
         "5.99",
         "Leg Avenue Women's Lurex Shimmer Anklet Socks",
         null,
         "SOCKS",
         "R_1FPtnyDUi83F045",
         null,
         null,
         null,
         null,
         null,
         null,
         null,
         null,
         null,
         null
        ],
        [
         "93558",
         "2020-12-01",
         "36.99",
         "Women's Vintage Bow Tie High Heel Mary Janes Platform Closed Toe Dress Pumps",
         null,
         "SHOES",
         "R_1FPtnyDUi83F045",
         null,
         null,
         null,
         null,
         null,
         null,
         null,
         null,
         null,
         null
        ],
        [
         "93559",
         "2021-08-07",
         "50.0",
         "Amazon eGift Card - Birthday Cupcakes",
         null,
         "GIFT_XXRD",
         "R_1FPtnyDUi83F045",
         null,
         null,
         null,
         null,
         null,
         null,
         null,
         null,
         null,
         null
        ],
        [
         "93560",
         "2021-09-08",
         "50.0",
         "Amazon eGift Card - Birthday Cupcakes",
         null,
         "GIFT_XXRD",
         "R_1FPtnyDUi83F045",
         null,
         null,
         null,
         null,
         null,
         null,
         null,
         null,
         null,
         null
        ],
        [
         "93561",
         "2021-12-25",
         "50.0",
         "Amazon.com eGift Card",
         null,
         "ELECTRONIC_GIFT_XXRD",
         "R_1FPtnyDUi83F045",
         null,
         null,
         null,
         null,
         null,
         null,
         null,
         null,
         null,
         null
        ],
        [
         "93562",
         "2022-03-12",
         "50.0",
         "Amazon.com eGift Card",
         null,
         "GIFT_XXRD",
         "R_1FPtnyDUi83F045",
         null,
         null,
         null,
         null,
         null,
         null,
         null,
         null,
         null,
         null
        ],
        [
         "93563",
         "2022-08-07",
         "25.0",
         "Amazon.com eGift Card",
         null,
         "GIFT_XXRD",
         "R_1FPtnyDUi83F045",
         null,
         null,
         null,
         null,
         null,
         null,
         null,
         null,
         null,
         null
        ],
        [
         "93564",
         "2022-09-08",
         "25.0",
         "Amazon.com eGift Card",
         null,
         "GIFT_XXRD",
         "R_1FPtnyDUi83F045",
         null,
         null,
         null,
         null,
         null,
         null,
         null,
         null,
         null,
         null
        ],
        [
         "93565",
         "2022-12-25",
         "50.0",
         "Amazon.com eGift Card",
         null,
         "ELECTRONIC_GIFT_XXRD",
         "R_1FPtnyDUi83F045",
         null,
         null,
         null,
         null,
         null,
         null,
         null,
         null,
         null,
         null
        ],
        [
         "163662",
         "2018-01-03",
         "25.0",
         null,
         null,
         "TOPICAL_HAIR",
         "R_1LbUTgaWmOcYHoQ",
         null,
         null,
         null,
         null,
         null,
         null,
         null,
         null,
         null,
         null
        ],
        [
         "163663",
         "2018-01-04",
         "12.99",
         null,
         null,
         "DECORATIVE_PILLOW_COVER",
         "R_1LbUTgaWmOcYHoQ",
         null,
         null,
         null,
         null,
         null,
         null,
         null,
         null,
         null,
         null
        ],
        [
         "163664",
         "2018-01-06",
         "24.43",
         null,
         null,
         "SHOES",
         "R_1LbUTgaWmOcYHoQ",
         null,
         null,
         null,
         null,
         null,
         null,
         null,
         null,
         null,
         null
        ],
        [
         "163665",
         "2018-01-09",
         "11.99",
         null,
         null,
         "LIGHT_FIXTURE",
         "R_1LbUTgaWmOcYHoQ",
         null,
         null,
         null,
         null,
         null,
         null,
         null,
         null,
         null,
         null
        ],
        [
         "163666",
         "2018-01-11",
         "12.99",
         null,
         null,
         "DECORATIVE_PILLOW_COVER",
         "R_1LbUTgaWmOcYHoQ",
         null,
         null,
         null,
         null,
         null,
         null,
         null,
         null,
         null,
         null
        ],
        [
         "163667",
         "2018-01-12",
         "4.5",
         null,
         null,
         "BATTERY",
         "R_1LbUTgaWmOcYHoQ",
         null,
         null,
         null,
         null,
         null,
         null,
         null,
         null,
         null,
         null
        ],
        [
         "163668",
         "2018-01-29",
         "23.09",
         null,
         null,
         "SKIN_MOISTURIZER",
         "R_1LbUTgaWmOcYHoQ",
         null,
         null,
         null,
         null,
         null,
         null,
         null,
         null,
         null,
         null
        ],
        [
         "163669",
         "2018-01-30",
         "14.03",
         null,
         null,
         "FOOD_GRATER",
         "R_1LbUTgaWmOcYHoQ",
         null,
         null,
         null,
         null,
         null,
         null,
         null,
         null,
         null,
         null
        ],
        [
         "163670",
         "2018-01-31",
         "15.49",
         null,
         null,
         "RUG_PAD",
         "R_1LbUTgaWmOcYHoQ",
         null,
         null,
         null,
         null,
         null,
         null,
         null,
         null,
         null,
         null
        ],
        [
         "163671",
         "2018-02-16",
         "15.11",
         null,
         null,
         "GROCERY",
         "R_1LbUTgaWmOcYHoQ",
         null,
         null,
         null,
         null,
         null,
         null,
         null,
         null,
         null,
         null
        ],
        [
         "163672",
         "2018-02-19",
         "7.97",
         null,
         null,
         "EYEBROW_COLOR",
         "R_1LbUTgaWmOcYHoQ",
         null,
         null,
         null,
         null,
         null,
         null,
         null,
         null,
         null,
         null
        ],
        [
         "163673",
         "2018-03-08",
         "4.99",
         null,
         null,
         "WRITING_INSTRUMENT",
         "R_1LbUTgaWmOcYHoQ",
         null,
         null,
         null,
         null,
         null,
         null,
         null,
         null,
         null,
         null
        ],
        [
         "163674",
         "2018-03-11",
         "6.98",
         null,
         null,
         null,
         "R_1LbUTgaWmOcYHoQ",
         null,
         null,
         null,
         null,
         null,
         null,
         null,
         null,
         null,
         null
        ],
        [
         "163675",
         "2018-03-18",
         "11.99",
         null,
         null,
         "CADDY",
         "R_1LbUTgaWmOcYHoQ",
         null,
         null,
         null,
         null,
         null,
         null,
         null,
         null,
         null,
         null
        ],
        [
         "163676",
         "2018-03-23",
         "25.0",
         null,
         null,
         "TOPICAL_HAIR_REGROWTH_TREATMENT",
         "R_1LbUTgaWmOcYHoQ",
         null,
         null,
         null,
         null,
         null,
         null,
         null,
         null,
         null,
         null
        ],
        [
         "163677",
         "2018-03-24",
         "35.74",
         null,
         null,
         "CANDLE",
         "R_1LbUTgaWmOcYHoQ",
         null,
         null,
         null,
         null,
         null,
         null,
         null,
         null,
         null,
         null
        ],
        [
         "163678",
         "2018-04-02",
         "13.95",
         null,
         null,
         null,
         "R_1LbUTgaWmOcYHoQ",
         null,
         null,
         null,
         null,
         null,
         null,
         null,
         null,
         null,
         null
        ],
        [
         "163679",
         "2018-04-02",
         "7.99",
         null,
         null,
         "EYEBROW_COLOR",
         "R_1LbUTgaWmOcYHoQ",
         null,
         null,
         null,
         null,
         null,
         null,
         null,
         null,
         null,
         null
        ],
        [
         "163680",
         "2018-04-03",
         "28.83",
         null,
         null,
         "SKIN_MOISTURIZER",
         "R_1LbUTgaWmOcYHoQ",
         null,
         null,
         null,
         null,
         null,
         null,
         null,
         null,
         null,
         null
        ],
        [
         "163681",
         "2018-04-06",
         "15.0",
         null,
         null,
         "GIFT_CARD",
         "R_1LbUTgaWmOcYHoQ",
         null,
         null,
         null,
         null,
         null,
         null,
         null,
         null,
         null,
         null
        ],
        [
         "163682",
         "2018-04-07",
         "10.99",
         null,
         null,
         "WIRELESS_ACCESSORY",
         "R_1LbUTgaWmOcYHoQ",
         null,
         null,
         null,
         null,
         null,
         null,
         null,
         null,
         null,
         null
        ],
        [
         "163683",
         "2018-04-16",
         "8.4",
         null,
         null,
         "HOME",
         "R_1LbUTgaWmOcYHoQ",
         null,
         null,
         null,
         null,
         null,
         null,
         null,
         null,
         null,
         null
        ],
        [
         "163684",
         "2018-04-16",
         "8.25",
         null,
         null,
         "VACUUM_FILTER",
         "R_1LbUTgaWmOcYHoQ",
         null,
         null,
         null,
         null,
         null,
         null,
         null,
         null,
         null,
         null
        ],
        [
         "163685",
         "2018-05-03",
         "5.21",
         null,
         null,
         "STICKER_DECAL",
         "R_1LbUTgaWmOcYHoQ",
         null,
         null,
         null,
         null,
         null,
         null,
         null,
         null,
         null,
         null
        ],
        [
         "163686",
         "2018-05-14",
         "18.99",
         null,
         null,
         "RECREATION_BALL",
         "R_1LbUTgaWmOcYHoQ",
         null,
         null,
         null,
         null,
         null,
         null,
         null,
         null,
         null,
         null
        ],
        [
         "163687",
         "2018-05-31",
         "25.0",
         null,
         null,
         "TOPICAL_HAIR_REGROWTH_TREATMENT",
         "R_1LbUTgaWmOcYHoQ",
         null,
         null,
         null,
         null,
         null,
         null,
         null,
         null,
         null,
         null
        ],
        [
         "163688",
         "2018-06-02",
         "20.38",
         null,
         null,
         "UTILITY_SPONGE",
         "R_1LbUTgaWmOcYHoQ",
         null,
         null,
         null,
         null,
         null,
         null,
         null,
         null,
         null,
         null
        ],
        [
         "163689",
         "2018-06-07",
         "1.0",
         null,
         null,
         "GIFT_CARD",
         "R_1LbUTgaWmOcYHoQ",
         null,
         null,
         null,
         null,
         null,
         null,
         null,
         null,
         null,
         null
        ],
        [
         "163690",
         "2018-06-07",
         "1.01",
         null,
         null,
         "GIFT_CARD",
         "R_1LbUTgaWmOcYHoQ",
         null,
         null,
         null,
         null,
         null,
         null,
         null,
         null,
         null,
         null
        ],
        [
         "163691",
         "2018-06-07",
         "1.02",
         null,
         null,
         "GIFT_CARD",
         "R_1LbUTgaWmOcYHoQ",
         null,
         null,
         null,
         null,
         null,
         null,
         null,
         null,
         null,
         null
        ],
        [
         "163692",
         "2018-06-07",
         "1.03",
         null,
         null,
         "GIFT_CARD",
         "R_1LbUTgaWmOcYHoQ",
         null,
         null,
         null,
         null,
         null,
         null,
         null,
         null,
         null,
         null
        ],
        [
         "163693",
         "2018-06-16",
         "6.92",
         null,
         null,
         "SOAP_DISH",
         "R_1LbUTgaWmOcYHoQ",
         null,
         null,
         null,
         null,
         null,
         null,
         null,
         null,
         null,
         null
        ],
        [
         "163694",
         "2018-06-16",
         "17.99",
         null,
         null,
         "HOME_MIRROR",
         "R_1LbUTgaWmOcYHoQ",
         null,
         null,
         null,
         null,
         null,
         null,
         null,
         null,
         null,
         null
        ],
        [
         "163695",
         "2018-06-28",
         "37.89",
         null,
         null,
         "KITCHEN",
         "R_1LbUTgaWmOcYHoQ",
         null,
         null,
         null,
         null,
         null,
         null,
         null,
         null,
         null,
         null
        ],
        [
         "163696",
         "2018-06-29",
         "16.97",
         null,
         null,
         "ORTHOPEDIC_BRACE",
         "R_1LbUTgaWmOcYHoQ",
         null,
         null,
         null,
         null,
         null,
         null,
         null,
         null,
         null,
         null
        ],
        [
         "163697",
         "2018-07-01",
         "89.99",
         null,
         null,
         "COFFEE_MAKER",
         "R_1LbUTgaWmOcYHoQ",
         null,
         null,
         null,
         null,
         null,
         null,
         null,
         null,
         null,
         null
        ],
        [
         "163698",
         "2018-07-07",
         "8.95",
         null,
         null,
         "POTABLE_WATER_FILTER",
         "R_1LbUTgaWmOcYHoQ",
         null,
         null,
         null,
         null,
         null,
         null,
         null,
         null,
         null,
         null
        ],
        [
         "163699",
         "2018-07-21",
         "25.99",
         null,
         null,
         "DECORATIVE_PILLOW_COVER",
         "R_1LbUTgaWmOcYHoQ",
         null,
         null,
         null,
         null,
         null,
         null,
         null,
         null,
         null,
         null
        ],
        [
         "163700",
         "2018-07-23",
         "6.99",
         null,
         null,
         "JUMP_ROPE",
         "R_1LbUTgaWmOcYHoQ",
         null,
         null,
         null,
         null,
         null,
         null,
         null,
         null,
         null,
         null
        ],
        [
         "163701",
         "2018-07-29",
         "11.99",
         null,
         null,
         "CHANGING_PAD_COVER",
         "R_1LbUTgaWmOcYHoQ",
         null,
         null,
         null,
         null,
         null,
         null,
         null,
         null,
         null,
         null
        ]
       ],
       "shape": {
        "columns": 16,
        "rows": 961
       }
      },
      "text/html": [
       "<div>\n",
       "<style scoped>\n",
       "    .dataframe tbody tr th:only-of-type {\n",
       "        vertical-align: middle;\n",
       "    }\n",
       "\n",
       "    .dataframe tbody tr th {\n",
       "        vertical-align: top;\n",
       "    }\n",
       "\n",
       "    .dataframe thead th {\n",
       "        text-align: right;\n",
       "    }\n",
       "</style>\n",
       "<table border=\"1\" class=\"dataframe\">\n",
       "  <thead>\n",
       "    <tr style=\"text-align: right;\">\n",
       "      <th></th>\n",
       "      <th>Order Date</th>\n",
       "      <th>Purchase Price Per Unit</th>\n",
       "      <th>Title</th>\n",
       "      <th>ASIN</th>\n",
       "      <th>Category</th>\n",
       "      <th>Survey ResponseID</th>\n",
       "      <th>Rating</th>\n",
       "      <th>Rating Count</th>\n",
       "      <th>Category 1</th>\n",
       "      <th>Category 2</th>\n",
       "      <th>Category 3</th>\n",
       "      <th>Category 4</th>\n",
       "      <th>Category 5</th>\n",
       "      <th>Category 6</th>\n",
       "      <th>Category 7</th>\n",
       "      <th>Category 8</th>\n",
       "    </tr>\n",
       "  </thead>\n",
       "  <tbody>\n",
       "    <tr>\n",
       "      <th>93556</th>\n",
       "      <td>2018-02-08</td>\n",
       "      <td>100.00</td>\n",
       "      <td>Amazon.com eGift Card</td>\n",
       "      <td>NaN</td>\n",
       "      <td>GIFT_XXRD</td>\n",
       "      <td>R_1FPtnyDUi83F045</td>\n",
       "      <td>NaN</td>\n",
       "      <td>NaN</td>\n",
       "      <td>NaN</td>\n",
       "      <td>NaN</td>\n",
       "      <td>NaN</td>\n",
       "      <td>NaN</td>\n",
       "      <td>NaN</td>\n",
       "      <td>NaN</td>\n",
       "      <td>NaN</td>\n",
       "      <td>NaN</td>\n",
       "    </tr>\n",
       "    <tr>\n",
       "      <th>93557</th>\n",
       "      <td>2020-12-01</td>\n",
       "      <td>5.99</td>\n",
       "      <td>Leg Avenue Women's Lurex Shimmer Anklet Socks</td>\n",
       "      <td>NaN</td>\n",
       "      <td>SOCKS</td>\n",
       "      <td>R_1FPtnyDUi83F045</td>\n",
       "      <td>NaN</td>\n",
       "      <td>NaN</td>\n",
       "      <td>NaN</td>\n",
       "      <td>NaN</td>\n",
       "      <td>NaN</td>\n",
       "      <td>NaN</td>\n",
       "      <td>NaN</td>\n",
       "      <td>NaN</td>\n",
       "      <td>NaN</td>\n",
       "      <td>NaN</td>\n",
       "    </tr>\n",
       "    <tr>\n",
       "      <th>93558</th>\n",
       "      <td>2020-12-01</td>\n",
       "      <td>36.99</td>\n",
       "      <td>Women's Vintage Bow Tie High Heel Mary Janes P...</td>\n",
       "      <td>NaN</td>\n",
       "      <td>SHOES</td>\n",
       "      <td>R_1FPtnyDUi83F045</td>\n",
       "      <td>NaN</td>\n",
       "      <td>NaN</td>\n",
       "      <td>NaN</td>\n",
       "      <td>NaN</td>\n",
       "      <td>NaN</td>\n",
       "      <td>NaN</td>\n",
       "      <td>NaN</td>\n",
       "      <td>NaN</td>\n",
       "      <td>NaN</td>\n",
       "      <td>NaN</td>\n",
       "    </tr>\n",
       "    <tr>\n",
       "      <th>93559</th>\n",
       "      <td>2021-08-07</td>\n",
       "      <td>50.00</td>\n",
       "      <td>Amazon eGift Card - Birthday Cupcakes</td>\n",
       "      <td>NaN</td>\n",
       "      <td>GIFT_XXRD</td>\n",
       "      <td>R_1FPtnyDUi83F045</td>\n",
       "      <td>NaN</td>\n",
       "      <td>NaN</td>\n",
       "      <td>NaN</td>\n",
       "      <td>NaN</td>\n",
       "      <td>NaN</td>\n",
       "      <td>NaN</td>\n",
       "      <td>NaN</td>\n",
       "      <td>NaN</td>\n",
       "      <td>NaN</td>\n",
       "      <td>NaN</td>\n",
       "    </tr>\n",
       "    <tr>\n",
       "      <th>93560</th>\n",
       "      <td>2021-09-08</td>\n",
       "      <td>50.00</td>\n",
       "      <td>Amazon eGift Card - Birthday Cupcakes</td>\n",
       "      <td>NaN</td>\n",
       "      <td>GIFT_XXRD</td>\n",
       "      <td>R_1FPtnyDUi83F045</td>\n",
       "      <td>NaN</td>\n",
       "      <td>NaN</td>\n",
       "      <td>NaN</td>\n",
       "      <td>NaN</td>\n",
       "      <td>NaN</td>\n",
       "      <td>NaN</td>\n",
       "      <td>NaN</td>\n",
       "      <td>NaN</td>\n",
       "      <td>NaN</td>\n",
       "      <td>NaN</td>\n",
       "    </tr>\n",
       "    <tr>\n",
       "      <th>...</th>\n",
       "      <td>...</td>\n",
       "      <td>...</td>\n",
       "      <td>...</td>\n",
       "      <td>...</td>\n",
       "      <td>...</td>\n",
       "      <td>...</td>\n",
       "      <td>...</td>\n",
       "      <td>...</td>\n",
       "      <td>...</td>\n",
       "      <td>...</td>\n",
       "      <td>...</td>\n",
       "      <td>...</td>\n",
       "      <td>...</td>\n",
       "      <td>...</td>\n",
       "      <td>...</td>\n",
       "      <td>...</td>\n",
       "    </tr>\n",
       "    <tr>\n",
       "      <th>1275767</th>\n",
       "      <td>2023-02-24</td>\n",
       "      <td>17.99</td>\n",
       "      <td>HERBAMAMA Goldenseal Root Capsule Supplement -...</td>\n",
       "      <td>NaN</td>\n",
       "      <td>NaN</td>\n",
       "      <td>R_3lv2H1k8zdvXdkZ</td>\n",
       "      <td>NaN</td>\n",
       "      <td>NaN</td>\n",
       "      <td>NaN</td>\n",
       "      <td>NaN</td>\n",
       "      <td>NaN</td>\n",
       "      <td>NaN</td>\n",
       "      <td>NaN</td>\n",
       "      <td>NaN</td>\n",
       "      <td>NaN</td>\n",
       "      <td>NaN</td>\n",
       "    </tr>\n",
       "    <tr>\n",
       "      <th>1275768</th>\n",
       "      <td>2023-03-05</td>\n",
       "      <td>39.99</td>\n",
       "      <td>HOOBUY Printed Sofa Cover Stretch Couch Covers...</td>\n",
       "      <td>NaN</td>\n",
       "      <td>NaN</td>\n",
       "      <td>R_3lv2H1k8zdvXdkZ</td>\n",
       "      <td>NaN</td>\n",
       "      <td>NaN</td>\n",
       "      <td>NaN</td>\n",
       "      <td>NaN</td>\n",
       "      <td>NaN</td>\n",
       "      <td>NaN</td>\n",
       "      <td>NaN</td>\n",
       "      <td>NaN</td>\n",
       "      <td>NaN</td>\n",
       "      <td>NaN</td>\n",
       "    </tr>\n",
       "    <tr>\n",
       "      <th>1275769</th>\n",
       "      <td>2023-03-05</td>\n",
       "      <td>29.99</td>\n",
       "      <td>COFACE Womens Fashion Orthotic Flip Flops Ladi...</td>\n",
       "      <td>NaN</td>\n",
       "      <td>NaN</td>\n",
       "      <td>R_3lv2H1k8zdvXdkZ</td>\n",
       "      <td>NaN</td>\n",
       "      <td>NaN</td>\n",
       "      <td>NaN</td>\n",
       "      <td>NaN</td>\n",
       "      <td>NaN</td>\n",
       "      <td>NaN</td>\n",
       "      <td>NaN</td>\n",
       "      <td>NaN</td>\n",
       "      <td>NaN</td>\n",
       "      <td>NaN</td>\n",
       "    </tr>\n",
       "    <tr>\n",
       "      <th>1275770</th>\n",
       "      <td>2023-03-06</td>\n",
       "      <td>124.99</td>\n",
       "      <td>Brightify 40x30 Inch Black Framed Mirror, Blac...</td>\n",
       "      <td>NaN</td>\n",
       "      <td>NaN</td>\n",
       "      <td>R_3lv2H1k8zdvXdkZ</td>\n",
       "      <td>NaN</td>\n",
       "      <td>NaN</td>\n",
       "      <td>NaN</td>\n",
       "      <td>NaN</td>\n",
       "      <td>NaN</td>\n",
       "      <td>NaN</td>\n",
       "      <td>NaN</td>\n",
       "      <td>NaN</td>\n",
       "      <td>NaN</td>\n",
       "      <td>NaN</td>\n",
       "    </tr>\n",
       "    <tr>\n",
       "      <th>1557993</th>\n",
       "      <td>2018-02-08</td>\n",
       "      <td>7.99</td>\n",
       "      <td>USB ADAPTER</td>\n",
       "      <td>NaN</td>\n",
       "      <td>HARDWARE_HANDLE</td>\n",
       "      <td>R_SE8aSpQlEHeTRi9</td>\n",
       "      <td>NaN</td>\n",
       "      <td>NaN</td>\n",
       "      <td>NaN</td>\n",
       "      <td>NaN</td>\n",
       "      <td>NaN</td>\n",
       "      <td>NaN</td>\n",
       "      <td>NaN</td>\n",
       "      <td>NaN</td>\n",
       "      <td>NaN</td>\n",
       "      <td>NaN</td>\n",
       "    </tr>\n",
       "  </tbody>\n",
       "</table>\n",
       "<p>961 rows × 16 columns</p>\n",
       "</div>"
      ],
      "text/plain": [
       "         Order Date  Purchase Price Per Unit  \\\n",
       "93556    2018-02-08                   100.00   \n",
       "93557    2020-12-01                     5.99   \n",
       "93558    2020-12-01                    36.99   \n",
       "93559    2021-08-07                    50.00   \n",
       "93560    2021-09-08                    50.00   \n",
       "...             ...                      ...   \n",
       "1275767  2023-02-24                    17.99   \n",
       "1275768  2023-03-05                    39.99   \n",
       "1275769  2023-03-05                    29.99   \n",
       "1275770  2023-03-06                   124.99   \n",
       "1557993  2018-02-08                     7.99   \n",
       "\n",
       "                                                     Title ASIN  \\\n",
       "93556                                Amazon.com eGift Card  NaN   \n",
       "93557        Leg Avenue Women's Lurex Shimmer Anklet Socks  NaN   \n",
       "93558    Women's Vintage Bow Tie High Heel Mary Janes P...  NaN   \n",
       "93559                Amazon eGift Card - Birthday Cupcakes  NaN   \n",
       "93560                Amazon eGift Card - Birthday Cupcakes  NaN   \n",
       "...                                                    ...  ...   \n",
       "1275767  HERBAMAMA Goldenseal Root Capsule Supplement -...  NaN   \n",
       "1275768  HOOBUY Printed Sofa Cover Stretch Couch Covers...  NaN   \n",
       "1275769  COFACE Womens Fashion Orthotic Flip Flops Ladi...  NaN   \n",
       "1275770  Brightify 40x30 Inch Black Framed Mirror, Blac...  NaN   \n",
       "1557993                                        USB ADAPTER  NaN   \n",
       "\n",
       "                Category  Survey ResponseID Rating  Rating Count Category 1  \\\n",
       "93556          GIFT_XXRD  R_1FPtnyDUi83F045    NaN           NaN        NaN   \n",
       "93557              SOCKS  R_1FPtnyDUi83F045    NaN           NaN        NaN   \n",
       "93558              SHOES  R_1FPtnyDUi83F045    NaN           NaN        NaN   \n",
       "93559          GIFT_XXRD  R_1FPtnyDUi83F045    NaN           NaN        NaN   \n",
       "93560          GIFT_XXRD  R_1FPtnyDUi83F045    NaN           NaN        NaN   \n",
       "...                  ...                ...    ...           ...        ...   \n",
       "1275767              NaN  R_3lv2H1k8zdvXdkZ    NaN           NaN        NaN   \n",
       "1275768              NaN  R_3lv2H1k8zdvXdkZ    NaN           NaN        NaN   \n",
       "1275769              NaN  R_3lv2H1k8zdvXdkZ    NaN           NaN        NaN   \n",
       "1275770              NaN  R_3lv2H1k8zdvXdkZ    NaN           NaN        NaN   \n",
       "1557993  HARDWARE_HANDLE  R_SE8aSpQlEHeTRi9    NaN           NaN        NaN   \n",
       "\n",
       "        Category 2 Category 3 Category 4 Category 5 Category 6 Category 7  \\\n",
       "93556          NaN        NaN        NaN        NaN        NaN        NaN   \n",
       "93557          NaN        NaN        NaN        NaN        NaN        NaN   \n",
       "93558          NaN        NaN        NaN        NaN        NaN        NaN   \n",
       "93559          NaN        NaN        NaN        NaN        NaN        NaN   \n",
       "93560          NaN        NaN        NaN        NaN        NaN        NaN   \n",
       "...            ...        ...        ...        ...        ...        ...   \n",
       "1275767        NaN        NaN        NaN        NaN        NaN        NaN   \n",
       "1275768        NaN        NaN        NaN        NaN        NaN        NaN   \n",
       "1275769        NaN        NaN        NaN        NaN        NaN        NaN   \n",
       "1275770        NaN        NaN        NaN        NaN        NaN        NaN   \n",
       "1557993        NaN        NaN        NaN        NaN        NaN        NaN   \n",
       "\n",
       "        Category 8  \n",
       "93556          NaN  \n",
       "93557          NaN  \n",
       "93558          NaN  \n",
       "93559          NaN  \n",
       "93560          NaN  \n",
       "...            ...  \n",
       "1275767        NaN  \n",
       "1275768        NaN  \n",
       "1275769        NaN  \n",
       "1275770        NaN  \n",
       "1557993        NaN  \n",
       "\n",
       "[961 rows x 16 columns]"
      ]
     },
     "execution_count": 18,
     "metadata": {},
     "output_type": "execute_result"
    }
   ],
   "source": [
    "transaction[transaction['ASIN'].isnull()]"
   ]
  },
  {
   "cell_type": "code",
   "execution_count": 19,
   "id": "556312a4",
   "metadata": {},
   "outputs": [
    {
     "data": {
      "application/vnd.microsoft.datawrangler.viewer.v0+json": {
       "columns": [
        {
         "name": "index",
         "rawType": "object",
         "type": "string"
        },
        {
         "name": "0",
         "rawType": "int64",
         "type": "integer"
        }
       ],
       "ref": "a400e92e-6540-41e3-b3ee-751cd94b70f2",
       "rows": [
        [
         "Order Date",
         "0"
        ],
        [
         "Purchase Price Per Unit",
         "0"
        ],
        [
         "Title",
         "89422"
        ],
        [
         "ASIN",
         "961"
        ],
        [
         "Category",
         "89144"
        ],
        [
         "Survey ResponseID",
         "0"
        ],
        [
         "Rating",
         "200382"
        ],
        [
         "Rating Count",
         "203851"
        ],
        [
         "Category 1",
         "244827"
        ],
        [
         "Category 2",
         "244827"
        ],
        [
         "Category 3",
         "281426"
        ],
        [
         "Category 4",
         "458231"
        ],
        [
         "Category 5",
         "1116721"
        ],
        [
         "Category 6",
         "1690322"
        ],
        [
         "Category 7",
         "1812908"
        ],
        [
         "Category 8",
         "1837087"
        ]
       ],
       "shape": {
        "columns": 1,
        "rows": 16
       }
      },
      "text/plain": [
       "Order Date                       0\n",
       "Purchase Price Per Unit          0\n",
       "Title                        89422\n",
       "ASIN                           961\n",
       "Category                     89144\n",
       "Survey ResponseID                0\n",
       "Rating                      200382\n",
       "Rating Count                203851\n",
       "Category 1                  244827\n",
       "Category 2                  244827\n",
       "Category 3                  281426\n",
       "Category 4                  458231\n",
       "Category 5                 1116721\n",
       "Category 6                 1690322\n",
       "Category 7                 1812908\n",
       "Category 8                 1837087\n",
       "dtype: int64"
      ]
     },
     "execution_count": 19,
     "metadata": {},
     "output_type": "execute_result"
    }
   ],
   "source": [
    "transaction.isnull().sum()"
   ]
  },
  {
   "cell_type": "code",
   "execution_count": 20,
   "id": "cf550eb1",
   "metadata": {},
   "outputs": [
    {
     "name": "stdout",
     "output_type": "stream",
     "text": [
      "2018-01-01 00:00:00 2024-08-15 00:00:00\n"
     ]
    }
   ],
   "source": [
    "transaction['Order Date'] = pd.to_datetime(transaction['Order Date'], format=\"%Y-%m-%d\")\n",
    "print(transaction['Order Date'].min(), transaction['Order Date'].max())"
   ]
  },
  {
   "cell_type": "markdown",
   "id": "dca8b929",
   "metadata": {},
   "source": [
    "# 카테고리 기준으로 상품군 분류"
   ]
  },
  {
   "cell_type": "code",
   "execution_count": 21,
   "id": "62125377",
   "metadata": {},
   "outputs": [],
   "source": [
    "category_cols = [f'Category {i}' for i in range(1, 9)]\n",
    "cat_values = transaction[category_cols].values  # numpy 배열로 변환\n",
    "\n",
    "def fast_group_keys(cat_array):\n",
    "    keys = []\n",
    "    for row in cat_array:\n",
    "        notna = pd.notna(row)\n",
    "        if not notna.any():\n",
    "            keys.append('unknown')\n",
    "        else:\n",
    "            last_idx = np.where(notna)[0][-1]\n",
    "            keys.append(tuple(row[:last_idx + 1]))\n",
    "    return keys\n",
    "\n",
    "# 그룹 키 생성\n",
    "transaction['group_key'] = fast_group_keys(cat_values)"
   ]
  },
  {
   "cell_type": "code",
   "execution_count": 22,
   "id": "899e9181",
   "metadata": {},
   "outputs": [
    {
     "data": {
      "application/vnd.microsoft.datawrangler.viewer.v0+json": {
       "columns": [
        {
         "name": "group_key",
         "rawType": "object",
         "type": "unknown"
        },
        {
         "name": "count",
         "rawType": "int64",
         "type": "integer"
        }
       ],
       "ref": "fe346f4b-9c50-4759-bc01-c36172981cde",
       "rows": [
        [
         "unknown",
         "244827"
        ],
        [
         "('Gift Cards', 'Gift Cards')",
         "21781"
        ],
        [
         "('Cell Phones & Accessories', 'Cases, Holsters & Sleeves', 'Basic Cases')",
         "11675"
        ],
        [
         "('Pet Supplies', 'Dogs', 'Treats', 'Cookies, Biscuits & Snacks')",
         "6544"
        ],
        [
         "('Cell Phones & Accessories', 'Accessories', 'Maintenance, Upkeep & Repairs', 'Screen Protectors')",
         "6374"
        ],
        [
         "('Pet Supplies', 'Cats', 'Food', 'Wet', 'Canned')",
         "6131"
        ],
        [
         "('Pet Supplies', 'Cats', 'Food', 'Dry')",
         "5735"
        ],
        [
         "('Electronics', 'Computers & Accessories', 'Computer Accessories & Peripherals', 'Cables & Accessories', 'Cables & Interconnects', 'USB Cables')",
         "5472"
        ],
        [
         "('Pet Supplies', 'Dogs', 'Food', 'Dry')",
         "5024"
        ],
        [
         "('Electronics', 'Headphones, Earbuds & Accessories', 'Headphones & Earbuds', 'Earbud Headphones')",
         "4850"
        ],
        [
         "('Health & Household', 'Household Supplies', 'Tissues, Toilet Paper & Sprays', 'Toilet Paper')",
         "4687"
        ],
        [
         "('Toys & Games', 'Toy Figures & Playsets', 'Action Figures')",
         "4654"
        ],
        [
         "('Pet Supplies', 'Cats', 'Litter & Housebreaking', 'Litter')",
         "4459"
        ],
        [
         "('Toys & Games', 'Games & Accessories', 'Board Games')",
         "4409"
        ],
        [
         "('Beauty & Personal Care', 'Hair Care', 'Shampoo & Conditioner', 'Shampoos')",
         "4027"
        ],
        [
         "('Grocery & Gourmet Food', 'Beverages', 'Bottled Beverages, Water & Drink Mixes', 'Energy Drinks')",
         "4019"
        ],
        [
         "('Health & Household', 'Vitamins, Minerals & Supplements', 'Blended Vitamin & Mineral Supplements')",
         "3845"
        ],
        [
         "('Grocery & Gourmet Food', 'Beverages', 'Coffee', 'Single-Serve Capsules & Pods')",
         "3658"
        ],
        [
         "('Office Products', 'Office Electronics', 'Printers & Accessories', 'Printer Parts & Accessories', 'Printer Ink & Toner', 'Inkjet Ink Cartridges')",
         "3555"
        ],
        [
         "('Health & Household', 'Oral Care', 'Toothpaste')",
         "3411"
        ],
        [
         "('Electronics', 'Computers & Accessories', 'Computer Accessories & Peripherals', 'Cables & Accessories', 'Cables & Interconnects', 'Lightning Cables')",
         "3391"
        ],
        [
         "('Clothing, Shoes & Jewelry', 'Women', 'Clothing', 'Lingerie, Sleep & Lounge', 'Lingerie', 'Bras', 'Everyday Bras')",
         "3329"
        ],
        [
         "('Health & Household', 'Household Supplies', 'Paper & Plastic', 'Trash, Compost & Lawn Bags', 'Trash Bags')",
         "3292"
        ],
        [
         "('Video Games', 'Nintendo Switch', 'Games')",
         "3145"
        ],
        [
         "('Toys & Games', 'Building Toys', 'Building Sets')",
         "3123"
        ],
        [
         "('Health & Household', 'Vitamins, Minerals & Supplements', 'Vitamins', 'Multivitamins')",
         "3115"
        ],
        [
         "('Grocery & Gourmet Food', 'Beverages', 'Bottled Beverages, Water & Drink Mixes', 'Soft Drinks')",
         "3061"
        ],
        [
         "('Clothing, Shoes & Jewelry', 'Women', 'Clothing', 'Dresses', 'Casual')",
         "3059"
        ],
        [
         "('Electronics', 'Electronic Protection Plans')",
         "3036"
        ],
        [
         "('Tools & Home Improvement', 'Light Bulbs', 'LED Bulbs')",
         "3027"
        ],
        [
         "('Beauty & Personal Care', 'Skin Care', 'Face', 'Creams & Moisturizers', 'Face Moisturizers')",
         "2978"
        ],
        [
         "('Electronics', 'Computers & Accessories', 'Tablet Accessories', 'Bags, Cases & Sleeves', 'Cases')",
         "2884"
        ],
        [
         "('Clothing, Shoes & Jewelry', 'Women', 'Clothing', 'Tops, Tees & Blouses', 'T-Shirts')",
         "2869"
        ],
        [
         "('Baby Products', 'Diapering', 'Disposable Diapers')",
         "2841"
        ],
        [
         "('Grocery & Gourmet Food', 'Beverages', 'Coffee', 'Ground Coffee')",
         "2838"
        ],
        [
         "('Grocery & Gourmet Food', 'Snacks & Sweets', 'Snack Foods', 'Chips & Crisps', 'Potato')",
         "2834"
        ],
        [
         "('Beauty & Personal Care', 'Hair Care', 'Shampoo & Conditioner', 'Conditioners')",
         "2786"
        ],
        [
         "('Beauty & Personal Care', 'Skin Care', 'Body', 'Cleansers', 'Body Washes')",
         "2728"
        ],
        [
         "('Toys & Games', 'Games & Accessories', 'Card Games', 'Dedicated Deck Card Games')",
         "2719"
        ],
        [
         "('Beauty & Personal Care', 'Skin Care', 'Face', 'Cleansers', 'Washes')",
         "2715"
        ],
        [
         "('Clothing, Shoes & Jewelry', 'Men', 'Clothing', 'Shirts', 'T-Shirts')",
         "2680"
        ],
        [
         "('Sports & Outdoors', 'Sports & Outdoor Recreation Accessories', 'Sports Water Bottles')",
         "2661"
        ],
        [
         "('Health & Household', 'Household Supplies', 'Household Batteries', 'AA')",
         "2654"
        ],
        [
         "('Electronics', 'Computers & Accessories', 'Computer Accessories & Peripherals', 'Memory Cards', 'Micro SD Cards')",
         "2634"
        ],
        [
         "('Toys & Games', 'Stuffed Animals & Plush Toys', 'Stuffed Animals & Teddy Bears')",
         "2587"
        ],
        [
         "('Grocery & Gourmet Food', 'Breakfast Cereal', 'Cold Cereal')",
         "2538"
        ],
        [
         "('Home & Kitchen', 'Kitchen & Dining', 'Storage & Organization', 'Food Storage', 'Food Containers', 'Container Sets')",
         "2501"
        ],
        [
         "('Health & Household', 'Diet & Sports Nutrition', 'Nutrition Bars & Drinks', 'Nutrition Bars', 'Protein Bars')",
         "2490"
        ],
        [
         "('Beauty & Personal Care', 'Hair Care', 'Hair Coloring Products', 'Hair Color')",
         "2444"
        ],
        [
         "('Beauty & Personal Care', 'Skin Care', 'Lip Care', 'Balms & Moisturizers')",
         "2423"
        ]
       ],
       "shape": {
        "columns": 1,
        "rows": 19263
       }
      },
      "text/plain": [
       "group_key\n",
       "unknown                                                                                                                                                     244827\n",
       "(Gift Cards, Gift Cards)                                                                                                                                     21781\n",
       "(Cell Phones & Accessories, Cases, Holsters & Sleeves, Basic Cases)                                                                                          11675\n",
       "(Pet Supplies, Dogs, Treats, Cookies, Biscuits & Snacks)                                                                                                      6544\n",
       "(Cell Phones & Accessories, Accessories, Maintenance, Upkeep & Repairs, Screen Protectors)                                                                    6374\n",
       "                                                                                                                                                             ...  \n",
       "(Automotive, Motorcycle & Powersports, Parts, Body & Frame Parts, Guards & Covers, Caliper Guards)                                                               1\n",
       "(Sports & Outdoor Recreation Accessories, Field, Court & Rink Equipment, Basketball Court Equipment, Basketball Hoops & Goals, In-Ground)                        1\n",
       "(Sports & Outdoors, Sports & Outdoor Recreation Accessories, Field, Court & Rink Equipment, Basketball Court Equipment, Backboard Components, Pole Pads)         1\n",
       "(Clothing, Shoes & Jewelry, Women, Clothing, Swimsuits & Cover Ups, Monokinis)                                                                                   1\n",
       "(Collectibles & Fine Art, Sports, Trading Cards, Sets, Sealed Sets)                                                                                              1\n",
       "Name: count, Length: 19263, dtype: int64"
      ]
     },
     "execution_count": 22,
     "metadata": {},
     "output_type": "execute_result"
    }
   ],
   "source": [
    "transaction['group_key'].value_counts()"
   ]
  },
  {
   "cell_type": "markdown",
   "id": "3cc22195",
   "metadata": {},
   "source": [
    "## 상품군 결측치 처리"
   ]
  },
  {
   "cell_type": "markdown",
   "id": "f9d80b8a",
   "metadata": {},
   "source": [
    "### 기존 구매데이터의 카테고리로 대체\n",
    "- 기존 구매데이터 카테고리에서 구성비율이 50% 이상인 상품군이 있다면 그 상품군으로 대체"
   ]
  },
  {
   "cell_type": "code",
   "execution_count": 23,
   "id": "02ec8016",
   "metadata": {},
   "outputs": [
    {
     "data": {
      "application/vnd.microsoft.datawrangler.viewer.v0+json": {
       "columns": [
        {
         "name": "index",
         "rawType": "int64",
         "type": "integer"
        },
        {
         "name": "Order Date",
         "rawType": "datetime64[ns]",
         "type": "datetime"
        },
        {
         "name": "Purchase Price Per Unit",
         "rawType": "float64",
         "type": "float"
        },
        {
         "name": "Title",
         "rawType": "object",
         "type": "unknown"
        },
        {
         "name": "ASIN",
         "rawType": "object",
         "type": "unknown"
        },
        {
         "name": "Category",
         "rawType": "object",
         "type": "unknown"
        },
        {
         "name": "Survey ResponseID",
         "rawType": "object",
         "type": "string"
        },
        {
         "name": "Rating",
         "rawType": "object",
         "type": "unknown"
        },
        {
         "name": "Rating Count",
         "rawType": "float64",
         "type": "float"
        },
        {
         "name": "Category 1",
         "rawType": "object",
         "type": "unknown"
        },
        {
         "name": "Category 2",
         "rawType": "object",
         "type": "unknown"
        },
        {
         "name": "Category 3",
         "rawType": "object",
         "type": "unknown"
        },
        {
         "name": "Category 4",
         "rawType": "object",
         "type": "unknown"
        },
        {
         "name": "Category 5",
         "rawType": "object",
         "type": "unknown"
        },
        {
         "name": "Category 6",
         "rawType": "object",
         "type": "unknown"
        },
        {
         "name": "Category 7",
         "rawType": "object",
         "type": "unknown"
        },
        {
         "name": "Category 8",
         "rawType": "object",
         "type": "unknown"
        },
        {
         "name": "group_key",
         "rawType": "object",
         "type": "string"
        }
       ],
       "ref": "ea5de559-f7c0-4bce-b59b-9e4f2dbc936e",
       "rows": [
        [
         "2",
         "2018-12-24 00:00:00",
         "8.99",
         null,
         "B078JZTFN3",
         null,
         "R_01vNIayewjIIKMF",
         null,
         null,
         null,
         null,
         null,
         null,
         null,
         null,
         null,
         null,
         "unknown"
        ],
        [
         "7",
         "2019-03-15 00:00:00",
         "124.99",
         "Fire HD 8 Tablet (8\" HD Display, 32 GB, without Special Offers) - Black (Previous Generation - 8th)",
         "B077H6L7T9",
         "AMAZON_TABLET",
         "R_01vNIayewjIIKMF",
         "4.4",
         "93211.0",
         null,
         null,
         null,
         null,
         null,
         null,
         null,
         null,
         "unknown"
        ],
        [
         "9",
         "2019-04-23 00:00:00",
         "24.69",
         null,
         "B06XKNWJN2",
         null,
         "R_01vNIayewjIIKMF",
         null,
         null,
         null,
         null,
         null,
         null,
         null,
         null,
         null,
         null,
         "unknown"
        ],
        [
         "20",
         "2019-09-06 00:00:00",
         "53.95",
         "WOWMAX Triangular Reading Pillow Large Bolster Headboard Backrest Positioning Support Wedge Pillow, Pillow for Day Bed Bunk Bed with Removable Cover Jean Blue 39x8x20inch",
         "B075CMYT43",
         "BODY_POSITIONER",
         "R_01vNIayewjIIKMF",
         null,
         null,
         null,
         null,
         null,
         null,
         null,
         null,
         null,
         null,
         "unknown"
        ],
        [
         "25",
         "2019-09-13 00:00:00",
         "8.95",
         "Poetic SlimFolio case for All-New Amazon Fire HD 8 Tablet (7th and 8th Generation, 2017 and 2018 Release) - Slim Leather Stand Folio Smart Cover Case with Auto Wake/Sleep - Black",
         "B071ZBV7DY",
         "AMAZON_TABLET_ACCESSORY",
         "R_01vNIayewjIIKMF",
         "4.3",
         "251.0",
         null,
         null,
         null,
         null,
         null,
         null,
         null,
         null,
         "unknown"
        ],
        [
         "35",
         "2019-10-07 00:00:00",
         "11.94",
         null,
         "B07CZ6JCZS",
         null,
         "R_01vNIayewjIIKMF",
         null,
         null,
         null,
         null,
         null,
         null,
         null,
         null,
         null,
         null,
         "unknown"
        ],
        [
         "40",
         "2019-10-18 00:00:00",
         "14.26",
         null,
         "B00KVM2SSO",
         null,
         "R_01vNIayewjIIKMF",
         null,
         null,
         null,
         null,
         null,
         null,
         null,
         null,
         null,
         null,
         "unknown"
        ],
        [
         "58",
         "2019-12-22 00:00:00",
         "14.33",
         null,
         "B00KVM2SSO",
         null,
         "R_01vNIayewjIIKMF",
         null,
         null,
         null,
         null,
         null,
         null,
         null,
         null,
         null,
         null,
         "unknown"
        ],
        [
         "59",
         "2020-01-16 00:00:00",
         "26.99",
         null,
         "B07Z8B814B",
         null,
         "R_01vNIayewjIIKMF",
         null,
         null,
         null,
         null,
         null,
         null,
         null,
         null,
         null,
         null,
         "unknown"
        ],
        [
         "60",
         "2020-01-17 00:00:00",
         "10.0",
         null,
         "B078JLMC9H",
         null,
         "R_01vNIayewjIIKMF",
         null,
         null,
         null,
         null,
         null,
         null,
         null,
         null,
         null,
         null,
         "unknown"
        ],
        [
         "74",
         "2020-05-28 00:00:00",
         "8.54",
         "Amazon Basics Carrying Case for Nintendo Switch - Black",
         "B072PW59TZ",
         "PORTABLE_ELECTRONIC_DEVICE_COVER",
         "R_01vNIayewjIIKMF",
         "4.6",
         "2972.0",
         null,
         null,
         null,
         null,
         null,
         null,
         null,
         null,
         "unknown"
        ],
        [
         "75",
         "2020-05-28 00:00:00",
         "22.99",
         null,
         "B07M6R3CPB",
         null,
         "R_01vNIayewjIIKMF",
         null,
         null,
         null,
         null,
         null,
         null,
         null,
         null,
         null,
         null,
         "unknown"
        ],
        [
         "76",
         "2020-05-28 00:00:00",
         "9.29",
         "UGREEN SD Card Reader USB 3.0 Memory Card Reader Adapter Aluminum Dual Slot for SD SDXC SDHC MMC RS-MMC Micro SD TF Micro SDXC Micro SDHC UHS-I for Mac Windows Linux Chromebook PS4 PC",
         "B07VDDDPKY",
         "MEMORY_CARD_READER",
         "R_01vNIayewjIIKMF",
         "4.6",
         "1237.0",
         null,
         null,
         null,
         null,
         null,
         null,
         null,
         null,
         "unknown"
        ],
        [
         "78",
         "2020-06-27 00:00:00",
         "29.99",
         null,
         "B07VN6SN3T",
         null,
         "R_01vNIayewjIIKMF",
         null,
         null,
         null,
         null,
         null,
         null,
         null,
         null,
         null,
         null,
         "unknown"
        ],
        [
         "79",
         "2020-07-24 00:00:00",
         "9.59",
         "UGREEN SD Card Reader USB 3.0 Memory Card Reader Adapter Aluminum Dual Slot for SD SDXC SDHC MMC RS-MMC Micro SD TF Micro SDXC Micro SDHC UHS-I for Mac Windows Linux Chromebook PS4 PC",
         "B07VDDDPKY",
         "MEMORY_CARD_READER",
         "R_01vNIayewjIIKMF",
         "4.6",
         "1237.0",
         null,
         null,
         null,
         null,
         null,
         null,
         null,
         null,
         "unknown"
        ],
        [
         "83",
         "2020-08-10 00:00:00",
         "37.99",
         null,
         "B07Z7H3GJK",
         null,
         "R_01vNIayewjIIKMF",
         null,
         null,
         null,
         null,
         null,
         null,
         null,
         null,
         null,
         null,
         "unknown"
        ],
        [
         "101",
         "2021-05-31 00:00:00",
         "29.99",
         null,
         "B01EHSX28M",
         null,
         "R_01vNIayewjIIKMF",
         null,
         null,
         null,
         null,
         null,
         null,
         null,
         null,
         null,
         null,
         "unknown"
        ],
        [
         "114",
         "2021-12-15 00:00:00",
         "20.99",
         null,
         "B0824L39FX",
         null,
         "R_01vNIayewjIIKMF",
         null,
         null,
         null,
         null,
         null,
         null,
         null,
         null,
         null,
         null,
         "unknown"
        ],
        [
         "151",
         "2018-02-11 00:00:00",
         "7.47",
         "Neutrogena Healthy Skin Boosters Facial Cleanser with Moisturizing Vitamin E and Antioxidant White Tea for Healthy Looking Skin, Oil-Free, 9 fl. oz",
         "B0713WYWVF",
         "BEAUTY",
         "R_037XK72IZBJyF69",
         null,
         null,
         null,
         null,
         null,
         null,
         null,
         null,
         null,
         null,
         "unknown"
        ],
        [
         "152",
         "2018-02-11 00:00:00",
         "4.88",
         "Johnson's Baby Bedtime Bubble Bath and Wash, 15 Ounce",
         "B01EMZ7QK0",
         "BATHWATER_ADDITIVE",
         "R_037XK72IZBJyF69",
         null,
         null,
         null,
         null,
         null,
         null,
         null,
         null,
         null,
         null,
         "unknown"
        ],
        [
         "153",
         "2018-02-11 00:00:00",
         "11.5",
         "Neutrogena Naturals Multi-Vitamin Moisturizing & Nourishing Night Face Cream with Antioxidant Bionutrients & Vitamins B, C & E, Non-Comedogenic & Sulfate-, Paraben-, Phthalate- & Dye-Free, 1.7 oz",
         "B0182G6OAI",
         "BEAUTY",
         "R_037XK72IZBJyF69",
         null,
         null,
         null,
         null,
         null,
         null,
         null,
         null,
         null,
         null,
         "unknown"
        ],
        [
         "155",
         "2018-02-11 00:00:00",
         "1.92",
         "Clorox Handi Wipes Heavy Duty Reusable Cloths, 3 Count",
         "B00J0AYYBW",
         "SURFACE_CLEANING_WIPE",
         "R_037XK72IZBJyF69",
         null,
         null,
         null,
         null,
         null,
         null,
         null,
         null,
         null,
         null,
         "unknown"
        ],
        [
         "156",
         "2018-02-11 00:00:00",
         "5.99",
         "Kleenex Trusted Care Everyday Facial Tissues, Flat Box,",
         "B00NAZ5RIC",
         "FACIAL_TISSUE",
         "R_037XK72IZBJyF69",
         "4.6",
         "1024.0",
         null,
         null,
         null,
         null,
         null,
         null,
         null,
         null,
         "unknown"
        ],
        [
         "158",
         "2018-02-11 00:00:00",
         "2.0",
         "Suave Essentials Body Wash, Mango Mandarin, 15 oz",
         "B00ULKSVQY",
         "SKIN_CLEANING_AGENT",
         "R_037XK72IZBJyF69",
         null,
         null,
         null,
         null,
         null,
         null,
         null,
         null,
         null,
         null,
         "unknown"
        ],
        [
         "164",
         "2018-02-28 00:00:00",
         "15.0",
         null,
         "B00F3TBBRO",
         null,
         "R_037XK72IZBJyF69",
         null,
         null,
         null,
         null,
         null,
         null,
         null,
         null,
         null,
         null,
         "unknown"
        ],
        [
         "165",
         "2018-02-28 00:00:00",
         "39.95",
         "LDR INDUSTRIES 163 3000SN 3PC BATH ORGANIZER KIT SATIN NICKEL, NICKLE",
         "B016C18EH6",
         "PLUMBING_FIXTURE",
         "R_037XK72IZBJyF69",
         "4.3",
         "1084.0",
         null,
         null,
         null,
         null,
         null,
         null,
         null,
         null,
         "unknown"
        ],
        [
         "171",
         "2018-04-02 00:00:00",
         "4.94",
         "Aussie Moist Conditioner With Pump 29.2 Fluid Ounce",
         "B007EGFQBQ",
         "CONDITIONER",
         "R_037XK72IZBJyF69",
         null,
         null,
         null,
         null,
         null,
         null,
         null,
         null,
         null,
         null,
         "unknown"
        ],
        [
         "173",
         "2018-04-02 00:00:00",
         "7.98",
         null,
         "B00MY48VLU",
         null,
         "R_037XK72IZBJyF69",
         null,
         null,
         null,
         null,
         null,
         null,
         null,
         null,
         null,
         null,
         "unknown"
        ],
        [
         "178",
         "2018-04-02 00:00:00",
         "6.49",
         null,
         "B010S9M3L6",
         null,
         "R_037XK72IZBJyF69",
         null,
         null,
         null,
         null,
         null,
         null,
         null,
         null,
         null,
         null,
         "unknown"
        ],
        [
         "186",
         "2018-04-29 00:00:00",
         "6.05",
         null,
         "B01L5T9GBI",
         null,
         "R_037XK72IZBJyF69",
         null,
         null,
         null,
         null,
         null,
         null,
         null,
         null,
         null,
         null,
         "unknown"
        ],
        [
         "188",
         "2018-05-16 00:00:00",
         "13.25",
         "2018 Tarot Planner",
         "1977537189",
         "ABIS_BOOK",
         "R_037XK72IZBJyF69",
         "4.4",
         "102.0",
         null,
         null,
         null,
         null,
         null,
         null,
         null,
         null,
         "unknown"
        ],
        [
         "198",
         "2018-05-18 00:00:00",
         "2.99",
         "Whole Paws, Small Dog Biscuits, Assorted Flavors, 10 Ounce",
         "B074M992MC",
         "PET_FOOD",
         "R_037XK72IZBJyF69",
         null,
         null,
         null,
         null,
         null,
         null,
         null,
         null,
         null,
         null,
         "unknown"
        ],
        [
         "200",
         "2018-05-18 00:00:00",
         "0.99",
         null,
         "B074MGZ3TR",
         null,
         "R_037XK72IZBJyF69",
         null,
         null,
         null,
         null,
         null,
         null,
         null,
         null,
         null,
         null,
         "unknown"
        ],
        [
         "202",
         "2018-05-18 00:00:00",
         "0.99",
         "365 Everyday Value, Shells & Alfredo, 7.25 oz",
         "B074MG12QS",
         "GROCERY",
         "R_037XK72IZBJyF69",
         "3.9",
         "244.0",
         null,
         null,
         null,
         null,
         null,
         null,
         null,
         null,
         "unknown"
        ],
        [
         "208",
         "2018-05-18 00:00:00",
         "3.98",
         "TRESemmé Rich Moisture Conditioner for Dry Hair Formulated With Pro Style Technology 28 oz",
         "B00UB6E4IM",
         "CONDITIONER",
         "R_037XK72IZBJyF69",
         "4.6",
         "1214.0",
         null,
         null,
         null,
         null,
         null,
         null,
         null,
         null,
         "unknown"
        ],
        [
         "209",
         "2018-05-18 00:00:00",
         "3.99",
         null,
         "B00UB6OSAQ",
         null,
         "R_037XK72IZBJyF69",
         null,
         null,
         null,
         null,
         null,
         null,
         null,
         null,
         null,
         null,
         "unknown"
        ],
        [
         "218",
         "2018-06-03 00:00:00",
         "15.89",
         "mainlead BTS Bangtan Boys Black Hoody Sweater Pullover (JUNG KOOK, XXL)",
         "B01KNHWAT8",
         "SWEATSHIRT",
         "R_037XK72IZBJyF69",
         null,
         null,
         null,
         null,
         null,
         null,
         null,
         null,
         null,
         null,
         "unknown"
        ],
        [
         "220",
         "2018-06-15 00:00:00",
         "10.96",
         "NUTRO WHOLESOME ESSENTIALS Adult Natural Dry Dog Food Small Bites Farm-Raised Chicken, Brown Rice & Sweet Potato Recipe Dog Kibble, 5 lb. Bag",
         "B01N4TQSJP",
         "PET_FOOD",
         "R_037XK72IZBJyF69",
         null,
         null,
         null,
         null,
         null,
         null,
         null,
         null,
         null,
         null,
         "unknown"
        ],
        [
         "221",
         "2018-07-23 00:00:00",
         "10.96",
         "NUTRO WHOLESOME ESSENTIALS Adult Natural Dry Dog Food Small Bites Farm-Raised Chicken, Brown Rice & Sweet Potato Recipe Dog Kibble, 5 lb. Bag",
         "B01N4TQSJP",
         "PET_FOOD",
         "R_037XK72IZBJyF69",
         null,
         null,
         null,
         null,
         null,
         null,
         null,
         null,
         null,
         null,
         "unknown"
        ],
        [
         "222",
         "2018-07-23 00:00:00",
         "10.99",
         "Rescue Bundle Pack Reusable Fruit Fly Trap, 2-Pack with Non-Toxic Fruit Fly Trap Refill",
         "B01HFIRVJM",
         "PEST_CONTROL_DEVICE",
         "R_037XK72IZBJyF69",
         null,
         null,
         null,
         null,
         null,
         null,
         null,
         null,
         null,
         null,
         "unknown"
        ],
        [
         "232",
         "2018-11-28 00:00:00",
         "8.99",
         "THETIS Homes 2-PACK Detangler Brush, Detangling Hair Comb, No Pain Tangle Free Hair Brush for Adults and Kids - Pink & Black",
         "B0749CCDM6",
         "HAIR_BRUSH",
         "R_037XK72IZBJyF69",
         null,
         null,
         null,
         null,
         null,
         null,
         null,
         null,
         null,
         null,
         "unknown"
        ],
        [
         "238",
         "2018-11-28 00:00:00",
         "26.45",
         "Life-Flo Progesta-Care Estriol | Natural Progesterone USP & Estriol | Physician-Developed Body Cream for Optimal Balance | 4-oz Pump",
         "B0084Y1M8I",
         "NUTRITIONAL_SUPPLEMENT",
         "R_037XK72IZBJyF69",
         null,
         null,
         null,
         null,
         null,
         null,
         null,
         null,
         null,
         null,
         "unknown"
        ],
        [
         "242",
         "2018-12-22 00:00:00",
         "99.99",
         null,
         "B07K1YRHPH",
         null,
         "R_037XK72IZBJyF69",
         null,
         null,
         null,
         null,
         null,
         null,
         null,
         null,
         null,
         null,
         "unknown"
        ],
        [
         "245",
         "2018-12-28 00:00:00",
         "20.8",
         null,
         "B003LYDBCG",
         null,
         "R_037XK72IZBJyF69",
         null,
         null,
         null,
         null,
         null,
         null,
         null,
         null,
         null,
         null,
         "unknown"
        ],
        [
         "251",
         "2018-12-28 00:00:00",
         "8.9",
         "Enchanted Dreams 2019 Wall Calendar",
         "B079GZJF4K",
         "OFFICE_PRODUCTS",
         "R_037XK72IZBJyF69",
         "5.0",
         "2.0",
         null,
         null,
         null,
         null,
         null,
         null,
         null,
         null,
         "unknown"
        ],
        [
         "253",
         "2019-01-02 00:00:00",
         "14.95",
         "Carpe Antiperspirant Hand Lotion, A dermatologist-recommended, non-irritating, smooth lotion that helps stop hand sweat, Great for hyperhidrosis",
         "B010BVZ1VU",
         "BODY_DEODORANT",
         "R_037XK72IZBJyF69",
         null,
         null,
         null,
         null,
         null,
         null,
         null,
         null,
         null,
         null,
         "unknown"
        ],
        [
         "254",
         "2019-01-16 00:00:00",
         "8.45",
         null,
         "B0119Q9FYU",
         null,
         "R_037XK72IZBJyF69",
         null,
         null,
         null,
         null,
         null,
         null,
         null,
         null,
         null,
         null,
         "unknown"
        ],
        [
         "258",
         "2019-01-16 00:00:00",
         "10.96",
         "NUTRO WHOLESOME ESSENTIALS Adult Natural Dry Dog Food Small Bites Farm-Raised Chicken, Brown Rice & Sweet Potato Recipe Dog Kibble, 5 lb. Bag",
         "B01N4TQSJP",
         "PET_FOOD",
         "R_037XK72IZBJyF69",
         null,
         null,
         null,
         null,
         null,
         null,
         null,
         null,
         null,
         null,
         "unknown"
        ],
        [
         "261",
         "2019-01-24 00:00:00",
         "27.99",
         null,
         "B07KQ6FTGT",
         null,
         "R_037XK72IZBJyF69",
         null,
         null,
         null,
         null,
         null,
         null,
         null,
         null,
         null,
         null,
         "unknown"
        ],
        [
         "268",
         "2019-02-24 00:00:00",
         "13.99",
         "Accmor Magic Gate, Portable Folding Pet Safety Gate Mesh Magic Gate for Dogs with Removable Hook, Pet Safety Enclosure Install Anywhere",
         "B07L4DW1VT",
         "TEMPORARY_GATE",
         "R_037XK72IZBJyF69",
         "3.2",
         "60.0",
         null,
         null,
         null,
         null,
         null,
         null,
         null,
         null,
         "unknown"
        ]
       ],
       "shape": {
        "columns": 17,
        "rows": 244827
       }
      },
      "text/html": [
       "<div>\n",
       "<style scoped>\n",
       "    .dataframe tbody tr th:only-of-type {\n",
       "        vertical-align: middle;\n",
       "    }\n",
       "\n",
       "    .dataframe tbody tr th {\n",
       "        vertical-align: top;\n",
       "    }\n",
       "\n",
       "    .dataframe thead th {\n",
       "        text-align: right;\n",
       "    }\n",
       "</style>\n",
       "<table border=\"1\" class=\"dataframe\">\n",
       "  <thead>\n",
       "    <tr style=\"text-align: right;\">\n",
       "      <th></th>\n",
       "      <th>Order Date</th>\n",
       "      <th>Purchase Price Per Unit</th>\n",
       "      <th>Title</th>\n",
       "      <th>ASIN</th>\n",
       "      <th>Category</th>\n",
       "      <th>Survey ResponseID</th>\n",
       "      <th>Rating</th>\n",
       "      <th>Rating Count</th>\n",
       "      <th>Category 1</th>\n",
       "      <th>Category 2</th>\n",
       "      <th>Category 3</th>\n",
       "      <th>Category 4</th>\n",
       "      <th>Category 5</th>\n",
       "      <th>Category 6</th>\n",
       "      <th>Category 7</th>\n",
       "      <th>Category 8</th>\n",
       "      <th>group_key</th>\n",
       "    </tr>\n",
       "  </thead>\n",
       "  <tbody>\n",
       "    <tr>\n",
       "      <th>2</th>\n",
       "      <td>2018-12-24</td>\n",
       "      <td>8.99</td>\n",
       "      <td>NaN</td>\n",
       "      <td>B078JZTFN3</td>\n",
       "      <td>NaN</td>\n",
       "      <td>R_01vNIayewjIIKMF</td>\n",
       "      <td>NaN</td>\n",
       "      <td>NaN</td>\n",
       "      <td>NaN</td>\n",
       "      <td>NaN</td>\n",
       "      <td>NaN</td>\n",
       "      <td>NaN</td>\n",
       "      <td>NaN</td>\n",
       "      <td>NaN</td>\n",
       "      <td>NaN</td>\n",
       "      <td>NaN</td>\n",
       "      <td>unknown</td>\n",
       "    </tr>\n",
       "    <tr>\n",
       "      <th>7</th>\n",
       "      <td>2019-03-15</td>\n",
       "      <td>124.99</td>\n",
       "      <td>Fire HD 8 Tablet (8\" HD Display, 32 GB, withou...</td>\n",
       "      <td>B077H6L7T9</td>\n",
       "      <td>AMAZON_TABLET</td>\n",
       "      <td>R_01vNIayewjIIKMF</td>\n",
       "      <td>4.4</td>\n",
       "      <td>93211.0</td>\n",
       "      <td>NaN</td>\n",
       "      <td>NaN</td>\n",
       "      <td>NaN</td>\n",
       "      <td>NaN</td>\n",
       "      <td>NaN</td>\n",
       "      <td>NaN</td>\n",
       "      <td>NaN</td>\n",
       "      <td>NaN</td>\n",
       "      <td>unknown</td>\n",
       "    </tr>\n",
       "    <tr>\n",
       "      <th>9</th>\n",
       "      <td>2019-04-23</td>\n",
       "      <td>24.69</td>\n",
       "      <td>NaN</td>\n",
       "      <td>B06XKNWJN2</td>\n",
       "      <td>NaN</td>\n",
       "      <td>R_01vNIayewjIIKMF</td>\n",
       "      <td>NaN</td>\n",
       "      <td>NaN</td>\n",
       "      <td>NaN</td>\n",
       "      <td>NaN</td>\n",
       "      <td>NaN</td>\n",
       "      <td>NaN</td>\n",
       "      <td>NaN</td>\n",
       "      <td>NaN</td>\n",
       "      <td>NaN</td>\n",
       "      <td>NaN</td>\n",
       "      <td>unknown</td>\n",
       "    </tr>\n",
       "    <tr>\n",
       "      <th>20</th>\n",
       "      <td>2019-09-06</td>\n",
       "      <td>53.95</td>\n",
       "      <td>WOWMAX Triangular Reading Pillow Large Bolster...</td>\n",
       "      <td>B075CMYT43</td>\n",
       "      <td>BODY_POSITIONER</td>\n",
       "      <td>R_01vNIayewjIIKMF</td>\n",
       "      <td>NaN</td>\n",
       "      <td>NaN</td>\n",
       "      <td>NaN</td>\n",
       "      <td>NaN</td>\n",
       "      <td>NaN</td>\n",
       "      <td>NaN</td>\n",
       "      <td>NaN</td>\n",
       "      <td>NaN</td>\n",
       "      <td>NaN</td>\n",
       "      <td>NaN</td>\n",
       "      <td>unknown</td>\n",
       "    </tr>\n",
       "    <tr>\n",
       "      <th>25</th>\n",
       "      <td>2019-09-13</td>\n",
       "      <td>8.95</td>\n",
       "      <td>Poetic SlimFolio case for All-New Amazon Fire ...</td>\n",
       "      <td>B071ZBV7DY</td>\n",
       "      <td>AMAZON_TABLET_ACCESSORY</td>\n",
       "      <td>R_01vNIayewjIIKMF</td>\n",
       "      <td>4.3</td>\n",
       "      <td>251.0</td>\n",
       "      <td>NaN</td>\n",
       "      <td>NaN</td>\n",
       "      <td>NaN</td>\n",
       "      <td>NaN</td>\n",
       "      <td>NaN</td>\n",
       "      <td>NaN</td>\n",
       "      <td>NaN</td>\n",
       "      <td>NaN</td>\n",
       "      <td>unknown</td>\n",
       "    </tr>\n",
       "    <tr>\n",
       "      <th>...</th>\n",
       "      <td>...</td>\n",
       "      <td>...</td>\n",
       "      <td>...</td>\n",
       "      <td>...</td>\n",
       "      <td>...</td>\n",
       "      <td>...</td>\n",
       "      <td>...</td>\n",
       "      <td>...</td>\n",
       "      <td>...</td>\n",
       "      <td>...</td>\n",
       "      <td>...</td>\n",
       "      <td>...</td>\n",
       "      <td>...</td>\n",
       "      <td>...</td>\n",
       "      <td>...</td>\n",
       "      <td>...</td>\n",
       "      <td>...</td>\n",
       "    </tr>\n",
       "    <tr>\n",
       "      <th>1837494</th>\n",
       "      <td>2018-04-01</td>\n",
       "      <td>20.00</td>\n",
       "      <td>WOODROW CAN BLACK</td>\n",
       "      <td>B00S13POIQ</td>\n",
       "      <td>TRASH_CAN</td>\n",
       "      <td>R_zfqnsBzlOAKibzb</td>\n",
       "      <td>NaN</td>\n",
       "      <td>NaN</td>\n",
       "      <td>NaN</td>\n",
       "      <td>NaN</td>\n",
       "      <td>NaN</td>\n",
       "      <td>NaN</td>\n",
       "      <td>NaN</td>\n",
       "      <td>NaN</td>\n",
       "      <td>NaN</td>\n",
       "      <td>NaN</td>\n",
       "      <td>unknown</td>\n",
       "    </tr>\n",
       "    <tr>\n",
       "      <th>1837508</th>\n",
       "      <td>2018-10-09</td>\n",
       "      <td>19.39</td>\n",
       "      <td>WOODROW CAN BLACK</td>\n",
       "      <td>B00S13POIQ</td>\n",
       "      <td>TRASH_CAN</td>\n",
       "      <td>R_zfqnsBzlOAKibzb</td>\n",
       "      <td>NaN</td>\n",
       "      <td>NaN</td>\n",
       "      <td>NaN</td>\n",
       "      <td>NaN</td>\n",
       "      <td>NaN</td>\n",
       "      <td>NaN</td>\n",
       "      <td>NaN</td>\n",
       "      <td>NaN</td>\n",
       "      <td>NaN</td>\n",
       "      <td>NaN</td>\n",
       "      <td>unknown</td>\n",
       "    </tr>\n",
       "    <tr>\n",
       "      <th>1837533</th>\n",
       "      <td>2019-05-04</td>\n",
       "      <td>22.38</td>\n",
       "      <td>NaN</td>\n",
       "      <td>B00BDM0XZG</td>\n",
       "      <td>NaN</td>\n",
       "      <td>R_zfqnsBzlOAKibzb</td>\n",
       "      <td>NaN</td>\n",
       "      <td>NaN</td>\n",
       "      <td>NaN</td>\n",
       "      <td>NaN</td>\n",
       "      <td>NaN</td>\n",
       "      <td>NaN</td>\n",
       "      <td>NaN</td>\n",
       "      <td>NaN</td>\n",
       "      <td>NaN</td>\n",
       "      <td>NaN</td>\n",
       "      <td>unknown</td>\n",
       "    </tr>\n",
       "    <tr>\n",
       "      <th>1837534</th>\n",
       "      <td>2019-05-04</td>\n",
       "      <td>26.96</td>\n",
       "      <td>NaN</td>\n",
       "      <td>B00F5PJ9XE</td>\n",
       "      <td>NaN</td>\n",
       "      <td>R_zfqnsBzlOAKibzb</td>\n",
       "      <td>NaN</td>\n",
       "      <td>NaN</td>\n",
       "      <td>NaN</td>\n",
       "      <td>NaN</td>\n",
       "      <td>NaN</td>\n",
       "      <td>NaN</td>\n",
       "      <td>NaN</td>\n",
       "      <td>NaN</td>\n",
       "      <td>NaN</td>\n",
       "      <td>NaN</td>\n",
       "      <td>unknown</td>\n",
       "    </tr>\n",
       "    <tr>\n",
       "      <th>1837544</th>\n",
       "      <td>2021-04-01</td>\n",
       "      <td>20.75</td>\n",
       "      <td>50 Feather (Yellow Label) Razor Blades Platinu...</td>\n",
       "      <td>B08P5K9GMJ</td>\n",
       "      <td>RAZOR_BLADE_CARTRIDGE</td>\n",
       "      <td>R_zfqnsBzlOAKibzb</td>\n",
       "      <td>NaN</td>\n",
       "      <td>NaN</td>\n",
       "      <td>NaN</td>\n",
       "      <td>NaN</td>\n",
       "      <td>NaN</td>\n",
       "      <td>NaN</td>\n",
       "      <td>NaN</td>\n",
       "      <td>NaN</td>\n",
       "      <td>NaN</td>\n",
       "      <td>NaN</td>\n",
       "      <td>unknown</td>\n",
       "    </tr>\n",
       "  </tbody>\n",
       "</table>\n",
       "<p>244827 rows × 17 columns</p>\n",
       "</div>"
      ],
      "text/plain": [
       "        Order Date  Purchase Price Per Unit  \\\n",
       "2       2018-12-24                     8.99   \n",
       "7       2019-03-15                   124.99   \n",
       "9       2019-04-23                    24.69   \n",
       "20      2019-09-06                    53.95   \n",
       "25      2019-09-13                     8.95   \n",
       "...            ...                      ...   \n",
       "1837494 2018-04-01                    20.00   \n",
       "1837508 2018-10-09                    19.39   \n",
       "1837533 2019-05-04                    22.38   \n",
       "1837534 2019-05-04                    26.96   \n",
       "1837544 2021-04-01                    20.75   \n",
       "\n",
       "                                                     Title        ASIN  \\\n",
       "2                                                      NaN  B078JZTFN3   \n",
       "7        Fire HD 8 Tablet (8\" HD Display, 32 GB, withou...  B077H6L7T9   \n",
       "9                                                      NaN  B06XKNWJN2   \n",
       "20       WOWMAX Triangular Reading Pillow Large Bolster...  B075CMYT43   \n",
       "25       Poetic SlimFolio case for All-New Amazon Fire ...  B071ZBV7DY   \n",
       "...                                                    ...         ...   \n",
       "1837494                                  WOODROW CAN BLACK  B00S13POIQ   \n",
       "1837508                                  WOODROW CAN BLACK  B00S13POIQ   \n",
       "1837533                                                NaN  B00BDM0XZG   \n",
       "1837534                                                NaN  B00F5PJ9XE   \n",
       "1837544  50 Feather (Yellow Label) Razor Blades Platinu...  B08P5K9GMJ   \n",
       "\n",
       "                        Category  Survey ResponseID Rating  Rating Count  \\\n",
       "2                            NaN  R_01vNIayewjIIKMF    NaN           NaN   \n",
       "7                  AMAZON_TABLET  R_01vNIayewjIIKMF    4.4       93211.0   \n",
       "9                            NaN  R_01vNIayewjIIKMF    NaN           NaN   \n",
       "20               BODY_POSITIONER  R_01vNIayewjIIKMF    NaN           NaN   \n",
       "25       AMAZON_TABLET_ACCESSORY  R_01vNIayewjIIKMF    4.3         251.0   \n",
       "...                          ...                ...    ...           ...   \n",
       "1837494                TRASH_CAN  R_zfqnsBzlOAKibzb    NaN           NaN   \n",
       "1837508                TRASH_CAN  R_zfqnsBzlOAKibzb    NaN           NaN   \n",
       "1837533                      NaN  R_zfqnsBzlOAKibzb    NaN           NaN   \n",
       "1837534                      NaN  R_zfqnsBzlOAKibzb    NaN           NaN   \n",
       "1837544    RAZOR_BLADE_CARTRIDGE  R_zfqnsBzlOAKibzb    NaN           NaN   \n",
       "\n",
       "        Category 1 Category 2 Category 3 Category 4 Category 5 Category 6  \\\n",
       "2              NaN        NaN        NaN        NaN        NaN        NaN   \n",
       "7              NaN        NaN        NaN        NaN        NaN        NaN   \n",
       "9              NaN        NaN        NaN        NaN        NaN        NaN   \n",
       "20             NaN        NaN        NaN        NaN        NaN        NaN   \n",
       "25             NaN        NaN        NaN        NaN        NaN        NaN   \n",
       "...            ...        ...        ...        ...        ...        ...   \n",
       "1837494        NaN        NaN        NaN        NaN        NaN        NaN   \n",
       "1837508        NaN        NaN        NaN        NaN        NaN        NaN   \n",
       "1837533        NaN        NaN        NaN        NaN        NaN        NaN   \n",
       "1837534        NaN        NaN        NaN        NaN        NaN        NaN   \n",
       "1837544        NaN        NaN        NaN        NaN        NaN        NaN   \n",
       "\n",
       "        Category 7 Category 8 group_key  \n",
       "2              NaN        NaN   unknown  \n",
       "7              NaN        NaN   unknown  \n",
       "9              NaN        NaN   unknown  \n",
       "20             NaN        NaN   unknown  \n",
       "25             NaN        NaN   unknown  \n",
       "...            ...        ...       ...  \n",
       "1837494        NaN        NaN   unknown  \n",
       "1837508        NaN        NaN   unknown  \n",
       "1837533        NaN        NaN   unknown  \n",
       "1837534        NaN        NaN   unknown  \n",
       "1837544        NaN        NaN   unknown  \n",
       "\n",
       "[244827 rows x 17 columns]"
      ]
     },
     "execution_count": 23,
     "metadata": {},
     "output_type": "execute_result"
    }
   ],
   "source": [
    "# 크롤링 카테고리 결측치 데이터프레임\n",
    "catnull = transaction[transaction['Category 1'].isnull()]\n",
    "catnull"
   ]
  },
  {
   "cell_type": "code",
   "execution_count": 24,
   "id": "8acc15f1",
   "metadata": {},
   "outputs": [
    {
     "data": {
      "application/vnd.microsoft.datawrangler.viewer.v0+json": {
       "columns": [
        {
         "name": "index",
         "rawType": "int64",
         "type": "integer"
        },
        {
         "name": "Order Date",
         "rawType": "datetime64[ns]",
         "type": "datetime"
        },
        {
         "name": "Purchase Price Per Unit",
         "rawType": "float64",
         "type": "float"
        },
        {
         "name": "Title",
         "rawType": "object",
         "type": "unknown"
        },
        {
         "name": "ASIN",
         "rawType": "object",
         "type": "unknown"
        },
        {
         "name": "Category",
         "rawType": "object",
         "type": "string"
        },
        {
         "name": "Survey ResponseID",
         "rawType": "object",
         "type": "string"
        },
        {
         "name": "Rating",
         "rawType": "object",
         "type": "unknown"
        },
        {
         "name": "Rating Count",
         "rawType": "float64",
         "type": "float"
        },
        {
         "name": "Category 1",
         "rawType": "object",
         "type": "unknown"
        },
        {
         "name": "Category 2",
         "rawType": "object",
         "type": "unknown"
        },
        {
         "name": "Category 3",
         "rawType": "object",
         "type": "unknown"
        },
        {
         "name": "Category 4",
         "rawType": "object",
         "type": "unknown"
        },
        {
         "name": "Category 5",
         "rawType": "object",
         "type": "unknown"
        },
        {
         "name": "Category 6",
         "rawType": "object",
         "type": "unknown"
        },
        {
         "name": "Category 7",
         "rawType": "object",
         "type": "unknown"
        },
        {
         "name": "Category 8",
         "rawType": "object",
         "type": "unknown"
        },
        {
         "name": "group_key",
         "rawType": "object",
         "type": "string"
        }
       ],
       "ref": "868a619e-4d37-4327-a857-8199b28c8495",
       "rows": [
        [
         "7",
         "2019-03-15 00:00:00",
         "124.99",
         "Fire HD 8 Tablet (8\" HD Display, 32 GB, without Special Offers) - Black (Previous Generation - 8th)",
         "B077H6L7T9",
         "AMAZON_TABLET",
         "R_01vNIayewjIIKMF",
         "4.4",
         "93211.0",
         null,
         null,
         null,
         null,
         null,
         null,
         null,
         null,
         "unknown"
        ],
        [
         "20",
         "2019-09-06 00:00:00",
         "53.95",
         "WOWMAX Triangular Reading Pillow Large Bolster Headboard Backrest Positioning Support Wedge Pillow, Pillow for Day Bed Bunk Bed with Removable Cover Jean Blue 39x8x20inch",
         "B075CMYT43",
         "BODY_POSITIONER",
         "R_01vNIayewjIIKMF",
         null,
         null,
         null,
         null,
         null,
         null,
         null,
         null,
         null,
         null,
         "unknown"
        ],
        [
         "25",
         "2019-09-13 00:00:00",
         "8.95",
         "Poetic SlimFolio case for All-New Amazon Fire HD 8 Tablet (7th and 8th Generation, 2017 and 2018 Release) - Slim Leather Stand Folio Smart Cover Case with Auto Wake/Sleep - Black",
         "B071ZBV7DY",
         "AMAZON_TABLET_ACCESSORY",
         "R_01vNIayewjIIKMF",
         "4.3",
         "251.0",
         null,
         null,
         null,
         null,
         null,
         null,
         null,
         null,
         "unknown"
        ],
        [
         "74",
         "2020-05-28 00:00:00",
         "8.54",
         "Amazon Basics Carrying Case for Nintendo Switch - Black",
         "B072PW59TZ",
         "PORTABLE_ELECTRONIC_DEVICE_COVER",
         "R_01vNIayewjIIKMF",
         "4.6",
         "2972.0",
         null,
         null,
         null,
         null,
         null,
         null,
         null,
         null,
         "unknown"
        ],
        [
         "76",
         "2020-05-28 00:00:00",
         "9.29",
         "UGREEN SD Card Reader USB 3.0 Memory Card Reader Adapter Aluminum Dual Slot for SD SDXC SDHC MMC RS-MMC Micro SD TF Micro SDXC Micro SDHC UHS-I for Mac Windows Linux Chromebook PS4 PC",
         "B07VDDDPKY",
         "MEMORY_CARD_READER",
         "R_01vNIayewjIIKMF",
         "4.6",
         "1237.0",
         null,
         null,
         null,
         null,
         null,
         null,
         null,
         null,
         "unknown"
        ],
        [
         "79",
         "2020-07-24 00:00:00",
         "9.59",
         "UGREEN SD Card Reader USB 3.0 Memory Card Reader Adapter Aluminum Dual Slot for SD SDXC SDHC MMC RS-MMC Micro SD TF Micro SDXC Micro SDHC UHS-I for Mac Windows Linux Chromebook PS4 PC",
         "B07VDDDPKY",
         "MEMORY_CARD_READER",
         "R_01vNIayewjIIKMF",
         "4.6",
         "1237.0",
         null,
         null,
         null,
         null,
         null,
         null,
         null,
         null,
         "unknown"
        ],
        [
         "151",
         "2018-02-11 00:00:00",
         "7.47",
         "Neutrogena Healthy Skin Boosters Facial Cleanser with Moisturizing Vitamin E and Antioxidant White Tea for Healthy Looking Skin, Oil-Free, 9 fl. oz",
         "B0713WYWVF",
         "BEAUTY",
         "R_037XK72IZBJyF69",
         null,
         null,
         null,
         null,
         null,
         null,
         null,
         null,
         null,
         null,
         "unknown"
        ],
        [
         "152",
         "2018-02-11 00:00:00",
         "4.88",
         "Johnson's Baby Bedtime Bubble Bath and Wash, 15 Ounce",
         "B01EMZ7QK0",
         "BATHWATER_ADDITIVE",
         "R_037XK72IZBJyF69",
         null,
         null,
         null,
         null,
         null,
         null,
         null,
         null,
         null,
         null,
         "unknown"
        ],
        [
         "153",
         "2018-02-11 00:00:00",
         "11.5",
         "Neutrogena Naturals Multi-Vitamin Moisturizing & Nourishing Night Face Cream with Antioxidant Bionutrients & Vitamins B, C & E, Non-Comedogenic & Sulfate-, Paraben-, Phthalate- & Dye-Free, 1.7 oz",
         "B0182G6OAI",
         "BEAUTY",
         "R_037XK72IZBJyF69",
         null,
         null,
         null,
         null,
         null,
         null,
         null,
         null,
         null,
         null,
         "unknown"
        ],
        [
         "155",
         "2018-02-11 00:00:00",
         "1.92",
         "Clorox Handi Wipes Heavy Duty Reusable Cloths, 3 Count",
         "B00J0AYYBW",
         "SURFACE_CLEANING_WIPE",
         "R_037XK72IZBJyF69",
         null,
         null,
         null,
         null,
         null,
         null,
         null,
         null,
         null,
         null,
         "unknown"
        ],
        [
         "156",
         "2018-02-11 00:00:00",
         "5.99",
         "Kleenex Trusted Care Everyday Facial Tissues, Flat Box,",
         "B00NAZ5RIC",
         "FACIAL_TISSUE",
         "R_037XK72IZBJyF69",
         "4.6",
         "1024.0",
         null,
         null,
         null,
         null,
         null,
         null,
         null,
         null,
         "unknown"
        ],
        [
         "158",
         "2018-02-11 00:00:00",
         "2.0",
         "Suave Essentials Body Wash, Mango Mandarin, 15 oz",
         "B00ULKSVQY",
         "SKIN_CLEANING_AGENT",
         "R_037XK72IZBJyF69",
         null,
         null,
         null,
         null,
         null,
         null,
         null,
         null,
         null,
         null,
         "unknown"
        ],
        [
         "165",
         "2018-02-28 00:00:00",
         "39.95",
         "LDR INDUSTRIES 163 3000SN 3PC BATH ORGANIZER KIT SATIN NICKEL, NICKLE",
         "B016C18EH6",
         "PLUMBING_FIXTURE",
         "R_037XK72IZBJyF69",
         "4.3",
         "1084.0",
         null,
         null,
         null,
         null,
         null,
         null,
         null,
         null,
         "unknown"
        ],
        [
         "171",
         "2018-04-02 00:00:00",
         "4.94",
         "Aussie Moist Conditioner With Pump 29.2 Fluid Ounce",
         "B007EGFQBQ",
         "CONDITIONER",
         "R_037XK72IZBJyF69",
         null,
         null,
         null,
         null,
         null,
         null,
         null,
         null,
         null,
         null,
         "unknown"
        ],
        [
         "188",
         "2018-05-16 00:00:00",
         "13.25",
         "2018 Tarot Planner",
         "1977537189",
         "ABIS_BOOK",
         "R_037XK72IZBJyF69",
         "4.4",
         "102.0",
         null,
         null,
         null,
         null,
         null,
         null,
         null,
         null,
         "unknown"
        ],
        [
         "198",
         "2018-05-18 00:00:00",
         "2.99",
         "Whole Paws, Small Dog Biscuits, Assorted Flavors, 10 Ounce",
         "B074M992MC",
         "PET_FOOD",
         "R_037XK72IZBJyF69",
         null,
         null,
         null,
         null,
         null,
         null,
         null,
         null,
         null,
         null,
         "unknown"
        ],
        [
         "202",
         "2018-05-18 00:00:00",
         "0.99",
         "365 Everyday Value, Shells & Alfredo, 7.25 oz",
         "B074MG12QS",
         "GROCERY",
         "R_037XK72IZBJyF69",
         "3.9",
         "244.0",
         null,
         null,
         null,
         null,
         null,
         null,
         null,
         null,
         "unknown"
        ],
        [
         "208",
         "2018-05-18 00:00:00",
         "3.98",
         "TRESemmé Rich Moisture Conditioner for Dry Hair Formulated With Pro Style Technology 28 oz",
         "B00UB6E4IM",
         "CONDITIONER",
         "R_037XK72IZBJyF69",
         "4.6",
         "1214.0",
         null,
         null,
         null,
         null,
         null,
         null,
         null,
         null,
         "unknown"
        ],
        [
         "218",
         "2018-06-03 00:00:00",
         "15.89",
         "mainlead BTS Bangtan Boys Black Hoody Sweater Pullover (JUNG KOOK, XXL)",
         "B01KNHWAT8",
         "SWEATSHIRT",
         "R_037XK72IZBJyF69",
         null,
         null,
         null,
         null,
         null,
         null,
         null,
         null,
         null,
         null,
         "unknown"
        ],
        [
         "220",
         "2018-06-15 00:00:00",
         "10.96",
         "NUTRO WHOLESOME ESSENTIALS Adult Natural Dry Dog Food Small Bites Farm-Raised Chicken, Brown Rice & Sweet Potato Recipe Dog Kibble, 5 lb. Bag",
         "B01N4TQSJP",
         "PET_FOOD",
         "R_037XK72IZBJyF69",
         null,
         null,
         null,
         null,
         null,
         null,
         null,
         null,
         null,
         null,
         "unknown"
        ],
        [
         "221",
         "2018-07-23 00:00:00",
         "10.96",
         "NUTRO WHOLESOME ESSENTIALS Adult Natural Dry Dog Food Small Bites Farm-Raised Chicken, Brown Rice & Sweet Potato Recipe Dog Kibble, 5 lb. Bag",
         "B01N4TQSJP",
         "PET_FOOD",
         "R_037XK72IZBJyF69",
         null,
         null,
         null,
         null,
         null,
         null,
         null,
         null,
         null,
         null,
         "unknown"
        ],
        [
         "222",
         "2018-07-23 00:00:00",
         "10.99",
         "Rescue Bundle Pack Reusable Fruit Fly Trap, 2-Pack with Non-Toxic Fruit Fly Trap Refill",
         "B01HFIRVJM",
         "PEST_CONTROL_DEVICE",
         "R_037XK72IZBJyF69",
         null,
         null,
         null,
         null,
         null,
         null,
         null,
         null,
         null,
         null,
         "unknown"
        ],
        [
         "232",
         "2018-11-28 00:00:00",
         "8.99",
         "THETIS Homes 2-PACK Detangler Brush, Detangling Hair Comb, No Pain Tangle Free Hair Brush for Adults and Kids - Pink & Black",
         "B0749CCDM6",
         "HAIR_BRUSH",
         "R_037XK72IZBJyF69",
         null,
         null,
         null,
         null,
         null,
         null,
         null,
         null,
         null,
         null,
         "unknown"
        ],
        [
         "238",
         "2018-11-28 00:00:00",
         "26.45",
         "Life-Flo Progesta-Care Estriol | Natural Progesterone USP & Estriol | Physician-Developed Body Cream for Optimal Balance | 4-oz Pump",
         "B0084Y1M8I",
         "NUTRITIONAL_SUPPLEMENT",
         "R_037XK72IZBJyF69",
         null,
         null,
         null,
         null,
         null,
         null,
         null,
         null,
         null,
         null,
         "unknown"
        ],
        [
         "251",
         "2018-12-28 00:00:00",
         "8.9",
         "Enchanted Dreams 2019 Wall Calendar",
         "B079GZJF4K",
         "OFFICE_PRODUCTS",
         "R_037XK72IZBJyF69",
         "5.0",
         "2.0",
         null,
         null,
         null,
         null,
         null,
         null,
         null,
         null,
         "unknown"
        ],
        [
         "253",
         "2019-01-02 00:00:00",
         "14.95",
         "Carpe Antiperspirant Hand Lotion, A dermatologist-recommended, non-irritating, smooth lotion that helps stop hand sweat, Great for hyperhidrosis",
         "B010BVZ1VU",
         "BODY_DEODORANT",
         "R_037XK72IZBJyF69",
         null,
         null,
         null,
         null,
         null,
         null,
         null,
         null,
         null,
         null,
         "unknown"
        ],
        [
         "258",
         "2019-01-16 00:00:00",
         "10.96",
         "NUTRO WHOLESOME ESSENTIALS Adult Natural Dry Dog Food Small Bites Farm-Raised Chicken, Brown Rice & Sweet Potato Recipe Dog Kibble, 5 lb. Bag",
         "B01N4TQSJP",
         "PET_FOOD",
         "R_037XK72IZBJyF69",
         null,
         null,
         null,
         null,
         null,
         null,
         null,
         null,
         null,
         null,
         "unknown"
        ],
        [
         "268",
         "2019-02-24 00:00:00",
         "13.99",
         "Accmor Magic Gate, Portable Folding Pet Safety Gate Mesh Magic Gate for Dogs with Removable Hook, Pet Safety Enclosure Install Anywhere",
         "B07L4DW1VT",
         "TEMPORARY_GATE",
         "R_037XK72IZBJyF69",
         "3.2",
         "60.0",
         null,
         null,
         null,
         null,
         null,
         null,
         null,
         null,
         "unknown"
        ],
        [
         "272",
         "2019-04-03 00:00:00",
         "14.96",
         "NUTRO WHOLESOME ESSENTIALS Adult Natural Dry Dog Food Small Bites Farm-Raised Chicken, Brown Rice & Sweet Potato Recipe Dog Kibble, 5 lb. Bag",
         "B01N4TQSJP",
         "PET_FOOD",
         "R_037XK72IZBJyF69",
         null,
         null,
         null,
         null,
         null,
         null,
         null,
         null,
         null,
         null,
         "unknown"
        ],
        [
         "273",
         "2019-04-07 00:00:00",
         "10.4",
         "Satya Incense Set of 12 Nag Champa, Super Hit, Sacred Sandalwood, Pure Patchouli, Mystic Rose, Vanilla, Prana, Natural, French Lavender, Opium, Egyptian Jasmine, Champa, VarietyPack01",
         "B01EIKB5CO",
         "INCENSE",
         "R_037XK72IZBJyF69",
         null,
         null,
         null,
         null,
         null,
         null,
         null,
         null,
         null,
         null,
         "unknown"
        ],
        [
         "282",
         "2019-06-05 00:00:00",
         "4.99",
         "Bamboo Toothbrush charcoal bristles by PAVICICO Organic Natural Compostable Bamboo Smooth Handle Individually Numbered - Soft Free BPA Bristle- Pack of 4 Adult",
         "B07H7SSR9D",
         "TOOTHBRUSH",
         "R_037XK72IZBJyF69",
         "4.4",
         "85.0",
         null,
         null,
         null,
         null,
         null,
         null,
         null,
         null,
         "unknown"
        ],
        [
         "285",
         "2019-06-18 00:00:00",
         "14.96",
         "NUTRO WHOLESOME ESSENTIALS Adult Natural Dry Dog Food Small Bites Farm-Raised Chicken, Brown Rice & Sweet Potato Recipe Dog Kibble, 5 lb. Bag",
         "B01N4TQSJP",
         "PET_FOOD",
         "R_037XK72IZBJyF69",
         null,
         null,
         null,
         null,
         null,
         null,
         null,
         null,
         null,
         null,
         "unknown"
        ],
        [
         "300",
         "2019-08-19 00:00:00",
         "14.96",
         "NUTRO WHOLESOME ESSENTIALS Adult Natural Dry Dog Food Small Bites Farm-Raised Chicken, Brown Rice & Sweet Potato Recipe Dog Kibble, 5 lb. Bag",
         "B01N4TQSJP",
         "PET_FOOD",
         "R_037XK72IZBJyF69",
         null,
         null,
         null,
         null,
         null,
         null,
         null,
         null,
         null,
         null,
         "unknown"
        ],
        [
         "301",
         "2019-09-07 00:00:00",
         "11.5",
         "Satya Incense Set of 12 Nag Champa, Super Hit, Sacred Sandalwood, Pure Patchouli, Mystic Rose, Vanilla, Prana, Natural, French Lavender, Opium, Egyptian Jasmine, Champa, VarietyPack01",
         "B01EIKB5CO",
         "INCENSE",
         "R_037XK72IZBJyF69",
         null,
         null,
         null,
         null,
         null,
         null,
         null,
         null,
         null,
         null,
         "unknown"
        ],
        [
         "305",
         "2019-09-07 00:00:00",
         "13.99",
         "Acmind Humane Smart Mouse Trap That Work No Kill Mice Catcher Indoor Outdoor Small Mice Traps Live Catch and Release, Easy to Set and Reusable, Safe for People and Pets, 2 Pack",
         "B07PPRGPF1",
         "PEST_CONTROL_DEVICE",
         "R_037XK72IZBJyF69",
         "4.2",
         "1486.0",
         null,
         null,
         null,
         null,
         null,
         null,
         null,
         null,
         "unknown"
        ],
        [
         "320",
         "2019-10-04 00:00:00",
         "15.97",
         "DealRight BTS Love Yourself T-Shirt Short Sleeve Jungkook Suga JIN Jimin J-Hope V RM Kpop Tee Crew Neck T",
         "B07Q7PCFJ4",
         "SHIRT",
         "R_037XK72IZBJyF69",
         "4.4",
         "100.0",
         null,
         null,
         null,
         null,
         null,
         null,
         null,
         null,
         "unknown"
        ],
        [
         "321",
         "2019-10-04 00:00:00",
         "39.95",
         "NuDerma Portable Handheld High Frequency Skin Therapy Wand Machine w/Neon – Anti-Aging - Skin Tightening - Wrinkle Reducing - Dark Circles – Blemish Control - Hair & Scalp Stimulator",
         "B06W5PD1KY",
         "MICROCURRENT_FACIAL_MACHINE",
         "R_037XK72IZBJyF69",
         null,
         null,
         null,
         null,
         null,
         null,
         null,
         null,
         null,
         null,
         "unknown"
        ],
        [
         "339",
         "2019-12-18 00:00:00",
         "9.48",
         "DISCONTINUED BY MANUFACTURER:NUTRO WHOLESOME ESSENTIALS Adult Small Breed Natural Dry Dog Food Farm-Raised Chicken, Brown Rice & Sweet Potato Recipe, 3 lb. Bag",
         "B07JZJZ82N",
         "PET_FOOD",
         "R_037XK72IZBJyF69",
         null,
         null,
         null,
         null,
         null,
         null,
         null,
         null,
         null,
         null,
         "unknown"
        ],
        [
         "354",
         "2020-01-20 00:00:00",
         "9.48",
         "DISCONTINUED BY MANUFACTURER:NUTRO WHOLESOME ESSENTIALS Adult Small Breed Natural Dry Dog Food Farm-Raised Chicken, Brown Rice & Sweet Potato Recipe, 3 lb. Bag",
         "B07JZJZ82N",
         "PET_FOOD",
         "R_037XK72IZBJyF69",
         null,
         null,
         null,
         null,
         null,
         null,
         null,
         null,
         null,
         null,
         "unknown"
        ],
        [
         "355",
         "2020-01-24 00:00:00",
         "11.99",
         "Nag Champa Sunrise Sandalwood Midnight Patchouli Celestial Fortune Blessings Romance Super Hit Jasmine Blossom Rain forest by Satya Gift Set",
         "B004FP9P0M",
         "INCENSE",
         "R_037XK72IZBJyF69",
         null,
         null,
         null,
         null,
         null,
         null,
         null,
         null,
         null,
         null,
         "unknown"
        ],
        [
         "366",
         "2020-01-28 00:00:00",
         "7.26",
         "Organic Apple Honeycrisp, 1 Each",
         "B081289WL5",
         "FRUIT",
         "R_037XK72IZBJyF69",
         "4.7",
         "12365.0",
         null,
         null,
         null,
         null,
         null,
         null,
         null,
         null,
         "unknown"
        ],
        [
         "398",
         "2020-03-29 00:00:00",
         "9.48",
         "DISCONTINUED BY MANUFACTURER:NUTRO WHOLESOME ESSENTIALS Adult Small Breed Natural Dry Dog Food Farm-Raised Chicken, Brown Rice & Sweet Potato Recipe, 3 lb. Bag",
         "B07JZJZ82N",
         "PET_FOOD",
         "R_037XK72IZBJyF69",
         null,
         null,
         null,
         null,
         null,
         null,
         null,
         null,
         null,
         null,
         "unknown"
        ],
        [
         "403",
         "2020-04-03 00:00:00",
         "11.98",
         "Women Girls Vintage Retro Apron with Pocket Fishtail Garden Works Cotton/Linen Adjust Neck Japanese Smock Pinafore Dress",
         "B07SJMZVC8",
         "APRON",
         "R_037XK72IZBJyF69",
         "4.8",
         "15.0",
         null,
         null,
         null,
         null,
         null,
         null,
         null,
         null,
         "unknown"
        ],
        [
         "421",
         "2020-05-04 00:00:00",
         "7.86",
         "Puritans Pride Butcher's Broom 470 Mg, 100 Count",
         "B0081G86QU",
         "NUTRITIONAL_SUPPLEMENT",
         "R_037XK72IZBJyF69",
         null,
         null,
         null,
         null,
         null,
         null,
         null,
         null,
         null,
         null,
         "unknown"
        ],
        [
         "426",
         "2020-05-09 00:00:00",
         "4.0",
         "DISCONTINUED BY MANUFACTURER:NUTRO WHOLESOME ESSENTIALS Adult Small Breed Natural Dry Dog Food Farm-Raised Chicken, Brown Rice & Sweet Potato Recipe, 3 lb. Bag",
         "B07JZJZ82N",
         "PET_FOOD",
         "R_037XK72IZBJyF69",
         null,
         null,
         null,
         null,
         null,
         null,
         null,
         null,
         null,
         null,
         "unknown"
        ],
        [
         "434",
         "2020-05-15 00:00:00",
         "1.94",
         "Banana Conventional, 1 Each",
         "B0787Y5D9C",
         "FRUIT",
         "R_037XK72IZBJyF69",
         null,
         null,
         null,
         null,
         null,
         null,
         null,
         null,
         null,
         null,
         "unknown"
        ],
        [
         "436",
         "2020-05-15 00:00:00",
         "8.16",
         "Honeycrisp Apple",
         "B0787YC1HY",
         "GROCERY",
         "R_037XK72IZBJyF69",
         "4.7",
         "11937.0",
         null,
         null,
         null,
         null,
         null,
         null,
         null,
         null,
         "unknown"
        ],
        [
         "437",
         "2020-05-15 00:00:00",
         "3.49",
         "Strawberry Conventional, 16 Ounce",
         "B079VQSVYP",
         "HEADPHONES",
         "R_037XK72IZBJyF69",
         "4.6",
         "15017.0",
         null,
         null,
         null,
         null,
         null,
         null,
         null,
         null,
         "unknown"
        ],
        [
         "443",
         "2020-05-16 00:00:00",
         "11.99",
         "True Lemon 10 Ct. Drink Mixes 3 Flavor Variety Bundle: (1) Original Lemonade, (1) Raspberry Lemonade, and (1) Black Cherry Limeade (3 Boxes Total)",
         "B00ITXIL7E",
         "FLAVORED_DRINK_CONCENTRATE",
         "R_037XK72IZBJyF69",
         "4.6",
         "72431.0",
         null,
         null,
         null,
         null,
         null,
         null,
         null,
         null,
         "unknown"
        ],
        [
         "453",
         "2020-05-31 00:00:00",
         "6.99",
         "3 Pk. Family Care 831527005052-1 Clotrimazole Anti-Fungal Cream , 1% USP",
         "B01K8DB372",
         "MEDICATION",
         "R_037XK72IZBJyF69",
         null,
         null,
         null,
         null,
         null,
         null,
         null,
         null,
         null,
         null,
         "unknown"
        ]
       ],
       "shape": {
        "columns": 17,
        "rows": 155900
       }
      },
      "text/html": [
       "<div>\n",
       "<style scoped>\n",
       "    .dataframe tbody tr th:only-of-type {\n",
       "        vertical-align: middle;\n",
       "    }\n",
       "\n",
       "    .dataframe tbody tr th {\n",
       "        vertical-align: top;\n",
       "    }\n",
       "\n",
       "    .dataframe thead th {\n",
       "        text-align: right;\n",
       "    }\n",
       "</style>\n",
       "<table border=\"1\" class=\"dataframe\">\n",
       "  <thead>\n",
       "    <tr style=\"text-align: right;\">\n",
       "      <th></th>\n",
       "      <th>Order Date</th>\n",
       "      <th>Purchase Price Per Unit</th>\n",
       "      <th>Title</th>\n",
       "      <th>ASIN</th>\n",
       "      <th>Category</th>\n",
       "      <th>Survey ResponseID</th>\n",
       "      <th>Rating</th>\n",
       "      <th>Rating Count</th>\n",
       "      <th>Category 1</th>\n",
       "      <th>Category 2</th>\n",
       "      <th>Category 3</th>\n",
       "      <th>Category 4</th>\n",
       "      <th>Category 5</th>\n",
       "      <th>Category 6</th>\n",
       "      <th>Category 7</th>\n",
       "      <th>Category 8</th>\n",
       "      <th>group_key</th>\n",
       "    </tr>\n",
       "  </thead>\n",
       "  <tbody>\n",
       "    <tr>\n",
       "      <th>7</th>\n",
       "      <td>2019-03-15</td>\n",
       "      <td>124.99</td>\n",
       "      <td>Fire HD 8 Tablet (8\" HD Display, 32 GB, withou...</td>\n",
       "      <td>B077H6L7T9</td>\n",
       "      <td>AMAZON_TABLET</td>\n",
       "      <td>R_01vNIayewjIIKMF</td>\n",
       "      <td>4.4</td>\n",
       "      <td>93211.0</td>\n",
       "      <td>NaN</td>\n",
       "      <td>NaN</td>\n",
       "      <td>NaN</td>\n",
       "      <td>NaN</td>\n",
       "      <td>NaN</td>\n",
       "      <td>NaN</td>\n",
       "      <td>NaN</td>\n",
       "      <td>NaN</td>\n",
       "      <td>unknown</td>\n",
       "    </tr>\n",
       "    <tr>\n",
       "      <th>20</th>\n",
       "      <td>2019-09-06</td>\n",
       "      <td>53.95</td>\n",
       "      <td>WOWMAX Triangular Reading Pillow Large Bolster...</td>\n",
       "      <td>B075CMYT43</td>\n",
       "      <td>BODY_POSITIONER</td>\n",
       "      <td>R_01vNIayewjIIKMF</td>\n",
       "      <td>NaN</td>\n",
       "      <td>NaN</td>\n",
       "      <td>NaN</td>\n",
       "      <td>NaN</td>\n",
       "      <td>NaN</td>\n",
       "      <td>NaN</td>\n",
       "      <td>NaN</td>\n",
       "      <td>NaN</td>\n",
       "      <td>NaN</td>\n",
       "      <td>NaN</td>\n",
       "      <td>unknown</td>\n",
       "    </tr>\n",
       "    <tr>\n",
       "      <th>25</th>\n",
       "      <td>2019-09-13</td>\n",
       "      <td>8.95</td>\n",
       "      <td>Poetic SlimFolio case for All-New Amazon Fire ...</td>\n",
       "      <td>B071ZBV7DY</td>\n",
       "      <td>AMAZON_TABLET_ACCESSORY</td>\n",
       "      <td>R_01vNIayewjIIKMF</td>\n",
       "      <td>4.3</td>\n",
       "      <td>251.0</td>\n",
       "      <td>NaN</td>\n",
       "      <td>NaN</td>\n",
       "      <td>NaN</td>\n",
       "      <td>NaN</td>\n",
       "      <td>NaN</td>\n",
       "      <td>NaN</td>\n",
       "      <td>NaN</td>\n",
       "      <td>NaN</td>\n",
       "      <td>unknown</td>\n",
       "    </tr>\n",
       "    <tr>\n",
       "      <th>74</th>\n",
       "      <td>2020-05-28</td>\n",
       "      <td>8.54</td>\n",
       "      <td>Amazon Basics Carrying Case for Nintendo Switc...</td>\n",
       "      <td>B072PW59TZ</td>\n",
       "      <td>PORTABLE_ELECTRONIC_DEVICE_COVER</td>\n",
       "      <td>R_01vNIayewjIIKMF</td>\n",
       "      <td>4.6</td>\n",
       "      <td>2972.0</td>\n",
       "      <td>NaN</td>\n",
       "      <td>NaN</td>\n",
       "      <td>NaN</td>\n",
       "      <td>NaN</td>\n",
       "      <td>NaN</td>\n",
       "      <td>NaN</td>\n",
       "      <td>NaN</td>\n",
       "      <td>NaN</td>\n",
       "      <td>unknown</td>\n",
       "    </tr>\n",
       "    <tr>\n",
       "      <th>76</th>\n",
       "      <td>2020-05-28</td>\n",
       "      <td>9.29</td>\n",
       "      <td>UGREEN SD Card Reader USB 3.0 Memory Card Read...</td>\n",
       "      <td>B07VDDDPKY</td>\n",
       "      <td>MEMORY_CARD_READER</td>\n",
       "      <td>R_01vNIayewjIIKMF</td>\n",
       "      <td>4.6</td>\n",
       "      <td>1237.0</td>\n",
       "      <td>NaN</td>\n",
       "      <td>NaN</td>\n",
       "      <td>NaN</td>\n",
       "      <td>NaN</td>\n",
       "      <td>NaN</td>\n",
       "      <td>NaN</td>\n",
       "      <td>NaN</td>\n",
       "      <td>NaN</td>\n",
       "      <td>unknown</td>\n",
       "    </tr>\n",
       "    <tr>\n",
       "      <th>...</th>\n",
       "      <td>...</td>\n",
       "      <td>...</td>\n",
       "      <td>...</td>\n",
       "      <td>...</td>\n",
       "      <td>...</td>\n",
       "      <td>...</td>\n",
       "      <td>...</td>\n",
       "      <td>...</td>\n",
       "      <td>...</td>\n",
       "      <td>...</td>\n",
       "      <td>...</td>\n",
       "      <td>...</td>\n",
       "      <td>...</td>\n",
       "      <td>...</td>\n",
       "      <td>...</td>\n",
       "      <td>...</td>\n",
       "      <td>...</td>\n",
       "    </tr>\n",
       "    <tr>\n",
       "      <th>1837426</th>\n",
       "      <td>2022-10-20</td>\n",
       "      <td>6.32</td>\n",
       "      <td>Little Blue Truck's Halloween: A Halloween Boo...</td>\n",
       "      <td>544772539</td>\n",
       "      <td>ABIS_BOOK</td>\n",
       "      <td>R_zfnsck2ZatnGtY5</td>\n",
       "      <td>NaN</td>\n",
       "      <td>NaN</td>\n",
       "      <td>NaN</td>\n",
       "      <td>NaN</td>\n",
       "      <td>NaN</td>\n",
       "      <td>NaN</td>\n",
       "      <td>NaN</td>\n",
       "      <td>NaN</td>\n",
       "      <td>NaN</td>\n",
       "      <td>NaN</td>\n",
       "      <td>unknown</td>\n",
       "    </tr>\n",
       "    <tr>\n",
       "      <th>1837451</th>\n",
       "      <td>2022-12-18</td>\n",
       "      <td>15.29</td>\n",
       "      <td>Bob Ross: A Happy Little Day-to-Day 2023 Calendar</td>\n",
       "      <td>789342022</td>\n",
       "      <td>ABIS_BOOK</td>\n",
       "      <td>R_zfnsck2ZatnGtY5</td>\n",
       "      <td>NaN</td>\n",
       "      <td>NaN</td>\n",
       "      <td>NaN</td>\n",
       "      <td>NaN</td>\n",
       "      <td>NaN</td>\n",
       "      <td>NaN</td>\n",
       "      <td>NaN</td>\n",
       "      <td>NaN</td>\n",
       "      <td>NaN</td>\n",
       "      <td>NaN</td>\n",
       "      <td>unknown</td>\n",
       "    </tr>\n",
       "    <tr>\n",
       "      <th>1837494</th>\n",
       "      <td>2018-04-01</td>\n",
       "      <td>20.00</td>\n",
       "      <td>WOODROW CAN BLACK</td>\n",
       "      <td>B00S13POIQ</td>\n",
       "      <td>TRASH_CAN</td>\n",
       "      <td>R_zfqnsBzlOAKibzb</td>\n",
       "      <td>NaN</td>\n",
       "      <td>NaN</td>\n",
       "      <td>NaN</td>\n",
       "      <td>NaN</td>\n",
       "      <td>NaN</td>\n",
       "      <td>NaN</td>\n",
       "      <td>NaN</td>\n",
       "      <td>NaN</td>\n",
       "      <td>NaN</td>\n",
       "      <td>NaN</td>\n",
       "      <td>unknown</td>\n",
       "    </tr>\n",
       "    <tr>\n",
       "      <th>1837508</th>\n",
       "      <td>2018-10-09</td>\n",
       "      <td>19.39</td>\n",
       "      <td>WOODROW CAN BLACK</td>\n",
       "      <td>B00S13POIQ</td>\n",
       "      <td>TRASH_CAN</td>\n",
       "      <td>R_zfqnsBzlOAKibzb</td>\n",
       "      <td>NaN</td>\n",
       "      <td>NaN</td>\n",
       "      <td>NaN</td>\n",
       "      <td>NaN</td>\n",
       "      <td>NaN</td>\n",
       "      <td>NaN</td>\n",
       "      <td>NaN</td>\n",
       "      <td>NaN</td>\n",
       "      <td>NaN</td>\n",
       "      <td>NaN</td>\n",
       "      <td>unknown</td>\n",
       "    </tr>\n",
       "    <tr>\n",
       "      <th>1837544</th>\n",
       "      <td>2021-04-01</td>\n",
       "      <td>20.75</td>\n",
       "      <td>50 Feather (Yellow Label) Razor Blades Platinu...</td>\n",
       "      <td>B08P5K9GMJ</td>\n",
       "      <td>RAZOR_BLADE_CARTRIDGE</td>\n",
       "      <td>R_zfqnsBzlOAKibzb</td>\n",
       "      <td>NaN</td>\n",
       "      <td>NaN</td>\n",
       "      <td>NaN</td>\n",
       "      <td>NaN</td>\n",
       "      <td>NaN</td>\n",
       "      <td>NaN</td>\n",
       "      <td>NaN</td>\n",
       "      <td>NaN</td>\n",
       "      <td>NaN</td>\n",
       "      <td>NaN</td>\n",
       "      <td>unknown</td>\n",
       "    </tr>\n",
       "  </tbody>\n",
       "</table>\n",
       "<p>155900 rows × 17 columns</p>\n",
       "</div>"
      ],
      "text/plain": [
       "        Order Date  Purchase Price Per Unit  \\\n",
       "7       2019-03-15                   124.99   \n",
       "20      2019-09-06                    53.95   \n",
       "25      2019-09-13                     8.95   \n",
       "74      2020-05-28                     8.54   \n",
       "76      2020-05-28                     9.29   \n",
       "...            ...                      ...   \n",
       "1837426 2022-10-20                     6.32   \n",
       "1837451 2022-12-18                    15.29   \n",
       "1837494 2018-04-01                    20.00   \n",
       "1837508 2018-10-09                    19.39   \n",
       "1837544 2021-04-01                    20.75   \n",
       "\n",
       "                                                     Title        ASIN  \\\n",
       "7        Fire HD 8 Tablet (8\" HD Display, 32 GB, withou...  B077H6L7T9   \n",
       "20       WOWMAX Triangular Reading Pillow Large Bolster...  B075CMYT43   \n",
       "25       Poetic SlimFolio case for All-New Amazon Fire ...  B071ZBV7DY   \n",
       "74       Amazon Basics Carrying Case for Nintendo Switc...  B072PW59TZ   \n",
       "76       UGREEN SD Card Reader USB 3.0 Memory Card Read...  B07VDDDPKY   \n",
       "...                                                    ...         ...   \n",
       "1837426  Little Blue Truck's Halloween: A Halloween Boo...   544772539   \n",
       "1837451  Bob Ross: A Happy Little Day-to-Day 2023 Calendar   789342022   \n",
       "1837494                                  WOODROW CAN BLACK  B00S13POIQ   \n",
       "1837508                                  WOODROW CAN BLACK  B00S13POIQ   \n",
       "1837544  50 Feather (Yellow Label) Razor Blades Platinu...  B08P5K9GMJ   \n",
       "\n",
       "                                 Category  Survey ResponseID Rating  \\\n",
       "7                           AMAZON_TABLET  R_01vNIayewjIIKMF    4.4   \n",
       "20                        BODY_POSITIONER  R_01vNIayewjIIKMF    NaN   \n",
       "25                AMAZON_TABLET_ACCESSORY  R_01vNIayewjIIKMF    4.3   \n",
       "74       PORTABLE_ELECTRONIC_DEVICE_COVER  R_01vNIayewjIIKMF    4.6   \n",
       "76                     MEMORY_CARD_READER  R_01vNIayewjIIKMF    4.6   \n",
       "...                                   ...                ...    ...   \n",
       "1837426                         ABIS_BOOK  R_zfnsck2ZatnGtY5    NaN   \n",
       "1837451                         ABIS_BOOK  R_zfnsck2ZatnGtY5    NaN   \n",
       "1837494                         TRASH_CAN  R_zfqnsBzlOAKibzb    NaN   \n",
       "1837508                         TRASH_CAN  R_zfqnsBzlOAKibzb    NaN   \n",
       "1837544             RAZOR_BLADE_CARTRIDGE  R_zfqnsBzlOAKibzb    NaN   \n",
       "\n",
       "         Rating Count Category 1 Category 2 Category 3 Category 4 Category 5  \\\n",
       "7             93211.0        NaN        NaN        NaN        NaN        NaN   \n",
       "20                NaN        NaN        NaN        NaN        NaN        NaN   \n",
       "25              251.0        NaN        NaN        NaN        NaN        NaN   \n",
       "74             2972.0        NaN        NaN        NaN        NaN        NaN   \n",
       "76             1237.0        NaN        NaN        NaN        NaN        NaN   \n",
       "...               ...        ...        ...        ...        ...        ...   \n",
       "1837426           NaN        NaN        NaN        NaN        NaN        NaN   \n",
       "1837451           NaN        NaN        NaN        NaN        NaN        NaN   \n",
       "1837494           NaN        NaN        NaN        NaN        NaN        NaN   \n",
       "1837508           NaN        NaN        NaN        NaN        NaN        NaN   \n",
       "1837544           NaN        NaN        NaN        NaN        NaN        NaN   \n",
       "\n",
       "        Category 6 Category 7 Category 8 group_key  \n",
       "7              NaN        NaN        NaN   unknown  \n",
       "20             NaN        NaN        NaN   unknown  \n",
       "25             NaN        NaN        NaN   unknown  \n",
       "74             NaN        NaN        NaN   unknown  \n",
       "76             NaN        NaN        NaN   unknown  \n",
       "...            ...        ...        ...       ...  \n",
       "1837426        NaN        NaN        NaN   unknown  \n",
       "1837451        NaN        NaN        NaN   unknown  \n",
       "1837494        NaN        NaN        NaN   unknown  \n",
       "1837508        NaN        NaN        NaN   unknown  \n",
       "1837544        NaN        NaN        NaN   unknown  \n",
       "\n",
       "[155900 rows x 17 columns]"
      ]
     },
     "execution_count": 24,
     "metadata": {},
     "output_type": "execute_result"
    }
   ],
   "source": [
    "catnull[catnull['Category'].notnull()] # 그중에서 구매데이터 카테고리는 결측치 아닌 것들"
   ]
  },
  {
   "cell_type": "code",
   "execution_count": 25,
   "id": "ea9ec5fd",
   "metadata": {},
   "outputs": [],
   "source": [
    "# 1. group_key 기준 전체 건수 (unknown 포함)\n",
    "count_df = transaction.groupby(['Category', 'group_key']).size().reset_index(name='count')\n",
    "\n",
    "# 2. total_with_unknown: 전체 group_key 합계\n",
    "total_with_unknown = count_df.groupby('Category')['count'].sum().reset_index(name='total_with_unknown')\n",
    "\n",
    "# 3. total_without_unknown: unknown 제외하고 합계\n",
    "known_only = count_df[count_df['group_key'] != 'unknown']\n",
    "total_without_unknown = known_only.groupby('Category')['count'].sum().reset_index(name='total_without_unknown')\n",
    "\n",
    "# 4. 전체 데이터에 두 total 붙이기\n",
    "count_df = count_df.merge(total_with_unknown, on='Category', how='left')\n",
    "count_df = count_df.merge(total_without_unknown, on='Category', how='left')\n",
    "\n",
    "# 5. 비율 계산 (unknown 제외한 비율)\n",
    "count_df['ratio_excl_unknown'] = count_df['count'] / count_df['total_without_unknown'] * 100\n",
    "\n",
    "# 6. group_key가 unknown이 아닌 것 중 최대 비율 추출\n",
    "top_ratio_df = count_df[count_df['group_key'] != 'unknown'] \\\n",
    "    .sort_values(['Category', 'ratio_excl_unknown'], ascending=[True, False]) \\\n",
    "    .drop_duplicates('Category')"
   ]
  },
  {
   "cell_type": "code",
   "execution_count": 26,
   "id": "5e02f7d2",
   "metadata": {},
   "outputs": [
    {
     "data": {
      "application/vnd.microsoft.datawrangler.viewer.v0+json": {
       "columns": [
        {
         "name": "index",
         "rawType": "int64",
         "type": "integer"
        },
        {
         "name": "Category",
         "rawType": "object",
         "type": "string"
        },
        {
         "name": "group_key",
         "rawType": "object",
         "type": "unknown"
        },
        {
         "name": "count",
         "rawType": "int64",
         "type": "integer"
        },
        {
         "name": "total_with_unknown",
         "rawType": "int64",
         "type": "integer"
        },
        {
         "name": "total_without_unknown",
         "rawType": "float64",
         "type": "float"
        },
        {
         "name": "ratio_excl_unknown",
         "rawType": "float64",
         "type": "float"
        }
       ],
       "ref": "23bd7a05-0d41-42c1-be2a-26951b9922bd",
       "rows": [
        [
         "0",
         "3D_GLASSES",
         "('Electronics', 'Television & Video', 'Accessories', '3D Glasses')",
         "1",
         "1",
         "1.0",
         "100.0"
        ],
        [
         "5",
         "3D_PRINTER",
         "('Industrial & Scientific', 'Additive Manufacturing Products', '3D Printers')",
         "57",
         "208",
         "181.0",
         "31.491712707182316"
        ],
        [
         "12",
         "3D_PRINTING_PEN",
         "('Industrial & Scientific', 'Additive Manufacturing Products', '3D Printing Pens')",
         "6",
         "6",
         "6.0",
         "100.0"
        ],
        [
         "29",
         "ABDOMINAL_EXERCISER",
         "('Sports & Outdoors', 'Exercise & Fitness', 'Strength Training Equipment', 'Exercise Wheels')",
         "85",
         "178",
         "167.0",
         "50.898203592814376"
        ],
        [
         "43",
         "ABIS_APPAREL",
         "('Clothing, Shoes & Jewelry', 'Men', 'Clothing', 'Shirts', 'Tank Tops')",
         "2",
         "3",
         "3.0",
         "66.66666666666666"
        ],
        [
         "44",
         "ABIS_BABY_PRODUCT",
         "('Baby Products', 'Diapering', 'Cloth Diapers & Accessories', 'Covers')",
         "1",
         "2",
         "2.0",
         "50.0"
        ],
        [
         "49",
         "ABIS_BEAUTY",
         "('Cell Phones & Accessories', 'Accessories', 'Mounts', 'Handlebar Mounts')",
         "2",
         "5",
         "5.0",
         "40.0"
        ],
        [
         "779",
         "ABIS_BOOK",
         "('Books', \"Children's Books\", 'Growing Up & Facts of Life', 'Friendship, Social Skills & School Life', 'Friendship')",
         "1012",
         "86977",
         "79205.0",
         "1.2776971150811187"
        ],
        [
         "3865",
         "ABIS_DOWNLOADABLE_SOFTWARE",
         "('Software', 'Tax Preparation')",
         "134",
         "659",
         "328.0",
         "40.853658536585364"
        ],
        [
         "3892",
         "ABIS_DRUGSTORE",
         "('Health & Household', 'Vitamins, Minerals & Supplements', 'Vitamins', 'Vitamin D')",
         "12",
         "46",
         "41.0",
         "29.268292682926827"
        ],
        [
         "3941",
         "ABIS_DVD",
         "('Movies & TV', 'Featured Categories', 'DVD')",
         "117",
         "960",
         "946.0",
         "12.367864693446089"
        ],
        [
         "3947",
         "ABIS_EBOOKS",
         "('Books', 'Mystery, Thriller & Suspense', 'Mystery', 'Cozy', 'Crafts & Hobbies')",
         "1",
         "14",
         "14.0",
         "7.142857142857142"
        ],
        [
         "3964",
         "ABIS_ELECTRONICS",
         "('Electronics', 'Computers & Accessories', 'Computer Components', 'Internal Components', 'Fans & Cooling', 'Water Cooling Systems')",
         "3",
         "16",
         "15.0",
         "20.0"
        ],
        [
         "3971",
         "ABIS_GIFT_CARD",
         "('Gift Cards', 'Gift Cards')",
         "474",
         "4926",
         "479.0",
         "98.95615866388309"
        ],
        [
         "3983",
         "ABIS_HOME",
         "('Arts, Crafts & Sewing', 'Scrapbooking & Stamping', 'Chipboard')",
         "2",
         "19",
         "17.0",
         "11.76470588235294"
        ],
        [
         "4000",
         "ABIS_HOME_IMPROVEMENT",
         "('Tools & Home Improvement', 'Plumbing', 'Garbage Disposals & Parts', 'Garbage Disposals')",
         "6",
         "21",
         "19.0",
         "31.57894736842105"
        ],
        [
         "4008",
         "ABIS_KITCHEN",
         "('Home & Kitchen', 'Kitchen & Dining', 'Small Appliance Parts & Accessories', 'Mixer Parts & Accessories')",
         "14",
         "31",
         "31.0",
         "45.16129032258064"
        ],
        [
         "4022",
         "ABIS_LAWN_AND_GARDEN",
         "('Patio, Lawn & Garden', 'Grills & Outdoor Cooking', 'Fuel & Firestarters', 'Smoker Chips')",
         "3",
         "42",
         "33.0",
         "9.090909090909092"
        ],
        [
         "4322",
         "ABIS_MUSIC",
         "('CDs & Vinyl', 'Rock')",
         "712",
         "5275",
         "4807.0",
         "14.811732889536094"
        ],
        [
         "4366",
         "ABIS_OFFICE_PRODUCT",
         "('Office Products', 'Office & School Supplies', 'Paper', 'Notebooks & Writing Pads', 'Hardcover Executive Notebooks')",
         "1",
         "2",
         "2.0",
         "50.0"
        ],
        [
         "4368",
         "ABIS_PC",
         "('Electronics', 'Computers & Accessories', 'Computer Accessories & Peripherals', 'Cables & Accessories', 'Cables & Interconnects', 'DVI')",
         "1",
         "7",
         "5.0",
         "20.0"
        ],
        [
         "4374",
         "ABIS_PET_PRODUCTS",
         "('Pet Supplies', 'Dogs', 'Crates, Houses & Pens', 'Crates', 'Basic Crates')",
         "1",
         "3",
         "3.0",
         "33.33333333333333"
        ],
        [
         "4377",
         "ABIS_SPORTS",
         "('Health & Household', 'Household Supplies', 'Lighters & Matches', 'Lighters')",
         "17",
         "18",
         "18.0",
         "94.44444444444444"
        ],
        [
         "4381",
         "ABIS_TOY",
         "('Toys & Games', 'Collectible Toys', 'Collectible Postage Stamps')",
         "2",
         "9",
         "6.0",
         "33.33333333333333"
        ],
        [
         "4386",
         "ABIS_VIDEO",
         "('Movies & TV', 'Featured Categories')",
         "3",
         "4",
         "4.0",
         "75.0"
        ],
        [
         "4388",
         "ABIS_VIDEO_GAMES",
         "('Electronics', 'Computers & Accessories', 'Data Storage', 'Internal Hard Drives')",
         "6",
         "49",
         "42.0",
         "14.285714285714285"
        ],
        [
         "4412",
         "ABIS_WIRELESS",
         "('Cell Phones & Accessories', 'Accessories', 'Automobile Accessories', 'Pads & Mats')",
         "1",
         "14",
         "6.0",
         "16.666666666666664"
        ],
        [
         "4461",
         "ABRASIVES",
         "('Industrial & Scientific', 'Abrasive & Finishing Products', 'Finishing Products', 'Manual Sanding Products', 'Steel Wool')",
         "71",
         "381",
         "369.0",
         "19.241192411924118"
        ],
        [
         "4499",
         "ABRASIVE_BRUSH",
         "('Industrial & Scientific', 'Abrasive & Finishing Products', 'Abrasive Brushes', 'Scratch Brushes')",
         "36",
         "95",
         "89.0",
         "40.44943820224719"
        ],
        [
         "4508",
         "ABRASIVE_DISCS",
         "('Power Tool Parts & Accessories', 'Power Finishing Tool Parts & Accessories', 'Power Sander Parts & Accessories', 'Sanding Discs', 'Hook & Loop Discs')",
         "3",
         "5",
         "5.0",
         "60.0"
        ],
        [
         "4514",
         "ABRASIVE_SHEETS",
         "('Power & Hand Tools', 'Power Tool Parts & Accessories', 'Power Finishing Tool Parts & Accessories', 'Power Sander Parts & Accessories', 'Sanding Sheets')",
         "239",
         "341",
         "330.0",
         "72.42424242424242"
        ],
        [
         "4546",
         "ABRASIVE_WHEELS",
         "('Power Tool Parts & Accessories', 'Power Finishing Tool Parts & Accessories', 'Power Sander Parts & Accessories', 'Sanding Discs', 'Hook & Loop Discs')",
         "54",
         "201",
         "195.0",
         "27.692307692307693"
        ],
        [
         "4558",
         "ACCELERATION_SENSOR",
         "('Industrial & Scientific', 'Industrial Electrical', 'Sensors', 'Acceleration Sensors')",
         "2",
         "2",
         "2.0",
         "100.0"
        ],
        [
         "4698",
         "ACCESSORY",
         "('Clothing, Shoes & Jewelry', 'Women', 'Clothing', 'Lingerie, Sleep & Lounge', 'Lingerie', 'Accessories', 'Bra Extenders')",
         "84",
         "800",
         "694.0",
         "12.103746397694524"
        ],
        [
         "4778",
         "ACCESSORY_OR_PART_OR_SUPPLY",
         "('Electronics', 'Electronic Protection Plans')",
         "62",
         "202",
         "190.0",
         "32.631578947368425"
        ],
        [
         "4857",
         "ADHESIVES_AND_SEALANTS",
         "('Tools & Home Improvement', 'Power & Hand Tools', 'Power Tool Parts & Accessories', 'Lubricants')",
         "21",
         "103",
         "101.0",
         "20.792079207920793"
        ],
        [
         "4976",
         "ADHESIVE_TAPES",
         "('Office Products', 'Office & School Supplies', 'Envelopes, Mailers & Shipping Supplies', 'Packing Materials', 'Packing Tape')",
         "673",
         "5014",
         "4752.0",
         "14.162457912457912"
        ],
        [
         "5062",
         "ADULT_COSTUME",
         "('Clothing, Shoes & Jewelry', 'Costumes & Accessories', 'Men', 'Costumes & Cosplay Apparel', 'Costumes')",
         "12",
         "89",
         "66.0",
         "18.181818181818183"
        ],
        [
         "5100",
         "ADVENT_CALENDAR",
         "('Home & Kitchen', 'Seasonal Décor', 'Advent Calendars')",
         "146",
         "401",
         "345.0",
         "42.31884057971014"
        ],
        [
         "5123",
         "AGILITY_LADDER",
         "('Sports & Outdoors', 'Exercise & Fitness', 'Speed & Agility Training', 'Agility Ladders')",
         "5",
         "5",
         "5.0",
         "100.0"
        ],
        [
         "5124",
         "AGRICULTURAL_SUPPLIES",
         "('Patio, Lawn & Garden', 'Farm & Ranch', 'Agricultural & Construction Machinery', 'Parts & Accessories', 'Spare & Replacement Parts')",
         "1",
         "2",
         "2.0",
         "50.0"
        ],
        [
         "5136",
         "AIMING_SCOPE_SIGHT",
         "('Sports & Outdoors', 'Hunting & Fishing', 'Shooting', 'Gun Accessories, Maintenance & Storage', 'Gun Parts & Accessories', 'Gun Sights')",
         "67",
         "299",
         "250.0",
         "26.8"
        ],
        [
         "5162",
         "AIR_COMPRESSOR",
         "('Automotive', 'Tires & Wheels', 'Accessories & Parts', 'Air Compressors & Inflators')",
         "217",
         "351",
         "301.0",
         "72.09302325581395"
        ],
        [
         "5184",
         "AIR_CONDITIONER",
         "('Home & Kitchen', 'Heating, Cooling & Air Quality', 'Air Conditioners', 'Portable')",
         "99",
         "306",
         "259.0",
         "38.22393822393823"
        ],
        [
         "5202",
         "AIR_COOLER",
         "('Home & Kitchen', 'Heating, Cooling & Air Quality', 'Air Conditioners', 'Portable')",
         "73",
         "108",
         "90.0",
         "81.11111111111111"
        ],
        [
         "5213",
         "AIR_FRYER",
         "('Home & Kitchen', 'Kitchen & Dining', 'Small Appliances', 'Fryers', 'Air Fryers')",
         "331",
         "426",
         "357.0",
         "92.71708683473389"
        ],
        [
         "5227",
         "AIR_GUN",
         "('Sports & Outdoors', 'Hunting & Fishing', 'Shooting', 'Air Guns & Accessories', 'Air Guns', 'Air Rifles')",
         "26",
         "118",
         "107.0",
         "24.299065420560748"
        ],
        [
         "5257",
         "AIR_GUN_PROJECTILE",
         "('Sports & Outdoors', 'Hunting & Fishing', 'Shooting', 'Air Guns & Accessories', 'Air Gun Pellets')",
         "48",
         "211",
         "188.0",
         "25.53191489361702"
        ],
        [
         "5281",
         "AIR_MATTRESS",
         "('Sports & Outdoors', 'Outdoor Recreation', 'Camping & Hiking', 'Sleeping Bags & Camp Bedding', 'Air Mattresses')",
         "257",
         "577",
         "548.0",
         "46.8978102189781"
        ],
        [
         "5321",
         "AIR_PUMP",
         "('Sports & Outdoors', 'Sports & Outdoor Recreation Accessories', 'Inflation Devices & Accessories')",
         "158",
         "728",
         "691.0",
         "22.865412445730826"
        ]
       ],
       "shape": {
        "columns": 6,
        "rows": 1844
       }
      },
      "text/html": [
       "<div>\n",
       "<style scoped>\n",
       "    .dataframe tbody tr th:only-of-type {\n",
       "        vertical-align: middle;\n",
       "    }\n",
       "\n",
       "    .dataframe tbody tr th {\n",
       "        vertical-align: top;\n",
       "    }\n",
       "\n",
       "    .dataframe thead th {\n",
       "        text-align: right;\n",
       "    }\n",
       "</style>\n",
       "<table border=\"1\" class=\"dataframe\">\n",
       "  <thead>\n",
       "    <tr style=\"text-align: right;\">\n",
       "      <th></th>\n",
       "      <th>Category</th>\n",
       "      <th>group_key</th>\n",
       "      <th>count</th>\n",
       "      <th>total_with_unknown</th>\n",
       "      <th>total_without_unknown</th>\n",
       "      <th>ratio_excl_unknown</th>\n",
       "    </tr>\n",
       "  </thead>\n",
       "  <tbody>\n",
       "    <tr>\n",
       "      <th>0</th>\n",
       "      <td>3D_GLASSES</td>\n",
       "      <td>(Electronics, Television &amp; Video, Accessories,...</td>\n",
       "      <td>1</td>\n",
       "      <td>1</td>\n",
       "      <td>1.0</td>\n",
       "      <td>100.000000</td>\n",
       "    </tr>\n",
       "    <tr>\n",
       "      <th>5</th>\n",
       "      <td>3D_PRINTER</td>\n",
       "      <td>(Industrial &amp; Scientific, Additive Manufacturi...</td>\n",
       "      <td>57</td>\n",
       "      <td>208</td>\n",
       "      <td>181.0</td>\n",
       "      <td>31.491713</td>\n",
       "    </tr>\n",
       "    <tr>\n",
       "      <th>12</th>\n",
       "      <td>3D_PRINTING_PEN</td>\n",
       "      <td>(Industrial &amp; Scientific, Additive Manufacturi...</td>\n",
       "      <td>6</td>\n",
       "      <td>6</td>\n",
       "      <td>6.0</td>\n",
       "      <td>100.000000</td>\n",
       "    </tr>\n",
       "    <tr>\n",
       "      <th>29</th>\n",
       "      <td>ABDOMINAL_EXERCISER</td>\n",
       "      <td>(Sports &amp; Outdoors, Exercise &amp; Fitness, Streng...</td>\n",
       "      <td>85</td>\n",
       "      <td>178</td>\n",
       "      <td>167.0</td>\n",
       "      <td>50.898204</td>\n",
       "    </tr>\n",
       "    <tr>\n",
       "      <th>43</th>\n",
       "      <td>ABIS_APPAREL</td>\n",
       "      <td>(Clothing, Shoes &amp; Jewelry, Men, Clothing, Shi...</td>\n",
       "      <td>2</td>\n",
       "      <td>3</td>\n",
       "      <td>3.0</td>\n",
       "      <td>66.666667</td>\n",
       "    </tr>\n",
       "    <tr>\n",
       "      <th>...</th>\n",
       "      <td>...</td>\n",
       "      <td>...</td>\n",
       "      <td>...</td>\n",
       "      <td>...</td>\n",
       "      <td>...</td>\n",
       "      <td>...</td>\n",
       "    </tr>\n",
       "    <tr>\n",
       "      <th>77347</th>\n",
       "      <td>Wireless Phone Accessory</td>\n",
       "      <td>(Cell Phones &amp; Accessories, Cases, Holsters &amp; ...</td>\n",
       "      <td>1</td>\n",
       "      <td>3</td>\n",
       "      <td>2.0</td>\n",
       "      <td>50.000000</td>\n",
       "    </tr>\n",
       "    <tr>\n",
       "      <th>77360</th>\n",
       "      <td>YARN</td>\n",
       "      <td>(Arts, Crafts &amp; Sewing, Knitting &amp; Crochet, Yarn)</td>\n",
       "      <td>755</td>\n",
       "      <td>1369</td>\n",
       "      <td>1271.0</td>\n",
       "      <td>59.402046</td>\n",
       "    </tr>\n",
       "    <tr>\n",
       "      <th>77392</th>\n",
       "      <td>YO_YO</td>\n",
       "      <td>(Toys &amp; Games, Sports &amp; Outdoor Play, Yo-yos)</td>\n",
       "      <td>72</td>\n",
       "      <td>78</td>\n",
       "      <td>74.0</td>\n",
       "      <td>97.297297</td>\n",
       "    </tr>\n",
       "    <tr>\n",
       "      <th>77395</th>\n",
       "      <td>ZENER_DIODE</td>\n",
       "      <td>(Industrial &amp; Scientific, Industrial Electrica...</td>\n",
       "      <td>1</td>\n",
       "      <td>1</td>\n",
       "      <td>1.0</td>\n",
       "      <td>100.000000</td>\n",
       "    </tr>\n",
       "    <tr>\n",
       "      <th>77397</th>\n",
       "      <td>ZIPPER_FASTENER</td>\n",
       "      <td>(Arts, Crafts &amp; Sewing, Sewing, Sewing Notions...</td>\n",
       "      <td>108</td>\n",
       "      <td>151</td>\n",
       "      <td>140.0</td>\n",
       "      <td>77.142857</td>\n",
       "    </tr>\n",
       "  </tbody>\n",
       "</table>\n",
       "<p>1844 rows × 6 columns</p>\n",
       "</div>"
      ],
      "text/plain": [
       "                       Category  \\\n",
       "0                    3D_GLASSES   \n",
       "5                    3D_PRINTER   \n",
       "12              3D_PRINTING_PEN   \n",
       "29          ABDOMINAL_EXERCISER   \n",
       "43                 ABIS_APPAREL   \n",
       "...                         ...   \n",
       "77347  Wireless Phone Accessory   \n",
       "77360                      YARN   \n",
       "77392                     YO_YO   \n",
       "77395               ZENER_DIODE   \n",
       "77397           ZIPPER_FASTENER   \n",
       "\n",
       "                                               group_key  count  \\\n",
       "0      (Electronics, Television & Video, Accessories,...      1   \n",
       "5      (Industrial & Scientific, Additive Manufacturi...     57   \n",
       "12     (Industrial & Scientific, Additive Manufacturi...      6   \n",
       "29     (Sports & Outdoors, Exercise & Fitness, Streng...     85   \n",
       "43     (Clothing, Shoes & Jewelry, Men, Clothing, Shi...      2   \n",
       "...                                                  ...    ...   \n",
       "77347  (Cell Phones & Accessories, Cases, Holsters & ...      1   \n",
       "77360  (Arts, Crafts & Sewing, Knitting & Crochet, Yarn)    755   \n",
       "77392      (Toys & Games, Sports & Outdoor Play, Yo-yos)     72   \n",
       "77395  (Industrial & Scientific, Industrial Electrica...      1   \n",
       "77397  (Arts, Crafts & Sewing, Sewing, Sewing Notions...    108   \n",
       "\n",
       "       total_with_unknown  total_without_unknown  ratio_excl_unknown  \n",
       "0                       1                    1.0          100.000000  \n",
       "5                     208                  181.0           31.491713  \n",
       "12                      6                    6.0          100.000000  \n",
       "29                    178                  167.0           50.898204  \n",
       "43                      3                    3.0           66.666667  \n",
       "...                   ...                    ...                 ...  \n",
       "77347                   3                    2.0           50.000000  \n",
       "77360                1369                 1271.0           59.402046  \n",
       "77392                  78                   74.0           97.297297  \n",
       "77395                   1                    1.0          100.000000  \n",
       "77397                 151                  140.0           77.142857  \n",
       "\n",
       "[1844 rows x 6 columns]"
      ]
     },
     "execution_count": 26,
     "metadata": {},
     "output_type": "execute_result"
    }
   ],
   "source": [
    "top_ratio_df"
   ]
  },
  {
   "cell_type": "code",
   "execution_count": 27,
   "id": "42b2d5a9",
   "metadata": {},
   "outputs": [
    {
     "data": {
      "application/vnd.microsoft.datawrangler.viewer.v0+json": {
       "columns": [
        {
         "name": "index",
         "rawType": "int64",
         "type": "integer"
        },
        {
         "name": "Category",
         "rawType": "object",
         "type": "string"
        },
        {
         "name": "group_key",
         "rawType": "object",
         "type": "unknown"
        },
        {
         "name": "count",
         "rawType": "int64",
         "type": "integer"
        },
        {
         "name": "total_with_unknown",
         "rawType": "int64",
         "type": "integer"
        },
        {
         "name": "total_without_unknown",
         "rawType": "float64",
         "type": "float"
        },
        {
         "name": "ratio_excl_unknown",
         "rawType": "float64",
         "type": "float"
        }
       ],
       "ref": "d73f9ffe-7cbf-4e41-9268-4a6d1f1ff5ab",
       "rows": [
        [
         "0",
         "3D_GLASSES",
         "('Electronics', 'Television & Video', 'Accessories', '3D Glasses')",
         "1",
         "1",
         "1.0",
         "100.0"
        ],
        [
         "12",
         "3D_PRINTING_PEN",
         "('Industrial & Scientific', 'Additive Manufacturing Products', '3D Printing Pens')",
         "6",
         "6",
         "6.0",
         "100.0"
        ],
        [
         "29",
         "ABDOMINAL_EXERCISER",
         "('Sports & Outdoors', 'Exercise & Fitness', 'Strength Training Equipment', 'Exercise Wheels')",
         "85",
         "178",
         "167.0",
         "50.898203592814376"
        ],
        [
         "43",
         "ABIS_APPAREL",
         "('Clothing, Shoes & Jewelry', 'Men', 'Clothing', 'Shirts', 'Tank Tops')",
         "2",
         "3",
         "3.0",
         "66.66666666666666"
        ],
        [
         "44",
         "ABIS_BABY_PRODUCT",
         "('Baby Products', 'Diapering', 'Cloth Diapers & Accessories', 'Covers')",
         "1",
         "2",
         "2.0",
         "50.0"
        ],
        [
         "3971",
         "ABIS_GIFT_CARD",
         "('Gift Cards', 'Gift Cards')",
         "474",
         "4926",
         "479.0",
         "98.95615866388309"
        ],
        [
         "4366",
         "ABIS_OFFICE_PRODUCT",
         "('Office Products', 'Office & School Supplies', 'Paper', 'Notebooks & Writing Pads', 'Hardcover Executive Notebooks')",
         "1",
         "2",
         "2.0",
         "50.0"
        ],
        [
         "4377",
         "ABIS_SPORTS",
         "('Health & Household', 'Household Supplies', 'Lighters & Matches', 'Lighters')",
         "17",
         "18",
         "18.0",
         "94.44444444444444"
        ],
        [
         "4386",
         "ABIS_VIDEO",
         "('Movies & TV', 'Featured Categories')",
         "3",
         "4",
         "4.0",
         "75.0"
        ],
        [
         "4508",
         "ABRASIVE_DISCS",
         "('Power Tool Parts & Accessories', 'Power Finishing Tool Parts & Accessories', 'Power Sander Parts & Accessories', 'Sanding Discs', 'Hook & Loop Discs')",
         "3",
         "5",
         "5.0",
         "60.0"
        ],
        [
         "4514",
         "ABRASIVE_SHEETS",
         "('Power & Hand Tools', 'Power Tool Parts & Accessories', 'Power Finishing Tool Parts & Accessories', 'Power Sander Parts & Accessories', 'Sanding Sheets')",
         "239",
         "341",
         "330.0",
         "72.42424242424242"
        ],
        [
         "4558",
         "ACCELERATION_SENSOR",
         "('Industrial & Scientific', 'Industrial Electrical', 'Sensors', 'Acceleration Sensors')",
         "2",
         "2",
         "2.0",
         "100.0"
        ],
        [
         "5123",
         "AGILITY_LADDER",
         "('Sports & Outdoors', 'Exercise & Fitness', 'Speed & Agility Training', 'Agility Ladders')",
         "5",
         "5",
         "5.0",
         "100.0"
        ],
        [
         "5124",
         "AGRICULTURAL_SUPPLIES",
         "('Patio, Lawn & Garden', 'Farm & Ranch', 'Agricultural & Construction Machinery', 'Parts & Accessories', 'Spare & Replacement Parts')",
         "1",
         "2",
         "2.0",
         "50.0"
        ],
        [
         "5162",
         "AIR_COMPRESSOR",
         "('Automotive', 'Tires & Wheels', 'Accessories & Parts', 'Air Compressors & Inflators')",
         "217",
         "351",
         "301.0",
         "72.09302325581395"
        ],
        [
         "5202",
         "AIR_COOLER",
         "('Home & Kitchen', 'Heating, Cooling & Air Quality', 'Air Conditioners', 'Portable')",
         "73",
         "108",
         "90.0",
         "81.11111111111111"
        ],
        [
         "5213",
         "AIR_FRYER",
         "('Home & Kitchen', 'Kitchen & Dining', 'Small Appliances', 'Fryers', 'Air Fryers')",
         "331",
         "426",
         "357.0",
         "92.71708683473389"
        ],
        [
         "5338",
         "AIR_PURIFIER",
         "('Home & Kitchen', 'Heating, Cooling & Air Quality', 'Air Purifiers', 'HEPA Air Purifiers')",
         "601",
         "955",
         "887.0",
         "67.75648252536641"
        ],
        [
         "5389",
         "AMAZON_BOOK_READER_ACCESSORY",
         "('Electronics', 'eBook Readers & Accessories', 'Covers')",
         "33",
         "208",
         "36.0",
         "91.66666666666666"
        ],
        [
         "5568",
         "ANIMAL_FUR_CLEANER_CONDITIONER",
         "('Pet Supplies', 'Dogs', 'Grooming', 'Shampoos & Conditioners', 'Shampoos')",
         "335",
         "711",
         "605.0",
         "55.371900826446286"
        ],
        [
         "5596",
         "ANIMAL_HARNESS",
         "('Pet Supplies', 'Dogs', 'Collars, Harnesses & Leashes', 'Harnesses', 'Vest Harnesses')",
         "788",
         "1458",
         "1375.0",
         "57.30909090909091"
        ],
        [
         "5616",
         "ANIMAL_INCONTINENCE_PROTECTOR",
         "('Pet Supplies', 'Dogs', 'Litter & Housebreaking', 'Training Pads & Trays', 'Diapers')",
         "464",
         "522",
         "516.0",
         "89.92248062015504"
        ],
        [
         "5624",
         "ANIMAL_LITTER",
         "('Pet Supplies', 'Cats', 'Litter & Housebreaking', 'Litter')",
         "4013",
         "4508",
         "4329.0",
         "92.7003927003927"
        ],
        [
         "5655",
         "ANIMAL_MUZZLE",
         "('Pet Supplies', 'Dogs', 'Collars, Harnesses & Leashes', 'Muzzles')",
         "152",
         "169",
         "163.0",
         "93.25153374233128"
        ],
        [
         "5802",
         "ANIMAL_STAIR",
         "('Pet Supplies', 'Dogs', 'Beds & Furniture', 'Stairs & Steps')",
         "111",
         "133",
         "130.0",
         "85.38461538461539"
        ],
        [
         "5818",
         "ANIMAL_VITAMIN",
         "('Pet Supplies', 'Dogs', 'Health Supplies', 'Supplements & Vitamins', 'Multivitamins')",
         "182",
         "306",
         "287.0",
         "63.41463414634146"
        ],
        [
         "5838",
         "ANIMAL_WATER_DISPENSER",
         "('Pet Supplies', 'Cats', 'Feeding & Watering Supplies', 'Fountains')",
         "796",
         "1199",
         "1131.0",
         "70.38019451812555"
        ],
        [
         "5894",
         "ANTENNA",
         "('Electronics', 'Television & Video', 'Accessories', 'Antennas', 'TV Antennas')",
         "318",
         "672",
         "614.0",
         "51.79153094462541"
        ],
        [
         "5936",
         "ANTI_SLIP_BATHTUB_SHOWER_MAT",
         "('Home & Kitchen', 'Bath', 'Bathroom Accessories', 'Shower Accessories', 'Shower Stall Mats')",
         "1",
         "1",
         "1.0",
         "100.0"
        ],
        [
         "6521",
         "APPENDAGE_WARMER",
         "('Sports & Outdoors', 'Outdoor Recreation', 'Camping & Hiking', 'Safety & Survival', 'Hand & Foot Warmers', 'Hand Warmers')",
         "369",
         "517",
         "456.0",
         "80.92105263157895"
        ],
        [
         "6554",
         "APRON",
         "('Home & Kitchen', 'Kitchen & Dining', 'Kitchen & Table Linens', 'Aprons')",
         "371",
         "588",
         "545.0",
         "68.07339449541284"
        ],
        [
         "6595",
         "AQUARIUM_POND_WATER_TREATMENT",
         "('Pet Supplies', 'Fish & Aquatic Pets', 'Aquarium Accessories', 'Water Quality Testing & Treatment', 'Aquarium Water Treatments')",
         "417",
         "767",
         "658.0",
         "63.37386018237082"
        ],
        [
         "6721",
         "AROMA_DIFFUSER",
         "('Health & Household', 'Health Care', 'Alternative Medicine', 'Aromatherapy', 'Diffusers')",
         "649",
         "968",
         "907.0",
         "71.55457552370453"
        ],
        [
         "6863",
         "ARTIFICIAL_SNOW",
         "('Home & Kitchen', 'Seasonal Décor', 'Artificial Snow')",
         "14",
         "14",
         "14.0",
         "100.0"
        ],
        [
         "6882",
         "ARTIFICIAL_TREE",
         "('Home & Kitchen', 'Seasonal Décor', 'Trees')",
         "210",
         "377",
         "349.0",
         "60.17191977077364"
        ],
        [
         "7540",
         "ART_EASEL",
         "('Arts, Crafts & Sewing', 'Painting, Drawing & Art Supplies', 'Easels')",
         "91",
         "163",
         "160.0",
         "56.875"
        ],
        [
         "8073",
         "ASHTRAY",
         "('Home & Kitchen', 'Home Décor Products', 'Home Décor Accents', 'Ashtrays')",
         "105",
         "165",
         "152.0",
         "69.07894736842105"
        ],
        [
         "8109",
         "ASTRINGENT_SUBSTANCE",
         "('Beauty & Personal Care', 'Skin Care', 'Face', 'Toners & Astringents')",
         "763",
         "1463",
         "1318.0",
         "57.8907435508346"
        ],
        [
         "8136",
         "AUDIO_CD_PLAYER",
         "('Electronics', 'Portable Audio & Video', 'Portable CD Players')",
         "19",
         "34",
         "31.0",
         "61.29032258064516"
        ],
        [
         "8142",
         "AUDIO_MIDI_CONTROLLER",
         "('Musical Instruments', 'Studio Recording Equipment', 'Computer Recording', 'MIDI Controllers')",
         "74",
         "81",
         "76.0",
         "97.36842105263158"
        ],
        [
         "8151",
         "AUDIO_MIDI_INTERFACE",
         "('Musical Instruments', 'Studio Recording Equipment', 'Computer Recording', 'Audio Interfaces')",
         "100",
         "132",
         "129.0",
         "77.51937984496125"
        ],
        [
         "8191",
         "AUDIO_POWER_AMPLIFIER",
         "('Musical Instruments', 'Amplifiers & Effects', 'Guitar & Bass Amplifiers & Preamps', 'Acoustic Guitar Amplifiers & Preamps', 'Amplifiers')",
         "1",
         "1",
         "1.0",
         "100.0"
        ],
        [
         "8192",
         "AUTOMOTIVE_HELMET",
         "('Automotive', 'Motorcycle & Powersports', 'Protective Gear', 'Helmets')",
         "35",
         "38",
         "36.0",
         "97.22222222222221"
        ],
        [
         "8843",
         "AUTO_CHEMICAL",
         "('Automotive', 'Tools & Equipment', 'Body Repair Tools', 'Grinders & Polishers')",
         "1",
         "1",
         "1.0",
         "100.0"
        ],
        [
         "8846",
         "AUTO_KEY_SHELL",
         "('Automotive', 'Interior Accessories', 'Key Shells')",
         "98",
         "201",
         "187.0",
         "52.406417112299465"
        ],
        [
         "8860",
         "AUTO_OIL",
         "('Automotive', 'Oils & Fluids', 'Oils', 'Motor Oils')",
         "373",
         "511",
         "497.0",
         "75.0503018108652"
        ],
        [
         "9389",
         "AV_FURNITURE",
         "('Electronics', 'Electronic Protection Plans')",
         "40",
         "81",
         "76.0",
         "52.63157894736842"
        ],
        [
         "9430",
         "AV_SIGNAL_SWITCH",
         "('Electronics', 'Home Audio', 'Home Audio Accessories', 'Distribution', 'Selector Switch Boxes')",
         "219",
         "297",
         "274.0",
         "79.92700729927007"
        ],
        [
         "9468",
         "BABY_BATHTUB",
         "('Baby Products', 'Baby Care', 'Bathing', 'Bath Tubs')",
         "48",
         "56",
         "52.0",
         "92.3076923076923"
        ],
        [
         "9479",
         "BABY_BOTTLE",
         "('Baby Products', 'Feeding', 'Bottle-Feeding', 'Bottles')",
         "431",
         "613",
         "554.0",
         "77.79783393501805"
        ]
       ],
       "shape": {
        "columns": 6,
        "rows": 958
       }
      },
      "text/html": [
       "<div>\n",
       "<style scoped>\n",
       "    .dataframe tbody tr th:only-of-type {\n",
       "        vertical-align: middle;\n",
       "    }\n",
       "\n",
       "    .dataframe tbody tr th {\n",
       "        vertical-align: top;\n",
       "    }\n",
       "\n",
       "    .dataframe thead th {\n",
       "        text-align: right;\n",
       "    }\n",
       "</style>\n",
       "<table border=\"1\" class=\"dataframe\">\n",
       "  <thead>\n",
       "    <tr style=\"text-align: right;\">\n",
       "      <th></th>\n",
       "      <th>Category</th>\n",
       "      <th>group_key</th>\n",
       "      <th>count</th>\n",
       "      <th>total_with_unknown</th>\n",
       "      <th>total_without_unknown</th>\n",
       "      <th>ratio_excl_unknown</th>\n",
       "    </tr>\n",
       "  </thead>\n",
       "  <tbody>\n",
       "    <tr>\n",
       "      <th>0</th>\n",
       "      <td>3D_GLASSES</td>\n",
       "      <td>(Electronics, Television &amp; Video, Accessories,...</td>\n",
       "      <td>1</td>\n",
       "      <td>1</td>\n",
       "      <td>1.0</td>\n",
       "      <td>100.000000</td>\n",
       "    </tr>\n",
       "    <tr>\n",
       "      <th>12</th>\n",
       "      <td>3D_PRINTING_PEN</td>\n",
       "      <td>(Industrial &amp; Scientific, Additive Manufacturi...</td>\n",
       "      <td>6</td>\n",
       "      <td>6</td>\n",
       "      <td>6.0</td>\n",
       "      <td>100.000000</td>\n",
       "    </tr>\n",
       "    <tr>\n",
       "      <th>29</th>\n",
       "      <td>ABDOMINAL_EXERCISER</td>\n",
       "      <td>(Sports &amp; Outdoors, Exercise &amp; Fitness, Streng...</td>\n",
       "      <td>85</td>\n",
       "      <td>178</td>\n",
       "      <td>167.0</td>\n",
       "      <td>50.898204</td>\n",
       "    </tr>\n",
       "    <tr>\n",
       "      <th>43</th>\n",
       "      <td>ABIS_APPAREL</td>\n",
       "      <td>(Clothing, Shoes &amp; Jewelry, Men, Clothing, Shi...</td>\n",
       "      <td>2</td>\n",
       "      <td>3</td>\n",
       "      <td>3.0</td>\n",
       "      <td>66.666667</td>\n",
       "    </tr>\n",
       "    <tr>\n",
       "      <th>44</th>\n",
       "      <td>ABIS_BABY_PRODUCT</td>\n",
       "      <td>(Baby Products, Diapering, Cloth Diapers &amp; Acc...</td>\n",
       "      <td>1</td>\n",
       "      <td>2</td>\n",
       "      <td>2.0</td>\n",
       "      <td>50.000000</td>\n",
       "    </tr>\n",
       "    <tr>\n",
       "      <th>...</th>\n",
       "      <td>...</td>\n",
       "      <td>...</td>\n",
       "      <td>...</td>\n",
       "      <td>...</td>\n",
       "      <td>...</td>\n",
       "      <td>...</td>\n",
       "    </tr>\n",
       "    <tr>\n",
       "      <th>77347</th>\n",
       "      <td>Wireless Phone Accessory</td>\n",
       "      <td>(Cell Phones &amp; Accessories, Cases, Holsters &amp; ...</td>\n",
       "      <td>1</td>\n",
       "      <td>3</td>\n",
       "      <td>2.0</td>\n",
       "      <td>50.000000</td>\n",
       "    </tr>\n",
       "    <tr>\n",
       "      <th>77360</th>\n",
       "      <td>YARN</td>\n",
       "      <td>(Arts, Crafts &amp; Sewing, Knitting &amp; Crochet, Yarn)</td>\n",
       "      <td>755</td>\n",
       "      <td>1369</td>\n",
       "      <td>1271.0</td>\n",
       "      <td>59.402046</td>\n",
       "    </tr>\n",
       "    <tr>\n",
       "      <th>77392</th>\n",
       "      <td>YO_YO</td>\n",
       "      <td>(Toys &amp; Games, Sports &amp; Outdoor Play, Yo-yos)</td>\n",
       "      <td>72</td>\n",
       "      <td>78</td>\n",
       "      <td>74.0</td>\n",
       "      <td>97.297297</td>\n",
       "    </tr>\n",
       "    <tr>\n",
       "      <th>77395</th>\n",
       "      <td>ZENER_DIODE</td>\n",
       "      <td>(Industrial &amp; Scientific, Industrial Electrica...</td>\n",
       "      <td>1</td>\n",
       "      <td>1</td>\n",
       "      <td>1.0</td>\n",
       "      <td>100.000000</td>\n",
       "    </tr>\n",
       "    <tr>\n",
       "      <th>77397</th>\n",
       "      <td>ZIPPER_FASTENER</td>\n",
       "      <td>(Arts, Crafts &amp; Sewing, Sewing, Sewing Notions...</td>\n",
       "      <td>108</td>\n",
       "      <td>151</td>\n",
       "      <td>140.0</td>\n",
       "      <td>77.142857</td>\n",
       "    </tr>\n",
       "  </tbody>\n",
       "</table>\n",
       "<p>958 rows × 6 columns</p>\n",
       "</div>"
      ],
      "text/plain": [
       "                       Category  \\\n",
       "0                    3D_GLASSES   \n",
       "12              3D_PRINTING_PEN   \n",
       "29          ABDOMINAL_EXERCISER   \n",
       "43                 ABIS_APPAREL   \n",
       "44            ABIS_BABY_PRODUCT   \n",
       "...                         ...   \n",
       "77347  Wireless Phone Accessory   \n",
       "77360                      YARN   \n",
       "77392                     YO_YO   \n",
       "77395               ZENER_DIODE   \n",
       "77397           ZIPPER_FASTENER   \n",
       "\n",
       "                                               group_key  count  \\\n",
       "0      (Electronics, Television & Video, Accessories,...      1   \n",
       "12     (Industrial & Scientific, Additive Manufacturi...      6   \n",
       "29     (Sports & Outdoors, Exercise & Fitness, Streng...     85   \n",
       "43     (Clothing, Shoes & Jewelry, Men, Clothing, Shi...      2   \n",
       "44     (Baby Products, Diapering, Cloth Diapers & Acc...      1   \n",
       "...                                                  ...    ...   \n",
       "77347  (Cell Phones & Accessories, Cases, Holsters & ...      1   \n",
       "77360  (Arts, Crafts & Sewing, Knitting & Crochet, Yarn)    755   \n",
       "77392      (Toys & Games, Sports & Outdoor Play, Yo-yos)     72   \n",
       "77395  (Industrial & Scientific, Industrial Electrica...      1   \n",
       "77397  (Arts, Crafts & Sewing, Sewing, Sewing Notions...    108   \n",
       "\n",
       "       total_with_unknown  total_without_unknown  ratio_excl_unknown  \n",
       "0                       1                    1.0          100.000000  \n",
       "12                      6                    6.0          100.000000  \n",
       "29                    178                  167.0           50.898204  \n",
       "43                      3                    3.0           66.666667  \n",
       "44                      2                    2.0           50.000000  \n",
       "...                   ...                    ...                 ...  \n",
       "77347                   3                    2.0           50.000000  \n",
       "77360                1369                 1271.0           59.402046  \n",
       "77392                  78                   74.0           97.297297  \n",
       "77395                   1                    1.0          100.000000  \n",
       "77397                 151                  140.0           77.142857  \n",
       "\n",
       "[958 rows x 6 columns]"
      ]
     },
     "execution_count": 27,
     "metadata": {},
     "output_type": "execute_result"
    }
   ],
   "source": [
    "# 특정 상품군 비율이 50% 이상인 카테고리들\n",
    "# 비율 계산할때 특정 상품군이 unknown인 케이스들은 분모에서부터 제외\n",
    "top_ratio_df[top_ratio_df['ratio_excl_unknown'] >= 50]"
   ]
  },
  {
   "cell_type": "code",
   "execution_count": 28,
   "id": "8320d396",
   "metadata": {},
   "outputs": [],
   "source": [
    "# 0. group_key가 'unknown'인 마스크 정의\n",
    "mask_unknown = transaction['group_key'] == 'unknown'\n",
    "\n",
    "# 1. 대체용 mapping 테이블 만들기\n",
    "replace_map = top_ratio_df[top_ratio_df['ratio_excl_unknown'] >= 50][['Category', 'group_key']]\n",
    "replace_map = replace_map.rename(columns={'group_key': 'replacement_key'})\n",
    "\n",
    "# 2. unknown 행 복사 + 인덱스 유지\n",
    "transaction_unknown = transaction[mask_unknown].copy()\n",
    "\n",
    "# 3. merge는 index 유지한 채 Category 기준 left join\n",
    "transaction_unknown = transaction_unknown.merge(replace_map, on='Category', how='left')\n",
    "\n",
    "# 4. replacement_key가 존재하는 경우만 대체\n",
    "transaction.loc[mask_unknown, 'group_key'] = transaction_unknown['replacement_key'].fillna('unknown').values\n"
   ]
  },
  {
   "cell_type": "code",
   "execution_count": 29,
   "id": "14a70cc9",
   "metadata": {},
   "outputs": [
    {
     "data": {
      "application/vnd.microsoft.datawrangler.viewer.v0+json": {
       "columns": [
        {
         "name": "index",
         "rawType": "object",
         "type": "string"
        },
        {
         "name": "0",
         "rawType": "int64",
         "type": "integer"
        }
       ],
       "ref": "bdc16d37-4190-45ee-bc0e-f3245b64a02f",
       "rows": [
        [
         "Order Date",
         "0"
        ],
        [
         "Purchase Price Per Unit",
         "0"
        ],
        [
         "Title",
         "89422"
        ],
        [
         "ASIN",
         "961"
        ],
        [
         "Category",
         "89144"
        ],
        [
         "Survey ResponseID",
         "0"
        ],
        [
         "Rating",
         "200382"
        ],
        [
         "Rating Count",
         "203851"
        ],
        [
         "Category 1",
         "244827"
        ],
        [
         "Category 2",
         "244827"
        ],
        [
         "Category 3",
         "281426"
        ],
        [
         "Category 4",
         "458231"
        ],
        [
         "Category 5",
         "1116721"
        ],
        [
         "Category 6",
         "1690322"
        ],
        [
         "Category 7",
         "1812908"
        ],
        [
         "Category 8",
         "1837087"
        ],
        [
         "group_key",
         "0"
        ]
       ],
       "shape": {
        "columns": 1,
        "rows": 17
       }
      },
      "text/plain": [
       "Order Date                       0\n",
       "Purchase Price Per Unit          0\n",
       "Title                        89422\n",
       "ASIN                           961\n",
       "Category                     89144\n",
       "Survey ResponseID                0\n",
       "Rating                      200382\n",
       "Rating Count                203851\n",
       "Category 1                  244827\n",
       "Category 2                  244827\n",
       "Category 3                  281426\n",
       "Category 4                  458231\n",
       "Category 5                 1116721\n",
       "Category 6                 1690322\n",
       "Category 7                 1812908\n",
       "Category 8                 1837087\n",
       "group_key                        0\n",
       "dtype: int64"
      ]
     },
     "execution_count": 29,
     "metadata": {},
     "output_type": "execute_result"
    }
   ],
   "source": [
    "transaction.isnull().sum()"
   ]
  },
  {
   "cell_type": "code",
   "execution_count": 30,
   "id": "1e70f087",
   "metadata": {},
   "outputs": [
    {
     "data": {
      "application/vnd.microsoft.datawrangler.viewer.v0+json": {
       "columns": [
        {
         "name": "group_key",
         "rawType": "object",
         "type": "unknown"
        },
        {
         "name": "count",
         "rawType": "int64",
         "type": "integer"
        }
       ],
       "ref": "483e74eb-7a3c-4b78-9ad5-cb3d9e048214",
       "rows": [
        [
         "unknown",
         "200408"
        ],
        [
         "('Gift Cards', 'Gift Cards')",
         "8607"
        ],
        [
         "('Cell Phones & Accessories', 'Cases, Holsters & Sleeves', 'Basic Cases')",
         "2241"
        ],
        [
         "('Electronics', 'Power Accessories', 'AC Adapters')",
         "1617"
        ],
        [
         "('Cell Phones & Accessories', 'Accessories', 'Maintenance, Upkeep & Repairs', 'Screen Protectors')",
         "671"
        ],
        [
         "('Cell Phones & Accessories', 'Accessories', 'Smartwatch Accessories', 'Smartwatch Bands')",
         "532"
        ],
        [
         "('Grocery & Gourmet Food', 'Breakfast Cereal', 'Cold Cereal')",
         "530"
        ],
        [
         "('Tools & Home Improvement', 'Light Bulbs', 'LED Bulbs')",
         "521"
        ],
        [
         "('Home & Kitchen', 'Wall Art', 'Posters & Prints')",
         "473"
        ],
        [
         "('Clothing, Shoes & Jewelry', 'Women', 'Clothing', 'Lingerie, Sleep & Lounge', 'Lingerie', 'Bras', 'Everyday Bras')",
         "439"
        ],
        [
         "('Health & Household', 'Oral Care', 'Toothpaste')",
         "416"
        ],
        [
         "('Clothing, Shoes & Jewelry', 'Men', 'Watches', 'Wrist Watches')",
         "394"
        ],
        [
         "('Electronics', 'Television & Video', 'Accessories', 'Remote Controls')",
         "373"
        ],
        [
         "('Electronics', 'GPS, Finders & Accessories', 'Item Finders')",
         "363"
        ],
        [
         "('Toys & Games', 'Building Toys', 'Building Sets')",
         "361"
        ],
        [
         "('Health & Household', 'Household Supplies', 'Dishwashing', 'Dishwasher Detergent')",
         "360"
        ],
        [
         "('Electronics', 'Computers & Accessories', 'Computers & Tablets', 'Tablets')",
         "359"
        ],
        [
         "('Beauty & Personal Care', 'Hair Care', 'Shampoo & Conditioner', 'Shampoos')",
         "343"
        ],
        [
         "('Baby Products', 'Diapering', 'Disposable Diapers')",
         "341"
        ],
        [
         "('Health & Household', 'Household Supplies', 'Tissues, Toilet Paper & Sprays', 'Toilet Paper')",
         "339"
        ],
        [
         "('Beauty & Personal Care', 'Hair Care', 'Shampoo & Conditioner', 'Conditioners')",
         "336"
        ],
        [
         "('Toys & Games', 'Puzzles', 'Jigsaw Puzzles')",
         "326"
        ],
        [
         "('Cell Phones & Accessories', 'Accessories', 'Chargers & Power Adapters', 'Portable Power Banks')",
         "314"
        ],
        [
         "('Electronics', 'Television & Video', 'Streaming Media Players')",
         "303"
        ],
        [
         "('Beauty & Personal Care', 'Skin Care', 'Lip Care', 'Balms & Moisturizers')",
         "288"
        ],
        [
         "('Grocery & Gourmet Food', 'Beverages', 'Bottled Beverages, Water & Drink Mixes', 'Meal Replacement & Protein Drinks', 'Meal Replacement Drinks')",
         "276"
        ],
        [
         "('Beauty & Personal Care', 'Hair Care', 'Hair Coloring Products', 'Hair Color')",
         "271"
        ],
        [
         "('Health & Household', 'Health Care', 'Alternative Medicine', 'Aromatherapy', 'Carrier & Essential Oils', 'Essential Oil Singles')",
         "261"
        ],
        [
         "('Home & Kitchen', 'Bedding', 'Bed Pillows & Positioners', 'Bed Pillows')",
         "246"
        ],
        [
         "('Beauty & Personal Care', 'Skin Care', 'Face', 'Treatments & Masks', 'Serums')",
         "244"
        ],
        [
         "('Cell Phones & Accessories', 'Accessories', 'Stylus Pens')",
         "241"
        ],
        [
         "('Office Products', 'Office Electronics', 'Printers & Accessories', 'Printer Parts & Accessories', 'Printer Ink & Toner', 'Inkjet Ink Cartridges')",
         "238"
        ],
        [
         "('Health & Household', 'Household Supplies', 'Paper & Plastic', 'Paper Towels')",
         "234"
        ],
        [
         "('Electronics', 'Electronic Protection Plans')",
         "228"
        ],
        [
         "('Grocery & Gourmet Food', 'Beverages', 'Bottled Beverages, Water & Drink Mixes', 'Juices', 'Fruit Juice')",
         "210"
        ],
        [
         "('Health & Household', 'Household Supplies', 'Lighters & Matches', 'Lighters')",
         "206"
        ],
        [
         "('Health & Household', 'Oral Care', 'Toothbrushes & Accessories', 'Powered Toothbrushes & Accessories', 'Toothbrush Replacement Heads')",
         "204"
        ],
        [
         "('Tools & Home Improvement', 'Safety & Security', 'Personal Protective Equipment', 'Masks & Respirators', 'Respirators', 'Disposable Respirators')",
         "203"
        ],
        [
         "('Patio, Lawn & Garden', 'Outdoor Décor', 'Flags')",
         "201"
        ],
        [
         "('Home & Kitchen', 'Home Décor Products', 'Home Décor Accents', 'Hanging Ornaments')",
         "200"
        ],
        [
         "('Cell Phones & Accessories', 'Accessories', 'Automobile Accessories', 'Cradles')",
         "196"
        ],
        [
         "('Patio, Lawn & Garden', 'Pest Control', 'Traps')",
         "193"
        ],
        [
         "('Health & Household', 'Diet & Sports Nutrition', 'Sports Nutrition', 'Protein', 'Whey')",
         "192"
        ],
        [
         "('Grocery & Gourmet Food', 'Beverages', 'Beverage Syrups & Concentrates', 'Syrups')",
         "190"
        ],
        [
         "('Cell Phones & Accessories', 'Cell Phones')",
         "187"
        ],
        [
         "('Beauty & Personal Care', 'Tools & Accessories', 'Refillable Containers', 'Spray Bottles')",
         "185"
        ],
        [
         "('Health & Household', 'Medical Supplies & Equipment', 'Health Monitors', 'Blood Pressure Monitors', 'Arm Monitors', 'Automatic')",
         "180"
        ],
        [
         "('Pet Supplies', 'Cats', 'Litter & Housebreaking', 'Litter')",
         "179"
        ],
        [
         "('Beauty & Personal Care', 'Makeup', 'Eyes', 'Eyeliner')",
         "174"
        ],
        [
         "('Clothing, Shoes & Jewelry', 'Women', 'Clothing', 'Tops, Tees & Blouses', 'Tunics')",
         "173"
        ]
       ],
       "shape": {
        "columns": 1,
        "rows": 729
       }
      },
      "text/plain": [
       "group_key\n",
       "unknown                                                                                                                                 200408\n",
       "(Gift Cards, Gift Cards)                                                                                                                  8607\n",
       "(Cell Phones & Accessories, Cases, Holsters & Sleeves, Basic Cases)                                                                       2241\n",
       "(Electronics, Power Accessories, AC Adapters)                                                                                             1617\n",
       "(Cell Phones & Accessories, Accessories, Maintenance, Upkeep & Repairs, Screen Protectors)                                                 671\n",
       "                                                                                                                                         ...  \n",
       "(Automotive, Replacement Parts, Caps, Fuel Tank Caps)                                                                                        1\n",
       "(Sports & Outdoors, Outdoor Recreation, Camping & Hiking, Camp Kitchen, Camping Cookware, Open Fire Cookware)                                1\n",
       "(Patio, Lawn & Garden, Gardening & Lawn Care, Greenhouses & Plant Germination Equipment, Greenhouses)                                        1\n",
       "(Shoe, Jewelry & Watch Accessories, Shoe Care & Accessories, Shoe Care Treatments & Dyes, Shoe Treatments & Polishes, Shoe Polishes)         1\n",
       "(Electronics, Portable Audio & Video, Portable DVD Players)                                                                                  1\n",
       "Name: count, Length: 729, dtype: int64"
      ]
     },
     "execution_count": 30,
     "metadata": {},
     "output_type": "execute_result"
    }
   ],
   "source": [
    "transaction.loc[mask_unknown, 'group_key'].value_counts() # 카테고리 결측치 중 4만개정도가 채워짐"
   ]
  },
  {
   "cell_type": "markdown",
   "id": "165abce8",
   "metadata": {},
   "source": [
    "### 상품군 결측치 비율이 너무 높은 유저 제거"
   ]
  },
  {
   "cell_type": "code",
   "execution_count": 31,
   "id": "db3706e1",
   "metadata": {},
   "outputs": [
    {
     "data": {
      "application/vnd.microsoft.datawrangler.viewer.v0+json": {
       "columns": [
        {
         "name": "index",
         "rawType": "int64",
         "type": "integer"
        },
        {
         "name": "Survey ResponseID",
         "rawType": "object",
         "type": "string"
        },
        {
         "name": "count_catnull",
         "rawType": "int64",
         "type": "integer"
        }
       ],
       "ref": "c2991b2c-021b-453f-afc6-219c0063eb38",
       "rows": [
        [
         "0",
         "R_3qTFp0FJqUeMhVZ",
         "869"
        ],
        [
         "1",
         "R_8CXcySQawXPuJwJ",
         "812"
        ],
        [
         "2",
         "R_3m3H4mwZ2snYFua",
         "575"
        ],
        [
         "3",
         "R_3mmCGclG1nJL4uv",
         "531"
        ],
        [
         "4",
         "R_3n2VXT4Z99FpnEG",
         "504"
        ],
        [
         "5",
         "R_3oO3DoeTgXHrEzx",
         "502"
        ],
        [
         "6",
         "R_2ebzj3o225IisIQ",
         "491"
        ],
        [
         "7",
         "R_1QtQEfi1VAWgRM0",
         "478"
        ],
        [
         "8",
         "R_2EglJpTWGEiwQYa",
         "469"
        ],
        [
         "9",
         "R_DIVJxjv1mP33pPb",
         "400"
        ],
        [
         "10",
         "R_3nPGwtXdnEI5Stq",
         "380"
        ],
        [
         "11",
         "R_2WAagX64hf1kdMI",
         "374"
        ],
        [
         "12",
         "R_2PczkBPRGmqC8Ru",
         "370"
        ],
        [
         "13",
         "R_3lv2H1k8zdvXdkZ",
         "361"
        ],
        [
         "14",
         "R_3kp1cu1nmAKu6mC",
         "358"
        ],
        [
         "15",
         "R_3q9idVBBCxBY9hK",
         "347"
        ],
        [
         "16",
         "R_3nMnsONdmohWgnF",
         "344"
        ],
        [
         "17",
         "R_24csoaO569P4Yzz",
         "343"
        ],
        [
         "18",
         "R_3oQSXNZTcp9yWWl",
         "340"
        ],
        [
         "19",
         "R_1rwrLVr6jBONnIg",
         "329"
        ],
        [
         "20",
         "R_yDsJLBJ60v26htD",
         "329"
        ],
        [
         "21",
         "R_1NDq0rxoUSu6oyz",
         "317"
        ],
        [
         "22",
         "R_9BuaSujzfvulXoJ",
         "313"
        ],
        [
         "23",
         "R_3e5g4lvddcnjkoZ",
         "300"
        ],
        [
         "24",
         "R_3R4b0PxgHJiXxVD",
         "290"
        ],
        [
         "25",
         "R_2XoI6KbLJRGFz5X",
         "285"
        ],
        [
         "26",
         "R_VOnKIVzg9qHTJbH",
         "283"
        ],
        [
         "27",
         "R_3n0Eenx5FMskTrD",
         "280"
        ],
        [
         "28",
         "R_3ezBqJzPjKM0Dfa",
         "279"
        ],
        [
         "29",
         "R_3m1Oe7DVV8jKYGf",
         "277"
        ],
        [
         "30",
         "R_1C4nKyrv0w2thJn",
         "273"
        ],
        [
         "31",
         "R_yC5ffbdBLVi93Pz",
         "273"
        ],
        [
         "32",
         "R_3lrG75UCQA6dT2c",
         "272"
        ],
        [
         "33",
         "R_4PhRzF4UI9ooLh7",
         "270"
        ],
        [
         "34",
         "R_3lXswIAy7Qq6UEZ",
         "266"
        ],
        [
         "35",
         "R_3n17fNI56KA8rTV",
         "265"
        ],
        [
         "36",
         "R_1Q9JeeKncbbLcz0",
         "258"
        ],
        [
         "37",
         "R_10CAlrx7dbJty9R",
         "255"
        ],
        [
         "38",
         "R_RlSNQ6510NQghgZ",
         "253"
        ],
        [
         "39",
         "R_3oT1WH4NoaCSLkH",
         "253"
        ],
        [
         "40",
         "R_247Ax9cFFZftmdh",
         "252"
        ],
        [
         "41",
         "R_2E9JSBmmNNT5YMi",
         "250"
        ],
        [
         "42",
         "R_9GKdL1PctL2H4OJ",
         "247"
        ],
        [
         "43",
         "R_2qyYuncKG79fN3P",
         "247"
        ],
        [
         "44",
         "R_3PTYPbg6N9x8PBX",
         "246"
        ],
        [
         "45",
         "R_1Iy2gQsVfTKf9TT",
         "245"
        ],
        [
         "46",
         "R_b8UnkZJoU93ZxEB",
         "244"
        ],
        [
         "47",
         "R_3socPWD3wXD0iDP",
         "242"
        ],
        [
         "48",
         "R_32UZncFA03IrQwQ",
         "241"
        ],
        [
         "49",
         "R_cucdDIXhmDRBfZT",
         "238"
        ]
       ],
       "shape": {
        "columns": 2,
        "rows": 4912
       }
      },
      "text/html": [
       "<div>\n",
       "<style scoped>\n",
       "    .dataframe tbody tr th:only-of-type {\n",
       "        vertical-align: middle;\n",
       "    }\n",
       "\n",
       "    .dataframe tbody tr th {\n",
       "        vertical-align: top;\n",
       "    }\n",
       "\n",
       "    .dataframe thead th {\n",
       "        text-align: right;\n",
       "    }\n",
       "</style>\n",
       "<table border=\"1\" class=\"dataframe\">\n",
       "  <thead>\n",
       "    <tr style=\"text-align: right;\">\n",
       "      <th></th>\n",
       "      <th>Survey ResponseID</th>\n",
       "      <th>count_catnull</th>\n",
       "    </tr>\n",
       "  </thead>\n",
       "  <tbody>\n",
       "    <tr>\n",
       "      <th>0</th>\n",
       "      <td>R_3qTFp0FJqUeMhVZ</td>\n",
       "      <td>869</td>\n",
       "    </tr>\n",
       "    <tr>\n",
       "      <th>1</th>\n",
       "      <td>R_8CXcySQawXPuJwJ</td>\n",
       "      <td>812</td>\n",
       "    </tr>\n",
       "    <tr>\n",
       "      <th>2</th>\n",
       "      <td>R_3m3H4mwZ2snYFua</td>\n",
       "      <td>575</td>\n",
       "    </tr>\n",
       "    <tr>\n",
       "      <th>3</th>\n",
       "      <td>R_3mmCGclG1nJL4uv</td>\n",
       "      <td>531</td>\n",
       "    </tr>\n",
       "    <tr>\n",
       "      <th>4</th>\n",
       "      <td>R_3n2VXT4Z99FpnEG</td>\n",
       "      <td>504</td>\n",
       "    </tr>\n",
       "    <tr>\n",
       "      <th>...</th>\n",
       "      <td>...</td>\n",
       "      <td>...</td>\n",
       "    </tr>\n",
       "    <tr>\n",
       "      <th>4907</th>\n",
       "      <td>R_3jYVHJu0dN2OgpR</td>\n",
       "      <td>1</td>\n",
       "    </tr>\n",
       "    <tr>\n",
       "      <th>4908</th>\n",
       "      <td>R_1iaq7FI2JEgb6pO</td>\n",
       "      <td>1</td>\n",
       "    </tr>\n",
       "    <tr>\n",
       "      <th>4909</th>\n",
       "      <td>R_3HhuhQG33UHsk0S</td>\n",
       "      <td>1</td>\n",
       "    </tr>\n",
       "    <tr>\n",
       "      <th>4910</th>\n",
       "      <td>R_1ikRVsVdVf29YNF</td>\n",
       "      <td>1</td>\n",
       "    </tr>\n",
       "    <tr>\n",
       "      <th>4911</th>\n",
       "      <td>R_25MVNN7lUZpb14v</td>\n",
       "      <td>1</td>\n",
       "    </tr>\n",
       "  </tbody>\n",
       "</table>\n",
       "<p>4912 rows × 2 columns</p>\n",
       "</div>"
      ],
      "text/plain": [
       "      Survey ResponseID  count_catnull\n",
       "0     R_3qTFp0FJqUeMhVZ            869\n",
       "1     R_8CXcySQawXPuJwJ            812\n",
       "2     R_3m3H4mwZ2snYFua            575\n",
       "3     R_3mmCGclG1nJL4uv            531\n",
       "4     R_3n2VXT4Z99FpnEG            504\n",
       "...                 ...            ...\n",
       "4907  R_3jYVHJu0dN2OgpR              1\n",
       "4908  R_1iaq7FI2JEgb6pO              1\n",
       "4909  R_3HhuhQG33UHsk0S              1\n",
       "4910  R_1ikRVsVdVf29YNF              1\n",
       "4911  R_25MVNN7lUZpb14v              1\n",
       "\n",
       "[4912 rows x 2 columns]"
      ]
     },
     "execution_count": 31,
     "metadata": {},
     "output_type": "execute_result"
    }
   ],
   "source": [
    "user_catnull = transaction[transaction['group_key'] == 'unknown']['Survey ResponseID'].value_counts().sort_values(ascending = False).reset_index()\n",
    "user_catnull = user_catnull.rename(columns = {'count' : 'count_catnull'})\n",
    "user_catnull"
   ]
  },
  {
   "cell_type": "code",
   "execution_count": 32,
   "id": "4b9cfaa4",
   "metadata": {},
   "outputs": [
    {
     "data": {
      "application/vnd.microsoft.datawrangler.viewer.v0+json": {
       "columns": [
        {
         "name": "index",
         "rawType": "int64",
         "type": "integer"
        },
        {
         "name": "Survey ResponseID",
         "rawType": "object",
         "type": "string"
        },
        {
         "name": "count_all",
         "rawType": "int64",
         "type": "integer"
        }
       ],
       "ref": "f7e6b11d-75a4-4ee4-88ca-96c2dddff07f",
       "rows": [
        [
         "0",
         "R_8CXcySQawXPuJwJ",
         "5377"
        ],
        [
         "1",
         "R_24csoaO569P4Yzz",
         "4731"
        ],
        [
         "2",
         "R_2EglJpTWGEiwQYa",
         "4259"
        ],
        [
         "3",
         "R_3e5g4lvddcnjkoZ",
         "3891"
        ],
        [
         "4",
         "R_1QtQEfi1VAWgRM0",
         "3859"
        ],
        [
         "5",
         "R_1PUcgnVG2i0EBz4",
         "3402"
        ],
        [
         "6",
         "R_32UZncFA03IrQwQ",
         "3012"
        ],
        [
         "7",
         "R_1rwrLVr6jBONnIg",
         "2987"
        ],
        [
         "8",
         "R_1NDq0rxoUSu6oyz",
         "2909"
        ],
        [
         "9",
         "R_3R4b0PxgHJiXxVD",
         "2908"
        ],
        [
         "10",
         "R_bJI8lmXMZWL6oql",
         "2898"
        ],
        [
         "11",
         "R_2z7rLZb69WuqDdf",
         "2876"
        ],
        [
         "12",
         "R_3G1gYo1d23Zq8Np",
         "2800"
        ],
        [
         "13",
         "R_32Mm71oAJq2K9XK",
         "2752"
        ],
        [
         "14",
         "R_2VyUSFk11bbTVej",
         "2716"
        ],
        [
         "15",
         "R_1C4nKyrv0w2thJn",
         "2646"
        ],
        [
         "16",
         "R_r3IM83Ecq7eY7QJ",
         "2628"
        ],
        [
         "17",
         "R_1NCzj2eSHI4QGcd",
         "2627"
        ],
        [
         "18",
         "R_BWhnv4EdbhSS6rf",
         "2592"
        ],
        [
         "19",
         "R_ZkokwdIEZybYo9z",
         "2579"
        ],
        [
         "20",
         "R_2XoI6KbLJRGFz5X",
         "2573"
        ],
        [
         "21",
         "R_VOnKIVzg9qHTJbH",
         "2542"
        ],
        [
         "22",
         "R_3PTYPbg6N9x8PBX",
         "2520"
        ],
        [
         "23",
         "R_1o4IsRkXnLlSU6K",
         "2519"
        ],
        [
         "24",
         "R_1Iy2gQsVfTKf9TT",
         "2496"
        ],
        [
         "25",
         "R_10CAlrx7dbJty9R",
         "2490"
        ],
        [
         "26",
         "R_AM0OvM0F9kBvqal",
         "2483"
        ],
        [
         "27",
         "R_1Q9JeeKncbbLcz0",
         "2452"
        ],
        [
         "28",
         "R_AKBlDprDMrv4M7v",
         "2399"
        ],
        [
         "29",
         "R_e8KTElZZLWryLWp",
         "2376"
        ],
        [
         "30",
         "R_24nLvo5DCDemQ4Q",
         "2374"
        ],
        [
         "31",
         "R_pMnqpu31myYoxy1",
         "2330"
        ],
        [
         "32",
         "R_1ONsVOpSDE6jAfT",
         "2311"
        ],
        [
         "33",
         "R_3GiWheWDtygg0V2",
         "2305"
        ],
        [
         "34",
         "R_3qTFp0FJqUeMhVZ",
         "2256"
        ],
        [
         "35",
         "R_4PhRzF4UI9ooLh7",
         "2238"
        ],
        [
         "36",
         "R_cMxn243TpGjgbWp",
         "2231"
        ],
        [
         "37",
         "R_Z4qMkqhWSmIbdSh",
         "2226"
        ],
        [
         "38",
         "R_3socPWD3wXD0iDP",
         "2222"
        ],
        [
         "39",
         "R_2ebzj3o225IisIQ",
         "2205"
        ],
        [
         "40",
         "R_A5sbkTmUYGXhO3n",
         "2183"
        ],
        [
         "41",
         "R_Xt4H8BJ1Vx7ws8h",
         "2179"
        ],
        [
         "42",
         "R_3qasyWogYKMo0FR",
         "2155"
        ],
        [
         "43",
         "R_2YR2Yn7wGzAeAj0",
         "2143"
        ],
        [
         "44",
         "R_2qxZ0v6uaLBRkV7",
         "2133"
        ],
        [
         "45",
         "R_9BuaSujzfvulXoJ",
         "2076"
        ],
        [
         "46",
         "R_2alybIrtMFx3zDD",
         "2046"
        ],
        [
         "47",
         "R_b8UnkZJoU93ZxEB",
         "2036"
        ],
        [
         "48",
         "R_3mmCGclG1nJL4uv",
         "2012"
        ],
        [
         "49",
         "R_2yplkUxhAWZaFUL",
         "1990"
        ]
       ],
       "shape": {
        "columns": 2,
        "rows": 5027
       }
      },
      "text/html": [
       "<div>\n",
       "<style scoped>\n",
       "    .dataframe tbody tr th:only-of-type {\n",
       "        vertical-align: middle;\n",
       "    }\n",
       "\n",
       "    .dataframe tbody tr th {\n",
       "        vertical-align: top;\n",
       "    }\n",
       "\n",
       "    .dataframe thead th {\n",
       "        text-align: right;\n",
       "    }\n",
       "</style>\n",
       "<table border=\"1\" class=\"dataframe\">\n",
       "  <thead>\n",
       "    <tr style=\"text-align: right;\">\n",
       "      <th></th>\n",
       "      <th>Survey ResponseID</th>\n",
       "      <th>count_all</th>\n",
       "    </tr>\n",
       "  </thead>\n",
       "  <tbody>\n",
       "    <tr>\n",
       "      <th>0</th>\n",
       "      <td>R_8CXcySQawXPuJwJ</td>\n",
       "      <td>5377</td>\n",
       "    </tr>\n",
       "    <tr>\n",
       "      <th>1</th>\n",
       "      <td>R_24csoaO569P4Yzz</td>\n",
       "      <td>4731</td>\n",
       "    </tr>\n",
       "    <tr>\n",
       "      <th>2</th>\n",
       "      <td>R_2EglJpTWGEiwQYa</td>\n",
       "      <td>4259</td>\n",
       "    </tr>\n",
       "    <tr>\n",
       "      <th>3</th>\n",
       "      <td>R_3e5g4lvddcnjkoZ</td>\n",
       "      <td>3891</td>\n",
       "    </tr>\n",
       "    <tr>\n",
       "      <th>4</th>\n",
       "      <td>R_1QtQEfi1VAWgRM0</td>\n",
       "      <td>3859</td>\n",
       "    </tr>\n",
       "    <tr>\n",
       "      <th>...</th>\n",
       "      <td>...</td>\n",
       "      <td>...</td>\n",
       "    </tr>\n",
       "    <tr>\n",
       "      <th>5022</th>\n",
       "      <td>R_3EcHXiW1yKkyjDP</td>\n",
       "      <td>2</td>\n",
       "    </tr>\n",
       "    <tr>\n",
       "      <th>5023</th>\n",
       "      <td>R_1GxbsZQY6mAp3qv</td>\n",
       "      <td>2</td>\n",
       "    </tr>\n",
       "    <tr>\n",
       "      <th>5024</th>\n",
       "      <td>R_3oXeN7LsUxJ1Jco</td>\n",
       "      <td>2</td>\n",
       "    </tr>\n",
       "    <tr>\n",
       "      <th>5025</th>\n",
       "      <td>R_w4X9FQneeSrzuE1</td>\n",
       "      <td>2</td>\n",
       "    </tr>\n",
       "    <tr>\n",
       "      <th>5026</th>\n",
       "      <td>R_1d1fnT4sjZABBwe</td>\n",
       "      <td>1</td>\n",
       "    </tr>\n",
       "  </tbody>\n",
       "</table>\n",
       "<p>5027 rows × 2 columns</p>\n",
       "</div>"
      ],
      "text/plain": [
       "      Survey ResponseID  count_all\n",
       "0     R_8CXcySQawXPuJwJ       5377\n",
       "1     R_24csoaO569P4Yzz       4731\n",
       "2     R_2EglJpTWGEiwQYa       4259\n",
       "3     R_3e5g4lvddcnjkoZ       3891\n",
       "4     R_1QtQEfi1VAWgRM0       3859\n",
       "...                 ...        ...\n",
       "5022  R_3EcHXiW1yKkyjDP          2\n",
       "5023  R_1GxbsZQY6mAp3qv          2\n",
       "5024  R_3oXeN7LsUxJ1Jco          2\n",
       "5025  R_w4X9FQneeSrzuE1          2\n",
       "5026  R_1d1fnT4sjZABBwe          1\n",
       "\n",
       "[5027 rows x 2 columns]"
      ]
     },
     "execution_count": 32,
     "metadata": {},
     "output_type": "execute_result"
    }
   ],
   "source": [
    "user_all = transaction['Survey ResponseID'].value_counts().sort_values(ascending = False).reset_index()\n",
    "user_all = user_all.rename(columns = {'count' : 'count_all'})\n",
    "user_all"
   ]
  },
  {
   "cell_type": "code",
   "execution_count": 33,
   "id": "a85cc220",
   "metadata": {},
   "outputs": [
    {
     "data": {
      "application/vnd.microsoft.datawrangler.viewer.v0+json": {
       "columns": [
        {
         "name": "index",
         "rawType": "int64",
         "type": "integer"
        },
        {
         "name": "Survey ResponseID",
         "rawType": "object",
         "type": "string"
        },
        {
         "name": "count_all",
         "rawType": "int64",
         "type": "integer"
        },
        {
         "name": "count_catnull",
         "rawType": "float64",
         "type": "float"
        }
       ],
       "ref": "3e9be0bb-fa07-4a53-8e9d-2fa64426dd49",
       "rows": [
        [
         "0",
         "R_8CXcySQawXPuJwJ",
         "5377",
         "812.0"
        ],
        [
         "1",
         "R_24csoaO569P4Yzz",
         "4731",
         "343.0"
        ],
        [
         "2",
         "R_2EglJpTWGEiwQYa",
         "4259",
         "469.0"
        ],
        [
         "3",
         "R_3e5g4lvddcnjkoZ",
         "3891",
         "300.0"
        ],
        [
         "4",
         "R_1QtQEfi1VAWgRM0",
         "3859",
         "478.0"
        ],
        [
         "5",
         "R_1PUcgnVG2i0EBz4",
         "3402",
         "191.0"
        ],
        [
         "6",
         "R_32UZncFA03IrQwQ",
         "3012",
         "241.0"
        ],
        [
         "7",
         "R_1rwrLVr6jBONnIg",
         "2987",
         "329.0"
        ],
        [
         "8",
         "R_1NDq0rxoUSu6oyz",
         "2909",
         "317.0"
        ],
        [
         "9",
         "R_3R4b0PxgHJiXxVD",
         "2908",
         "290.0"
        ],
        [
         "10",
         "R_bJI8lmXMZWL6oql",
         "2898",
         "176.0"
        ],
        [
         "11",
         "R_2z7rLZb69WuqDdf",
         "2876",
         "236.0"
        ],
        [
         "12",
         "R_3G1gYo1d23Zq8Np",
         "2800",
         "137.0"
        ],
        [
         "13",
         "R_32Mm71oAJq2K9XK",
         "2752",
         "233.0"
        ],
        [
         "14",
         "R_2VyUSFk11bbTVej",
         "2716",
         "151.0"
        ],
        [
         "15",
         "R_1C4nKyrv0w2thJn",
         "2646",
         "273.0"
        ],
        [
         "16",
         "R_r3IM83Ecq7eY7QJ",
         "2628",
         "148.0"
        ],
        [
         "17",
         "R_1NCzj2eSHI4QGcd",
         "2627",
         "198.0"
        ],
        [
         "18",
         "R_BWhnv4EdbhSS6rf",
         "2592",
         "203.0"
        ],
        [
         "19",
         "R_ZkokwdIEZybYo9z",
         "2579",
         "164.0"
        ],
        [
         "20",
         "R_2XoI6KbLJRGFz5X",
         "2573",
         "285.0"
        ],
        [
         "21",
         "R_VOnKIVzg9qHTJbH",
         "2542",
         "283.0"
        ],
        [
         "22",
         "R_3PTYPbg6N9x8PBX",
         "2520",
         "246.0"
        ],
        [
         "23",
         "R_1o4IsRkXnLlSU6K",
         "2519",
         "218.0"
        ],
        [
         "24",
         "R_1Iy2gQsVfTKf9TT",
         "2496",
         "245.0"
        ],
        [
         "25",
         "R_10CAlrx7dbJty9R",
         "2490",
         "255.0"
        ],
        [
         "26",
         "R_AM0OvM0F9kBvqal",
         "2483",
         "211.0"
        ],
        [
         "27",
         "R_1Q9JeeKncbbLcz0",
         "2452",
         "258.0"
        ],
        [
         "28",
         "R_AKBlDprDMrv4M7v",
         "2399",
         "177.0"
        ],
        [
         "29",
         "R_e8KTElZZLWryLWp",
         "2376",
         "155.0"
        ],
        [
         "30",
         "R_24nLvo5DCDemQ4Q",
         "2374",
         "162.0"
        ],
        [
         "31",
         "R_pMnqpu31myYoxy1",
         "2330",
         "185.0"
        ],
        [
         "32",
         "R_1ONsVOpSDE6jAfT",
         "2311",
         "144.0"
        ],
        [
         "33",
         "R_3GiWheWDtygg0V2",
         "2305",
         "236.0"
        ],
        [
         "34",
         "R_3qTFp0FJqUeMhVZ",
         "2256",
         "869.0"
        ],
        [
         "35",
         "R_4PhRzF4UI9ooLh7",
         "2238",
         "270.0"
        ],
        [
         "36",
         "R_cMxn243TpGjgbWp",
         "2231",
         "159.0"
        ],
        [
         "37",
         "R_Z4qMkqhWSmIbdSh",
         "2226",
         "92.0"
        ],
        [
         "38",
         "R_3socPWD3wXD0iDP",
         "2222",
         "242.0"
        ],
        [
         "39",
         "R_2ebzj3o225IisIQ",
         "2205",
         "491.0"
        ],
        [
         "40",
         "R_A5sbkTmUYGXhO3n",
         "2183",
         "231.0"
        ],
        [
         "41",
         "R_Xt4H8BJ1Vx7ws8h",
         "2179",
         "81.0"
        ],
        [
         "42",
         "R_3qasyWogYKMo0FR",
         "2155",
         "210.0"
        ],
        [
         "43",
         "R_2YR2Yn7wGzAeAj0",
         "2143",
         "128.0"
        ],
        [
         "44",
         "R_2qxZ0v6uaLBRkV7",
         "2133",
         "213.0"
        ],
        [
         "45",
         "R_9BuaSujzfvulXoJ",
         "2076",
         "313.0"
        ],
        [
         "46",
         "R_2alybIrtMFx3zDD",
         "2046",
         "163.0"
        ],
        [
         "47",
         "R_b8UnkZJoU93ZxEB",
         "2036",
         "244.0"
        ],
        [
         "48",
         "R_3mmCGclG1nJL4uv",
         "2012",
         "531.0"
        ],
        [
         "49",
         "R_2yplkUxhAWZaFUL",
         "1990",
         "221.0"
        ]
       ],
       "shape": {
        "columns": 3,
        "rows": 5027
       }
      },
      "text/html": [
       "<div>\n",
       "<style scoped>\n",
       "    .dataframe tbody tr th:only-of-type {\n",
       "        vertical-align: middle;\n",
       "    }\n",
       "\n",
       "    .dataframe tbody tr th {\n",
       "        vertical-align: top;\n",
       "    }\n",
       "\n",
       "    .dataframe thead th {\n",
       "        text-align: right;\n",
       "    }\n",
       "</style>\n",
       "<table border=\"1\" class=\"dataframe\">\n",
       "  <thead>\n",
       "    <tr style=\"text-align: right;\">\n",
       "      <th></th>\n",
       "      <th>Survey ResponseID</th>\n",
       "      <th>count_all</th>\n",
       "      <th>count_catnull</th>\n",
       "    </tr>\n",
       "  </thead>\n",
       "  <tbody>\n",
       "    <tr>\n",
       "      <th>0</th>\n",
       "      <td>R_8CXcySQawXPuJwJ</td>\n",
       "      <td>5377</td>\n",
       "      <td>812.0</td>\n",
       "    </tr>\n",
       "    <tr>\n",
       "      <th>1</th>\n",
       "      <td>R_24csoaO569P4Yzz</td>\n",
       "      <td>4731</td>\n",
       "      <td>343.0</td>\n",
       "    </tr>\n",
       "    <tr>\n",
       "      <th>2</th>\n",
       "      <td>R_2EglJpTWGEiwQYa</td>\n",
       "      <td>4259</td>\n",
       "      <td>469.0</td>\n",
       "    </tr>\n",
       "    <tr>\n",
       "      <th>3</th>\n",
       "      <td>R_3e5g4lvddcnjkoZ</td>\n",
       "      <td>3891</td>\n",
       "      <td>300.0</td>\n",
       "    </tr>\n",
       "    <tr>\n",
       "      <th>4</th>\n",
       "      <td>R_1QtQEfi1VAWgRM0</td>\n",
       "      <td>3859</td>\n",
       "      <td>478.0</td>\n",
       "    </tr>\n",
       "    <tr>\n",
       "      <th>...</th>\n",
       "      <td>...</td>\n",
       "      <td>...</td>\n",
       "      <td>...</td>\n",
       "    </tr>\n",
       "    <tr>\n",
       "      <th>5022</th>\n",
       "      <td>R_3EcHXiW1yKkyjDP</td>\n",
       "      <td>2</td>\n",
       "      <td>0.0</td>\n",
       "    </tr>\n",
       "    <tr>\n",
       "      <th>5023</th>\n",
       "      <td>R_1GxbsZQY6mAp3qv</td>\n",
       "      <td>2</td>\n",
       "      <td>0.0</td>\n",
       "    </tr>\n",
       "    <tr>\n",
       "      <th>5024</th>\n",
       "      <td>R_3oXeN7LsUxJ1Jco</td>\n",
       "      <td>2</td>\n",
       "      <td>0.0</td>\n",
       "    </tr>\n",
       "    <tr>\n",
       "      <th>5025</th>\n",
       "      <td>R_w4X9FQneeSrzuE1</td>\n",
       "      <td>2</td>\n",
       "      <td>0.0</td>\n",
       "    </tr>\n",
       "    <tr>\n",
       "      <th>5026</th>\n",
       "      <td>R_1d1fnT4sjZABBwe</td>\n",
       "      <td>1</td>\n",
       "      <td>0.0</td>\n",
       "    </tr>\n",
       "  </tbody>\n",
       "</table>\n",
       "<p>5027 rows × 3 columns</p>\n",
       "</div>"
      ],
      "text/plain": [
       "      Survey ResponseID  count_all  count_catnull\n",
       "0     R_8CXcySQawXPuJwJ       5377          812.0\n",
       "1     R_24csoaO569P4Yzz       4731          343.0\n",
       "2     R_2EglJpTWGEiwQYa       4259          469.0\n",
       "3     R_3e5g4lvddcnjkoZ       3891          300.0\n",
       "4     R_1QtQEfi1VAWgRM0       3859          478.0\n",
       "...                 ...        ...            ...\n",
       "5022  R_3EcHXiW1yKkyjDP          2            0.0\n",
       "5023  R_1GxbsZQY6mAp3qv          2            0.0\n",
       "5024  R_3oXeN7LsUxJ1Jco          2            0.0\n",
       "5025  R_w4X9FQneeSrzuE1          2            0.0\n",
       "5026  R_1d1fnT4sjZABBwe          1            0.0\n",
       "\n",
       "[5027 rows x 3 columns]"
      ]
     },
     "execution_count": 33,
     "metadata": {},
     "output_type": "execute_result"
    }
   ],
   "source": [
    "user_merge = pd.merge(user_all, user_catnull, on = 'Survey ResponseID', how = 'left')\n",
    "user_merge['count_catnull'] = user_merge['count_catnull'].fillna(0)\n",
    "user_merge"
   ]
  },
  {
   "cell_type": "code",
   "execution_count": 34,
   "id": "4b8e01b0",
   "metadata": {},
   "outputs": [
    {
     "data": {
      "application/vnd.microsoft.datawrangler.viewer.v0+json": {
       "columns": [
        {
         "name": "index",
         "rawType": "int64",
         "type": "integer"
        },
        {
         "name": "Survey ResponseID",
         "rawType": "object",
         "type": "string"
        },
        {
         "name": "count_all",
         "rawType": "int64",
         "type": "integer"
        },
        {
         "name": "count_catnull",
         "rawType": "float64",
         "type": "float"
        },
        {
         "name": "BuyNull_per",
         "rawType": "float64",
         "type": "float"
        }
       ],
       "ref": "454ef0fe-fcc6-496e-8b7c-72e9e588e94c",
       "rows": [
        [
         "1735",
         "R_3lv2H1k8zdvXdkZ",
         "361",
         "361.0",
         "1.0"
        ],
        [
         "5005",
         "R_xr5emnVfUGhwjkd",
         "3",
         "3.0",
         "1.0"
        ],
        [
         "4906",
         "R_1FPtnyDUi83F045",
         "10",
         "10.0",
         "1.0"
        ],
        [
         "3758",
         "R_3k1YkypUNn2zXzH",
         "92",
         "80.0",
         "0.8695652173913043"
        ],
        [
         "3388",
         "R_3DqnvnWvqgEZVbO",
         "127",
         "103.0",
         "0.8110236220472441"
        ],
        [
         "1921",
         "R_2qyYuncKG79fN3P",
         "328",
         "247.0",
         "0.7530487804878049"
        ],
        [
         "2157",
         "R_2an9oy1DH2K2W8o",
         "284",
         "207.0",
         "0.7288732394366197"
        ],
        [
         "2677",
         "R_3Gr02vFv0h79T4p",
         "209",
         "147.0",
         "0.7033492822966507"
        ],
        [
         "2042",
         "R_1LbUTgaWmOcYHoQ",
         "305",
         "210.0",
         "0.6885245901639344"
        ],
        [
         "5010",
         "R_2645ne4qL77SxOJ",
         "3",
         "2.0",
         "0.6666666666666666"
        ],
        [
         "5002",
         "R_BrGU6AO1BW3UyVX",
         "3",
         "2.0",
         "0.6666666666666666"
        ],
        [
         "4967",
         "R_bKkzeRcxJTprXkB",
         "6",
         "4.0",
         "0.6666666666666666"
        ],
        [
         "4895",
         "R_qVmfD0CvI4DM1vb",
         "11",
         "7.0",
         "0.6363636363636364"
        ],
        [
         "1607",
         "R_3nN7gDrlTTNu9A9",
         "387",
         "232.0",
         "0.599483204134367"
        ],
        [
         "2344",
         "R_3m4y20RcmogDzZl",
         "255",
         "152.0",
         "0.596078431372549"
        ],
        [
         "3601",
         "R_3qCm8Efo8tECGQ5",
         "107",
         "62.0",
         "0.5794392523364486"
        ],
        [
         "4034",
         "R_3m1QGkK4pRvz6q5",
         "71",
         "41.0",
         "0.5774647887323944"
        ],
        [
         "4958",
         "R_DqMcG57ra3BtuVP",
         "7",
         "4.0",
         "0.5714285714285714"
        ],
        [
         "4960",
         "R_2COe0fHazciDtdD",
         "7",
         "4.0",
         "0.5714285714285714"
        ],
        [
         "4623",
         "R_6PtikqNXw6W58Od",
         "28",
         "16.0",
         "0.5714285714285714"
        ],
        [
         "4322",
         "R_3n1U04VYrBKdqxs",
         "49",
         "28.0",
         "0.5714285714285714"
        ],
        [
         "883",
         "R_3nMnsONdmohWgnF",
         "621",
         "344.0",
         "0.5539452495974235"
        ],
        [
         "3730",
         "R_3lMqHBzl2gFmIku",
         "94",
         "52.0",
         "0.5531914893617021"
        ],
        [
         "2772",
         "R_3mmcUuadJoTFzsw",
         "198",
         "108.0",
         "0.5454545454545454"
        ],
        [
         "4349",
         "R_3p8SE1rHMVpDhOI",
         "48",
         "26.0",
         "0.5416666666666666"
        ],
        [
         "1781",
         "R_3mZKz5nOdwDq9uV",
         "353",
         "191.0",
         "0.5410764872521246"
        ],
        [
         "3951",
         "R_3lMSxgNkhRq4147",
         "77",
         "41.0",
         "0.5324675324675324"
        ],
        [
         "3398",
         "R_3nTxfoDtuXTyMgE",
         "126",
         "67.0",
         "0.5317460317460317"
        ],
        [
         "1888",
         "R_3qWelyoPjmQzdkZ",
         "335",
         "178.0",
         "0.5313432835820896"
        ],
        [
         "1531",
         "R_3lMPFMytHOig2HO",
         "408",
         "216.0",
         "0.5294117647058824"
        ],
        [
         "4503",
         "R_3nckXobICRGBIZD",
         "36",
         "19.0",
         "0.5277777777777778"
        ],
        [
         "4105",
         "R_3lFC8mZ0NpujRTg",
         "65",
         "34.0",
         "0.5230769230769231"
        ],
        [
         "4604",
         "R_3k5GZzNh8OQFFcx",
         "29",
         "15.0",
         "0.5172413793103449"
        ],
        [
         "1325",
         "R_3nTTyw1tM8Efnek",
         "464",
         "236.0",
         "0.5086206896551724"
        ],
        [
         "4398",
         "R_3n0f5dcuUi4KKGG",
         "44",
         "22.0",
         "0.5"
        ],
        [
         "2352",
         "R_3k1EuBwlZyentTb",
         "254",
         "127.0",
         "0.5"
        ],
        [
         "4993",
         "R_SE8aSpQlEHeTRi9",
         "4",
         "2.0",
         "0.5"
        ],
        [
         "4460",
         "R_3m2Gt4gSV5ZDV1j",
         "40",
         "20.0",
         "0.5"
        ],
        [
         "4965",
         "R_w77iC7bSgq12DO9",
         "6",
         "3.0",
         "0.5"
        ],
        [
         "4990",
         "R_3n8zTmayQaStORf",
         "4",
         "2.0",
         "0.5"
        ],
        [
         "1945",
         "R_3mA8FkeMLPmxavv",
         "324",
         "160.0",
         "0.49382716049382713"
        ],
        [
         "4182",
         "R_3m3pAF4qi0QYEY2",
         "59",
         "28.0",
         "0.4745762711864407"
        ],
        [
         "304",
         "R_3n2VXT4Z99FpnEG",
         "1074",
         "504.0",
         "0.4692737430167598"
        ],
        [
         "3718",
         "R_3nSf4mvqWxoek6g",
         "95",
         "44.0",
         "0.4631578947368421"
        ],
        [
         "3058",
         "R_3lzv4o9axMfFsE2",
         "162",
         "75.0",
         "0.46296296296296297"
        ],
        [
         "2264",
         "R_3kgLsDZZFZldraK",
         "266",
         "123.0",
         "0.462406015037594"
        ],
        [
         "2977",
         "R_3ncO2Ifjpbb1Y4G",
         "171",
         "79.0",
         "0.4619883040935672"
        ],
        [
         "4649",
         "R_1lhEybvgNui8FOA",
         "26",
         "12.0",
         "0.46153846153846156"
        ],
        [
         "3988",
         "R_3m1ShFlOlf1Iopc",
         "74",
         "34.0",
         "0.4594594594594595"
        ],
        [
         "663",
         "R_3oQSXNZTcp9yWWl",
         "741",
         "340.0",
         "0.45883940620782726"
        ]
       ],
       "shape": {
        "columns": 4,
        "rows": 5027
       }
      },
      "text/html": [
       "<div>\n",
       "<style scoped>\n",
       "    .dataframe tbody tr th:only-of-type {\n",
       "        vertical-align: middle;\n",
       "    }\n",
       "\n",
       "    .dataframe tbody tr th {\n",
       "        vertical-align: top;\n",
       "    }\n",
       "\n",
       "    .dataframe thead th {\n",
       "        text-align: right;\n",
       "    }\n",
       "</style>\n",
       "<table border=\"1\" class=\"dataframe\">\n",
       "  <thead>\n",
       "    <tr style=\"text-align: right;\">\n",
       "      <th></th>\n",
       "      <th>Survey ResponseID</th>\n",
       "      <th>count_all</th>\n",
       "      <th>count_catnull</th>\n",
       "      <th>BuyNull_per</th>\n",
       "    </tr>\n",
       "  </thead>\n",
       "  <tbody>\n",
       "    <tr>\n",
       "      <th>1735</th>\n",
       "      <td>R_3lv2H1k8zdvXdkZ</td>\n",
       "      <td>361</td>\n",
       "      <td>361.0</td>\n",
       "      <td>1.000000</td>\n",
       "    </tr>\n",
       "    <tr>\n",
       "      <th>5005</th>\n",
       "      <td>R_xr5emnVfUGhwjkd</td>\n",
       "      <td>3</td>\n",
       "      <td>3.0</td>\n",
       "      <td>1.000000</td>\n",
       "    </tr>\n",
       "    <tr>\n",
       "      <th>4906</th>\n",
       "      <td>R_1FPtnyDUi83F045</td>\n",
       "      <td>10</td>\n",
       "      <td>10.0</td>\n",
       "      <td>1.000000</td>\n",
       "    </tr>\n",
       "    <tr>\n",
       "      <th>3758</th>\n",
       "      <td>R_3k1YkypUNn2zXzH</td>\n",
       "      <td>92</td>\n",
       "      <td>80.0</td>\n",
       "      <td>0.869565</td>\n",
       "    </tr>\n",
       "    <tr>\n",
       "      <th>3388</th>\n",
       "      <td>R_3DqnvnWvqgEZVbO</td>\n",
       "      <td>127</td>\n",
       "      <td>103.0</td>\n",
       "      <td>0.811024</td>\n",
       "    </tr>\n",
       "    <tr>\n",
       "      <th>...</th>\n",
       "      <td>...</td>\n",
       "      <td>...</td>\n",
       "      <td>...</td>\n",
       "      <td>...</td>\n",
       "    </tr>\n",
       "    <tr>\n",
       "      <th>4896</th>\n",
       "      <td>R_1GCwpR4TbUNRunu</td>\n",
       "      <td>11</td>\n",
       "      <td>0.0</td>\n",
       "      <td>0.000000</td>\n",
       "    </tr>\n",
       "    <tr>\n",
       "      <th>4897</th>\n",
       "      <td>R_2CWyXLZNxMXT6xY</td>\n",
       "      <td>11</td>\n",
       "      <td>0.0</td>\n",
       "      <td>0.000000</td>\n",
       "    </tr>\n",
       "    <tr>\n",
       "      <th>4898</th>\n",
       "      <td>R_1N52McSjcCnVqIm</td>\n",
       "      <td>11</td>\n",
       "      <td>0.0</td>\n",
       "      <td>0.000000</td>\n",
       "    </tr>\n",
       "    <tr>\n",
       "      <th>4902</th>\n",
       "      <td>R_vpDykvpWlejUcut</td>\n",
       "      <td>11</td>\n",
       "      <td>0.0</td>\n",
       "      <td>0.000000</td>\n",
       "    </tr>\n",
       "    <tr>\n",
       "      <th>5026</th>\n",
       "      <td>R_1d1fnT4sjZABBwe</td>\n",
       "      <td>1</td>\n",
       "      <td>0.0</td>\n",
       "      <td>0.000000</td>\n",
       "    </tr>\n",
       "  </tbody>\n",
       "</table>\n",
       "<p>5027 rows × 4 columns</p>\n",
       "</div>"
      ],
      "text/plain": [
       "      Survey ResponseID  count_all  count_catnull  BuyNull_per\n",
       "1735  R_3lv2H1k8zdvXdkZ        361          361.0     1.000000\n",
       "5005  R_xr5emnVfUGhwjkd          3            3.0     1.000000\n",
       "4906  R_1FPtnyDUi83F045         10           10.0     1.000000\n",
       "3758  R_3k1YkypUNn2zXzH         92           80.0     0.869565\n",
       "3388  R_3DqnvnWvqgEZVbO        127          103.0     0.811024\n",
       "...                 ...        ...            ...          ...\n",
       "4896  R_1GCwpR4TbUNRunu         11            0.0     0.000000\n",
       "4897  R_2CWyXLZNxMXT6xY         11            0.0     0.000000\n",
       "4898  R_1N52McSjcCnVqIm         11            0.0     0.000000\n",
       "4902  R_vpDykvpWlejUcut         11            0.0     0.000000\n",
       "5026  R_1d1fnT4sjZABBwe          1            0.0     0.000000\n",
       "\n",
       "[5027 rows x 4 columns]"
      ]
     },
     "execution_count": 34,
     "metadata": {},
     "output_type": "execute_result"
    }
   ],
   "source": [
    "user_merge['BuyNull_per'] = user_merge['count_catnull'] / user_merge['count_all']\n",
    "user_merge.sort_values(by='BuyNull_per', ascending = False)"
   ]
  },
  {
   "cell_type": "code",
   "execution_count": 35,
   "id": "84183924",
   "metadata": {},
   "outputs": [
    {
     "data": {
      "text/plain": [
       "<Axes: ylabel='BuyNull_per'>"
      ]
     },
     "execution_count": 35,
     "metadata": {},
     "output_type": "execute_result"
    },
    {
     "data": {
      "image/png": "[encoded data removed]",
      "text/plain": [
       "<Figure size 640x480 with 1 Axes>"
      ]
     },
     "metadata": {},
     "output_type": "display_data"
    }
   ],
   "source": [
    "sns.boxplot(user_merge['BuyNull_per'])"
   ]
  },
  {
   "cell_type": "code",
   "execution_count": 36,
   "id": "e1a44d8a",
   "metadata": {},
   "outputs": [
    {
     "name": "stdout",
     "output_type": "stream",
     "text": [
      "하한값 (lower bound): -0.010993794945954358\n",
      "상한값 (upper bound): 0.2191598116602726\n"
     ]
    }
   ],
   "source": [
    "# 구매비율 IQR 이상치 경계값 계산\n",
    "\n",
    "q1 = user_merge['BuyNull_per'].quantile(0.25)\n",
    "q3 = user_merge['BuyNull_per'].quantile(0.75)\n",
    "iqr = q3 - q1\n",
    "\n",
    "lower_bound = q1 - 1.5 * iqr\n",
    "upper_bound = q3 + 1.5 * iqr\n",
    "\n",
    "print(f\"하한값 (lower bound): {lower_bound}\")\n",
    "print(f\"상한값 (upper bound): {upper_bound}\")"
   ]
  },
  {
   "cell_type": "code",
   "execution_count": 37,
   "id": "49f063d7",
   "metadata": {},
   "outputs": [
    {
     "data": {
      "application/vnd.microsoft.datawrangler.viewer.v0+json": {
       "columns": [
        {
         "name": "index",
         "rawType": "int64",
         "type": "integer"
        },
        {
         "name": "Survey ResponseID",
         "rawType": "object",
         "type": "string"
        },
        {
         "name": "count_all",
         "rawType": "int64",
         "type": "integer"
        },
        {
         "name": "count_catnull",
         "rawType": "float64",
         "type": "float"
        },
        {
         "name": "BuyNull_per",
         "rawType": "float64",
         "type": "float"
        }
       ],
       "ref": "87b7ef67-3b87-464a-9d37-218962a9fec5",
       "rows": [
        [
         "0",
         "R_8CXcySQawXPuJwJ",
         "5377",
         "812.0",
         "0.15101357634368606"
        ],
        [
         "1",
         "R_24csoaO569P4Yzz",
         "4731",
         "343.0",
         "0.07250052842950751"
        ],
        [
         "2",
         "R_2EglJpTWGEiwQYa",
         "4259",
         "469.0",
         "0.11011974641934727"
        ],
        [
         "3",
         "R_3e5g4lvddcnjkoZ",
         "3891",
         "300.0",
         "0.07710100231303008"
        ],
        [
         "4",
         "R_1QtQEfi1VAWgRM0",
         "3859",
         "478.0",
         "0.12386628660274683"
        ],
        [
         "5",
         "R_1PUcgnVG2i0EBz4",
         "3402",
         "191.0",
         "0.05614344503233392"
        ],
        [
         "6",
         "R_32UZncFA03IrQwQ",
         "3012",
         "241.0",
         "0.0800132802124834"
        ],
        [
         "7",
         "R_1rwrLVr6jBONnIg",
         "2987",
         "329.0",
         "0.11014395714763978"
        ],
        [
         "8",
         "R_1NDq0rxoUSu6oyz",
         "2909",
         "317.0",
         "0.10897215537985562"
        ],
        [
         "9",
         "R_3R4b0PxgHJiXxVD",
         "2908",
         "290.0",
         "0.09972489683631362"
        ],
        [
         "10",
         "R_bJI8lmXMZWL6oql",
         "2898",
         "176.0",
         "0.06073153899240856"
        ],
        [
         "11",
         "R_2z7rLZb69WuqDdf",
         "2876",
         "236.0",
         "0.08205841446453407"
        ],
        [
         "12",
         "R_3G1gYo1d23Zq8Np",
         "2800",
         "137.0",
         "0.048928571428571425"
        ],
        [
         "13",
         "R_32Mm71oAJq2K9XK",
         "2752",
         "233.0",
         "0.0846656976744186"
        ],
        [
         "14",
         "R_2VyUSFk11bbTVej",
         "2716",
         "151.0",
         "0.05559646539027982"
        ],
        [
         "15",
         "R_1C4nKyrv0w2thJn",
         "2646",
         "273.0",
         "0.10317460317460317"
        ],
        [
         "16",
         "R_r3IM83Ecq7eY7QJ",
         "2628",
         "148.0",
         "0.0563165905631659"
        ],
        [
         "17",
         "R_1NCzj2eSHI4QGcd",
         "2627",
         "198.0",
         "0.07537114579368101"
        ],
        [
         "18",
         "R_BWhnv4EdbhSS6rf",
         "2592",
         "203.0",
         "0.0783179012345679"
        ],
        [
         "19",
         "R_ZkokwdIEZybYo9z",
         "2579",
         "164.0",
         "0.06359053896859247"
        ],
        [
         "20",
         "R_2XoI6KbLJRGFz5X",
         "2573",
         "285.0",
         "0.11076564321803342"
        ],
        [
         "21",
         "R_VOnKIVzg9qHTJbH",
         "2542",
         "283.0",
         "0.11132966168371361"
        ],
        [
         "22",
         "R_3PTYPbg6N9x8PBX",
         "2520",
         "246.0",
         "0.09761904761904762"
        ],
        [
         "23",
         "R_1o4IsRkXnLlSU6K",
         "2519",
         "218.0",
         "0.08654227868201668"
        ],
        [
         "24",
         "R_1Iy2gQsVfTKf9TT",
         "2496",
         "245.0",
         "0.09815705128205128"
        ],
        [
         "25",
         "R_10CAlrx7dbJty9R",
         "2490",
         "255.0",
         "0.10240963855421686"
        ],
        [
         "26",
         "R_AM0OvM0F9kBvqal",
         "2483",
         "211.0",
         "0.08497784937575513"
        ],
        [
         "27",
         "R_1Q9JeeKncbbLcz0",
         "2452",
         "258.0",
         "0.10522022838499184"
        ],
        [
         "28",
         "R_AKBlDprDMrv4M7v",
         "2399",
         "177.0",
         "0.07378074197582327"
        ],
        [
         "29",
         "R_e8KTElZZLWryLWp",
         "2376",
         "155.0",
         "0.06523569023569023"
        ],
        [
         "30",
         "R_24nLvo5DCDemQ4Q",
         "2374",
         "162.0",
         "0.06823925863521482"
        ],
        [
         "31",
         "R_pMnqpu31myYoxy1",
         "2330",
         "185.0",
         "0.07939914163090128"
        ],
        [
         "32",
         "R_1ONsVOpSDE6jAfT",
         "2311",
         "144.0",
         "0.06231068801384682"
        ],
        [
         "33",
         "R_3GiWheWDtygg0V2",
         "2305",
         "236.0",
         "0.10238611713665943"
        ],
        [
         "35",
         "R_4PhRzF4UI9ooLh7",
         "2238",
         "270.0",
         "0.12064343163538874"
        ],
        [
         "36",
         "R_cMxn243TpGjgbWp",
         "2231",
         "159.0",
         "0.0712684894666069"
        ],
        [
         "37",
         "R_Z4qMkqhWSmIbdSh",
         "2226",
         "92.0",
         "0.04132973944294699"
        ],
        [
         "38",
         "R_3socPWD3wXD0iDP",
         "2222",
         "242.0",
         "0.10891089108910891"
        ],
        [
         "40",
         "R_A5sbkTmUYGXhO3n",
         "2183",
         "231.0",
         "0.10581768208886853"
        ],
        [
         "41",
         "R_Xt4H8BJ1Vx7ws8h",
         "2179",
         "81.0",
         "0.03717301514456173"
        ],
        [
         "42",
         "R_3qasyWogYKMo0FR",
         "2155",
         "210.0",
         "0.09744779582366589"
        ],
        [
         "43",
         "R_2YR2Yn7wGzAeAj0",
         "2143",
         "128.0",
         "0.059729351376574896"
        ],
        [
         "44",
         "R_2qxZ0v6uaLBRkV7",
         "2133",
         "213.0",
         "0.09985935302390998"
        ],
        [
         "45",
         "R_9BuaSujzfvulXoJ",
         "2076",
         "313.0",
         "0.15077071290944125"
        ],
        [
         "46",
         "R_2alybIrtMFx3zDD",
         "2046",
         "163.0",
         "0.07966764418377321"
        ],
        [
         "47",
         "R_b8UnkZJoU93ZxEB",
         "2036",
         "244.0",
         "0.11984282907662082"
        ],
        [
         "49",
         "R_2yplkUxhAWZaFUL",
         "1990",
         "221.0",
         "0.11105527638190955"
        ],
        [
         "50",
         "R_2WAagX64hf1kdMI",
         "1979",
         "374.0",
         "0.1889843355229914"
        ],
        [
         "51",
         "R_yDsJLBJ60v26htD",
         "1960",
         "329.0",
         "0.16785714285714284"
        ],
        [
         "52",
         "R_RlSNQ6510NQghgZ",
         "1930",
         "253.0",
         "0.1310880829015544"
        ]
       ],
       "shape": {
        "columns": 4,
        "rows": 4728
       }
      },
      "text/html": [
       "<div>\n",
       "<style scoped>\n",
       "    .dataframe tbody tr th:only-of-type {\n",
       "        vertical-align: middle;\n",
       "    }\n",
       "\n",
       "    .dataframe tbody tr th {\n",
       "        vertical-align: top;\n",
       "    }\n",
       "\n",
       "    .dataframe thead th {\n",
       "        text-align: right;\n",
       "    }\n",
       "</style>\n",
       "<table border=\"1\" class=\"dataframe\">\n",
       "  <thead>\n",
       "    <tr style=\"text-align: right;\">\n",
       "      <th></th>\n",
       "      <th>Survey ResponseID</th>\n",
       "      <th>count_all</th>\n",
       "      <th>count_catnull</th>\n",
       "      <th>BuyNull_per</th>\n",
       "    </tr>\n",
       "  </thead>\n",
       "  <tbody>\n",
       "    <tr>\n",
       "      <th>0</th>\n",
       "      <td>R_8CXcySQawXPuJwJ</td>\n",
       "      <td>5377</td>\n",
       "      <td>812.0</td>\n",
       "      <td>0.151014</td>\n",
       "    </tr>\n",
       "    <tr>\n",
       "      <th>1</th>\n",
       "      <td>R_24csoaO569P4Yzz</td>\n",
       "      <td>4731</td>\n",
       "      <td>343.0</td>\n",
       "      <td>0.072501</td>\n",
       "    </tr>\n",
       "    <tr>\n",
       "      <th>2</th>\n",
       "      <td>R_2EglJpTWGEiwQYa</td>\n",
       "      <td>4259</td>\n",
       "      <td>469.0</td>\n",
       "      <td>0.110120</td>\n",
       "    </tr>\n",
       "    <tr>\n",
       "      <th>3</th>\n",
       "      <td>R_3e5g4lvddcnjkoZ</td>\n",
       "      <td>3891</td>\n",
       "      <td>300.0</td>\n",
       "      <td>0.077101</td>\n",
       "    </tr>\n",
       "    <tr>\n",
       "      <th>4</th>\n",
       "      <td>R_1QtQEfi1VAWgRM0</td>\n",
       "      <td>3859</td>\n",
       "      <td>478.0</td>\n",
       "      <td>0.123866</td>\n",
       "    </tr>\n",
       "    <tr>\n",
       "      <th>...</th>\n",
       "      <td>...</td>\n",
       "      <td>...</td>\n",
       "      <td>...</td>\n",
       "      <td>...</td>\n",
       "    </tr>\n",
       "    <tr>\n",
       "      <th>5022</th>\n",
       "      <td>R_3EcHXiW1yKkyjDP</td>\n",
       "      <td>2</td>\n",
       "      <td>0.0</td>\n",
       "      <td>0.000000</td>\n",
       "    </tr>\n",
       "    <tr>\n",
       "      <th>5023</th>\n",
       "      <td>R_1GxbsZQY6mAp3qv</td>\n",
       "      <td>2</td>\n",
       "      <td>0.0</td>\n",
       "      <td>0.000000</td>\n",
       "    </tr>\n",
       "    <tr>\n",
       "      <th>5024</th>\n",
       "      <td>R_3oXeN7LsUxJ1Jco</td>\n",
       "      <td>2</td>\n",
       "      <td>0.0</td>\n",
       "      <td>0.000000</td>\n",
       "    </tr>\n",
       "    <tr>\n",
       "      <th>5025</th>\n",
       "      <td>R_w4X9FQneeSrzuE1</td>\n",
       "      <td>2</td>\n",
       "      <td>0.0</td>\n",
       "      <td>0.000000</td>\n",
       "    </tr>\n",
       "    <tr>\n",
       "      <th>5026</th>\n",
       "      <td>R_1d1fnT4sjZABBwe</td>\n",
       "      <td>1</td>\n",
       "      <td>0.0</td>\n",
       "      <td>0.000000</td>\n",
       "    </tr>\n",
       "  </tbody>\n",
       "</table>\n",
       "<p>4728 rows × 4 columns</p>\n",
       "</div>"
      ],
      "text/plain": [
       "      Survey ResponseID  count_all  count_catnull  BuyNull_per\n",
       "0     R_8CXcySQawXPuJwJ       5377          812.0     0.151014\n",
       "1     R_24csoaO569P4Yzz       4731          343.0     0.072501\n",
       "2     R_2EglJpTWGEiwQYa       4259          469.0     0.110120\n",
       "3     R_3e5g4lvddcnjkoZ       3891          300.0     0.077101\n",
       "4     R_1QtQEfi1VAWgRM0       3859          478.0     0.123866\n",
       "...                 ...        ...            ...          ...\n",
       "5022  R_3EcHXiW1yKkyjDP          2            0.0     0.000000\n",
       "5023  R_1GxbsZQY6mAp3qv          2            0.0     0.000000\n",
       "5024  R_3oXeN7LsUxJ1Jco          2            0.0     0.000000\n",
       "5025  R_w4X9FQneeSrzuE1          2            0.0     0.000000\n",
       "5026  R_1d1fnT4sjZABBwe          1            0.0     0.000000\n",
       "\n",
       "[4728 rows x 4 columns]"
      ]
     },
     "execution_count": 37,
     "metadata": {},
     "output_type": "execute_result"
    }
   ],
   "source": [
    "user_filtered = user_merge[user_merge['BuyNull_per'] <= upper_bound]\n",
    "user_filtered"
   ]
  },
  {
   "cell_type": "code",
   "execution_count": 38,
   "id": "fa1e6408",
   "metadata": {},
   "outputs": [
    {
     "data": {
      "application/vnd.microsoft.datawrangler.viewer.v0+json": {
       "columns": [
        {
         "name": "index",
         "rawType": "int64",
         "type": "integer"
        },
        {
         "name": "Survey ResponseID",
         "rawType": "object",
         "type": "string"
        },
        {
         "name": "count_all",
         "rawType": "int64",
         "type": "integer"
        },
        {
         "name": "count_catnull",
         "rawType": "float64",
         "type": "float"
        },
        {
         "name": "BuyNull_per",
         "rawType": "float64",
         "type": "float"
        }
       ],
       "ref": "91e77fdf-cbba-48ce-8715-30dd70492d8f",
       "rows": [
        [
         "0",
         "R_8CXcySQawXPuJwJ",
         "5377",
         "812.0",
         "0.15101357634368606"
        ],
        [
         "1",
         "R_24csoaO569P4Yzz",
         "4731",
         "343.0",
         "0.07250052842950751"
        ],
        [
         "2",
         "R_2EglJpTWGEiwQYa",
         "4259",
         "469.0",
         "0.11011974641934727"
        ],
        [
         "3",
         "R_3e5g4lvddcnjkoZ",
         "3891",
         "300.0",
         "0.07710100231303008"
        ],
        [
         "4",
         "R_1QtQEfi1VAWgRM0",
         "3859",
         "478.0",
         "0.12386628660274683"
        ],
        [
         "5",
         "R_1PUcgnVG2i0EBz4",
         "3402",
         "191.0",
         "0.05614344503233392"
        ],
        [
         "6",
         "R_32UZncFA03IrQwQ",
         "3012",
         "241.0",
         "0.0800132802124834"
        ],
        [
         "7",
         "R_1rwrLVr6jBONnIg",
         "2987",
         "329.0",
         "0.11014395714763978"
        ],
        [
         "8",
         "R_1NDq0rxoUSu6oyz",
         "2909",
         "317.0",
         "0.10897215537985562"
        ],
        [
         "9",
         "R_3R4b0PxgHJiXxVD",
         "2908",
         "290.0",
         "0.09972489683631362"
        ],
        [
         "10",
         "R_bJI8lmXMZWL6oql",
         "2898",
         "176.0",
         "0.06073153899240856"
        ],
        [
         "11",
         "R_2z7rLZb69WuqDdf",
         "2876",
         "236.0",
         "0.08205841446453407"
        ],
        [
         "12",
         "R_3G1gYo1d23Zq8Np",
         "2800",
         "137.0",
         "0.048928571428571425"
        ],
        [
         "13",
         "R_32Mm71oAJq2K9XK",
         "2752",
         "233.0",
         "0.0846656976744186"
        ],
        [
         "14",
         "R_2VyUSFk11bbTVej",
         "2716",
         "151.0",
         "0.05559646539027982"
        ],
        [
         "15",
         "R_1C4nKyrv0w2thJn",
         "2646",
         "273.0",
         "0.10317460317460317"
        ],
        [
         "16",
         "R_r3IM83Ecq7eY7QJ",
         "2628",
         "148.0",
         "0.0563165905631659"
        ],
        [
         "17",
         "R_1NCzj2eSHI4QGcd",
         "2627",
         "198.0",
         "0.07537114579368101"
        ],
        [
         "18",
         "R_BWhnv4EdbhSS6rf",
         "2592",
         "203.0",
         "0.0783179012345679"
        ],
        [
         "19",
         "R_ZkokwdIEZybYo9z",
         "2579",
         "164.0",
         "0.06359053896859247"
        ],
        [
         "20",
         "R_2XoI6KbLJRGFz5X",
         "2573",
         "285.0",
         "0.11076564321803342"
        ],
        [
         "21",
         "R_VOnKIVzg9qHTJbH",
         "2542",
         "283.0",
         "0.11132966168371361"
        ],
        [
         "22",
         "R_3PTYPbg6N9x8PBX",
         "2520",
         "246.0",
         "0.09761904761904762"
        ],
        [
         "23",
         "R_1o4IsRkXnLlSU6K",
         "2519",
         "218.0",
         "0.08654227868201668"
        ],
        [
         "24",
         "R_1Iy2gQsVfTKf9TT",
         "2496",
         "245.0",
         "0.09815705128205128"
        ],
        [
         "25",
         "R_10CAlrx7dbJty9R",
         "2490",
         "255.0",
         "0.10240963855421686"
        ],
        [
         "26",
         "R_AM0OvM0F9kBvqal",
         "2483",
         "211.0",
         "0.08497784937575513"
        ],
        [
         "27",
         "R_1Q9JeeKncbbLcz0",
         "2452",
         "258.0",
         "0.10522022838499184"
        ],
        [
         "28",
         "R_AKBlDprDMrv4M7v",
         "2399",
         "177.0",
         "0.07378074197582327"
        ],
        [
         "29",
         "R_e8KTElZZLWryLWp",
         "2376",
         "155.0",
         "0.06523569023569023"
        ],
        [
         "30",
         "R_24nLvo5DCDemQ4Q",
         "2374",
         "162.0",
         "0.06823925863521482"
        ],
        [
         "31",
         "R_pMnqpu31myYoxy1",
         "2330",
         "185.0",
         "0.07939914163090128"
        ],
        [
         "32",
         "R_1ONsVOpSDE6jAfT",
         "2311",
         "144.0",
         "0.06231068801384682"
        ],
        [
         "33",
         "R_3GiWheWDtygg0V2",
         "2305",
         "236.0",
         "0.10238611713665943"
        ],
        [
         "35",
         "R_4PhRzF4UI9ooLh7",
         "2238",
         "270.0",
         "0.12064343163538874"
        ],
        [
         "36",
         "R_cMxn243TpGjgbWp",
         "2231",
         "159.0",
         "0.0712684894666069"
        ],
        [
         "37",
         "R_Z4qMkqhWSmIbdSh",
         "2226",
         "92.0",
         "0.04132973944294699"
        ],
        [
         "38",
         "R_3socPWD3wXD0iDP",
         "2222",
         "242.0",
         "0.10891089108910891"
        ],
        [
         "40",
         "R_A5sbkTmUYGXhO3n",
         "2183",
         "231.0",
         "0.10581768208886853"
        ],
        [
         "41",
         "R_Xt4H8BJ1Vx7ws8h",
         "2179",
         "81.0",
         "0.03717301514456173"
        ],
        [
         "42",
         "R_3qasyWogYKMo0FR",
         "2155",
         "210.0",
         "0.09744779582366589"
        ],
        [
         "43",
         "R_2YR2Yn7wGzAeAj0",
         "2143",
         "128.0",
         "0.059729351376574896"
        ],
        [
         "44",
         "R_2qxZ0v6uaLBRkV7",
         "2133",
         "213.0",
         "0.09985935302390998"
        ],
        [
         "45",
         "R_9BuaSujzfvulXoJ",
         "2076",
         "313.0",
         "0.15077071290944125"
        ],
        [
         "46",
         "R_2alybIrtMFx3zDD",
         "2046",
         "163.0",
         "0.07966764418377321"
        ],
        [
         "47",
         "R_b8UnkZJoU93ZxEB",
         "2036",
         "244.0",
         "0.11984282907662082"
        ],
        [
         "49",
         "R_2yplkUxhAWZaFUL",
         "1990",
         "221.0",
         "0.11105527638190955"
        ],
        [
         "50",
         "R_2WAagX64hf1kdMI",
         "1979",
         "374.0",
         "0.1889843355229914"
        ],
        [
         "51",
         "R_yDsJLBJ60v26htD",
         "1960",
         "329.0",
         "0.16785714285714284"
        ],
        [
         "52",
         "R_RlSNQ6510NQghgZ",
         "1930",
         "253.0",
         "0.1310880829015544"
        ]
       ],
       "shape": {
        "columns": 4,
        "rows": 4691
       }
      },
      "text/html": [
       "<div>\n",
       "<style scoped>\n",
       "    .dataframe tbody tr th:only-of-type {\n",
       "        vertical-align: middle;\n",
       "    }\n",
       "\n",
       "    .dataframe tbody tr th {\n",
       "        vertical-align: top;\n",
       "    }\n",
       "\n",
       "    .dataframe thead th {\n",
       "        text-align: right;\n",
       "    }\n",
       "</style>\n",
       "<table border=\"1\" class=\"dataframe\">\n",
       "  <thead>\n",
       "    <tr style=\"text-align: right;\">\n",
       "      <th></th>\n",
       "      <th>Survey ResponseID</th>\n",
       "      <th>count_all</th>\n",
       "      <th>count_catnull</th>\n",
       "      <th>BuyNull_per</th>\n",
       "    </tr>\n",
       "  </thead>\n",
       "  <tbody>\n",
       "    <tr>\n",
       "      <th>0</th>\n",
       "      <td>R_8CXcySQawXPuJwJ</td>\n",
       "      <td>5377</td>\n",
       "      <td>812.0</td>\n",
       "      <td>0.151014</td>\n",
       "    </tr>\n",
       "    <tr>\n",
       "      <th>1</th>\n",
       "      <td>R_24csoaO569P4Yzz</td>\n",
       "      <td>4731</td>\n",
       "      <td>343.0</td>\n",
       "      <td>0.072501</td>\n",
       "    </tr>\n",
       "    <tr>\n",
       "      <th>2</th>\n",
       "      <td>R_2EglJpTWGEiwQYa</td>\n",
       "      <td>4259</td>\n",
       "      <td>469.0</td>\n",
       "      <td>0.110120</td>\n",
       "    </tr>\n",
       "    <tr>\n",
       "      <th>3</th>\n",
       "      <td>R_3e5g4lvddcnjkoZ</td>\n",
       "      <td>3891</td>\n",
       "      <td>300.0</td>\n",
       "      <td>0.077101</td>\n",
       "    </tr>\n",
       "    <tr>\n",
       "      <th>4</th>\n",
       "      <td>R_1QtQEfi1VAWgRM0</td>\n",
       "      <td>3859</td>\n",
       "      <td>478.0</td>\n",
       "      <td>0.123866</td>\n",
       "    </tr>\n",
       "    <tr>\n",
       "      <th>...</th>\n",
       "      <td>...</td>\n",
       "      <td>...</td>\n",
       "      <td>...</td>\n",
       "      <td>...</td>\n",
       "    </tr>\n",
       "    <tr>\n",
       "      <th>4972</th>\n",
       "      <td>R_1Ld1FGLTStOykIS</td>\n",
       "      <td>6</td>\n",
       "      <td>1.0</td>\n",
       "      <td>0.166667</td>\n",
       "    </tr>\n",
       "    <tr>\n",
       "      <th>4973</th>\n",
       "      <td>R_4GBxHAFAuFgUue5</td>\n",
       "      <td>6</td>\n",
       "      <td>0.0</td>\n",
       "      <td>0.000000</td>\n",
       "    </tr>\n",
       "    <tr>\n",
       "      <th>4975</th>\n",
       "      <td>R_XvMiL2k9rLcEJsB</td>\n",
       "      <td>6</td>\n",
       "      <td>0.0</td>\n",
       "      <td>0.000000</td>\n",
       "    </tr>\n",
       "    <tr>\n",
       "      <th>4976</th>\n",
       "      <td>R_eJOowyeZRgy7nTH</td>\n",
       "      <td>6</td>\n",
       "      <td>1.0</td>\n",
       "      <td>0.166667</td>\n",
       "    </tr>\n",
       "    <tr>\n",
       "      <th>4977</th>\n",
       "      <td>R_23ehCkgc0yrsnyb</td>\n",
       "      <td>6</td>\n",
       "      <td>0.0</td>\n",
       "      <td>0.000000</td>\n",
       "    </tr>\n",
       "  </tbody>\n",
       "</table>\n",
       "<p>4691 rows × 4 columns</p>\n",
       "</div>"
      ],
      "text/plain": [
       "      Survey ResponseID  count_all  count_catnull  BuyNull_per\n",
       "0     R_8CXcySQawXPuJwJ       5377          812.0     0.151014\n",
       "1     R_24csoaO569P4Yzz       4731          343.0     0.072501\n",
       "2     R_2EglJpTWGEiwQYa       4259          469.0     0.110120\n",
       "3     R_3e5g4lvddcnjkoZ       3891          300.0     0.077101\n",
       "4     R_1QtQEfi1VAWgRM0       3859          478.0     0.123866\n",
       "...                 ...        ...            ...          ...\n",
       "4972  R_1Ld1FGLTStOykIS          6            1.0     0.166667\n",
       "4973  R_4GBxHAFAuFgUue5          6            0.0     0.000000\n",
       "4975  R_XvMiL2k9rLcEJsB          6            0.0     0.000000\n",
       "4976  R_eJOowyeZRgy7nTH          6            1.0     0.166667\n",
       "4977  R_23ehCkgc0yrsnyb          6            0.0     0.000000\n",
       "\n",
       "[4691 rows x 4 columns]"
      ]
     },
     "execution_count": 38,
     "metadata": {},
     "output_type": "execute_result"
    }
   ],
   "source": [
    "# 시퀀스 길이가 6 미만인 유저 제거\n",
    "user_over6 = user_filtered[user_filtered['count_all'] >= 6]\n",
    "user_over6"
   ]
  },
  {
   "cell_type": "code",
   "execution_count": 39,
   "id": "adb87f66",
   "metadata": {},
   "outputs": [
    {
     "data": {
      "application/vnd.microsoft.datawrangler.viewer.v0+json": {
       "columns": [
        {
         "name": "index",
         "rawType": "int64",
         "type": "integer"
        },
        {
         "name": "Order Date",
         "rawType": "datetime64[ns]",
         "type": "datetime"
        },
        {
         "name": "Purchase Price Per Unit",
         "rawType": "float64",
         "type": "float"
        },
        {
         "name": "Title",
         "rawType": "object",
         "type": "unknown"
        },
        {
         "name": "ASIN",
         "rawType": "object",
         "type": "string"
        },
        {
         "name": "Category",
         "rawType": "object",
         "type": "unknown"
        },
        {
         "name": "Survey ResponseID",
         "rawType": "object",
         "type": "string"
        },
        {
         "name": "Rating",
         "rawType": "object",
         "type": "unknown"
        },
        {
         "name": "Rating Count",
         "rawType": "float64",
         "type": "float"
        },
        {
         "name": "Category 1",
         "rawType": "object",
         "type": "unknown"
        },
        {
         "name": "Category 2",
         "rawType": "object",
         "type": "unknown"
        },
        {
         "name": "Category 3",
         "rawType": "object",
         "type": "unknown"
        },
        {
         "name": "Category 4",
         "rawType": "object",
         "type": "unknown"
        },
        {
         "name": "Category 5",
         "rawType": "object",
         "type": "unknown"
        },
        {
         "name": "Category 6",
         "rawType": "object",
         "type": "unknown"
        },
        {
         "name": "Category 7",
         "rawType": "object",
         "type": "unknown"
        },
        {
         "name": "Category 8",
         "rawType": "object",
         "type": "unknown"
        },
        {
         "name": "group_key",
         "rawType": "object",
         "type": "unknown"
        }
       ],
       "ref": "aaa03d13-6424-4150-b994-7cec7624fdc8",
       "rows": [
        [
         "0",
         "2018-12-04 00:00:00",
         "7.98",
         "SanDisk Ultra 16GB Class 10 SDHC UHS-I Memory Card up to 80MB/s (SDSDUNC-016G-GN6IN)",
         "B0143RTB1E",
         "FLASH_MEMORY",
         "R_01vNIayewjIIKMF",
         "4.7",
         "118698.0",
         "Electronics",
         "Computers & Accessories",
         "Computer Accessories & Peripherals",
         "Memory Cards",
         "SD Cards",
         null,
         null,
         null,
         "('Electronics', 'Computers & Accessories', 'Computer Accessories & Peripherals', 'Memory Cards', 'SD Cards')"
        ],
        [
         "1",
         "2018-12-22 00:00:00",
         "13.99",
         "Betron BS10 Earphones Wired Headphones in Ear Noise Isolating Earbuds with Microphone and Volume Control Powerful Bass Driven Sound, 12mm Large Drivers, Ergonomic Design",
         "B01MA1MJ6H",
         "HEADPHONES",
         "R_01vNIayewjIIKMF",
         "4.2",
         "26525.0",
         "Electronics",
         "Headphones, Earbuds & Accessories",
         "Headphones & Earbuds",
         "Earbud Headphones",
         null,
         null,
         null,
         null,
         "('Electronics', 'Headphones, Earbuds & Accessories', 'Headphones & Earbuds', 'Earbud Headphones')"
        ],
        [
         "2",
         "2018-12-24 00:00:00",
         "8.99",
         null,
         "B078JZTFN3",
         null,
         "R_01vNIayewjIIKMF",
         null,
         null,
         null,
         null,
         null,
         null,
         null,
         null,
         null,
         null,
         "unknown"
        ],
        [
         "3",
         "2018-12-25 00:00:00",
         "10.45",
         "Perfecto Stainless Steel Shaving Bowl. Durable Metal Mug For Shaving Soap & Cream. Perfect Addition To Your Wet Shaving Kit. Double Layer Smooth Shave Unbreakable Mug With Heat Insulation",
         "B06XWF9HML",
         "DISHWARE_BOWL",
         "R_01vNIayewjIIKMF",
         "4.6",
         "908.0",
         "Beauty & Personal Care",
         "Shave & Hair Removal",
         "Men's",
         "Shaving Accessories",
         "Shaving Soap Bowls",
         null,
         null,
         null,
         "('Beauty & Personal Care', 'Shave & Hair Removal', \"Men's\", 'Shaving Accessories', 'Shaving Soap Bowls')"
        ],
        [
         "4",
         "2018-12-25 00:00:00",
         "10.0",
         "Proraso Shaving Cream for Men",
         "B00837ZOI0",
         "SHAVING_AGENT",
         "R_01vNIayewjIIKMF",
         "4.7",
         "12344.0",
         "Beauty & Personal Care",
         "Shave & Hair Removal",
         "Men's",
         "Shaving Creams, Lotions & Gels",
         "Shaving Creams",
         null,
         null,
         null,
         "('Beauty & Personal Care', 'Shave & Hair Removal', \"Men's\", 'Shaving Creams, Lotions & Gels', 'Shaving Creams')"
        ],
        [
         "5",
         "2019-02-18 00:00:00",
         "10.99",
         "Micro USB Cable Android Charger - Syncwire [2-Pack 6.6ft] Super-Durable Nylon Braided Fast Sync&Charging Cord for Samsung Galaxy S7 Edge/S7/S6, HTC, LG, Sony, Xbox One, PS4 - Space Grey",
         "B01GFB2E9M",
         "COMPUTER_PROCESSOR",
         "R_01vNIayewjIIKMF",
         "4.5",
         "25562.0",
         "Electronics",
         "Computers & Accessories",
         "Computer Accessories & Peripherals",
         "Cables & Accessories",
         "Cables & Interconnects",
         "USB Cables",
         null,
         null,
         "('Electronics', 'Computers & Accessories', 'Computer Accessories & Peripherals', 'Cables & Accessories', 'Cables & Interconnects', 'USB Cables')"
        ],
        [
         "6",
         "2019-02-18 00:00:00",
         "4.99",
         "Amazon Basics USB 2.0 Charger Cable - A-Male to Mini-B Cord - 3 Feet (0.9 Meters)",
         "B00NH13S44",
         "COMPUTER_ADD_ON",
         "R_01vNIayewjIIKMF",
         "4.6",
         "65376.0",
         "Electronics",
         "Computers & Accessories",
         "Computer Accessories & Peripherals",
         "Cables & Accessories",
         "Cables & Interconnects",
         "USB Cables",
         null,
         null,
         "('Electronics', 'Computers & Accessories', 'Computer Accessories & Peripherals', 'Cables & Accessories', 'Cables & Interconnects', 'USB Cables')"
        ],
        [
         "7",
         "2019-03-15 00:00:00",
         "124.99",
         "Fire HD 8 Tablet (8\" HD Display, 32 GB, without Special Offers) - Black (Previous Generation - 8th)",
         "B077H6L7T9",
         "AMAZON_TABLET",
         "R_01vNIayewjIIKMF",
         "4.4",
         "93211.0",
         null,
         null,
         null,
         null,
         null,
         null,
         null,
         null,
         "unknown"
        ],
        [
         "8",
         "2019-04-23 00:00:00",
         "12.99",
         "Men's Leather Belt, Ratchet Dress Belt with Automatic Buckle for Father's Day Gift by WERFORU",
         "B07L84ZZXC",
         "APPAREL_BELT",
         "R_01vNIayewjIIKMF",
         "4.3",
         "148.0",
         "Clothing, Shoes & Jewelry",
         "Sport Specific Clothing",
         "Golf",
         "Men",
         "Accessories",
         "Belts",
         null,
         null,
         "('Clothing, Shoes & Jewelry', 'Sport Specific Clothing', 'Golf', 'Men', 'Accessories', 'Belts')"
        ],
        [
         "9",
         "2019-04-23 00:00:00",
         "24.69",
         null,
         "B06XKNWJN2",
         null,
         "R_01vNIayewjIIKMF",
         null,
         null,
         null,
         null,
         null,
         null,
         null,
         null,
         null,
         null,
         "unknown"
        ],
        [
         "10",
         "2019-05-02 00:00:00",
         "9.99",
         "UGREEN Tablet Stand Holder Adjustable Portable Desktop Holder Dock Compatible for iPad 10.2 iPad Pro 11 Inch iPad 9.7 iPad Mini 5 4 3 2 iPad Air iPhone 13 12 Pro Max 11 XS XR Black",
         "B07CG71KQ1",
         "PORTABLE_ELECTRONIC_DEVICE_STAND",
         "R_01vNIayewjIIKMF",
         "4.5",
         "51012.0",
         "Electronics",
         "Computers & Accessories",
         "Tablet Accessories",
         "Stands",
         null,
         null,
         null,
         null,
         "('Electronics', 'Computers & Accessories', 'Tablet Accessories', 'Stands')"
        ],
        [
         "11",
         "2019-05-02 00:00:00",
         "12.79",
         "Betron B25 in-Ear Headphones Earphones with Microphone and Volume Controller, Noise Isolating Earbud Tips, 3.5mm Head Phone Jack",
         "B079GFF4HZ",
         "HEADPHONES",
         "R_01vNIayewjIIKMF",
         "4.1",
         "5730.0",
         "Electronics",
         "Headphones, Earbuds & Accessories",
         "Headphones & Earbuds",
         "Earbud Headphones",
         null,
         null,
         null,
         null,
         "('Electronics', 'Headphones, Earbuds & Accessories', 'Headphones & Earbuds', 'Earbud Headphones')"
        ],
        [
         "12",
         "2019-05-11 00:00:00",
         "9.14",
         "NEW Norpro Instant Immersion Heater Coffee/Tea/Soup Electric Water Portable Reheater",
         "B01M0Q84BR",
         "IMMERSION_HEATER",
         "R_01vNIayewjIIKMF",
         "4.1",
         "2718.0",
         "Home & Kitchen",
         "Kitchen & Dining",
         "Coffee, Tea & Espresso",
         "Kettles & Tea Machines",
         "Electric Kettles",
         null,
         null,
         null,
         "('Home & Kitchen', 'Kitchen & Dining', 'Coffee, Tea & Espresso', 'Kettles & Tea Machines', 'Electric Kettles')"
        ],
        [
         "13",
         "2019-05-16 00:00:00",
         "9.99",
         "Betron BS10 Earphones Wired Headphones in Ear Noise Isolating Earbuds with Microphone and Volume Control Powerful Bass Driven Sound, 12mm Large Drivers, Ergonomic Design",
         "B01MA1MJ6H",
         "HEADPHONES",
         "R_01vNIayewjIIKMF",
         "4.2",
         "26525.0",
         "Electronics",
         "Headphones, Earbuds & Accessories",
         "Headphones & Earbuds",
         "Earbud Headphones",
         null,
         null,
         null,
         null,
         "('Electronics', 'Headphones, Earbuds & Accessories', 'Headphones & Earbuds', 'Earbud Headphones')"
        ],
        [
         "14",
         "2019-06-15 00:00:00",
         "19.99",
         "SanDisk 128GB Ultra MicroSDXC UHS-I Memory Card with Adapter - 100MB/s, C10, U1, Full HD, A1, Micro SD Card - SDSQUAR-128G-GN6MA",
         "B073JYC4XM",
         "FLASH_MEMORY",
         "R_01vNIayewjIIKMF",
         "4.7",
         "219383.0",
         "Electronics",
         "Computers & Accessories",
         "Computer Accessories & Peripherals",
         "Memory Cards",
         "Micro SD Cards",
         null,
         null,
         null,
         "('Electronics', 'Computers & Accessories', 'Computer Accessories & Peripherals', 'Memory Cards', 'Micro SD Cards')"
        ],
        [
         "15",
         "2019-06-15 00:00:00",
         "14.72",
         "Slippery Stuff, 16 oz Gel, Clear, Pound , Unscented, 1 Count (LU031)",
         "B00I7DT454",
         "BODY_LUBRICANT",
         "R_01vNIayewjIIKMF",
         "4.6",
         "1716.0",
         "Health & Household",
         "Sexual Wellness",
         "Safer Sex",
         "Lubricants",
         null,
         null,
         null,
         null,
         "('Health & Household', 'Sexual Wellness', 'Safer Sex', 'Lubricants')"
        ],
        [
         "16",
         "2019-06-25 00:00:00",
         "9.99",
         "Betron BS10 Earphones Wired Headphones in Ear Noise Isolating Earbuds with Microphone and Volume Control Powerful Bass Driven Sound, 12mm Large Drivers, Ergonomic Design",
         "B01MA1MJ6H",
         "HEADPHONES",
         "R_01vNIayewjIIKMF",
         "4.2",
         "26525.0",
         "Electronics",
         "Headphones, Earbuds & Accessories",
         "Headphones & Earbuds",
         "Earbud Headphones",
         null,
         null,
         null,
         null,
         "('Electronics', 'Headphones, Earbuds & Accessories', 'Headphones & Earbuds', 'Earbud Headphones')"
        ],
        [
         "17",
         "2019-07-14 00:00:00",
         "26.77",
         "Logitech M570 Wireless Trackball Mouse – Ergonomic Design with Sculpted Right-Hand Shape, Compatible with Apple Mac / Microsoft, USB Unifying Receiver, Dark Gray (Discontinued by Manufacturer)",
         "B0043T7FXE",
         "INPUT_MOUSE",
         "R_01vNIayewjIIKMF",
         "4.6",
         "45851.0",
         "Electronics",
         "Computers & Accessories",
         "Computer Accessories & Peripherals",
         "Keyboards, Mice & Accessories",
         "Mice",
         null,
         null,
         null,
         "('Electronics', 'Computers & Accessories', 'Computer Accessories & Peripherals', 'Keyboards, Mice & Accessories', 'Mice')"
        ],
        [
         "18",
         "2019-08-02 00:00:00",
         "12.99",
         "Betron BS10 Earphones Wired in Ear Earbud Headphones Strong Bass Noise Isolating Ear Buds 3.5mm Jack Tangle-Free Cord Compatible with Tablet Laptop iPhone iPad Smartphones",
         "B01M2V05RE",
         "HEADPHONES",
         "R_01vNIayewjIIKMF",
         "4.2",
         "26525.0",
         "Electronics",
         "Headphones, Earbuds & Accessories",
         "Headphones & Earbuds",
         "Earbud Headphones",
         null,
         null,
         null,
         null,
         "('Electronics', 'Headphones, Earbuds & Accessories', 'Headphones & Earbuds', 'Earbud Headphones')"
        ],
        [
         "19",
         "2019-08-10 00:00:00",
         "7.95",
         "TUDIA Motorola Moto G6 Case, Full-Matte Lightweight [Arch S] TPU Bumper Shock Absorption Cover for Motorola Moto G6 (Black)",
         "B07BCZMBNR",
         "CELLULAR_PHONE_CASE",
         "R_01vNIayewjIIKMF",
         "4.3",
         "113.0",
         "Cell Phones & Accessories",
         "Cases, Holsters & Sleeves",
         "Basic Cases",
         null,
         null,
         null,
         null,
         null,
         "('Cell Phones & Accessories', 'Cases, Holsters & Sleeves', 'Basic Cases')"
        ],
        [
         "20",
         "2019-09-06 00:00:00",
         "53.95",
         "WOWMAX Triangular Reading Pillow Large Bolster Headboard Backrest Positioning Support Wedge Pillow, Pillow for Day Bed Bunk Bed with Removable Cover Jean Blue 39x8x20inch",
         "B075CMYT43",
         "BODY_POSITIONER",
         "R_01vNIayewjIIKMF",
         null,
         null,
         null,
         null,
         null,
         null,
         null,
         null,
         null,
         null,
         "unknown"
        ],
        [
         "21",
         "2019-09-09 00:00:00",
         "19.99",
         "KROSER Laptop Bag 15.6 Inch Briefcase Shoulder Bag Water Repellent Laptop Bag Satchel Tablet Bussiness Carrying Handbag Laptop Sleeve for Women and Men-Charcoal Black",
         "B01MZ956SX",
         "HANDBAG",
         "R_01vNIayewjIIKMF",
         "4.6",
         "8153.0",
         "Electronics",
         "Computers & Accessories",
         "Laptop Accessories",
         "Bags, Cases & Sleeves",
         "Messenger & Shoulder Bags",
         null,
         null,
         null,
         "('Electronics', 'Computers & Accessories', 'Laptop Accessories', 'Bags, Cases & Sleeves', 'Messenger & Shoulder Bags')"
        ],
        [
         "22",
         "2019-09-09 00:00:00",
         "14.99",
         "Gildan Men's Boxer Briefs, Multipack",
         "B07JCJP1DK",
         "UNDERPANTS",
         "R_01vNIayewjIIKMF",
         "4.6",
         "126192.0",
         "Clothing, Shoes & Jewelry",
         "Men",
         "Clothing",
         "Underwear",
         "Boxer Briefs",
         null,
         null,
         null,
         "('Clothing, Shoes & Jewelry', 'Men', 'Clothing', 'Underwear', 'Boxer Briefs')"
        ],
        [
         "23",
         "2019-09-13 00:00:00",
         "14.99",
         "Gildan Men's Boxer Briefs, Multipack",
         "B07JD5B8SP",
         "UNDERPANTS",
         "R_01vNIayewjIIKMF",
         "4.6",
         "126192.0",
         "Clothing, Shoes & Jewelry",
         "Men",
         "Clothing",
         "Underwear",
         "Boxer Briefs",
         null,
         null,
         null,
         "('Clothing, Shoes & Jewelry', 'Men', 'Clothing', 'Underwear', 'Boxer Briefs')"
        ],
        [
         "24",
         "2019-09-13 00:00:00",
         "4.85",
         "Tape Measure for Body Measuring Tape for Body Measurements Tape Tailor Clothing",
         "B071XGLB1S",
         "TAPE_MEASURE",
         "R_01vNIayewjIIKMF",
         "4.7",
         "16555.0",
         "Arts, Crafts & Sewing",
         "Sewing",
         "Sewing Notions & Supplies",
         "Sewing Tools",
         "Tape Measures & Rulers",
         "Tape Measures",
         null,
         null,
         "('Arts, Crafts & Sewing', 'Sewing', 'Sewing Notions & Supplies', 'Sewing Tools', 'Tape Measures & Rulers', 'Tape Measures')"
        ],
        [
         "25",
         "2019-09-13 00:00:00",
         "8.95",
         "Poetic SlimFolio case for All-New Amazon Fire HD 8 Tablet (7th and 8th Generation, 2017 and 2018 Release) - Slim Leather Stand Folio Smart Cover Case with Auto Wake/Sleep - Black",
         "B071ZBV7DY",
         "AMAZON_TABLET_ACCESSORY",
         "R_01vNIayewjIIKMF",
         "4.3",
         "251.0",
         null,
         null,
         null,
         null,
         null,
         null,
         null,
         null,
         "unknown"
        ],
        [
         "26",
         "2019-09-27 00:00:00",
         "139.99",
         "WD 8TB Elements Desktop External Hard Drive, USB 3.0 external hard drive for plug-and-play storage - WDBWLG0080HBK-NESN",
         "B07D5V2ZXD",
         "COMPUTER_DRIVE_OR_STORAGE",
         "R_01vNIayewjIIKMF",
         "4.5",
         "23940.0",
         "Electronics",
         "Computers & Accessories",
         "Data Storage",
         "External Hard Drives",
         null,
         null,
         null,
         null,
         "('Electronics', 'Computers & Accessories', 'Data Storage', 'External Hard Drives')"
        ],
        [
         "27",
         "2019-09-28 00:00:00",
         "7.92",
         "Colgate Cavity Protection Toothpaste with Fluoride, Great Regular Flavor, 6 Ounce Tube, 6 Pack",
         "B01BNEWDFQ",
         "TOOTH_CLEANING_AGENT",
         "R_01vNIayewjIIKMF",
         "4.8",
         "63243.0",
         "Health & Household",
         "Oral Care",
         "Toothpaste",
         null,
         null,
         null,
         null,
         null,
         "('Health & Household', 'Oral Care', 'Toothpaste')"
        ],
        [
         "28",
         "2019-09-28 00:00:00",
         "19.99",
         "Scott 1000 Sheets Per Roll Toilet Paper, 27 Rolls, Bath Tissue",
         "B01NBYY28W",
         "TOILET_PAPER",
         "R_01vNIayewjIIKMF",
         "4.6",
         "8570.0",
         "Health & Household",
         "Household Supplies",
         "Tissues, Toilet Paper & Sprays",
         "Toilet Paper",
         null,
         null,
         null,
         null,
         "('Health & Household', 'Household Supplies', 'Tissues, Toilet Paper & Sprays', 'Toilet Paper')"
        ],
        [
         "29",
         "2019-09-28 00:00:00",
         "3.92",
         "Crest Scope Outlast Mouthwash, Long Lasting Peppermint, 1 L",
         "B019FGCOW6",
         "MOUTHWASH",
         "R_01vNIayewjIIKMF",
         "4.7",
         "10403.0",
         "Health & Household",
         "Oral Care",
         "Mouthwash",
         null,
         null,
         null,
         null,
         null,
         "('Health & Household', 'Oral Care', 'Mouthwash')"
        ],
        [
         "30",
         "2019-10-02 00:00:00",
         "19.99",
         "Anker Powerline II USB-C to USB-C 3.1 Gen 2 Cable (3ft) with Power Delivery, for Apple MacBook, Huawei Matebook, iPad Pro 2020, Chromebook, Pixel, Switch, and More Type-C Devices/Laptops",
         "B072JYDQ7N",
         "ELECTRONIC_CABLE",
         "R_01vNIayewjIIKMF",
         "4.7",
         "4373.0",
         "Electronics",
         "Computers & Accessories",
         "Computer Accessories & Peripherals",
         "Cables & Accessories",
         "Cables & Interconnects",
         "USB Cables",
         null,
         null,
         "('Electronics', 'Computers & Accessories', 'Computer Accessories & Peripherals', 'Cables & Accessories', 'Cables & Interconnects', 'USB Cables')"
        ],
        [
         "31",
         "2019-10-02 00:00:00",
         "8.99",
         "Kingsdun 12Pcs Magnetic Torx Screwdriver Sets with T3 T4 T5 T6 T7 T8 T10 Star Screw drivers, Stainless Steel Tweezers & Philip Slotted Screwdrivers for Phone/Mac/Camera/Computer Repairing -Yellow",
         "B00MUJU33S",
         "SCREWDRIVER",
         "R_01vNIayewjIIKMF",
         "4.4",
         "5534.0",
         "Tools & Home Improvement",
         "Power & Hand Tools",
         "Hand Tools",
         "Screwdrivers & Nut Drivers",
         "Screwdriver Sets",
         null,
         null,
         null,
         "('Tools & Home Improvement', 'Power & Hand Tools', 'Hand Tools', 'Screwdrivers & Nut Drivers', 'Screwdriver Sets')"
        ],
        [
         "32",
         "2019-10-05 00:00:00",
         "25.0",
         "Best Buy Gift Cards - Email Delivery",
         "B07RTN4C77",
         "GIFT_CARD",
         "R_01vNIayewjIIKMF",
         "4.7",
         "11369.0",
         "Gift Cards",
         "Gift Cards",
         null,
         null,
         null,
         null,
         null,
         null,
         "('Gift Cards', 'Gift Cards')"
        ],
        [
         "33",
         "2019-10-06 00:00:00",
         "50.0",
         "Best Buy Gift Cards - Email Delivery",
         "B07RTN4C77",
         "GIFT_CARD",
         "R_01vNIayewjIIKMF",
         "4.7",
         "11369.0",
         "Gift Cards",
         "Gift Cards",
         null,
         null,
         null,
         null,
         null,
         null,
         "('Gift Cards', 'Gift Cards')"
        ],
        [
         "34",
         "2019-10-07 00:00:00",
         "7.49",
         "BetterBody Foods Refined Avocado Oil, Non-GMO Cooking Oil, Kosher, Keto and Paleo Diet Friendly, for High-Heat Cooking, Frying, Baking, 100% Pure Avocado Oil, 500 mL, 16.9 Fl Oz",
         "B01IQ00B04",
         "EDIBLE_OIL_VEGETABLE",
         "R_01vNIayewjIIKMF",
         "4.8",
         "25550.0",
         "Grocery & Gourmet Food",
         "Pantry Staples",
         "Cooking & Baking",
         "Cooking Oils, Vinegars & Sprays",
         "Oils",
         "Avocado",
         null,
         null,
         "('Grocery & Gourmet Food', 'Pantry Staples', 'Cooking & Baking', 'Cooking Oils, Vinegars & Sprays', 'Oils', 'Avocado')"
        ],
        [
         "35",
         "2019-10-07 00:00:00",
         "11.94",
         null,
         "B07CZ6JCZS",
         null,
         "R_01vNIayewjIIKMF",
         null,
         null,
         null,
         null,
         null,
         null,
         null,
         null,
         null,
         null,
         "unknown"
        ],
        [
         "36",
         "2019-10-07 00:00:00",
         "7.34",
         "Pompeian USDA Organic Robust Extra Virgin Olive Oil, First Cold Pressed, Full-Bodied Flavor, Perfect for Salad Dressings & Marinades, 24 FL. OZ.",
         "B017ALC6GW",
         "EDIBLE_OIL_VEGETABLE",
         "R_01vNIayewjIIKMF",
         "4.7",
         "24304.0",
         "Grocery & Gourmet Food",
         "Pantry Staples",
         "Cooking & Baking",
         "Cooking Oils, Vinegars & Sprays",
         "Oils",
         "Olive",
         null,
         null,
         "('Grocery & Gourmet Food', 'Pantry Staples', 'Cooking & Baking', 'Cooking Oils, Vinegars & Sprays', 'Oils', 'Olive')"
        ],
        [
         "37",
         "2019-10-12 00:00:00",
         "45.0",
         "$15/Month Mint Mobile Phone Plan | 4GB of 5G • 4G LTE Data + Unlimited Talk & Text for 3 Months (3-in-1 SIM Card)",
         "B0741FV7ZV",
         "SIM_CARD",
         "R_01vNIayewjIIKMF",
         "4.2",
         "18114.0",
         "Cell Phones & Accessories",
         "SIM Cards & Prepaid Minutes",
         "SIM Cards",
         null,
         null,
         null,
         null,
         null,
         "('Cell Phones & Accessories', 'SIM Cards & Prepaid Minutes', 'SIM Cards')"
        ],
        [
         "38",
         "2019-10-16 00:00:00",
         "54.99",
         "ZINUS SmartBase Tool-Free Assembly Mattress Foundation / 14 Inch Metal Platform Bed Frame / No Box Spring Needed / Sturdy Steel Frame / Underbed Storage, Black, Twin, Regular",
         "B006MIPW70",
         "BED_FRAME",
         "R_01vNIayewjIIKMF",
         "4.6",
         "104448.0",
         "Home & Kitchen",
         "Furniture",
         "Bedroom Furniture",
         "Beds, Frames & Bases",
         "Bed Frames",
         null,
         null,
         null,
         "('Home & Kitchen', 'Furniture', 'Bedroom Furniture', 'Beds, Frames & Bases', 'Bed Frames')"
        ],
        [
         "39",
         "2019-10-18 00:00:00",
         "4.2",
         "McCormick Black Peppercorn Grinder, 2.5 oz",
         "B01LZKYNIM",
         "HERB",
         "R_01vNIayewjIIKMF",
         "4.8",
         "12909.0",
         "Grocery & Gourmet Food",
         "Pantry Staples",
         "Herbs, Spices & Seasonings",
         "Pepper & Peppercorns",
         "Peppercorns",
         null,
         null,
         null,
         "('Grocery & Gourmet Food', 'Pantry Staples', 'Herbs, Spices & Seasonings', 'Pepper & Peppercorns', 'Peppercorns')"
        ],
        [
         "40",
         "2019-10-18 00:00:00",
         "14.26",
         null,
         "B00KVM2SSO",
         null,
         "R_01vNIayewjIIKMF",
         null,
         null,
         null,
         null,
         null,
         null,
         null,
         null,
         null,
         null,
         "unknown"
        ],
        [
         "41",
         "2019-10-31 00:00:00",
         "4.99",
         "Dietz & Watson deli Sliced Black Forest Smoked Ham, 0.5 lbs",
         "B00NC8QEKM",
         "MEAT",
         "R_01vNIayewjIIKMF",
         "4.4",
         "699.0",
         "Grocery & Gourmet Food",
         "Deli & Prepared Foods",
         "Deli Meats & Cheeses",
         "Prepackaged Deli Meats",
         "Ham",
         null,
         null,
         null,
         "('Grocery & Gourmet Food', 'Deli & Prepared Foods', 'Deli Meats & Cheeses', 'Prepackaged Deli Meats', 'Ham')"
        ],
        [
         "42",
         "2019-10-31 00:00:00",
         "3.79",
         "Kerrygold Pure Irish Butter, Salted, 8 oz",
         "B0011EKWBQ",
         "DAIRY_BASED_BUTTER",
         "R_01vNIayewjIIKMF",
         "4.9",
         "19290.0",
         "Grocery & Gourmet Food",
         "Dairy, Eggs & Plant-Based Alternatives",
         "Butter, Margarine & Plant-Based Alternatives",
         "Butter",
         null,
         null,
         null,
         null,
         "('Grocery & Gourmet Food', 'Dairy, Eggs & Plant-Based Alternatives', 'Butter, Margarine & Plant-Based Alternatives', 'Butter')"
        ],
        [
         "43",
         "2019-10-31 00:00:00",
         "4.99",
         "Dietz & Watson Sliced Mozzarella Cheese, 0.5 lbs",
         "B00NC882CA",
         "DAIRY_BASED_CHEESE",
         "R_01vNIayewjIIKMF",
         "4.6",
         "291.0",
         "Grocery & Gourmet Food",
         "Dairy, Eggs & Plant-Based Alternatives",
         "Packaged Cheese",
         "Mozzarella",
         null,
         null,
         null,
         null,
         "('Grocery & Gourmet Food', 'Dairy, Eggs & Plant-Based Alternatives', 'Packaged Cheese', 'Mozzarella')"
        ],
        [
         "44",
         "2019-10-31 00:00:00",
         "10.98",
         "Jack Links Premium Cuts Beef Steak, Original, Strips -Great Protein Snack with 11g of Protein and 1g of Carbs Per Serving, Made with Beef, 1 Ounce (Pack of 12)",
         "B00B9GUZP4",
         "JERKY",
         "R_01vNIayewjIIKMF",
         "4.6",
         "15033.0",
         "Grocery & Gourmet Food",
         "Snacks & Sweets",
         "Snack Foods",
         "Meat Snacks",
         "Jerky",
         null,
         null,
         null,
         "('Grocery & Gourmet Food', 'Snacks & Sweets', 'Snack Foods', 'Meat Snacks', 'Jerky')"
        ],
        [
         "45",
         "2019-11-25 00:00:00",
         "3.75",
         "Wet Naturals Beautifully Bare - 3.3 fl oz",
         "B000QD9C8M",
         "BODY_LUBRICANT",
         "R_01vNIayewjIIKMF",
         "4.3",
         "264.0",
         "Health & Household",
         "Sexual Wellness",
         "Safer Sex",
         "Lubricants",
         null,
         null,
         null,
         null,
         "('Health & Household', 'Sexual Wellness', 'Safer Sex', 'Lubricants')"
        ],
        [
         "46",
         "2019-11-25 00:00:00",
         "17.69",
         "Tracy's Dog Male Masturbators Pocket Pussy Realistic Stroker Lifelike Vaginal Oral Sex Toys for Man Masturbation (Flesh)",
         "B01LZ5SB6U",
         "SEXUAL_STIMULATION_DEVICE",
         "R_01vNIayewjIIKMF",
         "4.0",
         "3415.0",
         "Health & Household",
         "Sexual Wellness",
         "Adult Toys & Games",
         "Sex Toys",
         "Male Masturbators",
         null,
         null,
         null,
         "('Health & Household', 'Sexual Wellness', 'Adult Toys & Games', 'Sex Toys', 'Male Masturbators')"
        ],
        [
         "47",
         "2019-12-02 00:00:00",
         "27.99",
         "SAMSUNG (MB-ME256GA/AM) 256GB 100MB/s (U3) MicroSDXC EVO Select Memory Card with Full-Size Adapter",
         "B072HRDM55",
         "FLASH_MEMORY",
         "R_01vNIayewjIIKMF",
         "4.7",
         "142718.0",
         "Electronics",
         "Computers & Accessories",
         "Computer Accessories & Peripherals",
         "Memory Cards",
         "Micro SD Cards",
         null,
         null,
         null,
         "('Electronics', 'Computers & Accessories', 'Computer Accessories & Peripherals', 'Memory Cards', 'Micro SD Cards')"
        ],
        [
         "48",
         "2019-12-02 00:00:00",
         "10.49",
         "LubeLife Water-Based Personal Lubricant, Lube for Men, Women and Couples, Non-Staining, 12 Fl Oz",
         "B07DGQ4QR3",
         "BODY_LUBRICANT",
         "R_01vNIayewjIIKMF",
         "4.5",
         "166209.0",
         "Health & Household",
         "Sexual Wellness",
         "Safer Sex",
         "Lubricants",
         null,
         null,
         null,
         null,
         "('Health & Household', 'Sexual Wellness', 'Safer Sex', 'Lubricants')"
        ],
        [
         "49",
         "2019-12-13 00:00:00",
         "16.99",
         "SAMSUNG (MB-ME128GA/AM) 128GB 100MB/s (U3) MicroSDXC EVO Select Memory Card with Full-Size Adapter",
         "B06XWZWYVP",
         "FLASH_MEMORY",
         "R_01vNIayewjIIKMF",
         "4.7",
         "142718.0",
         "Electronics",
         "Computers & Accessories",
         "Computer Accessories & Peripherals",
         "Memory Cards",
         "Micro SD Cards",
         null,
         null,
         null,
         "('Electronics', 'Computers & Accessories', 'Computer Accessories & Peripherals', 'Memory Cards', 'Micro SD Cards')"
        ]
       ],
       "shape": {
        "columns": 17,
        "rows": 1771243
       }
      },
      "text/html": [
       "<div>\n",
       "<style scoped>\n",
       "    .dataframe tbody tr th:only-of-type {\n",
       "        vertical-align: middle;\n",
       "    }\n",
       "\n",
       "    .dataframe tbody tr th {\n",
       "        vertical-align: top;\n",
       "    }\n",
       "\n",
       "    .dataframe thead th {\n",
       "        text-align: right;\n",
       "    }\n",
       "</style>\n",
       "<table border=\"1\" class=\"dataframe\">\n",
       "  <thead>\n",
       "    <tr style=\"text-align: right;\">\n",
       "      <th></th>\n",
       "      <th>Order Date</th>\n",
       "      <th>Purchase Price Per Unit</th>\n",
       "      <th>Title</th>\n",
       "      <th>ASIN</th>\n",
       "      <th>Category</th>\n",
       "      <th>Survey ResponseID</th>\n",
       "      <th>Rating</th>\n",
       "      <th>Rating Count</th>\n",
       "      <th>Category 1</th>\n",
       "      <th>Category 2</th>\n",
       "      <th>Category 3</th>\n",
       "      <th>Category 4</th>\n",
       "      <th>Category 5</th>\n",
       "      <th>Category 6</th>\n",
       "      <th>Category 7</th>\n",
       "      <th>Category 8</th>\n",
       "      <th>group_key</th>\n",
       "    </tr>\n",
       "  </thead>\n",
       "  <tbody>\n",
       "    <tr>\n",
       "      <th>0</th>\n",
       "      <td>2018-12-04</td>\n",
       "      <td>7.98</td>\n",
       "      <td>SanDisk Ultra 16GB Class 10 SDHC UHS-I Memory ...</td>\n",
       "      <td>B0143RTB1E</td>\n",
       "      <td>FLASH_MEMORY</td>\n",
       "      <td>R_01vNIayewjIIKMF</td>\n",
       "      <td>4.7</td>\n",
       "      <td>118698.0</td>\n",
       "      <td>Electronics</td>\n",
       "      <td>Computers &amp; Accessories</td>\n",
       "      <td>Computer Accessories &amp; Peripherals</td>\n",
       "      <td>Memory Cards</td>\n",
       "      <td>SD Cards</td>\n",
       "      <td>NaN</td>\n",
       "      <td>NaN</td>\n",
       "      <td>NaN</td>\n",
       "      <td>(Electronics, Computers &amp; Accessories, Compute...</td>\n",
       "    </tr>\n",
       "    <tr>\n",
       "      <th>1</th>\n",
       "      <td>2018-12-22</td>\n",
       "      <td>13.99</td>\n",
       "      <td>Betron BS10 Earphones Wired Headphones in Ear ...</td>\n",
       "      <td>B01MA1MJ6H</td>\n",
       "      <td>HEADPHONES</td>\n",
       "      <td>R_01vNIayewjIIKMF</td>\n",
       "      <td>4.2</td>\n",
       "      <td>26525.0</td>\n",
       "      <td>Electronics</td>\n",
       "      <td>Headphones, Earbuds &amp; Accessories</td>\n",
       "      <td>Headphones &amp; Earbuds</td>\n",
       "      <td>Earbud Headphones</td>\n",
       "      <td>NaN</td>\n",
       "      <td>NaN</td>\n",
       "      <td>NaN</td>\n",
       "      <td>NaN</td>\n",
       "      <td>(Electronics, Headphones, Earbuds &amp; Accessorie...</td>\n",
       "    </tr>\n",
       "    <tr>\n",
       "      <th>2</th>\n",
       "      <td>2018-12-24</td>\n",
       "      <td>8.99</td>\n",
       "      <td>NaN</td>\n",
       "      <td>B078JZTFN3</td>\n",
       "      <td>NaN</td>\n",
       "      <td>R_01vNIayewjIIKMF</td>\n",
       "      <td>NaN</td>\n",
       "      <td>NaN</td>\n",
       "      <td>NaN</td>\n",
       "      <td>NaN</td>\n",
       "      <td>NaN</td>\n",
       "      <td>NaN</td>\n",
       "      <td>NaN</td>\n",
       "      <td>NaN</td>\n",
       "      <td>NaN</td>\n",
       "      <td>NaN</td>\n",
       "      <td>unknown</td>\n",
       "    </tr>\n",
       "    <tr>\n",
       "      <th>3</th>\n",
       "      <td>2018-12-25</td>\n",
       "      <td>10.45</td>\n",
       "      <td>Perfecto Stainless Steel Shaving Bowl. Durable...</td>\n",
       "      <td>B06XWF9HML</td>\n",
       "      <td>DISHWARE_BOWL</td>\n",
       "      <td>R_01vNIayewjIIKMF</td>\n",
       "      <td>4.6</td>\n",
       "      <td>908.0</td>\n",
       "      <td>Beauty &amp; Personal Care</td>\n",
       "      <td>Shave &amp; Hair Removal</td>\n",
       "      <td>Men's</td>\n",
       "      <td>Shaving Accessories</td>\n",
       "      <td>Shaving Soap Bowls</td>\n",
       "      <td>NaN</td>\n",
       "      <td>NaN</td>\n",
       "      <td>NaN</td>\n",
       "      <td>(Beauty &amp; Personal Care, Shave &amp; Hair Removal,...</td>\n",
       "    </tr>\n",
       "    <tr>\n",
       "      <th>4</th>\n",
       "      <td>2018-12-25</td>\n",
       "      <td>10.00</td>\n",
       "      <td>Proraso Shaving Cream for Men</td>\n",
       "      <td>B00837ZOI0</td>\n",
       "      <td>SHAVING_AGENT</td>\n",
       "      <td>R_01vNIayewjIIKMF</td>\n",
       "      <td>4.7</td>\n",
       "      <td>12344.0</td>\n",
       "      <td>Beauty &amp; Personal Care</td>\n",
       "      <td>Shave &amp; Hair Removal</td>\n",
       "      <td>Men's</td>\n",
       "      <td>Shaving Creams, Lotions &amp; Gels</td>\n",
       "      <td>Shaving Creams</td>\n",
       "      <td>NaN</td>\n",
       "      <td>NaN</td>\n",
       "      <td>NaN</td>\n",
       "      <td>(Beauty &amp; Personal Care, Shave &amp; Hair Removal,...</td>\n",
       "    </tr>\n",
       "    <tr>\n",
       "      <th>...</th>\n",
       "      <td>...</td>\n",
       "      <td>...</td>\n",
       "      <td>...</td>\n",
       "      <td>...</td>\n",
       "      <td>...</td>\n",
       "      <td>...</td>\n",
       "      <td>...</td>\n",
       "      <td>...</td>\n",
       "      <td>...</td>\n",
       "      <td>...</td>\n",
       "      <td>...</td>\n",
       "      <td>...</td>\n",
       "      <td>...</td>\n",
       "      <td>...</td>\n",
       "      <td>...</td>\n",
       "      <td>...</td>\n",
       "      <td>...</td>\n",
       "    </tr>\n",
       "    <tr>\n",
       "      <th>1837545</th>\n",
       "      <td>2021-04-01</td>\n",
       "      <td>6.99</td>\n",
       "      <td>Tanner's Tasty Paste Vanilla Bling - Anticavit...</td>\n",
       "      <td>B015ZRTHVA</td>\n",
       "      <td>TOOTH_CLEANING_AGENT</td>\n",
       "      <td>R_zfqnsBzlOAKibzb</td>\n",
       "      <td>4.6</td>\n",
       "      <td>4304.0</td>\n",
       "      <td>Health &amp; Household</td>\n",
       "      <td>Oral Care</td>\n",
       "      <td>Baby &amp; Child Dental Care</td>\n",
       "      <td>Children's Dental Care</td>\n",
       "      <td>Toothpaste</td>\n",
       "      <td>NaN</td>\n",
       "      <td>NaN</td>\n",
       "      <td>NaN</td>\n",
       "      <td>(Health &amp; Household, Oral Care, Baby &amp; Child D...</td>\n",
       "    </tr>\n",
       "    <tr>\n",
       "      <th>1837546</th>\n",
       "      <td>2021-04-14</td>\n",
       "      <td>15.99</td>\n",
       "      <td>Sinland Microfiber Cleaning Cloth Dish Cloth K...</td>\n",
       "      <td>B00QGCXPRG</td>\n",
       "      <td>TOWEL</td>\n",
       "      <td>R_zfqnsBzlOAKibzb</td>\n",
       "      <td>4.6</td>\n",
       "      <td>2312.0</td>\n",
       "      <td>Health &amp; Household</td>\n",
       "      <td>Household Supplies</td>\n",
       "      <td>Cleaning Tools</td>\n",
       "      <td>Cleaning Cloths</td>\n",
       "      <td>NaN</td>\n",
       "      <td>NaN</td>\n",
       "      <td>NaN</td>\n",
       "      <td>NaN</td>\n",
       "      <td>(Health &amp; Household, Household Supplies, Clean...</td>\n",
       "    </tr>\n",
       "    <tr>\n",
       "      <th>1837547</th>\n",
       "      <td>2021-05-22</td>\n",
       "      <td>6.99</td>\n",
       "      <td>Tanner's Tasty Paste Vanilla Bling - Anticavit...</td>\n",
       "      <td>B015ZRTHVA</td>\n",
       "      <td>TOOTH_CLEANING_AGENT</td>\n",
       "      <td>R_zfqnsBzlOAKibzb</td>\n",
       "      <td>4.6</td>\n",
       "      <td>4304.0</td>\n",
       "      <td>Health &amp; Household</td>\n",
       "      <td>Oral Care</td>\n",
       "      <td>Baby &amp; Child Dental Care</td>\n",
       "      <td>Children's Dental Care</td>\n",
       "      <td>Toothpaste</td>\n",
       "      <td>NaN</td>\n",
       "      <td>NaN</td>\n",
       "      <td>NaN</td>\n",
       "      <td>(Health &amp; Household, Oral Care, Baby &amp; Child D...</td>\n",
       "    </tr>\n",
       "    <tr>\n",
       "      <th>1837548</th>\n",
       "      <td>2021-12-01</td>\n",
       "      <td>6.99</td>\n",
       "      <td>Tanner's Tasty Paste Vanilla Bling - Anticavit...</td>\n",
       "      <td>B015ZRTHVA</td>\n",
       "      <td>TOOTH_CLEANING_AGENT</td>\n",
       "      <td>R_zfqnsBzlOAKibzb</td>\n",
       "      <td>4.6</td>\n",
       "      <td>4304.0</td>\n",
       "      <td>Health &amp; Household</td>\n",
       "      <td>Oral Care</td>\n",
       "      <td>Baby &amp; Child Dental Care</td>\n",
       "      <td>Children's Dental Care</td>\n",
       "      <td>Toothpaste</td>\n",
       "      <td>NaN</td>\n",
       "      <td>NaN</td>\n",
       "      <td>NaN</td>\n",
       "      <td>(Health &amp; Household, Oral Care, Baby &amp; Child D...</td>\n",
       "    </tr>\n",
       "    <tr>\n",
       "      <th>1837549</th>\n",
       "      <td>2022-09-19</td>\n",
       "      <td>19.99</td>\n",
       "      <td>Wild Mystic Oracle Card Deck: A 50-Card Deck a...</td>\n",
       "      <td>1441337652</td>\n",
       "      <td>ABIS_BOOK</td>\n",
       "      <td>R_zfqnsBzlOAKibzb</td>\n",
       "      <td>4.8</td>\n",
       "      <td>753.0</td>\n",
       "      <td>Books</td>\n",
       "      <td>Religion &amp; Spirituality</td>\n",
       "      <td>New Age &amp; Spirituality</td>\n",
       "      <td>Divination</td>\n",
       "      <td>Tarot</td>\n",
       "      <td>NaN</td>\n",
       "      <td>NaN</td>\n",
       "      <td>NaN</td>\n",
       "      <td>(Books, Religion &amp; Spirituality, New Age &amp; Spi...</td>\n",
       "    </tr>\n",
       "  </tbody>\n",
       "</table>\n",
       "<p>1771243 rows × 17 columns</p>\n",
       "</div>"
      ],
      "text/plain": [
       "        Order Date  Purchase Price Per Unit  \\\n",
       "0       2018-12-04                     7.98   \n",
       "1       2018-12-22                    13.99   \n",
       "2       2018-12-24                     8.99   \n",
       "3       2018-12-25                    10.45   \n",
       "4       2018-12-25                    10.00   \n",
       "...            ...                      ...   \n",
       "1837545 2021-04-01                     6.99   \n",
       "1837546 2021-04-14                    15.99   \n",
       "1837547 2021-05-22                     6.99   \n",
       "1837548 2021-12-01                     6.99   \n",
       "1837549 2022-09-19                    19.99   \n",
       "\n",
       "                                                     Title        ASIN  \\\n",
       "0        SanDisk Ultra 16GB Class 10 SDHC UHS-I Memory ...  B0143RTB1E   \n",
       "1        Betron BS10 Earphones Wired Headphones in Ear ...  B01MA1MJ6H   \n",
       "2                                                      NaN  B078JZTFN3   \n",
       "3        Perfecto Stainless Steel Shaving Bowl. Durable...  B06XWF9HML   \n",
       "4                            Proraso Shaving Cream for Men  B00837ZOI0   \n",
       "...                                                    ...         ...   \n",
       "1837545  Tanner's Tasty Paste Vanilla Bling - Anticavit...  B015ZRTHVA   \n",
       "1837546  Sinland Microfiber Cleaning Cloth Dish Cloth K...  B00QGCXPRG   \n",
       "1837547  Tanner's Tasty Paste Vanilla Bling - Anticavit...  B015ZRTHVA   \n",
       "1837548  Tanner's Tasty Paste Vanilla Bling - Anticavit...  B015ZRTHVA   \n",
       "1837549  Wild Mystic Oracle Card Deck: A 50-Card Deck a...  1441337652   \n",
       "\n",
       "                     Category  Survey ResponseID Rating  Rating Count  \\\n",
       "0                FLASH_MEMORY  R_01vNIayewjIIKMF    4.7      118698.0   \n",
       "1                  HEADPHONES  R_01vNIayewjIIKMF    4.2       26525.0   \n",
       "2                         NaN  R_01vNIayewjIIKMF    NaN           NaN   \n",
       "3               DISHWARE_BOWL  R_01vNIayewjIIKMF    4.6         908.0   \n",
       "4               SHAVING_AGENT  R_01vNIayewjIIKMF    4.7       12344.0   \n",
       "...                       ...                ...    ...           ...   \n",
       "1837545  TOOTH_CLEANING_AGENT  R_zfqnsBzlOAKibzb    4.6        4304.0   \n",
       "1837546                 TOWEL  R_zfqnsBzlOAKibzb    4.6        2312.0   \n",
       "1837547  TOOTH_CLEANING_AGENT  R_zfqnsBzlOAKibzb    4.6        4304.0   \n",
       "1837548  TOOTH_CLEANING_AGENT  R_zfqnsBzlOAKibzb    4.6        4304.0   \n",
       "1837549             ABIS_BOOK  R_zfqnsBzlOAKibzb    4.8         753.0   \n",
       "\n",
       "                     Category 1                         Category 2  \\\n",
       "0                   Electronics            Computers & Accessories   \n",
       "1                   Electronics  Headphones, Earbuds & Accessories   \n",
       "2                           NaN                                NaN   \n",
       "3        Beauty & Personal Care               Shave & Hair Removal   \n",
       "4        Beauty & Personal Care               Shave & Hair Removal   \n",
       "...                         ...                                ...   \n",
       "1837545      Health & Household                          Oral Care   \n",
       "1837546      Health & Household                 Household Supplies   \n",
       "1837547      Health & Household                          Oral Care   \n",
       "1837548      Health & Household                          Oral Care   \n",
       "1837549                   Books            Religion & Spirituality   \n",
       "\n",
       "                                 Category 3                      Category 4  \\\n",
       "0        Computer Accessories & Peripherals                    Memory Cards   \n",
       "1                      Headphones & Earbuds               Earbud Headphones   \n",
       "2                                       NaN                             NaN   \n",
       "3                                     Men's             Shaving Accessories   \n",
       "4                                     Men's  Shaving Creams, Lotions & Gels   \n",
       "...                                     ...                             ...   \n",
       "1837545            Baby & Child Dental Care          Children's Dental Care   \n",
       "1837546                      Cleaning Tools                 Cleaning Cloths   \n",
       "1837547            Baby & Child Dental Care          Children's Dental Care   \n",
       "1837548            Baby & Child Dental Care          Children's Dental Care   \n",
       "1837549              New Age & Spirituality                      Divination   \n",
       "\n",
       "                 Category 5 Category 6 Category 7 Category 8  \\\n",
       "0                  SD Cards        NaN        NaN        NaN   \n",
       "1                       NaN        NaN        NaN        NaN   \n",
       "2                       NaN        NaN        NaN        NaN   \n",
       "3        Shaving Soap Bowls        NaN        NaN        NaN   \n",
       "4            Shaving Creams        NaN        NaN        NaN   \n",
       "...                     ...        ...        ...        ...   \n",
       "1837545          Toothpaste        NaN        NaN        NaN   \n",
       "1837546                 NaN        NaN        NaN        NaN   \n",
       "1837547          Toothpaste        NaN        NaN        NaN   \n",
       "1837548          Toothpaste        NaN        NaN        NaN   \n",
       "1837549               Tarot        NaN        NaN        NaN   \n",
       "\n",
       "                                                 group_key  \n",
       "0        (Electronics, Computers & Accessories, Compute...  \n",
       "1        (Electronics, Headphones, Earbuds & Accessorie...  \n",
       "2                                                  unknown  \n",
       "3        (Beauty & Personal Care, Shave & Hair Removal,...  \n",
       "4        (Beauty & Personal Care, Shave & Hair Removal,...  \n",
       "...                                                    ...  \n",
       "1837545  (Health & Household, Oral Care, Baby & Child D...  \n",
       "1837546  (Health & Household, Household Supplies, Clean...  \n",
       "1837547  (Health & Household, Oral Care, Baby & Child D...  \n",
       "1837548  (Health & Household, Oral Care, Baby & Child D...  \n",
       "1837549  (Books, Religion & Spirituality, New Age & Spi...  \n",
       "\n",
       "[1771243 rows x 17 columns]"
      ]
     },
     "execution_count": 39,
     "metadata": {},
     "output_type": "execute_result"
    }
   ],
   "source": [
    "transaction_filtered = transaction[transaction['Survey ResponseID'].isin(user_over6['Survey ResponseID'])]\n",
    "transaction_filtered"
   ]
  },
  {
   "cell_type": "code",
   "execution_count": 40,
   "id": "f971dd74",
   "metadata": {},
   "outputs": [
    {
     "data": {
      "application/vnd.microsoft.datawrangler.viewer.v0+json": {
       "columns": [
        {
         "name": "index",
         "rawType": "int64",
         "type": "integer"
        },
        {
         "name": "Order Date",
         "rawType": "datetime64[ns]",
         "type": "datetime"
        },
        {
         "name": "Purchase Price Per Unit",
         "rawType": "float64",
         "type": "float"
        },
        {
         "name": "Title",
         "rawType": "object",
         "type": "unknown"
        },
        {
         "name": "ASIN",
         "rawType": "object",
         "type": "string"
        },
        {
         "name": "Category",
         "rawType": "object",
         "type": "unknown"
        },
        {
         "name": "Survey ResponseID",
         "rawType": "object",
         "type": "string"
        },
        {
         "name": "Rating",
         "rawType": "object",
         "type": "unknown"
        },
        {
         "name": "Rating Count",
         "rawType": "float64",
         "type": "float"
        },
        {
         "name": "Category 1",
         "rawType": "object",
         "type": "unknown"
        },
        {
         "name": "Category 2",
         "rawType": "object",
         "type": "unknown"
        },
        {
         "name": "Category 3",
         "rawType": "object",
         "type": "unknown"
        },
        {
         "name": "Category 4",
         "rawType": "object",
         "type": "unknown"
        },
        {
         "name": "Category 5",
         "rawType": "object",
         "type": "unknown"
        },
        {
         "name": "Category 6",
         "rawType": "object",
         "type": "unknown"
        },
        {
         "name": "Category 7",
         "rawType": "object",
         "type": "unknown"
        },
        {
         "name": "Category 8",
         "rawType": "object",
         "type": "unknown"
        },
        {
         "name": "group_key",
         "rawType": "object",
         "type": "string"
        }
       ],
       "ref": "6bf0ec06-0c65-4164-a170-aef834f2d1f7",
       "rows": [
        [
         "2",
         "2018-12-24 00:00:00",
         "8.99",
         null,
         "B078JZTFN3",
         null,
         "R_01vNIayewjIIKMF",
         null,
         null,
         null,
         null,
         null,
         null,
         null,
         null,
         null,
         null,
         "unknown"
        ],
        [
         "7",
         "2019-03-15 00:00:00",
         "124.99",
         "Fire HD 8 Tablet (8\" HD Display, 32 GB, without Special Offers) - Black (Previous Generation - 8th)",
         "B077H6L7T9",
         "AMAZON_TABLET",
         "R_01vNIayewjIIKMF",
         "4.4",
         "93211.0",
         null,
         null,
         null,
         null,
         null,
         null,
         null,
         null,
         "unknown"
        ],
        [
         "9",
         "2019-04-23 00:00:00",
         "24.69",
         null,
         "B06XKNWJN2",
         null,
         "R_01vNIayewjIIKMF",
         null,
         null,
         null,
         null,
         null,
         null,
         null,
         null,
         null,
         null,
         "unknown"
        ],
        [
         "20",
         "2019-09-06 00:00:00",
         "53.95",
         "WOWMAX Triangular Reading Pillow Large Bolster Headboard Backrest Positioning Support Wedge Pillow, Pillow for Day Bed Bunk Bed with Removable Cover Jean Blue 39x8x20inch",
         "B075CMYT43",
         "BODY_POSITIONER",
         "R_01vNIayewjIIKMF",
         null,
         null,
         null,
         null,
         null,
         null,
         null,
         null,
         null,
         null,
         "unknown"
        ],
        [
         "25",
         "2019-09-13 00:00:00",
         "8.95",
         "Poetic SlimFolio case for All-New Amazon Fire HD 8 Tablet (7th and 8th Generation, 2017 and 2018 Release) - Slim Leather Stand Folio Smart Cover Case with Auto Wake/Sleep - Black",
         "B071ZBV7DY",
         "AMAZON_TABLET_ACCESSORY",
         "R_01vNIayewjIIKMF",
         "4.3",
         "251.0",
         null,
         null,
         null,
         null,
         null,
         null,
         null,
         null,
         "unknown"
        ],
        [
         "35",
         "2019-10-07 00:00:00",
         "11.94",
         null,
         "B07CZ6JCZS",
         null,
         "R_01vNIayewjIIKMF",
         null,
         null,
         null,
         null,
         null,
         null,
         null,
         null,
         null,
         null,
         "unknown"
        ],
        [
         "40",
         "2019-10-18 00:00:00",
         "14.26",
         null,
         "B00KVM2SSO",
         null,
         "R_01vNIayewjIIKMF",
         null,
         null,
         null,
         null,
         null,
         null,
         null,
         null,
         null,
         null,
         "unknown"
        ],
        [
         "58",
         "2019-12-22 00:00:00",
         "14.33",
         null,
         "B00KVM2SSO",
         null,
         "R_01vNIayewjIIKMF",
         null,
         null,
         null,
         null,
         null,
         null,
         null,
         null,
         null,
         null,
         "unknown"
        ],
        [
         "59",
         "2020-01-16 00:00:00",
         "26.99",
         null,
         "B07Z8B814B",
         null,
         "R_01vNIayewjIIKMF",
         null,
         null,
         null,
         null,
         null,
         null,
         null,
         null,
         null,
         null,
         "unknown"
        ],
        [
         "60",
         "2020-01-17 00:00:00",
         "10.0",
         null,
         "B078JLMC9H",
         null,
         "R_01vNIayewjIIKMF",
         null,
         null,
         null,
         null,
         null,
         null,
         null,
         null,
         null,
         null,
         "unknown"
        ],
        [
         "74",
         "2020-05-28 00:00:00",
         "8.54",
         "Amazon Basics Carrying Case for Nintendo Switch - Black",
         "B072PW59TZ",
         "PORTABLE_ELECTRONIC_DEVICE_COVER",
         "R_01vNIayewjIIKMF",
         "4.6",
         "2972.0",
         null,
         null,
         null,
         null,
         null,
         null,
         null,
         null,
         "unknown"
        ],
        [
         "75",
         "2020-05-28 00:00:00",
         "22.99",
         null,
         "B07M6R3CPB",
         null,
         "R_01vNIayewjIIKMF",
         null,
         null,
         null,
         null,
         null,
         null,
         null,
         null,
         null,
         null,
         "unknown"
        ],
        [
         "78",
         "2020-06-27 00:00:00",
         "29.99",
         null,
         "B07VN6SN3T",
         null,
         "R_01vNIayewjIIKMF",
         null,
         null,
         null,
         null,
         null,
         null,
         null,
         null,
         null,
         null,
         "unknown"
        ],
        [
         "83",
         "2020-08-10 00:00:00",
         "37.99",
         null,
         "B07Z7H3GJK",
         null,
         "R_01vNIayewjIIKMF",
         null,
         null,
         null,
         null,
         null,
         null,
         null,
         null,
         null,
         null,
         "unknown"
        ],
        [
         "101",
         "2021-05-31 00:00:00",
         "29.99",
         null,
         "B01EHSX28M",
         null,
         "R_01vNIayewjIIKMF",
         null,
         null,
         null,
         null,
         null,
         null,
         null,
         null,
         null,
         null,
         "unknown"
        ],
        [
         "114",
         "2021-12-15 00:00:00",
         "20.99",
         null,
         "B0824L39FX",
         null,
         "R_01vNIayewjIIKMF",
         null,
         null,
         null,
         null,
         null,
         null,
         null,
         null,
         null,
         null,
         "unknown"
        ],
        [
         "151",
         "2018-02-11 00:00:00",
         "7.47",
         "Neutrogena Healthy Skin Boosters Facial Cleanser with Moisturizing Vitamin E and Antioxidant White Tea for Healthy Looking Skin, Oil-Free, 9 fl. oz",
         "B0713WYWVF",
         "BEAUTY",
         "R_037XK72IZBJyF69",
         null,
         null,
         null,
         null,
         null,
         null,
         null,
         null,
         null,
         null,
         "unknown"
        ],
        [
         "152",
         "2018-02-11 00:00:00",
         "4.88",
         "Johnson's Baby Bedtime Bubble Bath and Wash, 15 Ounce",
         "B01EMZ7QK0",
         "BATHWATER_ADDITIVE",
         "R_037XK72IZBJyF69",
         null,
         null,
         null,
         null,
         null,
         null,
         null,
         null,
         null,
         null,
         "unknown"
        ],
        [
         "153",
         "2018-02-11 00:00:00",
         "11.5",
         "Neutrogena Naturals Multi-Vitamin Moisturizing & Nourishing Night Face Cream with Antioxidant Bionutrients & Vitamins B, C & E, Non-Comedogenic & Sulfate-, Paraben-, Phthalate- & Dye-Free, 1.7 oz",
         "B0182G6OAI",
         "BEAUTY",
         "R_037XK72IZBJyF69",
         null,
         null,
         null,
         null,
         null,
         null,
         null,
         null,
         null,
         null,
         "unknown"
        ],
        [
         "158",
         "2018-02-11 00:00:00",
         "2.0",
         "Suave Essentials Body Wash, Mango Mandarin, 15 oz",
         "B00ULKSVQY",
         "SKIN_CLEANING_AGENT",
         "R_037XK72IZBJyF69",
         null,
         null,
         null,
         null,
         null,
         null,
         null,
         null,
         null,
         null,
         "unknown"
        ],
        [
         "164",
         "2018-02-28 00:00:00",
         "15.0",
         null,
         "B00F3TBBRO",
         null,
         "R_037XK72IZBJyF69",
         null,
         null,
         null,
         null,
         null,
         null,
         null,
         null,
         null,
         null,
         "unknown"
        ],
        [
         "165",
         "2018-02-28 00:00:00",
         "39.95",
         "LDR INDUSTRIES 163 3000SN 3PC BATH ORGANIZER KIT SATIN NICKEL, NICKLE",
         "B016C18EH6",
         "PLUMBING_FIXTURE",
         "R_037XK72IZBJyF69",
         "4.3",
         "1084.0",
         null,
         null,
         null,
         null,
         null,
         null,
         null,
         null,
         "unknown"
        ],
        [
         "173",
         "2018-04-02 00:00:00",
         "7.98",
         null,
         "B00MY48VLU",
         null,
         "R_037XK72IZBJyF69",
         null,
         null,
         null,
         null,
         null,
         null,
         null,
         null,
         null,
         null,
         "unknown"
        ],
        [
         "178",
         "2018-04-02 00:00:00",
         "6.49",
         null,
         "B010S9M3L6",
         null,
         "R_037XK72IZBJyF69",
         null,
         null,
         null,
         null,
         null,
         null,
         null,
         null,
         null,
         null,
         "unknown"
        ],
        [
         "186",
         "2018-04-29 00:00:00",
         "6.05",
         null,
         "B01L5T9GBI",
         null,
         "R_037XK72IZBJyF69",
         null,
         null,
         null,
         null,
         null,
         null,
         null,
         null,
         null,
         null,
         "unknown"
        ],
        [
         "188",
         "2018-05-16 00:00:00",
         "13.25",
         "2018 Tarot Planner",
         "1977537189",
         "ABIS_BOOK",
         "R_037XK72IZBJyF69",
         "4.4",
         "102.0",
         null,
         null,
         null,
         null,
         null,
         null,
         null,
         null,
         "unknown"
        ],
        [
         "198",
         "2018-05-18 00:00:00",
         "2.99",
         "Whole Paws, Small Dog Biscuits, Assorted Flavors, 10 Ounce",
         "B074M992MC",
         "PET_FOOD",
         "R_037XK72IZBJyF69",
         null,
         null,
         null,
         null,
         null,
         null,
         null,
         null,
         null,
         null,
         "unknown"
        ],
        [
         "200",
         "2018-05-18 00:00:00",
         "0.99",
         null,
         "B074MGZ3TR",
         null,
         "R_037XK72IZBJyF69",
         null,
         null,
         null,
         null,
         null,
         null,
         null,
         null,
         null,
         null,
         "unknown"
        ],
        [
         "202",
         "2018-05-18 00:00:00",
         "0.99",
         "365 Everyday Value, Shells & Alfredo, 7.25 oz",
         "B074MG12QS",
         "GROCERY",
         "R_037XK72IZBJyF69",
         "3.9",
         "244.0",
         null,
         null,
         null,
         null,
         null,
         null,
         null,
         null,
         "unknown"
        ],
        [
         "209",
         "2018-05-18 00:00:00",
         "3.99",
         null,
         "B00UB6OSAQ",
         null,
         "R_037XK72IZBJyF69",
         null,
         null,
         null,
         null,
         null,
         null,
         null,
         null,
         null,
         null,
         "unknown"
        ],
        [
         "218",
         "2018-06-03 00:00:00",
         "15.89",
         "mainlead BTS Bangtan Boys Black Hoody Sweater Pullover (JUNG KOOK, XXL)",
         "B01KNHWAT8",
         "SWEATSHIRT",
         "R_037XK72IZBJyF69",
         null,
         null,
         null,
         null,
         null,
         null,
         null,
         null,
         null,
         null,
         "unknown"
        ],
        [
         "220",
         "2018-06-15 00:00:00",
         "10.96",
         "NUTRO WHOLESOME ESSENTIALS Adult Natural Dry Dog Food Small Bites Farm-Raised Chicken, Brown Rice & Sweet Potato Recipe Dog Kibble, 5 lb. Bag",
         "B01N4TQSJP",
         "PET_FOOD",
         "R_037XK72IZBJyF69",
         null,
         null,
         null,
         null,
         null,
         null,
         null,
         null,
         null,
         null,
         "unknown"
        ],
        [
         "221",
         "2018-07-23 00:00:00",
         "10.96",
         "NUTRO WHOLESOME ESSENTIALS Adult Natural Dry Dog Food Small Bites Farm-Raised Chicken, Brown Rice & Sweet Potato Recipe Dog Kibble, 5 lb. Bag",
         "B01N4TQSJP",
         "PET_FOOD",
         "R_037XK72IZBJyF69",
         null,
         null,
         null,
         null,
         null,
         null,
         null,
         null,
         null,
         null,
         "unknown"
        ],
        [
         "238",
         "2018-11-28 00:00:00",
         "26.45",
         "Life-Flo Progesta-Care Estriol | Natural Progesterone USP & Estriol | Physician-Developed Body Cream for Optimal Balance | 4-oz Pump",
         "B0084Y1M8I",
         "NUTRITIONAL_SUPPLEMENT",
         "R_037XK72IZBJyF69",
         null,
         null,
         null,
         null,
         null,
         null,
         null,
         null,
         null,
         null,
         "unknown"
        ],
        [
         "242",
         "2018-12-22 00:00:00",
         "99.99",
         null,
         "B07K1YRHPH",
         null,
         "R_037XK72IZBJyF69",
         null,
         null,
         null,
         null,
         null,
         null,
         null,
         null,
         null,
         null,
         "unknown"
        ],
        [
         "245",
         "2018-12-28 00:00:00",
         "20.8",
         null,
         "B003LYDBCG",
         null,
         "R_037XK72IZBJyF69",
         null,
         null,
         null,
         null,
         null,
         null,
         null,
         null,
         null,
         null,
         "unknown"
        ],
        [
         "251",
         "2018-12-28 00:00:00",
         "8.9",
         "Enchanted Dreams 2019 Wall Calendar",
         "B079GZJF4K",
         "OFFICE_PRODUCTS",
         "R_037XK72IZBJyF69",
         "5.0",
         "2.0",
         null,
         null,
         null,
         null,
         null,
         null,
         null,
         null,
         "unknown"
        ],
        [
         "253",
         "2019-01-02 00:00:00",
         "14.95",
         "Carpe Antiperspirant Hand Lotion, A dermatologist-recommended, non-irritating, smooth lotion that helps stop hand sweat, Great for hyperhidrosis",
         "B010BVZ1VU",
         "BODY_DEODORANT",
         "R_037XK72IZBJyF69",
         null,
         null,
         null,
         null,
         null,
         null,
         null,
         null,
         null,
         null,
         "unknown"
        ],
        [
         "254",
         "2019-01-16 00:00:00",
         "8.45",
         null,
         "B0119Q9FYU",
         null,
         "R_037XK72IZBJyF69",
         null,
         null,
         null,
         null,
         null,
         null,
         null,
         null,
         null,
         null,
         "unknown"
        ],
        [
         "258",
         "2019-01-16 00:00:00",
         "10.96",
         "NUTRO WHOLESOME ESSENTIALS Adult Natural Dry Dog Food Small Bites Farm-Raised Chicken, Brown Rice & Sweet Potato Recipe Dog Kibble, 5 lb. Bag",
         "B01N4TQSJP",
         "PET_FOOD",
         "R_037XK72IZBJyF69",
         null,
         null,
         null,
         null,
         null,
         null,
         null,
         null,
         null,
         null,
         "unknown"
        ],
        [
         "261",
         "2019-01-24 00:00:00",
         "27.99",
         null,
         "B07KQ6FTGT",
         null,
         "R_037XK72IZBJyF69",
         null,
         null,
         null,
         null,
         null,
         null,
         null,
         null,
         null,
         null,
         "unknown"
        ],
        [
         "272",
         "2019-04-03 00:00:00",
         "14.96",
         "NUTRO WHOLESOME ESSENTIALS Adult Natural Dry Dog Food Small Bites Farm-Raised Chicken, Brown Rice & Sweet Potato Recipe Dog Kibble, 5 lb. Bag",
         "B01N4TQSJP",
         "PET_FOOD",
         "R_037XK72IZBJyF69",
         null,
         null,
         null,
         null,
         null,
         null,
         null,
         null,
         null,
         null,
         "unknown"
        ],
        [
         "282",
         "2019-06-05 00:00:00",
         "4.99",
         "Bamboo Toothbrush charcoal bristles by PAVICICO Organic Natural Compostable Bamboo Smooth Handle Individually Numbered - Soft Free BPA Bristle- Pack of 4 Adult",
         "B07H7SSR9D",
         "TOOTHBRUSH",
         "R_037XK72IZBJyF69",
         "4.4",
         "85.0",
         null,
         null,
         null,
         null,
         null,
         null,
         null,
         null,
         "unknown"
        ],
        [
         "285",
         "2019-06-18 00:00:00",
         "14.96",
         "NUTRO WHOLESOME ESSENTIALS Adult Natural Dry Dog Food Small Bites Farm-Raised Chicken, Brown Rice & Sweet Potato Recipe Dog Kibble, 5 lb. Bag",
         "B01N4TQSJP",
         "PET_FOOD",
         "R_037XK72IZBJyF69",
         null,
         null,
         null,
         null,
         null,
         null,
         null,
         null,
         null,
         null,
         "unknown"
        ],
        [
         "294",
         "2019-07-27 00:00:00",
         "19.99",
         null,
         "B075NZM4QH",
         null,
         "R_037XK72IZBJyF69",
         null,
         null,
         null,
         null,
         null,
         null,
         null,
         null,
         null,
         null,
         "unknown"
        ],
        [
         "299",
         "2019-07-31 00:00:00",
         "9.99",
         null,
         "B07TG722X8",
         null,
         "R_037XK72IZBJyF69",
         null,
         null,
         null,
         null,
         null,
         null,
         null,
         null,
         null,
         null,
         "unknown"
        ],
        [
         "300",
         "2019-08-19 00:00:00",
         "14.96",
         "NUTRO WHOLESOME ESSENTIALS Adult Natural Dry Dog Food Small Bites Farm-Raised Chicken, Brown Rice & Sweet Potato Recipe Dog Kibble, 5 lb. Bag",
         "B01N4TQSJP",
         "PET_FOOD",
         "R_037XK72IZBJyF69",
         null,
         null,
         null,
         null,
         null,
         null,
         null,
         null,
         null,
         null,
         "unknown"
        ],
        [
         "310",
         "2019-09-25 00:00:00",
         "4.99",
         null,
         "B07TMKPXJ7",
         null,
         "R_037XK72IZBJyF69",
         null,
         null,
         null,
         null,
         null,
         null,
         null,
         null,
         null,
         null,
         "unknown"
        ],
        [
         "320",
         "2019-10-04 00:00:00",
         "15.97",
         "DealRight BTS Love Yourself T-Shirt Short Sleeve Jungkook Suga JIN Jimin J-Hope V RM Kpop Tee Crew Neck T",
         "B07Q7PCFJ4",
         "SHIRT",
         "R_037XK72IZBJyF69",
         "4.4",
         "100.0",
         null,
         null,
         null,
         null,
         null,
         null,
         null,
         null,
         "unknown"
        ],
        [
         "339",
         "2019-12-18 00:00:00",
         "9.48",
         "DISCONTINUED BY MANUFACTURER:NUTRO WHOLESOME ESSENTIALS Adult Small Breed Natural Dry Dog Food Farm-Raised Chicken, Brown Rice & Sweet Potato Recipe, 3 lb. Bag",
         "B07JZJZ82N",
         "PET_FOOD",
         "R_037XK72IZBJyF69",
         null,
         null,
         null,
         null,
         null,
         null,
         null,
         null,
         null,
         null,
         "unknown"
        ]
       ],
       "shape": {
        "columns": 17,
        "rows": 178168
       }
      },
      "text/html": [
       "<div>\n",
       "<style scoped>\n",
       "    .dataframe tbody tr th:only-of-type {\n",
       "        vertical-align: middle;\n",
       "    }\n",
       "\n",
       "    .dataframe tbody tr th {\n",
       "        vertical-align: top;\n",
       "    }\n",
       "\n",
       "    .dataframe thead th {\n",
       "        text-align: right;\n",
       "    }\n",
       "</style>\n",
       "<table border=\"1\" class=\"dataframe\">\n",
       "  <thead>\n",
       "    <tr style=\"text-align: right;\">\n",
       "      <th></th>\n",
       "      <th>Order Date</th>\n",
       "      <th>Purchase Price Per Unit</th>\n",
       "      <th>Title</th>\n",
       "      <th>ASIN</th>\n",
       "      <th>Category</th>\n",
       "      <th>Survey ResponseID</th>\n",
       "      <th>Rating</th>\n",
       "      <th>Rating Count</th>\n",
       "      <th>Category 1</th>\n",
       "      <th>Category 2</th>\n",
       "      <th>Category 3</th>\n",
       "      <th>Category 4</th>\n",
       "      <th>Category 5</th>\n",
       "      <th>Category 6</th>\n",
       "      <th>Category 7</th>\n",
       "      <th>Category 8</th>\n",
       "      <th>group_key</th>\n",
       "    </tr>\n",
       "  </thead>\n",
       "  <tbody>\n",
       "    <tr>\n",
       "      <th>2</th>\n",
       "      <td>2018-12-24</td>\n",
       "      <td>8.99</td>\n",
       "      <td>NaN</td>\n",
       "      <td>B078JZTFN3</td>\n",
       "      <td>NaN</td>\n",
       "      <td>R_01vNIayewjIIKMF</td>\n",
       "      <td>NaN</td>\n",
       "      <td>NaN</td>\n",
       "      <td>NaN</td>\n",
       "      <td>NaN</td>\n",
       "      <td>NaN</td>\n",
       "      <td>NaN</td>\n",
       "      <td>NaN</td>\n",
       "      <td>NaN</td>\n",
       "      <td>NaN</td>\n",
       "      <td>NaN</td>\n",
       "      <td>unknown</td>\n",
       "    </tr>\n",
       "    <tr>\n",
       "      <th>7</th>\n",
       "      <td>2019-03-15</td>\n",
       "      <td>124.99</td>\n",
       "      <td>Fire HD 8 Tablet (8\" HD Display, 32 GB, withou...</td>\n",
       "      <td>B077H6L7T9</td>\n",
       "      <td>AMAZON_TABLET</td>\n",
       "      <td>R_01vNIayewjIIKMF</td>\n",
       "      <td>4.4</td>\n",
       "      <td>93211.0</td>\n",
       "      <td>NaN</td>\n",
       "      <td>NaN</td>\n",
       "      <td>NaN</td>\n",
       "      <td>NaN</td>\n",
       "      <td>NaN</td>\n",
       "      <td>NaN</td>\n",
       "      <td>NaN</td>\n",
       "      <td>NaN</td>\n",
       "      <td>unknown</td>\n",
       "    </tr>\n",
       "    <tr>\n",
       "      <th>9</th>\n",
       "      <td>2019-04-23</td>\n",
       "      <td>24.69</td>\n",
       "      <td>NaN</td>\n",
       "      <td>B06XKNWJN2</td>\n",
       "      <td>NaN</td>\n",
       "      <td>R_01vNIayewjIIKMF</td>\n",
       "      <td>NaN</td>\n",
       "      <td>NaN</td>\n",
       "      <td>NaN</td>\n",
       "      <td>NaN</td>\n",
       "      <td>NaN</td>\n",
       "      <td>NaN</td>\n",
       "      <td>NaN</td>\n",
       "      <td>NaN</td>\n",
       "      <td>NaN</td>\n",
       "      <td>NaN</td>\n",
       "      <td>unknown</td>\n",
       "    </tr>\n",
       "    <tr>\n",
       "      <th>20</th>\n",
       "      <td>2019-09-06</td>\n",
       "      <td>53.95</td>\n",
       "      <td>WOWMAX Triangular Reading Pillow Large Bolster...</td>\n",
       "      <td>B075CMYT43</td>\n",
       "      <td>BODY_POSITIONER</td>\n",
       "      <td>R_01vNIayewjIIKMF</td>\n",
       "      <td>NaN</td>\n",
       "      <td>NaN</td>\n",
       "      <td>NaN</td>\n",
       "      <td>NaN</td>\n",
       "      <td>NaN</td>\n",
       "      <td>NaN</td>\n",
       "      <td>NaN</td>\n",
       "      <td>NaN</td>\n",
       "      <td>NaN</td>\n",
       "      <td>NaN</td>\n",
       "      <td>unknown</td>\n",
       "    </tr>\n",
       "    <tr>\n",
       "      <th>25</th>\n",
       "      <td>2019-09-13</td>\n",
       "      <td>8.95</td>\n",
       "      <td>Poetic SlimFolio case for All-New Amazon Fire ...</td>\n",
       "      <td>B071ZBV7DY</td>\n",
       "      <td>AMAZON_TABLET_ACCESSORY</td>\n",
       "      <td>R_01vNIayewjIIKMF</td>\n",
       "      <td>4.3</td>\n",
       "      <td>251.0</td>\n",
       "      <td>NaN</td>\n",
       "      <td>NaN</td>\n",
       "      <td>NaN</td>\n",
       "      <td>NaN</td>\n",
       "      <td>NaN</td>\n",
       "      <td>NaN</td>\n",
       "      <td>NaN</td>\n",
       "      <td>NaN</td>\n",
       "      <td>unknown</td>\n",
       "    </tr>\n",
       "    <tr>\n",
       "      <th>...</th>\n",
       "      <td>...</td>\n",
       "      <td>...</td>\n",
       "      <td>...</td>\n",
       "      <td>...</td>\n",
       "      <td>...</td>\n",
       "      <td>...</td>\n",
       "      <td>...</td>\n",
       "      <td>...</td>\n",
       "      <td>...</td>\n",
       "      <td>...</td>\n",
       "      <td>...</td>\n",
       "      <td>...</td>\n",
       "      <td>...</td>\n",
       "      <td>...</td>\n",
       "      <td>...</td>\n",
       "      <td>...</td>\n",
       "      <td>...</td>\n",
       "    </tr>\n",
       "    <tr>\n",
       "      <th>1837494</th>\n",
       "      <td>2018-04-01</td>\n",
       "      <td>20.00</td>\n",
       "      <td>WOODROW CAN BLACK</td>\n",
       "      <td>B00S13POIQ</td>\n",
       "      <td>TRASH_CAN</td>\n",
       "      <td>R_zfqnsBzlOAKibzb</td>\n",
       "      <td>NaN</td>\n",
       "      <td>NaN</td>\n",
       "      <td>NaN</td>\n",
       "      <td>NaN</td>\n",
       "      <td>NaN</td>\n",
       "      <td>NaN</td>\n",
       "      <td>NaN</td>\n",
       "      <td>NaN</td>\n",
       "      <td>NaN</td>\n",
       "      <td>NaN</td>\n",
       "      <td>unknown</td>\n",
       "    </tr>\n",
       "    <tr>\n",
       "      <th>1837508</th>\n",
       "      <td>2018-10-09</td>\n",
       "      <td>19.39</td>\n",
       "      <td>WOODROW CAN BLACK</td>\n",
       "      <td>B00S13POIQ</td>\n",
       "      <td>TRASH_CAN</td>\n",
       "      <td>R_zfqnsBzlOAKibzb</td>\n",
       "      <td>NaN</td>\n",
       "      <td>NaN</td>\n",
       "      <td>NaN</td>\n",
       "      <td>NaN</td>\n",
       "      <td>NaN</td>\n",
       "      <td>NaN</td>\n",
       "      <td>NaN</td>\n",
       "      <td>NaN</td>\n",
       "      <td>NaN</td>\n",
       "      <td>NaN</td>\n",
       "      <td>unknown</td>\n",
       "    </tr>\n",
       "    <tr>\n",
       "      <th>1837533</th>\n",
       "      <td>2019-05-04</td>\n",
       "      <td>22.38</td>\n",
       "      <td>NaN</td>\n",
       "      <td>B00BDM0XZG</td>\n",
       "      <td>NaN</td>\n",
       "      <td>R_zfqnsBzlOAKibzb</td>\n",
       "      <td>NaN</td>\n",
       "      <td>NaN</td>\n",
       "      <td>NaN</td>\n",
       "      <td>NaN</td>\n",
       "      <td>NaN</td>\n",
       "      <td>NaN</td>\n",
       "      <td>NaN</td>\n",
       "      <td>NaN</td>\n",
       "      <td>NaN</td>\n",
       "      <td>NaN</td>\n",
       "      <td>unknown</td>\n",
       "    </tr>\n",
       "    <tr>\n",
       "      <th>1837534</th>\n",
       "      <td>2019-05-04</td>\n",
       "      <td>26.96</td>\n",
       "      <td>NaN</td>\n",
       "      <td>B00F5PJ9XE</td>\n",
       "      <td>NaN</td>\n",
       "      <td>R_zfqnsBzlOAKibzb</td>\n",
       "      <td>NaN</td>\n",
       "      <td>NaN</td>\n",
       "      <td>NaN</td>\n",
       "      <td>NaN</td>\n",
       "      <td>NaN</td>\n",
       "      <td>NaN</td>\n",
       "      <td>NaN</td>\n",
       "      <td>NaN</td>\n",
       "      <td>NaN</td>\n",
       "      <td>NaN</td>\n",
       "      <td>unknown</td>\n",
       "    </tr>\n",
       "    <tr>\n",
       "      <th>1837544</th>\n",
       "      <td>2021-04-01</td>\n",
       "      <td>20.75</td>\n",
       "      <td>50 Feather (Yellow Label) Razor Blades Platinu...</td>\n",
       "      <td>B08P5K9GMJ</td>\n",
       "      <td>RAZOR_BLADE_CARTRIDGE</td>\n",
       "      <td>R_zfqnsBzlOAKibzb</td>\n",
       "      <td>NaN</td>\n",
       "      <td>NaN</td>\n",
       "      <td>NaN</td>\n",
       "      <td>NaN</td>\n",
       "      <td>NaN</td>\n",
       "      <td>NaN</td>\n",
       "      <td>NaN</td>\n",
       "      <td>NaN</td>\n",
       "      <td>NaN</td>\n",
       "      <td>NaN</td>\n",
       "      <td>unknown</td>\n",
       "    </tr>\n",
       "  </tbody>\n",
       "</table>\n",
       "<p>178168 rows × 17 columns</p>\n",
       "</div>"
      ],
      "text/plain": [
       "        Order Date  Purchase Price Per Unit  \\\n",
       "2       2018-12-24                     8.99   \n",
       "7       2019-03-15                   124.99   \n",
       "9       2019-04-23                    24.69   \n",
       "20      2019-09-06                    53.95   \n",
       "25      2019-09-13                     8.95   \n",
       "...            ...                      ...   \n",
       "1837494 2018-04-01                    20.00   \n",
       "1837508 2018-10-09                    19.39   \n",
       "1837533 2019-05-04                    22.38   \n",
       "1837534 2019-05-04                    26.96   \n",
       "1837544 2021-04-01                    20.75   \n",
       "\n",
       "                                                     Title        ASIN  \\\n",
       "2                                                      NaN  B078JZTFN3   \n",
       "7        Fire HD 8 Tablet (8\" HD Display, 32 GB, withou...  B077H6L7T9   \n",
       "9                                                      NaN  B06XKNWJN2   \n",
       "20       WOWMAX Triangular Reading Pillow Large Bolster...  B075CMYT43   \n",
       "25       Poetic SlimFolio case for All-New Amazon Fire ...  B071ZBV7DY   \n",
       "...                                                    ...         ...   \n",
       "1837494                                  WOODROW CAN BLACK  B00S13POIQ   \n",
       "1837508                                  WOODROW CAN BLACK  B00S13POIQ   \n",
       "1837533                                                NaN  B00BDM0XZG   \n",
       "1837534                                                NaN  B00F5PJ9XE   \n",
       "1837544  50 Feather (Yellow Label) Razor Blades Platinu...  B08P5K9GMJ   \n",
       "\n",
       "                        Category  Survey ResponseID Rating  Rating Count  \\\n",
       "2                            NaN  R_01vNIayewjIIKMF    NaN           NaN   \n",
       "7                  AMAZON_TABLET  R_01vNIayewjIIKMF    4.4       93211.0   \n",
       "9                            NaN  R_01vNIayewjIIKMF    NaN           NaN   \n",
       "20               BODY_POSITIONER  R_01vNIayewjIIKMF    NaN           NaN   \n",
       "25       AMAZON_TABLET_ACCESSORY  R_01vNIayewjIIKMF    4.3         251.0   \n",
       "...                          ...                ...    ...           ...   \n",
       "1837494                TRASH_CAN  R_zfqnsBzlOAKibzb    NaN           NaN   \n",
       "1837508                TRASH_CAN  R_zfqnsBzlOAKibzb    NaN           NaN   \n",
       "1837533                      NaN  R_zfqnsBzlOAKibzb    NaN           NaN   \n",
       "1837534                      NaN  R_zfqnsBzlOAKibzb    NaN           NaN   \n",
       "1837544    RAZOR_BLADE_CARTRIDGE  R_zfqnsBzlOAKibzb    NaN           NaN   \n",
       "\n",
       "        Category 1 Category 2 Category 3 Category 4 Category 5 Category 6  \\\n",
       "2              NaN        NaN        NaN        NaN        NaN        NaN   \n",
       "7              NaN        NaN        NaN        NaN        NaN        NaN   \n",
       "9              NaN        NaN        NaN        NaN        NaN        NaN   \n",
       "20             NaN        NaN        NaN        NaN        NaN        NaN   \n",
       "25             NaN        NaN        NaN        NaN        NaN        NaN   \n",
       "...            ...        ...        ...        ...        ...        ...   \n",
       "1837494        NaN        NaN        NaN        NaN        NaN        NaN   \n",
       "1837508        NaN        NaN        NaN        NaN        NaN        NaN   \n",
       "1837533        NaN        NaN        NaN        NaN        NaN        NaN   \n",
       "1837534        NaN        NaN        NaN        NaN        NaN        NaN   \n",
       "1837544        NaN        NaN        NaN        NaN        NaN        NaN   \n",
       "\n",
       "        Category 7 Category 8 group_key  \n",
       "2              NaN        NaN   unknown  \n",
       "7              NaN        NaN   unknown  \n",
       "9              NaN        NaN   unknown  \n",
       "20             NaN        NaN   unknown  \n",
       "25             NaN        NaN   unknown  \n",
       "...            ...        ...       ...  \n",
       "1837494        NaN        NaN   unknown  \n",
       "1837508        NaN        NaN   unknown  \n",
       "1837533        NaN        NaN   unknown  \n",
       "1837534        NaN        NaN   unknown  \n",
       "1837544        NaN        NaN   unknown  \n",
       "\n",
       "[178168 rows x 17 columns]"
      ]
     },
     "execution_count": 40,
     "metadata": {},
     "output_type": "execute_result"
    }
   ],
   "source": [
    "transaction_filtered[transaction_filtered['group_key'] == 'unknown'] # 이래도 남아있는 카테고리 결측치 개수가 약 18만개"
   ]
  },
  {
   "cell_type": "markdown",
   "id": "f88caeb6",
   "metadata": {},
   "source": [
    "### 아직까지 남아있는 상품군 결측치는 드랍 (ASIN ID 제거)"
   ]
  },
  {
   "cell_type": "code",
   "execution_count": 41,
   "id": "ab132bbb",
   "metadata": {},
   "outputs": [
    {
     "data": {
      "application/vnd.microsoft.datawrangler.viewer.v0+json": {
       "columns": [
        {
         "name": "index",
         "rawType": "int64",
         "type": "integer"
        },
        {
         "name": "Order Date",
         "rawType": "datetime64[ns]",
         "type": "datetime"
        },
        {
         "name": "Purchase Price Per Unit",
         "rawType": "float64",
         "type": "float"
        },
        {
         "name": "Title",
         "rawType": "object",
         "type": "unknown"
        },
        {
         "name": "ASIN",
         "rawType": "object",
         "type": "string"
        },
        {
         "name": "Category",
         "rawType": "object",
         "type": "unknown"
        },
        {
         "name": "Survey ResponseID",
         "rawType": "object",
         "type": "string"
        },
        {
         "name": "Rating",
         "rawType": "object",
         "type": "unknown"
        },
        {
         "name": "Rating Count",
         "rawType": "float64",
         "type": "float"
        },
        {
         "name": "Category 1",
         "rawType": "object",
         "type": "unknown"
        },
        {
         "name": "Category 2",
         "rawType": "object",
         "type": "unknown"
        },
        {
         "name": "Category 3",
         "rawType": "object",
         "type": "unknown"
        },
        {
         "name": "Category 4",
         "rawType": "object",
         "type": "unknown"
        },
        {
         "name": "Category 5",
         "rawType": "object",
         "type": "unknown"
        },
        {
         "name": "Category 6",
         "rawType": "object",
         "type": "unknown"
        },
        {
         "name": "Category 7",
         "rawType": "object",
         "type": "unknown"
        },
        {
         "name": "Category 8",
         "rawType": "object",
         "type": "unknown"
        },
        {
         "name": "group_key",
         "rawType": "object",
         "type": "unknown"
        }
       ],
       "ref": "4f0d8e67-890a-4bb0-95ee-7bbaadd4ea30",
       "rows": [
        [
         "0",
         "2018-12-04 00:00:00",
         "7.98",
         "SanDisk Ultra 16GB Class 10 SDHC UHS-I Memory Card up to 80MB/s (SDSDUNC-016G-GN6IN)",
         "B0143RTB1E",
         "FLASH_MEMORY",
         "R_01vNIayewjIIKMF",
         "4.7",
         "118698.0",
         "Electronics",
         "Computers & Accessories",
         "Computer Accessories & Peripherals",
         "Memory Cards",
         "SD Cards",
         null,
         null,
         null,
         "('Electronics', 'Computers & Accessories', 'Computer Accessories & Peripherals', 'Memory Cards', 'SD Cards')"
        ],
        [
         "1",
         "2018-12-22 00:00:00",
         "13.99",
         "Betron BS10 Earphones Wired Headphones in Ear Noise Isolating Earbuds with Microphone and Volume Control Powerful Bass Driven Sound, 12mm Large Drivers, Ergonomic Design",
         "B01MA1MJ6H",
         "HEADPHONES",
         "R_01vNIayewjIIKMF",
         "4.2",
         "26525.0",
         "Electronics",
         "Headphones, Earbuds & Accessories",
         "Headphones & Earbuds",
         "Earbud Headphones",
         null,
         null,
         null,
         null,
         "('Electronics', 'Headphones, Earbuds & Accessories', 'Headphones & Earbuds', 'Earbud Headphones')"
        ],
        [
         "3",
         "2018-12-25 00:00:00",
         "10.45",
         "Perfecto Stainless Steel Shaving Bowl. Durable Metal Mug For Shaving Soap & Cream. Perfect Addition To Your Wet Shaving Kit. Double Layer Smooth Shave Unbreakable Mug With Heat Insulation",
         "B06XWF9HML",
         "DISHWARE_BOWL",
         "R_01vNIayewjIIKMF",
         "4.6",
         "908.0",
         "Beauty & Personal Care",
         "Shave & Hair Removal",
         "Men's",
         "Shaving Accessories",
         "Shaving Soap Bowls",
         null,
         null,
         null,
         "('Beauty & Personal Care', 'Shave & Hair Removal', \"Men's\", 'Shaving Accessories', 'Shaving Soap Bowls')"
        ],
        [
         "4",
         "2018-12-25 00:00:00",
         "10.0",
         "Proraso Shaving Cream for Men",
         "B00837ZOI0",
         "SHAVING_AGENT",
         "R_01vNIayewjIIKMF",
         "4.7",
         "12344.0",
         "Beauty & Personal Care",
         "Shave & Hair Removal",
         "Men's",
         "Shaving Creams, Lotions & Gels",
         "Shaving Creams",
         null,
         null,
         null,
         "('Beauty & Personal Care', 'Shave & Hair Removal', \"Men's\", 'Shaving Creams, Lotions & Gels', 'Shaving Creams')"
        ],
        [
         "5",
         "2019-02-18 00:00:00",
         "10.99",
         "Micro USB Cable Android Charger - Syncwire [2-Pack 6.6ft] Super-Durable Nylon Braided Fast Sync&Charging Cord for Samsung Galaxy S7 Edge/S7/S6, HTC, LG, Sony, Xbox One, PS4 - Space Grey",
         "B01GFB2E9M",
         "COMPUTER_PROCESSOR",
         "R_01vNIayewjIIKMF",
         "4.5",
         "25562.0",
         "Electronics",
         "Computers & Accessories",
         "Computer Accessories & Peripherals",
         "Cables & Accessories",
         "Cables & Interconnects",
         "USB Cables",
         null,
         null,
         "('Electronics', 'Computers & Accessories', 'Computer Accessories & Peripherals', 'Cables & Accessories', 'Cables & Interconnects', 'USB Cables')"
        ],
        [
         "6",
         "2019-02-18 00:00:00",
         "4.99",
         "Amazon Basics USB 2.0 Charger Cable - A-Male to Mini-B Cord - 3 Feet (0.9 Meters)",
         "B00NH13S44",
         "COMPUTER_ADD_ON",
         "R_01vNIayewjIIKMF",
         "4.6",
         "65376.0",
         "Electronics",
         "Computers & Accessories",
         "Computer Accessories & Peripherals",
         "Cables & Accessories",
         "Cables & Interconnects",
         "USB Cables",
         null,
         null,
         "('Electronics', 'Computers & Accessories', 'Computer Accessories & Peripherals', 'Cables & Accessories', 'Cables & Interconnects', 'USB Cables')"
        ],
        [
         "8",
         "2019-04-23 00:00:00",
         "12.99",
         "Men's Leather Belt, Ratchet Dress Belt with Automatic Buckle for Father's Day Gift by WERFORU",
         "B07L84ZZXC",
         "APPAREL_BELT",
         "R_01vNIayewjIIKMF",
         "4.3",
         "148.0",
         "Clothing, Shoes & Jewelry",
         "Sport Specific Clothing",
         "Golf",
         "Men",
         "Accessories",
         "Belts",
         null,
         null,
         "('Clothing, Shoes & Jewelry', 'Sport Specific Clothing', 'Golf', 'Men', 'Accessories', 'Belts')"
        ],
        [
         "10",
         "2019-05-02 00:00:00",
         "9.99",
         "UGREEN Tablet Stand Holder Adjustable Portable Desktop Holder Dock Compatible for iPad 10.2 iPad Pro 11 Inch iPad 9.7 iPad Mini 5 4 3 2 iPad Air iPhone 13 12 Pro Max 11 XS XR Black",
         "B07CG71KQ1",
         "PORTABLE_ELECTRONIC_DEVICE_STAND",
         "R_01vNIayewjIIKMF",
         "4.5",
         "51012.0",
         "Electronics",
         "Computers & Accessories",
         "Tablet Accessories",
         "Stands",
         null,
         null,
         null,
         null,
         "('Electronics', 'Computers & Accessories', 'Tablet Accessories', 'Stands')"
        ],
        [
         "11",
         "2019-05-02 00:00:00",
         "12.79",
         "Betron B25 in-Ear Headphones Earphones with Microphone and Volume Controller, Noise Isolating Earbud Tips, 3.5mm Head Phone Jack",
         "B079GFF4HZ",
         "HEADPHONES",
         "R_01vNIayewjIIKMF",
         "4.1",
         "5730.0",
         "Electronics",
         "Headphones, Earbuds & Accessories",
         "Headphones & Earbuds",
         "Earbud Headphones",
         null,
         null,
         null,
         null,
         "('Electronics', 'Headphones, Earbuds & Accessories', 'Headphones & Earbuds', 'Earbud Headphones')"
        ],
        [
         "12",
         "2019-05-11 00:00:00",
         "9.14",
         "NEW Norpro Instant Immersion Heater Coffee/Tea/Soup Electric Water Portable Reheater",
         "B01M0Q84BR",
         "IMMERSION_HEATER",
         "R_01vNIayewjIIKMF",
         "4.1",
         "2718.0",
         "Home & Kitchen",
         "Kitchen & Dining",
         "Coffee, Tea & Espresso",
         "Kettles & Tea Machines",
         "Electric Kettles",
         null,
         null,
         null,
         "('Home & Kitchen', 'Kitchen & Dining', 'Coffee, Tea & Espresso', 'Kettles & Tea Machines', 'Electric Kettles')"
        ],
        [
         "13",
         "2019-05-16 00:00:00",
         "9.99",
         "Betron BS10 Earphones Wired Headphones in Ear Noise Isolating Earbuds with Microphone and Volume Control Powerful Bass Driven Sound, 12mm Large Drivers, Ergonomic Design",
         "B01MA1MJ6H",
         "HEADPHONES",
         "R_01vNIayewjIIKMF",
         "4.2",
         "26525.0",
         "Electronics",
         "Headphones, Earbuds & Accessories",
         "Headphones & Earbuds",
         "Earbud Headphones",
         null,
         null,
         null,
         null,
         "('Electronics', 'Headphones, Earbuds & Accessories', 'Headphones & Earbuds', 'Earbud Headphones')"
        ],
        [
         "14",
         "2019-06-15 00:00:00",
         "19.99",
         "SanDisk 128GB Ultra MicroSDXC UHS-I Memory Card with Adapter - 100MB/s, C10, U1, Full HD, A1, Micro SD Card - SDSQUAR-128G-GN6MA",
         "B073JYC4XM",
         "FLASH_MEMORY",
         "R_01vNIayewjIIKMF",
         "4.7",
         "219383.0",
         "Electronics",
         "Computers & Accessories",
         "Computer Accessories & Peripherals",
         "Memory Cards",
         "Micro SD Cards",
         null,
         null,
         null,
         "('Electronics', 'Computers & Accessories', 'Computer Accessories & Peripherals', 'Memory Cards', 'Micro SD Cards')"
        ],
        [
         "15",
         "2019-06-15 00:00:00",
         "14.72",
         "Slippery Stuff, 16 oz Gel, Clear, Pound , Unscented, 1 Count (LU031)",
         "B00I7DT454",
         "BODY_LUBRICANT",
         "R_01vNIayewjIIKMF",
         "4.6",
         "1716.0",
         "Health & Household",
         "Sexual Wellness",
         "Safer Sex",
         "Lubricants",
         null,
         null,
         null,
         null,
         "('Health & Household', 'Sexual Wellness', 'Safer Sex', 'Lubricants')"
        ],
        [
         "16",
         "2019-06-25 00:00:00",
         "9.99",
         "Betron BS10 Earphones Wired Headphones in Ear Noise Isolating Earbuds with Microphone and Volume Control Powerful Bass Driven Sound, 12mm Large Drivers, Ergonomic Design",
         "B01MA1MJ6H",
         "HEADPHONES",
         "R_01vNIayewjIIKMF",
         "4.2",
         "26525.0",
         "Electronics",
         "Headphones, Earbuds & Accessories",
         "Headphones & Earbuds",
         "Earbud Headphones",
         null,
         null,
         null,
         null,
         "('Electronics', 'Headphones, Earbuds & Accessories', 'Headphones & Earbuds', 'Earbud Headphones')"
        ],
        [
         "17",
         "2019-07-14 00:00:00",
         "26.77",
         "Logitech M570 Wireless Trackball Mouse – Ergonomic Design with Sculpted Right-Hand Shape, Compatible with Apple Mac / Microsoft, USB Unifying Receiver, Dark Gray (Discontinued by Manufacturer)",
         "B0043T7FXE",
         "INPUT_MOUSE",
         "R_01vNIayewjIIKMF",
         "4.6",
         "45851.0",
         "Electronics",
         "Computers & Accessories",
         "Computer Accessories & Peripherals",
         "Keyboards, Mice & Accessories",
         "Mice",
         null,
         null,
         null,
         "('Electronics', 'Computers & Accessories', 'Computer Accessories & Peripherals', 'Keyboards, Mice & Accessories', 'Mice')"
        ],
        [
         "18",
         "2019-08-02 00:00:00",
         "12.99",
         "Betron BS10 Earphones Wired in Ear Earbud Headphones Strong Bass Noise Isolating Ear Buds 3.5mm Jack Tangle-Free Cord Compatible with Tablet Laptop iPhone iPad Smartphones",
         "B01M2V05RE",
         "HEADPHONES",
         "R_01vNIayewjIIKMF",
         "4.2",
         "26525.0",
         "Electronics",
         "Headphones, Earbuds & Accessories",
         "Headphones & Earbuds",
         "Earbud Headphones",
         null,
         null,
         null,
         null,
         "('Electronics', 'Headphones, Earbuds & Accessories', 'Headphones & Earbuds', 'Earbud Headphones')"
        ],
        [
         "19",
         "2019-08-10 00:00:00",
         "7.95",
         "TUDIA Motorola Moto G6 Case, Full-Matte Lightweight [Arch S] TPU Bumper Shock Absorption Cover for Motorola Moto G6 (Black)",
         "B07BCZMBNR",
         "CELLULAR_PHONE_CASE",
         "R_01vNIayewjIIKMF",
         "4.3",
         "113.0",
         "Cell Phones & Accessories",
         "Cases, Holsters & Sleeves",
         "Basic Cases",
         null,
         null,
         null,
         null,
         null,
         "('Cell Phones & Accessories', 'Cases, Holsters & Sleeves', 'Basic Cases')"
        ],
        [
         "21",
         "2019-09-09 00:00:00",
         "19.99",
         "KROSER Laptop Bag 15.6 Inch Briefcase Shoulder Bag Water Repellent Laptop Bag Satchel Tablet Bussiness Carrying Handbag Laptop Sleeve for Women and Men-Charcoal Black",
         "B01MZ956SX",
         "HANDBAG",
         "R_01vNIayewjIIKMF",
         "4.6",
         "8153.0",
         "Electronics",
         "Computers & Accessories",
         "Laptop Accessories",
         "Bags, Cases & Sleeves",
         "Messenger & Shoulder Bags",
         null,
         null,
         null,
         "('Electronics', 'Computers & Accessories', 'Laptop Accessories', 'Bags, Cases & Sleeves', 'Messenger & Shoulder Bags')"
        ],
        [
         "22",
         "2019-09-09 00:00:00",
         "14.99",
         "Gildan Men's Boxer Briefs, Multipack",
         "B07JCJP1DK",
         "UNDERPANTS",
         "R_01vNIayewjIIKMF",
         "4.6",
         "126192.0",
         "Clothing, Shoes & Jewelry",
         "Men",
         "Clothing",
         "Underwear",
         "Boxer Briefs",
         null,
         null,
         null,
         "('Clothing, Shoes & Jewelry', 'Men', 'Clothing', 'Underwear', 'Boxer Briefs')"
        ],
        [
         "23",
         "2019-09-13 00:00:00",
         "14.99",
         "Gildan Men's Boxer Briefs, Multipack",
         "B07JD5B8SP",
         "UNDERPANTS",
         "R_01vNIayewjIIKMF",
         "4.6",
         "126192.0",
         "Clothing, Shoes & Jewelry",
         "Men",
         "Clothing",
         "Underwear",
         "Boxer Briefs",
         null,
         null,
         null,
         "('Clothing, Shoes & Jewelry', 'Men', 'Clothing', 'Underwear', 'Boxer Briefs')"
        ],
        [
         "24",
         "2019-09-13 00:00:00",
         "4.85",
         "Tape Measure for Body Measuring Tape for Body Measurements Tape Tailor Clothing",
         "B071XGLB1S",
         "TAPE_MEASURE",
         "R_01vNIayewjIIKMF",
         "4.7",
         "16555.0",
         "Arts, Crafts & Sewing",
         "Sewing",
         "Sewing Notions & Supplies",
         "Sewing Tools",
         "Tape Measures & Rulers",
         "Tape Measures",
         null,
         null,
         "('Arts, Crafts & Sewing', 'Sewing', 'Sewing Notions & Supplies', 'Sewing Tools', 'Tape Measures & Rulers', 'Tape Measures')"
        ],
        [
         "26",
         "2019-09-27 00:00:00",
         "139.99",
         "WD 8TB Elements Desktop External Hard Drive, USB 3.0 external hard drive for plug-and-play storage - WDBWLG0080HBK-NESN",
         "B07D5V2ZXD",
         "COMPUTER_DRIVE_OR_STORAGE",
         "R_01vNIayewjIIKMF",
         "4.5",
         "23940.0",
         "Electronics",
         "Computers & Accessories",
         "Data Storage",
         "External Hard Drives",
         null,
         null,
         null,
         null,
         "('Electronics', 'Computers & Accessories', 'Data Storage', 'External Hard Drives')"
        ],
        [
         "27",
         "2019-09-28 00:00:00",
         "7.92",
         "Colgate Cavity Protection Toothpaste with Fluoride, Great Regular Flavor, 6 Ounce Tube, 6 Pack",
         "B01BNEWDFQ",
         "TOOTH_CLEANING_AGENT",
         "R_01vNIayewjIIKMF",
         "4.8",
         "63243.0",
         "Health & Household",
         "Oral Care",
         "Toothpaste",
         null,
         null,
         null,
         null,
         null,
         "('Health & Household', 'Oral Care', 'Toothpaste')"
        ],
        [
         "28",
         "2019-09-28 00:00:00",
         "19.99",
         "Scott 1000 Sheets Per Roll Toilet Paper, 27 Rolls, Bath Tissue",
         "B01NBYY28W",
         "TOILET_PAPER",
         "R_01vNIayewjIIKMF",
         "4.6",
         "8570.0",
         "Health & Household",
         "Household Supplies",
         "Tissues, Toilet Paper & Sprays",
         "Toilet Paper",
         null,
         null,
         null,
         null,
         "('Health & Household', 'Household Supplies', 'Tissues, Toilet Paper & Sprays', 'Toilet Paper')"
        ],
        [
         "29",
         "2019-09-28 00:00:00",
         "3.92",
         "Crest Scope Outlast Mouthwash, Long Lasting Peppermint, 1 L",
         "B019FGCOW6",
         "MOUTHWASH",
         "R_01vNIayewjIIKMF",
         "4.7",
         "10403.0",
         "Health & Household",
         "Oral Care",
         "Mouthwash",
         null,
         null,
         null,
         null,
         null,
         "('Health & Household', 'Oral Care', 'Mouthwash')"
        ],
        [
         "30",
         "2019-10-02 00:00:00",
         "19.99",
         "Anker Powerline II USB-C to USB-C 3.1 Gen 2 Cable (3ft) with Power Delivery, for Apple MacBook, Huawei Matebook, iPad Pro 2020, Chromebook, Pixel, Switch, and More Type-C Devices/Laptops",
         "B072JYDQ7N",
         "ELECTRONIC_CABLE",
         "R_01vNIayewjIIKMF",
         "4.7",
         "4373.0",
         "Electronics",
         "Computers & Accessories",
         "Computer Accessories & Peripherals",
         "Cables & Accessories",
         "Cables & Interconnects",
         "USB Cables",
         null,
         null,
         "('Electronics', 'Computers & Accessories', 'Computer Accessories & Peripherals', 'Cables & Accessories', 'Cables & Interconnects', 'USB Cables')"
        ],
        [
         "31",
         "2019-10-02 00:00:00",
         "8.99",
         "Kingsdun 12Pcs Magnetic Torx Screwdriver Sets with T3 T4 T5 T6 T7 T8 T10 Star Screw drivers, Stainless Steel Tweezers & Philip Slotted Screwdrivers for Phone/Mac/Camera/Computer Repairing -Yellow",
         "B00MUJU33S",
         "SCREWDRIVER",
         "R_01vNIayewjIIKMF",
         "4.4",
         "5534.0",
         "Tools & Home Improvement",
         "Power & Hand Tools",
         "Hand Tools",
         "Screwdrivers & Nut Drivers",
         "Screwdriver Sets",
         null,
         null,
         null,
         "('Tools & Home Improvement', 'Power & Hand Tools', 'Hand Tools', 'Screwdrivers & Nut Drivers', 'Screwdriver Sets')"
        ],
        [
         "32",
         "2019-10-05 00:00:00",
         "25.0",
         "Best Buy Gift Cards - Email Delivery",
         "B07RTN4C77",
         "GIFT_CARD",
         "R_01vNIayewjIIKMF",
         "4.7",
         "11369.0",
         "Gift Cards",
         "Gift Cards",
         null,
         null,
         null,
         null,
         null,
         null,
         "('Gift Cards', 'Gift Cards')"
        ],
        [
         "33",
         "2019-10-06 00:00:00",
         "50.0",
         "Best Buy Gift Cards - Email Delivery",
         "B07RTN4C77",
         "GIFT_CARD",
         "R_01vNIayewjIIKMF",
         "4.7",
         "11369.0",
         "Gift Cards",
         "Gift Cards",
         null,
         null,
         null,
         null,
         null,
         null,
         "('Gift Cards', 'Gift Cards')"
        ],
        [
         "34",
         "2019-10-07 00:00:00",
         "7.49",
         "BetterBody Foods Refined Avocado Oil, Non-GMO Cooking Oil, Kosher, Keto and Paleo Diet Friendly, for High-Heat Cooking, Frying, Baking, 100% Pure Avocado Oil, 500 mL, 16.9 Fl Oz",
         "B01IQ00B04",
         "EDIBLE_OIL_VEGETABLE",
         "R_01vNIayewjIIKMF",
         "4.8",
         "25550.0",
         "Grocery & Gourmet Food",
         "Pantry Staples",
         "Cooking & Baking",
         "Cooking Oils, Vinegars & Sprays",
         "Oils",
         "Avocado",
         null,
         null,
         "('Grocery & Gourmet Food', 'Pantry Staples', 'Cooking & Baking', 'Cooking Oils, Vinegars & Sprays', 'Oils', 'Avocado')"
        ],
        [
         "36",
         "2019-10-07 00:00:00",
         "7.34",
         "Pompeian USDA Organic Robust Extra Virgin Olive Oil, First Cold Pressed, Full-Bodied Flavor, Perfect for Salad Dressings & Marinades, 24 FL. OZ.",
         "B017ALC6GW",
         "EDIBLE_OIL_VEGETABLE",
         "R_01vNIayewjIIKMF",
         "4.7",
         "24304.0",
         "Grocery & Gourmet Food",
         "Pantry Staples",
         "Cooking & Baking",
         "Cooking Oils, Vinegars & Sprays",
         "Oils",
         "Olive",
         null,
         null,
         "('Grocery & Gourmet Food', 'Pantry Staples', 'Cooking & Baking', 'Cooking Oils, Vinegars & Sprays', 'Oils', 'Olive')"
        ],
        [
         "37",
         "2019-10-12 00:00:00",
         "45.0",
         "$15/Month Mint Mobile Phone Plan | 4GB of 5G • 4G LTE Data + Unlimited Talk & Text for 3 Months (3-in-1 SIM Card)",
         "B0741FV7ZV",
         "SIM_CARD",
         "R_01vNIayewjIIKMF",
         "4.2",
         "18114.0",
         "Cell Phones & Accessories",
         "SIM Cards & Prepaid Minutes",
         "SIM Cards",
         null,
         null,
         null,
         null,
         null,
         "('Cell Phones & Accessories', 'SIM Cards & Prepaid Minutes', 'SIM Cards')"
        ],
        [
         "38",
         "2019-10-16 00:00:00",
         "54.99",
         "ZINUS SmartBase Tool-Free Assembly Mattress Foundation / 14 Inch Metal Platform Bed Frame / No Box Spring Needed / Sturdy Steel Frame / Underbed Storage, Black, Twin, Regular",
         "B006MIPW70",
         "BED_FRAME",
         "R_01vNIayewjIIKMF",
         "4.6",
         "104448.0",
         "Home & Kitchen",
         "Furniture",
         "Bedroom Furniture",
         "Beds, Frames & Bases",
         "Bed Frames",
         null,
         null,
         null,
         "('Home & Kitchen', 'Furniture', 'Bedroom Furniture', 'Beds, Frames & Bases', 'Bed Frames')"
        ],
        [
         "39",
         "2019-10-18 00:00:00",
         "4.2",
         "McCormick Black Peppercorn Grinder, 2.5 oz",
         "B01LZKYNIM",
         "HERB",
         "R_01vNIayewjIIKMF",
         "4.8",
         "12909.0",
         "Grocery & Gourmet Food",
         "Pantry Staples",
         "Herbs, Spices & Seasonings",
         "Pepper & Peppercorns",
         "Peppercorns",
         null,
         null,
         null,
         "('Grocery & Gourmet Food', 'Pantry Staples', 'Herbs, Spices & Seasonings', 'Pepper & Peppercorns', 'Peppercorns')"
        ],
        [
         "41",
         "2019-10-31 00:00:00",
         "4.99",
         "Dietz & Watson deli Sliced Black Forest Smoked Ham, 0.5 lbs",
         "B00NC8QEKM",
         "MEAT",
         "R_01vNIayewjIIKMF",
         "4.4",
         "699.0",
         "Grocery & Gourmet Food",
         "Deli & Prepared Foods",
         "Deli Meats & Cheeses",
         "Prepackaged Deli Meats",
         "Ham",
         null,
         null,
         null,
         "('Grocery & Gourmet Food', 'Deli & Prepared Foods', 'Deli Meats & Cheeses', 'Prepackaged Deli Meats', 'Ham')"
        ],
        [
         "42",
         "2019-10-31 00:00:00",
         "3.79",
         "Kerrygold Pure Irish Butter, Salted, 8 oz",
         "B0011EKWBQ",
         "DAIRY_BASED_BUTTER",
         "R_01vNIayewjIIKMF",
         "4.9",
         "19290.0",
         "Grocery & Gourmet Food",
         "Dairy, Eggs & Plant-Based Alternatives",
         "Butter, Margarine & Plant-Based Alternatives",
         "Butter",
         null,
         null,
         null,
         null,
         "('Grocery & Gourmet Food', 'Dairy, Eggs & Plant-Based Alternatives', 'Butter, Margarine & Plant-Based Alternatives', 'Butter')"
        ],
        [
         "43",
         "2019-10-31 00:00:00",
         "4.99",
         "Dietz & Watson Sliced Mozzarella Cheese, 0.5 lbs",
         "B00NC882CA",
         "DAIRY_BASED_CHEESE",
         "R_01vNIayewjIIKMF",
         "4.6",
         "291.0",
         "Grocery & Gourmet Food",
         "Dairy, Eggs & Plant-Based Alternatives",
         "Packaged Cheese",
         "Mozzarella",
         null,
         null,
         null,
         null,
         "('Grocery & Gourmet Food', 'Dairy, Eggs & Plant-Based Alternatives', 'Packaged Cheese', 'Mozzarella')"
        ],
        [
         "44",
         "2019-10-31 00:00:00",
         "10.98",
         "Jack Links Premium Cuts Beef Steak, Original, Strips -Great Protein Snack with 11g of Protein and 1g of Carbs Per Serving, Made with Beef, 1 Ounce (Pack of 12)",
         "B00B9GUZP4",
         "JERKY",
         "R_01vNIayewjIIKMF",
         "4.6",
         "15033.0",
         "Grocery & Gourmet Food",
         "Snacks & Sweets",
         "Snack Foods",
         "Meat Snacks",
         "Jerky",
         null,
         null,
         null,
         "('Grocery & Gourmet Food', 'Snacks & Sweets', 'Snack Foods', 'Meat Snacks', 'Jerky')"
        ],
        [
         "45",
         "2019-11-25 00:00:00",
         "3.75",
         "Wet Naturals Beautifully Bare - 3.3 fl oz",
         "B000QD9C8M",
         "BODY_LUBRICANT",
         "R_01vNIayewjIIKMF",
         "4.3",
         "264.0",
         "Health & Household",
         "Sexual Wellness",
         "Safer Sex",
         "Lubricants",
         null,
         null,
         null,
         null,
         "('Health & Household', 'Sexual Wellness', 'Safer Sex', 'Lubricants')"
        ],
        [
         "46",
         "2019-11-25 00:00:00",
         "17.69",
         "Tracy's Dog Male Masturbators Pocket Pussy Realistic Stroker Lifelike Vaginal Oral Sex Toys for Man Masturbation (Flesh)",
         "B01LZ5SB6U",
         "SEXUAL_STIMULATION_DEVICE",
         "R_01vNIayewjIIKMF",
         "4.0",
         "3415.0",
         "Health & Household",
         "Sexual Wellness",
         "Adult Toys & Games",
         "Sex Toys",
         "Male Masturbators",
         null,
         null,
         null,
         "('Health & Household', 'Sexual Wellness', 'Adult Toys & Games', 'Sex Toys', 'Male Masturbators')"
        ],
        [
         "47",
         "2019-12-02 00:00:00",
         "27.99",
         "SAMSUNG (MB-ME256GA/AM) 256GB 100MB/s (U3) MicroSDXC EVO Select Memory Card with Full-Size Adapter",
         "B072HRDM55",
         "FLASH_MEMORY",
         "R_01vNIayewjIIKMF",
         "4.7",
         "142718.0",
         "Electronics",
         "Computers & Accessories",
         "Computer Accessories & Peripherals",
         "Memory Cards",
         "Micro SD Cards",
         null,
         null,
         null,
         "('Electronics', 'Computers & Accessories', 'Computer Accessories & Peripherals', 'Memory Cards', 'Micro SD Cards')"
        ],
        [
         "48",
         "2019-12-02 00:00:00",
         "10.49",
         "LubeLife Water-Based Personal Lubricant, Lube for Men, Women and Couples, Non-Staining, 12 Fl Oz",
         "B07DGQ4QR3",
         "BODY_LUBRICANT",
         "R_01vNIayewjIIKMF",
         "4.5",
         "166209.0",
         "Health & Household",
         "Sexual Wellness",
         "Safer Sex",
         "Lubricants",
         null,
         null,
         null,
         null,
         "('Health & Household', 'Sexual Wellness', 'Safer Sex', 'Lubricants')"
        ],
        [
         "49",
         "2019-12-13 00:00:00",
         "16.99",
         "SAMSUNG (MB-ME128GA/AM) 128GB 100MB/s (U3) MicroSDXC EVO Select Memory Card with Full-Size Adapter",
         "B06XWZWYVP",
         "FLASH_MEMORY",
         "R_01vNIayewjIIKMF",
         "4.7",
         "142718.0",
         "Electronics",
         "Computers & Accessories",
         "Computer Accessories & Peripherals",
         "Memory Cards",
         "Micro SD Cards",
         null,
         null,
         null,
         "('Electronics', 'Computers & Accessories', 'Computer Accessories & Peripherals', 'Memory Cards', 'Micro SD Cards')"
        ],
        [
         "50",
         "2019-12-13 00:00:00",
         "5.54",
         "Pompeian USDA Organic Robust Extra Virgin Olive Oil, First Cold Pressed, Full-Bodied Flavor, Perfect for Salad Dressings & Marinades, 24 FL. OZ.",
         "B017ALC6GW",
         "EDIBLE_OIL_VEGETABLE",
         "R_01vNIayewjIIKMF",
         "4.7",
         "24304.0",
         "Grocery & Gourmet Food",
         "Pantry Staples",
         "Cooking & Baking",
         "Cooking Oils, Vinegars & Sprays",
         "Oils",
         "Olive",
         null,
         null,
         "('Grocery & Gourmet Food', 'Pantry Staples', 'Cooking & Baking', 'Cooking Oils, Vinegars & Sprays', 'Oils', 'Olive')"
        ],
        [
         "51",
         "2019-12-13 00:00:00",
         "7.49",
         "BetterBody Foods Refined Avocado Oil, Non-GMO Cooking Oil, Kosher, Keto and Paleo Diet Friendly, for High-Heat Cooking, Frying, Baking, 100% Pure Avocado Oil, 500 mL, 16.9 Fl Oz",
         "B01IQ00B04",
         "EDIBLE_OIL_VEGETABLE",
         "R_01vNIayewjIIKMF",
         "4.8",
         "25550.0",
         "Grocery & Gourmet Food",
         "Pantry Staples",
         "Cooking & Baking",
         "Cooking Oils, Vinegars & Sprays",
         "Oils",
         "Avocado",
         null,
         null,
         "('Grocery & Gourmet Food', 'Pantry Staples', 'Cooking & Baking', 'Cooking Oils, Vinegars & Sprays', 'Oils', 'Avocado')"
        ],
        [
         "52",
         "2019-12-14 00:00:00",
         "25.99",
         "Tracy's Dog Male Masturbators Cup Adult Sex Toys Realistic Textured Pocket Vagina Pussy Man Masturbation Stroker",
         "B07H8GC6WL",
         "SEXUAL_STIMULATION_DEVICE",
         "R_01vNIayewjIIKMF",
         "4.0",
         "11712.0",
         "Health & Household",
         "Sexual Wellness",
         "Adult Toys & Games",
         "Sex Toys",
         "Male Masturbators",
         null,
         null,
         null,
         "('Health & Household', 'Sexual Wellness', 'Adult Toys & Games', 'Sex Toys', 'Male Masturbators')"
        ],
        [
         "53",
         "2019-12-14 00:00:00",
         "9.99",
         "Tracy's Dog Male Masturbator, Deep Throat Blow Job Stroker Realistic Mouth with Teeth and Tongue, Close-Ended Pocket Pal Oral Adult Sex Toys for Man Masturbation",
         "B01DVLP2UW",
         "SEXUAL_STIMULATION_DEVICE",
         "R_01vNIayewjIIKMF",
         "4.0",
         "3415.0",
         "Health & Household",
         "Sexual Wellness",
         "Adult Toys & Games",
         "Sex Toys",
         "Male Masturbators",
         null,
         null,
         null,
         "('Health & Household', 'Sexual Wellness', 'Adult Toys & Games', 'Sex Toys', 'Male Masturbators')"
        ],
        [
         "54",
         "2019-12-14 00:00:00",
         "8.6",
         "#LubeLife Water-Based Personal Lubricant, Lube for Men, Women and Couples, Non-Staining, 8 Fl Oz",
         "B075SN1MY9",
         "BODY_LUBRICANT",
         "R_01vNIayewjIIKMF",
         "4.5",
         "166209.0",
         "Health & Household",
         "Sexual Wellness",
         "Safer Sex",
         "Lubricants",
         null,
         null,
         null,
         null,
         "('Health & Household', 'Sexual Wellness', 'Safer Sex', 'Lubricants')"
        ],
        [
         "55",
         "2019-12-14 00:00:00",
         "1.99",
         "TOYMYTOY A5 Plastic Poly Zipper Envelope File Folder Bags File Pockets,24x18cm,40Pcs (Red Yellow Blue Green)",
         "B07GKKSXBS",
         "FILE_FOLDER",
         "R_01vNIayewjIIKMF",
         "5.0",
         "1.0",
         "Office Products",
         "Office & School Supplies",
         "Filing Products",
         "Filing Envelopes",
         null,
         null,
         null,
         null,
         "('Office Products', 'Office & School Supplies', 'Filing Products', 'Filing Envelopes')"
        ],
        [
         "56",
         "2019-12-20 00:00:00",
         "14.99",
         "Betron BS10 Earphones Wired Headphones in Ear Noise Isolating Earbuds with Microphone and Volume Control Powerful Bass Driven Sound, 12mm Large Drivers, Ergonomic Design",
         "B01MA1MJ6H",
         "HEADPHONES",
         "R_01vNIayewjIIKMF",
         "4.2",
         "26525.0",
         "Electronics",
         "Headphones, Earbuds & Accessories",
         "Headphones & Earbuds",
         "Earbud Headphones",
         null,
         null,
         null,
         null,
         "('Electronics', 'Headphones, Earbuds & Accessories', 'Headphones & Earbuds', 'Earbud Headphones')"
        ]
       ],
       "shape": {
        "columns": 17,
        "rows": 1593075
       }
      },
      "text/html": [
       "<div>\n",
       "<style scoped>\n",
       "    .dataframe tbody tr th:only-of-type {\n",
       "        vertical-align: middle;\n",
       "    }\n",
       "\n",
       "    .dataframe tbody tr th {\n",
       "        vertical-align: top;\n",
       "    }\n",
       "\n",
       "    .dataframe thead th {\n",
       "        text-align: right;\n",
       "    }\n",
       "</style>\n",
       "<table border=\"1\" class=\"dataframe\">\n",
       "  <thead>\n",
       "    <tr style=\"text-align: right;\">\n",
       "      <th></th>\n",
       "      <th>Order Date</th>\n",
       "      <th>Purchase Price Per Unit</th>\n",
       "      <th>Title</th>\n",
       "      <th>ASIN</th>\n",
       "      <th>Category</th>\n",
       "      <th>Survey ResponseID</th>\n",
       "      <th>Rating</th>\n",
       "      <th>Rating Count</th>\n",
       "      <th>Category 1</th>\n",
       "      <th>Category 2</th>\n",
       "      <th>Category 3</th>\n",
       "      <th>Category 4</th>\n",
       "      <th>Category 5</th>\n",
       "      <th>Category 6</th>\n",
       "      <th>Category 7</th>\n",
       "      <th>Category 8</th>\n",
       "      <th>group_key</th>\n",
       "    </tr>\n",
       "  </thead>\n",
       "  <tbody>\n",
       "    <tr>\n",
       "      <th>0</th>\n",
       "      <td>2018-12-04</td>\n",
       "      <td>7.98</td>\n",
       "      <td>SanDisk Ultra 16GB Class 10 SDHC UHS-I Memory ...</td>\n",
       "      <td>B0143RTB1E</td>\n",
       "      <td>FLASH_MEMORY</td>\n",
       "      <td>R_01vNIayewjIIKMF</td>\n",
       "      <td>4.7</td>\n",
       "      <td>118698.0</td>\n",
       "      <td>Electronics</td>\n",
       "      <td>Computers &amp; Accessories</td>\n",
       "      <td>Computer Accessories &amp; Peripherals</td>\n",
       "      <td>Memory Cards</td>\n",
       "      <td>SD Cards</td>\n",
       "      <td>NaN</td>\n",
       "      <td>NaN</td>\n",
       "      <td>NaN</td>\n",
       "      <td>(Electronics, Computers &amp; Accessories, Compute...</td>\n",
       "    </tr>\n",
       "    <tr>\n",
       "      <th>1</th>\n",
       "      <td>2018-12-22</td>\n",
       "      <td>13.99</td>\n",
       "      <td>Betron BS10 Earphones Wired Headphones in Ear ...</td>\n",
       "      <td>B01MA1MJ6H</td>\n",
       "      <td>HEADPHONES</td>\n",
       "      <td>R_01vNIayewjIIKMF</td>\n",
       "      <td>4.2</td>\n",
       "      <td>26525.0</td>\n",
       "      <td>Electronics</td>\n",
       "      <td>Headphones, Earbuds &amp; Accessories</td>\n",
       "      <td>Headphones &amp; Earbuds</td>\n",
       "      <td>Earbud Headphones</td>\n",
       "      <td>NaN</td>\n",
       "      <td>NaN</td>\n",
       "      <td>NaN</td>\n",
       "      <td>NaN</td>\n",
       "      <td>(Electronics, Headphones, Earbuds &amp; Accessorie...</td>\n",
       "    </tr>\n",
       "    <tr>\n",
       "      <th>3</th>\n",
       "      <td>2018-12-25</td>\n",
       "      <td>10.45</td>\n",
       "      <td>Perfecto Stainless Steel Shaving Bowl. Durable...</td>\n",
       "      <td>B06XWF9HML</td>\n",
       "      <td>DISHWARE_BOWL</td>\n",
       "      <td>R_01vNIayewjIIKMF</td>\n",
       "      <td>4.6</td>\n",
       "      <td>908.0</td>\n",
       "      <td>Beauty &amp; Personal Care</td>\n",
       "      <td>Shave &amp; Hair Removal</td>\n",
       "      <td>Men's</td>\n",
       "      <td>Shaving Accessories</td>\n",
       "      <td>Shaving Soap Bowls</td>\n",
       "      <td>NaN</td>\n",
       "      <td>NaN</td>\n",
       "      <td>NaN</td>\n",
       "      <td>(Beauty &amp; Personal Care, Shave &amp; Hair Removal,...</td>\n",
       "    </tr>\n",
       "    <tr>\n",
       "      <th>4</th>\n",
       "      <td>2018-12-25</td>\n",
       "      <td>10.00</td>\n",
       "      <td>Proraso Shaving Cream for Men</td>\n",
       "      <td>B00837ZOI0</td>\n",
       "      <td>SHAVING_AGENT</td>\n",
       "      <td>R_01vNIayewjIIKMF</td>\n",
       "      <td>4.7</td>\n",
       "      <td>12344.0</td>\n",
       "      <td>Beauty &amp; Personal Care</td>\n",
       "      <td>Shave &amp; Hair Removal</td>\n",
       "      <td>Men's</td>\n",
       "      <td>Shaving Creams, Lotions &amp; Gels</td>\n",
       "      <td>Shaving Creams</td>\n",
       "      <td>NaN</td>\n",
       "      <td>NaN</td>\n",
       "      <td>NaN</td>\n",
       "      <td>(Beauty &amp; Personal Care, Shave &amp; Hair Removal,...</td>\n",
       "    </tr>\n",
       "    <tr>\n",
       "      <th>5</th>\n",
       "      <td>2019-02-18</td>\n",
       "      <td>10.99</td>\n",
       "      <td>Micro USB Cable Android Charger - Syncwire [2-...</td>\n",
       "      <td>B01GFB2E9M</td>\n",
       "      <td>COMPUTER_PROCESSOR</td>\n",
       "      <td>R_01vNIayewjIIKMF</td>\n",
       "      <td>4.5</td>\n",
       "      <td>25562.0</td>\n",
       "      <td>Electronics</td>\n",
       "      <td>Computers &amp; Accessories</td>\n",
       "      <td>Computer Accessories &amp; Peripherals</td>\n",
       "      <td>Cables &amp; Accessories</td>\n",
       "      <td>Cables &amp; Interconnects</td>\n",
       "      <td>USB Cables</td>\n",
       "      <td>NaN</td>\n",
       "      <td>NaN</td>\n",
       "      <td>(Electronics, Computers &amp; Accessories, Compute...</td>\n",
       "    </tr>\n",
       "    <tr>\n",
       "      <th>...</th>\n",
       "      <td>...</td>\n",
       "      <td>...</td>\n",
       "      <td>...</td>\n",
       "      <td>...</td>\n",
       "      <td>...</td>\n",
       "      <td>...</td>\n",
       "      <td>...</td>\n",
       "      <td>...</td>\n",
       "      <td>...</td>\n",
       "      <td>...</td>\n",
       "      <td>...</td>\n",
       "      <td>...</td>\n",
       "      <td>...</td>\n",
       "      <td>...</td>\n",
       "      <td>...</td>\n",
       "      <td>...</td>\n",
       "      <td>...</td>\n",
       "    </tr>\n",
       "    <tr>\n",
       "      <th>1837545</th>\n",
       "      <td>2021-04-01</td>\n",
       "      <td>6.99</td>\n",
       "      <td>Tanner's Tasty Paste Vanilla Bling - Anticavit...</td>\n",
       "      <td>B015ZRTHVA</td>\n",
       "      <td>TOOTH_CLEANING_AGENT</td>\n",
       "      <td>R_zfqnsBzlOAKibzb</td>\n",
       "      <td>4.6</td>\n",
       "      <td>4304.0</td>\n",
       "      <td>Health &amp; Household</td>\n",
       "      <td>Oral Care</td>\n",
       "      <td>Baby &amp; Child Dental Care</td>\n",
       "      <td>Children's Dental Care</td>\n",
       "      <td>Toothpaste</td>\n",
       "      <td>NaN</td>\n",
       "      <td>NaN</td>\n",
       "      <td>NaN</td>\n",
       "      <td>(Health &amp; Household, Oral Care, Baby &amp; Child D...</td>\n",
       "    </tr>\n",
       "    <tr>\n",
       "      <th>1837546</th>\n",
       "      <td>2021-04-14</td>\n",
       "      <td>15.99</td>\n",
       "      <td>Sinland Microfiber Cleaning Cloth Dish Cloth K...</td>\n",
       "      <td>B00QGCXPRG</td>\n",
       "      <td>TOWEL</td>\n",
       "      <td>R_zfqnsBzlOAKibzb</td>\n",
       "      <td>4.6</td>\n",
       "      <td>2312.0</td>\n",
       "      <td>Health &amp; Household</td>\n",
       "      <td>Household Supplies</td>\n",
       "      <td>Cleaning Tools</td>\n",
       "      <td>Cleaning Cloths</td>\n",
       "      <td>NaN</td>\n",
       "      <td>NaN</td>\n",
       "      <td>NaN</td>\n",
       "      <td>NaN</td>\n",
       "      <td>(Health &amp; Household, Household Supplies, Clean...</td>\n",
       "    </tr>\n",
       "    <tr>\n",
       "      <th>1837547</th>\n",
       "      <td>2021-05-22</td>\n",
       "      <td>6.99</td>\n",
       "      <td>Tanner's Tasty Paste Vanilla Bling - Anticavit...</td>\n",
       "      <td>B015ZRTHVA</td>\n",
       "      <td>TOOTH_CLEANING_AGENT</td>\n",
       "      <td>R_zfqnsBzlOAKibzb</td>\n",
       "      <td>4.6</td>\n",
       "      <td>4304.0</td>\n",
       "      <td>Health &amp; Household</td>\n",
       "      <td>Oral Care</td>\n",
       "      <td>Baby &amp; Child Dental Care</td>\n",
       "      <td>Children's Dental Care</td>\n",
       "      <td>Toothpaste</td>\n",
       "      <td>NaN</td>\n",
       "      <td>NaN</td>\n",
       "      <td>NaN</td>\n",
       "      <td>(Health &amp; Household, Oral Care, Baby &amp; Child D...</td>\n",
       "    </tr>\n",
       "    <tr>\n",
       "      <th>1837548</th>\n",
       "      <td>2021-12-01</td>\n",
       "      <td>6.99</td>\n",
       "      <td>Tanner's Tasty Paste Vanilla Bling - Anticavit...</td>\n",
       "      <td>B015ZRTHVA</td>\n",
       "      <td>TOOTH_CLEANING_AGENT</td>\n",
       "      <td>R_zfqnsBzlOAKibzb</td>\n",
       "      <td>4.6</td>\n",
       "      <td>4304.0</td>\n",
       "      <td>Health &amp; Household</td>\n",
       "      <td>Oral Care</td>\n",
       "      <td>Baby &amp; Child Dental Care</td>\n",
       "      <td>Children's Dental Care</td>\n",
       "      <td>Toothpaste</td>\n",
       "      <td>NaN</td>\n",
       "      <td>NaN</td>\n",
       "      <td>NaN</td>\n",
       "      <td>(Health &amp; Household, Oral Care, Baby &amp; Child D...</td>\n",
       "    </tr>\n",
       "    <tr>\n",
       "      <th>1837549</th>\n",
       "      <td>2022-09-19</td>\n",
       "      <td>19.99</td>\n",
       "      <td>Wild Mystic Oracle Card Deck: A 50-Card Deck a...</td>\n",
       "      <td>1441337652</td>\n",
       "      <td>ABIS_BOOK</td>\n",
       "      <td>R_zfqnsBzlOAKibzb</td>\n",
       "      <td>4.8</td>\n",
       "      <td>753.0</td>\n",
       "      <td>Books</td>\n",
       "      <td>Religion &amp; Spirituality</td>\n",
       "      <td>New Age &amp; Spirituality</td>\n",
       "      <td>Divination</td>\n",
       "      <td>Tarot</td>\n",
       "      <td>NaN</td>\n",
       "      <td>NaN</td>\n",
       "      <td>NaN</td>\n",
       "      <td>(Books, Religion &amp; Spirituality, New Age &amp; Spi...</td>\n",
       "    </tr>\n",
       "  </tbody>\n",
       "</table>\n",
       "<p>1593075 rows × 17 columns</p>\n",
       "</div>"
      ],
      "text/plain": [
       "        Order Date  Purchase Price Per Unit  \\\n",
       "0       2018-12-04                     7.98   \n",
       "1       2018-12-22                    13.99   \n",
       "3       2018-12-25                    10.45   \n",
       "4       2018-12-25                    10.00   \n",
       "5       2019-02-18                    10.99   \n",
       "...            ...                      ...   \n",
       "1837545 2021-04-01                     6.99   \n",
       "1837546 2021-04-14                    15.99   \n",
       "1837547 2021-05-22                     6.99   \n",
       "1837548 2021-12-01                     6.99   \n",
       "1837549 2022-09-19                    19.99   \n",
       "\n",
       "                                                     Title        ASIN  \\\n",
       "0        SanDisk Ultra 16GB Class 10 SDHC UHS-I Memory ...  B0143RTB1E   \n",
       "1        Betron BS10 Earphones Wired Headphones in Ear ...  B01MA1MJ6H   \n",
       "3        Perfecto Stainless Steel Shaving Bowl. Durable...  B06XWF9HML   \n",
       "4                            Proraso Shaving Cream for Men  B00837ZOI0   \n",
       "5        Micro USB Cable Android Charger - Syncwire [2-...  B01GFB2E9M   \n",
       "...                                                    ...         ...   \n",
       "1837545  Tanner's Tasty Paste Vanilla Bling - Anticavit...  B015ZRTHVA   \n",
       "1837546  Sinland Microfiber Cleaning Cloth Dish Cloth K...  B00QGCXPRG   \n",
       "1837547  Tanner's Tasty Paste Vanilla Bling - Anticavit...  B015ZRTHVA   \n",
       "1837548  Tanner's Tasty Paste Vanilla Bling - Anticavit...  B015ZRTHVA   \n",
       "1837549  Wild Mystic Oracle Card Deck: A 50-Card Deck a...  1441337652   \n",
       "\n",
       "                     Category  Survey ResponseID Rating  Rating Count  \\\n",
       "0                FLASH_MEMORY  R_01vNIayewjIIKMF    4.7      118698.0   \n",
       "1                  HEADPHONES  R_01vNIayewjIIKMF    4.2       26525.0   \n",
       "3               DISHWARE_BOWL  R_01vNIayewjIIKMF    4.6         908.0   \n",
       "4               SHAVING_AGENT  R_01vNIayewjIIKMF    4.7       12344.0   \n",
       "5          COMPUTER_PROCESSOR  R_01vNIayewjIIKMF    4.5       25562.0   \n",
       "...                       ...                ...    ...           ...   \n",
       "1837545  TOOTH_CLEANING_AGENT  R_zfqnsBzlOAKibzb    4.6        4304.0   \n",
       "1837546                 TOWEL  R_zfqnsBzlOAKibzb    4.6        2312.0   \n",
       "1837547  TOOTH_CLEANING_AGENT  R_zfqnsBzlOAKibzb    4.6        4304.0   \n",
       "1837548  TOOTH_CLEANING_AGENT  R_zfqnsBzlOAKibzb    4.6        4304.0   \n",
       "1837549             ABIS_BOOK  R_zfqnsBzlOAKibzb    4.8         753.0   \n",
       "\n",
       "                     Category 1                         Category 2  \\\n",
       "0                   Electronics            Computers & Accessories   \n",
       "1                   Electronics  Headphones, Earbuds & Accessories   \n",
       "3        Beauty & Personal Care               Shave & Hair Removal   \n",
       "4        Beauty & Personal Care               Shave & Hair Removal   \n",
       "5                   Electronics            Computers & Accessories   \n",
       "...                         ...                                ...   \n",
       "1837545      Health & Household                          Oral Care   \n",
       "1837546      Health & Household                 Household Supplies   \n",
       "1837547      Health & Household                          Oral Care   \n",
       "1837548      Health & Household                          Oral Care   \n",
       "1837549                   Books            Religion & Spirituality   \n",
       "\n",
       "                                 Category 3                      Category 4  \\\n",
       "0        Computer Accessories & Peripherals                    Memory Cards   \n",
       "1                      Headphones & Earbuds               Earbud Headphones   \n",
       "3                                     Men's             Shaving Accessories   \n",
       "4                                     Men's  Shaving Creams, Lotions & Gels   \n",
       "5        Computer Accessories & Peripherals            Cables & Accessories   \n",
       "...                                     ...                             ...   \n",
       "1837545            Baby & Child Dental Care          Children's Dental Care   \n",
       "1837546                      Cleaning Tools                 Cleaning Cloths   \n",
       "1837547            Baby & Child Dental Care          Children's Dental Care   \n",
       "1837548            Baby & Child Dental Care          Children's Dental Care   \n",
       "1837549              New Age & Spirituality                      Divination   \n",
       "\n",
       "                     Category 5  Category 6 Category 7 Category 8  \\\n",
       "0                      SD Cards         NaN        NaN        NaN   \n",
       "1                           NaN         NaN        NaN        NaN   \n",
       "3            Shaving Soap Bowls         NaN        NaN        NaN   \n",
       "4                Shaving Creams         NaN        NaN        NaN   \n",
       "5        Cables & Interconnects  USB Cables        NaN        NaN   \n",
       "...                         ...         ...        ...        ...   \n",
       "1837545              Toothpaste         NaN        NaN        NaN   \n",
       "1837546                     NaN         NaN        NaN        NaN   \n",
       "1837547              Toothpaste         NaN        NaN        NaN   \n",
       "1837548              Toothpaste         NaN        NaN        NaN   \n",
       "1837549                   Tarot         NaN        NaN        NaN   \n",
       "\n",
       "                                                 group_key  \n",
       "0        (Electronics, Computers & Accessories, Compute...  \n",
       "1        (Electronics, Headphones, Earbuds & Accessorie...  \n",
       "3        (Beauty & Personal Care, Shave & Hair Removal,...  \n",
       "4        (Beauty & Personal Care, Shave & Hair Removal,...  \n",
       "5        (Electronics, Computers & Accessories, Compute...  \n",
       "...                                                    ...  \n",
       "1837545  (Health & Household, Oral Care, Baby & Child D...  \n",
       "1837546  (Health & Household, Household Supplies, Clean...  \n",
       "1837547  (Health & Household, Oral Care, Baby & Child D...  \n",
       "1837548  (Health & Household, Oral Care, Baby & Child D...  \n",
       "1837549  (Books, Religion & Spirituality, New Age & Spi...  \n",
       "\n",
       "[1593075 rows x 17 columns]"
      ]
     },
     "execution_count": 41,
     "metadata": {},
     "output_type": "execute_result"
    }
   ],
   "source": [
    "transaction_known = transaction_filtered[transaction_filtered['group_key'] != 'unknown']\n",
    "transaction_known"
   ]
  },
  {
   "cell_type": "code",
   "execution_count": 42,
   "id": "29db2e7a",
   "metadata": {},
   "outputs": [
    {
     "data": {
      "application/vnd.microsoft.datawrangler.viewer.v0+json": {
       "columns": [
        {
         "name": "index",
         "rawType": "object",
         "type": "string"
        },
        {
         "name": "0",
         "rawType": "int64",
         "type": "integer"
        }
       ],
       "ref": "44e5ec7b-2585-4af0-b68d-6adc9adbe277",
       "rows": [
        [
         "Order Date",
         "0"
        ],
        [
         "Purchase Price Per Unit",
         "0"
        ],
        [
         "Title",
         "2"
        ],
        [
         "ASIN",
         "0"
        ],
        [
         "Category",
         "217"
        ],
        [
         "Survey ResponseID",
         "0"
        ],
        [
         "Rating",
         "31248"
        ],
        [
         "Rating Count",
         "34201"
        ],
        [
         "Category 1",
         "39119"
        ],
        [
         "Category 2",
         "39119"
        ],
        [
         "Category 3",
         "74479"
        ],
        [
         "Category 4",
         "246927"
        ],
        [
         "Category 5",
         "889416"
        ],
        [
         "Category 6",
         "1449198"
        ],
        [
         "Category 7",
         "1568978"
        ],
        [
         "Category 8",
         "1592619"
        ],
        [
         "group_key",
         "0"
        ]
       ],
       "shape": {
        "columns": 1,
        "rows": 17
       }
      },
      "text/plain": [
       "Order Date                       0\n",
       "Purchase Price Per Unit          0\n",
       "Title                            2\n",
       "ASIN                             0\n",
       "Category                       217\n",
       "Survey ResponseID                0\n",
       "Rating                       31248\n",
       "Rating Count                 34201\n",
       "Category 1                   39119\n",
       "Category 2                   39119\n",
       "Category 3                   74479\n",
       "Category 4                  246927\n",
       "Category 5                  889416\n",
       "Category 6                 1449198\n",
       "Category 7                 1568978\n",
       "Category 8                 1592619\n",
       "group_key                        0\n",
       "dtype: int64"
      ]
     },
     "execution_count": 42,
     "metadata": {},
     "output_type": "execute_result"
    }
   ],
   "source": [
    "transaction_filtered[transaction_filtered['group_key'] != 'unknown'].isnull().sum()"
   ]
  },
  {
   "cell_type": "code",
   "execution_count": 43,
   "id": "604772af",
   "metadata": {},
   "outputs": [
    {
     "data": {
      "application/vnd.microsoft.datawrangler.viewer.v0+json": {
       "columns": [
        {
         "name": "index",
         "rawType": "int64",
         "type": "integer"
        },
        {
         "name": "Order Date",
         "rawType": "datetime64[ns]",
         "type": "datetime"
        },
        {
         "name": "ASIN/ISBN (Product Code)",
         "rawType": "object",
         "type": "string"
        },
        {
         "name": "Category",
         "rawType": "object",
         "type": "unknown"
        },
        {
         "name": "Survey ResponseID",
         "rawType": "object",
         "type": "string"
        }
       ],
       "ref": "9a1bfd52-660f-475e-867a-1333093df53c",
       "rows": [
        [
         "0",
         "2018-12-04 00:00:00",
         "B0143RTB1E",
         "('Electronics', 'Computers & Accessories', 'Computer Accessories & Peripherals', 'Memory Cards', 'SD Cards')",
         "R_01vNIayewjIIKMF"
        ],
        [
         "1",
         "2018-12-22 00:00:00",
         "B01MA1MJ6H",
         "('Electronics', 'Headphones, Earbuds & Accessories', 'Headphones & Earbuds', 'Earbud Headphones')",
         "R_01vNIayewjIIKMF"
        ],
        [
         "3",
         "2018-12-25 00:00:00",
         "B06XWF9HML",
         "('Beauty & Personal Care', 'Shave & Hair Removal', \"Men's\", 'Shaving Accessories', 'Shaving Soap Bowls')",
         "R_01vNIayewjIIKMF"
        ],
        [
         "4",
         "2018-12-25 00:00:00",
         "B00837ZOI0",
         "('Beauty & Personal Care', 'Shave & Hair Removal', \"Men's\", 'Shaving Creams, Lotions & Gels', 'Shaving Creams')",
         "R_01vNIayewjIIKMF"
        ],
        [
         "5",
         "2019-02-18 00:00:00",
         "B01GFB2E9M",
         "('Electronics', 'Computers & Accessories', 'Computer Accessories & Peripherals', 'Cables & Accessories', 'Cables & Interconnects', 'USB Cables')",
         "R_01vNIayewjIIKMF"
        ],
        [
         "6",
         "2019-02-18 00:00:00",
         "B00NH13S44",
         "('Electronics', 'Computers & Accessories', 'Computer Accessories & Peripherals', 'Cables & Accessories', 'Cables & Interconnects', 'USB Cables')",
         "R_01vNIayewjIIKMF"
        ],
        [
         "8",
         "2019-04-23 00:00:00",
         "B07L84ZZXC",
         "('Clothing, Shoes & Jewelry', 'Sport Specific Clothing', 'Golf', 'Men', 'Accessories', 'Belts')",
         "R_01vNIayewjIIKMF"
        ],
        [
         "10",
         "2019-05-02 00:00:00",
         "B07CG71KQ1",
         "('Electronics', 'Computers & Accessories', 'Tablet Accessories', 'Stands')",
         "R_01vNIayewjIIKMF"
        ],
        [
         "11",
         "2019-05-02 00:00:00",
         "B079GFF4HZ",
         "('Electronics', 'Headphones, Earbuds & Accessories', 'Headphones & Earbuds', 'Earbud Headphones')",
         "R_01vNIayewjIIKMF"
        ],
        [
         "12",
         "2019-05-11 00:00:00",
         "B01M0Q84BR",
         "('Home & Kitchen', 'Kitchen & Dining', 'Coffee, Tea & Espresso', 'Kettles & Tea Machines', 'Electric Kettles')",
         "R_01vNIayewjIIKMF"
        ],
        [
         "13",
         "2019-05-16 00:00:00",
         "B01MA1MJ6H",
         "('Electronics', 'Headphones, Earbuds & Accessories', 'Headphones & Earbuds', 'Earbud Headphones')",
         "R_01vNIayewjIIKMF"
        ],
        [
         "14",
         "2019-06-15 00:00:00",
         "B073JYC4XM",
         "('Electronics', 'Computers & Accessories', 'Computer Accessories & Peripherals', 'Memory Cards', 'Micro SD Cards')",
         "R_01vNIayewjIIKMF"
        ],
        [
         "15",
         "2019-06-15 00:00:00",
         "B00I7DT454",
         "('Health & Household', 'Sexual Wellness', 'Safer Sex', 'Lubricants')",
         "R_01vNIayewjIIKMF"
        ],
        [
         "16",
         "2019-06-25 00:00:00",
         "B01MA1MJ6H",
         "('Electronics', 'Headphones, Earbuds & Accessories', 'Headphones & Earbuds', 'Earbud Headphones')",
         "R_01vNIayewjIIKMF"
        ],
        [
         "17",
         "2019-07-14 00:00:00",
         "B0043T7FXE",
         "('Electronics', 'Computers & Accessories', 'Computer Accessories & Peripherals', 'Keyboards, Mice & Accessories', 'Mice')",
         "R_01vNIayewjIIKMF"
        ],
        [
         "18",
         "2019-08-02 00:00:00",
         "B01M2V05RE",
         "('Electronics', 'Headphones, Earbuds & Accessories', 'Headphones & Earbuds', 'Earbud Headphones')",
         "R_01vNIayewjIIKMF"
        ],
        [
         "19",
         "2019-08-10 00:00:00",
         "B07BCZMBNR",
         "('Cell Phones & Accessories', 'Cases, Holsters & Sleeves', 'Basic Cases')",
         "R_01vNIayewjIIKMF"
        ],
        [
         "21",
         "2019-09-09 00:00:00",
         "B01MZ956SX",
         "('Electronics', 'Computers & Accessories', 'Laptop Accessories', 'Bags, Cases & Sleeves', 'Messenger & Shoulder Bags')",
         "R_01vNIayewjIIKMF"
        ],
        [
         "22",
         "2019-09-09 00:00:00",
         "B07JCJP1DK",
         "('Clothing, Shoes & Jewelry', 'Men', 'Clothing', 'Underwear', 'Boxer Briefs')",
         "R_01vNIayewjIIKMF"
        ],
        [
         "23",
         "2019-09-13 00:00:00",
         "B07JD5B8SP",
         "('Clothing, Shoes & Jewelry', 'Men', 'Clothing', 'Underwear', 'Boxer Briefs')",
         "R_01vNIayewjIIKMF"
        ],
        [
         "24",
         "2019-09-13 00:00:00",
         "B071XGLB1S",
         "('Arts, Crafts & Sewing', 'Sewing', 'Sewing Notions & Supplies', 'Sewing Tools', 'Tape Measures & Rulers', 'Tape Measures')",
         "R_01vNIayewjIIKMF"
        ],
        [
         "26",
         "2019-09-27 00:00:00",
         "B07D5V2ZXD",
         "('Electronics', 'Computers & Accessories', 'Data Storage', 'External Hard Drives')",
         "R_01vNIayewjIIKMF"
        ],
        [
         "27",
         "2019-09-28 00:00:00",
         "B01BNEWDFQ",
         "('Health & Household', 'Oral Care', 'Toothpaste')",
         "R_01vNIayewjIIKMF"
        ],
        [
         "28",
         "2019-09-28 00:00:00",
         "B01NBYY28W",
         "('Health & Household', 'Household Supplies', 'Tissues, Toilet Paper & Sprays', 'Toilet Paper')",
         "R_01vNIayewjIIKMF"
        ],
        [
         "29",
         "2019-09-28 00:00:00",
         "B019FGCOW6",
         "('Health & Household', 'Oral Care', 'Mouthwash')",
         "R_01vNIayewjIIKMF"
        ],
        [
         "30",
         "2019-10-02 00:00:00",
         "B072JYDQ7N",
         "('Electronics', 'Computers & Accessories', 'Computer Accessories & Peripherals', 'Cables & Accessories', 'Cables & Interconnects', 'USB Cables')",
         "R_01vNIayewjIIKMF"
        ],
        [
         "31",
         "2019-10-02 00:00:00",
         "B00MUJU33S",
         "('Tools & Home Improvement', 'Power & Hand Tools', 'Hand Tools', 'Screwdrivers & Nut Drivers', 'Screwdriver Sets')",
         "R_01vNIayewjIIKMF"
        ],
        [
         "32",
         "2019-10-05 00:00:00",
         "B07RTN4C77",
         "('Gift Cards', 'Gift Cards')",
         "R_01vNIayewjIIKMF"
        ],
        [
         "33",
         "2019-10-06 00:00:00",
         "B07RTN4C77",
         "('Gift Cards', 'Gift Cards')",
         "R_01vNIayewjIIKMF"
        ],
        [
         "34",
         "2019-10-07 00:00:00",
         "B01IQ00B04",
         "('Grocery & Gourmet Food', 'Pantry Staples', 'Cooking & Baking', 'Cooking Oils, Vinegars & Sprays', 'Oils', 'Avocado')",
         "R_01vNIayewjIIKMF"
        ],
        [
         "36",
         "2019-10-07 00:00:00",
         "B017ALC6GW",
         "('Grocery & Gourmet Food', 'Pantry Staples', 'Cooking & Baking', 'Cooking Oils, Vinegars & Sprays', 'Oils', 'Olive')",
         "R_01vNIayewjIIKMF"
        ],
        [
         "37",
         "2019-10-12 00:00:00",
         "B0741FV7ZV",
         "('Cell Phones & Accessories', 'SIM Cards & Prepaid Minutes', 'SIM Cards')",
         "R_01vNIayewjIIKMF"
        ],
        [
         "38",
         "2019-10-16 00:00:00",
         "B006MIPW70",
         "('Home & Kitchen', 'Furniture', 'Bedroom Furniture', 'Beds, Frames & Bases', 'Bed Frames')",
         "R_01vNIayewjIIKMF"
        ],
        [
         "39",
         "2019-10-18 00:00:00",
         "B01LZKYNIM",
         "('Grocery & Gourmet Food', 'Pantry Staples', 'Herbs, Spices & Seasonings', 'Pepper & Peppercorns', 'Peppercorns')",
         "R_01vNIayewjIIKMF"
        ],
        [
         "41",
         "2019-10-31 00:00:00",
         "B00NC8QEKM",
         "('Grocery & Gourmet Food', 'Deli & Prepared Foods', 'Deli Meats & Cheeses', 'Prepackaged Deli Meats', 'Ham')",
         "R_01vNIayewjIIKMF"
        ],
        [
         "42",
         "2019-10-31 00:00:00",
         "B0011EKWBQ",
         "('Grocery & Gourmet Food', 'Dairy, Eggs & Plant-Based Alternatives', 'Butter, Margarine & Plant-Based Alternatives', 'Butter')",
         "R_01vNIayewjIIKMF"
        ],
        [
         "43",
         "2019-10-31 00:00:00",
         "B00NC882CA",
         "('Grocery & Gourmet Food', 'Dairy, Eggs & Plant-Based Alternatives', 'Packaged Cheese', 'Mozzarella')",
         "R_01vNIayewjIIKMF"
        ],
        [
         "44",
         "2019-10-31 00:00:00",
         "B00B9GUZP4",
         "('Grocery & Gourmet Food', 'Snacks & Sweets', 'Snack Foods', 'Meat Snacks', 'Jerky')",
         "R_01vNIayewjIIKMF"
        ],
        [
         "45",
         "2019-11-25 00:00:00",
         "B000QD9C8M",
         "('Health & Household', 'Sexual Wellness', 'Safer Sex', 'Lubricants')",
         "R_01vNIayewjIIKMF"
        ],
        [
         "46",
         "2019-11-25 00:00:00",
         "B01LZ5SB6U",
         "('Health & Household', 'Sexual Wellness', 'Adult Toys & Games', 'Sex Toys', 'Male Masturbators')",
         "R_01vNIayewjIIKMF"
        ],
        [
         "47",
         "2019-12-02 00:00:00",
         "B072HRDM55",
         "('Electronics', 'Computers & Accessories', 'Computer Accessories & Peripherals', 'Memory Cards', 'Micro SD Cards')",
         "R_01vNIayewjIIKMF"
        ],
        [
         "48",
         "2019-12-02 00:00:00",
         "B07DGQ4QR3",
         "('Health & Household', 'Sexual Wellness', 'Safer Sex', 'Lubricants')",
         "R_01vNIayewjIIKMF"
        ],
        [
         "49",
         "2019-12-13 00:00:00",
         "B06XWZWYVP",
         "('Electronics', 'Computers & Accessories', 'Computer Accessories & Peripherals', 'Memory Cards', 'Micro SD Cards')",
         "R_01vNIayewjIIKMF"
        ],
        [
         "50",
         "2019-12-13 00:00:00",
         "B017ALC6GW",
         "('Grocery & Gourmet Food', 'Pantry Staples', 'Cooking & Baking', 'Cooking Oils, Vinegars & Sprays', 'Oils', 'Olive')",
         "R_01vNIayewjIIKMF"
        ],
        [
         "51",
         "2019-12-13 00:00:00",
         "B01IQ00B04",
         "('Grocery & Gourmet Food', 'Pantry Staples', 'Cooking & Baking', 'Cooking Oils, Vinegars & Sprays', 'Oils', 'Avocado')",
         "R_01vNIayewjIIKMF"
        ],
        [
         "52",
         "2019-12-14 00:00:00",
         "B07H8GC6WL",
         "('Health & Household', 'Sexual Wellness', 'Adult Toys & Games', 'Sex Toys', 'Male Masturbators')",
         "R_01vNIayewjIIKMF"
        ],
        [
         "53",
         "2019-12-14 00:00:00",
         "B01DVLP2UW",
         "('Health & Household', 'Sexual Wellness', 'Adult Toys & Games', 'Sex Toys', 'Male Masturbators')",
         "R_01vNIayewjIIKMF"
        ],
        [
         "54",
         "2019-12-14 00:00:00",
         "B075SN1MY9",
         "('Health & Household', 'Sexual Wellness', 'Safer Sex', 'Lubricants')",
         "R_01vNIayewjIIKMF"
        ],
        [
         "55",
         "2019-12-14 00:00:00",
         "B07GKKSXBS",
         "('Office Products', 'Office & School Supplies', 'Filing Products', 'Filing Envelopes')",
         "R_01vNIayewjIIKMF"
        ],
        [
         "56",
         "2019-12-20 00:00:00",
         "B01MA1MJ6H",
         "('Electronics', 'Headphones, Earbuds & Accessories', 'Headphones & Earbuds', 'Earbud Headphones')",
         "R_01vNIayewjIIKMF"
        ]
       ],
       "shape": {
        "columns": 4,
        "rows": 1593075
       }
      },
      "text/html": [
       "<div>\n",
       "<style scoped>\n",
       "    .dataframe tbody tr th:only-of-type {\n",
       "        vertical-align: middle;\n",
       "    }\n",
       "\n",
       "    .dataframe tbody tr th {\n",
       "        vertical-align: top;\n",
       "    }\n",
       "\n",
       "    .dataframe thead th {\n",
       "        text-align: right;\n",
       "    }\n",
       "</style>\n",
       "<table border=\"1\" class=\"dataframe\">\n",
       "  <thead>\n",
       "    <tr style=\"text-align: right;\">\n",
       "      <th></th>\n",
       "      <th>Order Date</th>\n",
       "      <th>ASIN/ISBN (Product Code)</th>\n",
       "      <th>Category</th>\n",
       "      <th>Survey ResponseID</th>\n",
       "    </tr>\n",
       "  </thead>\n",
       "  <tbody>\n",
       "    <tr>\n",
       "      <th>0</th>\n",
       "      <td>2018-12-04</td>\n",
       "      <td>B0143RTB1E</td>\n",
       "      <td>(Electronics, Computers &amp; Accessories, Compute...</td>\n",
       "      <td>R_01vNIayewjIIKMF</td>\n",
       "    </tr>\n",
       "    <tr>\n",
       "      <th>1</th>\n",
       "      <td>2018-12-22</td>\n",
       "      <td>B01MA1MJ6H</td>\n",
       "      <td>(Electronics, Headphones, Earbuds &amp; Accessorie...</td>\n",
       "      <td>R_01vNIayewjIIKMF</td>\n",
       "    </tr>\n",
       "    <tr>\n",
       "      <th>3</th>\n",
       "      <td>2018-12-25</td>\n",
       "      <td>B06XWF9HML</td>\n",
       "      <td>(Beauty &amp; Personal Care, Shave &amp; Hair Removal,...</td>\n",
       "      <td>R_01vNIayewjIIKMF</td>\n",
       "    </tr>\n",
       "    <tr>\n",
       "      <th>4</th>\n",
       "      <td>2018-12-25</td>\n",
       "      <td>B00837ZOI0</td>\n",
       "      <td>(Beauty &amp; Personal Care, Shave &amp; Hair Removal,...</td>\n",
       "      <td>R_01vNIayewjIIKMF</td>\n",
       "    </tr>\n",
       "    <tr>\n",
       "      <th>5</th>\n",
       "      <td>2019-02-18</td>\n",
       "      <td>B01GFB2E9M</td>\n",
       "      <td>(Electronics, Computers &amp; Accessories, Compute...</td>\n",
       "      <td>R_01vNIayewjIIKMF</td>\n",
       "    </tr>\n",
       "    <tr>\n",
       "      <th>...</th>\n",
       "      <td>...</td>\n",
       "      <td>...</td>\n",
       "      <td>...</td>\n",
       "      <td>...</td>\n",
       "    </tr>\n",
       "    <tr>\n",
       "      <th>1837545</th>\n",
       "      <td>2021-04-01</td>\n",
       "      <td>B015ZRTHVA</td>\n",
       "      <td>(Health &amp; Household, Oral Care, Baby &amp; Child D...</td>\n",
       "      <td>R_zfqnsBzlOAKibzb</td>\n",
       "    </tr>\n",
       "    <tr>\n",
       "      <th>1837546</th>\n",
       "      <td>2021-04-14</td>\n",
       "      <td>B00QGCXPRG</td>\n",
       "      <td>(Health &amp; Household, Household Supplies, Clean...</td>\n",
       "      <td>R_zfqnsBzlOAKibzb</td>\n",
       "    </tr>\n",
       "    <tr>\n",
       "      <th>1837547</th>\n",
       "      <td>2021-05-22</td>\n",
       "      <td>B015ZRTHVA</td>\n",
       "      <td>(Health &amp; Household, Oral Care, Baby &amp; Child D...</td>\n",
       "      <td>R_zfqnsBzlOAKibzb</td>\n",
       "    </tr>\n",
       "    <tr>\n",
       "      <th>1837548</th>\n",
       "      <td>2021-12-01</td>\n",
       "      <td>B015ZRTHVA</td>\n",
       "      <td>(Health &amp; Household, Oral Care, Baby &amp; Child D...</td>\n",
       "      <td>R_zfqnsBzlOAKibzb</td>\n",
       "    </tr>\n",
       "    <tr>\n",
       "      <th>1837549</th>\n",
       "      <td>2022-09-19</td>\n",
       "      <td>1441337652</td>\n",
       "      <td>(Books, Religion &amp; Spirituality, New Age &amp; Spi...</td>\n",
       "      <td>R_zfqnsBzlOAKibzb</td>\n",
       "    </tr>\n",
       "  </tbody>\n",
       "</table>\n",
       "<p>1593075 rows × 4 columns</p>\n",
       "</div>"
      ],
      "text/plain": [
       "        Order Date ASIN/ISBN (Product Code)  \\\n",
       "0       2018-12-04               B0143RTB1E   \n",
       "1       2018-12-22               B01MA1MJ6H   \n",
       "3       2018-12-25               B06XWF9HML   \n",
       "4       2018-12-25               B00837ZOI0   \n",
       "5       2019-02-18               B01GFB2E9M   \n",
       "...            ...                      ...   \n",
       "1837545 2021-04-01               B015ZRTHVA   \n",
       "1837546 2021-04-14               B00QGCXPRG   \n",
       "1837547 2021-05-22               B015ZRTHVA   \n",
       "1837548 2021-12-01               B015ZRTHVA   \n",
       "1837549 2022-09-19               1441337652   \n",
       "\n",
       "                                                  Category  Survey ResponseID  \n",
       "0        (Electronics, Computers & Accessories, Compute...  R_01vNIayewjIIKMF  \n",
       "1        (Electronics, Headphones, Earbuds & Accessorie...  R_01vNIayewjIIKMF  \n",
       "3        (Beauty & Personal Care, Shave & Hair Removal,...  R_01vNIayewjIIKMF  \n",
       "4        (Beauty & Personal Care, Shave & Hair Removal,...  R_01vNIayewjIIKMF  \n",
       "5        (Electronics, Computers & Accessories, Compute...  R_01vNIayewjIIKMF  \n",
       "...                                                    ...                ...  \n",
       "1837545  (Health & Household, Oral Care, Baby & Child D...  R_zfqnsBzlOAKibzb  \n",
       "1837546  (Health & Household, Household Supplies, Clean...  R_zfqnsBzlOAKibzb  \n",
       "1837547  (Health & Household, Oral Care, Baby & Child D...  R_zfqnsBzlOAKibzb  \n",
       "1837548  (Health & Household, Oral Care, Baby & Child D...  R_zfqnsBzlOAKibzb  \n",
       "1837549  (Books, Religion & Spirituality, New Age & Spi...  R_zfqnsBzlOAKibzb  \n",
       "\n",
       "[1593075 rows x 4 columns]"
      ]
     },
     "execution_count": 43,
     "metadata": {},
     "output_type": "execute_result"
    }
   ],
   "source": [
    "transaction_known = transaction_known[['Order Date', 'ASIN', 'group_key', 'Survey ResponseID']].rename(columns = {'ASIN' : 'ASIN/ISBN (Product Code)', 'group_key' : 'Category'})\n",
    "transaction_known"
   ]
  },
  {
   "cell_type": "code",
   "execution_count": 44,
   "id": "4258ad76",
   "metadata": {},
   "outputs": [],
   "source": [
    "transaction_known.to_csv('transaction_categorized.csv', index = False)"
   ]
  },
  {
   "cell_type": "code",
   "execution_count": 45,
   "id": "04ec6b4e",
   "metadata": {},
   "outputs": [
    {
     "data": {
      "application/vnd.microsoft.datawrangler.viewer.v0+json": {
       "columns": [
        {
         "name": "index",
         "rawType": "int64",
         "type": "integer"
        },
        {
         "name": "Order Date",
         "rawType": "datetime64[ns]",
         "type": "datetime"
        },
        {
         "name": "ASIN/ISBN (Product Code)",
         "rawType": "object",
         "type": "string"
        },
        {
         "name": "Category",
         "rawType": "object",
         "type": "unknown"
        },
        {
         "name": "Survey ResponseID",
         "rawType": "object",
         "type": "string"
        }
       ],
       "ref": "7caa63eb-e424-4eb6-b5bf-26d935ea743a",
       "rows": [
        [
         "0",
         "2018-12-04 00:00:00",
         "B0143RTB1E",
         "('Electronics', 'Computers & Accessories', 'Computer Accessories & Peripherals', 'Memory Cards', 'SD Cards')",
         "R_01vNIayewjIIKMF"
        ],
        [
         "1",
         "2018-12-22 00:00:00",
         "B01MA1MJ6H",
         "('Electronics', 'Headphones, Earbuds & Accessories', 'Headphones & Earbuds', 'Earbud Headphones')",
         "R_01vNIayewjIIKMF"
        ],
        [
         "3",
         "2018-12-25 00:00:00",
         "B06XWF9HML",
         "('Beauty & Personal Care', 'Shave & Hair Removal', \"Men's\", 'Shaving Accessories', 'Shaving Soap Bowls')",
         "R_01vNIayewjIIKMF"
        ],
        [
         "4",
         "2018-12-25 00:00:00",
         "B00837ZOI0",
         "('Beauty & Personal Care', 'Shave & Hair Removal', \"Men's\", 'Shaving Creams, Lotions & Gels', 'Shaving Creams')",
         "R_01vNIayewjIIKMF"
        ],
        [
         "5",
         "2019-02-18 00:00:00",
         "B01GFB2E9M",
         "('Electronics', 'Computers & Accessories', 'Computer Accessories & Peripherals', 'Cables & Accessories', 'Cables & Interconnects', 'USB Cables')",
         "R_01vNIayewjIIKMF"
        ],
        [
         "6",
         "2019-02-18 00:00:00",
         "B00NH13S44",
         "('Electronics', 'Computers & Accessories', 'Computer Accessories & Peripherals', 'Cables & Accessories', 'Cables & Interconnects', 'USB Cables')",
         "R_01vNIayewjIIKMF"
        ],
        [
         "8",
         "2019-04-23 00:00:00",
         "B07L84ZZXC",
         "('Clothing, Shoes & Jewelry', 'Sport Specific Clothing', 'Golf', 'Men', 'Accessories', 'Belts')",
         "R_01vNIayewjIIKMF"
        ],
        [
         "10",
         "2019-05-02 00:00:00",
         "B07CG71KQ1",
         "('Electronics', 'Computers & Accessories', 'Tablet Accessories', 'Stands')",
         "R_01vNIayewjIIKMF"
        ],
        [
         "11",
         "2019-05-02 00:00:00",
         "B079GFF4HZ",
         "('Electronics', 'Headphones, Earbuds & Accessories', 'Headphones & Earbuds', 'Earbud Headphones')",
         "R_01vNIayewjIIKMF"
        ],
        [
         "12",
         "2019-05-11 00:00:00",
         "B01M0Q84BR",
         "('Home & Kitchen', 'Kitchen & Dining', 'Coffee, Tea & Espresso', 'Kettles & Tea Machines', 'Electric Kettles')",
         "R_01vNIayewjIIKMF"
        ],
        [
         "13",
         "2019-05-16 00:00:00",
         "B01MA1MJ6H",
         "('Electronics', 'Headphones, Earbuds & Accessories', 'Headphones & Earbuds', 'Earbud Headphones')",
         "R_01vNIayewjIIKMF"
        ],
        [
         "14",
         "2019-06-15 00:00:00",
         "B073JYC4XM",
         "('Electronics', 'Computers & Accessories', 'Computer Accessories & Peripherals', 'Memory Cards', 'Micro SD Cards')",
         "R_01vNIayewjIIKMF"
        ],
        [
         "15",
         "2019-06-15 00:00:00",
         "B00I7DT454",
         "('Health & Household', 'Sexual Wellness', 'Safer Sex', 'Lubricants')",
         "R_01vNIayewjIIKMF"
        ],
        [
         "16",
         "2019-06-25 00:00:00",
         "B01MA1MJ6H",
         "('Electronics', 'Headphones, Earbuds & Accessories', 'Headphones & Earbuds', 'Earbud Headphones')",
         "R_01vNIayewjIIKMF"
        ],
        [
         "17",
         "2019-07-14 00:00:00",
         "B0043T7FXE",
         "('Electronics', 'Computers & Accessories', 'Computer Accessories & Peripherals', 'Keyboards, Mice & Accessories', 'Mice')",
         "R_01vNIayewjIIKMF"
        ],
        [
         "18",
         "2019-08-02 00:00:00",
         "B01M2V05RE",
         "('Electronics', 'Headphones, Earbuds & Accessories', 'Headphones & Earbuds', 'Earbud Headphones')",
         "R_01vNIayewjIIKMF"
        ],
        [
         "19",
         "2019-08-10 00:00:00",
         "B07BCZMBNR",
         "('Cell Phones & Accessories', 'Cases, Holsters & Sleeves', 'Basic Cases')",
         "R_01vNIayewjIIKMF"
        ],
        [
         "21",
         "2019-09-09 00:00:00",
         "B01MZ956SX",
         "('Electronics', 'Computers & Accessories', 'Laptop Accessories', 'Bags, Cases & Sleeves', 'Messenger & Shoulder Bags')",
         "R_01vNIayewjIIKMF"
        ],
        [
         "22",
         "2019-09-09 00:00:00",
         "B07JCJP1DK",
         "('Clothing, Shoes & Jewelry', 'Men', 'Clothing', 'Underwear', 'Boxer Briefs')",
         "R_01vNIayewjIIKMF"
        ],
        [
         "23",
         "2019-09-13 00:00:00",
         "B07JD5B8SP",
         "('Clothing, Shoes & Jewelry', 'Men', 'Clothing', 'Underwear', 'Boxer Briefs')",
         "R_01vNIayewjIIKMF"
        ],
        [
         "24",
         "2019-09-13 00:00:00",
         "B071XGLB1S",
         "('Arts, Crafts & Sewing', 'Sewing', 'Sewing Notions & Supplies', 'Sewing Tools', 'Tape Measures & Rulers', 'Tape Measures')",
         "R_01vNIayewjIIKMF"
        ],
        [
         "26",
         "2019-09-27 00:00:00",
         "B07D5V2ZXD",
         "('Electronics', 'Computers & Accessories', 'Data Storage', 'External Hard Drives')",
         "R_01vNIayewjIIKMF"
        ],
        [
         "27",
         "2019-09-28 00:00:00",
         "B01BNEWDFQ",
         "('Health & Household', 'Oral Care', 'Toothpaste')",
         "R_01vNIayewjIIKMF"
        ],
        [
         "28",
         "2019-09-28 00:00:00",
         "B01NBYY28W",
         "('Health & Household', 'Household Supplies', 'Tissues, Toilet Paper & Sprays', 'Toilet Paper')",
         "R_01vNIayewjIIKMF"
        ],
        [
         "29",
         "2019-09-28 00:00:00",
         "B019FGCOW6",
         "('Health & Household', 'Oral Care', 'Mouthwash')",
         "R_01vNIayewjIIKMF"
        ],
        [
         "30",
         "2019-10-02 00:00:00",
         "B072JYDQ7N",
         "('Electronics', 'Computers & Accessories', 'Computer Accessories & Peripherals', 'Cables & Accessories', 'Cables & Interconnects', 'USB Cables')",
         "R_01vNIayewjIIKMF"
        ],
        [
         "31",
         "2019-10-02 00:00:00",
         "B00MUJU33S",
         "('Tools & Home Improvement', 'Power & Hand Tools', 'Hand Tools', 'Screwdrivers & Nut Drivers', 'Screwdriver Sets')",
         "R_01vNIayewjIIKMF"
        ],
        [
         "32",
         "2019-10-05 00:00:00",
         "B07RTN4C77",
         "('Gift Cards', 'Gift Cards')",
         "R_01vNIayewjIIKMF"
        ],
        [
         "33",
         "2019-10-06 00:00:00",
         "B07RTN4C77",
         "('Gift Cards', 'Gift Cards')",
         "R_01vNIayewjIIKMF"
        ],
        [
         "34",
         "2019-10-07 00:00:00",
         "B01IQ00B04",
         "('Grocery & Gourmet Food', 'Pantry Staples', 'Cooking & Baking', 'Cooking Oils, Vinegars & Sprays', 'Oils', 'Avocado')",
         "R_01vNIayewjIIKMF"
        ],
        [
         "36",
         "2019-10-07 00:00:00",
         "B017ALC6GW",
         "('Grocery & Gourmet Food', 'Pantry Staples', 'Cooking & Baking', 'Cooking Oils, Vinegars & Sprays', 'Oils', 'Olive')",
         "R_01vNIayewjIIKMF"
        ],
        [
         "37",
         "2019-10-12 00:00:00",
         "B0741FV7ZV",
         "('Cell Phones & Accessories', 'SIM Cards & Prepaid Minutes', 'SIM Cards')",
         "R_01vNIayewjIIKMF"
        ],
        [
         "38",
         "2019-10-16 00:00:00",
         "B006MIPW70",
         "('Home & Kitchen', 'Furniture', 'Bedroom Furniture', 'Beds, Frames & Bases', 'Bed Frames')",
         "R_01vNIayewjIIKMF"
        ],
        [
         "39",
         "2019-10-18 00:00:00",
         "B01LZKYNIM",
         "('Grocery & Gourmet Food', 'Pantry Staples', 'Herbs, Spices & Seasonings', 'Pepper & Peppercorns', 'Peppercorns')",
         "R_01vNIayewjIIKMF"
        ],
        [
         "41",
         "2019-10-31 00:00:00",
         "B00NC8QEKM",
         "('Grocery & Gourmet Food', 'Deli & Prepared Foods', 'Deli Meats & Cheeses', 'Prepackaged Deli Meats', 'Ham')",
         "R_01vNIayewjIIKMF"
        ],
        [
         "42",
         "2019-10-31 00:00:00",
         "B0011EKWBQ",
         "('Grocery & Gourmet Food', 'Dairy, Eggs & Plant-Based Alternatives', 'Butter, Margarine & Plant-Based Alternatives', 'Butter')",
         "R_01vNIayewjIIKMF"
        ],
        [
         "43",
         "2019-10-31 00:00:00",
         "B00NC882CA",
         "('Grocery & Gourmet Food', 'Dairy, Eggs & Plant-Based Alternatives', 'Packaged Cheese', 'Mozzarella')",
         "R_01vNIayewjIIKMF"
        ],
        [
         "44",
         "2019-10-31 00:00:00",
         "B00B9GUZP4",
         "('Grocery & Gourmet Food', 'Snacks & Sweets', 'Snack Foods', 'Meat Snacks', 'Jerky')",
         "R_01vNIayewjIIKMF"
        ],
        [
         "45",
         "2019-11-25 00:00:00",
         "B000QD9C8M",
         "('Health & Household', 'Sexual Wellness', 'Safer Sex', 'Lubricants')",
         "R_01vNIayewjIIKMF"
        ],
        [
         "46",
         "2019-11-25 00:00:00",
         "B01LZ5SB6U",
         "('Health & Household', 'Sexual Wellness', 'Adult Toys & Games', 'Sex Toys', 'Male Masturbators')",
         "R_01vNIayewjIIKMF"
        ],
        [
         "47",
         "2019-12-02 00:00:00",
         "B072HRDM55",
         "('Electronics', 'Computers & Accessories', 'Computer Accessories & Peripherals', 'Memory Cards', 'Micro SD Cards')",
         "R_01vNIayewjIIKMF"
        ],
        [
         "48",
         "2019-12-02 00:00:00",
         "B07DGQ4QR3",
         "('Health & Household', 'Sexual Wellness', 'Safer Sex', 'Lubricants')",
         "R_01vNIayewjIIKMF"
        ],
        [
         "49",
         "2019-12-13 00:00:00",
         "B06XWZWYVP",
         "('Electronics', 'Computers & Accessories', 'Computer Accessories & Peripherals', 'Memory Cards', 'Micro SD Cards')",
         "R_01vNIayewjIIKMF"
        ],
        [
         "50",
         "2019-12-13 00:00:00",
         "B017ALC6GW",
         "('Grocery & Gourmet Food', 'Pantry Staples', 'Cooking & Baking', 'Cooking Oils, Vinegars & Sprays', 'Oils', 'Olive')",
         "R_01vNIayewjIIKMF"
        ],
        [
         "51",
         "2019-12-13 00:00:00",
         "B01IQ00B04",
         "('Grocery & Gourmet Food', 'Pantry Staples', 'Cooking & Baking', 'Cooking Oils, Vinegars & Sprays', 'Oils', 'Avocado')",
         "R_01vNIayewjIIKMF"
        ],
        [
         "52",
         "2019-12-14 00:00:00",
         "B07H8GC6WL",
         "('Health & Household', 'Sexual Wellness', 'Adult Toys & Games', 'Sex Toys', 'Male Masturbators')",
         "R_01vNIayewjIIKMF"
        ],
        [
         "53",
         "2019-12-14 00:00:00",
         "B01DVLP2UW",
         "('Health & Household', 'Sexual Wellness', 'Adult Toys & Games', 'Sex Toys', 'Male Masturbators')",
         "R_01vNIayewjIIKMF"
        ],
        [
         "54",
         "2019-12-14 00:00:00",
         "B075SN1MY9",
         "('Health & Household', 'Sexual Wellness', 'Safer Sex', 'Lubricants')",
         "R_01vNIayewjIIKMF"
        ],
        [
         "55",
         "2019-12-14 00:00:00",
         "B07GKKSXBS",
         "('Office Products', 'Office & School Supplies', 'Filing Products', 'Filing Envelopes')",
         "R_01vNIayewjIIKMF"
        ],
        [
         "56",
         "2019-12-20 00:00:00",
         "B01MA1MJ6H",
         "('Electronics', 'Headphones, Earbuds & Accessories', 'Headphones & Earbuds', 'Earbud Headphones')",
         "R_01vNIayewjIIKMF"
        ]
       ],
       "shape": {
        "columns": 4,
        "rows": 1593075
       }
      },
      "text/html": [
       "<div>\n",
       "<style scoped>\n",
       "    .dataframe tbody tr th:only-of-type {\n",
       "        vertical-align: middle;\n",
       "    }\n",
       "\n",
       "    .dataframe tbody tr th {\n",
       "        vertical-align: top;\n",
       "    }\n",
       "\n",
       "    .dataframe thead th {\n",
       "        text-align: right;\n",
       "    }\n",
       "</style>\n",
       "<table border=\"1\" class=\"dataframe\">\n",
       "  <thead>\n",
       "    <tr style=\"text-align: right;\">\n",
       "      <th></th>\n",
       "      <th>Order Date</th>\n",
       "      <th>ASIN/ISBN (Product Code)</th>\n",
       "      <th>Category</th>\n",
       "      <th>Survey ResponseID</th>\n",
       "    </tr>\n",
       "  </thead>\n",
       "  <tbody>\n",
       "    <tr>\n",
       "      <th>0</th>\n",
       "      <td>2018-12-04</td>\n",
       "      <td>B0143RTB1E</td>\n",
       "      <td>(Electronics, Computers &amp; Accessories, Compute...</td>\n",
       "      <td>R_01vNIayewjIIKMF</td>\n",
       "    </tr>\n",
       "    <tr>\n",
       "      <th>1</th>\n",
       "      <td>2018-12-22</td>\n",
       "      <td>B01MA1MJ6H</td>\n",
       "      <td>(Electronics, Headphones, Earbuds &amp; Accessorie...</td>\n",
       "      <td>R_01vNIayewjIIKMF</td>\n",
       "    </tr>\n",
       "    <tr>\n",
       "      <th>3</th>\n",
       "      <td>2018-12-25</td>\n",
       "      <td>B06XWF9HML</td>\n",
       "      <td>(Beauty &amp; Personal Care, Shave &amp; Hair Removal,...</td>\n",
       "      <td>R_01vNIayewjIIKMF</td>\n",
       "    </tr>\n",
       "    <tr>\n",
       "      <th>4</th>\n",
       "      <td>2018-12-25</td>\n",
       "      <td>B00837ZOI0</td>\n",
       "      <td>(Beauty &amp; Personal Care, Shave &amp; Hair Removal,...</td>\n",
       "      <td>R_01vNIayewjIIKMF</td>\n",
       "    </tr>\n",
       "    <tr>\n",
       "      <th>5</th>\n",
       "      <td>2019-02-18</td>\n",
       "      <td>B01GFB2E9M</td>\n",
       "      <td>(Electronics, Computers &amp; Accessories, Compute...</td>\n",
       "      <td>R_01vNIayewjIIKMF</td>\n",
       "    </tr>\n",
       "    <tr>\n",
       "      <th>...</th>\n",
       "      <td>...</td>\n",
       "      <td>...</td>\n",
       "      <td>...</td>\n",
       "      <td>...</td>\n",
       "    </tr>\n",
       "    <tr>\n",
       "      <th>1837545</th>\n",
       "      <td>2021-04-01</td>\n",
       "      <td>B015ZRTHVA</td>\n",
       "      <td>(Health &amp; Household, Oral Care, Baby &amp; Child D...</td>\n",
       "      <td>R_zfqnsBzlOAKibzb</td>\n",
       "    </tr>\n",
       "    <tr>\n",
       "      <th>1837546</th>\n",
       "      <td>2021-04-14</td>\n",
       "      <td>B00QGCXPRG</td>\n",
       "      <td>(Health &amp; Household, Household Supplies, Clean...</td>\n",
       "      <td>R_zfqnsBzlOAKibzb</td>\n",
       "    </tr>\n",
       "    <tr>\n",
       "      <th>1837547</th>\n",
       "      <td>2021-05-22</td>\n",
       "      <td>B015ZRTHVA</td>\n",
       "      <td>(Health &amp; Household, Oral Care, Baby &amp; Child D...</td>\n",
       "      <td>R_zfqnsBzlOAKibzb</td>\n",
       "    </tr>\n",
       "    <tr>\n",
       "      <th>1837548</th>\n",
       "      <td>2021-12-01</td>\n",
       "      <td>B015ZRTHVA</td>\n",
       "      <td>(Health &amp; Household, Oral Care, Baby &amp; Child D...</td>\n",
       "      <td>R_zfqnsBzlOAKibzb</td>\n",
       "    </tr>\n",
       "    <tr>\n",
       "      <th>1837549</th>\n",
       "      <td>2022-09-19</td>\n",
       "      <td>1441337652</td>\n",
       "      <td>(Books, Religion &amp; Spirituality, New Age &amp; Spi...</td>\n",
       "      <td>R_zfqnsBzlOAKibzb</td>\n",
       "    </tr>\n",
       "  </tbody>\n",
       "</table>\n",
       "<p>1593075 rows × 4 columns</p>\n",
       "</div>"
      ],
      "text/plain": [
       "        Order Date ASIN/ISBN (Product Code)  \\\n",
       "0       2018-12-04               B0143RTB1E   \n",
       "1       2018-12-22               B01MA1MJ6H   \n",
       "3       2018-12-25               B06XWF9HML   \n",
       "4       2018-12-25               B00837ZOI0   \n",
       "5       2019-02-18               B01GFB2E9M   \n",
       "...            ...                      ...   \n",
       "1837545 2021-04-01               B015ZRTHVA   \n",
       "1837546 2021-04-14               B00QGCXPRG   \n",
       "1837547 2021-05-22               B015ZRTHVA   \n",
       "1837548 2021-12-01               B015ZRTHVA   \n",
       "1837549 2022-09-19               1441337652   \n",
       "\n",
       "                                                  Category  Survey ResponseID  \n",
       "0        (Electronics, Computers & Accessories, Compute...  R_01vNIayewjIIKMF  \n",
       "1        (Electronics, Headphones, Earbuds & Accessorie...  R_01vNIayewjIIKMF  \n",
       "3        (Beauty & Personal Care, Shave & Hair Removal,...  R_01vNIayewjIIKMF  \n",
       "4        (Beauty & Personal Care, Shave & Hair Removal,...  R_01vNIayewjIIKMF  \n",
       "5        (Electronics, Computers & Accessories, Compute...  R_01vNIayewjIIKMF  \n",
       "...                                                    ...                ...  \n",
       "1837545  (Health & Household, Oral Care, Baby & Child D...  R_zfqnsBzlOAKibzb  \n",
       "1837546  (Health & Household, Household Supplies, Clean...  R_zfqnsBzlOAKibzb  \n",
       "1837547  (Health & Household, Oral Care, Baby & Child D...  R_zfqnsBzlOAKibzb  \n",
       "1837548  (Health & Household, Oral Care, Baby & Child D...  R_zfqnsBzlOAKibzb  \n",
       "1837549  (Books, Religion & Spirituality, New Age & Spi...  R_zfqnsBzlOAKibzb  \n",
       "\n",
       "[1593075 rows x 4 columns]"
      ]
     },
     "execution_count": 45,
     "metadata": {},
     "output_type": "execute_result"
    }
   ],
   "source": [
    "transaction_known"
   ]
  },
  {
   "cell_type": "code",
   "execution_count": 46,
   "id": "3ad02a26",
   "metadata": {},
   "outputs": [
    {
     "data": {
      "application/vnd.microsoft.datawrangler.viewer.v0+json": {
       "columns": [
        {
         "name": "ASIN/ISBN (Product Code)",
         "rawType": "object",
         "type": "string"
        },
        {
         "name": "count",
         "rawType": "int64",
         "type": "integer"
        }
       ],
       "ref": "9479fb12-95c4-4cd7-af58-9f46cb25cf14",
       "rows": [
        [
         "B00IX1I3G6",
         "7995"
        ],
        [
         "B086KKT3RX",
         "4726"
        ],
        [
         "B07PCMWTSG",
         "1244"
        ],
        [
         "B004LLIKVU",
         "1147"
        ],
        [
         "B074T91QTZ",
         "755"
        ],
        [
         "B074CRK54X",
         "696"
        ],
        [
         "B0009X29WK",
         "694"
        ],
        [
         "B00GAC1D2G",
         "570"
        ],
        [
         "B071DPM9RD",
         "558"
        ],
        [
         "B00MNV8E0C",
         "558"
        ],
        [
         "B00LH3DMUO",
         "550"
        ],
        [
         "B079QHML21",
         "434"
        ],
        [
         "B07ZLFPXHC",
         "407"
        ],
        [
         "B07TMNGSN4",
         "401"
        ],
        [
         "B08F3C99KN",
         "395"
        ],
        [
         "B004RMK4BC",
         "385"
        ],
        [
         "B00F4CEHNK",
         "369"
        ],
        [
         "B07ZDX292M",
         "355"
        ],
        [
         "B000P6J0SM",
         "315"
        ],
        [
         "B074CR89QG",
         "304"
        ],
        [
         "B0791TX5P5",
         "294"
        ],
        [
         "B079H53D2B",
         "283"
        ],
        [
         "B001W3T2E4",
         "282"
        ],
        [
         "B07F4F8N6Z",
         "281"
        ],
        [
         "B0787GLBMV",
         "277"
        ],
        [
         "B000BD0RT0",
         "274"
        ],
        [
         "B00NTCH52W",
         "264"
        ],
        [
         "B07C438TMN",
         "262"
        ],
        [
         "B00T0C9XRK",
         "262"
        ],
        [
         "B01LXJFMGF",
         "254"
        ],
        [
         "B06XX33G82",
         "252"
        ],
        [
         "B00AINMFAC",
         "248"
        ],
        [
         "B0817KVYD2",
         "248"
        ],
        [
         "B01LYOCVZF",
         "243"
        ],
        [
         "B01LZNGPY3",
         "240"
        ],
        [
         "B00HSC9F2C",
         "238"
        ],
        [
         "B074H4WRNG",
         "235"
        ],
        [
         "B01M0GB8CC",
         "235"
        ],
        [
         "B079YMX2J6",
         "235"
        ],
        [
         "B001W3T2SK",
         "235"
        ],
        [
         "B00Q70RCW6",
         "231"
        ],
        [
         "B07ND3WR64",
         "230"
        ],
        [
         "B00ZV9RDKK",
         "225"
        ],
        [
         "B01M0YDV8M",
         "225"
        ],
        [
         "B000J07BRQ",
         "223"
        ],
        [
         "B00N1NBOV2",
         "221"
        ],
        [
         "B07RZ74VLR",
         "220"
        ],
        [
         "B079YNCBX2",
         "217"
        ],
        [
         "B00C91Q86I",
         "217"
        ],
        [
         "B07RTN4C77",
         "216"
        ]
       ],
       "shape": {
        "columns": 1,
        "rows": 791451
       }
      },
      "text/plain": [
       "ASIN/ISBN (Product Code)\n",
       "B00IX1I3G6    7995\n",
       "B086KKT3RX    4726\n",
       "B07PCMWTSG    1244\n",
       "B004LLIKVU    1147\n",
       "B074T91QTZ     755\n",
       "              ... \n",
       "B004A9U5GG       1\n",
       "B002GIVEZO       1\n",
       "B07WSVKXGS       1\n",
       "B002H02JSM       1\n",
       "B00QGCXPRG       1\n",
       "Name: count, Length: 791451, dtype: int64"
      ]
     },
     "execution_count": 46,
     "metadata": {},
     "output_type": "execute_result"
    }
   ],
   "source": [
    "transaction_known['ASIN/ISBN (Product Code)'].value_counts()"
   ]
  },
  {
   "cell_type": "code",
   "execution_count": 47,
   "id": "cfc9258f",
   "metadata": {},
   "outputs": [
    {
     "data": {
      "application/vnd.microsoft.datawrangler.viewer.v0+json": {
       "columns": [
        {
         "name": "index",
         "rawType": "int64",
         "type": "integer"
        },
        {
         "name": "Order Date",
         "rawType": "datetime64[ns]",
         "type": "datetime"
        },
        {
         "name": "ASIN/ISBN (Product Code)",
         "rawType": "object",
         "type": "string"
        },
        {
         "name": "Category",
         "rawType": "object",
         "type": "unknown"
        },
        {
         "name": "Survey ResponseID",
         "rawType": "object",
         "type": "string"
        }
       ],
       "ref": "6739e816-ccae-4963-9d4c-2478682b8c97",
       "rows": [
        [
         "0",
         "2018-12-04 00:00:00",
         "B0143RTB1E",
         "('Electronics', 'Computers & Accessories', 'Computer Accessories & Peripherals', 'Memory Cards', 'SD Cards')",
         "R_01vNIayewjIIKMF"
        ],
        [
         "1",
         "2018-12-22 00:00:00",
         "B01MA1MJ6H",
         "('Electronics', 'Headphones, Earbuds & Accessories', 'Headphones & Earbuds', 'Earbud Headphones')",
         "R_01vNIayewjIIKMF"
        ],
        [
         "3",
         "2018-12-25 00:00:00",
         "B06XWF9HML",
         "('Beauty & Personal Care', 'Shave & Hair Removal', \"Men's\", 'Shaving Accessories', 'Shaving Soap Bowls')",
         "R_01vNIayewjIIKMF"
        ],
        [
         "4",
         "2018-12-25 00:00:00",
         "B00837ZOI0",
         "('Beauty & Personal Care', 'Shave & Hair Removal', \"Men's\", 'Shaving Creams, Lotions & Gels', 'Shaving Creams')",
         "R_01vNIayewjIIKMF"
        ],
        [
         "5",
         "2019-02-18 00:00:00",
         "B01GFB2E9M",
         "('Electronics', 'Computers & Accessories', 'Computer Accessories & Peripherals', 'Cables & Accessories', 'Cables & Interconnects', 'USB Cables')",
         "R_01vNIayewjIIKMF"
        ]
       ],
       "shape": {
        "columns": 4,
        "rows": 5
       }
      },
      "text/html": [
       "<div>\n",
       "<style scoped>\n",
       "    .dataframe tbody tr th:only-of-type {\n",
       "        vertical-align: middle;\n",
       "    }\n",
       "\n",
       "    .dataframe tbody tr th {\n",
       "        vertical-align: top;\n",
       "    }\n",
       "\n",
       "    .dataframe thead th {\n",
       "        text-align: right;\n",
       "    }\n",
       "</style>\n",
       "<table border=\"1\" class=\"dataframe\">\n",
       "  <thead>\n",
       "    <tr style=\"text-align: right;\">\n",
       "      <th></th>\n",
       "      <th>Order Date</th>\n",
       "      <th>ASIN/ISBN (Product Code)</th>\n",
       "      <th>Category</th>\n",
       "      <th>Survey ResponseID</th>\n",
       "    </tr>\n",
       "  </thead>\n",
       "  <tbody>\n",
       "    <tr>\n",
       "      <th>0</th>\n",
       "      <td>2018-12-04</td>\n",
       "      <td>B0143RTB1E</td>\n",
       "      <td>(Electronics, Computers &amp; Accessories, Compute...</td>\n",
       "      <td>R_01vNIayewjIIKMF</td>\n",
       "    </tr>\n",
       "    <tr>\n",
       "      <th>1</th>\n",
       "      <td>2018-12-22</td>\n",
       "      <td>B01MA1MJ6H</td>\n",
       "      <td>(Electronics, Headphones, Earbuds &amp; Accessorie...</td>\n",
       "      <td>R_01vNIayewjIIKMF</td>\n",
       "    </tr>\n",
       "    <tr>\n",
       "      <th>3</th>\n",
       "      <td>2018-12-25</td>\n",
       "      <td>B06XWF9HML</td>\n",
       "      <td>(Beauty &amp; Personal Care, Shave &amp; Hair Removal,...</td>\n",
       "      <td>R_01vNIayewjIIKMF</td>\n",
       "    </tr>\n",
       "    <tr>\n",
       "      <th>4</th>\n",
       "      <td>2018-12-25</td>\n",
       "      <td>B00837ZOI0</td>\n",
       "      <td>(Beauty &amp; Personal Care, Shave &amp; Hair Removal,...</td>\n",
       "      <td>R_01vNIayewjIIKMF</td>\n",
       "    </tr>\n",
       "    <tr>\n",
       "      <th>5</th>\n",
       "      <td>2019-02-18</td>\n",
       "      <td>B01GFB2E9M</td>\n",
       "      <td>(Electronics, Computers &amp; Accessories, Compute...</td>\n",
       "      <td>R_01vNIayewjIIKMF</td>\n",
       "    </tr>\n",
       "  </tbody>\n",
       "</table>\n",
       "</div>"
      ],
      "text/plain": [
       "  Order Date ASIN/ISBN (Product Code)  \\\n",
       "0 2018-12-04               B0143RTB1E   \n",
       "1 2018-12-22               B01MA1MJ6H   \n",
       "3 2018-12-25               B06XWF9HML   \n",
       "4 2018-12-25               B00837ZOI0   \n",
       "5 2019-02-18               B01GFB2E9M   \n",
       "\n",
       "                                            Category  Survey ResponseID  \n",
       "0  (Electronics, Computers & Accessories, Compute...  R_01vNIayewjIIKMF  \n",
       "1  (Electronics, Headphones, Earbuds & Accessorie...  R_01vNIayewjIIKMF  \n",
       "3  (Beauty & Personal Care, Shave & Hair Removal,...  R_01vNIayewjIIKMF  \n",
       "4  (Beauty & Personal Care, Shave & Hair Removal,...  R_01vNIayewjIIKMF  \n",
       "5  (Electronics, Computers & Accessories, Compute...  R_01vNIayewjIIKMF  "
      ]
     },
     "execution_count": 47,
     "metadata": {},
     "output_type": "execute_result"
    }
   ],
   "source": [
    "transaction_known.head()"
   ]
  },
  {
   "cell_type": "markdown",
   "id": "59135012",
   "metadata": {},
   "source": [
    "# 상품군별 구매주기 구하기 (평균, 중앙값 등)"
   ]
  },
  {
   "cell_type": "code",
   "execution_count": 48,
   "id": "40acf52d",
   "metadata": {},
   "outputs": [
    {
     "data": {
      "application/vnd.microsoft.datawrangler.viewer.v0+json": {
       "columns": [
        {
         "name": "index",
         "rawType": "int64",
         "type": "integer"
        },
        {
         "name": "Order Date",
         "rawType": "object",
         "type": "string"
        },
        {
         "name": "Purchase Price Per Unit",
         "rawType": "float64",
         "type": "float"
        },
        {
         "name": "Title",
         "rawType": "object",
         "type": "unknown"
        },
        {
         "name": "ASIN",
         "rawType": "object",
         "type": "string"
        },
        {
         "name": "Category",
         "rawType": "object",
         "type": "unknown"
        },
        {
         "name": "Survey ResponseID",
         "rawType": "object",
         "type": "string"
        }
       ],
       "ref": "f7666bc5-d8c3-40a2-ad35-b8c1c05edd83",
       "rows": [
        [
         "0",
         "2018-12-04",
         "7.98",
         "SanDisk Ultra 16GB Class 10 SDHC UHS-I Memory Card up to 80MB/s (SDSDUNC-016G-GN6IN)",
         "B0143RTB1E",
         "FLASH_MEMORY",
         "R_01vNIayewjIIKMF"
        ],
        [
         "1",
         "2018-12-22",
         "13.99",
         "Betron BS10 Earphones Wired Headphones in Ear Noise Isolating Earbuds with Microphone and Volume Control Powerful Bass Driven Sound, 12mm Large Drivers, Ergonomic Design",
         "B01MA1MJ6H",
         "HEADPHONES",
         "R_01vNIayewjIIKMF"
        ],
        [
         "2",
         "2018-12-24",
         "8.99",
         null,
         "B078JZTFN3",
         null,
         "R_01vNIayewjIIKMF"
        ],
        [
         "3",
         "2018-12-25",
         "10.45",
         "Perfecto Stainless Steel Shaving Bowl. Durable Metal Mug For Shaving Soap & Cream. Perfect Addition To Your Wet Shaving Kit. Double Layer Smooth Shave Unbreakable Mug With Heat Insulation",
         "B06XWF9HML",
         "DISHWARE_BOWL",
         "R_01vNIayewjIIKMF"
        ],
        [
         "4",
         "2018-12-25",
         "10.0",
         "Proraso Shaving Cream for Men",
         "B00837ZOI0",
         "SHAVING_AGENT",
         "R_01vNIayewjIIKMF"
        ]
       ],
       "shape": {
        "columns": 6,
        "rows": 5
       }
      },
      "text/html": [
       "<div>\n",
       "<style scoped>\n",
       "    .dataframe tbody tr th:only-of-type {\n",
       "        vertical-align: middle;\n",
       "    }\n",
       "\n",
       "    .dataframe tbody tr th {\n",
       "        vertical-align: top;\n",
       "    }\n",
       "\n",
       "    .dataframe thead th {\n",
       "        text-align: right;\n",
       "    }\n",
       "</style>\n",
       "<table border=\"1\" class=\"dataframe\">\n",
       "  <thead>\n",
       "    <tr style=\"text-align: right;\">\n",
       "      <th></th>\n",
       "      <th>Order Date</th>\n",
       "      <th>Purchase Price Per Unit</th>\n",
       "      <th>Title</th>\n",
       "      <th>ASIN</th>\n",
       "      <th>Category</th>\n",
       "      <th>Survey ResponseID</th>\n",
       "    </tr>\n",
       "  </thead>\n",
       "  <tbody>\n",
       "    <tr>\n",
       "      <th>0</th>\n",
       "      <td>2018-12-04</td>\n",
       "      <td>7.98</td>\n",
       "      <td>SanDisk Ultra 16GB Class 10 SDHC UHS-I Memory ...</td>\n",
       "      <td>B0143RTB1E</td>\n",
       "      <td>FLASH_MEMORY</td>\n",
       "      <td>R_01vNIayewjIIKMF</td>\n",
       "    </tr>\n",
       "    <tr>\n",
       "      <th>1</th>\n",
       "      <td>2018-12-22</td>\n",
       "      <td>13.99</td>\n",
       "      <td>Betron BS10 Earphones Wired Headphones in Ear ...</td>\n",
       "      <td>B01MA1MJ6H</td>\n",
       "      <td>HEADPHONES</td>\n",
       "      <td>R_01vNIayewjIIKMF</td>\n",
       "    </tr>\n",
       "    <tr>\n",
       "      <th>2</th>\n",
       "      <td>2018-12-24</td>\n",
       "      <td>8.99</td>\n",
       "      <td>NaN</td>\n",
       "      <td>B078JZTFN3</td>\n",
       "      <td>NaN</td>\n",
       "      <td>R_01vNIayewjIIKMF</td>\n",
       "    </tr>\n",
       "    <tr>\n",
       "      <th>3</th>\n",
       "      <td>2018-12-25</td>\n",
       "      <td>10.45</td>\n",
       "      <td>Perfecto Stainless Steel Shaving Bowl. Durable...</td>\n",
       "      <td>B06XWF9HML</td>\n",
       "      <td>DISHWARE_BOWL</td>\n",
       "      <td>R_01vNIayewjIIKMF</td>\n",
       "    </tr>\n",
       "    <tr>\n",
       "      <th>4</th>\n",
       "      <td>2018-12-25</td>\n",
       "      <td>10.00</td>\n",
       "      <td>Proraso Shaving Cream for Men</td>\n",
       "      <td>B00837ZOI0</td>\n",
       "      <td>SHAVING_AGENT</td>\n",
       "      <td>R_01vNIayewjIIKMF</td>\n",
       "    </tr>\n",
       "  </tbody>\n",
       "</table>\n",
       "</div>"
      ],
      "text/plain": [
       "   Order Date  Purchase Price Per Unit  \\\n",
       "0  2018-12-04                     7.98   \n",
       "1  2018-12-22                    13.99   \n",
       "2  2018-12-24                     8.99   \n",
       "3  2018-12-25                    10.45   \n",
       "4  2018-12-25                    10.00   \n",
       "\n",
       "                                               Title        ASIN  \\\n",
       "0  SanDisk Ultra 16GB Class 10 SDHC UHS-I Memory ...  B0143RTB1E   \n",
       "1  Betron BS10 Earphones Wired Headphones in Ear ...  B01MA1MJ6H   \n",
       "2                                                NaN  B078JZTFN3   \n",
       "3  Perfecto Stainless Steel Shaving Bowl. Durable...  B06XWF9HML   \n",
       "4                      Proraso Shaving Cream for Men  B00837ZOI0   \n",
       "\n",
       "        Category  Survey ResponseID  \n",
       "0   FLASH_MEMORY  R_01vNIayewjIIKMF  \n",
       "1     HEADPHONES  R_01vNIayewjIIKMF  \n",
       "2            NaN  R_01vNIayewjIIKMF  \n",
       "3  DISHWARE_BOWL  R_01vNIayewjIIKMF  \n",
       "4  SHAVING_AGENT  R_01vNIayewjIIKMF  "
      ]
     },
     "execution_count": 48,
     "metadata": {},
     "output_type": "execute_result"
    }
   ],
   "source": [
    "purchase.head()"
   ]
  },
  {
   "cell_type": "code",
   "execution_count": 116,
   "id": "e32f63cf",
   "metadata": {},
   "outputs": [
    {
     "data": {
      "application/vnd.microsoft.datawrangler.viewer.v0+json": {
       "columns": [
        {
         "name": "index",
         "rawType": "int64",
         "type": "integer"
        },
        {
         "name": "Order Date",
         "rawType": "datetime64[ns]",
         "type": "datetime"
        },
        {
         "name": "ASIN",
         "rawType": "object",
         "type": "string"
        },
        {
         "name": "Category",
         "rawType": "object",
         "type": "unknown"
        },
        {
         "name": "Survey ResponseID",
         "rawType": "object",
         "type": "string"
        }
       ],
       "ref": "30723b6a-3c73-4a36-8e3f-d925509fc667",
       "rows": [
        [
         "0",
         "2018-12-04 00:00:00",
         "B0143RTB1E",
         "('Electronics', 'Computers & Accessories', 'Computer Accessories & Peripherals', 'Memory Cards', 'SD Cards')",
         "R_01vNIayewjIIKMF"
        ],
        [
         "1",
         "2018-12-22 00:00:00",
         "B01MA1MJ6H",
         "('Electronics', 'Headphones, Earbuds & Accessories', 'Headphones & Earbuds', 'Earbud Headphones')",
         "R_01vNIayewjIIKMF"
        ],
        [
         "3",
         "2018-12-25 00:00:00",
         "B06XWF9HML",
         "('Beauty & Personal Care', 'Shave & Hair Removal', \"Men's\", 'Shaving Accessories', 'Shaving Soap Bowls')",
         "R_01vNIayewjIIKMF"
        ],
        [
         "4",
         "2018-12-25 00:00:00",
         "B00837ZOI0",
         "('Beauty & Personal Care', 'Shave & Hair Removal', \"Men's\", 'Shaving Creams, Lotions & Gels', 'Shaving Creams')",
         "R_01vNIayewjIIKMF"
        ],
        [
         "5",
         "2019-02-18 00:00:00",
         "B01GFB2E9M",
         "('Electronics', 'Computers & Accessories', 'Computer Accessories & Peripherals', 'Cables & Accessories', 'Cables & Interconnects', 'USB Cables')",
         "R_01vNIayewjIIKMF"
        ]
       ],
       "shape": {
        "columns": 4,
        "rows": 5
       }
      },
      "text/html": [
       "<div>\n",
       "<style scoped>\n",
       "    .dataframe tbody tr th:only-of-type {\n",
       "        vertical-align: middle;\n",
       "    }\n",
       "\n",
       "    .dataframe tbody tr th {\n",
       "        vertical-align: top;\n",
       "    }\n",
       "\n",
       "    .dataframe thead th {\n",
       "        text-align: right;\n",
       "    }\n",
       "</style>\n",
       "<table border=\"1\" class=\"dataframe\">\n",
       "  <thead>\n",
       "    <tr style=\"text-align: right;\">\n",
       "      <th></th>\n",
       "      <th>Order Date</th>\n",
       "      <th>ASIN</th>\n",
       "      <th>Category</th>\n",
       "      <th>Survey ResponseID</th>\n",
       "    </tr>\n",
       "  </thead>\n",
       "  <tbody>\n",
       "    <tr>\n",
       "      <th>0</th>\n",
       "      <td>2018-12-04</td>\n",
       "      <td>B0143RTB1E</td>\n",
       "      <td>(Electronics, Computers &amp; Accessories, Compute...</td>\n",
       "      <td>R_01vNIayewjIIKMF</td>\n",
       "    </tr>\n",
       "    <tr>\n",
       "      <th>1</th>\n",
       "      <td>2018-12-22</td>\n",
       "      <td>B01MA1MJ6H</td>\n",
       "      <td>(Electronics, Headphones, Earbuds &amp; Accessorie...</td>\n",
       "      <td>R_01vNIayewjIIKMF</td>\n",
       "    </tr>\n",
       "    <tr>\n",
       "      <th>3</th>\n",
       "      <td>2018-12-25</td>\n",
       "      <td>B06XWF9HML</td>\n",
       "      <td>(Beauty &amp; Personal Care, Shave &amp; Hair Removal,...</td>\n",
       "      <td>R_01vNIayewjIIKMF</td>\n",
       "    </tr>\n",
       "    <tr>\n",
       "      <th>4</th>\n",
       "      <td>2018-12-25</td>\n",
       "      <td>B00837ZOI0</td>\n",
       "      <td>(Beauty &amp; Personal Care, Shave &amp; Hair Removal,...</td>\n",
       "      <td>R_01vNIayewjIIKMF</td>\n",
       "    </tr>\n",
       "    <tr>\n",
       "      <th>5</th>\n",
       "      <td>2019-02-18</td>\n",
       "      <td>B01GFB2E9M</td>\n",
       "      <td>(Electronics, Computers &amp; Accessories, Compute...</td>\n",
       "      <td>R_01vNIayewjIIKMF</td>\n",
       "    </tr>\n",
       "  </tbody>\n",
       "</table>\n",
       "</div>"
      ],
      "text/plain": [
       "  Order Date        ASIN                                           Category  \\\n",
       "0 2018-12-04  B0143RTB1E  (Electronics, Computers & Accessories, Compute...   \n",
       "1 2018-12-22  B01MA1MJ6H  (Electronics, Headphones, Earbuds & Accessorie...   \n",
       "3 2018-12-25  B06XWF9HML  (Beauty & Personal Care, Shave & Hair Removal,...   \n",
       "4 2018-12-25  B00837ZOI0  (Beauty & Personal Care, Shave & Hair Removal,...   \n",
       "5 2019-02-18  B01GFB2E9M  (Electronics, Computers & Accessories, Compute...   \n",
       "\n",
       "   Survey ResponseID  \n",
       "0  R_01vNIayewjIIKMF  \n",
       "1  R_01vNIayewjIIKMF  \n",
       "3  R_01vNIayewjIIKMF  \n",
       "4  R_01vNIayewjIIKMF  \n",
       "5  R_01vNIayewjIIKMF  "
      ]
     },
     "execution_count": 116,
     "metadata": {},
     "output_type": "execute_result"
    }
   ],
   "source": [
    "df = transaction_known.copy()\n",
    "df.rename(columns = {'ASIN/ISBN (Product Code)' : 'ASIN'}, inplace = True)\n",
    "df.head()"
   ]
  },
  {
   "cell_type": "code",
   "execution_count": 117,
   "id": "2eb7e59b",
   "metadata": {},
   "outputs": [
    {
     "data": {
      "application/vnd.microsoft.datawrangler.viewer.v0+json": {
       "columns": [
        {
         "name": "index",
         "rawType": "int64",
         "type": "integer"
        },
        {
         "name": "ASIN",
         "rawType": "object",
         "type": "unknown"
        },
        {
         "name": "Category_Origin",
         "rawType": "object",
         "type": "unknown"
        }
       ],
       "ref": "e9098098-eb43-4b75-b119-d65bcb140d8a",
       "rows": [
        [
         "0",
         "B0143RTB1E",
         "FLASH_MEMORY"
        ],
        [
         "1",
         "B01MA1MJ6H",
         "HEADPHONES"
        ],
        [
         "2",
         "B078JZTFN3",
         null
        ],
        [
         "3",
         "B06XWF9HML",
         "DISHWARE_BOWL"
        ],
        [
         "4",
         "B00837ZOI0",
         "SHAVING_AGENT"
        ],
        [
         "5",
         "B01GFB2E9M",
         "COMPUTER_PROCESSOR"
        ],
        [
         "6",
         "B00NH13S44",
         "COMPUTER_ADD_ON"
        ],
        [
         "7",
         "B077H6L7T9",
         "AMAZON_TABLET"
        ],
        [
         "8",
         "B07L84ZZXC",
         "APPAREL_BELT"
        ],
        [
         "9",
         "B06XKNWJN2",
         null
        ],
        [
         "10",
         "B07CG71KQ1",
         "PORTABLE_ELECTRONIC_DEVICE_STAND"
        ],
        [
         "11",
         "B079GFF4HZ",
         "HEADPHONES"
        ],
        [
         "12",
         "B01M0Q84BR",
         "IMMERSION_HEATER"
        ],
        [
         "14",
         "B073JYC4XM",
         "FLASH_MEMORY"
        ],
        [
         "15",
         "B00I7DT454",
         "BODY_LUBRICANT"
        ],
        [
         "17",
         "B0043T7FXE",
         "INPUT_MOUSE"
        ],
        [
         "18",
         "B01M2V05RE",
         "HEADPHONES"
        ],
        [
         "19",
         "B07BCZMBNR",
         "CELLULAR_PHONE_CASE"
        ],
        [
         "20",
         "B075CMYT43",
         "BODY_POSITIONER"
        ],
        [
         "21",
         "B01MZ956SX",
         "HANDBAG"
        ],
        [
         "22",
         "B07JCJP1DK",
         "UNDERPANTS"
        ],
        [
         "23",
         "B07JD5B8SP",
         "UNDERPANTS"
        ],
        [
         "24",
         "B071XGLB1S",
         "TAPE_MEASURE"
        ],
        [
         "25",
         "B071ZBV7DY",
         "AMAZON_TABLET_ACCESSORY"
        ],
        [
         "26",
         "B07D5V2ZXD",
         "COMPUTER_DRIVE_OR_STORAGE"
        ],
        [
         "27",
         "B01BNEWDFQ",
         "TOOTH_CLEANING_AGENT"
        ],
        [
         "28",
         "B01NBYY28W",
         "TOILET_PAPER"
        ],
        [
         "29",
         "B019FGCOW6",
         "MOUTHWASH"
        ],
        [
         "30",
         "B072JYDQ7N",
         "ELECTRONIC_CABLE"
        ],
        [
         "31",
         "B00MUJU33S",
         "SCREWDRIVER"
        ],
        [
         "32",
         "B07RTN4C77",
         "GIFT_CARD"
        ],
        [
         "35",
         "B01IQ00B04",
         "EDIBLE_OIL_VEGETABLE"
        ],
        [
         "36",
         "B07CZ6JCZS",
         null
        ],
        [
         "37",
         "B017ALC6GW",
         "EDIBLE_OIL_VEGETABLE"
        ],
        [
         "38",
         "B0741FV7ZV",
         "SIM_CARD"
        ],
        [
         "39",
         "B006MIPW70",
         "BED_FRAME"
        ],
        [
         "40",
         "B01LZKYNIM",
         "HERB"
        ],
        [
         "41",
         "B00KVM2SSO",
         null
        ],
        [
         "42",
         "B00NC8QEKM",
         "MEAT"
        ],
        [
         "43",
         "B0011EKWBQ",
         "DAIRY_BASED_BUTTER"
        ],
        [
         "44",
         "B00NC882CA",
         "DAIRY_BASED_CHEESE"
        ],
        [
         "45",
         "B00B9GUZP4",
         "JERKY"
        ],
        [
         "46",
         "B000QD9C8M",
         "BODY_LUBRICANT"
        ],
        [
         "47",
         "B01LZ5SB6U",
         "SEXUAL_STIMULATION_DEVICE"
        ],
        [
         "48",
         "B072HRDM55",
         "FLASH_MEMORY"
        ],
        [
         "49",
         "B07DGQ4QR3",
         "BODY_LUBRICANT"
        ],
        [
         "50",
         "B06XWZWYVP",
         "FLASH_MEMORY"
        ],
        [
         "53",
         "B07H8GC6WL",
         "SEXUAL_STIMULATION_DEVICE"
        ],
        [
         "54",
         "B01DVLP2UW",
         "SEXUAL_STIMULATION_DEVICE"
        ],
        [
         "55",
         "B075SN1MY9",
         "BODY_LUBRICANT"
        ]
       ],
       "shape": {
        "columns": 2,
        "rows": 939083
       }
      },
      "text/html": [
       "<div>\n",
       "<style scoped>\n",
       "    .dataframe tbody tr th:only-of-type {\n",
       "        vertical-align: middle;\n",
       "    }\n",
       "\n",
       "    .dataframe tbody tr th {\n",
       "        vertical-align: top;\n",
       "    }\n",
       "\n",
       "    .dataframe thead th {\n",
       "        text-align: right;\n",
       "    }\n",
       "</style>\n",
       "<table border=\"1\" class=\"dataframe\">\n",
       "  <thead>\n",
       "    <tr style=\"text-align: right;\">\n",
       "      <th></th>\n",
       "      <th>ASIN</th>\n",
       "      <th>Category_Origin</th>\n",
       "    </tr>\n",
       "  </thead>\n",
       "  <tbody>\n",
       "    <tr>\n",
       "      <th>0</th>\n",
       "      <td>B0143RTB1E</td>\n",
       "      <td>FLASH_MEMORY</td>\n",
       "    </tr>\n",
       "    <tr>\n",
       "      <th>1</th>\n",
       "      <td>B01MA1MJ6H</td>\n",
       "      <td>HEADPHONES</td>\n",
       "    </tr>\n",
       "    <tr>\n",
       "      <th>2</th>\n",
       "      <td>B078JZTFN3</td>\n",
       "      <td>NaN</td>\n",
       "    </tr>\n",
       "    <tr>\n",
       "      <th>3</th>\n",
       "      <td>B06XWF9HML</td>\n",
       "      <td>DISHWARE_BOWL</td>\n",
       "    </tr>\n",
       "    <tr>\n",
       "      <th>4</th>\n",
       "      <td>B00837ZOI0</td>\n",
       "      <td>SHAVING_AGENT</td>\n",
       "    </tr>\n",
       "    <tr>\n",
       "      <th>...</th>\n",
       "      <td>...</td>\n",
       "      <td>...</td>\n",
       "    </tr>\n",
       "    <tr>\n",
       "      <th>1850702</th>\n",
       "      <td>0674362810</td>\n",
       "      <td>ABIS_BOOK</td>\n",
       "    </tr>\n",
       "    <tr>\n",
       "      <th>1850703</th>\n",
       "      <td>B0000Y7L7G</td>\n",
       "      <td>BISS</td>\n",
       "    </tr>\n",
       "    <tr>\n",
       "      <th>1850706</th>\n",
       "      <td>0807057932</td>\n",
       "      <td>ABIS_BOOK</td>\n",
       "    </tr>\n",
       "    <tr>\n",
       "      <th>1850709</th>\n",
       "      <td>B085WXGMWG</td>\n",
       "      <td>CAMCORDER</td>\n",
       "    </tr>\n",
       "    <tr>\n",
       "      <th>1850713</th>\n",
       "      <td>B00QGCXPRG</td>\n",
       "      <td>TOWEL</td>\n",
       "    </tr>\n",
       "  </tbody>\n",
       "</table>\n",
       "<p>939083 rows × 2 columns</p>\n",
       "</div>"
      ],
      "text/plain": [
       "               ASIN Category_Origin\n",
       "0        B0143RTB1E    FLASH_MEMORY\n",
       "1        B01MA1MJ6H      HEADPHONES\n",
       "2        B078JZTFN3             NaN\n",
       "3        B06XWF9HML   DISHWARE_BOWL\n",
       "4        B00837ZOI0   SHAVING_AGENT\n",
       "...             ...             ...\n",
       "1850702  0674362810       ABIS_BOOK\n",
       "1850703  B0000Y7L7G            BISS\n",
       "1850706  0807057932       ABIS_BOOK\n",
       "1850709  B085WXGMWG       CAMCORDER\n",
       "1850713  B00QGCXPRG           TOWEL\n",
       "\n",
       "[939083 rows x 2 columns]"
      ]
     },
     "execution_count": 117,
     "metadata": {},
     "output_type": "execute_result"
    }
   ],
   "source": [
    "purchase_unique = purchase[['ASIN', 'Category']].drop_duplicates(subset='ASIN')\n",
    "purchase_unique = purchase_unique.rename(columns={'Category': 'Category_Origin'})\n",
    "purchase_unique"
   ]
  },
  {
   "cell_type": "code",
   "execution_count": 118,
   "id": "dc90dd77",
   "metadata": {},
   "outputs": [
    {
     "data": {
      "application/vnd.microsoft.datawrangler.viewer.v0+json": {
       "columns": [
        {
         "name": "index",
         "rawType": "int64",
         "type": "integer"
        },
        {
         "name": "Order Date",
         "rawType": "datetime64[ns]",
         "type": "datetime"
        },
        {
         "name": "ASIN",
         "rawType": "object",
         "type": "string"
        },
        {
         "name": "Category",
         "rawType": "object",
         "type": "unknown"
        },
        {
         "name": "Survey ResponseID",
         "rawType": "object",
         "type": "string"
        },
        {
         "name": "Category_Origin",
         "rawType": "object",
         "type": "unknown"
        }
       ],
       "ref": "06fe2784-9aea-4963-bfda-63a1cdc635ff",
       "rows": [
        [
         "0",
         "2018-12-04 00:00:00",
         "B0143RTB1E",
         "('Electronics', 'Computers & Accessories', 'Computer Accessories & Peripherals', 'Memory Cards', 'SD Cards')",
         "R_01vNIayewjIIKMF",
         "FLASH_MEMORY"
        ],
        [
         "1",
         "2018-04-22 00:00:00",
         "B0143RTB1E",
         "('Electronics', 'Computers & Accessories', 'Computer Accessories & Peripherals', 'Memory Cards', 'SD Cards')",
         "R_1LYvldXrvEt6Cel",
         "FLASH_MEMORY"
        ],
        [
         "2",
         "2020-01-10 00:00:00",
         "B0143RTB1E",
         "('Electronics', 'Computers & Accessories', 'Computer Accessories & Peripherals', 'Memory Cards', 'SD Cards')",
         "R_1QoPHtffEy2UzWJ",
         "FLASH_MEMORY"
        ],
        [
         "3",
         "2018-02-27 00:00:00",
         "B0143RTB1E",
         "('Electronics', 'Computers & Accessories', 'Computer Accessories & Peripherals', 'Memory Cards', 'SD Cards')",
         "R_1q4eVtHN10S5gPB",
         "FLASH_MEMORY"
        ],
        [
         "4",
         "2018-10-06 00:00:00",
         "B0143RTB1E",
         "('Electronics', 'Computers & Accessories', 'Computer Accessories & Peripherals', 'Memory Cards', 'SD Cards')",
         "R_1rpKvwP7VAtzJqH",
         "FLASH_MEMORY"
        ],
        [
         "5",
         "2018-08-25 00:00:00",
         "B0143RTB1E",
         "('Electronics', 'Computers & Accessories', 'Computer Accessories & Peripherals', 'Memory Cards', 'SD Cards')",
         "R_2V7HVsDu8mbPFDf",
         "FLASH_MEMORY"
        ],
        [
         "6",
         "2019-03-13 00:00:00",
         "B0143RTB1E",
         "('Electronics', 'Computers & Accessories', 'Computer Accessories & Peripherals', 'Memory Cards', 'SD Cards')",
         "R_2XpoQZjmJ9BOKQR",
         "FLASH_MEMORY"
        ],
        [
         "7",
         "2018-01-22 00:00:00",
         "B0143RTB1E",
         "('Electronics', 'Computers & Accessories', 'Computer Accessories & Peripherals', 'Memory Cards', 'SD Cards')",
         "R_2z6LiVVvQldVrWh",
         "FLASH_MEMORY"
        ],
        [
         "8",
         "2019-07-14 00:00:00",
         "B0143RTB1E",
         "('Electronics', 'Computers & Accessories', 'Computer Accessories & Peripherals', 'Memory Cards', 'SD Cards')",
         "R_O6ZX76mggPnAOfD",
         "FLASH_MEMORY"
        ],
        [
         "9",
         "2018-12-22 00:00:00",
         "B01MA1MJ6H",
         "('Electronics', 'Headphones, Earbuds & Accessories', 'Headphones & Earbuds', 'Earbud Headphones')",
         "R_01vNIayewjIIKMF",
         "HEADPHONES"
        ],
        [
         "10",
         "2019-05-16 00:00:00",
         "B01MA1MJ6H",
         "('Electronics', 'Headphones, Earbuds & Accessories', 'Headphones & Earbuds', 'Earbud Headphones')",
         "R_01vNIayewjIIKMF",
         "HEADPHONES"
        ],
        [
         "11",
         "2019-06-25 00:00:00",
         "B01MA1MJ6H",
         "('Electronics', 'Headphones, Earbuds & Accessories', 'Headphones & Earbuds', 'Earbud Headphones')",
         "R_01vNIayewjIIKMF",
         "HEADPHONES"
        ],
        [
         "12",
         "2019-12-20 00:00:00",
         "B01MA1MJ6H",
         "('Electronics', 'Headphones, Earbuds & Accessories', 'Headphones & Earbuds', 'Earbud Headphones')",
         "R_01vNIayewjIIKMF",
         "HEADPHONES"
        ],
        [
         "13",
         "2020-04-15 00:00:00",
         "B01MA1MJ6H",
         "('Electronics', 'Headphones, Earbuds & Accessories', 'Headphones & Earbuds', 'Earbud Headphones')",
         "R_01vNIayewjIIKMF",
         "HEADPHONES"
        ],
        [
         "14",
         "2020-05-21 00:00:00",
         "B01MA1MJ6H",
         "('Electronics', 'Headphones, Earbuds & Accessories', 'Headphones & Earbuds', 'Earbud Headphones')",
         "R_01vNIayewjIIKMF",
         "HEADPHONES"
        ],
        [
         "15",
         "2021-02-12 00:00:00",
         "B01MA1MJ6H",
         "('Electronics', 'Headphones, Earbuds & Accessories', 'Headphones & Earbuds', 'Earbud Headphones')",
         "R_01vNIayewjIIKMF",
         "HEADPHONES"
        ],
        [
         "16",
         "2021-05-31 00:00:00",
         "B01MA1MJ6H",
         "('Electronics', 'Headphones, Earbuds & Accessories', 'Headphones & Earbuds', 'Earbud Headphones')",
         "R_01vNIayewjIIKMF",
         "HEADPHONES"
        ],
        [
         "17",
         "2022-05-26 00:00:00",
         "B01MA1MJ6H",
         "('Electronics', 'Headphones, Earbuds & Accessories', 'Headphones & Earbuds', 'Earbud Headphones')",
         "R_01vNIayewjIIKMF",
         "HEADPHONES"
        ],
        [
         "18",
         "2020-03-01 00:00:00",
         "B01MA1MJ6H",
         "('Electronics', 'Headphones, Earbuds & Accessories', 'Headphones & Earbuds', 'Earbud Headphones')",
         "R_129jUlsvVcVBDur",
         "HEADPHONES"
        ],
        [
         "19",
         "2020-08-22 00:00:00",
         "B01MA1MJ6H",
         "('Electronics', 'Headphones, Earbuds & Accessories', 'Headphones & Earbuds', 'Earbud Headphones')",
         "R_129jUlsvVcVBDur",
         "HEADPHONES"
        ],
        [
         "20",
         "2021-02-08 00:00:00",
         "B01MA1MJ6H",
         "('Electronics', 'Headphones, Earbuds & Accessories', 'Headphones & Earbuds', 'Earbud Headphones')",
         "R_129jUlsvVcVBDur",
         "HEADPHONES"
        ],
        [
         "21",
         "2021-05-30 00:00:00",
         "B01MA1MJ6H",
         "('Electronics', 'Headphones, Earbuds & Accessories', 'Headphones & Earbuds', 'Earbud Headphones')",
         "R_1eDabE58dk65Lyy",
         "HEADPHONES"
        ],
        [
         "22",
         "2019-06-04 00:00:00",
         "B01MA1MJ6H",
         "('Electronics', 'Headphones, Earbuds & Accessories', 'Headphones & Earbuds', 'Earbud Headphones')",
         "R_25SbPPTyE45YzXP",
         "HEADPHONES"
        ],
        [
         "23",
         "2020-06-15 00:00:00",
         "B01MA1MJ6H",
         "('Electronics', 'Headphones, Earbuds & Accessories', 'Headphones & Earbuds', 'Earbud Headphones')",
         "R_2SiVXI2QZ5GDasH",
         "HEADPHONES"
        ],
        [
         "24",
         "2020-11-20 00:00:00",
         "B01MA1MJ6H",
         "('Electronics', 'Headphones, Earbuds & Accessories', 'Headphones & Earbuds', 'Earbud Headphones')",
         "R_2tajYnRL3lW3Bri",
         "HEADPHONES"
        ],
        [
         "25",
         "2021-02-20 00:00:00",
         "B01MA1MJ6H",
         "('Electronics', 'Headphones, Earbuds & Accessories', 'Headphones & Earbuds', 'Earbud Headphones')",
         "R_2tajYnRL3lW3Bri",
         "HEADPHONES"
        ],
        [
         "26",
         "2019-03-03 00:00:00",
         "B01MA1MJ6H",
         "('Electronics', 'Headphones, Earbuds & Accessories', 'Headphones & Earbuds', 'Earbud Headphones')",
         "R_3KI0Q5yJYxm1woD",
         "HEADPHONES"
        ],
        [
         "27",
         "2020-11-23 00:00:00",
         "B01MA1MJ6H",
         "('Electronics', 'Headphones, Earbuds & Accessories', 'Headphones & Earbuds', 'Earbud Headphones')",
         "R_3nJBlarikgnKpF2",
         "HEADPHONES"
        ],
        [
         "28",
         "2020-01-30 00:00:00",
         "B01MA1MJ6H",
         "('Electronics', 'Headphones, Earbuds & Accessories', 'Headphones & Earbuds', 'Earbud Headphones')",
         "R_3p4tQBL8E8GkXCI",
         "HEADPHONES"
        ],
        [
         "29",
         "2022-09-13 00:00:00",
         "B01MA1MJ6H",
         "('Electronics', 'Headphones, Earbuds & Accessories', 'Headphones & Earbuds', 'Earbud Headphones')",
         "R_RekNI4I8FXKS9lT",
         "HEADPHONES"
        ],
        [
         "30",
         "2022-03-03 00:00:00",
         "B01MA1MJ6H",
         "('Electronics', 'Headphones, Earbuds & Accessories', 'Headphones & Earbuds', 'Earbud Headphones')",
         "R_xayV525B1zHdFG9",
         "HEADPHONES"
        ],
        [
         "31",
         "2022-07-12 00:00:00",
         "B01MA1MJ6H",
         "('Electronics', 'Headphones, Earbuds & Accessories', 'Headphones & Earbuds', 'Earbud Headphones')",
         "R_xayV525B1zHdFG9",
         "HEADPHONES"
        ],
        [
         "32",
         "2018-12-25 00:00:00",
         "B06XWF9HML",
         "('Beauty & Personal Care', 'Shave & Hair Removal', \"Men's\", 'Shaving Accessories', 'Shaving Soap Bowls')",
         "R_01vNIayewjIIKMF",
         "DISHWARE_BOWL"
        ],
        [
         "33",
         "2018-12-25 00:00:00",
         "B00837ZOI0",
         "('Beauty & Personal Care', 'Shave & Hair Removal', \"Men's\", 'Shaving Creams, Lotions & Gels', 'Shaving Creams')",
         "R_01vNIayewjIIKMF",
         "SHAVING_AGENT"
        ],
        [
         "34",
         "2021-05-27 00:00:00",
         "B00837ZOI0",
         "('Beauty & Personal Care', 'Shave & Hair Removal', \"Men's\", 'Shaving Creams, Lotions & Gels', 'Shaving Creams')",
         "R_0TjMwrWLbhR338J",
         "SHAVING_AGENT"
        ],
        [
         "35",
         "2022-11-26 00:00:00",
         "B00837ZOI0",
         "('Beauty & Personal Care', 'Shave & Hair Removal', \"Men's\", 'Shaving Creams, Lotions & Gels', 'Shaving Creams')",
         "R_2SIYchF5txvb4ur",
         "SHAVING_AGENT"
        ],
        [
         "36",
         "2020-08-02 00:00:00",
         "B00837ZOI0",
         "('Beauty & Personal Care', 'Shave & Hair Removal', \"Men's\", 'Shaving Creams, Lotions & Gels', 'Shaving Creams')",
         "R_2dFHfsIqQ6eEtVW",
         "SHAVING_AGENT"
        ],
        [
         "37",
         "2022-03-05 00:00:00",
         "B00837ZOI0",
         "('Beauty & Personal Care', 'Shave & Hair Removal', \"Men's\", 'Shaving Creams, Lotions & Gels', 'Shaving Creams')",
         "R_AaonteE1s65CVYR",
         "SHAVING_AGENT"
        ],
        [
         "38",
         "2021-12-01 00:00:00",
         "B00837ZOI0",
         "('Beauty & Personal Care', 'Shave & Hair Removal', \"Men's\", 'Shaving Creams, Lotions & Gels', 'Shaving Creams')",
         "R_wXaMChMYqHnMARb",
         "SHAVING_AGENT"
        ],
        [
         "39",
         "2019-02-18 00:00:00",
         "B01GFB2E9M",
         "('Electronics', 'Computers & Accessories', 'Computer Accessories & Peripherals', 'Cables & Accessories', 'Cables & Interconnects', 'USB Cables')",
         "R_01vNIayewjIIKMF",
         "COMPUTER_PROCESSOR"
        ],
        [
         "40",
         "2018-03-14 00:00:00",
         "B01GFB2E9M",
         "('Electronics', 'Computers & Accessories', 'Computer Accessories & Peripherals', 'Cables & Accessories', 'Cables & Interconnects', 'USB Cables')",
         "R_1LUaD6cuon5njXD",
         "COMPUTER_PROCESSOR"
        ],
        [
         "41",
         "2021-05-03 00:00:00",
         "B01GFB2E9M",
         "('Electronics', 'Computers & Accessories', 'Computer Accessories & Peripherals', 'Cables & Accessories', 'Cables & Interconnects', 'USB Cables')",
         "R_1mC1GkAuzW7JKI5",
         "COMPUTER_PROCESSOR"
        ],
        [
         "42",
         "2018-06-06 00:00:00",
         "B01GFB2E9M",
         "('Electronics', 'Computers & Accessories', 'Computer Accessories & Peripherals', 'Cables & Accessories', 'Cables & Interconnects', 'USB Cables')",
         "R_3O1i61TeOWPvr69",
         "COMPUTER_PROCESSOR"
        ],
        [
         "43",
         "2020-01-28 00:00:00",
         "B01GFB2E9M",
         "('Electronics', 'Computers & Accessories', 'Computer Accessories & Peripherals', 'Cables & Accessories', 'Cables & Interconnects', 'USB Cables')",
         "R_blmQEhOrCwpqG4x",
         "COMPUTER_PROCESSOR"
        ],
        [
         "44",
         "2019-02-18 00:00:00",
         "B00NH13S44",
         "('Electronics', 'Computers & Accessories', 'Computer Accessories & Peripherals', 'Cables & Accessories', 'Cables & Interconnects', 'USB Cables')",
         "R_01vNIayewjIIKMF",
         "COMPUTER_ADD_ON"
        ],
        [
         "45",
         "2019-05-16 00:00:00",
         "B00NH13S44",
         "('Electronics', 'Computers & Accessories', 'Computer Accessories & Peripherals', 'Cables & Accessories', 'Cables & Interconnects', 'USB Cables')",
         "R_1It3uPOCs8UZVMn",
         "COMPUTER_ADD_ON"
        ],
        [
         "46",
         "2022-11-06 00:00:00",
         "B00NH13S44",
         "('Electronics', 'Computers & Accessories', 'Computer Accessories & Peripherals', 'Cables & Accessories', 'Cables & Interconnects', 'USB Cables')",
         "R_1gSeKWi6I0848rp",
         "COMPUTER_ADD_ON"
        ],
        [
         "47",
         "2020-08-27 00:00:00",
         "B00NH13S44",
         "('Electronics', 'Computers & Accessories', 'Computer Accessories & Peripherals', 'Cables & Accessories', 'Cables & Interconnects', 'USB Cables')",
         "R_1k1zPs6FKsqm1Ib",
         "COMPUTER_ADD_ON"
        ],
        [
         "48",
         "2018-04-16 00:00:00",
         "B00NH13S44",
         "('Electronics', 'Computers & Accessories', 'Computer Accessories & Peripherals', 'Cables & Accessories', 'Cables & Interconnects', 'USB Cables')",
         "R_1kMSPTD9ssCD0Qg",
         "COMPUTER_ADD_ON"
        ],
        [
         "49",
         "2022-08-29 00:00:00",
         "B00NH13S44",
         "('Electronics', 'Computers & Accessories', 'Computer Accessories & Peripherals', 'Cables & Accessories', 'Cables & Interconnects', 'USB Cables')",
         "R_1o76EOS42TBWhZ1",
         "COMPUTER_ADD_ON"
        ]
       ],
       "shape": {
        "columns": 5,
        "rows": 1593075
       }
      },
      "text/html": [
       "<div>\n",
       "<style scoped>\n",
       "    .dataframe tbody tr th:only-of-type {\n",
       "        vertical-align: middle;\n",
       "    }\n",
       "\n",
       "    .dataframe tbody tr th {\n",
       "        vertical-align: top;\n",
       "    }\n",
       "\n",
       "    .dataframe thead th {\n",
       "        text-align: right;\n",
       "    }\n",
       "</style>\n",
       "<table border=\"1\" class=\"dataframe\">\n",
       "  <thead>\n",
       "    <tr style=\"text-align: right;\">\n",
       "      <th></th>\n",
       "      <th>Order Date</th>\n",
       "      <th>ASIN</th>\n",
       "      <th>Category</th>\n",
       "      <th>Survey ResponseID</th>\n",
       "      <th>Category_Origin</th>\n",
       "    </tr>\n",
       "  </thead>\n",
       "  <tbody>\n",
       "    <tr>\n",
       "      <th>0</th>\n",
       "      <td>2018-12-04</td>\n",
       "      <td>B0143RTB1E</td>\n",
       "      <td>(Electronics, Computers &amp; Accessories, Compute...</td>\n",
       "      <td>R_01vNIayewjIIKMF</td>\n",
       "      <td>FLASH_MEMORY</td>\n",
       "    </tr>\n",
       "    <tr>\n",
       "      <th>1</th>\n",
       "      <td>2018-04-22</td>\n",
       "      <td>B0143RTB1E</td>\n",
       "      <td>(Electronics, Computers &amp; Accessories, Compute...</td>\n",
       "      <td>R_1LYvldXrvEt6Cel</td>\n",
       "      <td>FLASH_MEMORY</td>\n",
       "    </tr>\n",
       "    <tr>\n",
       "      <th>2</th>\n",
       "      <td>2020-01-10</td>\n",
       "      <td>B0143RTB1E</td>\n",
       "      <td>(Electronics, Computers &amp; Accessories, Compute...</td>\n",
       "      <td>R_1QoPHtffEy2UzWJ</td>\n",
       "      <td>FLASH_MEMORY</td>\n",
       "    </tr>\n",
       "    <tr>\n",
       "      <th>3</th>\n",
       "      <td>2018-02-27</td>\n",
       "      <td>B0143RTB1E</td>\n",
       "      <td>(Electronics, Computers &amp; Accessories, Compute...</td>\n",
       "      <td>R_1q4eVtHN10S5gPB</td>\n",
       "      <td>FLASH_MEMORY</td>\n",
       "    </tr>\n",
       "    <tr>\n",
       "      <th>4</th>\n",
       "      <td>2018-10-06</td>\n",
       "      <td>B0143RTB1E</td>\n",
       "      <td>(Electronics, Computers &amp; Accessories, Compute...</td>\n",
       "      <td>R_1rpKvwP7VAtzJqH</td>\n",
       "      <td>FLASH_MEMORY</td>\n",
       "    </tr>\n",
       "    <tr>\n",
       "      <th>...</th>\n",
       "      <td>...</td>\n",
       "      <td>...</td>\n",
       "      <td>...</td>\n",
       "      <td>...</td>\n",
       "      <td>...</td>\n",
       "    </tr>\n",
       "    <tr>\n",
       "      <th>1593070</th>\n",
       "      <td>2019-06-04</td>\n",
       "      <td>0674362810</td>\n",
       "      <td>(Books, History, World, Religious, General)</td>\n",
       "      <td>R_zfqnsBzlOAKibzb</td>\n",
       "      <td>ABIS_BOOK</td>\n",
       "    </tr>\n",
       "    <tr>\n",
       "      <th>1593071</th>\n",
       "      <td>2019-06-04</td>\n",
       "      <td>B0000Y7L7G</td>\n",
       "      <td>(Home &amp; Kitchen, Kitchen &amp; Dining, Kitchen Ute...</td>\n",
       "      <td>R_zfqnsBzlOAKibzb</td>\n",
       "      <td>BISS</td>\n",
       "    </tr>\n",
       "    <tr>\n",
       "      <th>1593072</th>\n",
       "      <td>2019-09-30</td>\n",
       "      <td>0807057932</td>\n",
       "      <td>(Books, Politics &amp; Social Sciences, Philosophy...</td>\n",
       "      <td>R_zfqnsBzlOAKibzb</td>\n",
       "      <td>ABIS_BOOK</td>\n",
       "    </tr>\n",
       "    <tr>\n",
       "      <th>1593073</th>\n",
       "      <td>2020-03-24</td>\n",
       "      <td>B085WXGMWG</td>\n",
       "      <td>(Electronics, Computers &amp; Accessories, Compute...</td>\n",
       "      <td>R_zfqnsBzlOAKibzb</td>\n",
       "      <td>CAMCORDER</td>\n",
       "    </tr>\n",
       "    <tr>\n",
       "      <th>1593074</th>\n",
       "      <td>2021-04-14</td>\n",
       "      <td>B00QGCXPRG</td>\n",
       "      <td>(Health &amp; Household, Household Supplies, Clean...</td>\n",
       "      <td>R_zfqnsBzlOAKibzb</td>\n",
       "      <td>TOWEL</td>\n",
       "    </tr>\n",
       "  </tbody>\n",
       "</table>\n",
       "<p>1593075 rows × 5 columns</p>\n",
       "</div>"
      ],
      "text/plain": [
       "        Order Date        ASIN  \\\n",
       "0       2018-12-04  B0143RTB1E   \n",
       "1       2018-04-22  B0143RTB1E   \n",
       "2       2020-01-10  B0143RTB1E   \n",
       "3       2018-02-27  B0143RTB1E   \n",
       "4       2018-10-06  B0143RTB1E   \n",
       "...            ...         ...   \n",
       "1593070 2019-06-04  0674362810   \n",
       "1593071 2019-06-04  B0000Y7L7G   \n",
       "1593072 2019-09-30  0807057932   \n",
       "1593073 2020-03-24  B085WXGMWG   \n",
       "1593074 2021-04-14  B00QGCXPRG   \n",
       "\n",
       "                                                  Category  Survey ResponseID  \\\n",
       "0        (Electronics, Computers & Accessories, Compute...  R_01vNIayewjIIKMF   \n",
       "1        (Electronics, Computers & Accessories, Compute...  R_1LYvldXrvEt6Cel   \n",
       "2        (Electronics, Computers & Accessories, Compute...  R_1QoPHtffEy2UzWJ   \n",
       "3        (Electronics, Computers & Accessories, Compute...  R_1q4eVtHN10S5gPB   \n",
       "4        (Electronics, Computers & Accessories, Compute...  R_1rpKvwP7VAtzJqH   \n",
       "...                                                    ...                ...   \n",
       "1593070        (Books, History, World, Religious, General)  R_zfqnsBzlOAKibzb   \n",
       "1593071  (Home & Kitchen, Kitchen & Dining, Kitchen Ute...  R_zfqnsBzlOAKibzb   \n",
       "1593072  (Books, Politics & Social Sciences, Philosophy...  R_zfqnsBzlOAKibzb   \n",
       "1593073  (Electronics, Computers & Accessories, Compute...  R_zfqnsBzlOAKibzb   \n",
       "1593074  (Health & Household, Household Supplies, Clean...  R_zfqnsBzlOAKibzb   \n",
       "\n",
       "        Category_Origin  \n",
       "0          FLASH_MEMORY  \n",
       "1          FLASH_MEMORY  \n",
       "2          FLASH_MEMORY  \n",
       "3          FLASH_MEMORY  \n",
       "4          FLASH_MEMORY  \n",
       "...                 ...  \n",
       "1593070       ABIS_BOOK  \n",
       "1593071            BISS  \n",
       "1593072       ABIS_BOOK  \n",
       "1593073       CAMCORDER  \n",
       "1593074           TOWEL  \n",
       "\n",
       "[1593075 rows x 5 columns]"
      ]
     },
     "execution_count": 118,
     "metadata": {},
     "output_type": "execute_result"
    }
   ],
   "source": [
    "df = df.merge(purchase_unique, on = 'ASIN', how = 'inner')\n",
    "df"
   ]
  },
  {
   "cell_type": "code",
   "execution_count": 119,
   "id": "9240836e",
   "metadata": {},
   "outputs": [
    {
     "data": {
      "application/vnd.microsoft.datawrangler.viewer.v0+json": {
       "columns": [
        {
         "name": "index",
         "rawType": "int64",
         "type": "integer"
        },
        {
         "name": "Survey ResponseID",
         "rawType": "object",
         "type": "string"
        },
        {
         "name": "Category",
         "rawType": "object",
         "type": "unknown"
        },
        {
         "name": "median_cycle",
         "rawType": "int64",
         "type": "integer"
        },
        {
         "name": "cv_cycle",
         "rawType": "float64",
         "type": "float"
        },
        {
         "name": "n_cycles",
         "rawType": "int64",
         "type": "integer"
        }
       ],
       "ref": "33d5b6b3-c66b-4b2b-a882-8513acc18bf9",
       "rows": [
        [
         "0",
         "R_01vNIayewjIIKMF",
         "('Cell Phones & Accessories', 'Cases, Holsters & Sleeves', 'Basic Cases')",
         "180",
         "1.2131095624938484",
         "4"
        ],
        [
         "3",
         "R_01vNIayewjIIKMF",
         "('Electronics', 'Computers & Accessories', 'Computer Accessories & Peripherals', 'Cables & Accessories', 'Cables & Interconnects', 'USB Cables')",
         "232",
         "0.9557027083695108",
         "4"
        ],
        [
         "5",
         "R_01vNIayewjIIKMF",
         "('Electronics', 'Computers & Accessories', 'Computer Accessories & Peripherals', 'Memory Cards', 'Micro SD Cards')",
         "16",
         "1.3856500104850047",
         "6"
        ],
        [
         "6",
         "R_01vNIayewjIIKMF",
         "('Electronics', 'Computers & Accessories', 'Data Storage', 'External Hard Drives')",
         "29",
         "1.5737233657370742",
         "9"
        ],
        [
         "7",
         "R_01vNIayewjIIKMF",
         "('Electronics', 'Headphones, Earbuds & Accessories', 'Headphones & Earbuds', 'Earbud Headphones')",
         "42",
         "0.9772966871052798",
         "17"
        ],
        [
         "8",
         "R_01vNIayewjIIKMF",
         "('Gift Cards', 'Gift Cards')",
         "14",
         "1.5002528043956345",
         "6"
        ],
        [
         "14",
         "R_01vNIayewjIIKMF",
         "('Health & Household', 'Sexual Wellness', 'Adult Toys & Games', 'Sex Toys', 'Male Masturbators')",
         "26",
         "1.4120829049710444",
         "8"
        ],
        [
         "15",
         "R_01vNIayewjIIKMF",
         "('Health & Household', 'Sexual Wellness', 'Safer Sex', 'Lubricants')",
         "34",
         "1.6948442242891955",
         "5"
        ],
        [
         "20",
         "R_037XK72IZBJyF69",
         "('Arts, Crafts & Sewing', 'Knitting & Crochet', 'Yarn')",
         "172",
         "1.1901724667558542",
         "4"
        ],
        [
         "21",
         "R_037XK72IZBJyF69",
         "('Beauty & Personal Care', 'Foot, Hand & Nail Care', 'Nail Art & Polish', 'Nail Art Accessories', 'Stickers & Decals')",
         "138",
         "0.9281294740343695",
         "3"
        ],
        [
         "22",
         "R_037XK72IZBJyF69",
         "('Beauty & Personal Care', 'Foot, Hand & Nail Care', 'Nail Art & Polish', 'Nail Polish')",
         "228",
         "0.9802604623869299",
         "4"
        ],
        [
         "25",
         "R_037XK72IZBJyF69",
         "('Beauty & Personal Care', 'Hair Care', 'Shampoo & Conditioner', 'Conditioners')",
         "335",
         "1.0921657424860483",
         "4"
        ],
        [
         "26",
         "R_037XK72IZBJyF69",
         "('Beauty & Personal Care', 'Hair Care', 'Shampoo & Conditioner', 'Shampoos')",
         "149",
         "1.1409922797745833",
         "7"
        ],
        [
         "30",
         "R_037XK72IZBJyF69",
         "('Beauty & Personal Care', 'Shave & Hair Removal', \"Men's\", 'Razors & Blades', 'Cartridge Razors')",
         "179",
         "0.5733189875264322",
         "3"
        ],
        [
         "35",
         "R_037XK72IZBJyF69",
         "('Beauty & Personal Care', 'Skin Care', 'Face', 'Cleansers', 'Cloths & Towelettes')",
         "146",
         "0.7412808825201443",
         "10"
        ],
        [
         "36",
         "R_037XK72IZBJyF69",
         "('Beauty & Personal Care', 'Skin Care', 'Face', 'Creams & Moisturizers', 'Face Moisturizers')",
         "116",
         "1.084567726387398",
         "4"
        ],
        [
         "38",
         "R_037XK72IZBJyF69",
         "('Beauty & Personal Care', 'Skin Care', 'Face', 'Treatments & Masks', 'Masks')",
         "184",
         "0.7196582522280975",
         "3"
        ],
        [
         "54",
         "R_037XK72IZBJyF69",
         "('Clothing, Shoes & Jewelry', 'Women', 'Clothing', 'Dresses', 'Casual')",
         "84",
         "0.572224176685073",
         "3"
        ],
        [
         "55",
         "R_037XK72IZBJyF69",
         "('Clothing, Shoes & Jewelry', 'Women', 'Clothing', 'Jeans')",
         "4",
         "1.7048444949568438",
         "5"
        ],
        [
         "59",
         "R_037XK72IZBJyF69",
         "('Electronics', 'Computers & Accessories', 'Computer Accessories & Peripherals', 'Cables & Accessories', 'Cables & Interconnects', 'USB Cables')",
         "319",
         "0.43747679430480946",
         "4"
        ],
        [
         "61",
         "R_037XK72IZBJyF69",
         "('Gift Cards', 'Gift Cards')",
         "77",
         "0.6941716432394045",
         "5"
        ],
        [
         "62",
         "R_037XK72IZBJyF69",
         "('Grocery & Gourmet Food', 'Beverages', 'Bottled Beverages, Water & Drink Mixes', 'Energy Drinks')",
         "43",
         "1.5141215274871433",
         "3"
        ],
        [
         "65",
         "R_037XK72IZBJyF69",
         "('Grocery & Gourmet Food', 'Beverages', 'Bottled Beverages, Water & Drink Mixes', 'Soft Drinks')",
         "32",
         "1.8288078730017345",
         "4"
        ],
        [
         "66",
         "R_037XK72IZBJyF69",
         "('Grocery & Gourmet Food', 'Beverages', 'Tea', 'Black')",
         "36",
         "0.8441598960088975",
         "13"
        ],
        [
         "69",
         "R_037XK72IZBJyF69",
         "('Grocery & Gourmet Food', 'Breads & Bakery', 'Breads', 'Pretzels')",
         "38",
         "0.7557072509304942",
         "3"
        ],
        [
         "75",
         "R_037XK72IZBJyF69",
         "('Grocery & Gourmet Food', 'Breads & Bakery', 'Pastries & Bakery', 'Bagels')",
         "68",
         "0.3667256852006248",
         "3"
        ],
        [
         "76",
         "R_037XK72IZBJyF69",
         "('Grocery & Gourmet Food', 'Breads & Bakery', 'Pastries & Bakery', 'Croissants')",
         "32",
         "0.739962219647142",
         "5"
        ],
        [
         "77",
         "R_037XK72IZBJyF69",
         "('Grocery & Gourmet Food', 'Breakfast Cereal', 'Granola')",
         "27",
         "0.5933891864902818",
         "6"
        ],
        [
         "81",
         "R_037XK72IZBJyF69",
         "('Grocery & Gourmet Food', 'Dairy, Eggs & Plant-Based Alternatives', 'Dairy & Plant-Based Yogurt', 'Traditional Flavored')",
         "14",
         "0.6353667351380249",
         "10"
        ],
        [
         "82",
         "R_037XK72IZBJyF69",
         "('Grocery & Gourmet Food', 'Dairy, Eggs & Plant-Based Alternatives', 'Milk & Cream', 'Dairy Milk')",
         "54",
         "1.2051813521967618",
         "4"
        ],
        [
         "84",
         "R_037XK72IZBJyF69",
         "('Grocery & Gourmet Food', 'Dairy, Eggs & Plant-Based Alternatives', 'Packaged Cheese', 'Cheddar')",
         "28",
         "1.2958069479125751",
         "7"
        ],
        [
         "86",
         "R_037XK72IZBJyF69",
         "('Grocery & Gourmet Food', 'Deli & Prepared Foods', 'Dips, Salsas & Spreads', 'Hummus')",
         "59",
         "0.7638589208773641",
         "4"
        ],
        [
         "88",
         "R_037XK72IZBJyF69",
         "('Grocery & Gourmet Food', 'Deli & Prepared Foods', 'Soups, Stews & Chili')",
         "20",
         "0.8923668121411531",
         "10"
        ],
        [
         "89",
         "R_037XK72IZBJyF69",
         "('Grocery & Gourmet Food', 'Deli & Prepared Foods', 'Sushi')",
         "155",
         "0.9896600244044451",
         "3"
        ],
        [
         "92",
         "R_037XK72IZBJyF69",
         "('Grocery & Gourmet Food', 'Frozen', 'Ice Cream & Novelties', 'Ice Cream')",
         "0",
         "2.0",
         "4"
        ],
        [
         "94",
         "R_037XK72IZBJyF69",
         "('Grocery & Gourmet Food', 'Frozen', 'Meals & Entrees', 'Meatless')",
         "19",
         "0.9658521472618727",
         "3"
        ],
        [
         "101",
         "R_037XK72IZBJyF69",
         "('Grocery & Gourmet Food', 'Pantry Staples', 'Herbs, Spices & Seasonings', 'Salt & Salt Substitutes', 'Salt', 'Sea Salt')",
         "144",
         "1.4433562495384227",
         "3"
        ],
        [
         "105",
         "R_037XK72IZBJyF69",
         "('Grocery & Gourmet Food', 'Pantry Staples', 'Sauces, Gravies & Marinades', 'Sauces', 'Italian', 'Marinara')",
         "8",
         "2.7095872581979163",
         "9"
        ],
        [
         "107",
         "R_037XK72IZBJyF69",
         "('Grocery & Gourmet Food', 'Pantry Staples', 'Soups, Stocks & Broths', 'Noodle Soups')",
         "28",
         "1.2778201401182994",
         "7"
        ],
        [
         "111",
         "R_037XK72IZBJyF69",
         "('Grocery & Gourmet Food', 'Produce', 'Packaged Produce', 'Packaged Greens & Salad Mixes')",
         "61",
         "0.6613182886480007",
         "3"
        ],
        [
         "116",
         "R_037XK72IZBJyF69",
         "('Health & Household', 'Diet & Sports Nutrition', 'Sports Nutrition', 'Protein', 'Ready to Drink')",
         "45",
         "0.9142070149131138",
         "7"
        ],
        [
         "120",
         "R_037XK72IZBJyF69",
         "('Health & Household', 'Health Care', 'Over-the-Counter Medication', 'Digestion & Nausea', 'Antacids')",
         "77",
         "0.5361628741367845",
         "9"
        ],
        [
         "126",
         "R_037XK72IZBJyF69",
         "('Health & Household', 'Household Supplies', 'Household Batteries', 'AAA')",
         "141",
         "0.8447662515502873",
         "3"
        ],
        [
         "134",
         "R_037XK72IZBJyF69",
         "('Health & Household', 'Oral Care', 'Orthodontic Supplies')",
         "33",
         "1.109557149393371",
         "6"
        ],
        [
         "136",
         "R_037XK72IZBJyF69",
         "('Health & Household', 'Vision', 'Eyeglasses Care', 'Cleaning Tissues & Cloths')",
         "220",
         "0.09003714402364416",
         "6"
        ],
        [
         "137",
         "R_037XK72IZBJyF69",
         "('Health & Household', 'Vitamins, Minerals & Supplements', 'Blended Vitamin & Mineral Supplements')",
         "320",
         "0.9341893119059972",
         "3"
        ],
        [
         "139",
         "R_037XK72IZBJyF69",
         "('Health & Household', 'Vitamins, Minerals & Supplements', 'Herbal Supplements', 'Fruit Extracts', 'Elderberry')",
         "41",
         "1.2606510383256562",
         "4"
        ],
        [
         "150",
         "R_037XK72IZBJyF69",
         "('Home & Kitchen', 'Home Décor Products', 'Home Fragrance', 'Incense & Incense Holders', 'Incense')",
         "180",
         "0.6559056733353797",
         "4"
        ],
        [
         "158",
         "R_037XK72IZBJyF69",
         "('Home & Kitchen', 'Kitchen & Dining', 'Storage & Organization', 'Food Storage', 'Food Containers', 'Container Sets')",
         "206",
         "0.917949788839424",
         "4"
        ],
        [
         "170",
         "R_037XK72IZBJyF69",
         "('Patio, Lawn & Garden', 'Gardening & Lawn Care', 'Pots, Planters & Container Accessories', 'Planters')",
         "35",
         "0.41770703449507124",
         "4"
        ]
       ],
       "shape": {
        "columns": 5,
        "rows": 63847
       }
      },
      "text/html": [
       "<div>\n",
       "<style scoped>\n",
       "    .dataframe tbody tr th:only-of-type {\n",
       "        vertical-align: middle;\n",
       "    }\n",
       "\n",
       "    .dataframe tbody tr th {\n",
       "        vertical-align: top;\n",
       "    }\n",
       "\n",
       "    .dataframe thead th {\n",
       "        text-align: right;\n",
       "    }\n",
       "</style>\n",
       "<table border=\"1\" class=\"dataframe\">\n",
       "  <thead>\n",
       "    <tr style=\"text-align: right;\">\n",
       "      <th></th>\n",
       "      <th>Survey ResponseID</th>\n",
       "      <th>Category</th>\n",
       "      <th>median_cycle</th>\n",
       "      <th>cv_cycle</th>\n",
       "      <th>n_cycles</th>\n",
       "    </tr>\n",
       "  </thead>\n",
       "  <tbody>\n",
       "    <tr>\n",
       "      <th>0</th>\n",
       "      <td>R_01vNIayewjIIKMF</td>\n",
       "      <td>(Cell Phones &amp; Accessories, Cases, Holsters &amp; ...</td>\n",
       "      <td>180</td>\n",
       "      <td>1.213110</td>\n",
       "      <td>4</td>\n",
       "    </tr>\n",
       "    <tr>\n",
       "      <th>3</th>\n",
       "      <td>R_01vNIayewjIIKMF</td>\n",
       "      <td>(Electronics, Computers &amp; Accessories, Compute...</td>\n",
       "      <td>232</td>\n",
       "      <td>0.955703</td>\n",
       "      <td>4</td>\n",
       "    </tr>\n",
       "    <tr>\n",
       "      <th>5</th>\n",
       "      <td>R_01vNIayewjIIKMF</td>\n",
       "      <td>(Electronics, Computers &amp; Accessories, Compute...</td>\n",
       "      <td>16</td>\n",
       "      <td>1.385650</td>\n",
       "      <td>6</td>\n",
       "    </tr>\n",
       "    <tr>\n",
       "      <th>6</th>\n",
       "      <td>R_01vNIayewjIIKMF</td>\n",
       "      <td>(Electronics, Computers &amp; Accessories, Data St...</td>\n",
       "      <td>29</td>\n",
       "      <td>1.573723</td>\n",
       "      <td>9</td>\n",
       "    </tr>\n",
       "    <tr>\n",
       "      <th>7</th>\n",
       "      <td>R_01vNIayewjIIKMF</td>\n",
       "      <td>(Electronics, Headphones, Earbuds &amp; Accessorie...</td>\n",
       "      <td>42</td>\n",
       "      <td>0.977297</td>\n",
       "      <td>17</td>\n",
       "    </tr>\n",
       "    <tr>\n",
       "      <th>...</th>\n",
       "      <td>...</td>\n",
       "      <td>...</td>\n",
       "      <td>...</td>\n",
       "      <td>...</td>\n",
       "      <td>...</td>\n",
       "    </tr>\n",
       "    <tr>\n",
       "      <th>242940</th>\n",
       "      <td>R_zfnsck2ZatnGtY5</td>\n",
       "      <td>(Movies &amp; TV, Featured Categories, DVD, Action...</td>\n",
       "      <td>68</td>\n",
       "      <td>1.072535</td>\n",
       "      <td>8</td>\n",
       "    </tr>\n",
       "    <tr>\n",
       "      <th>242941</th>\n",
       "      <td>R_zfnsck2ZatnGtY5</td>\n",
       "      <td>(Movies &amp; TV, Featured Categories, DVD, Comedy)</td>\n",
       "      <td>181</td>\n",
       "      <td>1.002466</td>\n",
       "      <td>6</td>\n",
       "    </tr>\n",
       "    <tr>\n",
       "      <th>242957</th>\n",
       "      <td>R_zfnsck2ZatnGtY5</td>\n",
       "      <td>(Toys &amp; Games, Stuffed Animals &amp; Plush Toys, S...</td>\n",
       "      <td>54</td>\n",
       "      <td>1.101016</td>\n",
       "      <td>4</td>\n",
       "    </tr>\n",
       "    <tr>\n",
       "      <th>242962</th>\n",
       "      <td>R_zfnsck2ZatnGtY5</td>\n",
       "      <td>(Video Games, Xbox One, Games)</td>\n",
       "      <td>209</td>\n",
       "      <td>0.640865</td>\n",
       "      <td>4</td>\n",
       "    </tr>\n",
       "    <tr>\n",
       "      <th>242963</th>\n",
       "      <td>R_zfqnsBzlOAKibzb</td>\n",
       "      <td>(Beauty &amp; Personal Care, Skin Care, Face, Crea...</td>\n",
       "      <td>273</td>\n",
       "      <td>0.849812</td>\n",
       "      <td>3</td>\n",
       "    </tr>\n",
       "  </tbody>\n",
       "</table>\n",
       "<p>63847 rows × 5 columns</p>\n",
       "</div>"
      ],
      "text/plain": [
       "        Survey ResponseID                                           Category  \\\n",
       "0       R_01vNIayewjIIKMF  (Cell Phones & Accessories, Cases, Holsters & ...   \n",
       "3       R_01vNIayewjIIKMF  (Electronics, Computers & Accessories, Compute...   \n",
       "5       R_01vNIayewjIIKMF  (Electronics, Computers & Accessories, Compute...   \n",
       "6       R_01vNIayewjIIKMF  (Electronics, Computers & Accessories, Data St...   \n",
       "7       R_01vNIayewjIIKMF  (Electronics, Headphones, Earbuds & Accessorie...   \n",
       "...                   ...                                                ...   \n",
       "242940  R_zfnsck2ZatnGtY5  (Movies & TV, Featured Categories, DVD, Action...   \n",
       "242941  R_zfnsck2ZatnGtY5    (Movies & TV, Featured Categories, DVD, Comedy)   \n",
       "242957  R_zfnsck2ZatnGtY5  (Toys & Games, Stuffed Animals & Plush Toys, S...   \n",
       "242962  R_zfnsck2ZatnGtY5                     (Video Games, Xbox One, Games)   \n",
       "242963  R_zfqnsBzlOAKibzb  (Beauty & Personal Care, Skin Care, Face, Crea...   \n",
       "\n",
       "        median_cycle  cv_cycle  n_cycles  \n",
       "0                180  1.213110         4  \n",
       "3                232  0.955703         4  \n",
       "5                 16  1.385650         6  \n",
       "6                 29  1.573723         9  \n",
       "7                 42  0.977297        17  \n",
       "...              ...       ...       ...  \n",
       "242940            68  1.072535         8  \n",
       "242941           181  1.002466         6  \n",
       "242957            54  1.101016         4  \n",
       "242962           209  0.640865         4  \n",
       "242963           273  0.849812         3  \n",
       "\n",
       "[63847 rows x 5 columns]"
      ]
     },
     "execution_count": 119,
     "metadata": {},
     "output_type": "execute_result"
    }
   ],
   "source": [
    "# 1. 날짜 정렬 후 구매주기(diff) 계산\n",
    "purchase_diff = (\n",
    "    df\n",
    "    .sort_values(['Survey ResponseID', 'Category', 'Order Date'])\n",
    "    .groupby(['Survey ResponseID', 'Category'])['Order Date']\n",
    "    .diff()\n",
    "    .dropna()\n",
    ")\n",
    "\n",
    "# 2. 그룹키 추출 (인덱스 기준)\n",
    "group_keys = [df.loc[purchase_diff.index, 'Survey ResponseID'], df.loc[purchase_diff.index, 'Category']]\n",
    "\n",
    "# 3. 통계 요약: 중앙값, 표준편차, 평균, 개수\n",
    "summary = (\n",
    "    purchase_diff\n",
    "    .groupby(group_keys)\n",
    "    .agg(\n",
    "        median_cycle='median',\n",
    "        mean_cycle='mean',\n",
    "        std_cycle='std',\n",
    "        n_cycles='count'\n",
    "    )\n",
    "    .reset_index()\n",
    ")\n",
    "\n",
    "# 4. 변동계수 계산\n",
    "summary['cv_cycle'] = summary['std_cycle'] / summary['mean_cycle']\n",
    "\n",
    "# 5. 3개 미만인 그룹 제외 + 원하는 컬럼만 선택\n",
    "user_purchase_cycle = summary[summary['n_cycles'] >= 3][['Survey ResponseID', 'Category', 'median_cycle', 'cv_cycle', 'n_cycles']]\n",
    "user_purchase_cycle['median_cycle'] = user_purchase_cycle['median_cycle'].dt.days\n",
    "user_purchase_cycle"
   ]
  },
  {
   "cell_type": "code",
   "execution_count": null,
   "id": "6dbe6031",
   "metadata": {},
   "outputs": [],
   "source": []
  },
  {
   "cell_type": "code",
   "execution_count": 127,
   "id": "213b0a95",
   "metadata": {},
   "outputs": [
    {
     "data": {
      "application/vnd.microsoft.datawrangler.viewer.v0+json": {
       "columns": [
        {
         "name": "index",
         "rawType": "int64",
         "type": "integer"
        },
        {
         "name": "Category",
         "rawType": "object",
         "type": "unknown"
        },
        {
         "name": "median_of_median_cycle",
         "rawType": "float64",
         "type": "float"
        },
        {
         "name": "cv_of_median_cycle",
         "rawType": "float64",
         "type": "float"
        }
       ],
       "ref": "c709ed0b-cb19-42c9-9d02-61118b679e26",
       "rows": [
        [
         "0",
         "('Appliances', 'Parts & Accessories', 'Dryer Parts & Accessories', 'Replacement Parts')",
         "22.5",
         "1.3941633806603344"
        ],
        [
         "1",
         "('Appliances', 'Parts & Accessories', 'Humidifier Parts & Accessories', 'Replacement Wicks')",
         "182.0",
         "0.5172052187395655"
        ],
        [
         "2",
         "('Appliances', 'Parts & Accessories', 'Refrigerator Parts & Accessories', 'Water Filters')",
         "190.5",
         "0.5477383686566643"
        ],
        [
         "3",
         "('Arts, Crafts & Sewing', 'Beading & Jewelry Making', 'Beading Supplies', 'Beading Cords & Threads')",
         "24.0",
         "1.4175861642586776"
        ],
        [
         "4",
         "('Arts, Crafts & Sewing', 'Beading & Jewelry Making', 'Beading Supplies', 'Fuse & Perler Beads')",
         "2.0",
         "1.5592410524137386"
        ],
        [
         "5",
         "('Arts, Crafts & Sewing', 'Beading & Jewelry Making', 'Beads & Bead Assortments')",
         "5.0",
         "1.9142583215836637"
        ],
        [
         "6",
         "('Arts, Crafts & Sewing', 'Beading & Jewelry Making', 'Charms')",
         "13.5",
         "1.7529956228870682"
        ],
        [
         "7",
         "('Arts, Crafts & Sewing', 'Beading & Jewelry Making', 'Jewelry Casting Supplies', 'Resin Casting Molds')",
         "6.0",
         "1.5140491186953031"
        ],
        [
         "8",
         "('Arts, Crafts & Sewing', 'Beading & Jewelry Making', 'Jewelry Findings', 'Earring Backs & Findings')",
         "22.0",
         "1.1450620107509133"
        ],
        [
         "9",
         "('Arts, Crafts & Sewing', 'Beading & Jewelry Making', 'Jewelry Findings', 'Jewelry Clasps')",
         "95.0",
         "0.9039200171539858"
        ],
        [
         "10",
         "('Arts, Crafts & Sewing', 'Beading & Jewelry Making', 'Jewelry Findings', 'Jewelry Making Chains')",
         "12.0",
         "1.4777041204028705"
        ],
        [
         "11",
         "('Arts, Crafts & Sewing', 'Beading & Jewelry Making', 'Jewelry Findings', 'Jump Rings')",
         "63.0",
         "1.0642168071045826"
        ],
        [
         "12",
         "('Arts, Crafts & Sewing', 'Beading & Jewelry Making', 'Jewelry Making Display & Packaging Supplies')",
         "119.0",
         "0.8037439938688388"
        ],
        [
         "13",
         "('Arts, Crafts & Sewing', 'Beading & Jewelry Making', 'Jewelry Making Kits')",
         "8.0",
         "0.7624207789891384"
        ],
        [
         "14",
         "('Arts, Crafts & Sewing', 'Beading & Jewelry Making', 'Jewelry Making Tools & Accessories', 'Jewelry Pliers')",
         "7.0",
         "1.0413666234542205"
        ],
        [
         "15",
         "('Arts, Crafts & Sewing', 'Beading & Jewelry Making', 'Wire')",
         "78.5",
         "1.1801792665559545"
        ],
        [
         "16",
         "('Arts, Crafts & Sewing', 'Crafting', 'Candle Making', 'Kits')",
         "5.0",
         "1.5638672786971528"
        ],
        [
         "17",
         "('Arts, Crafts & Sewing', 'Crafting', 'Candle Making', 'Wax')",
         "118.0",
         "0.6301235321601568"
        ],
        [
         "18",
         "('Arts, Crafts & Sewing', 'Crafting', 'Ceramics & Pottery', 'Ceramic & Pottery Tools')",
         "8.5",
         "0.7586206896551724"
        ],
        [
         "19",
         "('Arts, Crafts & Sewing', 'Crafting', 'Ceramics & Pottery', 'Clays & Doughs', 'Clay')",
         "23.5",
         "1.6262346242945505"
        ],
        [
         "20",
         "('Arts, Crafts & Sewing', 'Crafting', 'Craft Supplies', 'Adhesives', 'Adhesive Waxing')",
         "6.0",
         "0.873678207046196"
        ],
        [
         "21",
         "('Arts, Crafts & Sewing', 'Crafting', 'Craft Supplies', 'Adhesives', 'Art Glues & Pastes')",
         "58.5",
         "1.0607168235638529"
        ],
        [
         "22",
         "('Arts, Crafts & Sewing', 'Crafting', 'Craft Supplies', 'Adhesives', 'Art Glues & Pastes', 'Art Glues')",
         "110.0",
         "1.028315457958562"
        ],
        [
         "23",
         "('Arts, Crafts & Sewing', 'Crafting', 'Craft Supplies', 'Adhesives', 'Arts & Crafts Tape')",
         "21.0",
         "1.3918253479627354"
        ],
        [
         "24",
         "('Arts, Crafts & Sewing', 'Crafting', 'Craft Supplies', 'Craft Foam')",
         "7.0",
         "1.209096382634569"
        ],
        [
         "25",
         "('Arts, Crafts & Sewing', 'Crafting', 'Craft Supplies', 'Cutting Tools', 'Scissors')",
         "143.5",
         "0.6710769453206703"
        ],
        [
         "26",
         "('Arts, Crafts & Sewing', 'Crafting', 'Craft Supplies', 'Face Painting')",
         "15.0",
         "0.7333333333333333"
        ],
        [
         "27",
         "('Arts, Crafts & Sewing', 'Crafting', 'Craft Supplies', 'Glitter')",
         "30.0",
         "1.3346055682051943"
        ],
        [
         "28",
         "('Arts, Crafts & Sewing', 'Crafting', 'Craft Supplies', 'Macrame & Knotting')",
         "1.0",
         "1.4181163788319942"
        ],
        [
         "29",
         "('Arts, Crafts & Sewing', 'Crafting', 'Doll Making')",
         "133.0",
         "0.9112590165484938"
        ],
        [
         "30",
         "('Arts, Crafts & Sewing', 'Crafting', 'Leathercraft', 'Leathercraft Accessories')",
         "51.0",
         "1.3930108654491005"
        ],
        [
         "31",
         "('Arts, Crafts & Sewing', 'Crafting', 'Mosaic Making', 'Diamond Painting Kits & Accessories')",
         "25.0",
         "1.6099778121314454"
        ],
        [
         "32",
         "('Arts, Crafts & Sewing', 'Crafting', 'Mosaic Making', 'Diamond Painting Kits & Accessories', 'Diamond Painting Kits')",
         "25.5",
         "1.165550063132544"
        ],
        [
         "33",
         "('Arts, Crafts & Sewing', 'Crafting', 'Mosaic Making', 'Diamond Painting Kits & Accessories', 'Tools & Accessories')",
         "35.5",
         "0.9041497745002177"
        ],
        [
         "34",
         "('Arts, Crafts & Sewing', 'Crafting', 'Paper & Paper Crafts', 'Paper', 'Card Stock')",
         "2.5",
         "1.8108633067728126"
        ],
        [
         "35",
         "('Arts, Crafts & Sewing', 'Crafting', 'Paper & Paper Crafts', 'Paper', 'Kraft Paper')",
         "57.5",
         "1.4331562675396348"
        ],
        [
         "36",
         "('Arts, Crafts & Sewing', 'Crafting', 'Paper & Paper Crafts', 'Paper', 'Origami Paper')",
         "50.0",
         "1.4255606558091463"
        ],
        [
         "37",
         "('Arts, Crafts & Sewing', 'Crafting', 'Paper & Paper Crafts', 'Paper', 'Transfer Paper')",
         "135.5",
         "0.5853916305997192"
        ],
        [
         "38",
         "('Arts, Crafts & Sewing', 'Crafting', 'Paper & Paper Crafts', 'Punches')",
         "7.5",
         "1.7984067853426284"
        ],
        [
         "39",
         "('Arts, Crafts & Sewing', 'Crafting', 'Sculpture Supplies', 'Molding & Casting')",
         "13.0",
         "1.534486481542571"
        ],
        [
         "40",
         "('Arts, Crafts & Sewing', 'Crafting', 'Soap Making', 'Bases & Melts')",
         "85.5",
         "1.0020995031735216"
        ],
        [
         "41",
         "('Arts, Crafts & Sewing', 'Crafting', 'Soap Making', 'Dyes')",
         "28.0",
         "2.411242603410152"
        ],
        [
         "42",
         "('Arts, Crafts & Sewing', 'Crafting', 'Soap Making', 'Molds')",
         "13.5",
         "1.666496452832855"
        ],
        [
         "43",
         "('Arts, Crafts & Sewing', 'Crafting', 'Woodcrafts', 'Unfinished Wood')",
         "15.0",
         "1.3978271500818578"
        ],
        [
         "44",
         "('Arts, Crafts & Sewing', 'Fabric')",
         "29.0",
         "1.24782633218812"
        ],
        [
         "45",
         "('Arts, Crafts & Sewing', 'Fabric Decorating', 'Dyes')",
         "0.0",
         "2.4718111499610758"
        ],
        [
         "46",
         "('Arts, Crafts & Sewing', 'Fabric Decorating', 'Fabric & Textile Paints')",
         "7.0",
         "1.577868827143695"
        ],
        [
         "47",
         "('Arts, Crafts & Sewing', 'Knitting & Crochet', 'Crochet Hooks')",
         "21.0",
         "1.954984008347107"
        ],
        [
         "48",
         "('Arts, Crafts & Sewing', 'Knitting & Crochet', 'Knitting Needles')",
         "28.0",
         "1.4044766194581222"
        ],
        [
         "49",
         "('Arts, Crafts & Sewing', 'Knitting & Crochet', 'Yarn')",
         "4.5",
         "1.73338810908778"
        ]
       ],
       "shape": {
        "columns": 3,
        "rows": 2701
       }
      },
      "text/html": [
       "<div>\n",
       "<style scoped>\n",
       "    .dataframe tbody tr th:only-of-type {\n",
       "        vertical-align: middle;\n",
       "    }\n",
       "\n",
       "    .dataframe tbody tr th {\n",
       "        vertical-align: top;\n",
       "    }\n",
       "\n",
       "    .dataframe thead th {\n",
       "        text-align: right;\n",
       "    }\n",
       "</style>\n",
       "<table border=\"1\" class=\"dataframe\">\n",
       "  <thead>\n",
       "    <tr style=\"text-align: right;\">\n",
       "      <th></th>\n",
       "      <th>Category</th>\n",
       "      <th>median_of_median_cycle</th>\n",
       "      <th>cv_of_median_cycle</th>\n",
       "    </tr>\n",
       "  </thead>\n",
       "  <tbody>\n",
       "    <tr>\n",
       "      <th>0</th>\n",
       "      <td>(Appliances, Parts &amp; Accessories, Dryer Parts ...</td>\n",
       "      <td>22.5</td>\n",
       "      <td>1.394163</td>\n",
       "    </tr>\n",
       "    <tr>\n",
       "      <th>1</th>\n",
       "      <td>(Appliances, Parts &amp; Accessories, Humidifier P...</td>\n",
       "      <td>182.0</td>\n",
       "      <td>0.517205</td>\n",
       "    </tr>\n",
       "    <tr>\n",
       "      <th>2</th>\n",
       "      <td>(Appliances, Parts &amp; Accessories, Refrigerator...</td>\n",
       "      <td>190.5</td>\n",
       "      <td>0.547738</td>\n",
       "    </tr>\n",
       "    <tr>\n",
       "      <th>3</th>\n",
       "      <td>(Arts, Crafts &amp; Sewing, Beading &amp; Jewelry Maki...</td>\n",
       "      <td>24.0</td>\n",
       "      <td>1.417586</td>\n",
       "    </tr>\n",
       "    <tr>\n",
       "      <th>4</th>\n",
       "      <td>(Arts, Crafts &amp; Sewing, Beading &amp; Jewelry Maki...</td>\n",
       "      <td>2.0</td>\n",
       "      <td>1.559241</td>\n",
       "    </tr>\n",
       "    <tr>\n",
       "      <th>...</th>\n",
       "      <td>...</td>\n",
       "      <td>...</td>\n",
       "      <td>...</td>\n",
       "    </tr>\n",
       "    <tr>\n",
       "      <th>2711</th>\n",
       "      <td>(Video Games, PlayStation 4, Games)</td>\n",
       "      <td>72.0</td>\n",
       "      <td>0.983098</td>\n",
       "    </tr>\n",
       "    <tr>\n",
       "      <th>2712</th>\n",
       "      <td>(Video Games, PlayStation 5, Consoles)</td>\n",
       "      <td>62.0</td>\n",
       "      <td>0.307128</td>\n",
       "    </tr>\n",
       "    <tr>\n",
       "      <th>2713</th>\n",
       "      <td>(Video Games, PlayStation 5, Games)</td>\n",
       "      <td>35.0</td>\n",
       "      <td>1.003611</td>\n",
       "    </tr>\n",
       "    <tr>\n",
       "      <th>2714</th>\n",
       "      <td>(Video Games, Xbox One, Accessories, Controlle...</td>\n",
       "      <td>97.0</td>\n",
       "      <td>1.154784</td>\n",
       "    </tr>\n",
       "    <tr>\n",
       "      <th>2715</th>\n",
       "      <td>(Video Games, Xbox One, Games)</td>\n",
       "      <td>113.0</td>\n",
       "      <td>0.871447</td>\n",
       "    </tr>\n",
       "  </tbody>\n",
       "</table>\n",
       "<p>2701 rows × 3 columns</p>\n",
       "</div>"
      ],
      "text/plain": [
       "                                               Category  \\\n",
       "0     (Appliances, Parts & Accessories, Dryer Parts ...   \n",
       "1     (Appliances, Parts & Accessories, Humidifier P...   \n",
       "2     (Appliances, Parts & Accessories, Refrigerator...   \n",
       "3     (Arts, Crafts & Sewing, Beading & Jewelry Maki...   \n",
       "4     (Arts, Crafts & Sewing, Beading & Jewelry Maki...   \n",
       "...                                                 ...   \n",
       "2711                (Video Games, PlayStation 4, Games)   \n",
       "2712             (Video Games, PlayStation 5, Consoles)   \n",
       "2713                (Video Games, PlayStation 5, Games)   \n",
       "2714  (Video Games, Xbox One, Accessories, Controlle...   \n",
       "2715                     (Video Games, Xbox One, Games)   \n",
       "\n",
       "      median_of_median_cycle  cv_of_median_cycle  \n",
       "0                       22.5            1.394163  \n",
       "1                      182.0            0.517205  \n",
       "2                      190.5            0.547738  \n",
       "3                       24.0            1.417586  \n",
       "4                        2.0            1.559241  \n",
       "...                      ...                 ...  \n",
       "2711                    72.0            0.983098  \n",
       "2712                    62.0            0.307128  \n",
       "2713                    35.0            1.003611  \n",
       "2714                    97.0            1.154784  \n",
       "2715                   113.0            0.871447  \n",
       "\n",
       "[2701 rows x 3 columns]"
      ]
     },
     "execution_count": 127,
     "metadata": {},
     "output_type": "execute_result"
    }
   ],
   "source": [
    "# 1. 유저 수 기준 필터링\n",
    "category_user_counts = (\n",
    "    user_purchase_cycle\n",
    "    .groupby('Category')['Survey ResponseID']\n",
    "    .nunique()\n",
    "    .reset_index(name='n_users')\n",
    ")\n",
    "\n",
    "# 2. 유저 수 10명 이상인 카테고리만 추출\n",
    "valid_categories = category_user_counts[category_user_counts['n_users'] >= 3]['Category']\n",
    "\n",
    "# 3. 필터링된 데이터프레임 생성\n",
    "filtered_data = user_purchase_cycle[user_purchase_cycle['Category'].isin(valid_categories)]\n",
    "\n",
    "# 4. 통계량 계산\n",
    "category_stats = (\n",
    "    filtered_data\n",
    "    .groupby('Category')\n",
    "    .agg(\n",
    "        median_of_median_cycle=('median_cycle', 'median'),\n",
    "        mean_median_cycle=('median_cycle', 'mean'),\n",
    "        std_median_cycle=('median_cycle', 'std')\n",
    "        # median_of_cv_cycle=('cv_cycle', 'median')\n",
    "    )\n",
    "    .reset_index()\n",
    ")\n",
    "\n",
    "# 5. 변동계수 계산\n",
    "category_stats['cv_of_median_cycle'] = category_stats['std_median_cycle'] / category_stats['mean_median_cycle']\n",
    "\n",
    "# 6. 최종 컬럼 정리\n",
    "category_stats = category_stats[['Category', 'median_of_median_cycle', 'cv_of_median_cycle']]\n",
    "category_stats = category_stats.dropna()\n",
    "category_stats"
   ]
  },
  {
   "cell_type": "code",
   "execution_count": 130,
   "id": "f50abaf0",
   "metadata": {},
   "outputs": [],
   "source": [
    "# 스케일링\n",
    "from sklearn.preprocessing import StandardScaler\n",
    "scaler = StandardScaler()\n",
    "X_scaled = scaler.fit_transform(category_stats[['median_of_median_cycle', 'cv_of_median_cycle']])"
   ]
  },
  {
   "cell_type": "code",
   "execution_count": 131,
   "id": "49d085b8",
   "metadata": {},
   "outputs": [],
   "source": [
    "from sklearn.cluster import KMeans"
   ]
  },
  {
   "cell_type": "code",
   "execution_count": 132,
   "id": "6f48f049",
   "metadata": {},
   "outputs": [
    {
     "data": {
      "image/png": "[encoded data removed]",
      "text/plain": [
       "<Figure size 640x480 with 1 Axes>"
      ]
     },
     "metadata": {},
     "output_type": "display_data"
    }
   ],
   "source": [
    "# 엘보우 기법 : 최적의 k값 탐색\n",
    "inertia = []\n",
    "K_range = range(1, 11)\n",
    "\n",
    "for k in K_range:\n",
    "    kmeans = KMeans(n_clusters=k, random_state=42).fit(X_scaled)\n",
    "    inertia.append(kmeans.inertia_)\n",
    "\n",
    "plt.plot(K_range, inertia, marker='o')\n",
    "plt.xlabel('Number of Clusters (k)')\n",
    "plt.ylabel('Inertia (Within-Cluster Sum of Squares)')\n",
    "plt.title('Elbow Method')\n",
    "plt.show()"
   ]
  },
  {
   "cell_type": "code",
   "execution_count": 135,
   "id": "140e1fa7",
   "metadata": {},
   "outputs": [
    {
     "data": {
      "image/png": "[encoded data removed]",
      "text/plain": [
       "<Figure size 640x480 with 1 Axes>"
      ]
     },
     "metadata": {},
     "output_type": "display_data"
    }
   ],
   "source": [
    "# 실루엣 계수 : 군집 성능평가\n",
    "\n",
    "from sklearn.metrics import silhouette_score\n",
    "\n",
    "silhouette_scores = []\n",
    "K_range = range(2, 11)\n",
    "\n",
    "for k in K_range:\n",
    "    kmeans = KMeans(n_clusters=k, random_state=42).fit(X_scaled)\n",
    "    score = silhouette_score(X_scaled, kmeans.labels_)\n",
    "    silhouette_scores.append(score)\n",
    "\n",
    "plt.plot(K_range, silhouette_scores, marker='o')\n",
    "plt.xlabel('Number of Clusters (k)')\n",
    "plt.ylabel('Silhouette Score')\n",
    "plt.title('Silhouette Analysis')\n",
    "plt.show()"
   ]
  },
  {
   "cell_type": "code",
   "execution_count": 136,
   "id": "a79ae212",
   "metadata": {},
   "outputs": [],
   "source": [
    "# k-means\n",
    "from sklearn.cluster import KMeans\n",
    "kmeans = KMeans(n_clusters=5, random_state=42)\n",
    "labels = kmeans.fit_predict(X_scaled)"
   ]
  },
  {
   "cell_type": "code",
   "execution_count": 137,
   "id": "6c17a6f2",
   "metadata": {},
   "outputs": [],
   "source": [
    "cycle_stats = category_stats.copy()"
   ]
  },
  {
   "cell_type": "code",
   "execution_count": 138,
   "id": "2dc665c0",
   "metadata": {},
   "outputs": [],
   "source": [
    "cycle_stats['cluster'] = labels"
   ]
  },
  {
   "cell_type": "code",
   "execution_count": 139,
   "id": "409c7cee",
   "metadata": {},
   "outputs": [
    {
     "data": {
      "application/vnd.microsoft.datawrangler.viewer.v0+json": {
       "columns": [
        {
         "name": "cluster",
         "rawType": "int32",
         "type": "integer"
        },
        {
         "name": "count",
         "rawType": "int64",
         "type": "integer"
        }
       ],
       "ref": "339ca70b-6b6a-4a24-982c-775556461d2d",
       "rows": [
        [
         "2",
         "836"
        ],
        [
         "3",
         "658"
        ],
        [
         "0",
         "569"
        ],
        [
         "4",
         "439"
        ],
        [
         "1",
         "199"
        ]
       ],
       "shape": {
        "columns": 1,
        "rows": 5
       }
      },
      "text/plain": [
       "cluster\n",
       "2    836\n",
       "3    658\n",
       "0    569\n",
       "4    439\n",
       "1    199\n",
       "Name: count, dtype: int64"
      ]
     },
     "execution_count": 139,
     "metadata": {},
     "output_type": "execute_result"
    }
   ],
   "source": [
    "cycle_stats['cluster'].value_counts()"
   ]
  },
  {
   "cell_type": "code",
   "execution_count": 140,
   "id": "473ea0e8",
   "metadata": {},
   "outputs": [
    {
     "data": {
      "application/vnd.microsoft.datawrangler.viewer.v0+json": {
       "columns": [
        {
         "name": "index",
         "rawType": "int64",
         "type": "integer"
        },
        {
         "name": "Category",
         "rawType": "object",
         "type": "unknown"
        },
        {
         "name": "median_of_median_cycle",
         "rawType": "float64",
         "type": "float"
        },
        {
         "name": "cv_of_median_cycle",
         "rawType": "float64",
         "type": "float"
        },
        {
         "name": "cluster",
         "rawType": "int32",
         "type": "integer"
        }
       ],
       "ref": "06911191-6d32-4bc5-be3c-d04695270bb6",
       "rows": [
        [
         "0",
         "('Appliances', 'Parts & Accessories', 'Dryer Parts & Accessories', 'Replacement Parts')",
         "22.5",
         "1.3941633806603344",
         "2"
        ],
        [
         "1",
         "('Appliances', 'Parts & Accessories', 'Humidifier Parts & Accessories', 'Replacement Wicks')",
         "182.0",
         "0.5172052187395655",
         "1"
        ],
        [
         "2",
         "('Appliances', 'Parts & Accessories', 'Refrigerator Parts & Accessories', 'Water Filters')",
         "190.5",
         "0.5477383686566643",
         "1"
        ],
        [
         "3",
         "('Arts, Crafts & Sewing', 'Beading & Jewelry Making', 'Beading Supplies', 'Beading Cords & Threads')",
         "24.0",
         "1.4175861642586776",
         "2"
        ],
        [
         "4",
         "('Arts, Crafts & Sewing', 'Beading & Jewelry Making', 'Beading Supplies', 'Fuse & Perler Beads')",
         "2.0",
         "1.5592410524137386",
         "4"
        ]
       ],
       "shape": {
        "columns": 4,
        "rows": 5
       }
      },
      "text/html": [
       "<div>\n",
       "<style scoped>\n",
       "    .dataframe tbody tr th:only-of-type {\n",
       "        vertical-align: middle;\n",
       "    }\n",
       "\n",
       "    .dataframe tbody tr th {\n",
       "        vertical-align: top;\n",
       "    }\n",
       "\n",
       "    .dataframe thead th {\n",
       "        text-align: right;\n",
       "    }\n",
       "</style>\n",
       "<table border=\"1\" class=\"dataframe\">\n",
       "  <thead>\n",
       "    <tr style=\"text-align: right;\">\n",
       "      <th></th>\n",
       "      <th>Category</th>\n",
       "      <th>median_of_median_cycle</th>\n",
       "      <th>cv_of_median_cycle</th>\n",
       "      <th>cluster</th>\n",
       "    </tr>\n",
       "  </thead>\n",
       "  <tbody>\n",
       "    <tr>\n",
       "      <th>0</th>\n",
       "      <td>(Appliances, Parts &amp; Accessories, Dryer Parts ...</td>\n",
       "      <td>22.5</td>\n",
       "      <td>1.394163</td>\n",
       "      <td>2</td>\n",
       "    </tr>\n",
       "    <tr>\n",
       "      <th>1</th>\n",
       "      <td>(Appliances, Parts &amp; Accessories, Humidifier P...</td>\n",
       "      <td>182.0</td>\n",
       "      <td>0.517205</td>\n",
       "      <td>1</td>\n",
       "    </tr>\n",
       "    <tr>\n",
       "      <th>2</th>\n",
       "      <td>(Appliances, Parts &amp; Accessories, Refrigerator...</td>\n",
       "      <td>190.5</td>\n",
       "      <td>0.547738</td>\n",
       "      <td>1</td>\n",
       "    </tr>\n",
       "    <tr>\n",
       "      <th>3</th>\n",
       "      <td>(Arts, Crafts &amp; Sewing, Beading &amp; Jewelry Maki...</td>\n",
       "      <td>24.0</td>\n",
       "      <td>1.417586</td>\n",
       "      <td>2</td>\n",
       "    </tr>\n",
       "    <tr>\n",
       "      <th>4</th>\n",
       "      <td>(Arts, Crafts &amp; Sewing, Beading &amp; Jewelry Maki...</td>\n",
       "      <td>2.0</td>\n",
       "      <td>1.559241</td>\n",
       "      <td>4</td>\n",
       "    </tr>\n",
       "  </tbody>\n",
       "</table>\n",
       "</div>"
      ],
      "text/plain": [
       "                                            Category  median_of_median_cycle  \\\n",
       "0  (Appliances, Parts & Accessories, Dryer Parts ...                    22.5   \n",
       "1  (Appliances, Parts & Accessories, Humidifier P...                   182.0   \n",
       "2  (Appliances, Parts & Accessories, Refrigerator...                   190.5   \n",
       "3  (Arts, Crafts & Sewing, Beading & Jewelry Maki...                    24.0   \n",
       "4  (Arts, Crafts & Sewing, Beading & Jewelry Maki...                     2.0   \n",
       "\n",
       "   cv_of_median_cycle  cluster  \n",
       "0            1.394163        2  \n",
       "1            0.517205        1  \n",
       "2            0.547738        1  \n",
       "3            1.417586        2  \n",
       "4            1.559241        4  "
      ]
     },
     "execution_count": 140,
     "metadata": {},
     "output_type": "execute_result"
    }
   ],
   "source": [
    "cycle_stats.head()"
   ]
  },
  {
   "cell_type": "code",
   "execution_count": 141,
   "id": "8e4a825c",
   "metadata": {},
   "outputs": [
    {
     "data": {
      "application/vnd.microsoft.datawrangler.viewer.v0+json": {
       "columns": [
        {
         "name": "cluster",
         "rawType": "int32",
         "type": "integer"
        },
        {
         "name": "median_of_median_cycle",
         "rawType": "float64",
         "type": "float"
        },
        {
         "name": "cv_of_median_cycle",
         "rawType": "float64",
         "type": "float"
        }
       ],
       "ref": "b1b8f65e-d9d6-4e6a-bb19-d74e7cc8d785",
       "rows": [
        [
         "0",
         "56.55008787346222",
         "0.6967725210120274"
        ],
        [
         "1",
         "241.73618090452263",
         "0.5805338891590602"
        ],
        [
         "2",
         "45.22248803827751",
         "1.1596750350666234"
        ],
        [
         "3",
         "129.2355623100304",
         "0.7789782083148494"
        ],
        [
         "4",
         "12.619589977220956",
         "1.7303407344048531"
        ]
       ],
       "shape": {
        "columns": 2,
        "rows": 5
       }
      },
      "text/html": [
       "<div>\n",
       "<style scoped>\n",
       "    .dataframe tbody tr th:only-of-type {\n",
       "        vertical-align: middle;\n",
       "    }\n",
       "\n",
       "    .dataframe tbody tr th {\n",
       "        vertical-align: top;\n",
       "    }\n",
       "\n",
       "    .dataframe thead th {\n",
       "        text-align: right;\n",
       "    }\n",
       "</style>\n",
       "<table border=\"1\" class=\"dataframe\">\n",
       "  <thead>\n",
       "    <tr style=\"text-align: right;\">\n",
       "      <th></th>\n",
       "      <th>median_of_median_cycle</th>\n",
       "      <th>cv_of_median_cycle</th>\n",
       "    </tr>\n",
       "    <tr>\n",
       "      <th>cluster</th>\n",
       "      <th></th>\n",
       "      <th></th>\n",
       "    </tr>\n",
       "  </thead>\n",
       "  <tbody>\n",
       "    <tr>\n",
       "      <th>0</th>\n",
       "      <td>56.550088</td>\n",
       "      <td>0.696773</td>\n",
       "    </tr>\n",
       "    <tr>\n",
       "      <th>1</th>\n",
       "      <td>241.736181</td>\n",
       "      <td>0.580534</td>\n",
       "    </tr>\n",
       "    <tr>\n",
       "      <th>2</th>\n",
       "      <td>45.222488</td>\n",
       "      <td>1.159675</td>\n",
       "    </tr>\n",
       "    <tr>\n",
       "      <th>3</th>\n",
       "      <td>129.235562</td>\n",
       "      <td>0.778978</td>\n",
       "    </tr>\n",
       "    <tr>\n",
       "      <th>4</th>\n",
       "      <td>12.619590</td>\n",
       "      <td>1.730341</td>\n",
       "    </tr>\n",
       "  </tbody>\n",
       "</table>\n",
       "</div>"
      ],
      "text/plain": [
       "         median_of_median_cycle  cv_of_median_cycle\n",
       "cluster                                            \n",
       "0                     56.550088            0.696773\n",
       "1                    241.736181            0.580534\n",
       "2                     45.222488            1.159675\n",
       "3                    129.235562            0.778978\n",
       "4                     12.619590            1.730341"
      ]
     },
     "execution_count": 141,
     "metadata": {},
     "output_type": "execute_result"
    }
   ],
   "source": [
    "cycle_stats.groupby('cluster')[['median_of_median_cycle', 'cv_of_median_cycle']].mean()\n",
    "# 'median_of_median_cycle' : 일반적인 구매주기가 어떻게 되는지\n",
    "# 'cv_of_median_cycle' : 구매주기의 개인차가 얼마나 되는지"
   ]
  },
  {
   "cell_type": "code",
   "execution_count": 143,
   "id": "3288dcae",
   "metadata": {},
   "outputs": [
    {
     "name": "stdout",
     "output_type": "stream",
     "text": [
      "   cluster    mean    std    n  lower_95CI\n",
      "0        0   56.55  22.84  569       54.67\n",
      "1        1  241.74  57.79  199      233.71\n",
      "2        2   45.22  23.00  836       43.66\n",
      "3        3  129.24  25.12  658      127.32\n",
      "4        4   12.62  13.23  439       11.38\n"
     ]
    }
   ],
   "source": [
    "# 클러스터별 평균 신뢰구간 하한값 계산 함수\n",
    "def calc_ci_lower_bound(df, group_col, value_col, z=1.96):\n",
    "    result = []\n",
    "\n",
    "    for cluster, group in cycle_stats.groupby(group_col):\n",
    "        values = group[value_col].dropna()\n",
    "        mean = np.mean(values)\n",
    "        std = np.std(values, ddof=1)\n",
    "        n = len(values)\n",
    "        lower = mean - z * (std / np.sqrt(n))\n",
    "\n",
    "        result.append({\n",
    "            group_col: cluster,\n",
    "            'mean': mean,\n",
    "            'std': std,\n",
    "            'n': n,\n",
    "            'lower_95CI': lower\n",
    "        })\n",
    "\n",
    "    return pd.DataFrame(result)\n",
    "\n",
    "# 사용 예시\n",
    "# df = ...  # 데이터프레임 불러오기\n",
    "ci_df = calc_ci_lower_bound(cycle_stats, group_col='cluster', value_col='median_of_median_cycle')\n",
    "\n",
    "# 보기 좋게 반올림\n",
    "ci_df = ci_df.round(2)\n",
    "print(ci_df)"
   ]
  },
  {
   "cell_type": "code",
   "execution_count": null,
   "id": "692a99f3",
   "metadata": {},
   "outputs": [
    {
     "data": {
      "application/vnd.microsoft.datawrangler.viewer.v0+json": {
       "columns": [
        {
         "name": "index",
         "rawType": "int64",
         "type": "integer"
        },
        {
         "name": "Category",
         "rawType": "object",
         "type": "unknown"
        },
        {
         "name": "median_of_median_cycle",
         "rawType": "float64",
         "type": "float"
        },
        {
         "name": "cv_of_median_cycle",
         "rawType": "float64",
         "type": "float"
        },
        {
         "name": "cluster",
         "rawType": "int32",
         "type": "integer"
        },
        {
         "name": "lower_95CI",
         "rawType": "float64",
         "type": "float"
        }
       ],
       "ref": "0e3a3a94-ea45-4593-8d46-f9822af2a8f1",
       "rows": [
        [
         "0",
         "('Appliances', 'Parts & Accessories', 'Dryer Parts & Accessories', 'Replacement Parts')",
         "22.5",
         "1.3941633806603344",
         "2",
         "43.66"
        ],
        [
         "1",
         "('Arts, Crafts & Sewing', 'Beading & Jewelry Making', 'Beading Supplies', 'Beading Cords & Threads')",
         "24.0",
         "1.4175861642586776",
         "2",
         "43.66"
        ],
        [
         "2",
         "('Arts, Crafts & Sewing', 'Beading & Jewelry Making', 'Jewelry Findings', 'Earring Backs & Findings')",
         "22.0",
         "1.1450620107509133",
         "2",
         "43.66"
        ],
        [
         "3",
         "('Arts, Crafts & Sewing', 'Beading & Jewelry Making', 'Jewelry Findings', 'Jump Rings')",
         "63.0",
         "1.0642168071045826",
         "2",
         "43.66"
        ],
        [
         "4",
         "('Arts, Crafts & Sewing', 'Beading & Jewelry Making', 'Jewelry Making Tools & Accessories', 'Jewelry Pliers')",
         "7.0",
         "1.0413666234542205",
         "2",
         "43.66"
        ],
        [
         "5",
         "('Arts, Crafts & Sewing', 'Beading & Jewelry Making', 'Wire')",
         "78.5",
         "1.1801792665559545",
         "2",
         "43.66"
        ],
        [
         "6",
         "('Arts, Crafts & Sewing', 'Crafting', 'Craft Supplies', 'Adhesives', 'Art Glues & Pastes')",
         "58.5",
         "1.0607168235638529",
         "2",
         "43.66"
        ],
        [
         "7",
         "('Arts, Crafts & Sewing', 'Crafting', 'Craft Supplies', 'Adhesives', 'Arts & Crafts Tape')",
         "21.0",
         "1.3918253479627354",
         "2",
         "43.66"
        ],
        [
         "8",
         "('Arts, Crafts & Sewing', 'Crafting', 'Craft Supplies', 'Craft Foam')",
         "7.0",
         "1.209096382634569",
         "2",
         "43.66"
        ],
        [
         "9",
         "('Arts, Crafts & Sewing', 'Crafting', 'Craft Supplies', 'Glitter')",
         "30.0",
         "1.3346055682051943",
         "2",
         "43.66"
        ],
        [
         "10",
         "('Arts, Crafts & Sewing', 'Crafting', 'Leathercraft', 'Leathercraft Accessories')",
         "51.0",
         "1.3930108654491005",
         "2",
         "43.66"
        ],
        [
         "11",
         "('Arts, Crafts & Sewing', 'Crafting', 'Mosaic Making', 'Diamond Painting Kits & Accessories', 'Diamond Painting Kits')",
         "25.5",
         "1.165550063132544",
         "2",
         "43.66"
        ],
        [
         "12",
         "('Arts, Crafts & Sewing', 'Crafting', 'Paper & Paper Crafts', 'Paper', 'Kraft Paper')",
         "57.5",
         "1.4331562675396348",
         "2",
         "43.66"
        ],
        [
         "13",
         "('Arts, Crafts & Sewing', 'Crafting', 'Paper & Paper Crafts', 'Paper', 'Origami Paper')",
         "50.0",
         "1.4255606558091463",
         "2",
         "43.66"
        ],
        [
         "14",
         "('Arts, Crafts & Sewing', 'Crafting', 'Soap Making', 'Bases & Melts')",
         "85.5",
         "1.0020995031735216",
         "2",
         "43.66"
        ],
        [
         "15",
         "('Arts, Crafts & Sewing', 'Crafting', 'Woodcrafts', 'Unfinished Wood')",
         "15.0",
         "1.3978271500818578",
         "2",
         "43.66"
        ],
        [
         "16",
         "('Arts, Crafts & Sewing', 'Fabric')",
         "29.0",
         "1.24782633218812",
         "2",
         "43.66"
        ],
        [
         "17",
         "('Arts, Crafts & Sewing', 'Knitting & Crochet', 'Knitting Needles')",
         "28.0",
         "1.4044766194581222",
         "2",
         "43.66"
        ],
        [
         "18",
         "('Arts, Crafts & Sewing', 'Model & Hobby Building', 'Model Kits', 'Figure Kits')",
         "49.5",
         "1.3149481850005578",
         "2",
         "43.66"
        ],
        [
         "19",
         "('Arts, Crafts & Sewing', 'Needlework', 'Embroidery', 'Kits')",
         "9.0",
         "1.1842157167954348",
         "2",
         "43.66"
        ],
        [
         "20",
         "('Arts, Crafts & Sewing', 'Painting, Drawing & Art Supplies', 'Art Paper', 'Watercolor Paper')",
         "15.0",
         "1.149933356162833",
         "2",
         "43.66"
        ],
        [
         "21",
         "('Arts, Crafts & Sewing', 'Painting, Drawing & Art Supplies', 'Boards & Canvas', 'Canvas Boards & Panels')",
         "63.5",
         "1.267583620486214",
         "2",
         "43.66"
        ],
        [
         "22",
         "('Arts, Crafts & Sewing', 'Painting, Drawing & Art Supplies', 'Drawing', 'Drawing Media', 'Markers')",
         "31.5",
         "1.339288073340866",
         "2",
         "43.66"
        ],
        [
         "23",
         "('Arts, Crafts & Sewing', 'Painting, Drawing & Art Supplies', 'Painting', 'Paintbrushes', 'Paintbrush Sets')",
         "69.0",
         "0.9863273968747283",
         "2",
         "43.66"
        ],
        [
         "24",
         "('Arts, Crafts & Sewing', 'Printmaking', 'Heat Press Machines & Accessories', 'Parts & Accessories')",
         "34.0",
         "1.1890963287667047",
         "2",
         "43.66"
        ],
        [
         "25",
         "('Arts, Crafts & Sewing', 'Scrapbooking & Stamping', 'Adhesive Vinyl')",
         "24.0",
         "1.3600366905439312",
         "2",
         "43.66"
        ],
        [
         "26",
         "('Arts, Crafts & Sewing', 'Scrapbooking & Stamping', 'Die-Cutting & Embossing', 'Die-Cuts')",
         "15.0",
         "1.1396563376945426",
         "2",
         "43.66"
        ],
        [
         "27",
         "('Arts, Crafts & Sewing', 'Scrapbooking & Stamping', 'Stamps & Ink Pads', 'Ink Pads')",
         "23.0",
         "1.082847861713311",
         "2",
         "43.66"
        ],
        [
         "28",
         "('Arts, Crafts & Sewing', 'Scrapbooking & Stamping', 'Stickers & Sticker Machines')",
         "8.0",
         "1.0439466027026116",
         "2",
         "43.66"
        ],
        [
         "29",
         "('Arts, Crafts & Sewing', 'Sewing', 'Quilting', 'Rulers & Ruler Racks')",
         "6.0",
         "1.2440068702621638",
         "2",
         "43.66"
        ],
        [
         "30",
         "('Arts, Crafts & Sewing', 'Sewing', 'Sewing Machine Parts & Accessories', 'Presser Feet')",
         "20.5",
         "1.215894732285653",
         "2",
         "43.66"
        ],
        [
         "31",
         "('Arts, Crafts & Sewing', 'Sewing', 'Sewing Notions & Supplies', 'Fasteners', 'Buckles')",
         "28.5",
         "1.0373870420436144",
         "2",
         "43.66"
        ],
        [
         "32",
         "('Arts, Crafts & Sewing', 'Sewing', 'Sewing Notions & Supplies', 'Fasteners', 'Buttons')",
         "6.0",
         "1.1510421187704964",
         "2",
         "43.66"
        ],
        [
         "33",
         "('Arts, Crafts & Sewing', 'Sewing', 'Sewing Notions & Supplies', 'Heat Transfer Film')",
         "18.0",
         "1.2962935241055729",
         "2",
         "43.66"
        ],
        [
         "34",
         "('Arts, Crafts & Sewing', 'Sewing', 'Sewing Notions & Supplies', 'Heat Transfer Paper')",
         "63.0",
         "1.05806739770417",
         "2",
         "43.66"
        ],
        [
         "35",
         "('Automotive', 'Oils & Fluids', 'Power Steering Fluids')",
         "22.0",
         "1.2670692870327522",
         "2",
         "43.66"
        ],
        [
         "36",
         "('Automotive', 'Tools & Equipment', 'Diagnostic, Test & Measurement Tools', 'Code Readers & Scan Tools')",
         "91.0",
         "1.0704451821477519",
         "2",
         "43.66"
        ],
        [
         "37",
         "('Baby Products', 'Baby Care', 'Bathing', 'Bubble Bath')",
         "78.0",
         "0.9805739140302235",
         "2",
         "43.66"
        ],
        [
         "38",
         "('Baby Products', 'Baby Care', 'Bathing', 'Washcloths & Towels', 'Washcloths & Wash Gloves')",
         "46.0",
         "1.0215418174087456",
         "2",
         "43.66"
        ],
        [
         "39",
         "('Baby Products', 'Baby Care', 'Grooming', 'Skin Care', 'Sun Protection')",
         "57.0",
         "1.3465866510822069",
         "2",
         "43.66"
        ],
        [
         "40",
         "('Baby Products', 'Baby Care', 'Health', 'Colic & Gas Relief')",
         "31.0",
         "0.9487185509353598",
         "2",
         "43.66"
        ],
        [
         "41",
         "('Baby Products', 'Baby Care', 'Pacifiers, Teethers & Teething Relief', 'Pacifiers')",
         "44.0",
         "1.1374883523946258",
         "2",
         "43.66"
        ],
        [
         "42",
         "('Baby Products', 'Baby Care', 'Pacifiers, Teethers & Teething Relief', 'Teethers')",
         "52.0",
         "1.24955630052406",
         "2",
         "43.66"
        ],
        [
         "43",
         "('Baby Products', 'Diapering', 'Disposable Diapers')",
         "31.0",
         "1.1110964281505997",
         "2",
         "43.66"
        ],
        [
         "44",
         "('Baby Products', 'Feeding', 'Baby Foods', 'Beverages', 'Electrolyte Drinks')",
         "14.0",
         "1.2319703635755141",
         "2",
         "43.66"
        ],
        [
         "45",
         "('Baby Products', 'Feeding', 'Baby Foods', 'Beverages', 'Nutritional Shakes')",
         "8.0",
         "1.0256982734728004",
         "2",
         "43.66"
        ],
        [
         "46",
         "('Baby Products', 'Feeding', 'Baby Foods', 'Snack Foods')",
         "15.0",
         "1.269030186724938",
         "2",
         "43.66"
        ],
        [
         "47",
         "('Baby Products', 'Feeding', 'Bottle-Feeding', 'Bottles')",
         "47.0",
         "1.0078658045221414",
         "2",
         "43.66"
        ],
        [
         "48",
         "('Baby Products', 'Feeding', 'Bottle-Feeding', 'Nipples')",
         "46.0",
         "1.0610942069910747",
         "2",
         "43.66"
        ],
        [
         "49",
         "('Baby Products', 'Feeding', 'Breastfeeding')",
         "48.5",
         "1.0794102156416079",
         "2",
         "43.66"
        ]
       ],
       "shape": {
        "columns": 5,
        "rows": 2701
       }
      },
      "text/html": [
       "<div>\n",
       "<style scoped>\n",
       "    .dataframe tbody tr th:only-of-type {\n",
       "        vertical-align: middle;\n",
       "    }\n",
       "\n",
       "    .dataframe tbody tr th {\n",
       "        vertical-align: top;\n",
       "    }\n",
       "\n",
       "    .dataframe thead th {\n",
       "        text-align: right;\n",
       "    }\n",
       "</style>\n",
       "<table border=\"1\" class=\"dataframe\">\n",
       "  <thead>\n",
       "    <tr style=\"text-align: right;\">\n",
       "      <th></th>\n",
       "      <th>Category</th>\n",
       "      <th>median_of_median_cycle</th>\n",
       "      <th>cv_of_median_cycle</th>\n",
       "      <th>cluster</th>\n",
       "      <th>lower_95CI</th>\n",
       "    </tr>\n",
       "  </thead>\n",
       "  <tbody>\n",
       "    <tr>\n",
       "      <th>0</th>\n",
       "      <td>(Appliances, Parts &amp; Accessories, Dryer Parts ...</td>\n",
       "      <td>22.5</td>\n",
       "      <td>1.394163</td>\n",
       "      <td>2</td>\n",
       "      <td>43.66</td>\n",
       "    </tr>\n",
       "    <tr>\n",
       "      <th>1</th>\n",
       "      <td>(Arts, Crafts &amp; Sewing, Beading &amp; Jewelry Maki...</td>\n",
       "      <td>24.0</td>\n",
       "      <td>1.417586</td>\n",
       "      <td>2</td>\n",
       "      <td>43.66</td>\n",
       "    </tr>\n",
       "    <tr>\n",
       "      <th>2</th>\n",
       "      <td>(Arts, Crafts &amp; Sewing, Beading &amp; Jewelry Maki...</td>\n",
       "      <td>22.0</td>\n",
       "      <td>1.145062</td>\n",
       "      <td>2</td>\n",
       "      <td>43.66</td>\n",
       "    </tr>\n",
       "    <tr>\n",
       "      <th>3</th>\n",
       "      <td>(Arts, Crafts &amp; Sewing, Beading &amp; Jewelry Maki...</td>\n",
       "      <td>63.0</td>\n",
       "      <td>1.064217</td>\n",
       "      <td>2</td>\n",
       "      <td>43.66</td>\n",
       "    </tr>\n",
       "    <tr>\n",
       "      <th>4</th>\n",
       "      <td>(Arts, Crafts &amp; Sewing, Beading &amp; Jewelry Maki...</td>\n",
       "      <td>7.0</td>\n",
       "      <td>1.041367</td>\n",
       "      <td>2</td>\n",
       "      <td>43.66</td>\n",
       "    </tr>\n",
       "    <tr>\n",
       "      <th>...</th>\n",
       "      <td>...</td>\n",
       "      <td>...</td>\n",
       "      <td>...</td>\n",
       "      <td>...</td>\n",
       "      <td>...</td>\n",
       "    </tr>\n",
       "    <tr>\n",
       "      <th>2696</th>\n",
       "      <td>(Toys &amp; Games, Toy Figures &amp; Playsets, Playsets)</td>\n",
       "      <td>80.5</td>\n",
       "      <td>0.924294</td>\n",
       "      <td>0</td>\n",
       "      <td>54.67</td>\n",
       "    </tr>\n",
       "    <tr>\n",
       "      <th>2697</th>\n",
       "      <td>(Toys &amp; Games, Vehicles, Trucks)</td>\n",
       "      <td>82.0</td>\n",
       "      <td>0.819970</td>\n",
       "      <td>0</td>\n",
       "      <td>54.67</td>\n",
       "    </tr>\n",
       "    <tr>\n",
       "      <th>2698</th>\n",
       "      <td>(Toys &amp; Games, Vehicles, Vehicle Playsets, Mot...</td>\n",
       "      <td>85.0</td>\n",
       "      <td>0.890395</td>\n",
       "      <td>0</td>\n",
       "      <td>54.67</td>\n",
       "    </tr>\n",
       "    <tr>\n",
       "      <th>2699</th>\n",
       "      <td>(Video Games, Nintendo Switch, Games)</td>\n",
       "      <td>83.0</td>\n",
       "      <td>0.950085</td>\n",
       "      <td>0</td>\n",
       "      <td>54.67</td>\n",
       "    </tr>\n",
       "    <tr>\n",
       "      <th>2700</th>\n",
       "      <td>(Video Games, PlayStation 5, Consoles)</td>\n",
       "      <td>62.0</td>\n",
       "      <td>0.307128</td>\n",
       "      <td>0</td>\n",
       "      <td>54.67</td>\n",
       "    </tr>\n",
       "  </tbody>\n",
       "</table>\n",
       "<p>2701 rows × 5 columns</p>\n",
       "</div>"
      ],
      "text/plain": [
       "                                               Category  \\\n",
       "0     (Appliances, Parts & Accessories, Dryer Parts ...   \n",
       "1     (Arts, Crafts & Sewing, Beading & Jewelry Maki...   \n",
       "2     (Arts, Crafts & Sewing, Beading & Jewelry Maki...   \n",
       "3     (Arts, Crafts & Sewing, Beading & Jewelry Maki...   \n",
       "4     (Arts, Crafts & Sewing, Beading & Jewelry Maki...   \n",
       "...                                                 ...   \n",
       "2696   (Toys & Games, Toy Figures & Playsets, Playsets)   \n",
       "2697                   (Toys & Games, Vehicles, Trucks)   \n",
       "2698  (Toys & Games, Vehicles, Vehicle Playsets, Mot...   \n",
       "2699              (Video Games, Nintendo Switch, Games)   \n",
       "2700             (Video Games, PlayStation 5, Consoles)   \n",
       "\n",
       "      median_of_median_cycle  cv_of_median_cycle  cluster  lower_95CI  \n",
       "0                       22.5            1.394163        2       43.66  \n",
       "1                       24.0            1.417586        2       43.66  \n",
       "2                       22.0            1.145062        2       43.66  \n",
       "3                       63.0            1.064217        2       43.66  \n",
       "4                        7.0            1.041367        2       43.66  \n",
       "...                      ...                 ...      ...         ...  \n",
       "2696                    80.5            0.924294        0       54.67  \n",
       "2697                    82.0            0.819970        0       54.67  \n",
       "2698                    85.0            0.890395        0       54.67  \n",
       "2699                    83.0            0.950085        0       54.67  \n",
       "2700                    62.0            0.307128        0       54.67  \n",
       "\n",
       "[2701 rows x 5 columns]"
      ]
     },
     "execution_count": 152,
     "metadata": {},
     "output_type": "execute_result"
    }
   ],
   "source": [
    "cycle_stats = cycle_stats.merge(ci_df[['cluster','lower_95CI']], on = 'cluster', how = 'inner')\n",
    "cycle_stats\n",
    "\n",
    "# 구매주기 계산에 활용된 상품군들의 개수"
   ]
  },
  {
   "cell_type": "code",
   "execution_count": 162,
   "id": "f3419e9b",
   "metadata": {},
   "outputs": [
    {
     "name": "stdout",
     "output_type": "stream",
     "text": [
      "4\n"
     ]
    }
   ],
   "source": [
    "print(cycle_stats.groupby('cluster')['lower_95CI'].first().idxmin())"
   ]
  },
  {
   "cell_type": "markdown",
   "id": "c49f900e",
   "metadata": {},
   "source": [
    "### 군집에 할당되지 못한 상품군들 처리"
   ]
  },
  {
   "cell_type": "code",
   "execution_count": 150,
   "id": "7a33ba80",
   "metadata": {},
   "outputs": [
    {
     "data": {
      "application/vnd.microsoft.datawrangler.viewer.v0+json": {
       "columns": [
        {
         "name": "index",
         "rawType": "int64",
         "type": "integer"
        },
        {
         "name": "Order Date",
         "rawType": "datetime64[ns]",
         "type": "datetime"
        },
        {
         "name": "ASIN",
         "rawType": "object",
         "type": "string"
        },
        {
         "name": "Category",
         "rawType": "object",
         "type": "unknown"
        },
        {
         "name": "Survey ResponseID",
         "rawType": "object",
         "type": "string"
        },
        {
         "name": "Category_Origin",
         "rawType": "object",
         "type": "unknown"
        }
       ],
       "ref": "b4e45dda-4a13-4faa-9594-23531f9454b4",
       "rows": [
        [
         "0",
         "2018-12-04 00:00:00",
         "B0143RTB1E",
         "('Electronics', 'Computers & Accessories', 'Computer Accessories & Peripherals', 'Memory Cards', 'SD Cards')",
         "R_01vNIayewjIIKMF",
         "FLASH_MEMORY"
        ],
        [
         "1",
         "2018-04-22 00:00:00",
         "B0143RTB1E",
         "('Electronics', 'Computers & Accessories', 'Computer Accessories & Peripherals', 'Memory Cards', 'SD Cards')",
         "R_1LYvldXrvEt6Cel",
         "FLASH_MEMORY"
        ],
        [
         "2",
         "2020-01-10 00:00:00",
         "B0143RTB1E",
         "('Electronics', 'Computers & Accessories', 'Computer Accessories & Peripherals', 'Memory Cards', 'SD Cards')",
         "R_1QoPHtffEy2UzWJ",
         "FLASH_MEMORY"
        ],
        [
         "3",
         "2018-02-27 00:00:00",
         "B0143RTB1E",
         "('Electronics', 'Computers & Accessories', 'Computer Accessories & Peripherals', 'Memory Cards', 'SD Cards')",
         "R_1q4eVtHN10S5gPB",
         "FLASH_MEMORY"
        ],
        [
         "4",
         "2018-10-06 00:00:00",
         "B0143RTB1E",
         "('Electronics', 'Computers & Accessories', 'Computer Accessories & Peripherals', 'Memory Cards', 'SD Cards')",
         "R_1rpKvwP7VAtzJqH",
         "FLASH_MEMORY"
        ],
        [
         "5",
         "2018-08-25 00:00:00",
         "B0143RTB1E",
         "('Electronics', 'Computers & Accessories', 'Computer Accessories & Peripherals', 'Memory Cards', 'SD Cards')",
         "R_2V7HVsDu8mbPFDf",
         "FLASH_MEMORY"
        ],
        [
         "6",
         "2019-03-13 00:00:00",
         "B0143RTB1E",
         "('Electronics', 'Computers & Accessories', 'Computer Accessories & Peripherals', 'Memory Cards', 'SD Cards')",
         "R_2XpoQZjmJ9BOKQR",
         "FLASH_MEMORY"
        ],
        [
         "7",
         "2018-01-22 00:00:00",
         "B0143RTB1E",
         "('Electronics', 'Computers & Accessories', 'Computer Accessories & Peripherals', 'Memory Cards', 'SD Cards')",
         "R_2z6LiVVvQldVrWh",
         "FLASH_MEMORY"
        ],
        [
         "8",
         "2019-07-14 00:00:00",
         "B0143RTB1E",
         "('Electronics', 'Computers & Accessories', 'Computer Accessories & Peripherals', 'Memory Cards', 'SD Cards')",
         "R_O6ZX76mggPnAOfD",
         "FLASH_MEMORY"
        ],
        [
         "9",
         "2018-12-22 00:00:00",
         "B01MA1MJ6H",
         "('Electronics', 'Headphones, Earbuds & Accessories', 'Headphones & Earbuds', 'Earbud Headphones')",
         "R_01vNIayewjIIKMF",
         "HEADPHONES"
        ],
        [
         "10",
         "2019-05-16 00:00:00",
         "B01MA1MJ6H",
         "('Electronics', 'Headphones, Earbuds & Accessories', 'Headphones & Earbuds', 'Earbud Headphones')",
         "R_01vNIayewjIIKMF",
         "HEADPHONES"
        ],
        [
         "11",
         "2019-06-25 00:00:00",
         "B01MA1MJ6H",
         "('Electronics', 'Headphones, Earbuds & Accessories', 'Headphones & Earbuds', 'Earbud Headphones')",
         "R_01vNIayewjIIKMF",
         "HEADPHONES"
        ],
        [
         "12",
         "2019-12-20 00:00:00",
         "B01MA1MJ6H",
         "('Electronics', 'Headphones, Earbuds & Accessories', 'Headphones & Earbuds', 'Earbud Headphones')",
         "R_01vNIayewjIIKMF",
         "HEADPHONES"
        ],
        [
         "13",
         "2020-04-15 00:00:00",
         "B01MA1MJ6H",
         "('Electronics', 'Headphones, Earbuds & Accessories', 'Headphones & Earbuds', 'Earbud Headphones')",
         "R_01vNIayewjIIKMF",
         "HEADPHONES"
        ],
        [
         "14",
         "2020-05-21 00:00:00",
         "B01MA1MJ6H",
         "('Electronics', 'Headphones, Earbuds & Accessories', 'Headphones & Earbuds', 'Earbud Headphones')",
         "R_01vNIayewjIIKMF",
         "HEADPHONES"
        ],
        [
         "15",
         "2021-02-12 00:00:00",
         "B01MA1MJ6H",
         "('Electronics', 'Headphones, Earbuds & Accessories', 'Headphones & Earbuds', 'Earbud Headphones')",
         "R_01vNIayewjIIKMF",
         "HEADPHONES"
        ],
        [
         "16",
         "2021-05-31 00:00:00",
         "B01MA1MJ6H",
         "('Electronics', 'Headphones, Earbuds & Accessories', 'Headphones & Earbuds', 'Earbud Headphones')",
         "R_01vNIayewjIIKMF",
         "HEADPHONES"
        ],
        [
         "17",
         "2022-05-26 00:00:00",
         "B01MA1MJ6H",
         "('Electronics', 'Headphones, Earbuds & Accessories', 'Headphones & Earbuds', 'Earbud Headphones')",
         "R_01vNIayewjIIKMF",
         "HEADPHONES"
        ],
        [
         "18",
         "2020-03-01 00:00:00",
         "B01MA1MJ6H",
         "('Electronics', 'Headphones, Earbuds & Accessories', 'Headphones & Earbuds', 'Earbud Headphones')",
         "R_129jUlsvVcVBDur",
         "HEADPHONES"
        ],
        [
         "19",
         "2020-08-22 00:00:00",
         "B01MA1MJ6H",
         "('Electronics', 'Headphones, Earbuds & Accessories', 'Headphones & Earbuds', 'Earbud Headphones')",
         "R_129jUlsvVcVBDur",
         "HEADPHONES"
        ],
        [
         "20",
         "2021-02-08 00:00:00",
         "B01MA1MJ6H",
         "('Electronics', 'Headphones, Earbuds & Accessories', 'Headphones & Earbuds', 'Earbud Headphones')",
         "R_129jUlsvVcVBDur",
         "HEADPHONES"
        ],
        [
         "21",
         "2021-05-30 00:00:00",
         "B01MA1MJ6H",
         "('Electronics', 'Headphones, Earbuds & Accessories', 'Headphones & Earbuds', 'Earbud Headphones')",
         "R_1eDabE58dk65Lyy",
         "HEADPHONES"
        ],
        [
         "22",
         "2019-06-04 00:00:00",
         "B01MA1MJ6H",
         "('Electronics', 'Headphones, Earbuds & Accessories', 'Headphones & Earbuds', 'Earbud Headphones')",
         "R_25SbPPTyE45YzXP",
         "HEADPHONES"
        ],
        [
         "23",
         "2020-06-15 00:00:00",
         "B01MA1MJ6H",
         "('Electronics', 'Headphones, Earbuds & Accessories', 'Headphones & Earbuds', 'Earbud Headphones')",
         "R_2SiVXI2QZ5GDasH",
         "HEADPHONES"
        ],
        [
         "24",
         "2020-11-20 00:00:00",
         "B01MA1MJ6H",
         "('Electronics', 'Headphones, Earbuds & Accessories', 'Headphones & Earbuds', 'Earbud Headphones')",
         "R_2tajYnRL3lW3Bri",
         "HEADPHONES"
        ],
        [
         "25",
         "2021-02-20 00:00:00",
         "B01MA1MJ6H",
         "('Electronics', 'Headphones, Earbuds & Accessories', 'Headphones & Earbuds', 'Earbud Headphones')",
         "R_2tajYnRL3lW3Bri",
         "HEADPHONES"
        ],
        [
         "26",
         "2019-03-03 00:00:00",
         "B01MA1MJ6H",
         "('Electronics', 'Headphones, Earbuds & Accessories', 'Headphones & Earbuds', 'Earbud Headphones')",
         "R_3KI0Q5yJYxm1woD",
         "HEADPHONES"
        ],
        [
         "27",
         "2020-11-23 00:00:00",
         "B01MA1MJ6H",
         "('Electronics', 'Headphones, Earbuds & Accessories', 'Headphones & Earbuds', 'Earbud Headphones')",
         "R_3nJBlarikgnKpF2",
         "HEADPHONES"
        ],
        [
         "28",
         "2020-01-30 00:00:00",
         "B01MA1MJ6H",
         "('Electronics', 'Headphones, Earbuds & Accessories', 'Headphones & Earbuds', 'Earbud Headphones')",
         "R_3p4tQBL8E8GkXCI",
         "HEADPHONES"
        ],
        [
         "29",
         "2022-09-13 00:00:00",
         "B01MA1MJ6H",
         "('Electronics', 'Headphones, Earbuds & Accessories', 'Headphones & Earbuds', 'Earbud Headphones')",
         "R_RekNI4I8FXKS9lT",
         "HEADPHONES"
        ],
        [
         "30",
         "2022-03-03 00:00:00",
         "B01MA1MJ6H",
         "('Electronics', 'Headphones, Earbuds & Accessories', 'Headphones & Earbuds', 'Earbud Headphones')",
         "R_xayV525B1zHdFG9",
         "HEADPHONES"
        ],
        [
         "31",
         "2022-07-12 00:00:00",
         "B01MA1MJ6H",
         "('Electronics', 'Headphones, Earbuds & Accessories', 'Headphones & Earbuds', 'Earbud Headphones')",
         "R_xayV525B1zHdFG9",
         "HEADPHONES"
        ],
        [
         "32",
         "2018-12-25 00:00:00",
         "B06XWF9HML",
         "('Beauty & Personal Care', 'Shave & Hair Removal', \"Men's\", 'Shaving Accessories', 'Shaving Soap Bowls')",
         "R_01vNIayewjIIKMF",
         "DISHWARE_BOWL"
        ],
        [
         "33",
         "2018-12-25 00:00:00",
         "B00837ZOI0",
         "('Beauty & Personal Care', 'Shave & Hair Removal', \"Men's\", 'Shaving Creams, Lotions & Gels', 'Shaving Creams')",
         "R_01vNIayewjIIKMF",
         "SHAVING_AGENT"
        ],
        [
         "34",
         "2021-05-27 00:00:00",
         "B00837ZOI0",
         "('Beauty & Personal Care', 'Shave & Hair Removal', \"Men's\", 'Shaving Creams, Lotions & Gels', 'Shaving Creams')",
         "R_0TjMwrWLbhR338J",
         "SHAVING_AGENT"
        ],
        [
         "35",
         "2022-11-26 00:00:00",
         "B00837ZOI0",
         "('Beauty & Personal Care', 'Shave & Hair Removal', \"Men's\", 'Shaving Creams, Lotions & Gels', 'Shaving Creams')",
         "R_2SIYchF5txvb4ur",
         "SHAVING_AGENT"
        ],
        [
         "36",
         "2020-08-02 00:00:00",
         "B00837ZOI0",
         "('Beauty & Personal Care', 'Shave & Hair Removal', \"Men's\", 'Shaving Creams, Lotions & Gels', 'Shaving Creams')",
         "R_2dFHfsIqQ6eEtVW",
         "SHAVING_AGENT"
        ],
        [
         "37",
         "2022-03-05 00:00:00",
         "B00837ZOI0",
         "('Beauty & Personal Care', 'Shave & Hair Removal', \"Men's\", 'Shaving Creams, Lotions & Gels', 'Shaving Creams')",
         "R_AaonteE1s65CVYR",
         "SHAVING_AGENT"
        ],
        [
         "38",
         "2021-12-01 00:00:00",
         "B00837ZOI0",
         "('Beauty & Personal Care', 'Shave & Hair Removal', \"Men's\", 'Shaving Creams, Lotions & Gels', 'Shaving Creams')",
         "R_wXaMChMYqHnMARb",
         "SHAVING_AGENT"
        ],
        [
         "39",
         "2019-02-18 00:00:00",
         "B01GFB2E9M",
         "('Electronics', 'Computers & Accessories', 'Computer Accessories & Peripherals', 'Cables & Accessories', 'Cables & Interconnects', 'USB Cables')",
         "R_01vNIayewjIIKMF",
         "COMPUTER_PROCESSOR"
        ],
        [
         "40",
         "2018-03-14 00:00:00",
         "B01GFB2E9M",
         "('Electronics', 'Computers & Accessories', 'Computer Accessories & Peripherals', 'Cables & Accessories', 'Cables & Interconnects', 'USB Cables')",
         "R_1LUaD6cuon5njXD",
         "COMPUTER_PROCESSOR"
        ],
        [
         "41",
         "2021-05-03 00:00:00",
         "B01GFB2E9M",
         "('Electronics', 'Computers & Accessories', 'Computer Accessories & Peripherals', 'Cables & Accessories', 'Cables & Interconnects', 'USB Cables')",
         "R_1mC1GkAuzW7JKI5",
         "COMPUTER_PROCESSOR"
        ],
        [
         "42",
         "2018-06-06 00:00:00",
         "B01GFB2E9M",
         "('Electronics', 'Computers & Accessories', 'Computer Accessories & Peripherals', 'Cables & Accessories', 'Cables & Interconnects', 'USB Cables')",
         "R_3O1i61TeOWPvr69",
         "COMPUTER_PROCESSOR"
        ],
        [
         "43",
         "2020-01-28 00:00:00",
         "B01GFB2E9M",
         "('Electronics', 'Computers & Accessories', 'Computer Accessories & Peripherals', 'Cables & Accessories', 'Cables & Interconnects', 'USB Cables')",
         "R_blmQEhOrCwpqG4x",
         "COMPUTER_PROCESSOR"
        ],
        [
         "44",
         "2019-02-18 00:00:00",
         "B00NH13S44",
         "('Electronics', 'Computers & Accessories', 'Computer Accessories & Peripherals', 'Cables & Accessories', 'Cables & Interconnects', 'USB Cables')",
         "R_01vNIayewjIIKMF",
         "COMPUTER_ADD_ON"
        ],
        [
         "45",
         "2019-05-16 00:00:00",
         "B00NH13S44",
         "('Electronics', 'Computers & Accessories', 'Computer Accessories & Peripherals', 'Cables & Accessories', 'Cables & Interconnects', 'USB Cables')",
         "R_1It3uPOCs8UZVMn",
         "COMPUTER_ADD_ON"
        ],
        [
         "46",
         "2022-11-06 00:00:00",
         "B00NH13S44",
         "('Electronics', 'Computers & Accessories', 'Computer Accessories & Peripherals', 'Cables & Accessories', 'Cables & Interconnects', 'USB Cables')",
         "R_1gSeKWi6I0848rp",
         "COMPUTER_ADD_ON"
        ],
        [
         "47",
         "2020-08-27 00:00:00",
         "B00NH13S44",
         "('Electronics', 'Computers & Accessories', 'Computer Accessories & Peripherals', 'Cables & Accessories', 'Cables & Interconnects', 'USB Cables')",
         "R_1k1zPs6FKsqm1Ib",
         "COMPUTER_ADD_ON"
        ],
        [
         "48",
         "2018-04-16 00:00:00",
         "B00NH13S44",
         "('Electronics', 'Computers & Accessories', 'Computer Accessories & Peripherals', 'Cables & Accessories', 'Cables & Interconnects', 'USB Cables')",
         "R_1kMSPTD9ssCD0Qg",
         "COMPUTER_ADD_ON"
        ],
        [
         "49",
         "2022-08-29 00:00:00",
         "B00NH13S44",
         "('Electronics', 'Computers & Accessories', 'Computer Accessories & Peripherals', 'Cables & Accessories', 'Cables & Interconnects', 'USB Cables')",
         "R_1o76EOS42TBWhZ1",
         "COMPUTER_ADD_ON"
        ]
       ],
       "shape": {
        "columns": 5,
        "rows": 1593075
       }
      },
      "text/html": [
       "<div>\n",
       "<style scoped>\n",
       "    .dataframe tbody tr th:only-of-type {\n",
       "        vertical-align: middle;\n",
       "    }\n",
       "\n",
       "    .dataframe tbody tr th {\n",
       "        vertical-align: top;\n",
       "    }\n",
       "\n",
       "    .dataframe thead th {\n",
       "        text-align: right;\n",
       "    }\n",
       "</style>\n",
       "<table border=\"1\" class=\"dataframe\">\n",
       "  <thead>\n",
       "    <tr style=\"text-align: right;\">\n",
       "      <th></th>\n",
       "      <th>Order Date</th>\n",
       "      <th>ASIN</th>\n",
       "      <th>Category</th>\n",
       "      <th>Survey ResponseID</th>\n",
       "      <th>Category_Origin</th>\n",
       "    </tr>\n",
       "  </thead>\n",
       "  <tbody>\n",
       "    <tr>\n",
       "      <th>0</th>\n",
       "      <td>2018-12-04</td>\n",
       "      <td>B0143RTB1E</td>\n",
       "      <td>(Electronics, Computers &amp; Accessories, Compute...</td>\n",
       "      <td>R_01vNIayewjIIKMF</td>\n",
       "      <td>FLASH_MEMORY</td>\n",
       "    </tr>\n",
       "    <tr>\n",
       "      <th>1</th>\n",
       "      <td>2018-04-22</td>\n",
       "      <td>B0143RTB1E</td>\n",
       "      <td>(Electronics, Computers &amp; Accessories, Compute...</td>\n",
       "      <td>R_1LYvldXrvEt6Cel</td>\n",
       "      <td>FLASH_MEMORY</td>\n",
       "    </tr>\n",
       "    <tr>\n",
       "      <th>2</th>\n",
       "      <td>2020-01-10</td>\n",
       "      <td>B0143RTB1E</td>\n",
       "      <td>(Electronics, Computers &amp; Accessories, Compute...</td>\n",
       "      <td>R_1QoPHtffEy2UzWJ</td>\n",
       "      <td>FLASH_MEMORY</td>\n",
       "    </tr>\n",
       "    <tr>\n",
       "      <th>3</th>\n",
       "      <td>2018-02-27</td>\n",
       "      <td>B0143RTB1E</td>\n",
       "      <td>(Electronics, Computers &amp; Accessories, Compute...</td>\n",
       "      <td>R_1q4eVtHN10S5gPB</td>\n",
       "      <td>FLASH_MEMORY</td>\n",
       "    </tr>\n",
       "    <tr>\n",
       "      <th>4</th>\n",
       "      <td>2018-10-06</td>\n",
       "      <td>B0143RTB1E</td>\n",
       "      <td>(Electronics, Computers &amp; Accessories, Compute...</td>\n",
       "      <td>R_1rpKvwP7VAtzJqH</td>\n",
       "      <td>FLASH_MEMORY</td>\n",
       "    </tr>\n",
       "    <tr>\n",
       "      <th>...</th>\n",
       "      <td>...</td>\n",
       "      <td>...</td>\n",
       "      <td>...</td>\n",
       "      <td>...</td>\n",
       "      <td>...</td>\n",
       "    </tr>\n",
       "    <tr>\n",
       "      <th>1593070</th>\n",
       "      <td>2019-06-04</td>\n",
       "      <td>0674362810</td>\n",
       "      <td>(Books, History, World, Religious, General)</td>\n",
       "      <td>R_zfqnsBzlOAKibzb</td>\n",
       "      <td>ABIS_BOOK</td>\n",
       "    </tr>\n",
       "    <tr>\n",
       "      <th>1593071</th>\n",
       "      <td>2019-06-04</td>\n",
       "      <td>B0000Y7L7G</td>\n",
       "      <td>(Home &amp; Kitchen, Kitchen &amp; Dining, Kitchen Ute...</td>\n",
       "      <td>R_zfqnsBzlOAKibzb</td>\n",
       "      <td>BISS</td>\n",
       "    </tr>\n",
       "    <tr>\n",
       "      <th>1593072</th>\n",
       "      <td>2019-09-30</td>\n",
       "      <td>0807057932</td>\n",
       "      <td>(Books, Politics &amp; Social Sciences, Philosophy...</td>\n",
       "      <td>R_zfqnsBzlOAKibzb</td>\n",
       "      <td>ABIS_BOOK</td>\n",
       "    </tr>\n",
       "    <tr>\n",
       "      <th>1593073</th>\n",
       "      <td>2020-03-24</td>\n",
       "      <td>B085WXGMWG</td>\n",
       "      <td>(Electronics, Computers &amp; Accessories, Compute...</td>\n",
       "      <td>R_zfqnsBzlOAKibzb</td>\n",
       "      <td>CAMCORDER</td>\n",
       "    </tr>\n",
       "    <tr>\n",
       "      <th>1593074</th>\n",
       "      <td>2021-04-14</td>\n",
       "      <td>B00QGCXPRG</td>\n",
       "      <td>(Health &amp; Household, Household Supplies, Clean...</td>\n",
       "      <td>R_zfqnsBzlOAKibzb</td>\n",
       "      <td>TOWEL</td>\n",
       "    </tr>\n",
       "  </tbody>\n",
       "</table>\n",
       "<p>1593075 rows × 5 columns</p>\n",
       "</div>"
      ],
      "text/plain": [
       "        Order Date        ASIN  \\\n",
       "0       2018-12-04  B0143RTB1E   \n",
       "1       2018-04-22  B0143RTB1E   \n",
       "2       2020-01-10  B0143RTB1E   \n",
       "3       2018-02-27  B0143RTB1E   \n",
       "4       2018-10-06  B0143RTB1E   \n",
       "...            ...         ...   \n",
       "1593070 2019-06-04  0674362810   \n",
       "1593071 2019-06-04  B0000Y7L7G   \n",
       "1593072 2019-09-30  0807057932   \n",
       "1593073 2020-03-24  B085WXGMWG   \n",
       "1593074 2021-04-14  B00QGCXPRG   \n",
       "\n",
       "                                                  Category  Survey ResponseID  \\\n",
       "0        (Electronics, Computers & Accessories, Compute...  R_01vNIayewjIIKMF   \n",
       "1        (Electronics, Computers & Accessories, Compute...  R_1LYvldXrvEt6Cel   \n",
       "2        (Electronics, Computers & Accessories, Compute...  R_1QoPHtffEy2UzWJ   \n",
       "3        (Electronics, Computers & Accessories, Compute...  R_1q4eVtHN10S5gPB   \n",
       "4        (Electronics, Computers & Accessories, Compute...  R_1rpKvwP7VAtzJqH   \n",
       "...                                                    ...                ...   \n",
       "1593070        (Books, History, World, Religious, General)  R_zfqnsBzlOAKibzb   \n",
       "1593071  (Home & Kitchen, Kitchen & Dining, Kitchen Ute...  R_zfqnsBzlOAKibzb   \n",
       "1593072  (Books, Politics & Social Sciences, Philosophy...  R_zfqnsBzlOAKibzb   \n",
       "1593073  (Electronics, Computers & Accessories, Compute...  R_zfqnsBzlOAKibzb   \n",
       "1593074  (Health & Household, Household Supplies, Clean...  R_zfqnsBzlOAKibzb   \n",
       "\n",
       "        Category_Origin  \n",
       "0          FLASH_MEMORY  \n",
       "1          FLASH_MEMORY  \n",
       "2          FLASH_MEMORY  \n",
       "3          FLASH_MEMORY  \n",
       "4          FLASH_MEMORY  \n",
       "...                 ...  \n",
       "1593070       ABIS_BOOK  \n",
       "1593071            BISS  \n",
       "1593072       ABIS_BOOK  \n",
       "1593073       CAMCORDER  \n",
       "1593074           TOWEL  \n",
       "\n",
       "[1593075 rows x 5 columns]"
      ]
     },
     "execution_count": 150,
     "metadata": {},
     "output_type": "execute_result"
    }
   ],
   "source": [
    "df # transaction_known에 Category_Origin 붙인 버전"
   ]
  },
  {
   "cell_type": "code",
   "execution_count": 168,
   "id": "4d9beef7",
   "metadata": {},
   "outputs": [
    {
     "data": {
      "application/vnd.microsoft.datawrangler.viewer.v0+json": {
       "columns": [
        {
         "name": "index",
         "rawType": "int64",
         "type": "integer"
        },
        {
         "name": "Order Date",
         "rawType": "datetime64[ns]",
         "type": "datetime"
        },
        {
         "name": "ASIN",
         "rawType": "object",
         "type": "string"
        },
        {
         "name": "Category",
         "rawType": "object",
         "type": "unknown"
        },
        {
         "name": "Survey ResponseID",
         "rawType": "object",
         "type": "string"
        },
        {
         "name": "Category_Origin",
         "rawType": "object",
         "type": "unknown"
        },
        {
         "name": "cluster",
         "rawType": "float64",
         "type": "float"
        }
       ],
       "ref": "327d21d8-b433-4cab-87ad-c1782036ea82",
       "rows": [
        [
         "0",
         "2018-12-04 00:00:00",
         "B0143RTB1E",
         "('Electronics', 'Computers & Accessories', 'Computer Accessories & Peripherals', 'Memory Cards', 'SD Cards')",
         "R_01vNIayewjIIKMF",
         "FLASH_MEMORY",
         "3.0"
        ],
        [
         "1",
         "2018-04-22 00:00:00",
         "B0143RTB1E",
         "('Electronics', 'Computers & Accessories', 'Computer Accessories & Peripherals', 'Memory Cards', 'SD Cards')",
         "R_1LYvldXrvEt6Cel",
         "FLASH_MEMORY",
         "3.0"
        ],
        [
         "2",
         "2020-01-10 00:00:00",
         "B0143RTB1E",
         "('Electronics', 'Computers & Accessories', 'Computer Accessories & Peripherals', 'Memory Cards', 'SD Cards')",
         "R_1QoPHtffEy2UzWJ",
         "FLASH_MEMORY",
         "3.0"
        ],
        [
         "3",
         "2018-02-27 00:00:00",
         "B0143RTB1E",
         "('Electronics', 'Computers & Accessories', 'Computer Accessories & Peripherals', 'Memory Cards', 'SD Cards')",
         "R_1q4eVtHN10S5gPB",
         "FLASH_MEMORY",
         "3.0"
        ],
        [
         "4",
         "2018-10-06 00:00:00",
         "B0143RTB1E",
         "('Electronics', 'Computers & Accessories', 'Computer Accessories & Peripherals', 'Memory Cards', 'SD Cards')",
         "R_1rpKvwP7VAtzJqH",
         "FLASH_MEMORY",
         "3.0"
        ],
        [
         "5",
         "2018-08-25 00:00:00",
         "B0143RTB1E",
         "('Electronics', 'Computers & Accessories', 'Computer Accessories & Peripherals', 'Memory Cards', 'SD Cards')",
         "R_2V7HVsDu8mbPFDf",
         "FLASH_MEMORY",
         "3.0"
        ],
        [
         "6",
         "2019-03-13 00:00:00",
         "B0143RTB1E",
         "('Electronics', 'Computers & Accessories', 'Computer Accessories & Peripherals', 'Memory Cards', 'SD Cards')",
         "R_2XpoQZjmJ9BOKQR",
         "FLASH_MEMORY",
         "3.0"
        ],
        [
         "7",
         "2018-01-22 00:00:00",
         "B0143RTB1E",
         "('Electronics', 'Computers & Accessories', 'Computer Accessories & Peripherals', 'Memory Cards', 'SD Cards')",
         "R_2z6LiVVvQldVrWh",
         "FLASH_MEMORY",
         "3.0"
        ],
        [
         "8",
         "2019-07-14 00:00:00",
         "B0143RTB1E",
         "('Electronics', 'Computers & Accessories', 'Computer Accessories & Peripherals', 'Memory Cards', 'SD Cards')",
         "R_O6ZX76mggPnAOfD",
         "FLASH_MEMORY",
         "3.0"
        ],
        [
         "9",
         "2018-12-22 00:00:00",
         "B01MA1MJ6H",
         "('Electronics', 'Headphones, Earbuds & Accessories', 'Headphones & Earbuds', 'Earbud Headphones')",
         "R_01vNIayewjIIKMF",
         "HEADPHONES",
         "3.0"
        ],
        [
         "10",
         "2019-05-16 00:00:00",
         "B01MA1MJ6H",
         "('Electronics', 'Headphones, Earbuds & Accessories', 'Headphones & Earbuds', 'Earbud Headphones')",
         "R_01vNIayewjIIKMF",
         "HEADPHONES",
         "3.0"
        ],
        [
         "11",
         "2019-06-25 00:00:00",
         "B01MA1MJ6H",
         "('Electronics', 'Headphones, Earbuds & Accessories', 'Headphones & Earbuds', 'Earbud Headphones')",
         "R_01vNIayewjIIKMF",
         "HEADPHONES",
         "3.0"
        ],
        [
         "12",
         "2019-12-20 00:00:00",
         "B01MA1MJ6H",
         "('Electronics', 'Headphones, Earbuds & Accessories', 'Headphones & Earbuds', 'Earbud Headphones')",
         "R_01vNIayewjIIKMF",
         "HEADPHONES",
         "3.0"
        ],
        [
         "13",
         "2020-04-15 00:00:00",
         "B01MA1MJ6H",
         "('Electronics', 'Headphones, Earbuds & Accessories', 'Headphones & Earbuds', 'Earbud Headphones')",
         "R_01vNIayewjIIKMF",
         "HEADPHONES",
         "3.0"
        ],
        [
         "14",
         "2020-05-21 00:00:00",
         "B01MA1MJ6H",
         "('Electronics', 'Headphones, Earbuds & Accessories', 'Headphones & Earbuds', 'Earbud Headphones')",
         "R_01vNIayewjIIKMF",
         "HEADPHONES",
         "3.0"
        ],
        [
         "15",
         "2021-02-12 00:00:00",
         "B01MA1MJ6H",
         "('Electronics', 'Headphones, Earbuds & Accessories', 'Headphones & Earbuds', 'Earbud Headphones')",
         "R_01vNIayewjIIKMF",
         "HEADPHONES",
         "3.0"
        ],
        [
         "16",
         "2021-05-31 00:00:00",
         "B01MA1MJ6H",
         "('Electronics', 'Headphones, Earbuds & Accessories', 'Headphones & Earbuds', 'Earbud Headphones')",
         "R_01vNIayewjIIKMF",
         "HEADPHONES",
         "3.0"
        ],
        [
         "17",
         "2022-05-26 00:00:00",
         "B01MA1MJ6H",
         "('Electronics', 'Headphones, Earbuds & Accessories', 'Headphones & Earbuds', 'Earbud Headphones')",
         "R_01vNIayewjIIKMF",
         "HEADPHONES",
         "3.0"
        ],
        [
         "18",
         "2020-03-01 00:00:00",
         "B01MA1MJ6H",
         "('Electronics', 'Headphones, Earbuds & Accessories', 'Headphones & Earbuds', 'Earbud Headphones')",
         "R_129jUlsvVcVBDur",
         "HEADPHONES",
         "3.0"
        ],
        [
         "19",
         "2020-08-22 00:00:00",
         "B01MA1MJ6H",
         "('Electronics', 'Headphones, Earbuds & Accessories', 'Headphones & Earbuds', 'Earbud Headphones')",
         "R_129jUlsvVcVBDur",
         "HEADPHONES",
         "3.0"
        ],
        [
         "20",
         "2021-02-08 00:00:00",
         "B01MA1MJ6H",
         "('Electronics', 'Headphones, Earbuds & Accessories', 'Headphones & Earbuds', 'Earbud Headphones')",
         "R_129jUlsvVcVBDur",
         "HEADPHONES",
         "3.0"
        ],
        [
         "21",
         "2021-05-30 00:00:00",
         "B01MA1MJ6H",
         "('Electronics', 'Headphones, Earbuds & Accessories', 'Headphones & Earbuds', 'Earbud Headphones')",
         "R_1eDabE58dk65Lyy",
         "HEADPHONES",
         "3.0"
        ],
        [
         "22",
         "2019-06-04 00:00:00",
         "B01MA1MJ6H",
         "('Electronics', 'Headphones, Earbuds & Accessories', 'Headphones & Earbuds', 'Earbud Headphones')",
         "R_25SbPPTyE45YzXP",
         "HEADPHONES",
         "3.0"
        ],
        [
         "23",
         "2020-06-15 00:00:00",
         "B01MA1MJ6H",
         "('Electronics', 'Headphones, Earbuds & Accessories', 'Headphones & Earbuds', 'Earbud Headphones')",
         "R_2SiVXI2QZ5GDasH",
         "HEADPHONES",
         "3.0"
        ],
        [
         "24",
         "2020-11-20 00:00:00",
         "B01MA1MJ6H",
         "('Electronics', 'Headphones, Earbuds & Accessories', 'Headphones & Earbuds', 'Earbud Headphones')",
         "R_2tajYnRL3lW3Bri",
         "HEADPHONES",
         "3.0"
        ],
        [
         "25",
         "2021-02-20 00:00:00",
         "B01MA1MJ6H",
         "('Electronics', 'Headphones, Earbuds & Accessories', 'Headphones & Earbuds', 'Earbud Headphones')",
         "R_2tajYnRL3lW3Bri",
         "HEADPHONES",
         "3.0"
        ],
        [
         "26",
         "2019-03-03 00:00:00",
         "B01MA1MJ6H",
         "('Electronics', 'Headphones, Earbuds & Accessories', 'Headphones & Earbuds', 'Earbud Headphones')",
         "R_3KI0Q5yJYxm1woD",
         "HEADPHONES",
         "3.0"
        ],
        [
         "27",
         "2020-11-23 00:00:00",
         "B01MA1MJ6H",
         "('Electronics', 'Headphones, Earbuds & Accessories', 'Headphones & Earbuds', 'Earbud Headphones')",
         "R_3nJBlarikgnKpF2",
         "HEADPHONES",
         "3.0"
        ],
        [
         "28",
         "2020-01-30 00:00:00",
         "B01MA1MJ6H",
         "('Electronics', 'Headphones, Earbuds & Accessories', 'Headphones & Earbuds', 'Earbud Headphones')",
         "R_3p4tQBL8E8GkXCI",
         "HEADPHONES",
         "3.0"
        ],
        [
         "29",
         "2022-09-13 00:00:00",
         "B01MA1MJ6H",
         "('Electronics', 'Headphones, Earbuds & Accessories', 'Headphones & Earbuds', 'Earbud Headphones')",
         "R_RekNI4I8FXKS9lT",
         "HEADPHONES",
         "3.0"
        ],
        [
         "30",
         "2022-03-03 00:00:00",
         "B01MA1MJ6H",
         "('Electronics', 'Headphones, Earbuds & Accessories', 'Headphones & Earbuds', 'Earbud Headphones')",
         "R_xayV525B1zHdFG9",
         "HEADPHONES",
         "3.0"
        ],
        [
         "31",
         "2022-07-12 00:00:00",
         "B01MA1MJ6H",
         "('Electronics', 'Headphones, Earbuds & Accessories', 'Headphones & Earbuds', 'Earbud Headphones')",
         "R_xayV525B1zHdFG9",
         "HEADPHONES",
         "3.0"
        ],
        [
         "32",
         "2018-12-25 00:00:00",
         "B06XWF9HML",
         "('Beauty & Personal Care', 'Shave & Hair Removal', \"Men's\", 'Shaving Accessories', 'Shaving Soap Bowls')",
         "R_01vNIayewjIIKMF",
         "DISHWARE_BOWL",
         "-1.0"
        ],
        [
         "33",
         "2018-12-25 00:00:00",
         "B00837ZOI0",
         "('Beauty & Personal Care', 'Shave & Hair Removal', \"Men's\", 'Shaving Creams, Lotions & Gels', 'Shaving Creams')",
         "R_01vNIayewjIIKMF",
         "SHAVING_AGENT",
         "1.0"
        ],
        [
         "34",
         "2021-05-27 00:00:00",
         "B00837ZOI0",
         "('Beauty & Personal Care', 'Shave & Hair Removal', \"Men's\", 'Shaving Creams, Lotions & Gels', 'Shaving Creams')",
         "R_0TjMwrWLbhR338J",
         "SHAVING_AGENT",
         "1.0"
        ],
        [
         "35",
         "2022-11-26 00:00:00",
         "B00837ZOI0",
         "('Beauty & Personal Care', 'Shave & Hair Removal', \"Men's\", 'Shaving Creams, Lotions & Gels', 'Shaving Creams')",
         "R_2SIYchF5txvb4ur",
         "SHAVING_AGENT",
         "1.0"
        ],
        [
         "36",
         "2020-08-02 00:00:00",
         "B00837ZOI0",
         "('Beauty & Personal Care', 'Shave & Hair Removal', \"Men's\", 'Shaving Creams, Lotions & Gels', 'Shaving Creams')",
         "R_2dFHfsIqQ6eEtVW",
         "SHAVING_AGENT",
         "1.0"
        ],
        [
         "37",
         "2022-03-05 00:00:00",
         "B00837ZOI0",
         "('Beauty & Personal Care', 'Shave & Hair Removal', \"Men's\", 'Shaving Creams, Lotions & Gels', 'Shaving Creams')",
         "R_AaonteE1s65CVYR",
         "SHAVING_AGENT",
         "1.0"
        ],
        [
         "38",
         "2021-12-01 00:00:00",
         "B00837ZOI0",
         "('Beauty & Personal Care', 'Shave & Hair Removal', \"Men's\", 'Shaving Creams, Lotions & Gels', 'Shaving Creams')",
         "R_wXaMChMYqHnMARb",
         "SHAVING_AGENT",
         "1.0"
        ],
        [
         "39",
         "2019-02-18 00:00:00",
         "B01GFB2E9M",
         "('Electronics', 'Computers & Accessories', 'Computer Accessories & Peripherals', 'Cables & Accessories', 'Cables & Interconnects', 'USB Cables')",
         "R_01vNIayewjIIKMF",
         "COMPUTER_PROCESSOR",
         "3.0"
        ],
        [
         "40",
         "2018-03-14 00:00:00",
         "B01GFB2E9M",
         "('Electronics', 'Computers & Accessories', 'Computer Accessories & Peripherals', 'Cables & Accessories', 'Cables & Interconnects', 'USB Cables')",
         "R_1LUaD6cuon5njXD",
         "COMPUTER_PROCESSOR",
         "3.0"
        ],
        [
         "41",
         "2021-05-03 00:00:00",
         "B01GFB2E9M",
         "('Electronics', 'Computers & Accessories', 'Computer Accessories & Peripherals', 'Cables & Accessories', 'Cables & Interconnects', 'USB Cables')",
         "R_1mC1GkAuzW7JKI5",
         "COMPUTER_PROCESSOR",
         "3.0"
        ],
        [
         "42",
         "2018-06-06 00:00:00",
         "B01GFB2E9M",
         "('Electronics', 'Computers & Accessories', 'Computer Accessories & Peripherals', 'Cables & Accessories', 'Cables & Interconnects', 'USB Cables')",
         "R_3O1i61TeOWPvr69",
         "COMPUTER_PROCESSOR",
         "3.0"
        ],
        [
         "43",
         "2020-01-28 00:00:00",
         "B01GFB2E9M",
         "('Electronics', 'Computers & Accessories', 'Computer Accessories & Peripherals', 'Cables & Accessories', 'Cables & Interconnects', 'USB Cables')",
         "R_blmQEhOrCwpqG4x",
         "COMPUTER_PROCESSOR",
         "3.0"
        ],
        [
         "44",
         "2019-02-18 00:00:00",
         "B00NH13S44",
         "('Electronics', 'Computers & Accessories', 'Computer Accessories & Peripherals', 'Cables & Accessories', 'Cables & Interconnects', 'USB Cables')",
         "R_01vNIayewjIIKMF",
         "COMPUTER_ADD_ON",
         "3.0"
        ],
        [
         "45",
         "2019-05-16 00:00:00",
         "B00NH13S44",
         "('Electronics', 'Computers & Accessories', 'Computer Accessories & Peripherals', 'Cables & Accessories', 'Cables & Interconnects', 'USB Cables')",
         "R_1It3uPOCs8UZVMn",
         "COMPUTER_ADD_ON",
         "3.0"
        ],
        [
         "46",
         "2022-11-06 00:00:00",
         "B00NH13S44",
         "('Electronics', 'Computers & Accessories', 'Computer Accessories & Peripherals', 'Cables & Accessories', 'Cables & Interconnects', 'USB Cables')",
         "R_1gSeKWi6I0848rp",
         "COMPUTER_ADD_ON",
         "3.0"
        ],
        [
         "47",
         "2020-08-27 00:00:00",
         "B00NH13S44",
         "('Electronics', 'Computers & Accessories', 'Computer Accessories & Peripherals', 'Cables & Accessories', 'Cables & Interconnects', 'USB Cables')",
         "R_1k1zPs6FKsqm1Ib",
         "COMPUTER_ADD_ON",
         "3.0"
        ],
        [
         "48",
         "2018-04-16 00:00:00",
         "B00NH13S44",
         "('Electronics', 'Computers & Accessories', 'Computer Accessories & Peripherals', 'Cables & Accessories', 'Cables & Interconnects', 'USB Cables')",
         "R_1kMSPTD9ssCD0Qg",
         "COMPUTER_ADD_ON",
         "3.0"
        ],
        [
         "49",
         "2022-08-29 00:00:00",
         "B00NH13S44",
         "('Electronics', 'Computers & Accessories', 'Computer Accessories & Peripherals', 'Cables & Accessories', 'Cables & Interconnects', 'USB Cables')",
         "R_1o76EOS42TBWhZ1",
         "COMPUTER_ADD_ON",
         "3.0"
        ]
       ],
       "shape": {
        "columns": 6,
        "rows": 1593075
       }
      },
      "text/html": [
       "<div>\n",
       "<style scoped>\n",
       "    .dataframe tbody tr th:only-of-type {\n",
       "        vertical-align: middle;\n",
       "    }\n",
       "\n",
       "    .dataframe tbody tr th {\n",
       "        vertical-align: top;\n",
       "    }\n",
       "\n",
       "    .dataframe thead th {\n",
       "        text-align: right;\n",
       "    }\n",
       "</style>\n",
       "<table border=\"1\" class=\"dataframe\">\n",
       "  <thead>\n",
       "    <tr style=\"text-align: right;\">\n",
       "      <th></th>\n",
       "      <th>Order Date</th>\n",
       "      <th>ASIN</th>\n",
       "      <th>Category</th>\n",
       "      <th>Survey ResponseID</th>\n",
       "      <th>Category_Origin</th>\n",
       "      <th>cluster</th>\n",
       "    </tr>\n",
       "  </thead>\n",
       "  <tbody>\n",
       "    <tr>\n",
       "      <th>0</th>\n",
       "      <td>2018-12-04</td>\n",
       "      <td>B0143RTB1E</td>\n",
       "      <td>(Electronics, Computers &amp; Accessories, Compute...</td>\n",
       "      <td>R_01vNIayewjIIKMF</td>\n",
       "      <td>FLASH_MEMORY</td>\n",
       "      <td>3.0</td>\n",
       "    </tr>\n",
       "    <tr>\n",
       "      <th>1</th>\n",
       "      <td>2018-04-22</td>\n",
       "      <td>B0143RTB1E</td>\n",
       "      <td>(Electronics, Computers &amp; Accessories, Compute...</td>\n",
       "      <td>R_1LYvldXrvEt6Cel</td>\n",
       "      <td>FLASH_MEMORY</td>\n",
       "      <td>3.0</td>\n",
       "    </tr>\n",
       "    <tr>\n",
       "      <th>2</th>\n",
       "      <td>2020-01-10</td>\n",
       "      <td>B0143RTB1E</td>\n",
       "      <td>(Electronics, Computers &amp; Accessories, Compute...</td>\n",
       "      <td>R_1QoPHtffEy2UzWJ</td>\n",
       "      <td>FLASH_MEMORY</td>\n",
       "      <td>3.0</td>\n",
       "    </tr>\n",
       "    <tr>\n",
       "      <th>3</th>\n",
       "      <td>2018-02-27</td>\n",
       "      <td>B0143RTB1E</td>\n",
       "      <td>(Electronics, Computers &amp; Accessories, Compute...</td>\n",
       "      <td>R_1q4eVtHN10S5gPB</td>\n",
       "      <td>FLASH_MEMORY</td>\n",
       "      <td>3.0</td>\n",
       "    </tr>\n",
       "    <tr>\n",
       "      <th>4</th>\n",
       "      <td>2018-10-06</td>\n",
       "      <td>B0143RTB1E</td>\n",
       "      <td>(Electronics, Computers &amp; Accessories, Compute...</td>\n",
       "      <td>R_1rpKvwP7VAtzJqH</td>\n",
       "      <td>FLASH_MEMORY</td>\n",
       "      <td>3.0</td>\n",
       "    </tr>\n",
       "    <tr>\n",
       "      <th>...</th>\n",
       "      <td>...</td>\n",
       "      <td>...</td>\n",
       "      <td>...</td>\n",
       "      <td>...</td>\n",
       "      <td>...</td>\n",
       "      <td>...</td>\n",
       "    </tr>\n",
       "    <tr>\n",
       "      <th>1593070</th>\n",
       "      <td>2019-06-04</td>\n",
       "      <td>0674362810</td>\n",
       "      <td>(Books, History, World, Religious, General)</td>\n",
       "      <td>R_zfqnsBzlOAKibzb</td>\n",
       "      <td>ABIS_BOOK</td>\n",
       "      <td>-1.0</td>\n",
       "    </tr>\n",
       "    <tr>\n",
       "      <th>1593071</th>\n",
       "      <td>2019-06-04</td>\n",
       "      <td>B0000Y7L7G</td>\n",
       "      <td>(Home &amp; Kitchen, Kitchen &amp; Dining, Kitchen Ute...</td>\n",
       "      <td>R_zfqnsBzlOAKibzb</td>\n",
       "      <td>BISS</td>\n",
       "      <td>-1.0</td>\n",
       "    </tr>\n",
       "    <tr>\n",
       "      <th>1593072</th>\n",
       "      <td>2019-09-30</td>\n",
       "      <td>0807057932</td>\n",
       "      <td>(Books, Politics &amp; Social Sciences, Philosophy...</td>\n",
       "      <td>R_zfqnsBzlOAKibzb</td>\n",
       "      <td>ABIS_BOOK</td>\n",
       "      <td>-1.0</td>\n",
       "    </tr>\n",
       "    <tr>\n",
       "      <th>1593073</th>\n",
       "      <td>2020-03-24</td>\n",
       "      <td>B085WXGMWG</td>\n",
       "      <td>(Electronics, Computers &amp; Accessories, Compute...</td>\n",
       "      <td>R_zfqnsBzlOAKibzb</td>\n",
       "      <td>CAMCORDER</td>\n",
       "      <td>3.0</td>\n",
       "    </tr>\n",
       "    <tr>\n",
       "      <th>1593074</th>\n",
       "      <td>2021-04-14</td>\n",
       "      <td>B00QGCXPRG</td>\n",
       "      <td>(Health &amp; Household, Household Supplies, Clean...</td>\n",
       "      <td>R_zfqnsBzlOAKibzb</td>\n",
       "      <td>TOWEL</td>\n",
       "      <td>3.0</td>\n",
       "    </tr>\n",
       "  </tbody>\n",
       "</table>\n",
       "<p>1593075 rows × 6 columns</p>\n",
       "</div>"
      ],
      "text/plain": [
       "        Order Date        ASIN  \\\n",
       "0       2018-12-04  B0143RTB1E   \n",
       "1       2018-04-22  B0143RTB1E   \n",
       "2       2020-01-10  B0143RTB1E   \n",
       "3       2018-02-27  B0143RTB1E   \n",
       "4       2018-10-06  B0143RTB1E   \n",
       "...            ...         ...   \n",
       "1593070 2019-06-04  0674362810   \n",
       "1593071 2019-06-04  B0000Y7L7G   \n",
       "1593072 2019-09-30  0807057932   \n",
       "1593073 2020-03-24  B085WXGMWG   \n",
       "1593074 2021-04-14  B00QGCXPRG   \n",
       "\n",
       "                                                  Category  Survey ResponseID  \\\n",
       "0        (Electronics, Computers & Accessories, Compute...  R_01vNIayewjIIKMF   \n",
       "1        (Electronics, Computers & Accessories, Compute...  R_1LYvldXrvEt6Cel   \n",
       "2        (Electronics, Computers & Accessories, Compute...  R_1QoPHtffEy2UzWJ   \n",
       "3        (Electronics, Computers & Accessories, Compute...  R_1q4eVtHN10S5gPB   \n",
       "4        (Electronics, Computers & Accessories, Compute...  R_1rpKvwP7VAtzJqH   \n",
       "...                                                    ...                ...   \n",
       "1593070        (Books, History, World, Religious, General)  R_zfqnsBzlOAKibzb   \n",
       "1593071  (Home & Kitchen, Kitchen & Dining, Kitchen Ute...  R_zfqnsBzlOAKibzb   \n",
       "1593072  (Books, Politics & Social Sciences, Philosophy...  R_zfqnsBzlOAKibzb   \n",
       "1593073  (Electronics, Computers & Accessories, Compute...  R_zfqnsBzlOAKibzb   \n",
       "1593074  (Health & Household, Household Supplies, Clean...  R_zfqnsBzlOAKibzb   \n",
       "\n",
       "        Category_Origin  cluster  \n",
       "0          FLASH_MEMORY      3.0  \n",
       "1          FLASH_MEMORY      3.0  \n",
       "2          FLASH_MEMORY      3.0  \n",
       "3          FLASH_MEMORY      3.0  \n",
       "4          FLASH_MEMORY      3.0  \n",
       "...                 ...      ...  \n",
       "1593070       ABIS_BOOK     -1.0  \n",
       "1593071            BISS     -1.0  \n",
       "1593072       ABIS_BOOK     -1.0  \n",
       "1593073       CAMCORDER      3.0  \n",
       "1593074           TOWEL      3.0  \n",
       "\n",
       "[1593075 rows x 6 columns]"
      ]
     },
     "execution_count": 168,
     "metadata": {},
     "output_type": "execute_result"
    }
   ],
   "source": [
    "# Category 기준으로 cluster 정보 병합\n",
    "df_cluster = df.merge(\n",
    "    cycle_stats[['Category', 'cluster']],\n",
    "    on='Category',\n",
    "    how='left'\n",
    ")\n",
    "df_cluster['cluster'] = df_cluster['cluster'].fillna(-1)\n",
    "df_cluster"
   ]
  },
  {
   "cell_type": "code",
   "execution_count": 157,
   "id": "92816351",
   "metadata": {},
   "outputs": [
    {
     "data": {
      "application/vnd.microsoft.datawrangler.viewer.v0+json": {
       "columns": [
        {
         "name": "cluster",
         "rawType": "float64",
         "type": "float"
        },
        {
         "name": "count",
         "rawType": "int64",
         "type": "integer"
        }
       ],
       "ref": "05298d65-84e5-4e69-9d41-bc3f4aaf18a6",
       "rows": [
        [
         "2.0",
         "424227"
        ],
        [
         "-1.0",
         "413457"
        ],
        [
         "3.0",
         "377589"
        ],
        [
         "0.0",
         "160727"
        ],
        [
         "4.0",
         "150726"
        ],
        [
         "1.0",
         "66349"
        ]
       ],
       "shape": {
        "columns": 1,
        "rows": 6
       }
      },
      "text/plain": [
       "cluster\n",
       " 2.0    424227\n",
       "-1.0    413457\n",
       " 3.0    377589\n",
       " 0.0    160727\n",
       " 4.0    150726\n",
       " 1.0     66349\n",
       "Name: count, dtype: int64"
      ]
     },
     "execution_count": 157,
     "metadata": {},
     "output_type": "execute_result"
    }
   ],
   "source": [
    "df_cluster['cluster'].value_counts()"
   ]
  },
  {
   "cell_type": "code",
   "execution_count": 170,
   "id": "fe643f9a",
   "metadata": {},
   "outputs": [
    {
     "data": {
      "application/vnd.microsoft.datawrangler.viewer.v0+json": {
       "columns": [
        {
         "name": "index",
         "rawType": "int64",
         "type": "integer"
        },
        {
         "name": "Category_Origin",
         "rawType": "object",
         "type": "string"
        },
        {
         "name": "cluster",
         "rawType": "float64",
         "type": "float"
        },
        {
         "name": "count",
         "rawType": "int64",
         "type": "integer"
        },
        {
         "name": "total",
         "rawType": "int64",
         "type": "integer"
        },
        {
         "name": "ratio",
         "rawType": "float64",
         "type": "float"
        }
       ],
       "ref": "5b906a58-4d08-4de0-a77b-48aa0d3f7b2e",
       "rows": [
        [
         "0",
         "3D_PRINTER",
         "4.0",
         "70",
         "102",
         "0.686"
        ],
        [
         "1",
         "ABDOMINAL_EXERCISER",
         "2.0",
         "8",
         "13",
         "0.615"
        ],
        [
         "2",
         "ABIS_APPAREL",
         "4.0",
         "3",
         "3",
         "1.0"
        ],
        [
         "3",
         "ABIS_BABY_PRODUCT",
         "4.0",
         "1",
         "1",
         "1.0"
        ],
        [
         "4",
         "ABIS_BEAUTY",
         "3.0",
         "3",
         "3",
         "1.0"
        ],
        [
         "5",
         "ABIS_BOOK",
         "2.0",
         "13477",
         "29830",
         "0.452"
        ],
        [
         "6",
         "ABIS_DOWNLOADABLE_SOFTWARE",
         "3.0",
         "14",
         "14",
         "1.0"
        ],
        [
         "7",
         "ABIS_DRUGSTORE",
         "3.0",
         "21",
         "33",
         "0.636"
        ],
        [
         "8",
         "ABIS_DVD",
         "2.0",
         "551",
         "857",
         "0.643"
        ],
        [
         "9",
         "ABIS_ELECTRONICS",
         "4.0",
         "3",
         "4",
         "0.75"
        ],
        [
         "10",
         "ABIS_GIFT_CARD",
         "2.0",
         "5349",
         "5354",
         "0.999"
        ],
        [
         "11",
         "ABIS_HOME",
         "2.0",
         "5",
         "9",
         "0.556"
        ],
        [
         "12",
         "ABIS_HOME_IMPROVEMENT",
         "0.0",
         "4",
         "6",
         "0.667"
        ],
        [
         "13",
         "ABIS_KITCHEN",
         "4.0",
         "14",
         "18",
         "0.778"
        ],
        [
         "14",
         "ABIS_LAWN_AND_GARDEN",
         "2.0",
         "5",
         "15",
         "0.333"
        ],
        [
         "15",
         "ABIS_MUSIC",
         "3.0",
         "1185",
         "2536",
         "0.467"
        ],
        [
         "16",
         "ABIS_OFFICE_PRODUCT",
         "2.0",
         "1",
         "2",
         "0.5"
        ],
        [
         "17",
         "ABIS_PC",
         "2.0",
         "2",
         "4",
         "0.5"
        ],
        [
         "18",
         "ABIS_PET_PRODUCTS",
         "3.0",
         "2",
         "2",
         "1.0"
        ],
        [
         "19",
         "ABIS_SPORTS",
         "3.0",
         "16",
         "16",
         "1.0"
        ],
        [
         "20",
         "ABIS_TOY",
         "3.0",
         "1",
         "1",
         "1.0"
        ],
        [
         "21",
         "ABIS_VIDEO",
         "0.0",
         "1",
         "1",
         "1.0"
        ],
        [
         "22",
         "ABIS_VIDEO_GAMES",
         "3.0",
         "16",
         "27",
         "0.593"
        ],
        [
         "23",
         "ABIS_WIRELESS",
         "1.0",
         "1",
         "2",
         "0.5"
        ],
        [
         "24",
         "ABRASIVES",
         "4.0",
         "27",
         "60",
         "0.45"
        ],
        [
         "25",
         "ABRASIVE_BRUSH",
         "1.0",
         "6",
         "6",
         "1.0"
        ],
        [
         "26",
         "ABRASIVE_DISCS",
         "2.0",
         "3",
         "3",
         "1.0"
        ],
        [
         "27",
         "ABRASIVE_SHEETS",
         "4.0",
         "245",
         "283",
         "0.866"
        ],
        [
         "28",
         "ABRASIVE_WHEELS",
         "2.0",
         "50",
         "54",
         "0.926"
        ],
        [
         "29",
         "ACCESSORY",
         "3.0",
         "86",
         "224",
         "0.384"
        ],
        [
         "30",
         "ACCESSORY_OR_PART_OR_SUPPLY",
         "3.0",
         "88",
         "123",
         "0.715"
        ],
        [
         "31",
         "ADHESIVES_AND_SEALANTS",
         "2.0",
         "7",
         "16",
         "0.438"
        ],
        [
         "32",
         "ADHESIVE_TAPES",
         "3.0",
         "1734",
         "3542",
         "0.49"
        ],
        [
         "33",
         "ADULT_COSTUME",
         "4.0",
         "12",
         "22",
         "0.545"
        ],
        [
         "34",
         "ADVENT_CALENDAR",
         "2.0",
         "246",
         "292",
         "0.842"
        ],
        [
         "35",
         "AIMING_SCOPE_SIGHT",
         "2.0",
         "18",
         "22",
         "0.818"
        ],
        [
         "36",
         "AIR_COMPRESSOR",
         "3.0",
         "8",
         "9",
         "0.889"
        ],
        [
         "37",
         "AIR_CONDITIONER",
         "4.0",
         "10",
         "19",
         "0.526"
        ],
        [
         "38",
         "AIR_COOLER",
         "2.0",
         "2",
         "4",
         "0.5"
        ],
        [
         "39",
         "AIR_FRYER",
         "0.0",
         "352",
         "354",
         "0.994"
        ],
        [
         "40",
         "AIR_GUN",
         "2.0",
         "5",
         "8",
         "0.625"
        ],
        [
         "41",
         "AIR_GUN_PROJECTILE",
         "4.0",
         "3",
         "5",
         "0.6"
        ],
        [
         "42",
         "AIR_MATTRESS",
         "1.0",
         "112",
         "120",
         "0.933"
        ],
        [
         "43",
         "AIR_PUMP",
         "0.0",
         "110",
         "170",
         "0.647"
        ],
        [
         "44",
         "AIR_PURIFIER",
         "3.0",
         "737",
         "752",
         "0.98"
        ],
        [
         "45",
         "ALARM",
         "0.0",
         "7",
         "13",
         "0.538"
        ],
        [
         "46",
         "ALCOHOLIC_BEVERAGE",
         "3.0",
         "8",
         "10",
         "0.8"
        ],
        [
         "47",
         "AMAZON_BOOK_READER_ACCESSORY",
         "4.0",
         "203",
         "206",
         "0.985"
        ],
        [
         "48",
         "AMAZON_TABLET_ACCESSORY",
         "3.0",
         "173",
         "175",
         "0.989"
        ],
        [
         "49",
         "ANCHOR_STAKE",
         "0.0",
         "288",
         "329",
         "0.875"
        ]
       ],
       "shape": {
        "columns": 5,
        "rows": 1567
       }
      },
      "text/html": [
       "<div>\n",
       "<style scoped>\n",
       "    .dataframe tbody tr th:only-of-type {\n",
       "        vertical-align: middle;\n",
       "    }\n",
       "\n",
       "    .dataframe tbody tr th {\n",
       "        vertical-align: top;\n",
       "    }\n",
       "\n",
       "    .dataframe thead th {\n",
       "        text-align: right;\n",
       "    }\n",
       "</style>\n",
       "<table border=\"1\" class=\"dataframe\">\n",
       "  <thead>\n",
       "    <tr style=\"text-align: right;\">\n",
       "      <th></th>\n",
       "      <th>Category_Origin</th>\n",
       "      <th>cluster</th>\n",
       "      <th>count</th>\n",
       "      <th>total</th>\n",
       "      <th>ratio</th>\n",
       "    </tr>\n",
       "  </thead>\n",
       "  <tbody>\n",
       "    <tr>\n",
       "      <th>0</th>\n",
       "      <td>3D_PRINTER</td>\n",
       "      <td>4.0</td>\n",
       "      <td>70</td>\n",
       "      <td>102</td>\n",
       "      <td>0.686</td>\n",
       "    </tr>\n",
       "    <tr>\n",
       "      <th>1</th>\n",
       "      <td>ABDOMINAL_EXERCISER</td>\n",
       "      <td>2.0</td>\n",
       "      <td>8</td>\n",
       "      <td>13</td>\n",
       "      <td>0.615</td>\n",
       "    </tr>\n",
       "    <tr>\n",
       "      <th>2</th>\n",
       "      <td>ABIS_APPAREL</td>\n",
       "      <td>4.0</td>\n",
       "      <td>3</td>\n",
       "      <td>3</td>\n",
       "      <td>1.000</td>\n",
       "    </tr>\n",
       "    <tr>\n",
       "      <th>3</th>\n",
       "      <td>ABIS_BABY_PRODUCT</td>\n",
       "      <td>4.0</td>\n",
       "      <td>1</td>\n",
       "      <td>1</td>\n",
       "      <td>1.000</td>\n",
       "    </tr>\n",
       "    <tr>\n",
       "      <th>4</th>\n",
       "      <td>ABIS_BEAUTY</td>\n",
       "      <td>3.0</td>\n",
       "      <td>3</td>\n",
       "      <td>3</td>\n",
       "      <td>1.000</td>\n",
       "    </tr>\n",
       "    <tr>\n",
       "      <th>...</th>\n",
       "      <td>...</td>\n",
       "      <td>...</td>\n",
       "      <td>...</td>\n",
       "      <td>...</td>\n",
       "      <td>...</td>\n",
       "    </tr>\n",
       "    <tr>\n",
       "      <th>1562</th>\n",
       "      <td>WRITING_PAPER</td>\n",
       "      <td>3.0</td>\n",
       "      <td>95</td>\n",
       "      <td>120</td>\n",
       "      <td>0.792</td>\n",
       "    </tr>\n",
       "    <tr>\n",
       "      <th>1563</th>\n",
       "      <td>Wireless Phone Accessory</td>\n",
       "      <td>3.0</td>\n",
       "      <td>1</td>\n",
       "      <td>1</td>\n",
       "      <td>1.000</td>\n",
       "    </tr>\n",
       "    <tr>\n",
       "      <th>1564</th>\n",
       "      <td>YARN</td>\n",
       "      <td>4.0</td>\n",
       "      <td>1089</td>\n",
       "      <td>1115</td>\n",
       "      <td>0.977</td>\n",
       "    </tr>\n",
       "    <tr>\n",
       "      <th>1565</th>\n",
       "      <td>YO_YO</td>\n",
       "      <td>3.0</td>\n",
       "      <td>1</td>\n",
       "      <td>1</td>\n",
       "      <td>1.000</td>\n",
       "    </tr>\n",
       "    <tr>\n",
       "      <th>1566</th>\n",
       "      <td>ZIPPER_FASTENER</td>\n",
       "      <td>4.0</td>\n",
       "      <td>114</td>\n",
       "      <td>114</td>\n",
       "      <td>1.000</td>\n",
       "    </tr>\n",
       "  </tbody>\n",
       "</table>\n",
       "<p>1567 rows × 5 columns</p>\n",
       "</div>"
      ],
      "text/plain": [
       "               Category_Origin  cluster  count  total  ratio\n",
       "0                   3D_PRINTER      4.0     70    102  0.686\n",
       "1          ABDOMINAL_EXERCISER      2.0      8     13  0.615\n",
       "2                 ABIS_APPAREL      4.0      3      3  1.000\n",
       "3            ABIS_BABY_PRODUCT      4.0      1      1  1.000\n",
       "4                  ABIS_BEAUTY      3.0      3      3  1.000\n",
       "...                        ...      ...    ...    ...    ...\n",
       "1562             WRITING_PAPER      3.0     95    120  0.792\n",
       "1563  Wireless Phone Accessory      3.0      1      1  1.000\n",
       "1564                      YARN      4.0   1089   1115  0.977\n",
       "1565                     YO_YO      3.0      1      1  1.000\n",
       "1566           ZIPPER_FASTENER      4.0    114    114  1.000\n",
       "\n",
       "[1567 rows x 5 columns]"
      ]
     },
     "execution_count": 170,
     "metadata": {},
     "output_type": "execute_result"
    }
   ],
   "source": [
    "# 1. cluster가 -1인 행 필터링\n",
    "df_valid = df_cluster[df_cluster['cluster'] != -1]\n",
    "\n",
    "# 2. Category_Origin과 cluster별 count 계산\n",
    "count_df = (\n",
    "    df_valid\n",
    "    .groupby(['Category_Origin', 'cluster'])\n",
    "    .size()\n",
    "    .reset_index(name='count')\n",
    ")\n",
    "\n",
    "# 3. Category_Origin별 전체 개수 (분모)\n",
    "count_df['total'] = count_df.groupby('Category_Origin')['count'].transform('sum')\n",
    "\n",
    "# 4. 비율 계산\n",
    "count_df['ratio'] = count_df['count'] / count_df['total']\n",
    "\n",
    "# 5. 각 Category_Origin에서 비율이 가장 높은 cluster 선택\n",
    "top_cluster_by_origin = (\n",
    "    count_df\n",
    "    .sort_values(['Category_Origin', 'ratio'], ascending=[True, False])\n",
    "    .drop_duplicates('Category_Origin')\n",
    "    .reset_index(drop=True)\n",
    ")\n",
    "\n",
    "# 6. 보기 좋게 정리\n",
    "top_cluster_by_origin = top_cluster_by_origin[['Category_Origin', 'cluster', 'count', 'total', 'ratio']]\n",
    "top_cluster_by_origin['ratio'] = top_cluster_by_origin['ratio'].round(3)\n",
    "top_cluster_by_origin\n"
   ]
  },
  {
   "cell_type": "code",
   "execution_count": 171,
   "id": "2a260055",
   "metadata": {},
   "outputs": [],
   "source": [
    "# 0. lower_95CI가 가장 낮은 cluster 구하기\n",
    "default_cluster = cycle_stats.groupby('cluster')['lower_95CI'].first().idxmin()\n",
    "\n",
    "# 1. 대표 cluster가 신뢰할만한 경우만 선택 (ratio ≥ 0.5)\n",
    "replace_map = top_cluster_by_origin[top_cluster_by_origin['ratio'] >= 0.5][['Category_Origin', 'cluster']]\n",
    "replace_map = replace_map.rename(columns={'cluster': 'replacement_cluster'})\n",
    "\n",
    "# 2. cluster == -1인 행만 필터링\n",
    "mask_unknown = df_cluster['cluster'] == -1\n",
    "df_unknown = df_cluster[mask_unknown].copy()\n",
    "\n",
    "# 3. Category_Origin 기준으로 대체값 merge\n",
    "df_unknown = df_unknown.merge(replace_map, on='Category_Origin', how='left')\n",
    "\n",
    "# 4. replacement_cluster 존재 여부에 따라 대체 or default\n",
    "df_cluster.loc[mask_unknown, 'cluster'] = df_unknown['replacement_cluster'].fillna(default_cluster).values"
   ]
  },
  {
   "cell_type": "code",
   "execution_count": 172,
   "id": "cd9eb6f1",
   "metadata": {},
   "outputs": [
    {
     "data": {
      "application/vnd.microsoft.datawrangler.viewer.v0+json": {
       "columns": [
        {
         "name": "index",
         "rawType": "object",
         "type": "string"
        },
        {
         "name": "0",
         "rawType": "int64",
         "type": "integer"
        }
       ],
       "ref": "4ad09a75-df94-42bf-bf8a-445a27e6f8e6",
       "rows": [
        [
         "Order Date",
         "0"
        ],
        [
         "ASIN",
         "0"
        ],
        [
         "Category",
         "0"
        ],
        [
         "Survey ResponseID",
         "0"
        ],
        [
         "Category_Origin",
         "507"
        ],
        [
         "cluster",
         "0"
        ]
       ],
       "shape": {
        "columns": 1,
        "rows": 6
       }
      },
      "text/plain": [
       "Order Date             0\n",
       "ASIN                   0\n",
       "Category               0\n",
       "Survey ResponseID      0\n",
       "Category_Origin      507\n",
       "cluster                0\n",
       "dtype: int64"
      ]
     },
     "execution_count": 172,
     "metadata": {},
     "output_type": "execute_result"
    }
   ],
   "source": [
    "df_cluster.isnull().sum()"
   ]
  },
  {
   "cell_type": "code",
   "execution_count": 177,
   "id": "6b9dddda",
   "metadata": {},
   "outputs": [
    {
     "data": {
      "application/vnd.microsoft.datawrangler.viewer.v0+json": {
       "columns": [
        {
         "name": "index",
         "rawType": "int64",
         "type": "integer"
        },
        {
         "name": "Order Date",
         "rawType": "datetime64[ns]",
         "type": "datetime"
        },
        {
         "name": "ASIN",
         "rawType": "object",
         "type": "string"
        },
        {
         "name": "Category",
         "rawType": "object",
         "type": "unknown"
        },
        {
         "name": "Survey ResponseID",
         "rawType": "object",
         "type": "string"
        },
        {
         "name": "Category_Origin",
         "rawType": "object",
         "type": "unknown"
        },
        {
         "name": "cluster",
         "rawType": "float64",
         "type": "float"
        },
        {
         "name": "lower_95CI",
         "rawType": "float64",
         "type": "float"
        }
       ],
       "ref": "719e94c6-784d-4ab7-b108-93fac62f5889",
       "rows": [
        [
         "0",
         "2018-12-04 00:00:00",
         "B0143RTB1E",
         "('Electronics', 'Computers & Accessories', 'Computer Accessories & Peripherals', 'Memory Cards', 'SD Cards')",
         "R_01vNIayewjIIKMF",
         "FLASH_MEMORY",
         "3.0",
         "127.32"
        ],
        [
         "1",
         "2018-04-22 00:00:00",
         "B0143RTB1E",
         "('Electronics', 'Computers & Accessories', 'Computer Accessories & Peripherals', 'Memory Cards', 'SD Cards')",
         "R_1LYvldXrvEt6Cel",
         "FLASH_MEMORY",
         "3.0",
         "127.32"
        ],
        [
         "2",
         "2020-01-10 00:00:00",
         "B0143RTB1E",
         "('Electronics', 'Computers & Accessories', 'Computer Accessories & Peripherals', 'Memory Cards', 'SD Cards')",
         "R_1QoPHtffEy2UzWJ",
         "FLASH_MEMORY",
         "3.0",
         "127.32"
        ],
        [
         "3",
         "2018-02-27 00:00:00",
         "B0143RTB1E",
         "('Electronics', 'Computers & Accessories', 'Computer Accessories & Peripherals', 'Memory Cards', 'SD Cards')",
         "R_1q4eVtHN10S5gPB",
         "FLASH_MEMORY",
         "3.0",
         "127.32"
        ],
        [
         "4",
         "2018-10-06 00:00:00",
         "B0143RTB1E",
         "('Electronics', 'Computers & Accessories', 'Computer Accessories & Peripherals', 'Memory Cards', 'SD Cards')",
         "R_1rpKvwP7VAtzJqH",
         "FLASH_MEMORY",
         "3.0",
         "127.32"
        ],
        [
         "5",
         "2018-08-25 00:00:00",
         "B0143RTB1E",
         "('Electronics', 'Computers & Accessories', 'Computer Accessories & Peripherals', 'Memory Cards', 'SD Cards')",
         "R_2V7HVsDu8mbPFDf",
         "FLASH_MEMORY",
         "3.0",
         "127.32"
        ],
        [
         "6",
         "2019-03-13 00:00:00",
         "B0143RTB1E",
         "('Electronics', 'Computers & Accessories', 'Computer Accessories & Peripherals', 'Memory Cards', 'SD Cards')",
         "R_2XpoQZjmJ9BOKQR",
         "FLASH_MEMORY",
         "3.0",
         "127.32"
        ],
        [
         "7",
         "2018-01-22 00:00:00",
         "B0143RTB1E",
         "('Electronics', 'Computers & Accessories', 'Computer Accessories & Peripherals', 'Memory Cards', 'SD Cards')",
         "R_2z6LiVVvQldVrWh",
         "FLASH_MEMORY",
         "3.0",
         "127.32"
        ],
        [
         "8",
         "2019-07-14 00:00:00",
         "B0143RTB1E",
         "('Electronics', 'Computers & Accessories', 'Computer Accessories & Peripherals', 'Memory Cards', 'SD Cards')",
         "R_O6ZX76mggPnAOfD",
         "FLASH_MEMORY",
         "3.0",
         "127.32"
        ],
        [
         "9",
         "2018-12-22 00:00:00",
         "B01MA1MJ6H",
         "('Electronics', 'Headphones, Earbuds & Accessories', 'Headphones & Earbuds', 'Earbud Headphones')",
         "R_01vNIayewjIIKMF",
         "HEADPHONES",
         "3.0",
         "127.32"
        ],
        [
         "10",
         "2019-05-16 00:00:00",
         "B01MA1MJ6H",
         "('Electronics', 'Headphones, Earbuds & Accessories', 'Headphones & Earbuds', 'Earbud Headphones')",
         "R_01vNIayewjIIKMF",
         "HEADPHONES",
         "3.0",
         "127.32"
        ],
        [
         "11",
         "2019-06-25 00:00:00",
         "B01MA1MJ6H",
         "('Electronics', 'Headphones, Earbuds & Accessories', 'Headphones & Earbuds', 'Earbud Headphones')",
         "R_01vNIayewjIIKMF",
         "HEADPHONES",
         "3.0",
         "127.32"
        ],
        [
         "12",
         "2019-12-20 00:00:00",
         "B01MA1MJ6H",
         "('Electronics', 'Headphones, Earbuds & Accessories', 'Headphones & Earbuds', 'Earbud Headphones')",
         "R_01vNIayewjIIKMF",
         "HEADPHONES",
         "3.0",
         "127.32"
        ],
        [
         "13",
         "2020-04-15 00:00:00",
         "B01MA1MJ6H",
         "('Electronics', 'Headphones, Earbuds & Accessories', 'Headphones & Earbuds', 'Earbud Headphones')",
         "R_01vNIayewjIIKMF",
         "HEADPHONES",
         "3.0",
         "127.32"
        ],
        [
         "14",
         "2020-05-21 00:00:00",
         "B01MA1MJ6H",
         "('Electronics', 'Headphones, Earbuds & Accessories', 'Headphones & Earbuds', 'Earbud Headphones')",
         "R_01vNIayewjIIKMF",
         "HEADPHONES",
         "3.0",
         "127.32"
        ],
        [
         "15",
         "2021-02-12 00:00:00",
         "B01MA1MJ6H",
         "('Electronics', 'Headphones, Earbuds & Accessories', 'Headphones & Earbuds', 'Earbud Headphones')",
         "R_01vNIayewjIIKMF",
         "HEADPHONES",
         "3.0",
         "127.32"
        ],
        [
         "16",
         "2021-05-31 00:00:00",
         "B01MA1MJ6H",
         "('Electronics', 'Headphones, Earbuds & Accessories', 'Headphones & Earbuds', 'Earbud Headphones')",
         "R_01vNIayewjIIKMF",
         "HEADPHONES",
         "3.0",
         "127.32"
        ],
        [
         "17",
         "2022-05-26 00:00:00",
         "B01MA1MJ6H",
         "('Electronics', 'Headphones, Earbuds & Accessories', 'Headphones & Earbuds', 'Earbud Headphones')",
         "R_01vNIayewjIIKMF",
         "HEADPHONES",
         "3.0",
         "127.32"
        ],
        [
         "18",
         "2020-03-01 00:00:00",
         "B01MA1MJ6H",
         "('Electronics', 'Headphones, Earbuds & Accessories', 'Headphones & Earbuds', 'Earbud Headphones')",
         "R_129jUlsvVcVBDur",
         "HEADPHONES",
         "3.0",
         "127.32"
        ],
        [
         "19",
         "2020-08-22 00:00:00",
         "B01MA1MJ6H",
         "('Electronics', 'Headphones, Earbuds & Accessories', 'Headphones & Earbuds', 'Earbud Headphones')",
         "R_129jUlsvVcVBDur",
         "HEADPHONES",
         "3.0",
         "127.32"
        ],
        [
         "20",
         "2021-02-08 00:00:00",
         "B01MA1MJ6H",
         "('Electronics', 'Headphones, Earbuds & Accessories', 'Headphones & Earbuds', 'Earbud Headphones')",
         "R_129jUlsvVcVBDur",
         "HEADPHONES",
         "3.0",
         "127.32"
        ],
        [
         "21",
         "2021-05-30 00:00:00",
         "B01MA1MJ6H",
         "('Electronics', 'Headphones, Earbuds & Accessories', 'Headphones & Earbuds', 'Earbud Headphones')",
         "R_1eDabE58dk65Lyy",
         "HEADPHONES",
         "3.0",
         "127.32"
        ],
        [
         "22",
         "2019-06-04 00:00:00",
         "B01MA1MJ6H",
         "('Electronics', 'Headphones, Earbuds & Accessories', 'Headphones & Earbuds', 'Earbud Headphones')",
         "R_25SbPPTyE45YzXP",
         "HEADPHONES",
         "3.0",
         "127.32"
        ],
        [
         "23",
         "2020-06-15 00:00:00",
         "B01MA1MJ6H",
         "('Electronics', 'Headphones, Earbuds & Accessories', 'Headphones & Earbuds', 'Earbud Headphones')",
         "R_2SiVXI2QZ5GDasH",
         "HEADPHONES",
         "3.0",
         "127.32"
        ],
        [
         "24",
         "2020-11-20 00:00:00",
         "B01MA1MJ6H",
         "('Electronics', 'Headphones, Earbuds & Accessories', 'Headphones & Earbuds', 'Earbud Headphones')",
         "R_2tajYnRL3lW3Bri",
         "HEADPHONES",
         "3.0",
         "127.32"
        ],
        [
         "25",
         "2021-02-20 00:00:00",
         "B01MA1MJ6H",
         "('Electronics', 'Headphones, Earbuds & Accessories', 'Headphones & Earbuds', 'Earbud Headphones')",
         "R_2tajYnRL3lW3Bri",
         "HEADPHONES",
         "3.0",
         "127.32"
        ],
        [
         "26",
         "2019-03-03 00:00:00",
         "B01MA1MJ6H",
         "('Electronics', 'Headphones, Earbuds & Accessories', 'Headphones & Earbuds', 'Earbud Headphones')",
         "R_3KI0Q5yJYxm1woD",
         "HEADPHONES",
         "3.0",
         "127.32"
        ],
        [
         "27",
         "2020-11-23 00:00:00",
         "B01MA1MJ6H",
         "('Electronics', 'Headphones, Earbuds & Accessories', 'Headphones & Earbuds', 'Earbud Headphones')",
         "R_3nJBlarikgnKpF2",
         "HEADPHONES",
         "3.0",
         "127.32"
        ],
        [
         "28",
         "2020-01-30 00:00:00",
         "B01MA1MJ6H",
         "('Electronics', 'Headphones, Earbuds & Accessories', 'Headphones & Earbuds', 'Earbud Headphones')",
         "R_3p4tQBL8E8GkXCI",
         "HEADPHONES",
         "3.0",
         "127.32"
        ],
        [
         "29",
         "2022-09-13 00:00:00",
         "B01MA1MJ6H",
         "('Electronics', 'Headphones, Earbuds & Accessories', 'Headphones & Earbuds', 'Earbud Headphones')",
         "R_RekNI4I8FXKS9lT",
         "HEADPHONES",
         "3.0",
         "127.32"
        ],
        [
         "30",
         "2022-03-03 00:00:00",
         "B01MA1MJ6H",
         "('Electronics', 'Headphones, Earbuds & Accessories', 'Headphones & Earbuds', 'Earbud Headphones')",
         "R_xayV525B1zHdFG9",
         "HEADPHONES",
         "3.0",
         "127.32"
        ],
        [
         "31",
         "2022-07-12 00:00:00",
         "B01MA1MJ6H",
         "('Electronics', 'Headphones, Earbuds & Accessories', 'Headphones & Earbuds', 'Earbud Headphones')",
         "R_xayV525B1zHdFG9",
         "HEADPHONES",
         "3.0",
         "127.32"
        ],
        [
         "32",
         "2019-02-18 00:00:00",
         "B01GFB2E9M",
         "('Electronics', 'Computers & Accessories', 'Computer Accessories & Peripherals', 'Cables & Accessories', 'Cables & Interconnects', 'USB Cables')",
         "R_01vNIayewjIIKMF",
         "COMPUTER_PROCESSOR",
         "3.0",
         "127.32"
        ],
        [
         "33",
         "2018-03-14 00:00:00",
         "B01GFB2E9M",
         "('Electronics', 'Computers & Accessories', 'Computer Accessories & Peripherals', 'Cables & Accessories', 'Cables & Interconnects', 'USB Cables')",
         "R_1LUaD6cuon5njXD",
         "COMPUTER_PROCESSOR",
         "3.0",
         "127.32"
        ],
        [
         "34",
         "2021-05-03 00:00:00",
         "B01GFB2E9M",
         "('Electronics', 'Computers & Accessories', 'Computer Accessories & Peripherals', 'Cables & Accessories', 'Cables & Interconnects', 'USB Cables')",
         "R_1mC1GkAuzW7JKI5",
         "COMPUTER_PROCESSOR",
         "3.0",
         "127.32"
        ],
        [
         "35",
         "2018-06-06 00:00:00",
         "B01GFB2E9M",
         "('Electronics', 'Computers & Accessories', 'Computer Accessories & Peripherals', 'Cables & Accessories', 'Cables & Interconnects', 'USB Cables')",
         "R_3O1i61TeOWPvr69",
         "COMPUTER_PROCESSOR",
         "3.0",
         "127.32"
        ],
        [
         "36",
         "2020-01-28 00:00:00",
         "B01GFB2E9M",
         "('Electronics', 'Computers & Accessories', 'Computer Accessories & Peripherals', 'Cables & Accessories', 'Cables & Interconnects', 'USB Cables')",
         "R_blmQEhOrCwpqG4x",
         "COMPUTER_PROCESSOR",
         "3.0",
         "127.32"
        ],
        [
         "37",
         "2019-02-18 00:00:00",
         "B00NH13S44",
         "('Electronics', 'Computers & Accessories', 'Computer Accessories & Peripherals', 'Cables & Accessories', 'Cables & Interconnects', 'USB Cables')",
         "R_01vNIayewjIIKMF",
         "COMPUTER_ADD_ON",
         "3.0",
         "127.32"
        ],
        [
         "38",
         "2019-05-16 00:00:00",
         "B00NH13S44",
         "('Electronics', 'Computers & Accessories', 'Computer Accessories & Peripherals', 'Cables & Accessories', 'Cables & Interconnects', 'USB Cables')",
         "R_1It3uPOCs8UZVMn",
         "COMPUTER_ADD_ON",
         "3.0",
         "127.32"
        ],
        [
         "39",
         "2022-11-06 00:00:00",
         "B00NH13S44",
         "('Electronics', 'Computers & Accessories', 'Computer Accessories & Peripherals', 'Cables & Accessories', 'Cables & Interconnects', 'USB Cables')",
         "R_1gSeKWi6I0848rp",
         "COMPUTER_ADD_ON",
         "3.0",
         "127.32"
        ],
        [
         "40",
         "2020-08-27 00:00:00",
         "B00NH13S44",
         "('Electronics', 'Computers & Accessories', 'Computer Accessories & Peripherals', 'Cables & Accessories', 'Cables & Interconnects', 'USB Cables')",
         "R_1k1zPs6FKsqm1Ib",
         "COMPUTER_ADD_ON",
         "3.0",
         "127.32"
        ],
        [
         "41",
         "2018-04-16 00:00:00",
         "B00NH13S44",
         "('Electronics', 'Computers & Accessories', 'Computer Accessories & Peripherals', 'Cables & Accessories', 'Cables & Interconnects', 'USB Cables')",
         "R_1kMSPTD9ssCD0Qg",
         "COMPUTER_ADD_ON",
         "3.0",
         "127.32"
        ],
        [
         "42",
         "2022-08-29 00:00:00",
         "B00NH13S44",
         "('Electronics', 'Computers & Accessories', 'Computer Accessories & Peripherals', 'Cables & Accessories', 'Cables & Interconnects', 'USB Cables')",
         "R_1o76EOS42TBWhZ1",
         "COMPUTER_ADD_ON",
         "3.0",
         "127.32"
        ],
        [
         "43",
         "2020-11-21 00:00:00",
         "B00NH13S44",
         "('Electronics', 'Computers & Accessories', 'Computer Accessories & Peripherals', 'Cables & Accessories', 'Cables & Interconnects', 'USB Cables')",
         "R_1rr9XOz2pHFyWi3",
         "COMPUTER_ADD_ON",
         "3.0",
         "127.32"
        ],
        [
         "44",
         "2020-11-07 00:00:00",
         "B00NH13S44",
         "('Electronics', 'Computers & Accessories', 'Computer Accessories & Peripherals', 'Cables & Accessories', 'Cables & Interconnects', 'USB Cables')",
         "R_20MRqdCxs3CJOBI",
         "COMPUTER_ADD_ON",
         "3.0",
         "127.32"
        ],
        [
         "45",
         "2018-09-25 00:00:00",
         "B00NH13S44",
         "('Electronics', 'Computers & Accessories', 'Computer Accessories & Peripherals', 'Cables & Accessories', 'Cables & Interconnects', 'USB Cables')",
         "R_25SbPPTyE45YzXP",
         "COMPUTER_ADD_ON",
         "3.0",
         "127.32"
        ],
        [
         "46",
         "2019-09-02 00:00:00",
         "B00NH13S44",
         "('Electronics', 'Computers & Accessories', 'Computer Accessories & Peripherals', 'Cables & Accessories', 'Cables & Interconnects', 'USB Cables')",
         "R_2AHiSANbVno9jis",
         "COMPUTER_ADD_ON",
         "3.0",
         "127.32"
        ],
        [
         "47",
         "2019-09-02 00:00:00",
         "B00NH13S44",
         "('Electronics', 'Computers & Accessories', 'Computer Accessories & Peripherals', 'Cables & Accessories', 'Cables & Interconnects', 'USB Cables')",
         "R_2Cq5Z4QKdtxJfTn",
         "COMPUTER_ADD_ON",
         "3.0",
         "127.32"
        ],
        [
         "48",
         "2020-02-04 00:00:00",
         "B00NH13S44",
         "('Electronics', 'Computers & Accessories', 'Computer Accessories & Peripherals', 'Cables & Accessories', 'Cables & Interconnects', 'USB Cables')",
         "R_2ZHvij28yPTjxOE",
         "COMPUTER_ADD_ON",
         "3.0",
         "127.32"
        ],
        [
         "49",
         "2019-06-28 00:00:00",
         "B00NH13S44",
         "('Electronics', 'Computers & Accessories', 'Computer Accessories & Peripherals', 'Cables & Accessories', 'Cables & Interconnects', 'USB Cables')",
         "R_2rpTh0K62y8ySKs",
         "COMPUTER_ADD_ON",
         "3.0",
         "127.32"
        ]
       ],
       "shape": {
        "columns": 7,
        "rows": 1593075
       }
      },
      "text/html": [
       "<div>\n",
       "<style scoped>\n",
       "    .dataframe tbody tr th:only-of-type {\n",
       "        vertical-align: middle;\n",
       "    }\n",
       "\n",
       "    .dataframe tbody tr th {\n",
       "        vertical-align: top;\n",
       "    }\n",
       "\n",
       "    .dataframe thead th {\n",
       "        text-align: right;\n",
       "    }\n",
       "</style>\n",
       "<table border=\"1\" class=\"dataframe\">\n",
       "  <thead>\n",
       "    <tr style=\"text-align: right;\">\n",
       "      <th></th>\n",
       "      <th>Order Date</th>\n",
       "      <th>ASIN</th>\n",
       "      <th>Category</th>\n",
       "      <th>Survey ResponseID</th>\n",
       "      <th>Category_Origin</th>\n",
       "      <th>cluster</th>\n",
       "      <th>lower_95CI</th>\n",
       "    </tr>\n",
       "  </thead>\n",
       "  <tbody>\n",
       "    <tr>\n",
       "      <th>0</th>\n",
       "      <td>2018-12-04</td>\n",
       "      <td>B0143RTB1E</td>\n",
       "      <td>(Electronics, Computers &amp; Accessories, Compute...</td>\n",
       "      <td>R_01vNIayewjIIKMF</td>\n",
       "      <td>FLASH_MEMORY</td>\n",
       "      <td>3.0</td>\n",
       "      <td>127.32</td>\n",
       "    </tr>\n",
       "    <tr>\n",
       "      <th>1</th>\n",
       "      <td>2018-04-22</td>\n",
       "      <td>B0143RTB1E</td>\n",
       "      <td>(Electronics, Computers &amp; Accessories, Compute...</td>\n",
       "      <td>R_1LYvldXrvEt6Cel</td>\n",
       "      <td>FLASH_MEMORY</td>\n",
       "      <td>3.0</td>\n",
       "      <td>127.32</td>\n",
       "    </tr>\n",
       "    <tr>\n",
       "      <th>2</th>\n",
       "      <td>2020-01-10</td>\n",
       "      <td>B0143RTB1E</td>\n",
       "      <td>(Electronics, Computers &amp; Accessories, Compute...</td>\n",
       "      <td>R_1QoPHtffEy2UzWJ</td>\n",
       "      <td>FLASH_MEMORY</td>\n",
       "      <td>3.0</td>\n",
       "      <td>127.32</td>\n",
       "    </tr>\n",
       "    <tr>\n",
       "      <th>3</th>\n",
       "      <td>2018-02-27</td>\n",
       "      <td>B0143RTB1E</td>\n",
       "      <td>(Electronics, Computers &amp; Accessories, Compute...</td>\n",
       "      <td>R_1q4eVtHN10S5gPB</td>\n",
       "      <td>FLASH_MEMORY</td>\n",
       "      <td>3.0</td>\n",
       "      <td>127.32</td>\n",
       "    </tr>\n",
       "    <tr>\n",
       "      <th>4</th>\n",
       "      <td>2018-10-06</td>\n",
       "      <td>B0143RTB1E</td>\n",
       "      <td>(Electronics, Computers &amp; Accessories, Compute...</td>\n",
       "      <td>R_1rpKvwP7VAtzJqH</td>\n",
       "      <td>FLASH_MEMORY</td>\n",
       "      <td>3.0</td>\n",
       "      <td>127.32</td>\n",
       "    </tr>\n",
       "    <tr>\n",
       "      <th>...</th>\n",
       "      <td>...</td>\n",
       "      <td>...</td>\n",
       "      <td>...</td>\n",
       "      <td>...</td>\n",
       "      <td>...</td>\n",
       "      <td>...</td>\n",
       "      <td>...</td>\n",
       "    </tr>\n",
       "    <tr>\n",
       "      <th>1593070</th>\n",
       "      <td>2019-03-05</td>\n",
       "      <td>1475025289</td>\n",
       "      <td>(Books, Religion &amp; Spirituality, Worship &amp; Dev...</td>\n",
       "      <td>R_zfqnsBzlOAKibzb</td>\n",
       "      <td>ABIS_BOOK</td>\n",
       "      <td>4.0</td>\n",
       "      <td>11.38</td>\n",
       "    </tr>\n",
       "    <tr>\n",
       "      <th>1593071</th>\n",
       "      <td>2019-04-10</td>\n",
       "      <td>B001G0LC1E</td>\n",
       "      <td>(Movies &amp; TV, Featured Categories, DVD, Comedy)</td>\n",
       "      <td>R_zfqnsBzlOAKibzb</td>\n",
       "      <td>PHYSICAL_MOVIE</td>\n",
       "      <td>4.0</td>\n",
       "      <td>11.38</td>\n",
       "    </tr>\n",
       "    <tr>\n",
       "      <th>1593072</th>\n",
       "      <td>2019-06-04</td>\n",
       "      <td>0674362810</td>\n",
       "      <td>(Books, History, World, Religious, General)</td>\n",
       "      <td>R_zfqnsBzlOAKibzb</td>\n",
       "      <td>ABIS_BOOK</td>\n",
       "      <td>4.0</td>\n",
       "      <td>11.38</td>\n",
       "    </tr>\n",
       "    <tr>\n",
       "      <th>1593073</th>\n",
       "      <td>2019-06-04</td>\n",
       "      <td>B0000Y7L7G</td>\n",
       "      <td>(Home &amp; Kitchen, Kitchen &amp; Dining, Kitchen Ute...</td>\n",
       "      <td>R_zfqnsBzlOAKibzb</td>\n",
       "      <td>BISS</td>\n",
       "      <td>4.0</td>\n",
       "      <td>11.38</td>\n",
       "    </tr>\n",
       "    <tr>\n",
       "      <th>1593074</th>\n",
       "      <td>2019-09-30</td>\n",
       "      <td>0807057932</td>\n",
       "      <td>(Books, Politics &amp; Social Sciences, Philosophy...</td>\n",
       "      <td>R_zfqnsBzlOAKibzb</td>\n",
       "      <td>ABIS_BOOK</td>\n",
       "      <td>4.0</td>\n",
       "      <td>11.38</td>\n",
       "    </tr>\n",
       "  </tbody>\n",
       "</table>\n",
       "<p>1593075 rows × 7 columns</p>\n",
       "</div>"
      ],
      "text/plain": [
       "        Order Date        ASIN  \\\n",
       "0       2018-12-04  B0143RTB1E   \n",
       "1       2018-04-22  B0143RTB1E   \n",
       "2       2020-01-10  B0143RTB1E   \n",
       "3       2018-02-27  B0143RTB1E   \n",
       "4       2018-10-06  B0143RTB1E   \n",
       "...            ...         ...   \n",
       "1593070 2019-03-05  1475025289   \n",
       "1593071 2019-04-10  B001G0LC1E   \n",
       "1593072 2019-06-04  0674362810   \n",
       "1593073 2019-06-04  B0000Y7L7G   \n",
       "1593074 2019-09-30  0807057932   \n",
       "\n",
       "                                                  Category  Survey ResponseID  \\\n",
       "0        (Electronics, Computers & Accessories, Compute...  R_01vNIayewjIIKMF   \n",
       "1        (Electronics, Computers & Accessories, Compute...  R_1LYvldXrvEt6Cel   \n",
       "2        (Electronics, Computers & Accessories, Compute...  R_1QoPHtffEy2UzWJ   \n",
       "3        (Electronics, Computers & Accessories, Compute...  R_1q4eVtHN10S5gPB   \n",
       "4        (Electronics, Computers & Accessories, Compute...  R_1rpKvwP7VAtzJqH   \n",
       "...                                                    ...                ...   \n",
       "1593070  (Books, Religion & Spirituality, Worship & Dev...  R_zfqnsBzlOAKibzb   \n",
       "1593071    (Movies & TV, Featured Categories, DVD, Comedy)  R_zfqnsBzlOAKibzb   \n",
       "1593072        (Books, History, World, Religious, General)  R_zfqnsBzlOAKibzb   \n",
       "1593073  (Home & Kitchen, Kitchen & Dining, Kitchen Ute...  R_zfqnsBzlOAKibzb   \n",
       "1593074  (Books, Politics & Social Sciences, Philosophy...  R_zfqnsBzlOAKibzb   \n",
       "\n",
       "        Category_Origin  cluster  lower_95CI  \n",
       "0          FLASH_MEMORY      3.0      127.32  \n",
       "1          FLASH_MEMORY      3.0      127.32  \n",
       "2          FLASH_MEMORY      3.0      127.32  \n",
       "3          FLASH_MEMORY      3.0      127.32  \n",
       "4          FLASH_MEMORY      3.0      127.32  \n",
       "...                 ...      ...         ...  \n",
       "1593070       ABIS_BOOK      4.0       11.38  \n",
       "1593071  PHYSICAL_MOVIE      4.0       11.38  \n",
       "1593072       ABIS_BOOK      4.0       11.38  \n",
       "1593073            BISS      4.0       11.38  \n",
       "1593074       ABIS_BOOK      4.0       11.38  \n",
       "\n",
       "[1593075 rows x 7 columns]"
      ]
     },
     "execution_count": 177,
     "metadata": {},
     "output_type": "execute_result"
    }
   ],
   "source": [
    "df_completed = df_cluster.merge(ci_df[['cluster','lower_95CI']], on = 'cluster', how = 'inner')\n",
    "df_completed"
   ]
  },
  {
   "cell_type": "code",
   "execution_count": 180,
   "id": "63ca53b1",
   "metadata": {},
   "outputs": [
    {
     "data": {
      "application/vnd.microsoft.datawrangler.viewer.v0+json": {
       "columns": [
        {
         "name": "index",
         "rawType": "int64",
         "type": "integer"
        },
        {
         "name": "Order Date",
         "rawType": "datetime64[ns]",
         "type": "datetime"
        },
        {
         "name": "ASIN/ISBN (Product Code)",
         "rawType": "object",
         "type": "string"
        },
        {
         "name": "Category",
         "rawType": "object",
         "type": "unknown"
        },
        {
         "name": "Survey ResponseID",
         "rawType": "object",
         "type": "string"
        },
        {
         "name": "Purchase_Cycle",
         "rawType": "float64",
         "type": "float"
        }
       ],
       "ref": "d4299bf5-ea28-41d6-857e-e2c11b668067",
       "rows": [
        [
         "0",
         "2018-12-04 00:00:00",
         "B0143RTB1E",
         "('Electronics', 'Computers & Accessories', 'Computer Accessories & Peripherals', 'Memory Cards', 'SD Cards')",
         "R_01vNIayewjIIKMF",
         "127.32"
        ],
        [
         "1",
         "2018-04-22 00:00:00",
         "B0143RTB1E",
         "('Electronics', 'Computers & Accessories', 'Computer Accessories & Peripherals', 'Memory Cards', 'SD Cards')",
         "R_1LYvldXrvEt6Cel",
         "127.32"
        ],
        [
         "2",
         "2020-01-10 00:00:00",
         "B0143RTB1E",
         "('Electronics', 'Computers & Accessories', 'Computer Accessories & Peripherals', 'Memory Cards', 'SD Cards')",
         "R_1QoPHtffEy2UzWJ",
         "127.32"
        ],
        [
         "3",
         "2018-02-27 00:00:00",
         "B0143RTB1E",
         "('Electronics', 'Computers & Accessories', 'Computer Accessories & Peripherals', 'Memory Cards', 'SD Cards')",
         "R_1q4eVtHN10S5gPB",
         "127.32"
        ],
        [
         "4",
         "2018-10-06 00:00:00",
         "B0143RTB1E",
         "('Electronics', 'Computers & Accessories', 'Computer Accessories & Peripherals', 'Memory Cards', 'SD Cards')",
         "R_1rpKvwP7VAtzJqH",
         "127.32"
        ],
        [
         "5",
         "2018-08-25 00:00:00",
         "B0143RTB1E",
         "('Electronics', 'Computers & Accessories', 'Computer Accessories & Peripherals', 'Memory Cards', 'SD Cards')",
         "R_2V7HVsDu8mbPFDf",
         "127.32"
        ],
        [
         "6",
         "2019-03-13 00:00:00",
         "B0143RTB1E",
         "('Electronics', 'Computers & Accessories', 'Computer Accessories & Peripherals', 'Memory Cards', 'SD Cards')",
         "R_2XpoQZjmJ9BOKQR",
         "127.32"
        ],
        [
         "7",
         "2018-01-22 00:00:00",
         "B0143RTB1E",
         "('Electronics', 'Computers & Accessories', 'Computer Accessories & Peripherals', 'Memory Cards', 'SD Cards')",
         "R_2z6LiVVvQldVrWh",
         "127.32"
        ],
        [
         "8",
         "2019-07-14 00:00:00",
         "B0143RTB1E",
         "('Electronics', 'Computers & Accessories', 'Computer Accessories & Peripherals', 'Memory Cards', 'SD Cards')",
         "R_O6ZX76mggPnAOfD",
         "127.32"
        ],
        [
         "9",
         "2018-12-22 00:00:00",
         "B01MA1MJ6H",
         "('Electronics', 'Headphones, Earbuds & Accessories', 'Headphones & Earbuds', 'Earbud Headphones')",
         "R_01vNIayewjIIKMF",
         "127.32"
        ],
        [
         "10",
         "2019-05-16 00:00:00",
         "B01MA1MJ6H",
         "('Electronics', 'Headphones, Earbuds & Accessories', 'Headphones & Earbuds', 'Earbud Headphones')",
         "R_01vNIayewjIIKMF",
         "127.32"
        ],
        [
         "11",
         "2019-06-25 00:00:00",
         "B01MA1MJ6H",
         "('Electronics', 'Headphones, Earbuds & Accessories', 'Headphones & Earbuds', 'Earbud Headphones')",
         "R_01vNIayewjIIKMF",
         "127.32"
        ],
        [
         "12",
         "2019-12-20 00:00:00",
         "B01MA1MJ6H",
         "('Electronics', 'Headphones, Earbuds & Accessories', 'Headphones & Earbuds', 'Earbud Headphones')",
         "R_01vNIayewjIIKMF",
         "127.32"
        ],
        [
         "13",
         "2020-04-15 00:00:00",
         "B01MA1MJ6H",
         "('Electronics', 'Headphones, Earbuds & Accessories', 'Headphones & Earbuds', 'Earbud Headphones')",
         "R_01vNIayewjIIKMF",
         "127.32"
        ],
        [
         "14",
         "2020-05-21 00:00:00",
         "B01MA1MJ6H",
         "('Electronics', 'Headphones, Earbuds & Accessories', 'Headphones & Earbuds', 'Earbud Headphones')",
         "R_01vNIayewjIIKMF",
         "127.32"
        ],
        [
         "15",
         "2021-02-12 00:00:00",
         "B01MA1MJ6H",
         "('Electronics', 'Headphones, Earbuds & Accessories', 'Headphones & Earbuds', 'Earbud Headphones')",
         "R_01vNIayewjIIKMF",
         "127.32"
        ],
        [
         "16",
         "2021-05-31 00:00:00",
         "B01MA1MJ6H",
         "('Electronics', 'Headphones, Earbuds & Accessories', 'Headphones & Earbuds', 'Earbud Headphones')",
         "R_01vNIayewjIIKMF",
         "127.32"
        ],
        [
         "17",
         "2022-05-26 00:00:00",
         "B01MA1MJ6H",
         "('Electronics', 'Headphones, Earbuds & Accessories', 'Headphones & Earbuds', 'Earbud Headphones')",
         "R_01vNIayewjIIKMF",
         "127.32"
        ],
        [
         "18",
         "2020-03-01 00:00:00",
         "B01MA1MJ6H",
         "('Electronics', 'Headphones, Earbuds & Accessories', 'Headphones & Earbuds', 'Earbud Headphones')",
         "R_129jUlsvVcVBDur",
         "127.32"
        ],
        [
         "19",
         "2020-08-22 00:00:00",
         "B01MA1MJ6H",
         "('Electronics', 'Headphones, Earbuds & Accessories', 'Headphones & Earbuds', 'Earbud Headphones')",
         "R_129jUlsvVcVBDur",
         "127.32"
        ],
        [
         "20",
         "2021-02-08 00:00:00",
         "B01MA1MJ6H",
         "('Electronics', 'Headphones, Earbuds & Accessories', 'Headphones & Earbuds', 'Earbud Headphones')",
         "R_129jUlsvVcVBDur",
         "127.32"
        ],
        [
         "21",
         "2021-05-30 00:00:00",
         "B01MA1MJ6H",
         "('Electronics', 'Headphones, Earbuds & Accessories', 'Headphones & Earbuds', 'Earbud Headphones')",
         "R_1eDabE58dk65Lyy",
         "127.32"
        ],
        [
         "22",
         "2019-06-04 00:00:00",
         "B01MA1MJ6H",
         "('Electronics', 'Headphones, Earbuds & Accessories', 'Headphones & Earbuds', 'Earbud Headphones')",
         "R_25SbPPTyE45YzXP",
         "127.32"
        ],
        [
         "23",
         "2020-06-15 00:00:00",
         "B01MA1MJ6H",
         "('Electronics', 'Headphones, Earbuds & Accessories', 'Headphones & Earbuds', 'Earbud Headphones')",
         "R_2SiVXI2QZ5GDasH",
         "127.32"
        ],
        [
         "24",
         "2020-11-20 00:00:00",
         "B01MA1MJ6H",
         "('Electronics', 'Headphones, Earbuds & Accessories', 'Headphones & Earbuds', 'Earbud Headphones')",
         "R_2tajYnRL3lW3Bri",
         "127.32"
        ],
        [
         "25",
         "2021-02-20 00:00:00",
         "B01MA1MJ6H",
         "('Electronics', 'Headphones, Earbuds & Accessories', 'Headphones & Earbuds', 'Earbud Headphones')",
         "R_2tajYnRL3lW3Bri",
         "127.32"
        ],
        [
         "26",
         "2019-03-03 00:00:00",
         "B01MA1MJ6H",
         "('Electronics', 'Headphones, Earbuds & Accessories', 'Headphones & Earbuds', 'Earbud Headphones')",
         "R_3KI0Q5yJYxm1woD",
         "127.32"
        ],
        [
         "27",
         "2020-11-23 00:00:00",
         "B01MA1MJ6H",
         "('Electronics', 'Headphones, Earbuds & Accessories', 'Headphones & Earbuds', 'Earbud Headphones')",
         "R_3nJBlarikgnKpF2",
         "127.32"
        ],
        [
         "28",
         "2020-01-30 00:00:00",
         "B01MA1MJ6H",
         "('Electronics', 'Headphones, Earbuds & Accessories', 'Headphones & Earbuds', 'Earbud Headphones')",
         "R_3p4tQBL8E8GkXCI",
         "127.32"
        ],
        [
         "29",
         "2022-09-13 00:00:00",
         "B01MA1MJ6H",
         "('Electronics', 'Headphones, Earbuds & Accessories', 'Headphones & Earbuds', 'Earbud Headphones')",
         "R_RekNI4I8FXKS9lT",
         "127.32"
        ],
        [
         "30",
         "2022-03-03 00:00:00",
         "B01MA1MJ6H",
         "('Electronics', 'Headphones, Earbuds & Accessories', 'Headphones & Earbuds', 'Earbud Headphones')",
         "R_xayV525B1zHdFG9",
         "127.32"
        ],
        [
         "31",
         "2022-07-12 00:00:00",
         "B01MA1MJ6H",
         "('Electronics', 'Headphones, Earbuds & Accessories', 'Headphones & Earbuds', 'Earbud Headphones')",
         "R_xayV525B1zHdFG9",
         "127.32"
        ],
        [
         "32",
         "2019-02-18 00:00:00",
         "B01GFB2E9M",
         "('Electronics', 'Computers & Accessories', 'Computer Accessories & Peripherals', 'Cables & Accessories', 'Cables & Interconnects', 'USB Cables')",
         "R_01vNIayewjIIKMF",
         "127.32"
        ],
        [
         "33",
         "2018-03-14 00:00:00",
         "B01GFB2E9M",
         "('Electronics', 'Computers & Accessories', 'Computer Accessories & Peripherals', 'Cables & Accessories', 'Cables & Interconnects', 'USB Cables')",
         "R_1LUaD6cuon5njXD",
         "127.32"
        ],
        [
         "34",
         "2021-05-03 00:00:00",
         "B01GFB2E9M",
         "('Electronics', 'Computers & Accessories', 'Computer Accessories & Peripherals', 'Cables & Accessories', 'Cables & Interconnects', 'USB Cables')",
         "R_1mC1GkAuzW7JKI5",
         "127.32"
        ],
        [
         "35",
         "2018-06-06 00:00:00",
         "B01GFB2E9M",
         "('Electronics', 'Computers & Accessories', 'Computer Accessories & Peripherals', 'Cables & Accessories', 'Cables & Interconnects', 'USB Cables')",
         "R_3O1i61TeOWPvr69",
         "127.32"
        ],
        [
         "36",
         "2020-01-28 00:00:00",
         "B01GFB2E9M",
         "('Electronics', 'Computers & Accessories', 'Computer Accessories & Peripherals', 'Cables & Accessories', 'Cables & Interconnects', 'USB Cables')",
         "R_blmQEhOrCwpqG4x",
         "127.32"
        ],
        [
         "37",
         "2019-02-18 00:00:00",
         "B00NH13S44",
         "('Electronics', 'Computers & Accessories', 'Computer Accessories & Peripherals', 'Cables & Accessories', 'Cables & Interconnects', 'USB Cables')",
         "R_01vNIayewjIIKMF",
         "127.32"
        ],
        [
         "38",
         "2019-05-16 00:00:00",
         "B00NH13S44",
         "('Electronics', 'Computers & Accessories', 'Computer Accessories & Peripherals', 'Cables & Accessories', 'Cables & Interconnects', 'USB Cables')",
         "R_1It3uPOCs8UZVMn",
         "127.32"
        ],
        [
         "39",
         "2022-11-06 00:00:00",
         "B00NH13S44",
         "('Electronics', 'Computers & Accessories', 'Computer Accessories & Peripherals', 'Cables & Accessories', 'Cables & Interconnects', 'USB Cables')",
         "R_1gSeKWi6I0848rp",
         "127.32"
        ],
        [
         "40",
         "2020-08-27 00:00:00",
         "B00NH13S44",
         "('Electronics', 'Computers & Accessories', 'Computer Accessories & Peripherals', 'Cables & Accessories', 'Cables & Interconnects', 'USB Cables')",
         "R_1k1zPs6FKsqm1Ib",
         "127.32"
        ],
        [
         "41",
         "2018-04-16 00:00:00",
         "B00NH13S44",
         "('Electronics', 'Computers & Accessories', 'Computer Accessories & Peripherals', 'Cables & Accessories', 'Cables & Interconnects', 'USB Cables')",
         "R_1kMSPTD9ssCD0Qg",
         "127.32"
        ],
        [
         "42",
         "2022-08-29 00:00:00",
         "B00NH13S44",
         "('Electronics', 'Computers & Accessories', 'Computer Accessories & Peripherals', 'Cables & Accessories', 'Cables & Interconnects', 'USB Cables')",
         "R_1o76EOS42TBWhZ1",
         "127.32"
        ],
        [
         "43",
         "2020-11-21 00:00:00",
         "B00NH13S44",
         "('Electronics', 'Computers & Accessories', 'Computer Accessories & Peripherals', 'Cables & Accessories', 'Cables & Interconnects', 'USB Cables')",
         "R_1rr9XOz2pHFyWi3",
         "127.32"
        ],
        [
         "44",
         "2020-11-07 00:00:00",
         "B00NH13S44",
         "('Electronics', 'Computers & Accessories', 'Computer Accessories & Peripherals', 'Cables & Accessories', 'Cables & Interconnects', 'USB Cables')",
         "R_20MRqdCxs3CJOBI",
         "127.32"
        ],
        [
         "45",
         "2018-09-25 00:00:00",
         "B00NH13S44",
         "('Electronics', 'Computers & Accessories', 'Computer Accessories & Peripherals', 'Cables & Accessories', 'Cables & Interconnects', 'USB Cables')",
         "R_25SbPPTyE45YzXP",
         "127.32"
        ],
        [
         "46",
         "2019-09-02 00:00:00",
         "B00NH13S44",
         "('Electronics', 'Computers & Accessories', 'Computer Accessories & Peripherals', 'Cables & Accessories', 'Cables & Interconnects', 'USB Cables')",
         "R_2AHiSANbVno9jis",
         "127.32"
        ],
        [
         "47",
         "2019-09-02 00:00:00",
         "B00NH13S44",
         "('Electronics', 'Computers & Accessories', 'Computer Accessories & Peripherals', 'Cables & Accessories', 'Cables & Interconnects', 'USB Cables')",
         "R_2Cq5Z4QKdtxJfTn",
         "127.32"
        ],
        [
         "48",
         "2020-02-04 00:00:00",
         "B00NH13S44",
         "('Electronics', 'Computers & Accessories', 'Computer Accessories & Peripherals', 'Cables & Accessories', 'Cables & Interconnects', 'USB Cables')",
         "R_2ZHvij28yPTjxOE",
         "127.32"
        ],
        [
         "49",
         "2019-06-28 00:00:00",
         "B00NH13S44",
         "('Electronics', 'Computers & Accessories', 'Computer Accessories & Peripherals', 'Cables & Accessories', 'Cables & Interconnects', 'USB Cables')",
         "R_2rpTh0K62y8ySKs",
         "127.32"
        ]
       ],
       "shape": {
        "columns": 5,
        "rows": 1593075
       }
      },
      "text/html": [
       "<div>\n",
       "<style scoped>\n",
       "    .dataframe tbody tr th:only-of-type {\n",
       "        vertical-align: middle;\n",
       "    }\n",
       "\n",
       "    .dataframe tbody tr th {\n",
       "        vertical-align: top;\n",
       "    }\n",
       "\n",
       "    .dataframe thead th {\n",
       "        text-align: right;\n",
       "    }\n",
       "</style>\n",
       "<table border=\"1\" class=\"dataframe\">\n",
       "  <thead>\n",
       "    <tr style=\"text-align: right;\">\n",
       "      <th></th>\n",
       "      <th>Order Date</th>\n",
       "      <th>ASIN/ISBN (Product Code)</th>\n",
       "      <th>Category</th>\n",
       "      <th>Survey ResponseID</th>\n",
       "      <th>Purchase_Cycle</th>\n",
       "    </tr>\n",
       "  </thead>\n",
       "  <tbody>\n",
       "    <tr>\n",
       "      <th>0</th>\n",
       "      <td>2018-12-04</td>\n",
       "      <td>B0143RTB1E</td>\n",
       "      <td>(Electronics, Computers &amp; Accessories, Compute...</td>\n",
       "      <td>R_01vNIayewjIIKMF</td>\n",
       "      <td>127.32</td>\n",
       "    </tr>\n",
       "    <tr>\n",
       "      <th>1</th>\n",
       "      <td>2018-04-22</td>\n",
       "      <td>B0143RTB1E</td>\n",
       "      <td>(Electronics, Computers &amp; Accessories, Compute...</td>\n",
       "      <td>R_1LYvldXrvEt6Cel</td>\n",
       "      <td>127.32</td>\n",
       "    </tr>\n",
       "    <tr>\n",
       "      <th>2</th>\n",
       "      <td>2020-01-10</td>\n",
       "      <td>B0143RTB1E</td>\n",
       "      <td>(Electronics, Computers &amp; Accessories, Compute...</td>\n",
       "      <td>R_1QoPHtffEy2UzWJ</td>\n",
       "      <td>127.32</td>\n",
       "    </tr>\n",
       "    <tr>\n",
       "      <th>3</th>\n",
       "      <td>2018-02-27</td>\n",
       "      <td>B0143RTB1E</td>\n",
       "      <td>(Electronics, Computers &amp; Accessories, Compute...</td>\n",
       "      <td>R_1q4eVtHN10S5gPB</td>\n",
       "      <td>127.32</td>\n",
       "    </tr>\n",
       "    <tr>\n",
       "      <th>4</th>\n",
       "      <td>2018-10-06</td>\n",
       "      <td>B0143RTB1E</td>\n",
       "      <td>(Electronics, Computers &amp; Accessories, Compute...</td>\n",
       "      <td>R_1rpKvwP7VAtzJqH</td>\n",
       "      <td>127.32</td>\n",
       "    </tr>\n",
       "    <tr>\n",
       "      <th>...</th>\n",
       "      <td>...</td>\n",
       "      <td>...</td>\n",
       "      <td>...</td>\n",
       "      <td>...</td>\n",
       "      <td>...</td>\n",
       "    </tr>\n",
       "    <tr>\n",
       "      <th>1593070</th>\n",
       "      <td>2019-03-05</td>\n",
       "      <td>1475025289</td>\n",
       "      <td>(Books, Religion &amp; Spirituality, Worship &amp; Dev...</td>\n",
       "      <td>R_zfqnsBzlOAKibzb</td>\n",
       "      <td>11.38</td>\n",
       "    </tr>\n",
       "    <tr>\n",
       "      <th>1593071</th>\n",
       "      <td>2019-04-10</td>\n",
       "      <td>B001G0LC1E</td>\n",
       "      <td>(Movies &amp; TV, Featured Categories, DVD, Comedy)</td>\n",
       "      <td>R_zfqnsBzlOAKibzb</td>\n",
       "      <td>11.38</td>\n",
       "    </tr>\n",
       "    <tr>\n",
       "      <th>1593072</th>\n",
       "      <td>2019-06-04</td>\n",
       "      <td>0674362810</td>\n",
       "      <td>(Books, History, World, Religious, General)</td>\n",
       "      <td>R_zfqnsBzlOAKibzb</td>\n",
       "      <td>11.38</td>\n",
       "    </tr>\n",
       "    <tr>\n",
       "      <th>1593073</th>\n",
       "      <td>2019-06-04</td>\n",
       "      <td>B0000Y7L7G</td>\n",
       "      <td>(Home &amp; Kitchen, Kitchen &amp; Dining, Kitchen Ute...</td>\n",
       "      <td>R_zfqnsBzlOAKibzb</td>\n",
       "      <td>11.38</td>\n",
       "    </tr>\n",
       "    <tr>\n",
       "      <th>1593074</th>\n",
       "      <td>2019-09-30</td>\n",
       "      <td>0807057932</td>\n",
       "      <td>(Books, Politics &amp; Social Sciences, Philosophy...</td>\n",
       "      <td>R_zfqnsBzlOAKibzb</td>\n",
       "      <td>11.38</td>\n",
       "    </tr>\n",
       "  </tbody>\n",
       "</table>\n",
       "<p>1593075 rows × 5 columns</p>\n",
       "</div>"
      ],
      "text/plain": [
       "        Order Date ASIN/ISBN (Product Code)  \\\n",
       "0       2018-12-04               B0143RTB1E   \n",
       "1       2018-04-22               B0143RTB1E   \n",
       "2       2020-01-10               B0143RTB1E   \n",
       "3       2018-02-27               B0143RTB1E   \n",
       "4       2018-10-06               B0143RTB1E   \n",
       "...            ...                      ...   \n",
       "1593070 2019-03-05               1475025289   \n",
       "1593071 2019-04-10               B001G0LC1E   \n",
       "1593072 2019-06-04               0674362810   \n",
       "1593073 2019-06-04               B0000Y7L7G   \n",
       "1593074 2019-09-30               0807057932   \n",
       "\n",
       "                                                  Category  Survey ResponseID  \\\n",
       "0        (Electronics, Computers & Accessories, Compute...  R_01vNIayewjIIKMF   \n",
       "1        (Electronics, Computers & Accessories, Compute...  R_1LYvldXrvEt6Cel   \n",
       "2        (Electronics, Computers & Accessories, Compute...  R_1QoPHtffEy2UzWJ   \n",
       "3        (Electronics, Computers & Accessories, Compute...  R_1q4eVtHN10S5gPB   \n",
       "4        (Electronics, Computers & Accessories, Compute...  R_1rpKvwP7VAtzJqH   \n",
       "...                                                    ...                ...   \n",
       "1593070  (Books, Religion & Spirituality, Worship & Dev...  R_zfqnsBzlOAKibzb   \n",
       "1593071    (Movies & TV, Featured Categories, DVD, Comedy)  R_zfqnsBzlOAKibzb   \n",
       "1593072        (Books, History, World, Religious, General)  R_zfqnsBzlOAKibzb   \n",
       "1593073  (Home & Kitchen, Kitchen & Dining, Kitchen Ute...  R_zfqnsBzlOAKibzb   \n",
       "1593074  (Books, Politics & Social Sciences, Philosophy...  R_zfqnsBzlOAKibzb   \n",
       "\n",
       "         Purchase_Cycle  \n",
       "0                127.32  \n",
       "1                127.32  \n",
       "2                127.32  \n",
       "3                127.32  \n",
       "4                127.32  \n",
       "...                 ...  \n",
       "1593070           11.38  \n",
       "1593071           11.38  \n",
       "1593072           11.38  \n",
       "1593073           11.38  \n",
       "1593074           11.38  \n",
       "\n",
       "[1593075 rows x 5 columns]"
      ]
     },
     "execution_count": 180,
     "metadata": {},
     "output_type": "execute_result"
    }
   ],
   "source": [
    "final = df_completed.rename(columns = {'lower_95CI' : 'Purchase_Cycle', 'ASIN' : 'ASIN/ISBN (Product Code)'}).drop(['Category_Origin', 'cluster'], axis = 1)\n",
    "final"
   ]
  },
  {
   "cell_type": "code",
   "execution_count": 183,
   "id": "011e27cb",
   "metadata": {},
   "outputs": [],
   "source": [
    "final.to_csv('Purchase_Cycle.csv', index = False)"
   ]
  },
  {
   "cell_type": "code",
   "execution_count": null,
   "id": "faedc650",
   "metadata": {},
   "outputs": [],
   "source": []
  }
 ],
 "metadata": {
  "kernelspec": {
   "display_name": "base",
   "language": "python",
   "name": "python3"
  },
  "language_info": {
   "codemirror_mode": {
    "name": "ipython",
    "version": 3
   },
   "file_extension": ".py",
   "mimetype": "text/x-python",
   "name": "python",
   "nbconvert_exporter": "python",
   "pygments_lexer": "ipython3",
   "version": "3.11.7"
  }
 },
 "nbformat": 4,
 "nbformat_minor": 5
}
